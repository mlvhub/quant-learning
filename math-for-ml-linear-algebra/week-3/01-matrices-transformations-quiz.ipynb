{
 "cells": [
  {
   "cell_type": "code",
   "execution_count": 1,
   "metadata": {},
   "outputs": [],
   "source": [
    "import numpy as np"
   ]
  },
  {
   "cell_type": "markdown",
   "metadata": {},
   "source": [
    "## 1"
   ]
  },
  {
   "cell_type": "code",
   "execution_count": 4,
   "metadata": {},
   "outputs": [
    {
     "data": {
      "text/plain": [
       "array([-0.5,  1.5])"
      ]
     },
     "execution_count": 4,
     "metadata": {},
     "output_type": "execute_result"
    }
   ],
   "source": [
    "r = np.array([3, 2])\n",
    "A = np.array([\n",
    "    [1/2, -1],\n",
    "    [0, 3/4]\n",
    "])\n",
    "\n",
    "A.dot(r)"
   ]
  },
  {
   "cell_type": "markdown",
   "metadata": {},
   "source": [
    "## 2"
   ]
  },
  {
   "cell_type": "code",
   "execution_count": 5,
   "metadata": {},
   "outputs": [
    {
     "data": {
      "text/plain": [
       "array([-5.,  3.])"
      ]
     },
     "execution_count": 5,
     "metadata": {},
     "output_type": "execute_result"
    }
   ],
   "source": [
    "s = np.array([-2, 4])\n",
    "A = np.array([\n",
    "    [1/2, -1],\n",
    "    [0, 3/4]\n",
    "])\n",
    "\n",
    "A.dot(s)"
   ]
  },
  {
   "cell_type": "markdown",
   "metadata": {},
   "source": [
    "## 3"
   ]
  },
  {
   "cell_type": "code",
   "execution_count": 7,
   "metadata": {},
   "outputs": [],
   "source": [
    "M = np.array([\n",
    "    [-1/2, 1/2],\n",
    "    [1/2, 1/2]\n",
    "])"
   ]
  },
  {
   "cell_type": "code",
   "execution_count": 8,
   "metadata": {},
   "outputs": [
    {
     "data": {
      "text/plain": [
       "array([-0.5,  0.5])"
      ]
     },
     "execution_count": 8,
     "metadata": {},
     "output_type": "execute_result"
    }
   ],
   "source": [
    "M.dot(np.array([1, 0]))"
   ]
  },
  {
   "cell_type": "code",
   "execution_count": 9,
   "metadata": {},
   "outputs": [
    {
     "data": {
      "text/plain": [
       "array([0.5, 0.5])"
      ]
     },
     "execution_count": 9,
     "metadata": {},
     "output_type": "execute_result"
    }
   ],
   "source": [
    "M.dot(np.array([0, 1]))"
   ]
  },
  {
   "cell_type": "markdown",
   "metadata": {},
   "source": [
    "## 4"
   ]
  },
  {
   "cell_type": "code",
   "execution_count": 16,
   "metadata": {},
   "outputs": [],
   "source": [
    "matrices = [\n",
    "    [\n",
    "        [np.sqrt(3/2), np.sqrt(3/2)],\n",
    "        [1/2, 1/2]\n",
    "    ],\n",
    "    [\n",
    "        [-1/2, 0],\n",
    "        [0, np.sqrt(3/2)]\n",
    "    ],\n",
    "    [\n",
    "        [np.sqrt(3/2), -1/2],\n",
    "        [1/2, np.sqrt(3/2)]\n",
    "    ],\n",
    "    [\n",
    "        [1/2, 0],\n",
    "        [-np.sqrt(3/2), 1/2]\n",
    "    ],\n",
    "]"
   ]
  },
  {
   "cell_type": "code",
   "execution_count": 17,
   "metadata": {},
   "outputs": [
    {
     "name": "stdout",
     "output_type": "stream",
     "text": [
      "[1.22474487 0.5       ]\n",
      "[-0.5  0. ]\n",
      "[1.22474487 0.5       ]\n",
      "[ 0.5        -1.22474487]\n"
     ]
    }
   ],
   "source": [
    "for m in matrices:\n",
    "    print(np.array(m).dot(np.array([1, 0])))"
   ]
  },
  {
   "cell_type": "code",
   "execution_count": 18,
   "metadata": {},
   "outputs": [
    {
     "name": "stdout",
     "output_type": "stream",
     "text": [
      "[1.22474487 0.5       ]\n",
      "[0.         1.22474487]\n",
      "[-0.5         1.22474487]\n",
      "[0.  0.5]\n"
     ]
    }
   ],
   "source": [
    "for m in matrices:\n",
    "    print(np.array(m).dot(np.array([0, 1])))"
   ]
  },
  {
   "cell_type": "markdown",
   "metadata": {},
   "source": [
    "## 5"
   ]
  },
  {
   "cell_type": "code",
   "execution_count": 22,
   "metadata": {},
   "outputs": [
    {
     "data": {
      "text/plain": [
       "array([[ 1.,  0.],\n",
       "       [-4.,  8.]])"
      ]
     },
     "execution_count": 22,
     "metadata": {},
     "output_type": "execute_result"
    }
   ],
   "source": [
    "M1 = np.array([\n",
    "    [1, 0],\n",
    "    [0, 8]\n",
    "])\n",
    "M2 = np.array([\n",
    "    [1, 0],\n",
    "    [-1/2, 1]\n",
    "])\n",
    "\n",
    "M1.dot(M2)"
   ]
  }
 ],
 "metadata": {
  "kernelspec": {
   "display_name": "Python 3 (ipykernel)",
   "language": "python",
   "name": "python3"
  },
  "language_info": {
   "codemirror_mode": {
    "name": "ipython",
    "version": 3
   },
   "file_extension": ".py",
   "mimetype": "text/x-python",
   "name": "python",
   "nbconvert_exporter": "python",
   "pygments_lexer": "ipython3",
   "version": "3.10.9"
  }
 },
 "nbformat": 4,
 "nbformat_minor": 2
}
