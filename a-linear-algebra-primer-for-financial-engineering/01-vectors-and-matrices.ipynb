{
 "cells": [
  {
   "cell_type": "markdown",
   "metadata": {},
   "source": [
    "# Vectors and matrices"
   ]
  },
  {
   "cell_type": "markdown",
   "metadata": {},
   "source": [
    "## 1.1 Column and row vectors. Column form and row form of a matrix.\n",
    "\n",
    "An $n$-dimensional vector $v \\in \\reals^n$ is denoted by $v = (v_i)_{i=1:n}$  and has $n$ components $v_i \\in \\reals$, for $i = 1 : n$.\n",
    "\n",
    "The vector $v = (v_i)_{i=1:n}$ is a **column vector** of size $n$ if\n",
    "\n",
    "$$\n",
    "\\begin{equation}\n",
    "    v = \\begin{pmatrix}\n",
    "        v_1\n",
    "        \\\\\n",
    "        v_2\n",
    "        \\\\\n",
    "        \\vdots\n",
    "        \\\\\n",
    "        v_n\n",
    "    \\end{pmatrix}\n",
    "    \\tag{1.1}\n",
    "\\end{equation}\n",
    "$$\n",
    "\n",
    "A column vector is also called an $n \\times 1$ vector."
   ]
  },
  {
   "cell_type": "markdown",
   "metadata": {},
   "source": [
    "The vector is a **row vector** of size $n$ if\n",
    "\n",
    "$$\n",
    "\\begin{equation}\n",
    "    v^t = (v_1 \\space v_2 \\times v_n)\n",
    "    \\tag{1.2}\n",
    "\\end{equation}\n",
    "$$\n",
    "\n",
    "A row vector is also called an $1 \\times n$ vector."
   ]
  },
  {
   "cell_type": "markdown",
   "metadata": {},
   "source": [
    "An $m \\times n$ matrix $A = (A(j,k))_{j=1:m,k=1:n}$ has $m$ rows and $n$ columns. Rather than using the entry by entry notation above for the matrix $A$, we will use either a column-based notation (more often), or a row-based notation, both being better suited for numerical computations.\n",
    "\n",
    "The **column form** of the matrix $A$ is\n",
    "\n",
    "$$\n",
    "\\begin{equation}\n",
    "    A = (a_1 | a_2 | \\cdots | a_n) = \\text{col}(a_k)_{k=1:n}\n",
    "    \\tag{1.3}\n",
    "\\end{equation}\n",
    "$$\n",
    "\n",
    "where $a_k$ is the $k$-th column of $A$, $k = 1 : n$."
   ]
  },
  {
   "cell_type": "markdown",
   "metadata": {},
   "source": [
    "The **row form** of the matrix $A$ is\n",
    "\n",
    "$$\n",
    "\\begin{equation}\n",
    "    A = \\begin{pmatrix}\n",
    "        r_1\n",
    "        \\\\\n",
    "        --\n",
    "        \\\\\n",
    "        r_2\n",
    "        \\\\\n",
    "        --\n",
    "        \\\\\n",
    "        \\vdots\n",
    "        \\\\\n",
    "        --\n",
    "        \\\\\n",
    "        r_m\n",
    "    \\end{pmatrix} = \\text{row}(r_j)_{j=1:m}\n",
    "    \\tag{1.4}\n",
    "\\end{equation}\n",
    "$$\n",
    "\n",
    "where $r_j$ is the $j$-th column of $A$, $j = 1 : m$."
   ]
  },
  {
   "cell_type": "markdown",
   "metadata": {},
   "source": [
    "**Row Vector - Column Vector multiplication:**\n",
    "\n",
    "Let $v = (v_i)_{i=1:n}$ be a column vector of size $n$, and let $w^t = (w_1 \\space w_2 \\cdots w_n)$ be a row vector of size $n$. Then,\n",
    "\n",
    "$$\n",
    "\\begin{equation}\n",
    "\n",
    "w^t v = \\sum_{i=1}^n w_i v_i\n",
    "    \\tag{1.5}\n",
    "\\end{equation}\n",
    "$$\n"
   ]
  },
  {
   "cell_type": "markdown",
   "metadata": {},
   "source": [
    "**Column Vector - Row multiplication:**\n",
    "\n",
    "Let $v = (v_j)_{j=i:m}$ be a column vector of size $m$, and let $w^t = (w_1 \\space w_2 \\cdots w_n)$ be a row vector of size $n$. Then, $vw^t$ is an $m \\times n$ matrix with the following entries:\n",
    "\n",
    "$$\n",
    "(vw^t)(j, k) = v_jw_k, \\forall \\space j=1:m, k=1:n\n",
    "\\tag{1.6}\n",
    "$$"
   ]
  },
  {
   "cell_type": "markdown",
   "metadata": {},
   "source": [
    "**Matrix - Column Vector multiplication:**\n",
    "\n",
    "Let $A = col(a_k)_{k=1:n}$ be an $m \\times n$ matrix given by the column form (1.3), and let $v = (v_k)_{k=1:n}$ be a column vector of size $n$ given by (1.1). Then,\n",
    "\n",
    "$$\n",
    "Av = \\sum_{k=1}^n v_k a_k\n",
    "\\tag{1.7}\n",
    "$$\n",
    "\n",
    "The result of the multiplication of column vector $v$ by the matrix $A$ is a column vector $Av$, which is the *linear combination* of the columns of $A$ with coefficients equal to the corresponding entries of $v$.\n",
    "\n",
    "If $A = row(r_j)_{j=1:m}$ is the row form of $A$, then the $j$-th entry of the $m \\times 1$ column vector $Av$ is\n",
    "\n",
    "$$\n",
    "(Av)(j) = r_j v_j, \\forall \\space 1 \\leq j \\leq m\n",
    "\\tag{1.8}\n",
    "$$\n",
    "\n",
    "> Since $r_j$ is a $1 \\times n$ row vector and $v$ is a $n \\times 1$ column vector, it follows from (1.5) that the multiplication from (1.8) can be performed."
   ]
  },
  {
   "cell_type": "markdown",
   "metadata": {},
   "source": [
    "**Row Vector - Matrix multiplication:**\n",
    "\n",
    "Let $A = row(r_j)_{j=i}$ be an $m \\times n$ matrix given by the row form (1.4), and let $w^t = (w_1 \\space w_2 \\cdots w_m)$ be a row vector of size $m$. Then,\n",
    "\n",
    "$$\n",
    "w^tA = \\sum_{j=1}^m w_j r_j \n",
    "\\tag{1.9}\n",
    "$$\n",
    "\n",
    "The result of multiplication of the row vector $w^t$ by the matrix $A$ (from the right) is a row vector $w^t A$ which is the linear combination of the rows of $A$ with coefficients equal to the corresponding entries of $w^t$.\n",
    "\n",
    "If $A = col(a_k)_{k=1:n}$ is the column form of $A$, then the $k$-th entry of the $1 \\times n$ row vector $w^t A$ is\n",
    "\n",
    "$$\n",
    "(w^t A)(k) = w^t a_k, \\forall \\space 1 \\leq k \\leq n\n",
    "\\tag{1.10}\n",
    "$$"
   ]
  },
  {
   "cell_type": "markdown",
   "metadata": {},
   "source": [
    "**Matrix - Matrix multiplication:**\n",
    "\n",
    "(i) Let $A$ be an $m \\times n$ matrix, and let $B$ be an $n \\times p$ matrix given by $B = col(b_k)_{k=1:p}$. Then, $AB$ is the $m \\times p$ matrix given by\n",
    "\n",
    "$$\n",
    "AB = col(Ab_k)_{k=1:p} = (Ab_1 | Ab_2 | \\cdots | Ab_p)\n",
    "\\tag{1.11}\n",
    "$$\n",
    "\n",
    "The result of multiplying the matrices $A$ and $B$ is a matrix whose columns are the columns of $B$ multiplied by the matrix $A$.\n",
    "\n",
    "(i) Let $A$ be an $m \\times n$ matrix given by $A = row(r_j)_{j=1:m}$, and let $B$ be an $n \\times p$ matrix. Then, $AB$ is the $m \\times p$ matrix given by\n",
    "\n",
    "$$\n",
    "AB = row(r_jB)_{j=1:m} = \\begin{pmatrix}\n",
    "    r_1B \\\\\n",
    "    -- \\\\\n",
    "    r_2B \\\\\n",
    "    -- \\\\\n",
    "    \\vdots \\\\\n",
    "    -- \\\\\n",
    "    r_mB \\\\\n",
    "\\end{pmatrix}\n",
    "\\tag{1.12}\n",
    "$$\n",
    "\n",
    "The result of multiplying the matrices $A$ and $B$ is a matrix whose rows are the rows of $A$ multiplied by the matrix $B$.\n",
    "\n",
    "(iii) Let $A$ be an $m \\times b$ matrix given $A = row(r_j)_{j=1:m}$, and let $B$ be an $n \\times p$ matrix given by $B = col(b_k)_{k=1:p}$. Then, $AB$ is the $m \\times p$ matrix whose entries are given by\n",
    "\n",
    "$$\n",
    "(AB)(j,k) = r_jb_k, \\forall \\space j=1:m, k = 1:p\n",
    "\\tag{1.13}\n",
    "$$\n"
   ]
  },
  {
   "cell_type": "markdown",
   "metadata": {},
   "source": [
    "**Matrix - Matrix - Matrix multiplication:**\n",
    "\n",
    "Let $A$ be an $m \\times n$ matrix given by $A = row(r_j)_{j=i:m}$, let $B$ be an $n \\times p$ matrix, and let $C$ be a $p \\times l$ matrix given by $C = col(c_k)_{k=1:l}$. Then, $ABC$ is the $m \\times l$ matrix whose entries are given by\n",
    "\n",
    "$$\n",
    "(ABC)(j,k) = r_j B_{c_k}, \\forall \\space j=1:m,k=1:l\n",
    "\\tag{1.14}\n",
    "$$\n",
    "\n",
    "> Matrix multiplication is associative, i.e., $ABC$ = (AB)C = A(BC)."
   ]
  },
  {
   "cell_type": "markdown",
   "metadata": {},
   "source": [
    "**Definition 1.1.**\n",
    "\n",
    "The transpose of an $n \\times 1$ column vector $v = (v_i)_{i=1:n}$ is the $1 \\times n$ row vector $v^t = (v_1 \\space v_2 \\dots v_n)$. The transpose of an $1 \\times n$ row vector $r = (r_1 \\space r_2 \\dots r_n)$ is the $n \\times 1$ column vector $r^t = (r_i)_{i=1:n}$.\n",
    "\n",
    "Note that\n",
    "\n",
    "$$\n",
    "(cv)^t = cv^t, \\forall \\space v \\in \\reals^n, c \\in \\reals\n",
    "$$"
   ]
  },
  {
   "cell_type": "markdown",
   "metadata": {},
   "source": [
    "**Definition 1.2.**\n",
    "\n",
    "The transpose matrix $A^t$ of an $m \\times n$ matrix $A$ is an $n \\times m$ matrix given by\n",
    "\n",
    "$$\n",
    "A^t(k, j) = A(j,k), \\forall \\space k = 1:n, j = 1:m\n",
    "\\tag{1.16}\n",
    "$$\n",
    "\n",
    "Transposing a column for matrix switches it to row form, and viceversa, as follows:\n",
    "\n",
    "$$\n",
    "A = col(a_k)_{k=1:n} \\iff A^t = row(a^t_k)_{k=1:n}\n",
    "\\tag{1.17}\n",
    "$$\n",
    "\n",
    "$$\n",
    "A = row(r_j)_{j=1:m} \\iff A^t = col(r^t_j)_{j=1:m}\n",
    "\\tag{1.18}\n",
    "$$\n",
    "\n",
    "From (1.16), we find that, for any matrix $A$:,\n",
    "\n",
    "$$\n",
    "(A^t)^t = A\n",
    "\\tag{1.19}\n",
    "$$\n",
    "\n",
    "and, for any matrices $A$ an $B$ of the same size,\n",
    "\n",
    "$$\n",
    "(A + B)^t = A^t + B^t\n",
    "\\tag{1.20}\n",
    "$$"
   ]
  },
  {
   "cell_type": "markdown",
   "metadata": {},
   "source": [
    "**Lemma 1.1.**\n",
    "\n",
    "Let $A$ be an $m \\times n$ matrix and let $v$ be a column vector of size $n$. Then,\n",
    "\n",
    "$$\n",
    "(Av)^t = v^tA^t\n",
    "\\tag{1.21}\n",
    "$$\n",
    "\n",
    "*Proof.* Let $A = col(a_k)_{k=1:n}$ and $v = (v_i)_{i=1:n}$. Then, $Av = \\sum_{i=1}^n v_a a_i$, and\n",
    "\n",
    "$$\n",
    "(Av)^t = (\\sum_{i=1}^n v_i a_i)^t = \\sum_{i=1}^n (v_i a_i)^t = \\sum_{i=1}^n v_i a_i^t\n",
    "\\tag{1.22}\n",
    "$$\n",
    "\n",
    "since $v_i \\in \\reals$; see (1.15).\n",
    "\n",
    "Note that $A^t = row(a_k^t)_{k=1:n}$; cf. (1.17). Then, from (1.9), it follows that\n",
    "\n",
    "$$\n",
    "v^t A^t = \\sum_{i=1}^v v_i a_i^t\n",
    "\\tag{1.23}\n",
    "$$\n",
    "\n",
    "From (1.22) and (1.23), we conclude that $(Av)^t = v^tA^t$."
   ]
  },
  {
   "cell_type": "markdown",
   "metadata": {},
   "source": [
    "**Lemma 1.2.**\n",
    "Let $A$ be an $m \\times n$ matrix and let $B$ be an $n \\times p$ matrix. Then,\n",
    "\n",
    "$$\n",
    "(AB)^t = B^tA^t\n",
    "\\tag{1.24}\n",
    "$$\n",
    "\n",
    "**Proof.** (Page 5)"
   ]
  },
  {
   "cell_type": "markdown",
   "metadata": {},
   "source": [
    "**Definition 1.3.**\n",
    "\n",
    "A matrix with the same number of rows and columns is called a *square matrix*.\n",
    "\n",
    "> An $n \\times n$ matrix is also called a square matrix of size $n$."
   ]
  },
  {
   "cell_type": "markdown",
   "metadata": {},
   "source": [
    "**Definition 1.4.**\n",
    "\n",
    "A square matrix is symmetric if and only if the matrix and its transpose are the same, i.e. $A = A^t$,\n",
    "\n",
    "$$\n",
    "A(j, k) = A(k, j), \\forall 1 \\leq j \\leq k \\leq n;\n",
    "$$\n",
    "\n",
    "> The product of two symmetric matrices is not necessarily a symmetric matrix. See example on page 6.\n",
    "\n",
    "The *identity matrix*, denoted by $I$, is a square matrix with entries equal to 1 on the main diagonal and equal to 0 elsewhere, i.e.,\n",
    "\n",
    "$$\n",
    "I = \\begin{pmatrix}\n",
    "1 & 0 & \\dots & 0 \\\\\n",
    "0 & 1 & \\dots & 0 \\\\\n",
    "\\vdots & \\vdots & \\ddots & \\vdots \\\\\n",
    "0 & 0 & \\dots & 1 \\\\\n",
    "\\end{pmatrix}\n",
    "$$"
   ]
  }
 ],
 "metadata": {
  "kernelspec": {
   "display_name": "Python 3 (ipykernel)",
   "language": "python",
   "name": "python3"
  }
 },
 "nbformat": 4,
 "nbformat_minor": 2
}
