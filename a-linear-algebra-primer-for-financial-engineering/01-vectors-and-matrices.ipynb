{
 "cells": [
  {
   "cell_type": "markdown",
   "metadata": {},
   "source": [
    "# Vectors and matrices"
   ]
  },
  {
   "cell_type": "markdown",
   "metadata": {},
   "source": [
    "## 1.1 Column and row vectors. Column form and row form of a matrix.\n",
    "\n",
    "An $n$-dimensional vector $v \\in \\reals^n$ is denoted by $v = (v_i)_{i=1:n}$  and has $n$ components $v_i \\in \\reals$, for $i = 1 : n$.\n",
    "\n",
    "The vector $v = (v_i)_{i=1:n}$ is a **column vector** of size $n$ if\n",
    "\n",
    "$$\n",
    "\\begin{equation}\n",
    "    v = \\begin{pmatrix}\n",
    "        v_1\n",
    "        \\\\\n",
    "        v_2\n",
    "        \\\\\n",
    "        \\vdots\n",
    "        \\\\\n",
    "        v_n\n",
    "    \\end{pmatrix}\n",
    "    \\tag{1.1}\n",
    "\\end{equation}\n",
    "$$\n",
    "\n",
    "A column vector is also called an $n \\times 1$ vector."
   ]
  },
  {
   "cell_type": "markdown",
   "metadata": {},
   "source": [
    "The vector is a **row vector** of size $n$ if\n",
    "\n",
    "$$\n",
    "\\begin{equation}\n",
    "    v^t = (v_1 \\space v_2 \\times v_n)\n",
    "    \\tag{1.2}\n",
    "\\end{equation}\n",
    "$$\n",
    "\n",
    "A row vector is also called an $1 \\times n$ vector."
   ]
  },
  {
   "cell_type": "markdown",
   "metadata": {},
   "source": [
    "An $m \\times n$ matrix $A = (A(j,k))_{j=1:m,k=1:n}$ has $m$ rows and $n$ columns. Rather than using the entry by entry notation above for the matrix $A$, we will use either a column-based notation (more often), or a row-based notation, both being better suited for numerical computations.\n",
    "\n",
    "The **column form** of the matrix $A$ is\n",
    "\n",
    "$$\n",
    "\\begin{equation}\n",
    "    A = (a_1 | a_2 | \\cdots | a_n) = \\text{col}(a_k)_{k=1:n}\n",
    "    \\tag{1.3}\n",
    "\\end{equation}\n",
    "$$\n",
    "\n",
    "where $a_k$ is the $k$-th column of $A$, $k = 1 : n$."
   ]
  },
  {
   "cell_type": "markdown",
   "metadata": {},
   "source": [
    "The **row form** of the matrix $A$ is\n",
    "\n",
    "$$\n",
    "\\begin{equation}\n",
    "    A = \\begin{pmatrix}\n",
    "        r_1\n",
    "        \\\\\n",
    "        --\n",
    "        \\\\\n",
    "        r_2\n",
    "        \\\\\n",
    "        --\n",
    "        \\\\\n",
    "        \\vdots\n",
    "        \\\\\n",
    "        --\n",
    "        \\\\\n",
    "        r_m\n",
    "    \\end{pmatrix} = \\text{row}(r_j)_{j=1:m}\n",
    "    \\tag{1.4}\n",
    "\\end{equation}\n",
    "$$\n",
    "\n",
    "where $r_j$ is the $j$-th column of $A$, $j = 1 : m$."
   ]
  },
  {
   "cell_type": "markdown",
   "metadata": {},
   "source": [
    "**Row Vector - Column Vector multiplication:**\n",
    "\n",
    "Let $v = (v_i)_{i=1:n}$ be a column vector of size $n$, and let $w^t = (w_1 \\space w_2 \\cdots w_n)$ be a row vector of size $n$. Then,\n",
    "\n",
    "$$\n",
    "\\begin{equation}\n",
    "\n",
    "w^t v = \\sum_{i=1}^n w_i v_i\n",
    "    \\tag{1.5}\n",
    "\\end{equation}\n",
    "$$\n"
   ]
  }
 ],
 "metadata": {
  "language_info": {
   "name": "python"
  }
 },
 "nbformat": 4,
 "nbformat_minor": 2
}
