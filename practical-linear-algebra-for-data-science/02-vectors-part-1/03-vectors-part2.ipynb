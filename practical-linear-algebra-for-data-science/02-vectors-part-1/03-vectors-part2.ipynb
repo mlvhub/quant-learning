{
 "cells": [
  {
   "cell_type": "markdown",
   "metadata": {},
   "source": [
    "# Chapter 3. Vectors, Part 2"
   ]
  },
  {
   "cell_type": "code",
   "execution_count": 2,
   "metadata": {},
   "outputs": [],
   "source": [
    "import numpy as np"
   ]
  },
  {
   "cell_type": "markdown",
   "metadata": {},
   "source": [
    "## Vector Sets\n",
    "\n",
    "A *set* is a collection of vectors. We can describe them mathematically as following:\n",
    "\n",
    "$$\n",
    "V = {v_1, \\dots, v_n}\n",
    "$$\n",
    "\n",
    "Vector sets can contain a finite or an infinite number of vectors. Vector sets with an infinite number of vectors may sound like a uselessly silly abstraction, but vector subspaces are infinite vector sets and have major implications for fitting statistical models to data.\n",
    "\n",
    "Vector sets can also be empty, and are indicated as $V = {}$.\n"
   ]
  },
  {
   "cell_type": "markdown",
   "metadata": {},
   "source": [
    "## Linear Weighted Combination\n",
    "\n",
    "A *linear weighted combination* (or *linear mixture*, or *weighted combination*) is a way of mixing information from multiple variables, with some variables contributing more than others. Sometimes the term *coefficient* is used instead of weight.\n",
    "\n",
    "Linear weighted combination simply means scalar-vector multiplication and addition: take some set of vectors, multiply each vector by a scalar, and add them to produce a single vector.\n",
    "\n",
    "It's given by\n",
    "\n",
    "$$\n",
    "w = \\lambda_1 v_1 + \\lambda_2 v_2 + \\dots + \\lambda_n v_N\n",
    "\\tag{3-1}\n",
    "$$\n",
    "\n",
    "It's assumed all vectors $v_i$ have the same dimensionality, otherwise the adition is invalid. The $\\lambda$s can be any real number, including zero.\n",
    "\n",
    "Example for equation (3-1):\n",
    "\n",
    "$$\n",
    "\\lambda_1 = 1, \\lambda_2 = 2, \\lambda_3 = -3, \\space \\space \n",
    "v_1 = \\begin{bmatrix} 4\\\\5\\\\1 \\end{bmatrix},\n",
    "v_2 = \\begin{bmatrix} -4\\\\0\\\\-4 \\end{bmatrix},\n",
    "v_3 = \\begin{bmatrix} 1\\\\3\\\\2 \\end{bmatrix}\n",
    "$$\n",
    "\n",
    "$$\n",
    "w = \\lambda_1 v_1 + \\lambda_2 v_2 +\\lambda_3 v_3 =\n",
    "\\begin{bmatrix}\n",
    "    -7\\\\-4\\\\-13\n",
    "\\end{bmatrix}\n",
    "$$"
   ]
  },
  {
   "cell_type": "code",
   "execution_count": 3,
   "metadata": {},
   "outputs": [
    {
     "data": {
      "text/plain": [
       "array([ -7,  -4, -13])"
      ]
     },
     "execution_count": 3,
     "metadata": {},
     "output_type": "execute_result"
    }
   ],
   "source": [
    "l1 = 1\n",
    "l2 = 2\n",
    "l3 = -3\n",
    "v1 = np.array([4,5,1])\n",
    "v2 = np.array([-4,0,-4])\n",
    "v3 = np.array([1,3,2])\n",
    "l1*v1 + l2*v2 + l3*v3"
   ]
  },
  {
   "cell_type": "markdown",
   "metadata": {},
   "source": [
    "Storing each vector and each coefficient as separate variables is tedious and does not scale up to larger problems. Therefore, in practice, linear weighted combinations are implemented via the compact and scalable matrix-vector multiplication method."
   ]
  },
  {
   "cell_type": "markdown",
   "metadata": {},
   "source": [
    "## Linear Independence\n",
    "\n",
    "A set of vectors is *linearly dependent* if at least one vector in the set can be expressed as a linear weighted combination of other vectors in that set. And thus, a set of vectors is *linearly independent* if no vector can be expressed as a linear weighted combination of other vectors in the set.\n",
    "\n",
    "\n",
    "\n"
   ]
  }
 ],
 "metadata": {
  "kernelspec": {
   "display_name": "Python 3 (ipykernel)",
   "language": "python",
   "name": "python3"
  },
  "language_info": {
   "codemirror_mode": {
    "name": "ipython",
    "version": 3
   },
   "file_extension": ".py",
   "mimetype": "text/x-python",
   "name": "python",
   "nbconvert_exporter": "python",
   "pygments_lexer": "ipython3",
   "version": "3.10.9"
  }
 },
 "nbformat": 4,
 "nbformat_minor": 2
}
