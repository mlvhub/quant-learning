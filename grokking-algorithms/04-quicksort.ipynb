{
 "cells": [
  {
   "cell_type": "markdown",
   "metadata": {},
   "source": [
    "# Quicksort"
   ]
  },
  {
   "cell_type": "code",
   "execution_count": 60,
   "metadata": {},
   "outputs": [],
   "source": [
    "def split_farm(width, height):\n",
    "    if width == 0 or height == 0:\n",
    "        return max(width, height)\n",
    "\n",
    "    square = min(width, height)\n",
    "    if height > width:\n",
    "        num_squares = height // width\n",
    "        new_height = height - (square * num_squares)\n",
    "        return split_farm(width, new_height)\n",
    "    else:\n",
    "        num_squares = width // height\n",
    "        new_width = width - (square * num_squares)\n",
    "        return split_farm(new_width, height)"
   ]
  },
  {
   "cell_type": "code",
   "execution_count": 61,
   "metadata": {},
   "outputs": [
    {
     "data": {
      "text/plain": [
       "80"
      ]
     },
     "execution_count": 61,
     "metadata": {},
     "output_type": "execute_result"
    }
   ],
   "source": [
    "width = 1680\n",
    "height = 640\n",
    "\n",
    "split_farm(width, height)"
   ]
  },
  {
   "cell_type": "code",
   "execution_count": 62,
   "metadata": {},
   "outputs": [],
   "source": [
    "# ChatGPT\n",
    "def split_farm(width, height):\n",
    "    if height == 0:\n",
    "        return width\n",
    "    elif width == 0:\n",
    "        return height\n",
    "    else:\n",
    "        return split_farm(height, width % height)"
   ]
  },
  {
   "cell_type": "code",
   "execution_count": 63,
   "metadata": {},
   "outputs": [
    {
     "data": {
      "text/plain": [
       "80"
      ]
     },
     "execution_count": 63,
     "metadata": {},
     "output_type": "execute_result"
    }
   ],
   "source": [
    "width = 1680\n",
    "height = 640\n",
    "\n",
    "split_farm(width, height)"
   ]
  },
  {
   "cell_type": "markdown",
   "metadata": {},
   "source": [
    "## Exercises"
   ]
  },
  {
   "cell_type": "code",
   "execution_count": 64,
   "metadata": {},
   "outputs": [],
   "source": [
    "# 4.1\n",
    "def sum_numbers(numbers):   \n",
    "    if len(numbers) == 0:\n",
    "        return 0\n",
    "    return numbers[0] + sum(numbers[1:])"
   ]
  },
  {
   "cell_type": "code",
   "execution_count": 65,
   "metadata": {},
   "outputs": [
    {
     "data": {
      "text/plain": [
       "6"
      ]
     },
     "execution_count": 65,
     "metadata": {},
     "output_type": "execute_result"
    }
   ],
   "source": [
    "sum_numbers(list(range(1, 4)))"
   ]
  },
  {
   "cell_type": "code",
   "execution_count": 66,
   "metadata": {},
   "outputs": [],
   "source": [
    "# 4.2\n",
    "def count(numbers):   \n",
    "    if len(numbers) == 0:\n",
    "        return 0\n",
    "    return 1 + count(numbers[1:])"
   ]
  },
  {
   "cell_type": "code",
   "execution_count": 67,
   "metadata": {},
   "outputs": [
    {
     "data": {
      "text/plain": [
       "3"
      ]
     },
     "execution_count": 67,
     "metadata": {},
     "output_type": "execute_result"
    }
   ],
   "source": [
    "count(list(range(1, 4)))"
   ]
  },
  {
   "cell_type": "code",
   "execution_count": 68,
   "metadata": {},
   "outputs": [],
   "source": [
    "# 4.3\n",
    "def maximum(numbers, max_number=None):   \n",
    "    if len(numbers) == 0:\n",
    "        return max_number\n",
    "    \n",
    "    if max_number is None:\n",
    "        max_number = numbers[0]\n",
    "    \n",
    "    if numbers[0] > max_number:\n",
    "        max_number = numbers[0]\n",
    "    return maximum(numbers[1:], max_number)"
   ]
  },
  {
   "cell_type": "code",
   "execution_count": 69,
   "metadata": {},
   "outputs": [
    {
     "data": {
      "text/plain": [
       "6"
      ]
     },
     "execution_count": 69,
     "metadata": {},
     "output_type": "execute_result"
    }
   ],
   "source": [
    "maximum([1,3,5,2,6,4])"
   ]
  },
  {
   "cell_type": "code",
   "execution_count": 70,
   "metadata": {},
   "outputs": [],
   "source": [
    "# 4.4 already done in 01"
   ]
  },
  {
   "cell_type": "markdown",
   "metadata": {},
   "source": [
    "## Quicksort"
   ]
  },
  {
   "cell_type": "code",
   "execution_count": 71,
   "metadata": {},
   "outputs": [],
   "source": [
    "def quicksort(array):\n",
    "    if len(array) <= 1:\n",
    "        return array\n",
    "    \n",
    "    pivot = array[0]\n",
    "    lt = []\n",
    "    gt = []\n",
    "    for x in array[1:]:\n",
    "        if x > pivot:\n",
    "            gt.append(x)\n",
    "        else:\n",
    "            lt.append(x)\n",
    "    return quicksort(lt) + [pivot] + quicksort(gt)"
   ]
  },
  {
   "cell_type": "code",
   "execution_count": 72,
   "metadata": {},
   "outputs": [
    {
     "data": {
      "text/plain": [
       "[1, 2, 3, 4, 5, 6]"
      ]
     },
     "execution_count": 72,
     "metadata": {},
     "output_type": "execute_result"
    }
   ],
   "source": [
    "quicksort([1,3,5,2,6,4])"
   ]
  }
 ],
 "metadata": {
  "kernelspec": {
   "display_name": "Python 3 (ipykernel)",
   "language": "python",
   "name": "python3"
  },
  "language_info": {
   "codemirror_mode": {
    "name": "ipython",
    "version": 3
   },
   "file_extension": ".py",
   "mimetype": "text/x-python",
   "name": "python",
   "nbconvert_exporter": "python",
   "pygments_lexer": "ipython3",
   "version": "3.10.9"
  }
 },
 "nbformat": 4,
 "nbformat_minor": 2
}
