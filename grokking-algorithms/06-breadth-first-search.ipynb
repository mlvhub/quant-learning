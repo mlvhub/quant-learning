{
 "cells": [
  {
   "cell_type": "markdown",
   "id": "9a26f4fd",
   "metadata": {},
   "source": [
    "## Breadth-First Search\n",
    "\n",
    "A search algorithm that runs on graphs, it can help answer two types of questions:\n",
    "- is there a path from node A to B?\n",
    "- what is the shortest path from node A to B?"
   ]
  },
  {
   "cell_type": "code",
   "execution_count": 1,
   "metadata": {},
   "outputs": [],
   "source": [
    "graph = {}\n",
    "graph[\"you\"] = [\"alice\", \"bob\", \"claire\"]\n",
    "graph[\"bob\"] = [\"anuj\", \"peggy\"]\n",
    "graph[\"alice\"] = [\"peggy\"]\n",
    "graph[\"claire\"] = [\"thom\", \"jonny\"]\n",
    "graph[\"anuj\"] = []\n",
    "graph[\"peggy\"] = []\n",
    "graph[\"thom\"] = []\n",
    "graph[\"jonny\"] = []"
   ]
  },
  {
   "cell_type": "code",
   "execution_count": 38,
   "id": "78ce321b",
   "metadata": {},
   "outputs": [],
   "source": [
    "from collections import deque\n",
    "\n",
    "# O(V+E) running time (V for number of vertices, E for number of edges).\n",
    "def shortest_path(node_1, node_2):\n",
    "    checked = {}\n",
    "    search_queue = deque([(n, [n]) for n in graph[node_1]])\n",
    "    while search_queue:\n",
    "        (n, path) = search_queue.popleft()\n",
    "        if n == node_2:\n",
    "            return path\n",
    "        else:\n",
    "            checked[n] = True\n",
    "            search_queue += [(n, path + [n]) for n in graph[n] if n not in checked]\n",
    "    return None\n"
   ]
  },
  {
   "cell_type": "code",
   "execution_count": 39,
   "id": "9739e644",
   "metadata": {},
   "outputs": [
    {
     "data": {
      "text/plain": [
       "['alice', 'peggy']"
      ]
     },
     "execution_count": 39,
     "metadata": {},
     "output_type": "execute_result"
    }
   ],
   "source": [
    "shortest_path(\"you\", \"peggy\")"
   ]
  },
  {
   "cell_type": "code",
   "execution_count": 40,
   "id": "984096ae",
   "metadata": {},
   "outputs": [
    {
     "data": {
      "text/plain": [
       "['claire', 'jonny']"
      ]
     },
     "execution_count": 40,
     "metadata": {},
     "output_type": "execute_result"
    }
   ],
   "source": [
    "shortest_path(\"you\", \"jonny\")"
   ]
  },
  {
   "cell_type": "code",
   "execution_count": 41,
   "id": "24756942",
   "metadata": {},
   "outputs": [],
   "source": [
    "shortest_path(\"anuj\", \"peggy\")"
   ]
  },
  {
   "cell_type": "code",
   "execution_count": null,
   "id": "0462cc57",
   "metadata": {},
   "outputs": [],
   "source": []
  }
 ],
 "metadata": {
  "jupytext": {
   "cell_metadata_filter": "-all",
   "notebook_metadata_filter": "-all"
  },
  "kernelspec": {
   "display_name": "Python 3 (ipykernel)",
   "language": "python",
   "name": "python3"
  },
  "language_info": {
   "codemirror_mode": {
    "name": "ipython",
    "version": 3
   },
   "file_extension": ".py",
   "mimetype": "text/x-python",
   "name": "python",
   "nbconvert_exporter": "python",
   "pygments_lexer": "ipython3",
   "version": "3.10.9"
  }
 },
 "nbformat": 4,
 "nbformat_minor": 5
}
