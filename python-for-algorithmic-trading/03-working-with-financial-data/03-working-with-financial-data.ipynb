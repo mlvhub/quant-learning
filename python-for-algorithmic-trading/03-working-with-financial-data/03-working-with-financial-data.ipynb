{
 "cells": [
  {
   "cell_type": "markdown",
   "id": "b15d4a64",
   "metadata": {},
   "source": [
    "## Reading Financial Data From Different Sources"
   ]
  },
  {
   "cell_type": "markdown",
   "id": "e54e022e",
   "metadata": {},
   "source": [
    "### The Data Set"
   ]
  },
  {
   "cell_type": "code",
   "execution_count": 4,
   "id": "3ef54f58",
   "metadata": {},
   "outputs": [],
   "source": [
    "fn = '../data/AAPL.csv'"
   ]
  },
  {
   "cell_type": "code",
   "execution_count": 5,
   "id": "1fa5e9c0",
   "metadata": {},
   "outputs": [
    {
     "name": "stdout",
     "output_type": "stream",
     "text": [
      "Date,HIGH,CLOSE,LOW,OPEN,COUNT,VOLUME\n",
      "2020-04-01,248.72,240.91,239.13,246.5,460606.0,44054638.0\n",
      "2020-04-02,245.15,244.93,236.9,240.34,380294.0,41483493.0\n",
      "2020-04-03,245.7,241.41,238.9741,242.8,293699.0,32470017.0\n",
      "2020-04-06,263.11,262.47,249.38,250.9,486681.0,50455071.0\n"
     ]
    }
   ],
   "source": [
    "with open(fn, 'r') as f:\n",
    "    for _ in range(5):\n",
    "        print(f.readline(), end='')"
   ]
  },
  {
   "cell_type": "markdown",
   "id": "17ec3b94",
   "metadata": {},
   "source": [
    "### Reading from a CSV File with Python"
   ]
  },
  {
   "cell_type": "code",
   "execution_count": 19,
   "id": "caf1a590",
   "metadata": {},
   "outputs": [],
   "source": [
    "import csv"
   ]
  },
  {
   "cell_type": "code",
   "execution_count": 20,
   "id": "93231166",
   "metadata": {},
   "outputs": [],
   "source": [
    "csv_reader = csv.reader(open(fn, 'r'))"
   ]
  },
  {
   "cell_type": "code",
   "execution_count": 21,
   "id": "8809532e",
   "metadata": {},
   "outputs": [],
   "source": [
    "data = list(csv_reader)"
   ]
  },
  {
   "cell_type": "code",
   "execution_count": 22,
   "id": "677cd259",
   "metadata": {},
   "outputs": [
    {
     "data": {
      "text/plain": [
       "[['Date', 'HIGH', 'CLOSE', 'LOW', 'OPEN', 'COUNT', 'VOLUME'],\n",
       " ['2020-04-01',\n",
       "  '248.72',\n",
       "  '240.91',\n",
       "  '239.13',\n",
       "  '246.5',\n",
       "  '460606.0',\n",
       "  '44054638.0'],\n",
       " ['2020-04-02',\n",
       "  '245.15',\n",
       "  '244.93',\n",
       "  '236.9',\n",
       "  '240.34',\n",
       "  '380294.0',\n",
       "  '41483493.0'],\n",
       " ['2020-04-03',\n",
       "  '245.7',\n",
       "  '241.41',\n",
       "  '238.9741',\n",
       "  '242.8',\n",
       "  '293699.0',\n",
       "  '32470017.0'],\n",
       " ['2020-04-06',\n",
       "  '263.11',\n",
       "  '262.47',\n",
       "  '249.38',\n",
       "  '250.9',\n",
       "  '486681.0',\n",
       "  '50455071.0']]"
      ]
     },
     "execution_count": 22,
     "metadata": {},
     "output_type": "execute_result"
    }
   ],
   "source": [
    "data[:5]"
   ]
  },
  {
   "cell_type": "code",
   "execution_count": 26,
   "id": "258167b5",
   "metadata": {},
   "outputs": [],
   "source": [
    "csv_reader = csv.DictReader(open(fn, 'r'))"
   ]
  },
  {
   "cell_type": "code",
   "execution_count": 27,
   "id": "e27624f5",
   "metadata": {},
   "outputs": [],
   "source": [
    "data = list(csv_reader)"
   ]
  },
  {
   "cell_type": "code",
   "execution_count": 28,
   "id": "58e7cb28",
   "metadata": {},
   "outputs": [
    {
     "data": {
      "text/plain": [
       "[{'Date': '2020-04-01',\n",
       "  'HIGH': '248.72',\n",
       "  'CLOSE': '240.91',\n",
       "  'LOW': '239.13',\n",
       "  'OPEN': '246.5',\n",
       "  'COUNT': '460606.0',\n",
       "  'VOLUME': '44054638.0'},\n",
       " {'Date': '2020-04-02',\n",
       "  'HIGH': '245.15',\n",
       "  'CLOSE': '244.93',\n",
       "  'LOW': '236.9',\n",
       "  'OPEN': '240.34',\n",
       "  'COUNT': '380294.0',\n",
       "  'VOLUME': '41483493.0'},\n",
       " {'Date': '2020-04-03',\n",
       "  'HIGH': '245.7',\n",
       "  'CLOSE': '241.41',\n",
       "  'LOW': '238.9741',\n",
       "  'OPEN': '242.8',\n",
       "  'COUNT': '293699.0',\n",
       "  'VOLUME': '32470017.0'},\n",
       " {'Date': '2020-04-06',\n",
       "  'HIGH': '263.11',\n",
       "  'CLOSE': '262.47',\n",
       "  'LOW': '249.38',\n",
       "  'OPEN': '250.9',\n",
       "  'COUNT': '486681.0',\n",
       "  'VOLUME': '50455071.0'},\n",
       " {'Date': '2020-04-07',\n",
       "  'HIGH': '271.7',\n",
       "  'CLOSE': '259.43',\n",
       "  'LOW': '259.0',\n",
       "  'OPEN': '270.8',\n",
       "  'COUNT': '467375.0',\n",
       "  'VOLUME': '50721831.0'}]"
      ]
     },
     "execution_count": 28,
     "metadata": {},
     "output_type": "execute_result"
    }
   ],
   "source": [
    "data[:5]"
   ]
  },
  {
   "cell_type": "code",
   "execution_count": 29,
   "id": "ef6c21bc",
   "metadata": {},
   "outputs": [
    {
     "data": {
      "text/plain": [
       "272.38619047619045"
      ]
     },
     "execution_count": 29,
     "metadata": {},
     "output_type": "execute_result"
    }
   ],
   "source": [
    "mean = sum([float(l['CLOSE']) for l in data]) / len(data)\n",
    "mean"
   ]
  },
  {
   "cell_type": "markdown",
   "id": "5aa2fce5",
   "metadata": {},
   "source": [
    "### Reading from a CSV File with pandas"
   ]
  },
  {
   "cell_type": "code",
   "execution_count": 30,
   "id": "8be763b4",
   "metadata": {},
   "outputs": [],
   "source": [
    "import pandas as pd"
   ]
  },
  {
   "cell_type": "code",
   "execution_count": 31,
   "id": "a5e5cc16",
   "metadata": {},
   "outputs": [],
   "source": [
    "data = pd.read_csv(fn, index_col=0, parse_dates=True)"
   ]
  },
  {
   "cell_type": "code",
   "execution_count": 32,
   "id": "3095c6f1",
   "metadata": {},
   "outputs": [
    {
     "name": "stdout",
     "output_type": "stream",
     "text": [
      "<class 'pandas.core.frame.DataFrame'>\n",
      "DatetimeIndex: 21 entries, 2020-04-01 to 2020-04-30\n",
      "Data columns (total 6 columns):\n",
      " #   Column  Non-Null Count  Dtype  \n",
      "---  ------  --------------  -----  \n",
      " 0   HIGH    21 non-null     float64\n",
      " 1   CLOSE   21 non-null     float64\n",
      " 2   LOW     21 non-null     float64\n",
      " 3   OPEN    21 non-null     float64\n",
      " 4   COUNT   21 non-null     float64\n",
      " 5   VOLUME  21 non-null     float64\n",
      "dtypes: float64(6)\n",
      "memory usage: 1.1 KB\n"
     ]
    }
   ],
   "source": [
    "data.info()"
   ]
  },
  {
   "cell_type": "code",
   "execution_count": 33,
   "id": "20d740d7",
   "metadata": {},
   "outputs": [
    {
     "data": {
      "text/html": [
       "<div>\n",
       "<style scoped>\n",
       "    .dataframe tbody tr th:only-of-type {\n",
       "        vertical-align: middle;\n",
       "    }\n",
       "\n",
       "    .dataframe tbody tr th {\n",
       "        vertical-align: top;\n",
       "    }\n",
       "\n",
       "    .dataframe thead th {\n",
       "        text-align: right;\n",
       "    }\n",
       "</style>\n",
       "<table border=\"1\" class=\"dataframe\">\n",
       "  <thead>\n",
       "    <tr style=\"text-align: right;\">\n",
       "      <th></th>\n",
       "      <th>HIGH</th>\n",
       "      <th>CLOSE</th>\n",
       "      <th>LOW</th>\n",
       "      <th>OPEN</th>\n",
       "      <th>COUNT</th>\n",
       "      <th>VOLUME</th>\n",
       "    </tr>\n",
       "    <tr>\n",
       "      <th>Date</th>\n",
       "      <th></th>\n",
       "      <th></th>\n",
       "      <th></th>\n",
       "      <th></th>\n",
       "      <th></th>\n",
       "      <th></th>\n",
       "    </tr>\n",
       "  </thead>\n",
       "  <tbody>\n",
       "    <tr>\n",
       "      <th>2020-04-24</th>\n",
       "      <td>283.01</td>\n",
       "      <td>282.97</td>\n",
       "      <td>277.00</td>\n",
       "      <td>277.20</td>\n",
       "      <td>306176.0</td>\n",
       "      <td>31627183.0</td>\n",
       "    </tr>\n",
       "    <tr>\n",
       "      <th>2020-04-27</th>\n",
       "      <td>284.54</td>\n",
       "      <td>283.17</td>\n",
       "      <td>279.95</td>\n",
       "      <td>281.80</td>\n",
       "      <td>300771.0</td>\n",
       "      <td>29271893.0</td>\n",
       "    </tr>\n",
       "    <tr>\n",
       "      <th>2020-04-28</th>\n",
       "      <td>285.83</td>\n",
       "      <td>278.58</td>\n",
       "      <td>278.20</td>\n",
       "      <td>285.08</td>\n",
       "      <td>285384.0</td>\n",
       "      <td>28001187.0</td>\n",
       "    </tr>\n",
       "    <tr>\n",
       "      <th>2020-04-29</th>\n",
       "      <td>289.67</td>\n",
       "      <td>287.73</td>\n",
       "      <td>283.89</td>\n",
       "      <td>284.73</td>\n",
       "      <td>324890.0</td>\n",
       "      <td>34320204.0</td>\n",
       "    </tr>\n",
       "    <tr>\n",
       "      <th>2020-04-30</th>\n",
       "      <td>294.53</td>\n",
       "      <td>293.80</td>\n",
       "      <td>288.35</td>\n",
       "      <td>289.96</td>\n",
       "      <td>471129.0</td>\n",
       "      <td>45765968.0</td>\n",
       "    </tr>\n",
       "  </tbody>\n",
       "</table>\n",
       "</div>"
      ],
      "text/plain": [
       "              HIGH   CLOSE     LOW    OPEN     COUNT      VOLUME\n",
       "Date                                                            \n",
       "2020-04-24  283.01  282.97  277.00  277.20  306176.0  31627183.0\n",
       "2020-04-27  284.54  283.17  279.95  281.80  300771.0  29271893.0\n",
       "2020-04-28  285.83  278.58  278.20  285.08  285384.0  28001187.0\n",
       "2020-04-29  289.67  287.73  283.89  284.73  324890.0  34320204.0\n",
       "2020-04-30  294.53  293.80  288.35  289.96  471129.0  45765968.0"
      ]
     },
     "execution_count": 33,
     "metadata": {},
     "output_type": "execute_result"
    }
   ],
   "source": [
    "data.tail()"
   ]
  },
  {
   "cell_type": "code",
   "execution_count": 34,
   "id": "5daf83d8",
   "metadata": {},
   "outputs": [
    {
     "data": {
      "text/plain": [
       "DatetimeIndex(['2020-04-01', '2020-04-02', '2020-04-03', '2020-04-06',\n",
       "               '2020-04-07', '2020-04-08', '2020-04-09', '2020-04-13',\n",
       "               '2020-04-14', '2020-04-15', '2020-04-16', '2020-04-17',\n",
       "               '2020-04-20', '2020-04-21', '2020-04-22', '2020-04-23',\n",
       "               '2020-04-24', '2020-04-27', '2020-04-28', '2020-04-29',\n",
       "               '2020-04-30'],\n",
       "              dtype='datetime64[ns]', name='Date', freq=None)"
      ]
     },
     "execution_count": 34,
     "metadata": {},
     "output_type": "execute_result"
    }
   ],
   "source": [
    "data.index"
   ]
  },
  {
   "cell_type": "code",
   "execution_count": 35,
   "id": "2c7cd6bc",
   "metadata": {},
   "outputs": [
    {
     "data": {
      "text/plain": [
       "272.38619047619056"
      ]
     },
     "execution_count": 35,
     "metadata": {},
     "output_type": "execute_result"
    }
   ],
   "source": [
    "data['CLOSE'].mean()"
   ]
  },
  {
   "cell_type": "markdown",
   "id": "ed2fe2a8",
   "metadata": {},
   "source": [
    "### Exporting to Excel and JSON"
   ]
  },
  {
   "cell_type": "code",
   "execution_count": 37,
   "id": "26539f7e",
   "metadata": {},
   "outputs": [],
   "source": [
    "#data.to_excel('data/aapl.xls', 'AAPL')"
   ]
  },
  {
   "cell_type": "code",
   "execution_count": 41,
   "id": "d539aab5",
   "metadata": {},
   "outputs": [],
   "source": [
    "data.to_json('./aapl.json')"
   ]
  },
  {
   "cell_type": "markdown",
   "id": "e30e368a",
   "metadata": {},
   "source": [
    "### Reading from Excel and JSON"
   ]
  },
  {
   "cell_type": "code",
   "execution_count": 42,
   "id": "7cd695c4",
   "metadata": {},
   "outputs": [],
   "source": [
    "#excel_data = pd.read_excel('data/aapl.xls', 'AAPL', index_col=0)\n",
    "#excel_data.head()"
   ]
  },
  {
   "cell_type": "code",
   "execution_count": 44,
   "id": "088b2e50",
   "metadata": {},
   "outputs": [
    {
     "data": {
      "text/html": [
       "<div>\n",
       "<style scoped>\n",
       "    .dataframe tbody tr th:only-of-type {\n",
       "        vertical-align: middle;\n",
       "    }\n",
       "\n",
       "    .dataframe tbody tr th {\n",
       "        vertical-align: top;\n",
       "    }\n",
       "\n",
       "    .dataframe thead th {\n",
       "        text-align: right;\n",
       "    }\n",
       "</style>\n",
       "<table border=\"1\" class=\"dataframe\">\n",
       "  <thead>\n",
       "    <tr style=\"text-align: right;\">\n",
       "      <th></th>\n",
       "      <th>HIGH</th>\n",
       "      <th>CLOSE</th>\n",
       "      <th>LOW</th>\n",
       "      <th>OPEN</th>\n",
       "      <th>COUNT</th>\n",
       "      <th>VOLUME</th>\n",
       "    </tr>\n",
       "  </thead>\n",
       "  <tbody>\n",
       "    <tr>\n",
       "      <th>2020-04-01</th>\n",
       "      <td>248.72</td>\n",
       "      <td>240.91</td>\n",
       "      <td>239.1300</td>\n",
       "      <td>246.50</td>\n",
       "      <td>460606</td>\n",
       "      <td>44054638</td>\n",
       "    </tr>\n",
       "    <tr>\n",
       "      <th>2020-04-02</th>\n",
       "      <td>245.15</td>\n",
       "      <td>244.93</td>\n",
       "      <td>236.9000</td>\n",
       "      <td>240.34</td>\n",
       "      <td>380294</td>\n",
       "      <td>41483493</td>\n",
       "    </tr>\n",
       "    <tr>\n",
       "      <th>2020-04-03</th>\n",
       "      <td>245.70</td>\n",
       "      <td>241.41</td>\n",
       "      <td>238.9741</td>\n",
       "      <td>242.80</td>\n",
       "      <td>293699</td>\n",
       "      <td>32470017</td>\n",
       "    </tr>\n",
       "    <tr>\n",
       "      <th>2020-04-06</th>\n",
       "      <td>263.11</td>\n",
       "      <td>262.47</td>\n",
       "      <td>249.3800</td>\n",
       "      <td>250.90</td>\n",
       "      <td>486681</td>\n",
       "      <td>50455071</td>\n",
       "    </tr>\n",
       "    <tr>\n",
       "      <th>2020-04-07</th>\n",
       "      <td>271.70</td>\n",
       "      <td>259.43</td>\n",
       "      <td>259.0000</td>\n",
       "      <td>270.80</td>\n",
       "      <td>467375</td>\n",
       "      <td>50721831</td>\n",
       "    </tr>\n",
       "  </tbody>\n",
       "</table>\n",
       "</div>"
      ],
      "text/plain": [
       "              HIGH   CLOSE       LOW    OPEN   COUNT    VOLUME\n",
       "2020-04-01  248.72  240.91  239.1300  246.50  460606  44054638\n",
       "2020-04-02  245.15  244.93  236.9000  240.34  380294  41483493\n",
       "2020-04-03  245.70  241.41  238.9741  242.80  293699  32470017\n",
       "2020-04-06  263.11  262.47  249.3800  250.90  486681  50455071\n",
       "2020-04-07  271.70  259.43  259.0000  270.80  467375  50721831"
      ]
     },
     "execution_count": 44,
     "metadata": {},
     "output_type": "execute_result"
    }
   ],
   "source": [
    "json_data = pd.read_json('./aapl.json')\n",
    "json_data.head()"
   ]
  },
  {
   "cell_type": "markdown",
   "id": "763376ef",
   "metadata": {},
   "source": [
    "## Working with Open Data Sources"
   ]
  },
  {
   "cell_type": "code",
   "execution_count": 47,
   "id": "d08a9c54",
   "metadata": {},
   "outputs": [
    {
     "name": "stdout",
     "output_type": "stream",
     "text": [
      "The dotenv extension is already loaded. To reload it, use:\n",
      "  %reload_ext dotenv\n"
     ]
    }
   ],
   "source": [
    "%load_ext dotenv\n",
    "%dotenv\n",
    "import os"
   ]
  },
  {
   "cell_type": "code",
   "execution_count": 48,
   "id": "6b238ac7",
   "metadata": {},
   "outputs": [],
   "source": [
    "quandl_api_key = os.environ.get(\"QUANDL_API_KEY\")"
   ]
  },
  {
   "cell_type": "code",
   "execution_count": 49,
   "id": "9bf97664",
   "metadata": {},
   "outputs": [],
   "source": [
    "import quandl as q"
   ]
  },
  {
   "cell_type": "code",
   "execution_count": 50,
   "id": "b0bc5603",
   "metadata": {},
   "outputs": [],
   "source": [
    "data = q.get('BCHAIN/MKPRU', api_key=quandl_api_key)"
   ]
  },
  {
   "cell_type": "code",
   "execution_count": 51,
   "id": "a317d1d3",
   "metadata": {},
   "outputs": [
    {
     "name": "stdout",
     "output_type": "stream",
     "text": [
      "<class 'pandas.core.frame.DataFrame'>\n",
      "DatetimeIndex: 5361 entries, 2009-01-02 to 2023-09-06\n",
      "Data columns (total 1 columns):\n",
      " #   Column  Non-Null Count  Dtype  \n",
      "---  ------  --------------  -----  \n",
      " 0   Value   5361 non-null   float64\n",
      "dtypes: float64(1)\n",
      "memory usage: 83.8 KB\n"
     ]
    }
   ],
   "source": [
    "data.info()"
   ]
  },
  {
   "cell_type": "code",
   "execution_count": 53,
   "id": "8b25e237",
   "metadata": {},
   "outputs": [
    {
     "data": {
      "text/plain": [
       "Date\n",
       "2009-12-31        0.000000\n",
       "2010-12-31        0.299998\n",
       "2011-12-31        4.470000\n",
       "2012-12-31       13.570000\n",
       "2013-12-31      746.900000\n",
       "2014-12-31      315.700000\n",
       "2015-12-31      428.230000\n",
       "2016-12-31      958.120000\n",
       "2017-12-31    14165.575000\n",
       "2018-12-31     3791.545833\n",
       "2019-12-31     7219.600000\n",
       "2020-12-31    28856.590000\n",
       "2021-12-31    47132.960000\n",
       "2022-12-31    16599.690000\n",
       "2023-12-31    25785.300000\n",
       "Freq: A-DEC, Name: Value, dtype: float64"
      ]
     },
     "execution_count": 53,
     "metadata": {},
     "output_type": "execute_result"
    }
   ],
   "source": [
    "data['Value'].resample('A').last()"
   ]
  },
  {
   "cell_type": "code",
   "execution_count": 55,
   "id": "f0368808",
   "metadata": {},
   "outputs": [],
   "source": [
    "data = q.get('FSE/SAP_X', start_date='2018-1-1',\n",
    "                      end_date='2020-05-01',\n",
    "                      api_key=quandl_api_key)"
   ]
  },
  {
   "cell_type": "code",
   "execution_count": 56,
   "id": "f8885ead",
   "metadata": {},
   "outputs": [
    {
     "name": "stdout",
     "output_type": "stream",
     "text": [
      "<class 'pandas.core.frame.DataFrame'>\n",
      "DatetimeIndex: 579 entries, 2018-01-02 to 2020-04-30\n",
      "Data columns (total 10 columns):\n",
      " #   Column                 Non-Null Count  Dtype  \n",
      "---  ------                 --------------  -----  \n",
      " 0   Open                   257 non-null    float64\n",
      " 1   High                   579 non-null    float64\n",
      " 2   Low                    579 non-null    float64\n",
      " 3   Close                  579 non-null    float64\n",
      " 4   Change                 0 non-null      object \n",
      " 5   Traded Volume          533 non-null    float64\n",
      " 6   Turnover               533 non-null    float64\n",
      " 7   Last Price of the Day  0 non-null      object \n",
      " 8   Daily Traded Units     0 non-null      object \n",
      " 9   Daily Turnover         0 non-null      object \n",
      "dtypes: float64(6), object(4)\n",
      "memory usage: 49.8+ KB\n"
     ]
    }
   ],
   "source": [
    "data.info()"
   ]
  },
  {
   "cell_type": "code",
   "execution_count": 57,
   "id": "1608ed5f",
   "metadata": {},
   "outputs": [
    {
     "data": {
      "text/html": [
       "<div>\n",
       "<style scoped>\n",
       "    .dataframe tbody tr th:only-of-type {\n",
       "        vertical-align: middle;\n",
       "    }\n",
       "\n",
       "    .dataframe tbody tr th {\n",
       "        vertical-align: top;\n",
       "    }\n",
       "\n",
       "    .dataframe thead th {\n",
       "        text-align: right;\n",
       "    }\n",
       "</style>\n",
       "<table border=\"1\" class=\"dataframe\">\n",
       "  <thead>\n",
       "    <tr style=\"text-align: right;\">\n",
       "      <th></th>\n",
       "      <th>Open</th>\n",
       "      <th>High</th>\n",
       "      <th>Low</th>\n",
       "      <th>Close</th>\n",
       "      <th>Change</th>\n",
       "      <th>Traded Volume</th>\n",
       "      <th>Turnover</th>\n",
       "      <th>Last Price of the Day</th>\n",
       "      <th>Daily Traded Units</th>\n",
       "      <th>Daily Turnover</th>\n",
       "    </tr>\n",
       "    <tr>\n",
       "      <th>Date</th>\n",
       "      <th></th>\n",
       "      <th></th>\n",
       "      <th></th>\n",
       "      <th></th>\n",
       "      <th></th>\n",
       "      <th></th>\n",
       "      <th></th>\n",
       "      <th></th>\n",
       "      <th></th>\n",
       "      <th></th>\n",
       "    </tr>\n",
       "  </thead>\n",
       "  <tbody>\n",
       "    <tr>\n",
       "      <th>2018-01-02</th>\n",
       "      <td>93.35</td>\n",
       "      <td>93.95</td>\n",
       "      <td>92.12</td>\n",
       "      <td>92.80</td>\n",
       "      <td>None</td>\n",
       "      <td>2334984.0</td>\n",
       "      <td>216571734.0</td>\n",
       "      <td>None</td>\n",
       "      <td>None</td>\n",
       "      <td>None</td>\n",
       "    </tr>\n",
       "    <tr>\n",
       "      <th>2018-01-03</th>\n",
       "      <td>93.00</td>\n",
       "      <td>94.65</td>\n",
       "      <td>92.63</td>\n",
       "      <td>94.07</td>\n",
       "      <td>None</td>\n",
       "      <td>2346852.0</td>\n",
       "      <td>219877195.0</td>\n",
       "      <td>None</td>\n",
       "      <td>None</td>\n",
       "      <td>None</td>\n",
       "    </tr>\n",
       "    <tr>\n",
       "      <th>2018-01-11</th>\n",
       "      <td>NaN</td>\n",
       "      <td>93.74</td>\n",
       "      <td>91.04</td>\n",
       "      <td>91.43</td>\n",
       "      <td>None</td>\n",
       "      <td>4274991.0</td>\n",
       "      <td>393498865.0</td>\n",
       "      <td>None</td>\n",
       "      <td>None</td>\n",
       "      <td>None</td>\n",
       "    </tr>\n",
       "    <tr>\n",
       "      <th>2018-01-12</th>\n",
       "      <td>NaN</td>\n",
       "      <td>91.47</td>\n",
       "      <td>90.27</td>\n",
       "      <td>90.73</td>\n",
       "      <td>None</td>\n",
       "      <td>3437210.0</td>\n",
       "      <td>312013502.0</td>\n",
       "      <td>None</td>\n",
       "      <td>None</td>\n",
       "      <td>None</td>\n",
       "    </tr>\n",
       "    <tr>\n",
       "      <th>2018-01-15</th>\n",
       "      <td>NaN</td>\n",
       "      <td>90.61</td>\n",
       "      <td>89.71</td>\n",
       "      <td>90.06</td>\n",
       "      <td>None</td>\n",
       "      <td>2053812.0</td>\n",
       "      <td>185176806.0</td>\n",
       "      <td>None</td>\n",
       "      <td>None</td>\n",
       "      <td>None</td>\n",
       "    </tr>\n",
       "  </tbody>\n",
       "</table>\n",
       "</div>"
      ],
      "text/plain": [
       "             Open   High    Low  Close Change  Traded Volume     Turnover  \\\n",
       "Date                                                                        \n",
       "2018-01-02  93.35  93.95  92.12  92.80   None      2334984.0  216571734.0   \n",
       "2018-01-03  93.00  94.65  92.63  94.07   None      2346852.0  219877195.0   \n",
       "2018-01-11    NaN  93.74  91.04  91.43   None      4274991.0  393498865.0   \n",
       "2018-01-12    NaN  91.47  90.27  90.73   None      3437210.0  312013502.0   \n",
       "2018-01-15    NaN  90.61  89.71  90.06   None      2053812.0  185176806.0   \n",
       "\n",
       "           Last Price of the Day Daily Traded Units Daily Turnover  \n",
       "Date                                                                \n",
       "2018-01-02                  None               None           None  \n",
       "2018-01-03                  None               None           None  \n",
       "2018-01-11                  None               None           None  \n",
       "2018-01-12                  None               None           None  \n",
       "2018-01-15                  None               None           None  "
      ]
     },
     "execution_count": 57,
     "metadata": {},
     "output_type": "execute_result"
    }
   ],
   "source": [
    "data.head()"
   ]
  },
  {
   "cell_type": "code",
   "execution_count": 58,
   "id": "b5e58d76",
   "metadata": {},
   "outputs": [],
   "source": [
    "q.ApiConfig.api_key = quandl_api_key"
   ]
  },
  {
   "cell_type": "code",
   "execution_count": 61,
   "id": "aa3b099f",
   "metadata": {},
   "outputs": [],
   "source": [
    "vol = q.get_table('QUANTCHA/VOL', date='2018-12-31', ticker='MSFT')"
   ]
  },
  {
   "cell_type": "code",
   "execution_count": 62,
   "id": "698ea923",
   "metadata": {},
   "outputs": [
    {
     "name": "stdout",
     "output_type": "stream",
     "text": [
      "<class 'pandas.core.frame.DataFrame'>\n",
      "RangeIndex: 1 entries, 0 to 0\n",
      "Data columns (total 10 columns):\n",
      " #   Column  Non-Null Count  Dtype         \n",
      "---  ------  --------------  -----         \n",
      " 0   ticker  1 non-null      object        \n",
      " 1   date    1 non-null      datetime64[ns]\n",
      " 2   hv10    1 non-null      float64       \n",
      " 3   hv20    1 non-null      float64       \n",
      " 4   hv30    1 non-null      float64       \n",
      " 5   hv60    1 non-null      float64       \n",
      " 6   hv90    1 non-null      float64       \n",
      " 7   hv120   1 non-null      float64       \n",
      " 8   hv150   1 non-null      float64       \n",
      " 9   hv180   1 non-null      float64       \n",
      "dtypes: datetime64[ns](1), float64(8), object(1)\n",
      "memory usage: 208.0+ bytes\n"
     ]
    }
   ],
   "source": [
    "vol.iloc[:, :10].info()"
   ]
  },
  {
   "cell_type": "code",
   "execution_count": 64,
   "id": "d261b94a",
   "metadata": {},
   "outputs": [
    {
     "data": {
      "text/html": [
       "<div>\n",
       "<style scoped>\n",
       "    .dataframe tbody tr th:only-of-type {\n",
       "        vertical-align: middle;\n",
       "    }\n",
       "\n",
       "    .dataframe tbody tr th {\n",
       "        vertical-align: top;\n",
       "    }\n",
       "\n",
       "    .dataframe thead th {\n",
       "        text-align: right;\n",
       "    }\n",
       "</style>\n",
       "<table border=\"1\" class=\"dataframe\">\n",
       "  <thead>\n",
       "    <tr style=\"text-align: right;\">\n",
       "      <th></th>\n",
       "      <th>ivmean30</th>\n",
       "      <th>ivmean60</th>\n",
       "      <th>ivmean90</th>\n",
       "    </tr>\n",
       "    <tr>\n",
       "      <th>None</th>\n",
       "      <th></th>\n",
       "      <th></th>\n",
       "      <th></th>\n",
       "    </tr>\n",
       "  </thead>\n",
       "  <tbody>\n",
       "    <tr>\n",
       "      <th>0</th>\n",
       "      <td>0.376</td>\n",
       "      <td>0.3519</td>\n",
       "      <td>0.331</td>\n",
       "    </tr>\n",
       "  </tbody>\n",
       "</table>\n",
       "</div>"
      ],
      "text/plain": [
       "      ivmean30  ivmean60  ivmean90\n",
       "None                              \n",
       "0        0.376    0.3519     0.331"
      ]
     },
     "execution_count": 64,
     "metadata": {},
     "output_type": "execute_result"
    }
   ],
   "source": [
    "vol[['ivmean30', 'ivmean60', 'ivmean90']].tail()"
   ]
  },
  {
   "cell_type": "code",
   "execution_count": null,
   "id": "84253697",
   "metadata": {},
   "outputs": [],
   "source": []
  }
 ],
 "metadata": {
  "kernelspec": {
   "display_name": "Python 3 (ipykernel)",
   "language": "python",
   "name": "python3"
  },
  "language_info": {
   "codemirror_mode": {
    "name": "ipython",
    "version": 3
   },
   "file_extension": ".py",
   "mimetype": "text/x-python",
   "name": "python",
   "nbconvert_exporter": "python",
   "pygments_lexer": "ipython3",
   "version": "3.10.9"
  }
 },
 "nbformat": 4,
 "nbformat_minor": 5
}
