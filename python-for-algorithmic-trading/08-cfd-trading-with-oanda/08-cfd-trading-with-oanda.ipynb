{
 "cells": [
  {
   "cell_type": "code",
   "execution_count": 8,
   "metadata": {},
   "outputs": [],
   "source": [
    "import tpqoa"
   ]
  },
  {
   "cell_type": "code",
   "execution_count": 9,
   "metadata": {},
   "outputs": [],
   "source": [
    "api = tpqoa.tpqoa('./pyalgo.cfg')"
   ]
  },
  {
   "cell_type": "markdown",
   "metadata": {},
   "source": [
    "## Retrieving Historical Data\n",
    "\n",
    "### Looking Up Instruments Available for Trading"
   ]
  },
  {
   "cell_type": "code",
   "execution_count": 10,
   "metadata": {},
   "outputs": [
    {
     "data": {
      "text/plain": [
       "[('AUD/CAD', 'AUD_CAD'),\n",
       " ('AUD/CHF', 'AUD_CHF'),\n",
       " ('AUD/HKD', 'AUD_HKD'),\n",
       " ('AUD/JPY', 'AUD_JPY'),\n",
       " ('AUD/NZD', 'AUD_NZD'),\n",
       " ('AUD/SGD', 'AUD_SGD'),\n",
       " ('AUD/USD', 'AUD_USD'),\n",
       " ('Australia 200', 'AU200_AUD'),\n",
       " ('Brent Crude Oil', 'BCO_USD'),\n",
       " ('Bund', 'DE10YB_EUR'),\n",
       " ('CAD/CHF', 'CAD_CHF'),\n",
       " ('CAD/HKD', 'CAD_HKD'),\n",
       " ('CAD/JPY', 'CAD_JPY'),\n",
       " ('CAD/SGD', 'CAD_SGD'),\n",
       " ('CHF/HKD', 'CHF_HKD')]"
      ]
     },
     "execution_count": 10,
     "metadata": {},
     "output_type": "execute_result"
    }
   ],
   "source": [
    "api.get_instruments()[:15]"
   ]
  },
  {
   "cell_type": "markdown",
   "metadata": {},
   "source": [
    "### Backtesting a Momentum Strategy on Minute Bars"
   ]
  },
  {
   "cell_type": "code",
   "execution_count": 11,
   "metadata": {},
   "outputs": [],
   "source": [
    "instrument = 'EUR_USD'\n",
    "start = '2020-08-10'\n",
    "end = '2020-08-12'\n",
    "granularity = 'M1'\n",
    "price = 'M'"
   ]
  },
  {
   "cell_type": "code",
   "execution_count": 12,
   "metadata": {},
   "outputs": [
    {
     "name": "stderr",
     "output_type": "stream",
     "text": [
      "/home/mlopez/anaconda3/lib/python3.10/site-packages/v20/instrument.py:33: ResourceWarning: unclosed <ssl.SSLSocket fd=56, family=AddressFamily.AF_INET, type=SocketKind.SOCK_STREAM, proto=6, laddr=('172.18.134.126', 32890), raddr=('104.18.34.254', 443)>\n",
      "  super(Candlestick, self).__init__()\n",
      "ResourceWarning: Enable tracemalloc to get the object allocation traceback\n"
     ]
    },
    {
     "data": {
      "text/html": [
       "<div>\n",
       "<style scoped>\n",
       "    .dataframe tbody tr th:only-of-type {\n",
       "        vertical-align: middle;\n",
       "    }\n",
       "\n",
       "    .dataframe tbody tr th {\n",
       "        vertical-align: top;\n",
       "    }\n",
       "\n",
       "    .dataframe thead th {\n",
       "        text-align: right;\n",
       "    }\n",
       "</style>\n",
       "<table border=\"1\" class=\"dataframe\">\n",
       "  <thead>\n",
       "    <tr style=\"text-align: right;\">\n",
       "      <th></th>\n",
       "      <th>o</th>\n",
       "      <th>h</th>\n",
       "      <th>l</th>\n",
       "      <th>c</th>\n",
       "      <th>volume</th>\n",
       "      <th>complete</th>\n",
       "    </tr>\n",
       "    <tr>\n",
       "      <th>time</th>\n",
       "      <th></th>\n",
       "      <th></th>\n",
       "      <th></th>\n",
       "      <th></th>\n",
       "      <th></th>\n",
       "      <th></th>\n",
       "    </tr>\n",
       "  </thead>\n",
       "  <tbody>\n",
       "    <tr>\n",
       "      <th>2020-08-10 00:00:00</th>\n",
       "      <td>1.17814</td>\n",
       "      <td>1.17822</td>\n",
       "      <td>1.17814</td>\n",
       "      <td>1.17822</td>\n",
       "      <td>18</td>\n",
       "      <td>True</td>\n",
       "    </tr>\n",
       "    <tr>\n",
       "      <th>2020-08-10 00:01:00</th>\n",
       "      <td>1.17823</td>\n",
       "      <td>1.17841</td>\n",
       "      <td>1.17822</td>\n",
       "      <td>1.17836</td>\n",
       "      <td>32</td>\n",
       "      <td>True</td>\n",
       "    </tr>\n",
       "    <tr>\n",
       "      <th>2020-08-10 00:02:00</th>\n",
       "      <td>1.17834</td>\n",
       "      <td>1.17834</td>\n",
       "      <td>1.17826</td>\n",
       "      <td>1.17828</td>\n",
       "      <td>25</td>\n",
       "      <td>True</td>\n",
       "    </tr>\n",
       "    <tr>\n",
       "      <th>2020-08-10 00:03:00</th>\n",
       "      <td>1.17827</td>\n",
       "      <td>1.17834</td>\n",
       "      <td>1.17827</td>\n",
       "      <td>1.17834</td>\n",
       "      <td>13</td>\n",
       "      <td>True</td>\n",
       "    </tr>\n",
       "    <tr>\n",
       "      <th>2020-08-10 00:04:00</th>\n",
       "      <td>1.17836</td>\n",
       "      <td>1.17852</td>\n",
       "      <td>1.17836</td>\n",
       "      <td>1.17847</td>\n",
       "      <td>43</td>\n",
       "      <td>True</td>\n",
       "    </tr>\n",
       "    <tr>\n",
       "      <th>...</th>\n",
       "      <td>...</td>\n",
       "      <td>...</td>\n",
       "      <td>...</td>\n",
       "      <td>...</td>\n",
       "      <td>...</td>\n",
       "      <td>...</td>\n",
       "    </tr>\n",
       "    <tr>\n",
       "      <th>2020-08-11 23:55:00</th>\n",
       "      <td>1.17364</td>\n",
       "      <td>1.17371</td>\n",
       "      <td>1.17361</td>\n",
       "      <td>1.17366</td>\n",
       "      <td>22</td>\n",
       "      <td>True</td>\n",
       "    </tr>\n",
       "    <tr>\n",
       "      <th>2020-08-11 23:56:00</th>\n",
       "      <td>1.17364</td>\n",
       "      <td>1.17364</td>\n",
       "      <td>1.17361</td>\n",
       "      <td>1.17364</td>\n",
       "      <td>9</td>\n",
       "      <td>True</td>\n",
       "    </tr>\n",
       "    <tr>\n",
       "      <th>2020-08-11 23:57:00</th>\n",
       "      <td>1.17365</td>\n",
       "      <td>1.17366</td>\n",
       "      <td>1.17356</td>\n",
       "      <td>1.17357</td>\n",
       "      <td>11</td>\n",
       "      <td>True</td>\n",
       "    </tr>\n",
       "    <tr>\n",
       "      <th>2020-08-11 23:58:00</th>\n",
       "      <td>1.17358</td>\n",
       "      <td>1.17365</td>\n",
       "      <td>1.17358</td>\n",
       "      <td>1.17365</td>\n",
       "      <td>13</td>\n",
       "      <td>True</td>\n",
       "    </tr>\n",
       "    <tr>\n",
       "      <th>2020-08-11 23:59:00</th>\n",
       "      <td>1.17363</td>\n",
       "      <td>1.17369</td>\n",
       "      <td>1.17350</td>\n",
       "      <td>1.17350</td>\n",
       "      <td>20</td>\n",
       "      <td>True</td>\n",
       "    </tr>\n",
       "  </tbody>\n",
       "</table>\n",
       "<p>2814 rows × 6 columns</p>\n",
       "</div>"
      ],
      "text/plain": [
       "                           o        h        l        c  volume  complete\n",
       "time                                                                     \n",
       "2020-08-10 00:00:00  1.17814  1.17822  1.17814  1.17822      18      True\n",
       "2020-08-10 00:01:00  1.17823  1.17841  1.17822  1.17836      32      True\n",
       "2020-08-10 00:02:00  1.17834  1.17834  1.17826  1.17828      25      True\n",
       "2020-08-10 00:03:00  1.17827  1.17834  1.17827  1.17834      13      True\n",
       "2020-08-10 00:04:00  1.17836  1.17852  1.17836  1.17847      43      True\n",
       "...                      ...      ...      ...      ...     ...       ...\n",
       "2020-08-11 23:55:00  1.17364  1.17371  1.17361  1.17366      22      True\n",
       "2020-08-11 23:56:00  1.17364  1.17364  1.17361  1.17364       9      True\n",
       "2020-08-11 23:57:00  1.17365  1.17366  1.17356  1.17357      11      True\n",
       "2020-08-11 23:58:00  1.17358  1.17365  1.17358  1.17365      13      True\n",
       "2020-08-11 23:59:00  1.17363  1.17369  1.17350  1.17350      20      True\n",
       "\n",
       "[2814 rows x 6 columns]"
      ]
     },
     "execution_count": 12,
     "metadata": {},
     "output_type": "execute_result"
    }
   ],
   "source": [
    "data = api.get_history(instrument, start, end, granularity, price)\n",
    "data"
   ]
  },
  {
   "cell_type": "code",
   "execution_count": 13,
   "metadata": {},
   "outputs": [
    {
     "name": "stdout",
     "output_type": "stream",
     "text": [
      "<class 'pandas.core.frame.DataFrame'>\n",
      "DatetimeIndex: 2814 entries, 2020-08-10 00:00:00 to 2020-08-11 23:59:00\n",
      "Data columns (total 6 columns):\n",
      " #   Column    Non-Null Count  Dtype  \n",
      "---  ------    --------------  -----  \n",
      " 0   o         2814 non-null   float64\n",
      " 1   h         2814 non-null   float64\n",
      " 2   l         2814 non-null   float64\n",
      " 3   c         2814 non-null   float64\n",
      " 4   volume    2814 non-null   int64  \n",
      " 5   complete  2814 non-null   bool   \n",
      "dtypes: bool(1), float64(4), int64(1)\n",
      "memory usage: 134.7 KB\n"
     ]
    }
   ],
   "source": [
    "data.info()"
   ]
  },
  {
   "cell_type": "code",
   "execution_count": 14,
   "metadata": {},
   "outputs": [
    {
     "data": {
      "text/html": [
       "<div>\n",
       "<style scoped>\n",
       "    .dataframe tbody tr th:only-of-type {\n",
       "        vertical-align: middle;\n",
       "    }\n",
       "\n",
       "    .dataframe tbody tr th {\n",
       "        vertical-align: top;\n",
       "    }\n",
       "\n",
       "    .dataframe thead th {\n",
       "        text-align: right;\n",
       "    }\n",
       "</style>\n",
       "<table border=\"1\" class=\"dataframe\">\n",
       "  <thead>\n",
       "    <tr style=\"text-align: right;\">\n",
       "      <th></th>\n",
       "      <th>c</th>\n",
       "      <th>volume</th>\n",
       "    </tr>\n",
       "    <tr>\n",
       "      <th>time</th>\n",
       "      <th></th>\n",
       "      <th></th>\n",
       "    </tr>\n",
       "  </thead>\n",
       "  <tbody>\n",
       "    <tr>\n",
       "      <th>2020-08-10 00:00:00</th>\n",
       "      <td>1.17822</td>\n",
       "      <td>18</td>\n",
       "    </tr>\n",
       "    <tr>\n",
       "      <th>2020-08-10 00:01:00</th>\n",
       "      <td>1.17836</td>\n",
       "      <td>32</td>\n",
       "    </tr>\n",
       "    <tr>\n",
       "      <th>2020-08-10 00:02:00</th>\n",
       "      <td>1.17828</td>\n",
       "      <td>25</td>\n",
       "    </tr>\n",
       "    <tr>\n",
       "      <th>2020-08-10 00:03:00</th>\n",
       "      <td>1.17834</td>\n",
       "      <td>13</td>\n",
       "    </tr>\n",
       "    <tr>\n",
       "      <th>2020-08-10 00:04:00</th>\n",
       "      <td>1.17847</td>\n",
       "      <td>43</td>\n",
       "    </tr>\n",
       "  </tbody>\n",
       "</table>\n",
       "</div>"
      ],
      "text/plain": [
       "                           c  volume\n",
       "time                                \n",
       "2020-08-10 00:00:00  1.17822      18\n",
       "2020-08-10 00:01:00  1.17836      32\n",
       "2020-08-10 00:02:00  1.17828      25\n",
       "2020-08-10 00:03:00  1.17834      13\n",
       "2020-08-10 00:04:00  1.17847      43"
      ]
     },
     "execution_count": 14,
     "metadata": {},
     "output_type": "execute_result"
    }
   ],
   "source": [
    "data[['c', 'volume']].head()"
   ]
  },
  {
   "cell_type": "code",
   "execution_count": 15,
   "metadata": {},
   "outputs": [],
   "source": [
    "import numpy as np"
   ]
  },
  {
   "cell_type": "code",
   "execution_count": 16,
   "metadata": {},
   "outputs": [],
   "source": [
    "data['returns'] = np.log(data['c'] / data['c'].shift(1))"
   ]
  },
  {
   "cell_type": "code",
   "execution_count": 17,
   "metadata": {},
   "outputs": [],
   "source": [
    "cols = []\n",
    "for momentum in [15, 30, 60, 120]:\n",
    "    col = f'position_{momentum}'\n",
    "    data[col] = np.sign(data['returns'].rolling(momentum).mean())\n",
    "    cols.append(col)"
   ]
  },
  {
   "cell_type": "code",
   "execution_count": 18,
   "metadata": {},
   "outputs": [
    {
     "name": "stderr",
     "output_type": "stream",
     "text": [
      "/tmp/ipykernel_22166/4037699656.py:2: MatplotlibDeprecationWarning: The seaborn styles shipped by Matplotlib are deprecated since 3.6, as they no longer correspond to the styles shipped by seaborn. However, they will remain available as 'seaborn-v0_8-<style>'. Alternatively, directly use the seaborn API instead.\n",
      "  plt.style.use('seaborn')\n"
     ]
    }
   ],
   "source": [
    "from pylab import plt\n",
    "plt.style.use('seaborn')\n",
    "import matplotlib as mpl\n",
    "mpl.rcParams['savefig.dpi'] = 300\n",
    "mpl.rcParams['font.family'] = 'serif'"
   ]
  },
  {
   "cell_type": "code",
   "execution_count": 19,
   "metadata": {},
   "outputs": [],
   "source": [
    "strats = ['returns']"
   ]
  },
  {
   "cell_type": "code",
   "execution_count": 20,
   "metadata": {},
   "outputs": [],
   "source": [
    "for col in cols:\n",
    "    strat = 'strategy_{}'.format(col.split('_')[1])\n",
    "    data[strat] = data[col].shift(1) * data['returns']\n",
    "    strats.append(strat)"
   ]
  },
  {
   "cell_type": "code",
   "execution_count": 21,
   "metadata": {},
   "outputs": [
    {
     "data": {
      "text/plain": [
       "<Axes: xlabel='time'>"
      ]
     },
     "execution_count": 21,
     "metadata": {},
     "output_type": "execute_result"
    },
    {
     "data": {
      "image/png": "[encoded data removed]",
      "text/plain": [
       "<Figure size 1000x600 with 1 Axes>"
      ]
     },
     "metadata": {},
     "output_type": "display_data"
    }
   ],
   "source": [
    "data[strats].dropna().cumsum().apply(np.exp).plot(figsize=(10, 6))"
   ]
  },
  {
   "cell_type": "markdown",
   "metadata": {},
   "source": [
    "### Factoring In Leverage and Margin"
   ]
  },
  {
   "cell_type": "code",
   "execution_count": 22,
   "metadata": {},
   "outputs": [
    {
     "data": {
      "text/plain": [
       "<Axes: xlabel='time'>"
      ]
     },
     "execution_count": 22,
     "metadata": {},
     "output_type": "execute_result"
    },
    {
     "data": {
      "image/png": "[encoded data removed]",
      "text/plain": [
       "<Figure size 1000x600 with 1 Axes>"
      ]
     },
     "metadata": {},
     "output_type": "display_data"
    }
   ],
   "source": [
    "# leverage of 20:1\n",
    "data[strats].dropna().cumsum().apply(lambda x: x * 20).apply(np.exp).plot(figsize=(10, 6))"
   ]
  },
  {
   "cell_type": "markdown",
   "metadata": {},
   "source": [
    "## Working with Streaming Data"
   ]
  },
  {
   "cell_type": "code",
   "execution_count": 23,
   "metadata": {},
   "outputs": [],
   "source": [
    "instrument = 'EUR_USD'"
   ]
  },
  {
   "cell_type": "code",
   "execution_count": 24,
   "metadata": {},
   "outputs": [
    {
     "name": "stdout",
     "output_type": "stream",
     "text": [
      "2023-11-01T14:00:07.725418075Z 1.05526 1.05543\n",
      "2023-11-01T14:00:08.023569412Z 1.05502 1.05524\n",
      "2023-11-01T14:00:08.552776685Z 1.05502 1.05519\n",
      "2023-11-01T14:00:08.854121581Z 1.05504 1.05524\n",
      "2023-11-01T14:00:09.174350059Z 1.05499 1.05507\n",
      "2023-11-01T14:00:09.715264915Z 1.05482 1.05499\n",
      "2023-11-01T14:00:10.048307543Z 1.05476 1.05495\n",
      "2023-11-01T14:00:10.318154583Z 1.05463 1.05474\n",
      "2023-11-01T14:00:10.786141943Z 1.05453 1.05466\n",
      "2023-11-01T14:00:11.119435145Z 1.0544 1.05453\n"
     ]
    }
   ],
   "source": [
    "api.stream_data(instrument, stop=10)"
   ]
  },
  {
   "cell_type": "markdown",
   "metadata": {},
   "source": [
    "## Placing Market Orders"
   ]
  },
  {
   "cell_type": "code",
   "execution_count": 25,
   "metadata": {},
   "outputs": [
    {
     "name": "stdout",
     "output_type": "stream",
     "text": [
      "\n",
      "\n",
      " {'id': '5', 'time': '2023-11-01T14:00:11.305389207Z', 'userID': 27068029, 'accountID': '101-004-27068029-001', 'batchID': '4', 'requestID': '79183075691217905', 'type': 'ORDER_FILL', 'orderID': '4', 'instrument': 'EUR_USD', 'units': '1000.0', 'gainQuoteHomeConversionFactor': '0.82041895465', 'lossQuoteHomeConversionFactor': '0.82866437128', 'price': 1.05446, 'fullVWAP': 1.05446, 'fullPrice': {'type': 'PRICE', 'bids': [{'price': 1.05438, 'liquidity': '1000000'}, {'price': 1.05436, 'liquidity': '2000000'}, {'price': 1.05435, 'liquidity': '2000000'}, {'price': 1.05433, 'liquidity': '5000000'}], 'asks': [{'price': 1.05446, 'liquidity': '1000000'}, {'price': 1.05449, 'liquidity': '2000000'}, {'price': 1.0545, 'liquidity': '2000000'}, {'price': 1.05451, 'liquidity': '5000000'}], 'closeoutBid': 1.05433, 'closeoutAsk': 1.05451}, 'reason': 'MARKET_ORDER', 'pl': '0.0', 'financing': '0.0', 'commission': '0.0', 'guaranteedExecutionFee': '0.0', 'accountBalance': '100000.0', 'tradeOpened': {'tradeID': '5', 'units': '1000.0', 'price': 1.05446, 'guaranteedExecutionFee': '0.0', 'halfSpreadCost': '0.033', 'initialMarginRequired': '28.9773'}, 'halfSpreadCost': '0.033'} \n",
      "\n"
     ]
    }
   ],
   "source": [
    "api.create_order(instrument, 1000)"
   ]
  },
  {
   "cell_type": "code",
   "execution_count": 26,
   "metadata": {},
   "outputs": [
    {
     "name": "stdout",
     "output_type": "stream",
     "text": [
      "\n",
      "\n",
      " {'id': '7', 'time': '2023-11-01T14:00:11.456374511Z', 'userID': 27068029, 'accountID': '101-004-27068029-001', 'batchID': '6', 'requestID': '79183075691218141', 'type': 'ORDER_FILL', 'orderID': '6', 'instrument': 'EUR_USD', 'units': '-1500.0', 'gainQuoteHomeConversionFactor': '0.820222823465', 'lossQuoteHomeConversionFactor': '0.828466268927', 'price': 1.05479, 'fullVWAP': 1.05479, 'fullPrice': {'type': 'PRICE', 'bids': [{'price': 1.05479, 'liquidity': '1000000'}, {'price': 1.05477, 'liquidity': '2000000'}, {'price': 1.05476, 'liquidity': '2000000'}, {'price': 1.05474, 'liquidity': '5000000'}], 'asks': [{'price': 1.05494, 'liquidity': '999000'}, {'price': 1.05497, 'liquidity': '2000000'}, {'price': 1.05498, 'liquidity': '2000000'}, {'price': 1.05499, 'liquidity': '5000000'}], 'closeoutBid': 1.05474, 'closeoutAsk': 1.05499}, 'reason': 'MARKET_ORDER', 'pl': '0.2707', 'financing': '0.0', 'commission': '0.0', 'guaranteedExecutionFee': '0.0', 'accountBalance': '100000.2707', 'tradeOpened': {'tradeID': '7', 'units': '-500.0', 'price': 1.05479, 'guaranteedExecutionFee': '0.0', 'halfSpreadCost': '0.0309', 'initialMarginRequired': '14.49'}, 'tradesClosed': [{'tradeID': '5', 'units': '-1000.0', 'price': 1.05479, 'realizedPL': '0.2707', 'financing': '0.0', 'guaranteedExecutionFee': '0.0', 'halfSpreadCost': '0.0618'}], 'halfSpreadCost': '0.0927'} \n",
      "\n"
     ]
    }
   ],
   "source": [
    "api.create_order(instrument, -1500)"
   ]
  },
  {
   "cell_type": "code",
   "execution_count": 27,
   "metadata": {},
   "outputs": [
    {
     "name": "stdout",
     "output_type": "stream",
     "text": [
      "\n",
      "\n",
      " {'id': '9', 'time': '2023-11-01T14:00:11.588466330Z', 'userID': 27068029, 'accountID': '101-004-27068029-001', 'batchID': '8', 'requestID': '79183075691218365', 'type': 'ORDER_FILL', 'orderID': '8', 'instrument': 'EUR_USD', 'units': '500.0', 'gainQuoteHomeConversionFactor': '0.819817338186', 'lossQuoteHomeConversionFactor': '0.828056708419', 'price': 1.05531, 'fullVWAP': 1.05531, 'fullPrice': {'type': 'PRICE', 'bids': [{'price': 1.05509, 'liquidity': '998500'}, {'price': 1.05507, 'liquidity': '2000000'}, {'price': 1.05506, 'liquidity': '2000000'}, {'price': 1.05504, 'liquidity': '5000000'}], 'asks': [{'price': 1.05531, 'liquidity': '999000'}, {'price': 1.05534, 'liquidity': '2000000'}, {'price': 1.05535, 'liquidity': '2000000'}, {'price': 1.05536, 'liquidity': '5000000'}], 'closeoutBid': 1.05504, 'closeoutAsk': 1.05536}, 'reason': 'MARKET_ORDER', 'pl': '-0.2153', 'financing': '0.0', 'commission': '0.0', 'guaranteedExecutionFee': '0.0', 'accountBalance': '100000.0554', 'tradesClosed': [{'tradeID': '7', 'units': '500.0', 'price': 1.05531, 'realizedPL': '-0.2153', 'financing': '0.0', 'guaranteedExecutionFee': '0.0', 'halfSpreadCost': '0.0453'}], 'halfSpreadCost': '0.0453'} \n",
      "\n"
     ]
    }
   ],
   "source": [
    "api.create_order(instrument, 500)"
   ]
  },
  {
   "cell_type": "markdown",
   "metadata": {},
   "source": [
    "## Implementing Trading Strategies in Real Time"
   ]
  },
  {
   "cell_type": "code",
   "execution_count": 28,
   "metadata": {},
   "outputs": [],
   "source": [
    "import MomentumTrader as MT"
   ]
  },
  {
   "cell_type": "code",
   "execution_count": 29,
   "metadata": {},
   "outputs": [],
   "source": [
    "mt = MT.MomentumTrader(\n",
    "    './pyalgo.cfg',\n",
    "    instrument=instrument,\n",
    "    bar_length='10s',\n",
    "    momentum=6,\n",
    "    units=10000\n",
    ")"
   ]
  },
  {
   "cell_type": "code",
   "execution_count": 30,
   "metadata": {},
   "outputs": [
    {
     "name": "stdout",
     "output_type": "stream",
     "text": [
      "1 "
     ]
    },
    {
     "name": "stderr",
     "output_type": "stream",
     "text": [
      "/home/mlopez/dev/python-projects/quant-learning/python-for-algorithmic-trading/08-cfd-trading-with-oanda/MomentumTrader.py:31: FutureWarning: The frame.append method is deprecated and will be removed from pandas in a future version. Use pandas.concat instead.\n",
      "  self.raw_data = self.raw_data.append(\n"
     ]
    },
    {
     "name": "stdout",
     "output_type": "stream",
     "text": [
      "2 "
     ]
    },
    {
     "name": "stderr",
     "output_type": "stream",
     "text": [
      "/home/mlopez/dev/python-projects/quant-learning/python-for-algorithmic-trading/08-cfd-trading-with-oanda/MomentumTrader.py:31: FutureWarning: The frame.append method is deprecated and will be removed from pandas in a future version. Use pandas.concat instead.\n",
      "  self.raw_data = self.raw_data.append(\n"
     ]
    },
    {
     "name": "stdout",
     "output_type": "stream",
     "text": [
      "3 "
     ]
    },
    {
     "name": "stderr",
     "output_type": "stream",
     "text": [
      "/home/mlopez/dev/python-projects/quant-learning/python-for-algorithmic-trading/08-cfd-trading-with-oanda/MomentumTrader.py:31: FutureWarning: The frame.append method is deprecated and will be removed from pandas in a future version. Use pandas.concat instead.\n",
      "  self.raw_data = self.raw_data.append(\n"
     ]
    },
    {
     "name": "stdout",
     "output_type": "stream",
     "text": [
      "4 "
     ]
    },
    {
     "name": "stderr",
     "output_type": "stream",
     "text": [
      "/home/mlopez/dev/python-projects/quant-learning/python-for-algorithmic-trading/08-cfd-trading-with-oanda/MomentumTrader.py:31: FutureWarning: The frame.append method is deprecated and will be removed from pandas in a future version. Use pandas.concat instead.\n",
      "  self.raw_data = self.raw_data.append(\n"
     ]
    },
    {
     "name": "stdout",
     "output_type": "stream",
     "text": [
      "5 "
     ]
    },
    {
     "name": "stderr",
     "output_type": "stream",
     "text": [
      "/home/mlopez/dev/python-projects/quant-learning/python-for-algorithmic-trading/08-cfd-trading-with-oanda/MomentumTrader.py:31: FutureWarning: The frame.append method is deprecated and will be removed from pandas in a future version. Use pandas.concat instead.\n",
      "  self.raw_data = self.raw_data.append(\n"
     ]
    },
    {
     "name": "stdout",
     "output_type": "stream",
     "text": [
      "6 "
     ]
    },
    {
     "name": "stderr",
     "output_type": "stream",
     "text": [
      "/home/mlopez/dev/python-projects/quant-learning/python-for-algorithmic-trading/08-cfd-trading-with-oanda/MomentumTrader.py:31: FutureWarning: The frame.append method is deprecated and will be removed from pandas in a future version. Use pandas.concat instead.\n",
      "  self.raw_data = self.raw_data.append(\n"
     ]
    },
    {
     "name": "stdout",
     "output_type": "stream",
     "text": [
      "7 "
     ]
    },
    {
     "name": "stderr",
     "output_type": "stream",
     "text": [
      "/home/mlopez/dev/python-projects/quant-learning/python-for-algorithmic-trading/08-cfd-trading-with-oanda/MomentumTrader.py:31: FutureWarning: The frame.append method is deprecated and will be removed from pandas in a future version. Use pandas.concat instead.\n",
      "  self.raw_data = self.raw_data.append(\n"
     ]
    },
    {
     "name": "stdout",
     "output_type": "stream",
     "text": [
      "8 "
     ]
    },
    {
     "name": "stderr",
     "output_type": "stream",
     "text": [
      "/home/mlopez/dev/python-projects/quant-learning/python-for-algorithmic-trading/08-cfd-trading-with-oanda/MomentumTrader.py:31: FutureWarning: The frame.append method is deprecated and will be removed from pandas in a future version. Use pandas.concat instead.\n",
      "  self.raw_data = self.raw_data.append(\n"
     ]
    },
    {
     "name": "stdout",
     "output_type": "stream",
     "text": [
      "9 "
     ]
    },
    {
     "name": "stderr",
     "output_type": "stream",
     "text": [
      "/home/mlopez/dev/python-projects/quant-learning/python-for-algorithmic-trading/08-cfd-trading-with-oanda/MomentumTrader.py:31: FutureWarning: The frame.append method is deprecated and will be removed from pandas in a future version. Use pandas.concat instead.\n",
      "  self.raw_data = self.raw_data.append(\n"
     ]
    },
    {
     "name": "stdout",
     "output_type": "stream",
     "text": [
      "10 "
     ]
    },
    {
     "name": "stderr",
     "output_type": "stream",
     "text": [
      "/home/mlopez/dev/python-projects/quant-learning/python-for-algorithmic-trading/08-cfd-trading-with-oanda/MomentumTrader.py:31: FutureWarning: The frame.append method is deprecated and will be removed from pandas in a future version. Use pandas.concat instead.\n",
      "  self.raw_data = self.raw_data.append(\n"
     ]
    },
    {
     "name": "stdout",
     "output_type": "stream",
     "text": [
      "11 "
     ]
    },
    {
     "name": "stderr",
     "output_type": "stream",
     "text": [
      "/home/mlopez/dev/python-projects/quant-learning/python-for-algorithmic-trading/08-cfd-trading-with-oanda/MomentumTrader.py:31: FutureWarning: The frame.append method is deprecated and will be removed from pandas in a future version. Use pandas.concat instead.\n",
      "  self.raw_data = self.raw_data.append(\n"
     ]
    },
    {
     "name": "stdout",
     "output_type": "stream",
     "text": [
      "12 "
     ]
    },
    {
     "name": "stderr",
     "output_type": "stream",
     "text": [
      "/home/mlopez/dev/python-projects/quant-learning/python-for-algorithmic-trading/08-cfd-trading-with-oanda/MomentumTrader.py:31: FutureWarning: The frame.append method is deprecated and will be removed from pandas in a future version. Use pandas.concat instead.\n",
      "  self.raw_data = self.raw_data.append(\n"
     ]
    },
    {
     "name": "stdout",
     "output_type": "stream",
     "text": [
      "13 "
     ]
    },
    {
     "name": "stderr",
     "output_type": "stream",
     "text": [
      "/home/mlopez/dev/python-projects/quant-learning/python-for-algorithmic-trading/08-cfd-trading-with-oanda/MomentumTrader.py:31: FutureWarning: The frame.append method is deprecated and will be removed from pandas in a future version. Use pandas.concat instead.\n",
      "  self.raw_data = self.raw_data.append(\n"
     ]
    },
    {
     "name": "stdout",
     "output_type": "stream",
     "text": [
      "14 "
     ]
    },
    {
     "name": "stderr",
     "output_type": "stream",
     "text": [
      "/home/mlopez/dev/python-projects/quant-learning/python-for-algorithmic-trading/08-cfd-trading-with-oanda/MomentumTrader.py:31: FutureWarning: The frame.append method is deprecated and will be removed from pandas in a future version. Use pandas.concat instead.\n",
      "  self.raw_data = self.raw_data.append(\n"
     ]
    },
    {
     "name": "stdout",
     "output_type": "stream",
     "text": [
      "15 "
     ]
    },
    {
     "name": "stderr",
     "output_type": "stream",
     "text": [
      "/home/mlopez/dev/python-projects/quant-learning/python-for-algorithmic-trading/08-cfd-trading-with-oanda/MomentumTrader.py:31: FutureWarning: The frame.append method is deprecated and will be removed from pandas in a future version. Use pandas.concat instead.\n",
      "  self.raw_data = self.raw_data.append(\n"
     ]
    },
    {
     "name": "stdout",
     "output_type": "stream",
     "text": [
      "16 "
     ]
    },
    {
     "name": "stderr",
     "output_type": "stream",
     "text": [
      "/home/mlopez/dev/python-projects/quant-learning/python-for-algorithmic-trading/08-cfd-trading-with-oanda/MomentumTrader.py:31: FutureWarning: The frame.append method is deprecated and will be removed from pandas in a future version. Use pandas.concat instead.\n",
      "  self.raw_data = self.raw_data.append(\n"
     ]
    },
    {
     "name": "stdout",
     "output_type": "stream",
     "text": [
      "17 "
     ]
    },
    {
     "name": "stderr",
     "output_type": "stream",
     "text": [
      "/home/mlopez/dev/python-projects/quant-learning/python-for-algorithmic-trading/08-cfd-trading-with-oanda/MomentumTrader.py:31: FutureWarning: The frame.append method is deprecated and will be removed from pandas in a future version. Use pandas.concat instead.\n",
      "  self.raw_data = self.raw_data.append(\n"
     ]
    },
    {
     "name": "stdout",
     "output_type": "stream",
     "text": [
      "18 "
     ]
    },
    {
     "name": "stderr",
     "output_type": "stream",
     "text": [
      "/home/mlopez/dev/python-projects/quant-learning/python-for-algorithmic-trading/08-cfd-trading-with-oanda/MomentumTrader.py:31: FutureWarning: The frame.append method is deprecated and will be removed from pandas in a future version. Use pandas.concat instead.\n",
      "  self.raw_data = self.raw_data.append(\n"
     ]
    },
    {
     "name": "stdout",
     "output_type": "stream",
     "text": [
      "19 "
     ]
    },
    {
     "name": "stderr",
     "output_type": "stream",
     "text": [
      "/home/mlopez/dev/python-projects/quant-learning/python-for-algorithmic-trading/08-cfd-trading-with-oanda/MomentumTrader.py:31: FutureWarning: The frame.append method is deprecated and will be removed from pandas in a future version. Use pandas.concat instead.\n",
      "  self.raw_data = self.raw_data.append(\n"
     ]
    },
    {
     "name": "stdout",
     "output_type": "stream",
     "text": [
      "20 "
     ]
    },
    {
     "name": "stderr",
     "output_type": "stream",
     "text": [
      "/home/mlopez/dev/python-projects/quant-learning/python-for-algorithmic-trading/08-cfd-trading-with-oanda/MomentumTrader.py:31: FutureWarning: The frame.append method is deprecated and will be removed from pandas in a future version. Use pandas.concat instead.\n",
      "  self.raw_data = self.raw_data.append(\n"
     ]
    },
    {
     "name": "stdout",
     "output_type": "stream",
     "text": [
      "21 "
     ]
    },
    {
     "name": "stderr",
     "output_type": "stream",
     "text": [
      "/home/mlopez/dev/python-projects/quant-learning/python-for-algorithmic-trading/08-cfd-trading-with-oanda/MomentumTrader.py:31: FutureWarning: The frame.append method is deprecated and will be removed from pandas in a future version. Use pandas.concat instead.\n",
      "  self.raw_data = self.raw_data.append(\n"
     ]
    },
    {
     "name": "stdout",
     "output_type": "stream",
     "text": [
      "22 "
     ]
    },
    {
     "name": "stderr",
     "output_type": "stream",
     "text": [
      "/home/mlopez/dev/python-projects/quant-learning/python-for-algorithmic-trading/08-cfd-trading-with-oanda/MomentumTrader.py:31: FutureWarning: The frame.append method is deprecated and will be removed from pandas in a future version. Use pandas.concat instead.\n",
      "  self.raw_data = self.raw_data.append(\n"
     ]
    },
    {
     "name": "stdout",
     "output_type": "stream",
     "text": [
      "23 "
     ]
    },
    {
     "name": "stderr",
     "output_type": "stream",
     "text": [
      "/home/mlopez/dev/python-projects/quant-learning/python-for-algorithmic-trading/08-cfd-trading-with-oanda/MomentumTrader.py:31: FutureWarning: The frame.append method is deprecated and will be removed from pandas in a future version. Use pandas.concat instead.\n",
      "  self.raw_data = self.raw_data.append(\n"
     ]
    },
    {
     "name": "stdout",
     "output_type": "stream",
     "text": [
      "24 "
     ]
    },
    {
     "name": "stderr",
     "output_type": "stream",
     "text": [
      "/home/mlopez/dev/python-projects/quant-learning/python-for-algorithmic-trading/08-cfd-trading-with-oanda/MomentumTrader.py:31: FutureWarning: The frame.append method is deprecated and will be removed from pandas in a future version. Use pandas.concat instead.\n",
      "  self.raw_data = self.raw_data.append(\n"
     ]
    },
    {
     "name": "stdout",
     "output_type": "stream",
     "text": [
      "25 "
     ]
    },
    {
     "name": "stderr",
     "output_type": "stream",
     "text": [
      "/home/mlopez/dev/python-projects/quant-learning/python-for-algorithmic-trading/08-cfd-trading-with-oanda/MomentumTrader.py:31: FutureWarning: The frame.append method is deprecated and will be removed from pandas in a future version. Use pandas.concat instead.\n",
      "  self.raw_data = self.raw_data.append(\n"
     ]
    },
    {
     "name": "stdout",
     "output_type": "stream",
     "text": [
      "26 "
     ]
    },
    {
     "name": "stderr",
     "output_type": "stream",
     "text": [
      "/home/mlopez/dev/python-projects/quant-learning/python-for-algorithmic-trading/08-cfd-trading-with-oanda/MomentumTrader.py:31: FutureWarning: The frame.append method is deprecated and will be removed from pandas in a future version. Use pandas.concat instead.\n",
      "  self.raw_data = self.raw_data.append(\n"
     ]
    },
    {
     "name": "stdout",
     "output_type": "stream",
     "text": [
      "27 "
     ]
    },
    {
     "name": "stderr",
     "output_type": "stream",
     "text": [
      "/home/mlopez/dev/python-projects/quant-learning/python-for-algorithmic-trading/08-cfd-trading-with-oanda/MomentumTrader.py:31: FutureWarning: The frame.append method is deprecated and will be removed from pandas in a future version. Use pandas.concat instead.\n",
      "  self.raw_data = self.raw_data.append(\n"
     ]
    },
    {
     "name": "stdout",
     "output_type": "stream",
     "text": [
      "28 "
     ]
    },
    {
     "name": "stderr",
     "output_type": "stream",
     "text": [
      "/home/mlopez/dev/python-projects/quant-learning/python-for-algorithmic-trading/08-cfd-trading-with-oanda/MomentumTrader.py:31: FutureWarning: The frame.append method is deprecated and will be removed from pandas in a future version. Use pandas.concat instead.\n",
      "  self.raw_data = self.raw_data.append(\n"
     ]
    },
    {
     "name": "stdout",
     "output_type": "stream",
     "text": [
      "29 "
     ]
    },
    {
     "name": "stderr",
     "output_type": "stream",
     "text": [
      "/home/mlopez/dev/python-projects/quant-learning/python-for-algorithmic-trading/08-cfd-trading-with-oanda/MomentumTrader.py:31: FutureWarning: The frame.append method is deprecated and will be removed from pandas in a future version. Use pandas.concat instead.\n",
      "  self.raw_data = self.raw_data.append(\n"
     ]
    },
    {
     "name": "stdout",
     "output_type": "stream",
     "text": [
      "30 "
     ]
    },
    {
     "name": "stderr",
     "output_type": "stream",
     "text": [
      "/home/mlopez/dev/python-projects/quant-learning/python-for-algorithmic-trading/08-cfd-trading-with-oanda/MomentumTrader.py:31: FutureWarning: The frame.append method is deprecated and will be removed from pandas in a future version. Use pandas.concat instead.\n",
      "  self.raw_data = self.raw_data.append(\n"
     ]
    },
    {
     "name": "stdout",
     "output_type": "stream",
     "text": [
      "31 "
     ]
    },
    {
     "name": "stderr",
     "output_type": "stream",
     "text": [
      "/home/mlopez/dev/python-projects/quant-learning/python-for-algorithmic-trading/08-cfd-trading-with-oanda/MomentumTrader.py:31: FutureWarning: The frame.append method is deprecated and will be removed from pandas in a future version. Use pandas.concat instead.\n",
      "  self.raw_data = self.raw_data.append(\n"
     ]
    },
    {
     "name": "stdout",
     "output_type": "stream",
     "text": [
      "32 "
     ]
    },
    {
     "name": "stderr",
     "output_type": "stream",
     "text": [
      "/home/mlopez/dev/python-projects/quant-learning/python-for-algorithmic-trading/08-cfd-trading-with-oanda/MomentumTrader.py:31: FutureWarning: The frame.append method is deprecated and will be removed from pandas in a future version. Use pandas.concat instead.\n",
      "  self.raw_data = self.raw_data.append(\n"
     ]
    },
    {
     "name": "stdout",
     "output_type": "stream",
     "text": [
      "33 "
     ]
    },
    {
     "name": "stderr",
     "output_type": "stream",
     "text": [
      "/home/mlopez/dev/python-projects/quant-learning/python-for-algorithmic-trading/08-cfd-trading-with-oanda/MomentumTrader.py:31: FutureWarning: The frame.append method is deprecated and will be removed from pandas in a future version. Use pandas.concat instead.\n",
      "  self.raw_data = self.raw_data.append(\n"
     ]
    },
    {
     "name": "stdout",
     "output_type": "stream",
     "text": [
      "34 "
     ]
    },
    {
     "name": "stderr",
     "output_type": "stream",
     "text": [
      "/home/mlopez/dev/python-projects/quant-learning/python-for-algorithmic-trading/08-cfd-trading-with-oanda/MomentumTrader.py:31: FutureWarning: The frame.append method is deprecated and will be removed from pandas in a future version. Use pandas.concat instead.\n",
      "  self.raw_data = self.raw_data.append(\n"
     ]
    },
    {
     "name": "stdout",
     "output_type": "stream",
     "text": [
      "35 "
     ]
    },
    {
     "name": "stderr",
     "output_type": "stream",
     "text": [
      "/home/mlopez/dev/python-projects/quant-learning/python-for-algorithmic-trading/08-cfd-trading-with-oanda/MomentumTrader.py:31: FutureWarning: The frame.append method is deprecated and will be removed from pandas in a future version. Use pandas.concat instead.\n",
      "  self.raw_data = self.raw_data.append(\n"
     ]
    },
    {
     "name": "stdout",
     "output_type": "stream",
     "text": [
      "36 "
     ]
    },
    {
     "name": "stderr",
     "output_type": "stream",
     "text": [
      "/home/mlopez/dev/python-projects/quant-learning/python-for-algorithmic-trading/08-cfd-trading-with-oanda/MomentumTrader.py:31: FutureWarning: The frame.append method is deprecated and will be removed from pandas in a future version. Use pandas.concat instead.\n",
      "  self.raw_data = self.raw_data.append(\n"
     ]
    },
    {
     "name": "stdout",
     "output_type": "stream",
     "text": [
      "37 "
     ]
    },
    {
     "name": "stderr",
     "output_type": "stream",
     "text": [
      "/home/mlopez/dev/python-projects/quant-learning/python-for-algorithmic-trading/08-cfd-trading-with-oanda/MomentumTrader.py:31: FutureWarning: The frame.append method is deprecated and will be removed from pandas in a future version. Use pandas.concat instead.\n",
      "  self.raw_data = self.raw_data.append(\n"
     ]
    },
    {
     "name": "stdout",
     "output_type": "stream",
     "text": [
      "38 "
     ]
    },
    {
     "name": "stderr",
     "output_type": "stream",
     "text": [
      "/home/mlopez/dev/python-projects/quant-learning/python-for-algorithmic-trading/08-cfd-trading-with-oanda/MomentumTrader.py:31: FutureWarning: The frame.append method is deprecated and will be removed from pandas in a future version. Use pandas.concat instead.\n",
      "  self.raw_data = self.raw_data.append(\n"
     ]
    },
    {
     "name": "stdout",
     "output_type": "stream",
     "text": [
      "39 "
     ]
    },
    {
     "name": "stderr",
     "output_type": "stream",
     "text": [
      "/home/mlopez/dev/python-projects/quant-learning/python-for-algorithmic-trading/08-cfd-trading-with-oanda/MomentumTrader.py:31: FutureWarning: The frame.append method is deprecated and will be removed from pandas in a future version. Use pandas.concat instead.\n",
      "  self.raw_data = self.raw_data.append(\n"
     ]
    },
    {
     "name": "stdout",
     "output_type": "stream",
     "text": [
      "40 "
     ]
    },
    {
     "name": "stderr",
     "output_type": "stream",
     "text": [
      "/home/mlopez/dev/python-projects/quant-learning/python-for-algorithmic-trading/08-cfd-trading-with-oanda/MomentumTrader.py:31: FutureWarning: The frame.append method is deprecated and will be removed from pandas in a future version. Use pandas.concat instead.\n",
      "  self.raw_data = self.raw_data.append(\n"
     ]
    },
    {
     "name": "stdout",
     "output_type": "stream",
     "text": [
      "41 "
     ]
    },
    {
     "name": "stderr",
     "output_type": "stream",
     "text": [
      "/home/mlopez/dev/python-projects/quant-learning/python-for-algorithmic-trading/08-cfd-trading-with-oanda/MomentumTrader.py:31: FutureWarning: The frame.append method is deprecated and will be removed from pandas in a future version. Use pandas.concat instead.\n",
      "  self.raw_data = self.raw_data.append(\n"
     ]
    },
    {
     "name": "stdout",
     "output_type": "stream",
     "text": [
      "42 "
     ]
    },
    {
     "name": "stderr",
     "output_type": "stream",
     "text": [
      "/home/mlopez/dev/python-projects/quant-learning/python-for-algorithmic-trading/08-cfd-trading-with-oanda/MomentumTrader.py:31: FutureWarning: The frame.append method is deprecated and will be removed from pandas in a future version. Use pandas.concat instead.\n",
      "  self.raw_data = self.raw_data.append(\n"
     ]
    },
    {
     "name": "stdout",
     "output_type": "stream",
     "text": [
      "43 "
     ]
    },
    {
     "name": "stderr",
     "output_type": "stream",
     "text": [
      "/home/mlopez/dev/python-projects/quant-learning/python-for-algorithmic-trading/08-cfd-trading-with-oanda/MomentumTrader.py:31: FutureWarning: The frame.append method is deprecated and will be removed from pandas in a future version. Use pandas.concat instead.\n",
      "  self.raw_data = self.raw_data.append(\n"
     ]
    },
    {
     "name": "stdout",
     "output_type": "stream",
     "text": [
      "44 "
     ]
    },
    {
     "name": "stderr",
     "output_type": "stream",
     "text": [
      "/home/mlopez/dev/python-projects/quant-learning/python-for-algorithmic-trading/08-cfd-trading-with-oanda/MomentumTrader.py:31: FutureWarning: The frame.append method is deprecated and will be removed from pandas in a future version. Use pandas.concat instead.\n",
      "  self.raw_data = self.raw_data.append(\n"
     ]
    },
    {
     "name": "stdout",
     "output_type": "stream",
     "text": [
      "45 "
     ]
    },
    {
     "name": "stderr",
     "output_type": "stream",
     "text": [
      "/home/mlopez/dev/python-projects/quant-learning/python-for-algorithmic-trading/08-cfd-trading-with-oanda/MomentumTrader.py:31: FutureWarning: The frame.append method is deprecated and will be removed from pandas in a future version. Use pandas.concat instead.\n",
      "  self.raw_data = self.raw_data.append(\n"
     ]
    },
    {
     "name": "stdout",
     "output_type": "stream",
     "text": [
      "46 "
     ]
    },
    {
     "name": "stderr",
     "output_type": "stream",
     "text": [
      "/home/mlopez/dev/python-projects/quant-learning/python-for-algorithmic-trading/08-cfd-trading-with-oanda/MomentumTrader.py:31: FutureWarning: The frame.append method is deprecated and will be removed from pandas in a future version. Use pandas.concat instead.\n",
      "  self.raw_data = self.raw_data.append(\n"
     ]
    },
    {
     "name": "stdout",
     "output_type": "stream",
     "text": [
      "47 "
     ]
    },
    {
     "name": "stderr",
     "output_type": "stream",
     "text": [
      "/home/mlopez/dev/python-projects/quant-learning/python-for-algorithmic-trading/08-cfd-trading-with-oanda/MomentumTrader.py:31: FutureWarning: The frame.append method is deprecated and will be removed from pandas in a future version. Use pandas.concat instead.\n",
      "  self.raw_data = self.raw_data.append(\n"
     ]
    },
    {
     "name": "stdout",
     "output_type": "stream",
     "text": [
      "48 "
     ]
    },
    {
     "name": "stderr",
     "output_type": "stream",
     "text": [
      "/home/mlopez/dev/python-projects/quant-learning/python-for-algorithmic-trading/08-cfd-trading-with-oanda/MomentumTrader.py:31: FutureWarning: The frame.append method is deprecated and will be removed from pandas in a future version. Use pandas.concat instead.\n",
      "  self.raw_data = self.raw_data.append(\n"
     ]
    },
    {
     "name": "stdout",
     "output_type": "stream",
     "text": [
      "49 "
     ]
    },
    {
     "name": "stderr",
     "output_type": "stream",
     "text": [
      "/home/mlopez/dev/python-projects/quant-learning/python-for-algorithmic-trading/08-cfd-trading-with-oanda/MomentumTrader.py:31: FutureWarning: The frame.append method is deprecated and will be removed from pandas in a future version. Use pandas.concat instead.\n",
      "  self.raw_data = self.raw_data.append(\n"
     ]
    },
    {
     "name": "stdout",
     "output_type": "stream",
     "text": [
      "50 "
     ]
    },
    {
     "name": "stderr",
     "output_type": "stream",
     "text": [
      "/home/mlopez/dev/python-projects/quant-learning/python-for-algorithmic-trading/08-cfd-trading-with-oanda/MomentumTrader.py:31: FutureWarning: The frame.append method is deprecated and will be removed from pandas in a future version. Use pandas.concat instead.\n",
      "  self.raw_data = self.raw_data.append(\n"
     ]
    },
    {
     "name": "stdout",
     "output_type": "stream",
     "text": [
      "51 "
     ]
    },
    {
     "name": "stderr",
     "output_type": "stream",
     "text": [
      "/home/mlopez/dev/python-projects/quant-learning/python-for-algorithmic-trading/08-cfd-trading-with-oanda/MomentumTrader.py:31: FutureWarning: The frame.append method is deprecated and will be removed from pandas in a future version. Use pandas.concat instead.\n",
      "  self.raw_data = self.raw_data.append(\n"
     ]
    },
    {
     "name": "stdout",
     "output_type": "stream",
     "text": [
      "52 "
     ]
    },
    {
     "name": "stderr",
     "output_type": "stream",
     "text": [
      "/home/mlopez/dev/python-projects/quant-learning/python-for-algorithmic-trading/08-cfd-trading-with-oanda/MomentumTrader.py:31: FutureWarning: The frame.append method is deprecated and will be removed from pandas in a future version. Use pandas.concat instead.\n",
      "  self.raw_data = self.raw_data.append(\n"
     ]
    },
    {
     "name": "stdout",
     "output_type": "stream",
     "text": [
      "53 "
     ]
    },
    {
     "name": "stderr",
     "output_type": "stream",
     "text": [
      "/home/mlopez/dev/python-projects/quant-learning/python-for-algorithmic-trading/08-cfd-trading-with-oanda/MomentumTrader.py:31: FutureWarning: The frame.append method is deprecated and will be removed from pandas in a future version. Use pandas.concat instead.\n",
      "  self.raw_data = self.raw_data.append(\n"
     ]
    },
    {
     "name": "stdout",
     "output_type": "stream",
     "text": [
      "54 "
     ]
    },
    {
     "name": "stderr",
     "output_type": "stream",
     "text": [
      "/home/mlopez/dev/python-projects/quant-learning/python-for-algorithmic-trading/08-cfd-trading-with-oanda/MomentumTrader.py:31: FutureWarning: The frame.append method is deprecated and will be removed from pandas in a future version. Use pandas.concat instead.\n",
      "  self.raw_data = self.raw_data.append(\n"
     ]
    },
    {
     "name": "stdout",
     "output_type": "stream",
     "text": [
      "55 "
     ]
    },
    {
     "name": "stderr",
     "output_type": "stream",
     "text": [
      "/home/mlopez/dev/python-projects/quant-learning/python-for-algorithmic-trading/08-cfd-trading-with-oanda/MomentumTrader.py:31: FutureWarning: The frame.append method is deprecated and will be removed from pandas in a future version. Use pandas.concat instead.\n",
      "  self.raw_data = self.raw_data.append(\n"
     ]
    },
    {
     "name": "stdout",
     "output_type": "stream",
     "text": [
      "56 "
     ]
    },
    {
     "name": "stderr",
     "output_type": "stream",
     "text": [
      "/home/mlopez/dev/python-projects/quant-learning/python-for-algorithmic-trading/08-cfd-trading-with-oanda/MomentumTrader.py:31: FutureWarning: The frame.append method is deprecated and will be removed from pandas in a future version. Use pandas.concat instead.\n",
      "  self.raw_data = self.raw_data.append(\n"
     ]
    },
    {
     "name": "stdout",
     "output_type": "stream",
     "text": [
      "57 "
     ]
    },
    {
     "name": "stderr",
     "output_type": "stream",
     "text": [
      "/home/mlopez/dev/python-projects/quant-learning/python-for-algorithmic-trading/08-cfd-trading-with-oanda/MomentumTrader.py:31: FutureWarning: The frame.append method is deprecated and will be removed from pandas in a future version. Use pandas.concat instead.\n",
      "  self.raw_data = self.raw_data.append(\n"
     ]
    },
    {
     "name": "stdout",
     "output_type": "stream",
     "text": [
      "58 "
     ]
    },
    {
     "name": "stderr",
     "output_type": "stream",
     "text": [
      "/home/mlopez/dev/python-projects/quant-learning/python-for-algorithmic-trading/08-cfd-trading-with-oanda/MomentumTrader.py:31: FutureWarning: The frame.append method is deprecated and will be removed from pandas in a future version. Use pandas.concat instead.\n",
      "  self.raw_data = self.raw_data.append(\n"
     ]
    },
    {
     "name": "stdout",
     "output_type": "stream",
     "text": [
      "59 "
     ]
    },
    {
     "name": "stderr",
     "output_type": "stream",
     "text": [
      "/home/mlopez/dev/python-projects/quant-learning/python-for-algorithmic-trading/08-cfd-trading-with-oanda/MomentumTrader.py:31: FutureWarning: The frame.append method is deprecated and will be removed from pandas in a future version. Use pandas.concat instead.\n",
      "  self.raw_data = self.raw_data.append(\n"
     ]
    },
    {
     "name": "stdout",
     "output_type": "stream",
     "text": [
      "60 "
     ]
    },
    {
     "name": "stderr",
     "output_type": "stream",
     "text": [
      "/home/mlopez/dev/python-projects/quant-learning/python-for-algorithmic-trading/08-cfd-trading-with-oanda/MomentumTrader.py:31: FutureWarning: The frame.append method is deprecated and will be removed from pandas in a future version. Use pandas.concat instead.\n",
      "  self.raw_data = self.raw_data.append(\n"
     ]
    },
    {
     "name": "stdout",
     "output_type": "stream",
     "text": [
      "61 "
     ]
    },
    {
     "name": "stderr",
     "output_type": "stream",
     "text": [
      "/home/mlopez/dev/python-projects/quant-learning/python-for-algorithmic-trading/08-cfd-trading-with-oanda/MomentumTrader.py:31: FutureWarning: The frame.append method is deprecated and will be removed from pandas in a future version. Use pandas.concat instead.\n",
      "  self.raw_data = self.raw_data.append(\n"
     ]
    },
    {
     "name": "stdout",
     "output_type": "stream",
     "text": [
      "62 "
     ]
    },
    {
     "name": "stderr",
     "output_type": "stream",
     "text": [
      "/home/mlopez/dev/python-projects/quant-learning/python-for-algorithmic-trading/08-cfd-trading-with-oanda/MomentumTrader.py:31: FutureWarning: The frame.append method is deprecated and will be removed from pandas in a future version. Use pandas.concat instead.\n",
      "  self.raw_data = self.raw_data.append(\n"
     ]
    },
    {
     "name": "stdout",
     "output_type": "stream",
     "text": [
      "63 "
     ]
    },
    {
     "name": "stderr",
     "output_type": "stream",
     "text": [
      "/home/mlopez/dev/python-projects/quant-learning/python-for-algorithmic-trading/08-cfd-trading-with-oanda/MomentumTrader.py:31: FutureWarning: The frame.append method is deprecated and will be removed from pandas in a future version. Use pandas.concat instead.\n",
      "  self.raw_data = self.raw_data.append(\n"
     ]
    },
    {
     "name": "stdout",
     "output_type": "stream",
     "text": [
      "64 "
     ]
    },
    {
     "name": "stderr",
     "output_type": "stream",
     "text": [
      "/home/mlopez/dev/python-projects/quant-learning/python-for-algorithmic-trading/08-cfd-trading-with-oanda/MomentumTrader.py:31: FutureWarning: The frame.append method is deprecated and will be removed from pandas in a future version. Use pandas.concat instead.\n",
      "  self.raw_data = self.raw_data.append(\n"
     ]
    },
    {
     "name": "stdout",
     "output_type": "stream",
     "text": [
      "65 "
     ]
    },
    {
     "name": "stderr",
     "output_type": "stream",
     "text": [
      "/home/mlopez/dev/python-projects/quant-learning/python-for-algorithmic-trading/08-cfd-trading-with-oanda/MomentumTrader.py:31: FutureWarning: The frame.append method is deprecated and will be removed from pandas in a future version. Use pandas.concat instead.\n",
      "  self.raw_data = self.raw_data.append(\n"
     ]
    },
    {
     "name": "stdout",
     "output_type": "stream",
     "text": [
      "66 "
     ]
    },
    {
     "name": "stderr",
     "output_type": "stream",
     "text": [
      "/home/mlopez/dev/python-projects/quant-learning/python-for-algorithmic-trading/08-cfd-trading-with-oanda/MomentumTrader.py:31: FutureWarning: The frame.append method is deprecated and will be removed from pandas in a future version. Use pandas.concat instead.\n",
      "  self.raw_data = self.raw_data.append(\n"
     ]
    },
    {
     "name": "stdout",
     "output_type": "stream",
     "text": [
      "67 "
     ]
    },
    {
     "name": "stderr",
     "output_type": "stream",
     "text": [
      "/home/mlopez/dev/python-projects/quant-learning/python-for-algorithmic-trading/08-cfd-trading-with-oanda/MomentumTrader.py:31: FutureWarning: The frame.append method is deprecated and will be removed from pandas in a future version. Use pandas.concat instead.\n",
      "  self.raw_data = self.raw_data.append(\n"
     ]
    },
    {
     "name": "stdout",
     "output_type": "stream",
     "text": [
      "68 "
     ]
    },
    {
     "name": "stderr",
     "output_type": "stream",
     "text": [
      "/home/mlopez/dev/python-projects/quant-learning/python-for-algorithmic-trading/08-cfd-trading-with-oanda/MomentumTrader.py:31: FutureWarning: The frame.append method is deprecated and will be removed from pandas in a future version. Use pandas.concat instead.\n",
      "  self.raw_data = self.raw_data.append(\n"
     ]
    },
    {
     "name": "stdout",
     "output_type": "stream",
     "text": [
      "69 "
     ]
    },
    {
     "name": "stderr",
     "output_type": "stream",
     "text": [
      "/home/mlopez/dev/python-projects/quant-learning/python-for-algorithmic-trading/08-cfd-trading-with-oanda/MomentumTrader.py:31: FutureWarning: The frame.append method is deprecated and will be removed from pandas in a future version. Use pandas.concat instead.\n",
      "  self.raw_data = self.raw_data.append(\n"
     ]
    },
    {
     "name": "stdout",
     "output_type": "stream",
     "text": [
      "70 "
     ]
    },
    {
     "name": "stderr",
     "output_type": "stream",
     "text": [
      "/home/mlopez/dev/python-projects/quant-learning/python-for-algorithmic-trading/08-cfd-trading-with-oanda/MomentumTrader.py:31: FutureWarning: The frame.append method is deprecated and will be removed from pandas in a future version. Use pandas.concat instead.\n",
      "  self.raw_data = self.raw_data.append(\n"
     ]
    },
    {
     "name": "stdout",
     "output_type": "stream",
     "text": [
      "71 "
     ]
    },
    {
     "name": "stderr",
     "output_type": "stream",
     "text": [
      "/home/mlopez/dev/python-projects/quant-learning/python-for-algorithmic-trading/08-cfd-trading-with-oanda/MomentumTrader.py:31: FutureWarning: The frame.append method is deprecated and will be removed from pandas in a future version. Use pandas.concat instead.\n",
      "  self.raw_data = self.raw_data.append(\n"
     ]
    },
    {
     "name": "stdout",
     "output_type": "stream",
     "text": [
      "72 "
     ]
    },
    {
     "name": "stderr",
     "output_type": "stream",
     "text": [
      "/home/mlopez/dev/python-projects/quant-learning/python-for-algorithmic-trading/08-cfd-trading-with-oanda/MomentumTrader.py:31: FutureWarning: The frame.append method is deprecated and will be removed from pandas in a future version. Use pandas.concat instead.\n",
      "  self.raw_data = self.raw_data.append(\n"
     ]
    },
    {
     "name": "stdout",
     "output_type": "stream",
     "text": [
      "73 "
     ]
    },
    {
     "name": "stderr",
     "output_type": "stream",
     "text": [
      "/home/mlopez/dev/python-projects/quant-learning/python-for-algorithmic-trading/08-cfd-trading-with-oanda/MomentumTrader.py:31: FutureWarning: The frame.append method is deprecated and will be removed from pandas in a future version. Use pandas.concat instead.\n",
      "  self.raw_data = self.raw_data.append(\n"
     ]
    },
    {
     "name": "stdout",
     "output_type": "stream",
     "text": [
      "74 "
     ]
    },
    {
     "name": "stderr",
     "output_type": "stream",
     "text": [
      "/home/mlopez/dev/python-projects/quant-learning/python-for-algorithmic-trading/08-cfd-trading-with-oanda/MomentumTrader.py:31: FutureWarning: The frame.append method is deprecated and will be removed from pandas in a future version. Use pandas.concat instead.\n",
      "  self.raw_data = self.raw_data.append(\n"
     ]
    },
    {
     "name": "stdout",
     "output_type": "stream",
     "text": [
      "75 "
     ]
    },
    {
     "name": "stderr",
     "output_type": "stream",
     "text": [
      "/home/mlopez/dev/python-projects/quant-learning/python-for-algorithmic-trading/08-cfd-trading-with-oanda/MomentumTrader.py:31: FutureWarning: The frame.append method is deprecated and will be removed from pandas in a future version. Use pandas.concat instead.\n",
      "  self.raw_data = self.raw_data.append(\n"
     ]
    },
    {
     "name": "stdout",
     "output_type": "stream",
     "text": [
      "76 "
     ]
    },
    {
     "name": "stderr",
     "output_type": "stream",
     "text": [
      "/home/mlopez/dev/python-projects/quant-learning/python-for-algorithmic-trading/08-cfd-trading-with-oanda/MomentumTrader.py:31: FutureWarning: The frame.append method is deprecated and will be removed from pandas in a future version. Use pandas.concat instead.\n",
      "  self.raw_data = self.raw_data.append(\n"
     ]
    },
    {
     "name": "stdout",
     "output_type": "stream",
     "text": [
      "77 "
     ]
    },
    {
     "name": "stderr",
     "output_type": "stream",
     "text": [
      "/home/mlopez/dev/python-projects/quant-learning/python-for-algorithmic-trading/08-cfd-trading-with-oanda/MomentumTrader.py:31: FutureWarning: The frame.append method is deprecated and will be removed from pandas in a future version. Use pandas.concat instead.\n",
      "  self.raw_data = self.raw_data.append(\n"
     ]
    },
    {
     "name": "stdout",
     "output_type": "stream",
     "text": [
      "78 "
     ]
    },
    {
     "name": "stderr",
     "output_type": "stream",
     "text": [
      "/home/mlopez/dev/python-projects/quant-learning/python-for-algorithmic-trading/08-cfd-trading-with-oanda/MomentumTrader.py:31: FutureWarning: The frame.append method is deprecated and will be removed from pandas in a future version. Use pandas.concat instead.\n",
      "  self.raw_data = self.raw_data.append(\n"
     ]
    },
    {
     "name": "stdout",
     "output_type": "stream",
     "text": [
      "79 "
     ]
    },
    {
     "name": "stderr",
     "output_type": "stream",
     "text": [
      "/home/mlopez/dev/python-projects/quant-learning/python-for-algorithmic-trading/08-cfd-trading-with-oanda/MomentumTrader.py:31: FutureWarning: The frame.append method is deprecated and will be removed from pandas in a future version. Use pandas.concat instead.\n",
      "  self.raw_data = self.raw_data.append(\n"
     ]
    },
    {
     "name": "stdout",
     "output_type": "stream",
     "text": [
      "80 "
     ]
    },
    {
     "name": "stderr",
     "output_type": "stream",
     "text": [
      "/home/mlopez/dev/python-projects/quant-learning/python-for-algorithmic-trading/08-cfd-trading-with-oanda/MomentumTrader.py:31: FutureWarning: The frame.append method is deprecated and will be removed from pandas in a future version. Use pandas.concat instead.\n",
      "  self.raw_data = self.raw_data.append(\n"
     ]
    },
    {
     "name": "stdout",
     "output_type": "stream",
     "text": [
      "81 "
     ]
    },
    {
     "name": "stderr",
     "output_type": "stream",
     "text": [
      "/home/mlopez/dev/python-projects/quant-learning/python-for-algorithmic-trading/08-cfd-trading-with-oanda/MomentumTrader.py:31: FutureWarning: The frame.append method is deprecated and will be removed from pandas in a future version. Use pandas.concat instead.\n",
      "  self.raw_data = self.raw_data.append(\n"
     ]
    },
    {
     "name": "stdout",
     "output_type": "stream",
     "text": [
      "82 "
     ]
    },
    {
     "name": "stderr",
     "output_type": "stream",
     "text": [
      "/home/mlopez/dev/python-projects/quant-learning/python-for-algorithmic-trading/08-cfd-trading-with-oanda/MomentumTrader.py:31: FutureWarning: The frame.append method is deprecated and will be removed from pandas in a future version. Use pandas.concat instead.\n",
      "  self.raw_data = self.raw_data.append(\n"
     ]
    },
    {
     "name": "stdout",
     "output_type": "stream",
     "text": [
      "83 "
     ]
    },
    {
     "name": "stderr",
     "output_type": "stream",
     "text": [
      "/home/mlopez/dev/python-projects/quant-learning/python-for-algorithmic-trading/08-cfd-trading-with-oanda/MomentumTrader.py:31: FutureWarning: The frame.append method is deprecated and will be removed from pandas in a future version. Use pandas.concat instead.\n",
      "  self.raw_data = self.raw_data.append(\n"
     ]
    },
    {
     "name": "stdout",
     "output_type": "stream",
     "text": [
      "84 "
     ]
    },
    {
     "name": "stderr",
     "output_type": "stream",
     "text": [
      "/home/mlopez/dev/python-projects/quant-learning/python-for-algorithmic-trading/08-cfd-trading-with-oanda/MomentumTrader.py:31: FutureWarning: The frame.append method is deprecated and will be removed from pandas in a future version. Use pandas.concat instead.\n",
      "  self.raw_data = self.raw_data.append(\n"
     ]
    },
    {
     "name": "stdout",
     "output_type": "stream",
     "text": [
      "85 "
     ]
    },
    {
     "name": "stderr",
     "output_type": "stream",
     "text": [
      "/home/mlopez/dev/python-projects/quant-learning/python-for-algorithmic-trading/08-cfd-trading-with-oanda/MomentumTrader.py:31: FutureWarning: The frame.append method is deprecated and will be removed from pandas in a future version. Use pandas.concat instead.\n",
      "  self.raw_data = self.raw_data.append(\n"
     ]
    },
    {
     "name": "stdout",
     "output_type": "stream",
     "text": [
      "86 "
     ]
    },
    {
     "name": "stderr",
     "output_type": "stream",
     "text": [
      "/home/mlopez/dev/python-projects/quant-learning/python-for-algorithmic-trading/08-cfd-trading-with-oanda/MomentumTrader.py:31: FutureWarning: The frame.append method is deprecated and will be removed from pandas in a future version. Use pandas.concat instead.\n",
      "  self.raw_data = self.raw_data.append(\n"
     ]
    },
    {
     "name": "stdout",
     "output_type": "stream",
     "text": [
      "87 "
     ]
    },
    {
     "name": "stderr",
     "output_type": "stream",
     "text": [
      "/home/mlopez/dev/python-projects/quant-learning/python-for-algorithmic-trading/08-cfd-trading-with-oanda/MomentumTrader.py:31: FutureWarning: The frame.append method is deprecated and will be removed from pandas in a future version. Use pandas.concat instead.\n",
      "  self.raw_data = self.raw_data.append(\n"
     ]
    },
    {
     "name": "stdout",
     "output_type": "stream",
     "text": [
      "88 "
     ]
    },
    {
     "name": "stderr",
     "output_type": "stream",
     "text": [
      "/home/mlopez/dev/python-projects/quant-learning/python-for-algorithmic-trading/08-cfd-trading-with-oanda/MomentumTrader.py:31: FutureWarning: The frame.append method is deprecated and will be removed from pandas in a future version. Use pandas.concat instead.\n",
      "  self.raw_data = self.raw_data.append(\n"
     ]
    },
    {
     "name": "stdout",
     "output_type": "stream",
     "text": [
      "89 "
     ]
    },
    {
     "name": "stderr",
     "output_type": "stream",
     "text": [
      "/home/mlopez/dev/python-projects/quant-learning/python-for-algorithmic-trading/08-cfd-trading-with-oanda/MomentumTrader.py:31: FutureWarning: The frame.append method is deprecated and will be removed from pandas in a future version. Use pandas.concat instead.\n",
      "  self.raw_data = self.raw_data.append(\n"
     ]
    },
    {
     "name": "stdout",
     "output_type": "stream",
     "text": [
      "90 "
     ]
    },
    {
     "name": "stderr",
     "output_type": "stream",
     "text": [
      "/home/mlopez/dev/python-projects/quant-learning/python-for-algorithmic-trading/08-cfd-trading-with-oanda/MomentumTrader.py:31: FutureWarning: The frame.append method is deprecated and will be removed from pandas in a future version. Use pandas.concat instead.\n",
      "  self.raw_data = self.raw_data.append(\n"
     ]
    },
    {
     "name": "stdout",
     "output_type": "stream",
     "text": [
      "91 "
     ]
    },
    {
     "name": "stderr",
     "output_type": "stream",
     "text": [
      "/home/mlopez/dev/python-projects/quant-learning/python-for-algorithmic-trading/08-cfd-trading-with-oanda/MomentumTrader.py:31: FutureWarning: The frame.append method is deprecated and will be removed from pandas in a future version. Use pandas.concat instead.\n",
      "  self.raw_data = self.raw_data.append(\n"
     ]
    },
    {
     "name": "stdout",
     "output_type": "stream",
     "text": [
      "92 "
     ]
    },
    {
     "name": "stderr",
     "output_type": "stream",
     "text": [
      "/home/mlopez/dev/python-projects/quant-learning/python-for-algorithmic-trading/08-cfd-trading-with-oanda/MomentumTrader.py:31: FutureWarning: The frame.append method is deprecated and will be removed from pandas in a future version. Use pandas.concat instead.\n",
      "  self.raw_data = self.raw_data.append(\n"
     ]
    },
    {
     "name": "stdout",
     "output_type": "stream",
     "text": [
      "93 "
     ]
    },
    {
     "name": "stderr",
     "output_type": "stream",
     "text": [
      "/home/mlopez/dev/python-projects/quant-learning/python-for-algorithmic-trading/08-cfd-trading-with-oanda/MomentumTrader.py:31: FutureWarning: The frame.append method is deprecated and will be removed from pandas in a future version. Use pandas.concat instead.\n",
      "  self.raw_data = self.raw_data.append(\n"
     ]
    },
    {
     "name": "stdout",
     "output_type": "stream",
     "text": [
      "94 "
     ]
    },
    {
     "name": "stderr",
     "output_type": "stream",
     "text": [
      "/home/mlopez/dev/python-projects/quant-learning/python-for-algorithmic-trading/08-cfd-trading-with-oanda/MomentumTrader.py:31: FutureWarning: The frame.append method is deprecated and will be removed from pandas in a future version. Use pandas.concat instead.\n",
      "  self.raw_data = self.raw_data.append(\n"
     ]
    },
    {
     "name": "stdout",
     "output_type": "stream",
     "text": [
      "95 "
     ]
    },
    {
     "name": "stderr",
     "output_type": "stream",
     "text": [
      "/home/mlopez/dev/python-projects/quant-learning/python-for-algorithmic-trading/08-cfd-trading-with-oanda/MomentumTrader.py:31: FutureWarning: The frame.append method is deprecated and will be removed from pandas in a future version. Use pandas.concat instead.\n",
      "  self.raw_data = self.raw_data.append(\n"
     ]
    },
    {
     "name": "stdout",
     "output_type": "stream",
     "text": [
      "96 "
     ]
    },
    {
     "name": "stderr",
     "output_type": "stream",
     "text": [
      "/home/mlopez/dev/python-projects/quant-learning/python-for-algorithmic-trading/08-cfd-trading-with-oanda/MomentumTrader.py:31: FutureWarning: The frame.append method is deprecated and will be removed from pandas in a future version. Use pandas.concat instead.\n",
      "  self.raw_data = self.raw_data.append(\n"
     ]
    },
    {
     "name": "stdout",
     "output_type": "stream",
     "text": [
      "97 "
     ]
    },
    {
     "name": "stderr",
     "output_type": "stream",
     "text": [
      "/home/mlopez/dev/python-projects/quant-learning/python-for-algorithmic-trading/08-cfd-trading-with-oanda/MomentumTrader.py:31: FutureWarning: The frame.append method is deprecated and will be removed from pandas in a future version. Use pandas.concat instead.\n",
      "  self.raw_data = self.raw_data.append(\n"
     ]
    },
    {
     "name": "stdout",
     "output_type": "stream",
     "text": [
      "98 "
     ]
    },
    {
     "name": "stderr",
     "output_type": "stream",
     "text": [
      "/home/mlopez/dev/python-projects/quant-learning/python-for-algorithmic-trading/08-cfd-trading-with-oanda/MomentumTrader.py:31: FutureWarning: The frame.append method is deprecated and will be removed from pandas in a future version. Use pandas.concat instead.\n",
      "  self.raw_data = self.raw_data.append(\n"
     ]
    },
    {
     "name": "stdout",
     "output_type": "stream",
     "text": [
      "99 "
     ]
    },
    {
     "name": "stderr",
     "output_type": "stream",
     "text": [
      "/home/mlopez/dev/python-projects/quant-learning/python-for-algorithmic-trading/08-cfd-trading-with-oanda/MomentumTrader.py:31: FutureWarning: The frame.append method is deprecated and will be removed from pandas in a future version. Use pandas.concat instead.\n",
      "  self.raw_data = self.raw_data.append(\n"
     ]
    },
    {
     "name": "stdout",
     "output_type": "stream",
     "text": [
      "100 "
     ]
    },
    {
     "name": "stderr",
     "output_type": "stream",
     "text": [
      "/home/mlopez/dev/python-projects/quant-learning/python-for-algorithmic-trading/08-cfd-trading-with-oanda/MomentumTrader.py:31: FutureWarning: The frame.append method is deprecated and will be removed from pandas in a future version. Use pandas.concat instead.\n",
      "  self.raw_data = self.raw_data.append(\n"
     ]
    },
    {
     "name": "stdout",
     "output_type": "stream",
     "text": [
      "101 "
     ]
    },
    {
     "name": "stderr",
     "output_type": "stream",
     "text": [
      "/home/mlopez/dev/python-projects/quant-learning/python-for-algorithmic-trading/08-cfd-trading-with-oanda/MomentumTrader.py:31: FutureWarning: The frame.append method is deprecated and will be removed from pandas in a future version. Use pandas.concat instead.\n",
      "  self.raw_data = self.raw_data.append(\n"
     ]
    },
    {
     "name": "stdout",
     "output_type": "stream",
     "text": [
      "102 "
     ]
    },
    {
     "name": "stderr",
     "output_type": "stream",
     "text": [
      "/home/mlopez/dev/python-projects/quant-learning/python-for-algorithmic-trading/08-cfd-trading-with-oanda/MomentumTrader.py:31: FutureWarning: The frame.append method is deprecated and will be removed from pandas in a future version. Use pandas.concat instead.\n",
      "  self.raw_data = self.raw_data.append(\n"
     ]
    },
    {
     "name": "stdout",
     "output_type": "stream",
     "text": [
      "103 "
     ]
    },
    {
     "name": "stderr",
     "output_type": "stream",
     "text": [
      "/home/mlopez/dev/python-projects/quant-learning/python-for-algorithmic-trading/08-cfd-trading-with-oanda/MomentumTrader.py:31: FutureWarning: The frame.append method is deprecated and will be removed from pandas in a future version. Use pandas.concat instead.\n",
      "  self.raw_data = self.raw_data.append(\n"
     ]
    },
    {
     "name": "stdout",
     "output_type": "stream",
     "text": [
      "104 "
     ]
    },
    {
     "name": "stderr",
     "output_type": "stream",
     "text": [
      "/home/mlopez/dev/python-projects/quant-learning/python-for-algorithmic-trading/08-cfd-trading-with-oanda/MomentumTrader.py:31: FutureWarning: The frame.append method is deprecated and will be removed from pandas in a future version. Use pandas.concat instead.\n",
      "  self.raw_data = self.raw_data.append(\n"
     ]
    },
    {
     "name": "stdout",
     "output_type": "stream",
     "text": [
      "105 "
     ]
    },
    {
     "name": "stderr",
     "output_type": "stream",
     "text": [
      "/home/mlopez/dev/python-projects/quant-learning/python-for-algorithmic-trading/08-cfd-trading-with-oanda/MomentumTrader.py:31: FutureWarning: The frame.append method is deprecated and will be removed from pandas in a future version. Use pandas.concat instead.\n",
      "  self.raw_data = self.raw_data.append(\n"
     ]
    },
    {
     "name": "stdout",
     "output_type": "stream",
     "text": [
      "106 "
     ]
    },
    {
     "name": "stderr",
     "output_type": "stream",
     "text": [
      "/home/mlopez/dev/python-projects/quant-learning/python-for-algorithmic-trading/08-cfd-trading-with-oanda/MomentumTrader.py:31: FutureWarning: The frame.append method is deprecated and will be removed from pandas in a future version. Use pandas.concat instead.\n",
      "  self.raw_data = self.raw_data.append(\n"
     ]
    },
    {
     "name": "stdout",
     "output_type": "stream",
     "text": [
      "107 "
     ]
    },
    {
     "name": "stderr",
     "output_type": "stream",
     "text": [
      "/home/mlopez/dev/python-projects/quant-learning/python-for-algorithmic-trading/08-cfd-trading-with-oanda/MomentumTrader.py:31: FutureWarning: The frame.append method is deprecated and will be removed from pandas in a future version. Use pandas.concat instead.\n",
      "  self.raw_data = self.raw_data.append(\n"
     ]
    },
    {
     "name": "stdout",
     "output_type": "stream",
     "text": [
      "108 "
     ]
    },
    {
     "name": "stderr",
     "output_type": "stream",
     "text": [
      "/home/mlopez/dev/python-projects/quant-learning/python-for-algorithmic-trading/08-cfd-trading-with-oanda/MomentumTrader.py:31: FutureWarning: The frame.append method is deprecated and will be removed from pandas in a future version. Use pandas.concat instead.\n",
      "  self.raw_data = self.raw_data.append(\n"
     ]
    },
    {
     "name": "stdout",
     "output_type": "stream",
     "text": [
      "109 "
     ]
    },
    {
     "name": "stderr",
     "output_type": "stream",
     "text": [
      "/home/mlopez/dev/python-projects/quant-learning/python-for-algorithmic-trading/08-cfd-trading-with-oanda/MomentumTrader.py:31: FutureWarning: The frame.append method is deprecated and will be removed from pandas in a future version. Use pandas.concat instead.\n",
      "  self.raw_data = self.raw_data.append(\n"
     ]
    },
    {
     "name": "stdout",
     "output_type": "stream",
     "text": [
      "110 "
     ]
    },
    {
     "name": "stderr",
     "output_type": "stream",
     "text": [
      "/home/mlopez/dev/python-projects/quant-learning/python-for-algorithmic-trading/08-cfd-trading-with-oanda/MomentumTrader.py:31: FutureWarning: The frame.append method is deprecated and will be removed from pandas in a future version. Use pandas.concat instead.\n",
      "  self.raw_data = self.raw_data.append(\n"
     ]
    },
    {
     "name": "stdout",
     "output_type": "stream",
     "text": [
      "111 "
     ]
    },
    {
     "name": "stderr",
     "output_type": "stream",
     "text": [
      "/home/mlopez/dev/python-projects/quant-learning/python-for-algorithmic-trading/08-cfd-trading-with-oanda/MomentumTrader.py:31: FutureWarning: The frame.append method is deprecated and will be removed from pandas in a future version. Use pandas.concat instead.\n",
      "  self.raw_data = self.raw_data.append(\n"
     ]
    },
    {
     "name": "stdout",
     "output_type": "stream",
     "text": [
      "112 "
     ]
    },
    {
     "name": "stderr",
     "output_type": "stream",
     "text": [
      "/home/mlopez/dev/python-projects/quant-learning/python-for-algorithmic-trading/08-cfd-trading-with-oanda/MomentumTrader.py:31: FutureWarning: The frame.append method is deprecated and will be removed from pandas in a future version. Use pandas.concat instead.\n",
      "  self.raw_data = self.raw_data.append(\n"
     ]
    },
    {
     "name": "stdout",
     "output_type": "stream",
     "text": [
      "113 "
     ]
    },
    {
     "name": "stderr",
     "output_type": "stream",
     "text": [
      "/home/mlopez/dev/python-projects/quant-learning/python-for-algorithmic-trading/08-cfd-trading-with-oanda/MomentumTrader.py:31: FutureWarning: The frame.append method is deprecated and will be removed from pandas in a future version. Use pandas.concat instead.\n",
      "  self.raw_data = self.raw_data.append(\n"
     ]
    },
    {
     "name": "stdout",
     "output_type": "stream",
     "text": [
      "114 "
     ]
    },
    {
     "name": "stderr",
     "output_type": "stream",
     "text": [
      "/home/mlopez/dev/python-projects/quant-learning/python-for-algorithmic-trading/08-cfd-trading-with-oanda/MomentumTrader.py:31: FutureWarning: The frame.append method is deprecated and will be removed from pandas in a future version. Use pandas.concat instead.\n",
      "  self.raw_data = self.raw_data.append(\n"
     ]
    },
    {
     "name": "stdout",
     "output_type": "stream",
     "text": [
      "115 "
     ]
    },
    {
     "name": "stderr",
     "output_type": "stream",
     "text": [
      "/home/mlopez/dev/python-projects/quant-learning/python-for-algorithmic-trading/08-cfd-trading-with-oanda/MomentumTrader.py:31: FutureWarning: The frame.append method is deprecated and will be removed from pandas in a future version. Use pandas.concat instead.\n",
      "  self.raw_data = self.raw_data.append(\n"
     ]
    },
    {
     "name": "stdout",
     "output_type": "stream",
     "text": [
      "116 "
     ]
    },
    {
     "name": "stderr",
     "output_type": "stream",
     "text": [
      "/home/mlopez/dev/python-projects/quant-learning/python-for-algorithmic-trading/08-cfd-trading-with-oanda/MomentumTrader.py:31: FutureWarning: The frame.append method is deprecated and will be removed from pandas in a future version. Use pandas.concat instead.\n",
      "  self.raw_data = self.raw_data.append(\n"
     ]
    },
    {
     "name": "stdout",
     "output_type": "stream",
     "text": [
      "117 "
     ]
    },
    {
     "name": "stderr",
     "output_type": "stream",
     "text": [
      "/home/mlopez/dev/python-projects/quant-learning/python-for-algorithmic-trading/08-cfd-trading-with-oanda/MomentumTrader.py:31: FutureWarning: The frame.append method is deprecated and will be removed from pandas in a future version. Use pandas.concat instead.\n",
      "  self.raw_data = self.raw_data.append(\n"
     ]
    },
    {
     "name": "stdout",
     "output_type": "stream",
     "text": [
      "118 "
     ]
    },
    {
     "name": "stderr",
     "output_type": "stream",
     "text": [
      "/home/mlopez/dev/python-projects/quant-learning/python-for-algorithmic-trading/08-cfd-trading-with-oanda/MomentumTrader.py:31: FutureWarning: The frame.append method is deprecated and will be removed from pandas in a future version. Use pandas.concat instead.\n",
      "  self.raw_data = self.raw_data.append(\n"
     ]
    },
    {
     "name": "stdout",
     "output_type": "stream",
     "text": [
      "119 "
     ]
    },
    {
     "name": "stderr",
     "output_type": "stream",
     "text": [
      "/home/mlopez/dev/python-projects/quant-learning/python-for-algorithmic-trading/08-cfd-trading-with-oanda/MomentumTrader.py:31: FutureWarning: The frame.append method is deprecated and will be removed from pandas in a future version. Use pandas.concat instead.\n",
      "  self.raw_data = self.raw_data.append(\n"
     ]
    },
    {
     "name": "stdout",
     "output_type": "stream",
     "text": [
      "120 "
     ]
    },
    {
     "name": "stderr",
     "output_type": "stream",
     "text": [
      "/home/mlopez/dev/python-projects/quant-learning/python-for-algorithmic-trading/08-cfd-trading-with-oanda/MomentumTrader.py:31: FutureWarning: The frame.append method is deprecated and will be removed from pandas in a future version. Use pandas.concat instead.\n",
      "  self.raw_data = self.raw_data.append(\n"
     ]
    },
    {
     "name": "stdout",
     "output_type": "stream",
     "text": [
      "121 "
     ]
    },
    {
     "name": "stderr",
     "output_type": "stream",
     "text": [
      "/home/mlopez/dev/python-projects/quant-learning/python-for-algorithmic-trading/08-cfd-trading-with-oanda/MomentumTrader.py:31: FutureWarning: The frame.append method is deprecated and will be removed from pandas in a future version. Use pandas.concat instead.\n",
      "  self.raw_data = self.raw_data.append(\n"
     ]
    },
    {
     "name": "stdout",
     "output_type": "stream",
     "text": [
      "122 "
     ]
    },
    {
     "name": "stderr",
     "output_type": "stream",
     "text": [
      "/home/mlopez/dev/python-projects/quant-learning/python-for-algorithmic-trading/08-cfd-trading-with-oanda/MomentumTrader.py:31: FutureWarning: The frame.append method is deprecated and will be removed from pandas in a future version. Use pandas.concat instead.\n",
      "  self.raw_data = self.raw_data.append(\n"
     ]
    },
    {
     "name": "stdout",
     "output_type": "stream",
     "text": [
      "123 "
     ]
    },
    {
     "name": "stderr",
     "output_type": "stream",
     "text": [
      "/home/mlopez/dev/python-projects/quant-learning/python-for-algorithmic-trading/08-cfd-trading-with-oanda/MomentumTrader.py:31: FutureWarning: The frame.append method is deprecated and will be removed from pandas in a future version. Use pandas.concat instead.\n",
      "  self.raw_data = self.raw_data.append(\n"
     ]
    },
    {
     "name": "stdout",
     "output_type": "stream",
     "text": [
      "124 "
     ]
    },
    {
     "name": "stderr",
     "output_type": "stream",
     "text": [
      "/home/mlopez/dev/python-projects/quant-learning/python-for-algorithmic-trading/08-cfd-trading-with-oanda/MomentumTrader.py:31: FutureWarning: The frame.append method is deprecated and will be removed from pandas in a future version. Use pandas.concat instead.\n",
      "  self.raw_data = self.raw_data.append(\n"
     ]
    },
    {
     "name": "stdout",
     "output_type": "stream",
     "text": [
      "125 "
     ]
    },
    {
     "name": "stderr",
     "output_type": "stream",
     "text": [
      "/home/mlopez/dev/python-projects/quant-learning/python-for-algorithmic-trading/08-cfd-trading-with-oanda/MomentumTrader.py:31: FutureWarning: The frame.append method is deprecated and will be removed from pandas in a future version. Use pandas.concat instead.\n",
      "  self.raw_data = self.raw_data.append(\n"
     ]
    },
    {
     "name": "stdout",
     "output_type": "stream",
     "text": [
      "126 "
     ]
    },
    {
     "name": "stderr",
     "output_type": "stream",
     "text": [
      "/home/mlopez/dev/python-projects/quant-learning/python-for-algorithmic-trading/08-cfd-trading-with-oanda/MomentumTrader.py:31: FutureWarning: The frame.append method is deprecated and will be removed from pandas in a future version. Use pandas.concat instead.\n",
      "  self.raw_data = self.raw_data.append(\n"
     ]
    },
    {
     "name": "stdout",
     "output_type": "stream",
     "text": [
      "127 "
     ]
    },
    {
     "name": "stderr",
     "output_type": "stream",
     "text": [
      "/home/mlopez/dev/python-projects/quant-learning/python-for-algorithmic-trading/08-cfd-trading-with-oanda/MomentumTrader.py:31: FutureWarning: The frame.append method is deprecated and will be removed from pandas in a future version. Use pandas.concat instead.\n",
      "  self.raw_data = self.raw_data.append(\n"
     ]
    },
    {
     "name": "stdout",
     "output_type": "stream",
     "text": [
      "128 "
     ]
    },
    {
     "name": "stderr",
     "output_type": "stream",
     "text": [
      "/home/mlopez/dev/python-projects/quant-learning/python-for-algorithmic-trading/08-cfd-trading-with-oanda/MomentumTrader.py:31: FutureWarning: The frame.append method is deprecated and will be removed from pandas in a future version. Use pandas.concat instead.\n",
      "  self.raw_data = self.raw_data.append(\n"
     ]
    },
    {
     "name": "stdout",
     "output_type": "stream",
     "text": [
      "129 "
     ]
    },
    {
     "name": "stderr",
     "output_type": "stream",
     "text": [
      "/home/mlopez/dev/python-projects/quant-learning/python-for-algorithmic-trading/08-cfd-trading-with-oanda/MomentumTrader.py:31: FutureWarning: The frame.append method is deprecated and will be removed from pandas in a future version. Use pandas.concat instead.\n",
      "  self.raw_data = self.raw_data.append(\n"
     ]
    },
    {
     "name": "stdout",
     "output_type": "stream",
     "text": [
      "130 "
     ]
    },
    {
     "name": "stderr",
     "output_type": "stream",
     "text": [
      "/home/mlopez/dev/python-projects/quant-learning/python-for-algorithmic-trading/08-cfd-trading-with-oanda/MomentumTrader.py:31: FutureWarning: The frame.append method is deprecated and will be removed from pandas in a future version. Use pandas.concat instead.\n",
      "  self.raw_data = self.raw_data.append(\n"
     ]
    },
    {
     "name": "stdout",
     "output_type": "stream",
     "text": [
      "131 "
     ]
    },
    {
     "name": "stderr",
     "output_type": "stream",
     "text": [
      "/home/mlopez/dev/python-projects/quant-learning/python-for-algorithmic-trading/08-cfd-trading-with-oanda/MomentumTrader.py:31: FutureWarning: The frame.append method is deprecated and will be removed from pandas in a future version. Use pandas.concat instead.\n",
      "  self.raw_data = self.raw_data.append(\n"
     ]
    },
    {
     "name": "stdout",
     "output_type": "stream",
     "text": [
      "132 "
     ]
    },
    {
     "name": "stderr",
     "output_type": "stream",
     "text": [
      "/home/mlopez/dev/python-projects/quant-learning/python-for-algorithmic-trading/08-cfd-trading-with-oanda/MomentumTrader.py:31: FutureWarning: The frame.append method is deprecated and will be removed from pandas in a future version. Use pandas.concat instead.\n",
      "  self.raw_data = self.raw_data.append(\n"
     ]
    },
    {
     "name": "stdout",
     "output_type": "stream",
     "text": [
      "133 "
     ]
    },
    {
     "name": "stderr",
     "output_type": "stream",
     "text": [
      "/home/mlopez/dev/python-projects/quant-learning/python-for-algorithmic-trading/08-cfd-trading-with-oanda/MomentumTrader.py:31: FutureWarning: The frame.append method is deprecated and will be removed from pandas in a future version. Use pandas.concat instead.\n",
      "  self.raw_data = self.raw_data.append(\n"
     ]
    },
    {
     "name": "stdout",
     "output_type": "stream",
     "text": [
      "134 "
     ]
    },
    {
     "name": "stderr",
     "output_type": "stream",
     "text": [
      "/home/mlopez/dev/python-projects/quant-learning/python-for-algorithmic-trading/08-cfd-trading-with-oanda/MomentumTrader.py:31: FutureWarning: The frame.append method is deprecated and will be removed from pandas in a future version. Use pandas.concat instead.\n",
      "  self.raw_data = self.raw_data.append(\n"
     ]
    },
    {
     "name": "stdout",
     "output_type": "stream",
     "text": [
      "135 "
     ]
    },
    {
     "name": "stderr",
     "output_type": "stream",
     "text": [
      "/home/mlopez/dev/python-projects/quant-learning/python-for-algorithmic-trading/08-cfd-trading-with-oanda/MomentumTrader.py:31: FutureWarning: The frame.append method is deprecated and will be removed from pandas in a future version. Use pandas.concat instead.\n",
      "  self.raw_data = self.raw_data.append(\n"
     ]
    },
    {
     "name": "stdout",
     "output_type": "stream",
     "text": [
      "136 "
     ]
    },
    {
     "name": "stderr",
     "output_type": "stream",
     "text": [
      "/home/mlopez/dev/python-projects/quant-learning/python-for-algorithmic-trading/08-cfd-trading-with-oanda/MomentumTrader.py:31: FutureWarning: The frame.append method is deprecated and will be removed from pandas in a future version. Use pandas.concat instead.\n",
      "  self.raw_data = self.raw_data.append(\n"
     ]
    },
    {
     "name": "stdout",
     "output_type": "stream",
     "text": [
      "137 "
     ]
    },
    {
     "name": "stderr",
     "output_type": "stream",
     "text": [
      "/home/mlopez/dev/python-projects/quant-learning/python-for-algorithmic-trading/08-cfd-trading-with-oanda/MomentumTrader.py:31: FutureWarning: The frame.append method is deprecated and will be removed from pandas in a future version. Use pandas.concat instead.\n",
      "  self.raw_data = self.raw_data.append(\n"
     ]
    },
    {
     "name": "stdout",
     "output_type": "stream",
     "text": [
      "138 "
     ]
    },
    {
     "name": "stderr",
     "output_type": "stream",
     "text": [
      "/home/mlopez/dev/python-projects/quant-learning/python-for-algorithmic-trading/08-cfd-trading-with-oanda/MomentumTrader.py:31: FutureWarning: The frame.append method is deprecated and will be removed from pandas in a future version. Use pandas.concat instead.\n",
      "  self.raw_data = self.raw_data.append(\n"
     ]
    },
    {
     "name": "stdout",
     "output_type": "stream",
     "text": [
      "139 "
     ]
    },
    {
     "name": "stderr",
     "output_type": "stream",
     "text": [
      "/home/mlopez/dev/python-projects/quant-learning/python-for-algorithmic-trading/08-cfd-trading-with-oanda/MomentumTrader.py:31: FutureWarning: The frame.append method is deprecated and will be removed from pandas in a future version. Use pandas.concat instead.\n",
      "  self.raw_data = self.raw_data.append(\n"
     ]
    },
    {
     "name": "stdout",
     "output_type": "stream",
     "text": [
      "140 "
     ]
    },
    {
     "name": "stderr",
     "output_type": "stream",
     "text": [
      "/home/mlopez/dev/python-projects/quant-learning/python-for-algorithmic-trading/08-cfd-trading-with-oanda/MomentumTrader.py:31: FutureWarning: The frame.append method is deprecated and will be removed from pandas in a future version. Use pandas.concat instead.\n",
      "  self.raw_data = self.raw_data.append(\n"
     ]
    },
    {
     "name": "stdout",
     "output_type": "stream",
     "text": [
      "141 "
     ]
    },
    {
     "name": "stderr",
     "output_type": "stream",
     "text": [
      "/home/mlopez/dev/python-projects/quant-learning/python-for-algorithmic-trading/08-cfd-trading-with-oanda/MomentumTrader.py:31: FutureWarning: The frame.append method is deprecated and will be removed from pandas in a future version. Use pandas.concat instead.\n",
      "  self.raw_data = self.raw_data.append(\n"
     ]
    },
    {
     "name": "stdout",
     "output_type": "stream",
     "text": [
      "142 "
     ]
    },
    {
     "name": "stderr",
     "output_type": "stream",
     "text": [
      "/home/mlopez/dev/python-projects/quant-learning/python-for-algorithmic-trading/08-cfd-trading-with-oanda/MomentumTrader.py:31: FutureWarning: The frame.append method is deprecated and will be removed from pandas in a future version. Use pandas.concat instead.\n",
      "  self.raw_data = self.raw_data.append(\n"
     ]
    },
    {
     "name": "stdout",
     "output_type": "stream",
     "text": [
      "143 "
     ]
    },
    {
     "name": "stderr",
     "output_type": "stream",
     "text": [
      "/home/mlopez/dev/python-projects/quant-learning/python-for-algorithmic-trading/08-cfd-trading-with-oanda/MomentumTrader.py:31: FutureWarning: The frame.append method is deprecated and will be removed from pandas in a future version. Use pandas.concat instead.\n",
      "  self.raw_data = self.raw_data.append(\n"
     ]
    },
    {
     "name": "stdout",
     "output_type": "stream",
     "text": [
      "144 "
     ]
    },
    {
     "name": "stderr",
     "output_type": "stream",
     "text": [
      "/home/mlopez/dev/python-projects/quant-learning/python-for-algorithmic-trading/08-cfd-trading-with-oanda/MomentumTrader.py:31: FutureWarning: The frame.append method is deprecated and will be removed from pandas in a future version. Use pandas.concat instead.\n",
      "  self.raw_data = self.raw_data.append(\n"
     ]
    },
    {
     "name": "stdout",
     "output_type": "stream",
     "text": [
      "145 "
     ]
    },
    {
     "name": "stderr",
     "output_type": "stream",
     "text": [
      "/home/mlopez/dev/python-projects/quant-learning/python-for-algorithmic-trading/08-cfd-trading-with-oanda/MomentumTrader.py:31: FutureWarning: The frame.append method is deprecated and will be removed from pandas in a future version. Use pandas.concat instead.\n",
      "  self.raw_data = self.raw_data.append(\n"
     ]
    },
    {
     "name": "stdout",
     "output_type": "stream",
     "text": [
      "146 "
     ]
    },
    {
     "name": "stderr",
     "output_type": "stream",
     "text": [
      "/home/mlopez/dev/python-projects/quant-learning/python-for-algorithmic-trading/08-cfd-trading-with-oanda/MomentumTrader.py:31: FutureWarning: The frame.append method is deprecated and will be removed from pandas in a future version. Use pandas.concat instead.\n",
      "  self.raw_data = self.raw_data.append(\n"
     ]
    },
    {
     "name": "stdout",
     "output_type": "stream",
     "text": [
      "147 "
     ]
    },
    {
     "name": "stderr",
     "output_type": "stream",
     "text": [
      "/home/mlopez/dev/python-projects/quant-learning/python-for-algorithmic-trading/08-cfd-trading-with-oanda/MomentumTrader.py:31: FutureWarning: The frame.append method is deprecated and will be removed from pandas in a future version. Use pandas.concat instead.\n",
      "  self.raw_data = self.raw_data.append(\n"
     ]
    },
    {
     "name": "stdout",
     "output_type": "stream",
     "text": [
      "148 "
     ]
    },
    {
     "name": "stderr",
     "output_type": "stream",
     "text": [
      "/home/mlopez/dev/python-projects/quant-learning/python-for-algorithmic-trading/08-cfd-trading-with-oanda/MomentumTrader.py:31: FutureWarning: The frame.append method is deprecated and will be removed from pandas in a future version. Use pandas.concat instead.\n",
      "  self.raw_data = self.raw_data.append(\n"
     ]
    },
    {
     "name": "stdout",
     "output_type": "stream",
     "text": [
      "149 "
     ]
    },
    {
     "name": "stderr",
     "output_type": "stream",
     "text": [
      "/home/mlopez/dev/python-projects/quant-learning/python-for-algorithmic-trading/08-cfd-trading-with-oanda/MomentumTrader.py:31: FutureWarning: The frame.append method is deprecated and will be removed from pandas in a future version. Use pandas.concat instead.\n",
      "  self.raw_data = self.raw_data.append(\n"
     ]
    },
    {
     "name": "stdout",
     "output_type": "stream",
     "text": [
      "150 "
     ]
    },
    {
     "name": "stderr",
     "output_type": "stream",
     "text": [
      "/home/mlopez/dev/python-projects/quant-learning/python-for-algorithmic-trading/08-cfd-trading-with-oanda/MomentumTrader.py:31: FutureWarning: The frame.append method is deprecated and will be removed from pandas in a future version. Use pandas.concat instead.\n",
      "  self.raw_data = self.raw_data.append(\n"
     ]
    },
    {
     "name": "stdout",
     "output_type": "stream",
     "text": [
      "151 "
     ]
    },
    {
     "name": "stderr",
     "output_type": "stream",
     "text": [
      "/home/mlopez/dev/python-projects/quant-learning/python-for-algorithmic-trading/08-cfd-trading-with-oanda/MomentumTrader.py:31: FutureWarning: The frame.append method is deprecated and will be removed from pandas in a future version. Use pandas.concat instead.\n",
      "  self.raw_data = self.raw_data.append(\n"
     ]
    },
    {
     "name": "stdout",
     "output_type": "stream",
     "text": [
      "152 "
     ]
    },
    {
     "name": "stderr",
     "output_type": "stream",
     "text": [
      "/home/mlopez/dev/python-projects/quant-learning/python-for-algorithmic-trading/08-cfd-trading-with-oanda/MomentumTrader.py:31: FutureWarning: The frame.append method is deprecated and will be removed from pandas in a future version. Use pandas.concat instead.\n",
      "  self.raw_data = self.raw_data.append(\n"
     ]
    },
    {
     "name": "stdout",
     "output_type": "stream",
     "text": [
      "153 "
     ]
    },
    {
     "name": "stderr",
     "output_type": "stream",
     "text": [
      "/home/mlopez/dev/python-projects/quant-learning/python-for-algorithmic-trading/08-cfd-trading-with-oanda/MomentumTrader.py:31: FutureWarning: The frame.append method is deprecated and will be removed from pandas in a future version. Use pandas.concat instead.\n",
      "  self.raw_data = self.raw_data.append(\n"
     ]
    },
    {
     "name": "stdout",
     "output_type": "stream",
     "text": [
      "154 "
     ]
    },
    {
     "name": "stderr",
     "output_type": "stream",
     "text": [
      "/home/mlopez/dev/python-projects/quant-learning/python-for-algorithmic-trading/08-cfd-trading-with-oanda/MomentumTrader.py:31: FutureWarning: The frame.append method is deprecated and will be removed from pandas in a future version. Use pandas.concat instead.\n",
      "  self.raw_data = self.raw_data.append(\n"
     ]
    },
    {
     "name": "stdout",
     "output_type": "stream",
     "text": [
      "155 "
     ]
    },
    {
     "name": "stderr",
     "output_type": "stream",
     "text": [
      "/home/mlopez/dev/python-projects/quant-learning/python-for-algorithmic-trading/08-cfd-trading-with-oanda/MomentumTrader.py:31: FutureWarning: The frame.append method is deprecated and will be removed from pandas in a future version. Use pandas.concat instead.\n",
      "  self.raw_data = self.raw_data.append(\n"
     ]
    },
    {
     "name": "stdout",
     "output_type": "stream",
     "text": [
      "156 "
     ]
    },
    {
     "name": "stderr",
     "output_type": "stream",
     "text": [
      "/home/mlopez/dev/python-projects/quant-learning/python-for-algorithmic-trading/08-cfd-trading-with-oanda/MomentumTrader.py:31: FutureWarning: The frame.append method is deprecated and will be removed from pandas in a future version. Use pandas.concat instead.\n",
      "  self.raw_data = self.raw_data.append(\n"
     ]
    },
    {
     "name": "stdout",
     "output_type": "stream",
     "text": [
      "157 "
     ]
    },
    {
     "name": "stderr",
     "output_type": "stream",
     "text": [
      "/home/mlopez/dev/python-projects/quant-learning/python-for-algorithmic-trading/08-cfd-trading-with-oanda/MomentumTrader.py:31: FutureWarning: The frame.append method is deprecated and will be removed from pandas in a future version. Use pandas.concat instead.\n",
      "  self.raw_data = self.raw_data.append(\n"
     ]
    },
    {
     "name": "stdout",
     "output_type": "stream",
     "text": [
      "158 "
     ]
    },
    {
     "name": "stderr",
     "output_type": "stream",
     "text": [
      "/home/mlopez/dev/python-projects/quant-learning/python-for-algorithmic-trading/08-cfd-trading-with-oanda/MomentumTrader.py:31: FutureWarning: The frame.append method is deprecated and will be removed from pandas in a future version. Use pandas.concat instead.\n",
      "  self.raw_data = self.raw_data.append(\n"
     ]
    },
    {
     "name": "stdout",
     "output_type": "stream",
     "text": [
      "159 "
     ]
    },
    {
     "name": "stderr",
     "output_type": "stream",
     "text": [
      "/home/mlopez/dev/python-projects/quant-learning/python-for-algorithmic-trading/08-cfd-trading-with-oanda/MomentumTrader.py:31: FutureWarning: The frame.append method is deprecated and will be removed from pandas in a future version. Use pandas.concat instead.\n",
      "  self.raw_data = self.raw_data.append(\n"
     ]
    },
    {
     "name": "stdout",
     "output_type": "stream",
     "text": [
      "160 "
     ]
    },
    {
     "name": "stderr",
     "output_type": "stream",
     "text": [
      "/home/mlopez/dev/python-projects/quant-learning/python-for-algorithmic-trading/08-cfd-trading-with-oanda/MomentumTrader.py:31: FutureWarning: The frame.append method is deprecated and will be removed from pandas in a future version. Use pandas.concat instead.\n",
      "  self.raw_data = self.raw_data.append(\n"
     ]
    },
    {
     "name": "stdout",
     "output_type": "stream",
     "text": [
      "161 "
     ]
    },
    {
     "name": "stderr",
     "output_type": "stream",
     "text": [
      "/home/mlopez/dev/python-projects/quant-learning/python-for-algorithmic-trading/08-cfd-trading-with-oanda/MomentumTrader.py:31: FutureWarning: The frame.append method is deprecated and will be removed from pandas in a future version. Use pandas.concat instead.\n",
      "  self.raw_data = self.raw_data.append(\n"
     ]
    },
    {
     "name": "stdout",
     "output_type": "stream",
     "text": [
      "162 "
     ]
    },
    {
     "name": "stderr",
     "output_type": "stream",
     "text": [
      "/home/mlopez/dev/python-projects/quant-learning/python-for-algorithmic-trading/08-cfd-trading-with-oanda/MomentumTrader.py:31: FutureWarning: The frame.append method is deprecated and will be removed from pandas in a future version. Use pandas.concat instead.\n",
      "  self.raw_data = self.raw_data.append(\n"
     ]
    },
    {
     "name": "stdout",
     "output_type": "stream",
     "text": [
      "163 "
     ]
    },
    {
     "name": "stderr",
     "output_type": "stream",
     "text": [
      "/home/mlopez/dev/python-projects/quant-learning/python-for-algorithmic-trading/08-cfd-trading-with-oanda/MomentumTrader.py:31: FutureWarning: The frame.append method is deprecated and will be removed from pandas in a future version. Use pandas.concat instead.\n",
      "  self.raw_data = self.raw_data.append(\n"
     ]
    },
    {
     "name": "stdout",
     "output_type": "stream",
     "text": [
      "164 "
     ]
    },
    {
     "name": "stderr",
     "output_type": "stream",
     "text": [
      "/home/mlopez/dev/python-projects/quant-learning/python-for-algorithmic-trading/08-cfd-trading-with-oanda/MomentumTrader.py:31: FutureWarning: The frame.append method is deprecated and will be removed from pandas in a future version. Use pandas.concat instead.\n",
      "  self.raw_data = self.raw_data.append(\n"
     ]
    },
    {
     "name": "stdout",
     "output_type": "stream",
     "text": [
      "165 "
     ]
    },
    {
     "name": "stderr",
     "output_type": "stream",
     "text": [
      "/home/mlopez/dev/python-projects/quant-learning/python-for-algorithmic-trading/08-cfd-trading-with-oanda/MomentumTrader.py:31: FutureWarning: The frame.append method is deprecated and will be removed from pandas in a future version. Use pandas.concat instead.\n",
      "  self.raw_data = self.raw_data.append(\n"
     ]
    },
    {
     "name": "stdout",
     "output_type": "stream",
     "text": [
      "166 "
     ]
    },
    {
     "name": "stderr",
     "output_type": "stream",
     "text": [
      "/home/mlopez/dev/python-projects/quant-learning/python-for-algorithmic-trading/08-cfd-trading-with-oanda/MomentumTrader.py:31: FutureWarning: The frame.append method is deprecated and will be removed from pandas in a future version. Use pandas.concat instead.\n",
      "  self.raw_data = self.raw_data.append(\n"
     ]
    },
    {
     "name": "stdout",
     "output_type": "stream",
     "text": [
      "167 "
     ]
    },
    {
     "name": "stderr",
     "output_type": "stream",
     "text": [
      "/home/mlopez/dev/python-projects/quant-learning/python-for-algorithmic-trading/08-cfd-trading-with-oanda/MomentumTrader.py:31: FutureWarning: The frame.append method is deprecated and will be removed from pandas in a future version. Use pandas.concat instead.\n",
      "  self.raw_data = self.raw_data.append(\n"
     ]
    },
    {
     "name": "stdout",
     "output_type": "stream",
     "text": [
      "168 "
     ]
    },
    {
     "name": "stderr",
     "output_type": "stream",
     "text": [
      "/home/mlopez/dev/python-projects/quant-learning/python-for-algorithmic-trading/08-cfd-trading-with-oanda/MomentumTrader.py:31: FutureWarning: The frame.append method is deprecated and will be removed from pandas in a future version. Use pandas.concat instead.\n",
      "  self.raw_data = self.raw_data.append(\n"
     ]
    },
    {
     "name": "stdout",
     "output_type": "stream",
     "text": [
      "169 "
     ]
    },
    {
     "name": "stderr",
     "output_type": "stream",
     "text": [
      "/home/mlopez/dev/python-projects/quant-learning/python-for-algorithmic-trading/08-cfd-trading-with-oanda/MomentumTrader.py:31: FutureWarning: The frame.append method is deprecated and will be removed from pandas in a future version. Use pandas.concat instead.\n",
      "  self.raw_data = self.raw_data.append(\n"
     ]
    },
    {
     "name": "stdout",
     "output_type": "stream",
     "text": [
      "170 "
     ]
    },
    {
     "name": "stderr",
     "output_type": "stream",
     "text": [
      "/home/mlopez/dev/python-projects/quant-learning/python-for-algorithmic-trading/08-cfd-trading-with-oanda/MomentumTrader.py:31: FutureWarning: The frame.append method is deprecated and will be removed from pandas in a future version. Use pandas.concat instead.\n",
      "  self.raw_data = self.raw_data.append(\n"
     ]
    },
    {
     "name": "stdout",
     "output_type": "stream",
     "text": [
      "171 "
     ]
    },
    {
     "name": "stderr",
     "output_type": "stream",
     "text": [
      "/home/mlopez/dev/python-projects/quant-learning/python-for-algorithmic-trading/08-cfd-trading-with-oanda/MomentumTrader.py:31: FutureWarning: The frame.append method is deprecated and will be removed from pandas in a future version. Use pandas.concat instead.\n",
      "  self.raw_data = self.raw_data.append(\n"
     ]
    },
    {
     "name": "stdout",
     "output_type": "stream",
     "text": [
      "172 "
     ]
    },
    {
     "name": "stderr",
     "output_type": "stream",
     "text": [
      "/home/mlopez/dev/python-projects/quant-learning/python-for-algorithmic-trading/08-cfd-trading-with-oanda/MomentumTrader.py:31: FutureWarning: The frame.append method is deprecated and will be removed from pandas in a future version. Use pandas.concat instead.\n",
      "  self.raw_data = self.raw_data.append(\n"
     ]
    },
    {
     "name": "stdout",
     "output_type": "stream",
     "text": [
      "173 "
     ]
    },
    {
     "name": "stderr",
     "output_type": "stream",
     "text": [
      "/home/mlopez/dev/python-projects/quant-learning/python-for-algorithmic-trading/08-cfd-trading-with-oanda/MomentumTrader.py:31: FutureWarning: The frame.append method is deprecated and will be removed from pandas in a future version. Use pandas.concat instead.\n",
      "  self.raw_data = self.raw_data.append(\n"
     ]
    },
    {
     "name": "stdout",
     "output_type": "stream",
     "text": [
      "174 "
     ]
    },
    {
     "name": "stderr",
     "output_type": "stream",
     "text": [
      "/home/mlopez/dev/python-projects/quant-learning/python-for-algorithmic-trading/08-cfd-trading-with-oanda/MomentumTrader.py:31: FutureWarning: The frame.append method is deprecated and will be removed from pandas in a future version. Use pandas.concat instead.\n",
      "  self.raw_data = self.raw_data.append(\n"
     ]
    },
    {
     "name": "stdout",
     "output_type": "stream",
     "text": [
      "175 "
     ]
    },
    {
     "name": "stderr",
     "output_type": "stream",
     "text": [
      "/home/mlopez/dev/python-projects/quant-learning/python-for-algorithmic-trading/08-cfd-trading-with-oanda/MomentumTrader.py:31: FutureWarning: The frame.append method is deprecated and will be removed from pandas in a future version. Use pandas.concat instead.\n",
      "  self.raw_data = self.raw_data.append(\n"
     ]
    },
    {
     "name": "stdout",
     "output_type": "stream",
     "text": [
      "176 "
     ]
    },
    {
     "name": "stderr",
     "output_type": "stream",
     "text": [
      "/home/mlopez/dev/python-projects/quant-learning/python-for-algorithmic-trading/08-cfd-trading-with-oanda/MomentumTrader.py:31: FutureWarning: The frame.append method is deprecated and will be removed from pandas in a future version. Use pandas.concat instead.\n",
      "  self.raw_data = self.raw_data.append(\n"
     ]
    },
    {
     "name": "stdout",
     "output_type": "stream",
     "text": [
      "177 "
     ]
    },
    {
     "name": "stderr",
     "output_type": "stream",
     "text": [
      "/home/mlopez/dev/python-projects/quant-learning/python-for-algorithmic-trading/08-cfd-trading-with-oanda/MomentumTrader.py:31: FutureWarning: The frame.append method is deprecated and will be removed from pandas in a future version. Use pandas.concat instead.\n",
      "  self.raw_data = self.raw_data.append(\n"
     ]
    },
    {
     "name": "stdout",
     "output_type": "stream",
     "text": [
      "178 "
     ]
    },
    {
     "name": "stderr",
     "output_type": "stream",
     "text": [
      "/home/mlopez/dev/python-projects/quant-learning/python-for-algorithmic-trading/08-cfd-trading-with-oanda/MomentumTrader.py:31: FutureWarning: The frame.append method is deprecated and will be removed from pandas in a future version. Use pandas.concat instead.\n",
      "  self.raw_data = self.raw_data.append(\n"
     ]
    },
    {
     "name": "stdout",
     "output_type": "stream",
     "text": [
      "179 "
     ]
    },
    {
     "name": "stderr",
     "output_type": "stream",
     "text": [
      "/home/mlopez/dev/python-projects/quant-learning/python-for-algorithmic-trading/08-cfd-trading-with-oanda/MomentumTrader.py:31: FutureWarning: The frame.append method is deprecated and will be removed from pandas in a future version. Use pandas.concat instead.\n",
      "  self.raw_data = self.raw_data.append(\n"
     ]
    },
    {
     "name": "stdout",
     "output_type": "stream",
     "text": [
      "180 "
     ]
    },
    {
     "name": "stderr",
     "output_type": "stream",
     "text": [
      "/home/mlopez/dev/python-projects/quant-learning/python-for-algorithmic-trading/08-cfd-trading-with-oanda/MomentumTrader.py:31: FutureWarning: The frame.append method is deprecated and will be removed from pandas in a future version. Use pandas.concat instead.\n",
      "  self.raw_data = self.raw_data.append(\n"
     ]
    },
    {
     "name": "stdout",
     "output_type": "stream",
     "text": [
      "181 "
     ]
    },
    {
     "name": "stderr",
     "output_type": "stream",
     "text": [
      "/home/mlopez/dev/python-projects/quant-learning/python-for-algorithmic-trading/08-cfd-trading-with-oanda/MomentumTrader.py:31: FutureWarning: The frame.append method is deprecated and will be removed from pandas in a future version. Use pandas.concat instead.\n",
      "  self.raw_data = self.raw_data.append(\n"
     ]
    },
    {
     "name": "stdout",
     "output_type": "stream",
     "text": [
      "182 "
     ]
    },
    {
     "name": "stderr",
     "output_type": "stream",
     "text": [
      "/home/mlopez/dev/python-projects/quant-learning/python-for-algorithmic-trading/08-cfd-trading-with-oanda/MomentumTrader.py:31: FutureWarning: The frame.append method is deprecated and will be removed from pandas in a future version. Use pandas.concat instead.\n",
      "  self.raw_data = self.raw_data.append(\n"
     ]
    },
    {
     "name": "stdout",
     "output_type": "stream",
     "text": [
      "183 "
     ]
    },
    {
     "name": "stderr",
     "output_type": "stream",
     "text": [
      "/home/mlopez/dev/python-projects/quant-learning/python-for-algorithmic-trading/08-cfd-trading-with-oanda/MomentumTrader.py:31: FutureWarning: The frame.append method is deprecated and will be removed from pandas in a future version. Use pandas.concat instead.\n",
      "  self.raw_data = self.raw_data.append(\n"
     ]
    },
    {
     "name": "stdout",
     "output_type": "stream",
     "text": [
      "184 "
     ]
    },
    {
     "name": "stderr",
     "output_type": "stream",
     "text": [
      "/home/mlopez/dev/python-projects/quant-learning/python-for-algorithmic-trading/08-cfd-trading-with-oanda/MomentumTrader.py:31: FutureWarning: The frame.append method is deprecated and will be removed from pandas in a future version. Use pandas.concat instead.\n",
      "  self.raw_data = self.raw_data.append(\n"
     ]
    },
    {
     "name": "stdout",
     "output_type": "stream",
     "text": [
      "185 "
     ]
    },
    {
     "name": "stderr",
     "output_type": "stream",
     "text": [
      "/home/mlopez/dev/python-projects/quant-learning/python-for-algorithmic-trading/08-cfd-trading-with-oanda/MomentumTrader.py:31: FutureWarning: The frame.append method is deprecated and will be removed from pandas in a future version. Use pandas.concat instead.\n",
      "  self.raw_data = self.raw_data.append(\n"
     ]
    },
    {
     "name": "stdout",
     "output_type": "stream",
     "text": [
      "186 "
     ]
    },
    {
     "name": "stderr",
     "output_type": "stream",
     "text": [
      "/home/mlopez/dev/python-projects/quant-learning/python-for-algorithmic-trading/08-cfd-trading-with-oanda/MomentumTrader.py:31: FutureWarning: The frame.append method is deprecated and will be removed from pandas in a future version. Use pandas.concat instead.\n",
      "  self.raw_data = self.raw_data.append(\n"
     ]
    },
    {
     "name": "stdout",
     "output_type": "stream",
     "text": [
      "\n",
      "\n",
      " {'id': '11', 'time': '2023-11-01T14:01:30.690980077Z', 'userID': 27068029, 'accountID': '101-004-27068029-001', 'batchID': '10', 'requestID': '25139880496318393', 'type': 'ORDER_FILL', 'orderID': '10', 'instrument': 'EUR_USD', 'units': '-10000.0', 'gainQuoteHomeConversionFactor': '0.820723478968', 'lossQuoteHomeConversionFactor': '0.828971956144', 'price': 1.05424, 'fullVWAP': 1.05424, 'fullPrice': {'type': 'PRICE', 'bids': [{'price': 1.05424, 'liquidity': '1000000'}, {'price': 1.05422, 'liquidity': '2000000'}, {'price': 1.05421, 'liquidity': '2000000'}, {'price': 1.05419, 'liquidity': '5000000'}], 'asks': [{'price': 1.05435, 'liquidity': '1000000'}, {'price': 1.05438, 'liquidity': '2000000'}, {'price': 1.05439, 'liquidity': '2000000'}, {'price': 1.0544, 'liquidity': '5000000'}], 'closeoutBid': 1.05419, 'closeoutAsk': 1.0544}, 'reason': 'MARKET_ORDER', 'pl': '0.0', 'financing': '0.0', 'commission': '0.0', 'guaranteedExecutionFee': '0.0', 'accountBalance': '100000.0554', 'tradeOpened': {'tradeID': '11', 'units': '-10000.0', 'price': 1.05424, 'guaranteedExecutionFee': '0.0', 'halfSpreadCost': '0.4537', 'initialMarginRequired': '289.8833'}, 'halfSpreadCost': '0.4537'} \n",
      "\n",
      "187 "
     ]
    },
    {
     "name": "stderr",
     "output_type": "stream",
     "text": [
      "/home/mlopez/dev/python-projects/quant-learning/python-for-algorithmic-trading/08-cfd-trading-with-oanda/MomentumTrader.py:31: FutureWarning: The frame.append method is deprecated and will be removed from pandas in a future version. Use pandas.concat instead.\n",
      "  self.raw_data = self.raw_data.append(\n"
     ]
    },
    {
     "name": "stdout",
     "output_type": "stream",
     "text": [
      "188 "
     ]
    },
    {
     "name": "stderr",
     "output_type": "stream",
     "text": [
      "/home/mlopez/dev/python-projects/quant-learning/python-for-algorithmic-trading/08-cfd-trading-with-oanda/MomentumTrader.py:31: FutureWarning: The frame.append method is deprecated and will be removed from pandas in a future version. Use pandas.concat instead.\n",
      "  self.raw_data = self.raw_data.append(\n"
     ]
    },
    {
     "name": "stdout",
     "output_type": "stream",
     "text": [
      "189 "
     ]
    },
    {
     "name": "stderr",
     "output_type": "stream",
     "text": [
      "/home/mlopez/dev/python-projects/quant-learning/python-for-algorithmic-trading/08-cfd-trading-with-oanda/MomentumTrader.py:31: FutureWarning: The frame.append method is deprecated and will be removed from pandas in a future version. Use pandas.concat instead.\n",
      "  self.raw_data = self.raw_data.append(\n"
     ]
    },
    {
     "name": "stdout",
     "output_type": "stream",
     "text": [
      "190 "
     ]
    },
    {
     "name": "stderr",
     "output_type": "stream",
     "text": [
      "/home/mlopez/dev/python-projects/quant-learning/python-for-algorithmic-trading/08-cfd-trading-with-oanda/MomentumTrader.py:31: FutureWarning: The frame.append method is deprecated and will be removed from pandas in a future version. Use pandas.concat instead.\n",
      "  self.raw_data = self.raw_data.append(\n"
     ]
    },
    {
     "name": "stdout",
     "output_type": "stream",
     "text": [
      "191 "
     ]
    },
    {
     "name": "stderr",
     "output_type": "stream",
     "text": [
      "/home/mlopez/dev/python-projects/quant-learning/python-for-algorithmic-trading/08-cfd-trading-with-oanda/MomentumTrader.py:31: FutureWarning: The frame.append method is deprecated and will be removed from pandas in a future version. Use pandas.concat instead.\n",
      "  self.raw_data = self.raw_data.append(\n"
     ]
    },
    {
     "name": "stdout",
     "output_type": "stream",
     "text": [
      "192 "
     ]
    },
    {
     "name": "stderr",
     "output_type": "stream",
     "text": [
      "/home/mlopez/dev/python-projects/quant-learning/python-for-algorithmic-trading/08-cfd-trading-with-oanda/MomentumTrader.py:31: FutureWarning: The frame.append method is deprecated and will be removed from pandas in a future version. Use pandas.concat instead.\n",
      "  self.raw_data = self.raw_data.append(\n"
     ]
    },
    {
     "name": "stdout",
     "output_type": "stream",
     "text": [
      "193 "
     ]
    },
    {
     "name": "stderr",
     "output_type": "stream",
     "text": [
      "/home/mlopez/dev/python-projects/quant-learning/python-for-algorithmic-trading/08-cfd-trading-with-oanda/MomentumTrader.py:31: FutureWarning: The frame.append method is deprecated and will be removed from pandas in a future version. Use pandas.concat instead.\n",
      "  self.raw_data = self.raw_data.append(\n"
     ]
    },
    {
     "name": "stdout",
     "output_type": "stream",
     "text": [
      "194 "
     ]
    },
    {
     "name": "stderr",
     "output_type": "stream",
     "text": [
      "/home/mlopez/dev/python-projects/quant-learning/python-for-algorithmic-trading/08-cfd-trading-with-oanda/MomentumTrader.py:31: FutureWarning: The frame.append method is deprecated and will be removed from pandas in a future version. Use pandas.concat instead.\n",
      "  self.raw_data = self.raw_data.append(\n"
     ]
    },
    {
     "name": "stdout",
     "output_type": "stream",
     "text": [
      "195 "
     ]
    },
    {
     "name": "stderr",
     "output_type": "stream",
     "text": [
      "/home/mlopez/dev/python-projects/quant-learning/python-for-algorithmic-trading/08-cfd-trading-with-oanda/MomentumTrader.py:31: FutureWarning: The frame.append method is deprecated and will be removed from pandas in a future version. Use pandas.concat instead.\n",
      "  self.raw_data = self.raw_data.append(\n"
     ]
    },
    {
     "name": "stdout",
     "output_type": "stream",
     "text": [
      "196 "
     ]
    },
    {
     "name": "stderr",
     "output_type": "stream",
     "text": [
      "/home/mlopez/dev/python-projects/quant-learning/python-for-algorithmic-trading/08-cfd-trading-with-oanda/MomentumTrader.py:31: FutureWarning: The frame.append method is deprecated and will be removed from pandas in a future version. Use pandas.concat instead.\n",
      "  self.raw_data = self.raw_data.append(\n"
     ]
    },
    {
     "name": "stdout",
     "output_type": "stream",
     "text": [
      "197 "
     ]
    },
    {
     "name": "stderr",
     "output_type": "stream",
     "text": [
      "/home/mlopez/dev/python-projects/quant-learning/python-for-algorithmic-trading/08-cfd-trading-with-oanda/MomentumTrader.py:31: FutureWarning: The frame.append method is deprecated and will be removed from pandas in a future version. Use pandas.concat instead.\n",
      "  self.raw_data = self.raw_data.append(\n"
     ]
    },
    {
     "name": "stdout",
     "output_type": "stream",
     "text": [
      "198 "
     ]
    },
    {
     "name": "stderr",
     "output_type": "stream",
     "text": [
      "/home/mlopez/dev/python-projects/quant-learning/python-for-algorithmic-trading/08-cfd-trading-with-oanda/MomentumTrader.py:31: FutureWarning: The frame.append method is deprecated and will be removed from pandas in a future version. Use pandas.concat instead.\n",
      "  self.raw_data = self.raw_data.append(\n"
     ]
    },
    {
     "name": "stdout",
     "output_type": "stream",
     "text": [
      "199 "
     ]
    },
    {
     "name": "stderr",
     "output_type": "stream",
     "text": [
      "/home/mlopez/dev/python-projects/quant-learning/python-for-algorithmic-trading/08-cfd-trading-with-oanda/MomentumTrader.py:31: FutureWarning: The frame.append method is deprecated and will be removed from pandas in a future version. Use pandas.concat instead.\n",
      "  self.raw_data = self.raw_data.append(\n"
     ]
    },
    {
     "name": "stdout",
     "output_type": "stream",
     "text": [
      "200 "
     ]
    },
    {
     "name": "stderr",
     "output_type": "stream",
     "text": [
      "/home/mlopez/dev/python-projects/quant-learning/python-for-algorithmic-trading/08-cfd-trading-with-oanda/MomentumTrader.py:31: FutureWarning: The frame.append method is deprecated and will be removed from pandas in a future version. Use pandas.concat instead.\n",
      "  self.raw_data = self.raw_data.append(\n"
     ]
    },
    {
     "name": "stdout",
     "output_type": "stream",
     "text": [
      "201 "
     ]
    },
    {
     "name": "stderr",
     "output_type": "stream",
     "text": [
      "/home/mlopez/dev/python-projects/quant-learning/python-for-algorithmic-trading/08-cfd-trading-with-oanda/MomentumTrader.py:31: FutureWarning: The frame.append method is deprecated and will be removed from pandas in a future version. Use pandas.concat instead.\n",
      "  self.raw_data = self.raw_data.append(\n"
     ]
    },
    {
     "name": "stdout",
     "output_type": "stream",
     "text": [
      "202 "
     ]
    },
    {
     "name": "stderr",
     "output_type": "stream",
     "text": [
      "/home/mlopez/dev/python-projects/quant-learning/python-for-algorithmic-trading/08-cfd-trading-with-oanda/MomentumTrader.py:31: FutureWarning: The frame.append method is deprecated and will be removed from pandas in a future version. Use pandas.concat instead.\n",
      "  self.raw_data = self.raw_data.append(\n"
     ]
    },
    {
     "name": "stdout",
     "output_type": "stream",
     "text": [
      "203 "
     ]
    },
    {
     "name": "stderr",
     "output_type": "stream",
     "text": [
      "/home/mlopez/dev/python-projects/quant-learning/python-for-algorithmic-trading/08-cfd-trading-with-oanda/MomentumTrader.py:31: FutureWarning: The frame.append method is deprecated and will be removed from pandas in a future version. Use pandas.concat instead.\n",
      "  self.raw_data = self.raw_data.append(\n"
     ]
    },
    {
     "name": "stdout",
     "output_type": "stream",
     "text": [
      "204 "
     ]
    },
    {
     "name": "stderr",
     "output_type": "stream",
     "text": [
      "/home/mlopez/dev/python-projects/quant-learning/python-for-algorithmic-trading/08-cfd-trading-with-oanda/MomentumTrader.py:31: FutureWarning: The frame.append method is deprecated and will be removed from pandas in a future version. Use pandas.concat instead.\n",
      "  self.raw_data = self.raw_data.append(\n"
     ]
    },
    {
     "name": "stdout",
     "output_type": "stream",
     "text": [
      "205 "
     ]
    },
    {
     "name": "stderr",
     "output_type": "stream",
     "text": [
      "/home/mlopez/dev/python-projects/quant-learning/python-for-algorithmic-trading/08-cfd-trading-with-oanda/MomentumTrader.py:31: FutureWarning: The frame.append method is deprecated and will be removed from pandas in a future version. Use pandas.concat instead.\n",
      "  self.raw_data = self.raw_data.append(\n"
     ]
    },
    {
     "name": "stdout",
     "output_type": "stream",
     "text": [
      "206 "
     ]
    },
    {
     "name": "stderr",
     "output_type": "stream",
     "text": [
      "/home/mlopez/dev/python-projects/quant-learning/python-for-algorithmic-trading/08-cfd-trading-with-oanda/MomentumTrader.py:31: FutureWarning: The frame.append method is deprecated and will be removed from pandas in a future version. Use pandas.concat instead.\n",
      "  self.raw_data = self.raw_data.append(\n"
     ]
    },
    {
     "name": "stdout",
     "output_type": "stream",
     "text": [
      "207 "
     ]
    },
    {
     "name": "stderr",
     "output_type": "stream",
     "text": [
      "/home/mlopez/dev/python-projects/quant-learning/python-for-algorithmic-trading/08-cfd-trading-with-oanda/MomentumTrader.py:31: FutureWarning: The frame.append method is deprecated and will be removed from pandas in a future version. Use pandas.concat instead.\n",
      "  self.raw_data = self.raw_data.append(\n"
     ]
    },
    {
     "name": "stdout",
     "output_type": "stream",
     "text": [
      "208 "
     ]
    },
    {
     "name": "stderr",
     "output_type": "stream",
     "text": [
      "/home/mlopez/dev/python-projects/quant-learning/python-for-algorithmic-trading/08-cfd-trading-with-oanda/MomentumTrader.py:31: FutureWarning: The frame.append method is deprecated and will be removed from pandas in a future version. Use pandas.concat instead.\n",
      "  self.raw_data = self.raw_data.append(\n"
     ]
    },
    {
     "name": "stdout",
     "output_type": "stream",
     "text": [
      "209 "
     ]
    },
    {
     "name": "stderr",
     "output_type": "stream",
     "text": [
      "/home/mlopez/dev/python-projects/quant-learning/python-for-algorithmic-trading/08-cfd-trading-with-oanda/MomentumTrader.py:31: FutureWarning: The frame.append method is deprecated and will be removed from pandas in a future version. Use pandas.concat instead.\n",
      "  self.raw_data = self.raw_data.append(\n"
     ]
    },
    {
     "name": "stdout",
     "output_type": "stream",
     "text": [
      "210 "
     ]
    },
    {
     "name": "stderr",
     "output_type": "stream",
     "text": [
      "/home/mlopez/dev/python-projects/quant-learning/python-for-algorithmic-trading/08-cfd-trading-with-oanda/MomentumTrader.py:31: FutureWarning: The frame.append method is deprecated and will be removed from pandas in a future version. Use pandas.concat instead.\n",
      "  self.raw_data = self.raw_data.append(\n"
     ]
    },
    {
     "name": "stdout",
     "output_type": "stream",
     "text": [
      "211 "
     ]
    },
    {
     "name": "stderr",
     "output_type": "stream",
     "text": [
      "/home/mlopez/dev/python-projects/quant-learning/python-for-algorithmic-trading/08-cfd-trading-with-oanda/MomentumTrader.py:31: FutureWarning: The frame.append method is deprecated and will be removed from pandas in a future version. Use pandas.concat instead.\n",
      "  self.raw_data = self.raw_data.append(\n"
     ]
    },
    {
     "name": "stdout",
     "output_type": "stream",
     "text": [
      "212 "
     ]
    },
    {
     "name": "stderr",
     "output_type": "stream",
     "text": [
      "/home/mlopez/dev/python-projects/quant-learning/python-for-algorithmic-trading/08-cfd-trading-with-oanda/MomentumTrader.py:31: FutureWarning: The frame.append method is deprecated and will be removed from pandas in a future version. Use pandas.concat instead.\n",
      "  self.raw_data = self.raw_data.append(\n"
     ]
    },
    {
     "name": "stdout",
     "output_type": "stream",
     "text": [
      "213 "
     ]
    },
    {
     "name": "stderr",
     "output_type": "stream",
     "text": [
      "/home/mlopez/dev/python-projects/quant-learning/python-for-algorithmic-trading/08-cfd-trading-with-oanda/MomentumTrader.py:31: FutureWarning: The frame.append method is deprecated and will be removed from pandas in a future version. Use pandas.concat instead.\n",
      "  self.raw_data = self.raw_data.append(\n"
     ]
    },
    {
     "name": "stdout",
     "output_type": "stream",
     "text": [
      "214 "
     ]
    },
    {
     "name": "stderr",
     "output_type": "stream",
     "text": [
      "/home/mlopez/dev/python-projects/quant-learning/python-for-algorithmic-trading/08-cfd-trading-with-oanda/MomentumTrader.py:31: FutureWarning: The frame.append method is deprecated and will be removed from pandas in a future version. Use pandas.concat instead.\n",
      "  self.raw_data = self.raw_data.append(\n"
     ]
    },
    {
     "name": "stdout",
     "output_type": "stream",
     "text": [
      "215 "
     ]
    },
    {
     "name": "stderr",
     "output_type": "stream",
     "text": [
      "/home/mlopez/dev/python-projects/quant-learning/python-for-algorithmic-trading/08-cfd-trading-with-oanda/MomentumTrader.py:31: FutureWarning: The frame.append method is deprecated and will be removed from pandas in a future version. Use pandas.concat instead.\n",
      "  self.raw_data = self.raw_data.append(\n"
     ]
    },
    {
     "name": "stdout",
     "output_type": "stream",
     "text": [
      "216 "
     ]
    },
    {
     "name": "stderr",
     "output_type": "stream",
     "text": [
      "/home/mlopez/dev/python-projects/quant-learning/python-for-algorithmic-trading/08-cfd-trading-with-oanda/MomentumTrader.py:31: FutureWarning: The frame.append method is deprecated and will be removed from pandas in a future version. Use pandas.concat instead.\n",
      "  self.raw_data = self.raw_data.append(\n"
     ]
    },
    {
     "name": "stdout",
     "output_type": "stream",
     "text": [
      "217 "
     ]
    },
    {
     "name": "stderr",
     "output_type": "stream",
     "text": [
      "/home/mlopez/dev/python-projects/quant-learning/python-for-algorithmic-trading/08-cfd-trading-with-oanda/MomentumTrader.py:31: FutureWarning: The frame.append method is deprecated and will be removed from pandas in a future version. Use pandas.concat instead.\n",
      "  self.raw_data = self.raw_data.append(\n"
     ]
    },
    {
     "name": "stdout",
     "output_type": "stream",
     "text": [
      "218 "
     ]
    },
    {
     "name": "stderr",
     "output_type": "stream",
     "text": [
      "/home/mlopez/dev/python-projects/quant-learning/python-for-algorithmic-trading/08-cfd-trading-with-oanda/MomentumTrader.py:31: FutureWarning: The frame.append method is deprecated and will be removed from pandas in a future version. Use pandas.concat instead.\n",
      "  self.raw_data = self.raw_data.append(\n"
     ]
    },
    {
     "name": "stdout",
     "output_type": "stream",
     "text": [
      "219 "
     ]
    },
    {
     "name": "stderr",
     "output_type": "stream",
     "text": [
      "/home/mlopez/dev/python-projects/quant-learning/python-for-algorithmic-trading/08-cfd-trading-with-oanda/MomentumTrader.py:31: FutureWarning: The frame.append method is deprecated and will be removed from pandas in a future version. Use pandas.concat instead.\n",
      "  self.raw_data = self.raw_data.append(\n"
     ]
    },
    {
     "name": "stdout",
     "output_type": "stream",
     "text": [
      "220 "
     ]
    },
    {
     "name": "stderr",
     "output_type": "stream",
     "text": [
      "/home/mlopez/dev/python-projects/quant-learning/python-for-algorithmic-trading/08-cfd-trading-with-oanda/MomentumTrader.py:31: FutureWarning: The frame.append method is deprecated and will be removed from pandas in a future version. Use pandas.concat instead.\n",
      "  self.raw_data = self.raw_data.append(\n"
     ]
    },
    {
     "name": "stdout",
     "output_type": "stream",
     "text": [
      "221 "
     ]
    },
    {
     "name": "stderr",
     "output_type": "stream",
     "text": [
      "/home/mlopez/dev/python-projects/quant-learning/python-for-algorithmic-trading/08-cfd-trading-with-oanda/MomentumTrader.py:31: FutureWarning: The frame.append method is deprecated and will be removed from pandas in a future version. Use pandas.concat instead.\n",
      "  self.raw_data = self.raw_data.append(\n"
     ]
    },
    {
     "name": "stdout",
     "output_type": "stream",
     "text": [
      "222 "
     ]
    },
    {
     "name": "stderr",
     "output_type": "stream",
     "text": [
      "/home/mlopez/dev/python-projects/quant-learning/python-for-algorithmic-trading/08-cfd-trading-with-oanda/MomentumTrader.py:31: FutureWarning: The frame.append method is deprecated and will be removed from pandas in a future version. Use pandas.concat instead.\n",
      "  self.raw_data = self.raw_data.append(\n"
     ]
    },
    {
     "name": "stdout",
     "output_type": "stream",
     "text": [
      "223 "
     ]
    },
    {
     "name": "stderr",
     "output_type": "stream",
     "text": [
      "/home/mlopez/dev/python-projects/quant-learning/python-for-algorithmic-trading/08-cfd-trading-with-oanda/MomentumTrader.py:31: FutureWarning: The frame.append method is deprecated and will be removed from pandas in a future version. Use pandas.concat instead.\n",
      "  self.raw_data = self.raw_data.append(\n"
     ]
    },
    {
     "name": "stdout",
     "output_type": "stream",
     "text": [
      "224 "
     ]
    },
    {
     "name": "stderr",
     "output_type": "stream",
     "text": [
      "/home/mlopez/dev/python-projects/quant-learning/python-for-algorithmic-trading/08-cfd-trading-with-oanda/MomentumTrader.py:31: FutureWarning: The frame.append method is deprecated and will be removed from pandas in a future version. Use pandas.concat instead.\n",
      "  self.raw_data = self.raw_data.append(\n"
     ]
    },
    {
     "name": "stdout",
     "output_type": "stream",
     "text": [
      "225 "
     ]
    },
    {
     "name": "stderr",
     "output_type": "stream",
     "text": [
      "/home/mlopez/dev/python-projects/quant-learning/python-for-algorithmic-trading/08-cfd-trading-with-oanda/MomentumTrader.py:31: FutureWarning: The frame.append method is deprecated and will be removed from pandas in a future version. Use pandas.concat instead.\n",
      "  self.raw_data = self.raw_data.append(\n"
     ]
    },
    {
     "name": "stdout",
     "output_type": "stream",
     "text": [
      "226 "
     ]
    },
    {
     "name": "stderr",
     "output_type": "stream",
     "text": [
      "/home/mlopez/dev/python-projects/quant-learning/python-for-algorithmic-trading/08-cfd-trading-with-oanda/MomentumTrader.py:31: FutureWarning: The frame.append method is deprecated and will be removed from pandas in a future version. Use pandas.concat instead.\n",
      "  self.raw_data = self.raw_data.append(\n"
     ]
    },
    {
     "name": "stdout",
     "output_type": "stream",
     "text": [
      "227 "
     ]
    },
    {
     "name": "stderr",
     "output_type": "stream",
     "text": [
      "/home/mlopez/dev/python-projects/quant-learning/python-for-algorithmic-trading/08-cfd-trading-with-oanda/MomentumTrader.py:31: FutureWarning: The frame.append method is deprecated and will be removed from pandas in a future version. Use pandas.concat instead.\n",
      "  self.raw_data = self.raw_data.append(\n"
     ]
    },
    {
     "name": "stdout",
     "output_type": "stream",
     "text": [
      "228 "
     ]
    },
    {
     "name": "stderr",
     "output_type": "stream",
     "text": [
      "/home/mlopez/dev/python-projects/quant-learning/python-for-algorithmic-trading/08-cfd-trading-with-oanda/MomentumTrader.py:31: FutureWarning: The frame.append method is deprecated and will be removed from pandas in a future version. Use pandas.concat instead.\n",
      "  self.raw_data = self.raw_data.append(\n"
     ]
    },
    {
     "name": "stdout",
     "output_type": "stream",
     "text": [
      "229 "
     ]
    },
    {
     "name": "stderr",
     "output_type": "stream",
     "text": [
      "/home/mlopez/dev/python-projects/quant-learning/python-for-algorithmic-trading/08-cfd-trading-with-oanda/MomentumTrader.py:31: FutureWarning: The frame.append method is deprecated and will be removed from pandas in a future version. Use pandas.concat instead.\n",
      "  self.raw_data = self.raw_data.append(\n"
     ]
    },
    {
     "name": "stdout",
     "output_type": "stream",
     "text": [
      "230 "
     ]
    },
    {
     "name": "stderr",
     "output_type": "stream",
     "text": [
      "/home/mlopez/dev/python-projects/quant-learning/python-for-algorithmic-trading/08-cfd-trading-with-oanda/MomentumTrader.py:31: FutureWarning: The frame.append method is deprecated and will be removed from pandas in a future version. Use pandas.concat instead.\n",
      "  self.raw_data = self.raw_data.append(\n"
     ]
    },
    {
     "name": "stdout",
     "output_type": "stream",
     "text": [
      "231 "
     ]
    },
    {
     "name": "stderr",
     "output_type": "stream",
     "text": [
      "/home/mlopez/dev/python-projects/quant-learning/python-for-algorithmic-trading/08-cfd-trading-with-oanda/MomentumTrader.py:31: FutureWarning: The frame.append method is deprecated and will be removed from pandas in a future version. Use pandas.concat instead.\n",
      "  self.raw_data = self.raw_data.append(\n"
     ]
    },
    {
     "name": "stdout",
     "output_type": "stream",
     "text": [
      "232 "
     ]
    },
    {
     "name": "stderr",
     "output_type": "stream",
     "text": [
      "/home/mlopez/dev/python-projects/quant-learning/python-for-algorithmic-trading/08-cfd-trading-with-oanda/MomentumTrader.py:31: FutureWarning: The frame.append method is deprecated and will be removed from pandas in a future version. Use pandas.concat instead.\n",
      "  self.raw_data = self.raw_data.append(\n"
     ]
    },
    {
     "name": "stdout",
     "output_type": "stream",
     "text": [
      "233 "
     ]
    },
    {
     "name": "stderr",
     "output_type": "stream",
     "text": [
      "/home/mlopez/dev/python-projects/quant-learning/python-for-algorithmic-trading/08-cfd-trading-with-oanda/MomentumTrader.py:31: FutureWarning: The frame.append method is deprecated and will be removed from pandas in a future version. Use pandas.concat instead.\n",
      "  self.raw_data = self.raw_data.append(\n"
     ]
    },
    {
     "name": "stdout",
     "output_type": "stream",
     "text": [
      "234 "
     ]
    },
    {
     "name": "stderr",
     "output_type": "stream",
     "text": [
      "/home/mlopez/dev/python-projects/quant-learning/python-for-algorithmic-trading/08-cfd-trading-with-oanda/MomentumTrader.py:31: FutureWarning: The frame.append method is deprecated and will be removed from pandas in a future version. Use pandas.concat instead.\n",
      "  self.raw_data = self.raw_data.append(\n"
     ]
    },
    {
     "name": "stdout",
     "output_type": "stream",
     "text": [
      "235 "
     ]
    },
    {
     "name": "stderr",
     "output_type": "stream",
     "text": [
      "/home/mlopez/dev/python-projects/quant-learning/python-for-algorithmic-trading/08-cfd-trading-with-oanda/MomentumTrader.py:31: FutureWarning: The frame.append method is deprecated and will be removed from pandas in a future version. Use pandas.concat instead.\n",
      "  self.raw_data = self.raw_data.append(\n"
     ]
    },
    {
     "name": "stdout",
     "output_type": "stream",
     "text": [
      "236 "
     ]
    },
    {
     "name": "stderr",
     "output_type": "stream",
     "text": [
      "/home/mlopez/dev/python-projects/quant-learning/python-for-algorithmic-trading/08-cfd-trading-with-oanda/MomentumTrader.py:31: FutureWarning: The frame.append method is deprecated and will be removed from pandas in a future version. Use pandas.concat instead.\n",
      "  self.raw_data = self.raw_data.append(\n"
     ]
    },
    {
     "name": "stdout",
     "output_type": "stream",
     "text": [
      "237 "
     ]
    },
    {
     "name": "stderr",
     "output_type": "stream",
     "text": [
      "/home/mlopez/dev/python-projects/quant-learning/python-for-algorithmic-trading/08-cfd-trading-with-oanda/MomentumTrader.py:31: FutureWarning: The frame.append method is deprecated and will be removed from pandas in a future version. Use pandas.concat instead.\n",
      "  self.raw_data = self.raw_data.append(\n"
     ]
    },
    {
     "name": "stdout",
     "output_type": "stream",
     "text": [
      "238 "
     ]
    },
    {
     "name": "stderr",
     "output_type": "stream",
     "text": [
      "/home/mlopez/dev/python-projects/quant-learning/python-for-algorithmic-trading/08-cfd-trading-with-oanda/MomentumTrader.py:31: FutureWarning: The frame.append method is deprecated and will be removed from pandas in a future version. Use pandas.concat instead.\n",
      "  self.raw_data = self.raw_data.append(\n"
     ]
    },
    {
     "name": "stdout",
     "output_type": "stream",
     "text": [
      "239 "
     ]
    },
    {
     "name": "stderr",
     "output_type": "stream",
     "text": [
      "/home/mlopez/dev/python-projects/quant-learning/python-for-algorithmic-trading/08-cfd-trading-with-oanda/MomentumTrader.py:31: FutureWarning: The frame.append method is deprecated and will be removed from pandas in a future version. Use pandas.concat instead.\n",
      "  self.raw_data = self.raw_data.append(\n"
     ]
    },
    {
     "name": "stdout",
     "output_type": "stream",
     "text": [
      "240 "
     ]
    },
    {
     "name": "stderr",
     "output_type": "stream",
     "text": [
      "/home/mlopez/dev/python-projects/quant-learning/python-for-algorithmic-trading/08-cfd-trading-with-oanda/MomentumTrader.py:31: FutureWarning: The frame.append method is deprecated and will be removed from pandas in a future version. Use pandas.concat instead.\n",
      "  self.raw_data = self.raw_data.append(\n"
     ]
    },
    {
     "name": "stdout",
     "output_type": "stream",
     "text": [
      "241 "
     ]
    },
    {
     "name": "stderr",
     "output_type": "stream",
     "text": [
      "/home/mlopez/dev/python-projects/quant-learning/python-for-algorithmic-trading/08-cfd-trading-with-oanda/MomentumTrader.py:31: FutureWarning: The frame.append method is deprecated and will be removed from pandas in a future version. Use pandas.concat instead.\n",
      "  self.raw_data = self.raw_data.append(\n"
     ]
    },
    {
     "name": "stdout",
     "output_type": "stream",
     "text": [
      "242 "
     ]
    },
    {
     "name": "stderr",
     "output_type": "stream",
     "text": [
      "/home/mlopez/dev/python-projects/quant-learning/python-for-algorithmic-trading/08-cfd-trading-with-oanda/MomentumTrader.py:31: FutureWarning: The frame.append method is deprecated and will be removed from pandas in a future version. Use pandas.concat instead.\n",
      "  self.raw_data = self.raw_data.append(\n"
     ]
    },
    {
     "name": "stdout",
     "output_type": "stream",
     "text": [
      "243 "
     ]
    },
    {
     "name": "stderr",
     "output_type": "stream",
     "text": [
      "/home/mlopez/dev/python-projects/quant-learning/python-for-algorithmic-trading/08-cfd-trading-with-oanda/MomentumTrader.py:31: FutureWarning: The frame.append method is deprecated and will be removed from pandas in a future version. Use pandas.concat instead.\n",
      "  self.raw_data = self.raw_data.append(\n"
     ]
    },
    {
     "name": "stdout",
     "output_type": "stream",
     "text": [
      "244 "
     ]
    },
    {
     "name": "stderr",
     "output_type": "stream",
     "text": [
      "/home/mlopez/dev/python-projects/quant-learning/python-for-algorithmic-trading/08-cfd-trading-with-oanda/MomentumTrader.py:31: FutureWarning: The frame.append method is deprecated and will be removed from pandas in a future version. Use pandas.concat instead.\n",
      "  self.raw_data = self.raw_data.append(\n"
     ]
    },
    {
     "name": "stdout",
     "output_type": "stream",
     "text": [
      "245 "
     ]
    },
    {
     "name": "stderr",
     "output_type": "stream",
     "text": [
      "/home/mlopez/dev/python-projects/quant-learning/python-for-algorithmic-trading/08-cfd-trading-with-oanda/MomentumTrader.py:31: FutureWarning: The frame.append method is deprecated and will be removed from pandas in a future version. Use pandas.concat instead.\n",
      "  self.raw_data = self.raw_data.append(\n"
     ]
    },
    {
     "name": "stdout",
     "output_type": "stream",
     "text": [
      "246 "
     ]
    },
    {
     "name": "stderr",
     "output_type": "stream",
     "text": [
      "/home/mlopez/dev/python-projects/quant-learning/python-for-algorithmic-trading/08-cfd-trading-with-oanda/MomentumTrader.py:31: FutureWarning: The frame.append method is deprecated and will be removed from pandas in a future version. Use pandas.concat instead.\n",
      "  self.raw_data = self.raw_data.append(\n"
     ]
    },
    {
     "name": "stdout",
     "output_type": "stream",
     "text": [
      "247 "
     ]
    },
    {
     "name": "stderr",
     "output_type": "stream",
     "text": [
      "/home/mlopez/dev/python-projects/quant-learning/python-for-algorithmic-trading/08-cfd-trading-with-oanda/MomentumTrader.py:31: FutureWarning: The frame.append method is deprecated and will be removed from pandas in a future version. Use pandas.concat instead.\n",
      "  self.raw_data = self.raw_data.append(\n"
     ]
    },
    {
     "name": "stdout",
     "output_type": "stream",
     "text": [
      "248 "
     ]
    },
    {
     "name": "stderr",
     "output_type": "stream",
     "text": [
      "/home/mlopez/dev/python-projects/quant-learning/python-for-algorithmic-trading/08-cfd-trading-with-oanda/MomentumTrader.py:31: FutureWarning: The frame.append method is deprecated and will be removed from pandas in a future version. Use pandas.concat instead.\n",
      "  self.raw_data = self.raw_data.append(\n"
     ]
    },
    {
     "name": "stdout",
     "output_type": "stream",
     "text": [
      "249 "
     ]
    },
    {
     "name": "stderr",
     "output_type": "stream",
     "text": [
      "/home/mlopez/dev/python-projects/quant-learning/python-for-algorithmic-trading/08-cfd-trading-with-oanda/MomentumTrader.py:31: FutureWarning: The frame.append method is deprecated and will be removed from pandas in a future version. Use pandas.concat instead.\n",
      "  self.raw_data = self.raw_data.append(\n"
     ]
    },
    {
     "name": "stdout",
     "output_type": "stream",
     "text": [
      "250 "
     ]
    },
    {
     "name": "stderr",
     "output_type": "stream",
     "text": [
      "/home/mlopez/dev/python-projects/quant-learning/python-for-algorithmic-trading/08-cfd-trading-with-oanda/MomentumTrader.py:31: FutureWarning: The frame.append method is deprecated and will be removed from pandas in a future version. Use pandas.concat instead.\n",
      "  self.raw_data = self.raw_data.append(\n"
     ]
    },
    {
     "name": "stdout",
     "output_type": "stream",
     "text": [
      "251 "
     ]
    },
    {
     "name": "stderr",
     "output_type": "stream",
     "text": [
      "/home/mlopez/dev/python-projects/quant-learning/python-for-algorithmic-trading/08-cfd-trading-with-oanda/MomentumTrader.py:31: FutureWarning: The frame.append method is deprecated and will be removed from pandas in a future version. Use pandas.concat instead.\n",
      "  self.raw_data = self.raw_data.append(\n"
     ]
    },
    {
     "name": "stdout",
     "output_type": "stream",
     "text": [
      "252 "
     ]
    },
    {
     "name": "stderr",
     "output_type": "stream",
     "text": [
      "/home/mlopez/dev/python-projects/quant-learning/python-for-algorithmic-trading/08-cfd-trading-with-oanda/MomentumTrader.py:31: FutureWarning: The frame.append method is deprecated and will be removed from pandas in a future version. Use pandas.concat instead.\n",
      "  self.raw_data = self.raw_data.append(\n"
     ]
    },
    {
     "name": "stdout",
     "output_type": "stream",
     "text": [
      "253 "
     ]
    },
    {
     "name": "stderr",
     "output_type": "stream",
     "text": [
      "/home/mlopez/dev/python-projects/quant-learning/python-for-algorithmic-trading/08-cfd-trading-with-oanda/MomentumTrader.py:31: FutureWarning: The frame.append method is deprecated and will be removed from pandas in a future version. Use pandas.concat instead.\n",
      "  self.raw_data = self.raw_data.append(\n"
     ]
    },
    {
     "name": "stdout",
     "output_type": "stream",
     "text": [
      "254 "
     ]
    },
    {
     "name": "stderr",
     "output_type": "stream",
     "text": [
      "/home/mlopez/dev/python-projects/quant-learning/python-for-algorithmic-trading/08-cfd-trading-with-oanda/MomentumTrader.py:31: FutureWarning: The frame.append method is deprecated and will be removed from pandas in a future version. Use pandas.concat instead.\n",
      "  self.raw_data = self.raw_data.append(\n"
     ]
    },
    {
     "name": "stdout",
     "output_type": "stream",
     "text": [
      "255 "
     ]
    },
    {
     "name": "stderr",
     "output_type": "stream",
     "text": [
      "/home/mlopez/dev/python-projects/quant-learning/python-for-algorithmic-trading/08-cfd-trading-with-oanda/MomentumTrader.py:31: FutureWarning: The frame.append method is deprecated and will be removed from pandas in a future version. Use pandas.concat instead.\n",
      "  self.raw_data = self.raw_data.append(\n"
     ]
    },
    {
     "name": "stdout",
     "output_type": "stream",
     "text": [
      "256 "
     ]
    },
    {
     "name": "stderr",
     "output_type": "stream",
     "text": [
      "/home/mlopez/dev/python-projects/quant-learning/python-for-algorithmic-trading/08-cfd-trading-with-oanda/MomentumTrader.py:31: FutureWarning: The frame.append method is deprecated and will be removed from pandas in a future version. Use pandas.concat instead.\n",
      "  self.raw_data = self.raw_data.append(\n"
     ]
    },
    {
     "name": "stdout",
     "output_type": "stream",
     "text": [
      "257 "
     ]
    },
    {
     "name": "stderr",
     "output_type": "stream",
     "text": [
      "/home/mlopez/dev/python-projects/quant-learning/python-for-algorithmic-trading/08-cfd-trading-with-oanda/MomentumTrader.py:31: FutureWarning: The frame.append method is deprecated and will be removed from pandas in a future version. Use pandas.concat instead.\n",
      "  self.raw_data = self.raw_data.append(\n"
     ]
    },
    {
     "name": "stdout",
     "output_type": "stream",
     "text": [
      "258 "
     ]
    },
    {
     "name": "stderr",
     "output_type": "stream",
     "text": [
      "/home/mlopez/dev/python-projects/quant-learning/python-for-algorithmic-trading/08-cfd-trading-with-oanda/MomentumTrader.py:31: FutureWarning: The frame.append method is deprecated and will be removed from pandas in a future version. Use pandas.concat instead.\n",
      "  self.raw_data = self.raw_data.append(\n"
     ]
    },
    {
     "name": "stdout",
     "output_type": "stream",
     "text": [
      "259 "
     ]
    },
    {
     "name": "stderr",
     "output_type": "stream",
     "text": [
      "/home/mlopez/dev/python-projects/quant-learning/python-for-algorithmic-trading/08-cfd-trading-with-oanda/MomentumTrader.py:31: FutureWarning: The frame.append method is deprecated and will be removed from pandas in a future version. Use pandas.concat instead.\n",
      "  self.raw_data = self.raw_data.append(\n"
     ]
    },
    {
     "name": "stdout",
     "output_type": "stream",
     "text": [
      "260 "
     ]
    },
    {
     "name": "stderr",
     "output_type": "stream",
     "text": [
      "/home/mlopez/dev/python-projects/quant-learning/python-for-algorithmic-trading/08-cfd-trading-with-oanda/MomentumTrader.py:31: FutureWarning: The frame.append method is deprecated and will be removed from pandas in a future version. Use pandas.concat instead.\n",
      "  self.raw_data = self.raw_data.append(\n"
     ]
    },
    {
     "name": "stdout",
     "output_type": "stream",
     "text": [
      "261 "
     ]
    },
    {
     "name": "stderr",
     "output_type": "stream",
     "text": [
      "/home/mlopez/dev/python-projects/quant-learning/python-for-algorithmic-trading/08-cfd-trading-with-oanda/MomentumTrader.py:31: FutureWarning: The frame.append method is deprecated and will be removed from pandas in a future version. Use pandas.concat instead.\n",
      "  self.raw_data = self.raw_data.append(\n"
     ]
    },
    {
     "name": "stdout",
     "output_type": "stream",
     "text": [
      "262 "
     ]
    },
    {
     "name": "stderr",
     "output_type": "stream",
     "text": [
      "/home/mlopez/dev/python-projects/quant-learning/python-for-algorithmic-trading/08-cfd-trading-with-oanda/MomentumTrader.py:31: FutureWarning: The frame.append method is deprecated and will be removed from pandas in a future version. Use pandas.concat instead.\n",
      "  self.raw_data = self.raw_data.append(\n"
     ]
    },
    {
     "name": "stdout",
     "output_type": "stream",
     "text": [
      "263 "
     ]
    },
    {
     "name": "stderr",
     "output_type": "stream",
     "text": [
      "/home/mlopez/dev/python-projects/quant-learning/python-for-algorithmic-trading/08-cfd-trading-with-oanda/MomentumTrader.py:31: FutureWarning: The frame.append method is deprecated and will be removed from pandas in a future version. Use pandas.concat instead.\n",
      "  self.raw_data = self.raw_data.append(\n"
     ]
    },
    {
     "name": "stdout",
     "output_type": "stream",
     "text": [
      "264 "
     ]
    },
    {
     "name": "stderr",
     "output_type": "stream",
     "text": [
      "/home/mlopez/dev/python-projects/quant-learning/python-for-algorithmic-trading/08-cfd-trading-with-oanda/MomentumTrader.py:31: FutureWarning: The frame.append method is deprecated and will be removed from pandas in a future version. Use pandas.concat instead.\n",
      "  self.raw_data = self.raw_data.append(\n"
     ]
    },
    {
     "name": "stdout",
     "output_type": "stream",
     "text": [
      "265 "
     ]
    },
    {
     "name": "stderr",
     "output_type": "stream",
     "text": [
      "/home/mlopez/dev/python-projects/quant-learning/python-for-algorithmic-trading/08-cfd-trading-with-oanda/MomentumTrader.py:31: FutureWarning: The frame.append method is deprecated and will be removed from pandas in a future version. Use pandas.concat instead.\n",
      "  self.raw_data = self.raw_data.append(\n"
     ]
    },
    {
     "name": "stdout",
     "output_type": "stream",
     "text": [
      "266 "
     ]
    },
    {
     "name": "stderr",
     "output_type": "stream",
     "text": [
      "/home/mlopez/dev/python-projects/quant-learning/python-for-algorithmic-trading/08-cfd-trading-with-oanda/MomentumTrader.py:31: FutureWarning: The frame.append method is deprecated and will be removed from pandas in a future version. Use pandas.concat instead.\n",
      "  self.raw_data = self.raw_data.append(\n"
     ]
    },
    {
     "name": "stdout",
     "output_type": "stream",
     "text": [
      "267 "
     ]
    },
    {
     "name": "stderr",
     "output_type": "stream",
     "text": [
      "/home/mlopez/dev/python-projects/quant-learning/python-for-algorithmic-trading/08-cfd-trading-with-oanda/MomentumTrader.py:31: FutureWarning: The frame.append method is deprecated and will be removed from pandas in a future version. Use pandas.concat instead.\n",
      "  self.raw_data = self.raw_data.append(\n"
     ]
    },
    {
     "name": "stdout",
     "output_type": "stream",
     "text": [
      "268 "
     ]
    },
    {
     "name": "stderr",
     "output_type": "stream",
     "text": [
      "/home/mlopez/dev/python-projects/quant-learning/python-for-algorithmic-trading/08-cfd-trading-with-oanda/MomentumTrader.py:31: FutureWarning: The frame.append method is deprecated and will be removed from pandas in a future version. Use pandas.concat instead.\n",
      "  self.raw_data = self.raw_data.append(\n"
     ]
    },
    {
     "name": "stdout",
     "output_type": "stream",
     "text": [
      "269 "
     ]
    },
    {
     "name": "stderr",
     "output_type": "stream",
     "text": [
      "/home/mlopez/dev/python-projects/quant-learning/python-for-algorithmic-trading/08-cfd-trading-with-oanda/MomentumTrader.py:31: FutureWarning: The frame.append method is deprecated and will be removed from pandas in a future version. Use pandas.concat instead.\n",
      "  self.raw_data = self.raw_data.append(\n"
     ]
    },
    {
     "name": "stdout",
     "output_type": "stream",
     "text": [
      "270 "
     ]
    },
    {
     "name": "stderr",
     "output_type": "stream",
     "text": [
      "/home/mlopez/dev/python-projects/quant-learning/python-for-algorithmic-trading/08-cfd-trading-with-oanda/MomentumTrader.py:31: FutureWarning: The frame.append method is deprecated and will be removed from pandas in a future version. Use pandas.concat instead.\n",
      "  self.raw_data = self.raw_data.append(\n"
     ]
    },
    {
     "name": "stdout",
     "output_type": "stream",
     "text": [
      "271 "
     ]
    },
    {
     "name": "stderr",
     "output_type": "stream",
     "text": [
      "/home/mlopez/dev/python-projects/quant-learning/python-for-algorithmic-trading/08-cfd-trading-with-oanda/MomentumTrader.py:31: FutureWarning: The frame.append method is deprecated and will be removed from pandas in a future version. Use pandas.concat instead.\n",
      "  self.raw_data = self.raw_data.append(\n"
     ]
    },
    {
     "name": "stdout",
     "output_type": "stream",
     "text": [
      "272 "
     ]
    },
    {
     "name": "stderr",
     "output_type": "stream",
     "text": [
      "/home/mlopez/dev/python-projects/quant-learning/python-for-algorithmic-trading/08-cfd-trading-with-oanda/MomentumTrader.py:31: FutureWarning: The frame.append method is deprecated and will be removed from pandas in a future version. Use pandas.concat instead.\n",
      "  self.raw_data = self.raw_data.append(\n"
     ]
    },
    {
     "name": "stdout",
     "output_type": "stream",
     "text": [
      "273 "
     ]
    },
    {
     "name": "stderr",
     "output_type": "stream",
     "text": [
      "/home/mlopez/dev/python-projects/quant-learning/python-for-algorithmic-trading/08-cfd-trading-with-oanda/MomentumTrader.py:31: FutureWarning: The frame.append method is deprecated and will be removed from pandas in a future version. Use pandas.concat instead.\n",
      "  self.raw_data = self.raw_data.append(\n"
     ]
    },
    {
     "name": "stdout",
     "output_type": "stream",
     "text": [
      "274 "
     ]
    },
    {
     "name": "stderr",
     "output_type": "stream",
     "text": [
      "/home/mlopez/dev/python-projects/quant-learning/python-for-algorithmic-trading/08-cfd-trading-with-oanda/MomentumTrader.py:31: FutureWarning: The frame.append method is deprecated and will be removed from pandas in a future version. Use pandas.concat instead.\n",
      "  self.raw_data = self.raw_data.append(\n"
     ]
    },
    {
     "name": "stdout",
     "output_type": "stream",
     "text": [
      "275 "
     ]
    },
    {
     "name": "stderr",
     "output_type": "stream",
     "text": [
      "/home/mlopez/dev/python-projects/quant-learning/python-for-algorithmic-trading/08-cfd-trading-with-oanda/MomentumTrader.py:31: FutureWarning: The frame.append method is deprecated and will be removed from pandas in a future version. Use pandas.concat instead.\n",
      "  self.raw_data = self.raw_data.append(\n"
     ]
    },
    {
     "name": "stdout",
     "output_type": "stream",
     "text": [
      "276 "
     ]
    },
    {
     "name": "stderr",
     "output_type": "stream",
     "text": [
      "/home/mlopez/dev/python-projects/quant-learning/python-for-algorithmic-trading/08-cfd-trading-with-oanda/MomentumTrader.py:31: FutureWarning: The frame.append method is deprecated and will be removed from pandas in a future version. Use pandas.concat instead.\n",
      "  self.raw_data = self.raw_data.append(\n"
     ]
    },
    {
     "name": "stdout",
     "output_type": "stream",
     "text": [
      "277 "
     ]
    },
    {
     "name": "stderr",
     "output_type": "stream",
     "text": [
      "/home/mlopez/dev/python-projects/quant-learning/python-for-algorithmic-trading/08-cfd-trading-with-oanda/MomentumTrader.py:31: FutureWarning: The frame.append method is deprecated and will be removed from pandas in a future version. Use pandas.concat instead.\n",
      "  self.raw_data = self.raw_data.append(\n"
     ]
    },
    {
     "name": "stdout",
     "output_type": "stream",
     "text": [
      "278 "
     ]
    },
    {
     "name": "stderr",
     "output_type": "stream",
     "text": [
      "/home/mlopez/dev/python-projects/quant-learning/python-for-algorithmic-trading/08-cfd-trading-with-oanda/MomentumTrader.py:31: FutureWarning: The frame.append method is deprecated and will be removed from pandas in a future version. Use pandas.concat instead.\n",
      "  self.raw_data = self.raw_data.append(\n"
     ]
    },
    {
     "name": "stdout",
     "output_type": "stream",
     "text": [
      "279 "
     ]
    },
    {
     "name": "stderr",
     "output_type": "stream",
     "text": [
      "/home/mlopez/dev/python-projects/quant-learning/python-for-algorithmic-trading/08-cfd-trading-with-oanda/MomentumTrader.py:31: FutureWarning: The frame.append method is deprecated and will be removed from pandas in a future version. Use pandas.concat instead.\n",
      "  self.raw_data = self.raw_data.append(\n"
     ]
    },
    {
     "name": "stdout",
     "output_type": "stream",
     "text": [
      "280 "
     ]
    },
    {
     "name": "stderr",
     "output_type": "stream",
     "text": [
      "/home/mlopez/dev/python-projects/quant-learning/python-for-algorithmic-trading/08-cfd-trading-with-oanda/MomentumTrader.py:31: FutureWarning: The frame.append method is deprecated and will be removed from pandas in a future version. Use pandas.concat instead.\n",
      "  self.raw_data = self.raw_data.append(\n"
     ]
    },
    {
     "name": "stdout",
     "output_type": "stream",
     "text": [
      "281 "
     ]
    },
    {
     "name": "stderr",
     "output_type": "stream",
     "text": [
      "/home/mlopez/dev/python-projects/quant-learning/python-for-algorithmic-trading/08-cfd-trading-with-oanda/MomentumTrader.py:31: FutureWarning: The frame.append method is deprecated and will be removed from pandas in a future version. Use pandas.concat instead.\n",
      "  self.raw_data = self.raw_data.append(\n"
     ]
    },
    {
     "name": "stdout",
     "output_type": "stream",
     "text": [
      "282 "
     ]
    },
    {
     "name": "stderr",
     "output_type": "stream",
     "text": [
      "/home/mlopez/dev/python-projects/quant-learning/python-for-algorithmic-trading/08-cfd-trading-with-oanda/MomentumTrader.py:31: FutureWarning: The frame.append method is deprecated and will be removed from pandas in a future version. Use pandas.concat instead.\n",
      "  self.raw_data = self.raw_data.append(\n"
     ]
    },
    {
     "name": "stdout",
     "output_type": "stream",
     "text": [
      "283 "
     ]
    },
    {
     "name": "stderr",
     "output_type": "stream",
     "text": [
      "/home/mlopez/dev/python-projects/quant-learning/python-for-algorithmic-trading/08-cfd-trading-with-oanda/MomentumTrader.py:31: FutureWarning: The frame.append method is deprecated and will be removed from pandas in a future version. Use pandas.concat instead.\n",
      "  self.raw_data = self.raw_data.append(\n"
     ]
    },
    {
     "name": "stdout",
     "output_type": "stream",
     "text": [
      "284 "
     ]
    },
    {
     "name": "stderr",
     "output_type": "stream",
     "text": [
      "/home/mlopez/dev/python-projects/quant-learning/python-for-algorithmic-trading/08-cfd-trading-with-oanda/MomentumTrader.py:31: FutureWarning: The frame.append method is deprecated and will be removed from pandas in a future version. Use pandas.concat instead.\n",
      "  self.raw_data = self.raw_data.append(\n"
     ]
    },
    {
     "name": "stdout",
     "output_type": "stream",
     "text": [
      "285 "
     ]
    },
    {
     "name": "stderr",
     "output_type": "stream",
     "text": [
      "/home/mlopez/dev/python-projects/quant-learning/python-for-algorithmic-trading/08-cfd-trading-with-oanda/MomentumTrader.py:31: FutureWarning: The frame.append method is deprecated and will be removed from pandas in a future version. Use pandas.concat instead.\n",
      "  self.raw_data = self.raw_data.append(\n"
     ]
    },
    {
     "name": "stdout",
     "output_type": "stream",
     "text": [
      "286 "
     ]
    },
    {
     "name": "stderr",
     "output_type": "stream",
     "text": [
      "/home/mlopez/dev/python-projects/quant-learning/python-for-algorithmic-trading/08-cfd-trading-with-oanda/MomentumTrader.py:31: FutureWarning: The frame.append method is deprecated and will be removed from pandas in a future version. Use pandas.concat instead.\n",
      "  self.raw_data = self.raw_data.append(\n"
     ]
    },
    {
     "name": "stdout",
     "output_type": "stream",
     "text": [
      "287 "
     ]
    },
    {
     "name": "stderr",
     "output_type": "stream",
     "text": [
      "/home/mlopez/dev/python-projects/quant-learning/python-for-algorithmic-trading/08-cfd-trading-with-oanda/MomentumTrader.py:31: FutureWarning: The frame.append method is deprecated and will be removed from pandas in a future version. Use pandas.concat instead.\n",
      "  self.raw_data = self.raw_data.append(\n"
     ]
    },
    {
     "name": "stdout",
     "output_type": "stream",
     "text": [
      "288 "
     ]
    },
    {
     "name": "stderr",
     "output_type": "stream",
     "text": [
      "/home/mlopez/dev/python-projects/quant-learning/python-for-algorithmic-trading/08-cfd-trading-with-oanda/MomentumTrader.py:31: FutureWarning: The frame.append method is deprecated and will be removed from pandas in a future version. Use pandas.concat instead.\n",
      "  self.raw_data = self.raw_data.append(\n"
     ]
    },
    {
     "name": "stdout",
     "output_type": "stream",
     "text": [
      "289 "
     ]
    },
    {
     "name": "stderr",
     "output_type": "stream",
     "text": [
      "/home/mlopez/dev/python-projects/quant-learning/python-for-algorithmic-trading/08-cfd-trading-with-oanda/MomentumTrader.py:31: FutureWarning: The frame.append method is deprecated and will be removed from pandas in a future version. Use pandas.concat instead.\n",
      "  self.raw_data = self.raw_data.append(\n"
     ]
    },
    {
     "name": "stdout",
     "output_type": "stream",
     "text": [
      "290 "
     ]
    },
    {
     "name": "stderr",
     "output_type": "stream",
     "text": [
      "/home/mlopez/dev/python-projects/quant-learning/python-for-algorithmic-trading/08-cfd-trading-with-oanda/MomentumTrader.py:31: FutureWarning: The frame.append method is deprecated and will be removed from pandas in a future version. Use pandas.concat instead.\n",
      "  self.raw_data = self.raw_data.append(\n"
     ]
    },
    {
     "name": "stdout",
     "output_type": "stream",
     "text": [
      "291 "
     ]
    },
    {
     "name": "stderr",
     "output_type": "stream",
     "text": [
      "/home/mlopez/dev/python-projects/quant-learning/python-for-algorithmic-trading/08-cfd-trading-with-oanda/MomentumTrader.py:31: FutureWarning: The frame.append method is deprecated and will be removed from pandas in a future version. Use pandas.concat instead.\n",
      "  self.raw_data = self.raw_data.append(\n"
     ]
    },
    {
     "name": "stdout",
     "output_type": "stream",
     "text": [
      "292 "
     ]
    },
    {
     "name": "stderr",
     "output_type": "stream",
     "text": [
      "/home/mlopez/dev/python-projects/quant-learning/python-for-algorithmic-trading/08-cfd-trading-with-oanda/MomentumTrader.py:31: FutureWarning: The frame.append method is deprecated and will be removed from pandas in a future version. Use pandas.concat instead.\n",
      "  self.raw_data = self.raw_data.append(\n"
     ]
    },
    {
     "name": "stdout",
     "output_type": "stream",
     "text": [
      "293 "
     ]
    },
    {
     "name": "stderr",
     "output_type": "stream",
     "text": [
      "/home/mlopez/dev/python-projects/quant-learning/python-for-algorithmic-trading/08-cfd-trading-with-oanda/MomentumTrader.py:31: FutureWarning: The frame.append method is deprecated and will be removed from pandas in a future version. Use pandas.concat instead.\n",
      "  self.raw_data = self.raw_data.append(\n"
     ]
    },
    {
     "name": "stdout",
     "output_type": "stream",
     "text": [
      "294 "
     ]
    },
    {
     "name": "stderr",
     "output_type": "stream",
     "text": [
      "/home/mlopez/dev/python-projects/quant-learning/python-for-algorithmic-trading/08-cfd-trading-with-oanda/MomentumTrader.py:31: FutureWarning: The frame.append method is deprecated and will be removed from pandas in a future version. Use pandas.concat instead.\n",
      "  self.raw_data = self.raw_data.append(\n"
     ]
    },
    {
     "name": "stdout",
     "output_type": "stream",
     "text": [
      "295 "
     ]
    },
    {
     "name": "stderr",
     "output_type": "stream",
     "text": [
      "/home/mlopez/dev/python-projects/quant-learning/python-for-algorithmic-trading/08-cfd-trading-with-oanda/MomentumTrader.py:31: FutureWarning: The frame.append method is deprecated and will be removed from pandas in a future version. Use pandas.concat instead.\n",
      "  self.raw_data = self.raw_data.append(\n"
     ]
    },
    {
     "name": "stdout",
     "output_type": "stream",
     "text": [
      "296 "
     ]
    },
    {
     "name": "stderr",
     "output_type": "stream",
     "text": [
      "/home/mlopez/dev/python-projects/quant-learning/python-for-algorithmic-trading/08-cfd-trading-with-oanda/MomentumTrader.py:31: FutureWarning: The frame.append method is deprecated and will be removed from pandas in a future version. Use pandas.concat instead.\n",
      "  self.raw_data = self.raw_data.append(\n"
     ]
    },
    {
     "name": "stdout",
     "output_type": "stream",
     "text": [
      "297 "
     ]
    },
    {
     "name": "stderr",
     "output_type": "stream",
     "text": [
      "/home/mlopez/dev/python-projects/quant-learning/python-for-algorithmic-trading/08-cfd-trading-with-oanda/MomentumTrader.py:31: FutureWarning: The frame.append method is deprecated and will be removed from pandas in a future version. Use pandas.concat instead.\n",
      "  self.raw_data = self.raw_data.append(\n"
     ]
    },
    {
     "name": "stdout",
     "output_type": "stream",
     "text": [
      "298 "
     ]
    },
    {
     "name": "stderr",
     "output_type": "stream",
     "text": [
      "/home/mlopez/dev/python-projects/quant-learning/python-for-algorithmic-trading/08-cfd-trading-with-oanda/MomentumTrader.py:31: FutureWarning: The frame.append method is deprecated and will be removed from pandas in a future version. Use pandas.concat instead.\n",
      "  self.raw_data = self.raw_data.append(\n"
     ]
    },
    {
     "name": "stdout",
     "output_type": "stream",
     "text": [
      "299 "
     ]
    },
    {
     "name": "stderr",
     "output_type": "stream",
     "text": [
      "/home/mlopez/dev/python-projects/quant-learning/python-for-algorithmic-trading/08-cfd-trading-with-oanda/MomentumTrader.py:31: FutureWarning: The frame.append method is deprecated and will be removed from pandas in a future version. Use pandas.concat instead.\n",
      "  self.raw_data = self.raw_data.append(\n"
     ]
    },
    {
     "name": "stdout",
     "output_type": "stream",
     "text": [
      "300 "
     ]
    },
    {
     "name": "stderr",
     "output_type": "stream",
     "text": [
      "/home/mlopez/dev/python-projects/quant-learning/python-for-algorithmic-trading/08-cfd-trading-with-oanda/MomentumTrader.py:31: FutureWarning: The frame.append method is deprecated and will be removed from pandas in a future version. Use pandas.concat instead.\n",
      "  self.raw_data = self.raw_data.append(\n"
     ]
    },
    {
     "name": "stdout",
     "output_type": "stream",
     "text": [
      "301 "
     ]
    },
    {
     "name": "stderr",
     "output_type": "stream",
     "text": [
      "/home/mlopez/dev/python-projects/quant-learning/python-for-algorithmic-trading/08-cfd-trading-with-oanda/MomentumTrader.py:31: FutureWarning: The frame.append method is deprecated and will be removed from pandas in a future version. Use pandas.concat instead.\n",
      "  self.raw_data = self.raw_data.append(\n"
     ]
    },
    {
     "name": "stdout",
     "output_type": "stream",
     "text": [
      "302 "
     ]
    },
    {
     "name": "stderr",
     "output_type": "stream",
     "text": [
      "/home/mlopez/dev/python-projects/quant-learning/python-for-algorithmic-trading/08-cfd-trading-with-oanda/MomentumTrader.py:31: FutureWarning: The frame.append method is deprecated and will be removed from pandas in a future version. Use pandas.concat instead.\n",
      "  self.raw_data = self.raw_data.append(\n"
     ]
    },
    {
     "name": "stdout",
     "output_type": "stream",
     "text": [
      "303 "
     ]
    },
    {
     "name": "stderr",
     "output_type": "stream",
     "text": [
      "/home/mlopez/dev/python-projects/quant-learning/python-for-algorithmic-trading/08-cfd-trading-with-oanda/MomentumTrader.py:31: FutureWarning: The frame.append method is deprecated and will be removed from pandas in a future version. Use pandas.concat instead.\n",
      "  self.raw_data = self.raw_data.append(\n"
     ]
    },
    {
     "name": "stdout",
     "output_type": "stream",
     "text": [
      "304 "
     ]
    },
    {
     "name": "stderr",
     "output_type": "stream",
     "text": [
      "/home/mlopez/dev/python-projects/quant-learning/python-for-algorithmic-trading/08-cfd-trading-with-oanda/MomentumTrader.py:31: FutureWarning: The frame.append method is deprecated and will be removed from pandas in a future version. Use pandas.concat instead.\n",
      "  self.raw_data = self.raw_data.append(\n"
     ]
    },
    {
     "name": "stdout",
     "output_type": "stream",
     "text": [
      "305 "
     ]
    },
    {
     "name": "stderr",
     "output_type": "stream",
     "text": [
      "/home/mlopez/dev/python-projects/quant-learning/python-for-algorithmic-trading/08-cfd-trading-with-oanda/MomentumTrader.py:31: FutureWarning: The frame.append method is deprecated and will be removed from pandas in a future version. Use pandas.concat instead.\n",
      "  self.raw_data = self.raw_data.append(\n"
     ]
    },
    {
     "name": "stdout",
     "output_type": "stream",
     "text": [
      "306 "
     ]
    },
    {
     "name": "stderr",
     "output_type": "stream",
     "text": [
      "/home/mlopez/dev/python-projects/quant-learning/python-for-algorithmic-trading/08-cfd-trading-with-oanda/MomentumTrader.py:31: FutureWarning: The frame.append method is deprecated and will be removed from pandas in a future version. Use pandas.concat instead.\n",
      "  self.raw_data = self.raw_data.append(\n"
     ]
    },
    {
     "name": "stdout",
     "output_type": "stream",
     "text": [
      "307 "
     ]
    },
    {
     "name": "stderr",
     "output_type": "stream",
     "text": [
      "/home/mlopez/dev/python-projects/quant-learning/python-for-algorithmic-trading/08-cfd-trading-with-oanda/MomentumTrader.py:31: FutureWarning: The frame.append method is deprecated and will be removed from pandas in a future version. Use pandas.concat instead.\n",
      "  self.raw_data = self.raw_data.append(\n"
     ]
    },
    {
     "name": "stdout",
     "output_type": "stream",
     "text": [
      "308 "
     ]
    },
    {
     "name": "stderr",
     "output_type": "stream",
     "text": [
      "/home/mlopez/dev/python-projects/quant-learning/python-for-algorithmic-trading/08-cfd-trading-with-oanda/MomentumTrader.py:31: FutureWarning: The frame.append method is deprecated and will be removed from pandas in a future version. Use pandas.concat instead.\n",
      "  self.raw_data = self.raw_data.append(\n"
     ]
    },
    {
     "name": "stdout",
     "output_type": "stream",
     "text": [
      "309 "
     ]
    },
    {
     "name": "stderr",
     "output_type": "stream",
     "text": [
      "/home/mlopez/dev/python-projects/quant-learning/python-for-algorithmic-trading/08-cfd-trading-with-oanda/MomentumTrader.py:31: FutureWarning: The frame.append method is deprecated and will be removed from pandas in a future version. Use pandas.concat instead.\n",
      "  self.raw_data = self.raw_data.append(\n"
     ]
    },
    {
     "name": "stdout",
     "output_type": "stream",
     "text": [
      "310 "
     ]
    },
    {
     "name": "stderr",
     "output_type": "stream",
     "text": [
      "/home/mlopez/dev/python-projects/quant-learning/python-for-algorithmic-trading/08-cfd-trading-with-oanda/MomentumTrader.py:31: FutureWarning: The frame.append method is deprecated and will be removed from pandas in a future version. Use pandas.concat instead.\n",
      "  self.raw_data = self.raw_data.append(\n"
     ]
    },
    {
     "name": "stdout",
     "output_type": "stream",
     "text": [
      "311 "
     ]
    },
    {
     "name": "stderr",
     "output_type": "stream",
     "text": [
      "/home/mlopez/dev/python-projects/quant-learning/python-for-algorithmic-trading/08-cfd-trading-with-oanda/MomentumTrader.py:31: FutureWarning: The frame.append method is deprecated and will be removed from pandas in a future version. Use pandas.concat instead.\n",
      "  self.raw_data = self.raw_data.append(\n"
     ]
    },
    {
     "name": "stdout",
     "output_type": "stream",
     "text": [
      "312 "
     ]
    },
    {
     "name": "stderr",
     "output_type": "stream",
     "text": [
      "/home/mlopez/dev/python-projects/quant-learning/python-for-algorithmic-trading/08-cfd-trading-with-oanda/MomentumTrader.py:31: FutureWarning: The frame.append method is deprecated and will be removed from pandas in a future version. Use pandas.concat instead.\n",
      "  self.raw_data = self.raw_data.append(\n"
     ]
    },
    {
     "name": "stdout",
     "output_type": "stream",
     "text": [
      "313 "
     ]
    },
    {
     "name": "stderr",
     "output_type": "stream",
     "text": [
      "/home/mlopez/dev/python-projects/quant-learning/python-for-algorithmic-trading/08-cfd-trading-with-oanda/MomentumTrader.py:31: FutureWarning: The frame.append method is deprecated and will be removed from pandas in a future version. Use pandas.concat instead.\n",
      "  self.raw_data = self.raw_data.append(\n"
     ]
    },
    {
     "name": "stdout",
     "output_type": "stream",
     "text": [
      "314 "
     ]
    },
    {
     "name": "stderr",
     "output_type": "stream",
     "text": [
      "/home/mlopez/dev/python-projects/quant-learning/python-for-algorithmic-trading/08-cfd-trading-with-oanda/MomentumTrader.py:31: FutureWarning: The frame.append method is deprecated and will be removed from pandas in a future version. Use pandas.concat instead.\n",
      "  self.raw_data = self.raw_data.append(\n"
     ]
    },
    {
     "name": "stdout",
     "output_type": "stream",
     "text": [
      "315 "
     ]
    },
    {
     "name": "stderr",
     "output_type": "stream",
     "text": [
      "/home/mlopez/dev/python-projects/quant-learning/python-for-algorithmic-trading/08-cfd-trading-with-oanda/MomentumTrader.py:31: FutureWarning: The frame.append method is deprecated and will be removed from pandas in a future version. Use pandas.concat instead.\n",
      "  self.raw_data = self.raw_data.append(\n"
     ]
    },
    {
     "name": "stdout",
     "output_type": "stream",
     "text": [
      "316 "
     ]
    },
    {
     "name": "stderr",
     "output_type": "stream",
     "text": [
      "/home/mlopez/dev/python-projects/quant-learning/python-for-algorithmic-trading/08-cfd-trading-with-oanda/MomentumTrader.py:31: FutureWarning: The frame.append method is deprecated and will be removed from pandas in a future version. Use pandas.concat instead.\n",
      "  self.raw_data = self.raw_data.append(\n"
     ]
    },
    {
     "name": "stdout",
     "output_type": "stream",
     "text": [
      "317 "
     ]
    },
    {
     "name": "stderr",
     "output_type": "stream",
     "text": [
      "/home/mlopez/dev/python-projects/quant-learning/python-for-algorithmic-trading/08-cfd-trading-with-oanda/MomentumTrader.py:31: FutureWarning: The frame.append method is deprecated and will be removed from pandas in a future version. Use pandas.concat instead.\n",
      "  self.raw_data = self.raw_data.append(\n"
     ]
    },
    {
     "name": "stdout",
     "output_type": "stream",
     "text": [
      "318 "
     ]
    },
    {
     "name": "stderr",
     "output_type": "stream",
     "text": [
      "/home/mlopez/dev/python-projects/quant-learning/python-for-algorithmic-trading/08-cfd-trading-with-oanda/MomentumTrader.py:31: FutureWarning: The frame.append method is deprecated and will be removed from pandas in a future version. Use pandas.concat instead.\n",
      "  self.raw_data = self.raw_data.append(\n"
     ]
    },
    {
     "name": "stdout",
     "output_type": "stream",
     "text": [
      "319 "
     ]
    },
    {
     "name": "stderr",
     "output_type": "stream",
     "text": [
      "/home/mlopez/dev/python-projects/quant-learning/python-for-algorithmic-trading/08-cfd-trading-with-oanda/MomentumTrader.py:31: FutureWarning: The frame.append method is deprecated and will be removed from pandas in a future version. Use pandas.concat instead.\n",
      "  self.raw_data = self.raw_data.append(\n"
     ]
    },
    {
     "name": "stdout",
     "output_type": "stream",
     "text": [
      "320 "
     ]
    },
    {
     "name": "stderr",
     "output_type": "stream",
     "text": [
      "/home/mlopez/dev/python-projects/quant-learning/python-for-algorithmic-trading/08-cfd-trading-with-oanda/MomentumTrader.py:31: FutureWarning: The frame.append method is deprecated and will be removed from pandas in a future version. Use pandas.concat instead.\n",
      "  self.raw_data = self.raw_data.append(\n"
     ]
    },
    {
     "name": "stdout",
     "output_type": "stream",
     "text": [
      "321 "
     ]
    },
    {
     "name": "stderr",
     "output_type": "stream",
     "text": [
      "/home/mlopez/dev/python-projects/quant-learning/python-for-algorithmic-trading/08-cfd-trading-with-oanda/MomentumTrader.py:31: FutureWarning: The frame.append method is deprecated and will be removed from pandas in a future version. Use pandas.concat instead.\n",
      "  self.raw_data = self.raw_data.append(\n"
     ]
    },
    {
     "name": "stdout",
     "output_type": "stream",
     "text": [
      "322 "
     ]
    },
    {
     "name": "stderr",
     "output_type": "stream",
     "text": [
      "/home/mlopez/dev/python-projects/quant-learning/python-for-algorithmic-trading/08-cfd-trading-with-oanda/MomentumTrader.py:31: FutureWarning: The frame.append method is deprecated and will be removed from pandas in a future version. Use pandas.concat instead.\n",
      "  self.raw_data = self.raw_data.append(\n"
     ]
    },
    {
     "name": "stdout",
     "output_type": "stream",
     "text": [
      "323 "
     ]
    },
    {
     "name": "stderr",
     "output_type": "stream",
     "text": [
      "/home/mlopez/dev/python-projects/quant-learning/python-for-algorithmic-trading/08-cfd-trading-with-oanda/MomentumTrader.py:31: FutureWarning: The frame.append method is deprecated and will be removed from pandas in a future version. Use pandas.concat instead.\n",
      "  self.raw_data = self.raw_data.append(\n"
     ]
    },
    {
     "name": "stdout",
     "output_type": "stream",
     "text": [
      "324 "
     ]
    },
    {
     "name": "stderr",
     "output_type": "stream",
     "text": [
      "/home/mlopez/dev/python-projects/quant-learning/python-for-algorithmic-trading/08-cfd-trading-with-oanda/MomentumTrader.py:31: FutureWarning: The frame.append method is deprecated and will be removed from pandas in a future version. Use pandas.concat instead.\n",
      "  self.raw_data = self.raw_data.append(\n"
     ]
    },
    {
     "name": "stdout",
     "output_type": "stream",
     "text": [
      "325 "
     ]
    },
    {
     "name": "stderr",
     "output_type": "stream",
     "text": [
      "/home/mlopez/dev/python-projects/quant-learning/python-for-algorithmic-trading/08-cfd-trading-with-oanda/MomentumTrader.py:31: FutureWarning: The frame.append method is deprecated and will be removed from pandas in a future version. Use pandas.concat instead.\n",
      "  self.raw_data = self.raw_data.append(\n"
     ]
    },
    {
     "name": "stdout",
     "output_type": "stream",
     "text": [
      "326 "
     ]
    },
    {
     "name": "stderr",
     "output_type": "stream",
     "text": [
      "/home/mlopez/dev/python-projects/quant-learning/python-for-algorithmic-trading/08-cfd-trading-with-oanda/MomentumTrader.py:31: FutureWarning: The frame.append method is deprecated and will be removed from pandas in a future version. Use pandas.concat instead.\n",
      "  self.raw_data = self.raw_data.append(\n"
     ]
    },
    {
     "name": "stdout",
     "output_type": "stream",
     "text": [
      "327 "
     ]
    },
    {
     "name": "stderr",
     "output_type": "stream",
     "text": [
      "/home/mlopez/dev/python-projects/quant-learning/python-for-algorithmic-trading/08-cfd-trading-with-oanda/MomentumTrader.py:31: FutureWarning: The frame.append method is deprecated and will be removed from pandas in a future version. Use pandas.concat instead.\n",
      "  self.raw_data = self.raw_data.append(\n"
     ]
    },
    {
     "name": "stdout",
     "output_type": "stream",
     "text": [
      "328 "
     ]
    },
    {
     "name": "stderr",
     "output_type": "stream",
     "text": [
      "/home/mlopez/dev/python-projects/quant-learning/python-for-algorithmic-trading/08-cfd-trading-with-oanda/MomentumTrader.py:31: FutureWarning: The frame.append method is deprecated and will be removed from pandas in a future version. Use pandas.concat instead.\n",
      "  self.raw_data = self.raw_data.append(\n"
     ]
    },
    {
     "name": "stdout",
     "output_type": "stream",
     "text": [
      "329 "
     ]
    },
    {
     "name": "stderr",
     "output_type": "stream",
     "text": [
      "/home/mlopez/dev/python-projects/quant-learning/python-for-algorithmic-trading/08-cfd-trading-with-oanda/MomentumTrader.py:31: FutureWarning: The frame.append method is deprecated and will be removed from pandas in a future version. Use pandas.concat instead.\n",
      "  self.raw_data = self.raw_data.append(\n"
     ]
    },
    {
     "name": "stdout",
     "output_type": "stream",
     "text": [
      "330 "
     ]
    },
    {
     "name": "stderr",
     "output_type": "stream",
     "text": [
      "/home/mlopez/dev/python-projects/quant-learning/python-for-algorithmic-trading/08-cfd-trading-with-oanda/MomentumTrader.py:31: FutureWarning: The frame.append method is deprecated and will be removed from pandas in a future version. Use pandas.concat instead.\n",
      "  self.raw_data = self.raw_data.append(\n"
     ]
    },
    {
     "name": "stdout",
     "output_type": "stream",
     "text": [
      "331 "
     ]
    },
    {
     "name": "stderr",
     "output_type": "stream",
     "text": [
      "/home/mlopez/dev/python-projects/quant-learning/python-for-algorithmic-trading/08-cfd-trading-with-oanda/MomentumTrader.py:31: FutureWarning: The frame.append method is deprecated and will be removed from pandas in a future version. Use pandas.concat instead.\n",
      "  self.raw_data = self.raw_data.append(\n"
     ]
    },
    {
     "name": "stdout",
     "output_type": "stream",
     "text": [
      "332 "
     ]
    },
    {
     "name": "stderr",
     "output_type": "stream",
     "text": [
      "/home/mlopez/dev/python-projects/quant-learning/python-for-algorithmic-trading/08-cfd-trading-with-oanda/MomentumTrader.py:31: FutureWarning: The frame.append method is deprecated and will be removed from pandas in a future version. Use pandas.concat instead.\n",
      "  self.raw_data = self.raw_data.append(\n"
     ]
    },
    {
     "name": "stdout",
     "output_type": "stream",
     "text": [
      "333 "
     ]
    },
    {
     "name": "stderr",
     "output_type": "stream",
     "text": [
      "/home/mlopez/dev/python-projects/quant-learning/python-for-algorithmic-trading/08-cfd-trading-with-oanda/MomentumTrader.py:31: FutureWarning: The frame.append method is deprecated and will be removed from pandas in a future version. Use pandas.concat instead.\n",
      "  self.raw_data = self.raw_data.append(\n"
     ]
    },
    {
     "name": "stdout",
     "output_type": "stream",
     "text": [
      "334 "
     ]
    },
    {
     "name": "stderr",
     "output_type": "stream",
     "text": [
      "/home/mlopez/dev/python-projects/quant-learning/python-for-algorithmic-trading/08-cfd-trading-with-oanda/MomentumTrader.py:31: FutureWarning: The frame.append method is deprecated and will be removed from pandas in a future version. Use pandas.concat instead.\n",
      "  self.raw_data = self.raw_data.append(\n"
     ]
    },
    {
     "name": "stdout",
     "output_type": "stream",
     "text": [
      "335 "
     ]
    },
    {
     "name": "stderr",
     "output_type": "stream",
     "text": [
      "/home/mlopez/dev/python-projects/quant-learning/python-for-algorithmic-trading/08-cfd-trading-with-oanda/MomentumTrader.py:31: FutureWarning: The frame.append method is deprecated and will be removed from pandas in a future version. Use pandas.concat instead.\n",
      "  self.raw_data = self.raw_data.append(\n"
     ]
    },
    {
     "name": "stdout",
     "output_type": "stream",
     "text": [
      "336 "
     ]
    },
    {
     "name": "stderr",
     "output_type": "stream",
     "text": [
      "/home/mlopez/dev/python-projects/quant-learning/python-for-algorithmic-trading/08-cfd-trading-with-oanda/MomentumTrader.py:31: FutureWarning: The frame.append method is deprecated and will be removed from pandas in a future version. Use pandas.concat instead.\n",
      "  self.raw_data = self.raw_data.append(\n"
     ]
    },
    {
     "name": "stdout",
     "output_type": "stream",
     "text": [
      "337 "
     ]
    },
    {
     "name": "stderr",
     "output_type": "stream",
     "text": [
      "/home/mlopez/dev/python-projects/quant-learning/python-for-algorithmic-trading/08-cfd-trading-with-oanda/MomentumTrader.py:31: FutureWarning: The frame.append method is deprecated and will be removed from pandas in a future version. Use pandas.concat instead.\n",
      "  self.raw_data = self.raw_data.append(\n"
     ]
    },
    {
     "name": "stdout",
     "output_type": "stream",
     "text": [
      "338 \n",
      "\n",
      " {'id': '13', 'time': '2023-11-01T14:02:30.481943380Z', 'userID': 27068029, 'accountID': '101-004-27068029-001', 'batchID': '12', 'requestID': '25139880748082784', 'type': 'ORDER_FILL', 'orderID': '12', 'instrument': 'EUR_USD', 'units': '20000.0', 'gainQuoteHomeConversionFactor': '0.820459544835', 'lossQuoteHomeConversionFactor': '0.828705369406', 'price': 1.05455, 'fullVWAP': 1.05455, 'fullPrice': {'type': 'PRICE', 'bids': [{'price': 1.05445, 'liquidity': '1000000'}, {'price': 1.05443, 'liquidity': '2000000'}, {'price': 1.05442, 'liquidity': '2000000'}, {'price': 1.0544, 'liquidity': '5000000'}], 'asks': [{'price': 1.05455, 'liquidity': '1000000'}, {'price': 1.05458, 'liquidity': '2000000'}, {'price': 1.05459, 'liquidity': '2000000'}, {'price': 1.0546, 'liquidity': '5000000'}], 'closeoutBid': 1.0544, 'closeoutAsk': 1.0546}, 'reason': 'MARKET_ORDER', 'pl': '-2.569', 'financing': '0.0', 'commission': '0.0', 'guaranteedExecutionFee': '0.0', 'accountBalance': '99997.4864', 'tradeOpened': {'tradeID': '13', 'units': '10000.0', 'price': 1.05455, 'guaranteedExecutionFee': '0.0', 'halfSpreadCost': '0.4123', 'initialMarginRequired': '289.8467'}, 'tradesClosed': [{'tradeID': '11', 'units': '10000.0', 'price': 1.05455, 'realizedPL': '-2.569', 'financing': '0.0', 'guaranteedExecutionFee': '0.0', 'halfSpreadCost': '0.4123'}], 'halfSpreadCost': '0.8246'} \n",
      "\n"
     ]
    },
    {
     "name": "stderr",
     "output_type": "stream",
     "text": [
      "/home/mlopez/dev/python-projects/quant-learning/python-for-algorithmic-trading/08-cfd-trading-with-oanda/MomentumTrader.py:31: FutureWarning: The frame.append method is deprecated and will be removed from pandas in a future version. Use pandas.concat instead.\n",
      "  self.raw_data = self.raw_data.append(\n"
     ]
    },
    {
     "name": "stdout",
     "output_type": "stream",
     "text": [
      "339 "
     ]
    },
    {
     "name": "stderr",
     "output_type": "stream",
     "text": [
      "/home/mlopez/dev/python-projects/quant-learning/python-for-algorithmic-trading/08-cfd-trading-with-oanda/MomentumTrader.py:31: FutureWarning: The frame.append method is deprecated and will be removed from pandas in a future version. Use pandas.concat instead.\n",
      "  self.raw_data = self.raw_data.append(\n"
     ]
    },
    {
     "name": "stdout",
     "output_type": "stream",
     "text": [
      "340 "
     ]
    },
    {
     "name": "stderr",
     "output_type": "stream",
     "text": [
      "/home/mlopez/dev/python-projects/quant-learning/python-for-algorithmic-trading/08-cfd-trading-with-oanda/MomentumTrader.py:31: FutureWarning: The frame.append method is deprecated and will be removed from pandas in a future version. Use pandas.concat instead.\n",
      "  self.raw_data = self.raw_data.append(\n"
     ]
    },
    {
     "name": "stdout",
     "output_type": "stream",
     "text": [
      "341 "
     ]
    },
    {
     "name": "stderr",
     "output_type": "stream",
     "text": [
      "/home/mlopez/dev/python-projects/quant-learning/python-for-algorithmic-trading/08-cfd-trading-with-oanda/MomentumTrader.py:31: FutureWarning: The frame.append method is deprecated and will be removed from pandas in a future version. Use pandas.concat instead.\n",
      "  self.raw_data = self.raw_data.append(\n"
     ]
    },
    {
     "name": "stdout",
     "output_type": "stream",
     "text": [
      "342 "
     ]
    },
    {
     "name": "stderr",
     "output_type": "stream",
     "text": [
      "/home/mlopez/dev/python-projects/quant-learning/python-for-algorithmic-trading/08-cfd-trading-with-oanda/MomentumTrader.py:31: FutureWarning: The frame.append method is deprecated and will be removed from pandas in a future version. Use pandas.concat instead.\n",
      "  self.raw_data = self.raw_data.append(\n"
     ]
    },
    {
     "name": "stdout",
     "output_type": "stream",
     "text": [
      "343 "
     ]
    },
    {
     "name": "stderr",
     "output_type": "stream",
     "text": [
      "/home/mlopez/dev/python-projects/quant-learning/python-for-algorithmic-trading/08-cfd-trading-with-oanda/MomentumTrader.py:31: FutureWarning: The frame.append method is deprecated and will be removed from pandas in a future version. Use pandas.concat instead.\n",
      "  self.raw_data = self.raw_data.append(\n"
     ]
    },
    {
     "name": "stdout",
     "output_type": "stream",
     "text": [
      "344 "
     ]
    },
    {
     "name": "stderr",
     "output_type": "stream",
     "text": [
      "/home/mlopez/dev/python-projects/quant-learning/python-for-algorithmic-trading/08-cfd-trading-with-oanda/MomentumTrader.py:31: FutureWarning: The frame.append method is deprecated and will be removed from pandas in a future version. Use pandas.concat instead.\n",
      "  self.raw_data = self.raw_data.append(\n"
     ]
    },
    {
     "name": "stdout",
     "output_type": "stream",
     "text": [
      "345 "
     ]
    },
    {
     "name": "stderr",
     "output_type": "stream",
     "text": [
      "/home/mlopez/dev/python-projects/quant-learning/python-for-algorithmic-trading/08-cfd-trading-with-oanda/MomentumTrader.py:31: FutureWarning: The frame.append method is deprecated and will be removed from pandas in a future version. Use pandas.concat instead.\n",
      "  self.raw_data = self.raw_data.append(\n"
     ]
    },
    {
     "name": "stdout",
     "output_type": "stream",
     "text": [
      "346 "
     ]
    },
    {
     "name": "stderr",
     "output_type": "stream",
     "text": [
      "/home/mlopez/dev/python-projects/quant-learning/python-for-algorithmic-trading/08-cfd-trading-with-oanda/MomentumTrader.py:31: FutureWarning: The frame.append method is deprecated and will be removed from pandas in a future version. Use pandas.concat instead.\n",
      "  self.raw_data = self.raw_data.append(\n"
     ]
    },
    {
     "name": "stdout",
     "output_type": "stream",
     "text": [
      "347 "
     ]
    },
    {
     "name": "stderr",
     "output_type": "stream",
     "text": [
      "/home/mlopez/dev/python-projects/quant-learning/python-for-algorithmic-trading/08-cfd-trading-with-oanda/MomentumTrader.py:31: FutureWarning: The frame.append method is deprecated and will be removed from pandas in a future version. Use pandas.concat instead.\n",
      "  self.raw_data = self.raw_data.append(\n"
     ]
    },
    {
     "name": "stdout",
     "output_type": "stream",
     "text": [
      "348 "
     ]
    },
    {
     "name": "stderr",
     "output_type": "stream",
     "text": [
      "/home/mlopez/dev/python-projects/quant-learning/python-for-algorithmic-trading/08-cfd-trading-with-oanda/MomentumTrader.py:31: FutureWarning: The frame.append method is deprecated and will be removed from pandas in a future version. Use pandas.concat instead.\n",
      "  self.raw_data = self.raw_data.append(\n"
     ]
    },
    {
     "name": "stdout",
     "output_type": "stream",
     "text": [
      "349 "
     ]
    },
    {
     "name": "stderr",
     "output_type": "stream",
     "text": [
      "/home/mlopez/dev/python-projects/quant-learning/python-for-algorithmic-trading/08-cfd-trading-with-oanda/MomentumTrader.py:31: FutureWarning: The frame.append method is deprecated and will be removed from pandas in a future version. Use pandas.concat instead.\n",
      "  self.raw_data = self.raw_data.append(\n"
     ]
    },
    {
     "name": "stdout",
     "output_type": "stream",
     "text": [
      "350 "
     ]
    },
    {
     "name": "stderr",
     "output_type": "stream",
     "text": [
      "/home/mlopez/dev/python-projects/quant-learning/python-for-algorithmic-trading/08-cfd-trading-with-oanda/MomentumTrader.py:31: FutureWarning: The frame.append method is deprecated and will be removed from pandas in a future version. Use pandas.concat instead.\n",
      "  self.raw_data = self.raw_data.append(\n"
     ]
    },
    {
     "name": "stdout",
     "output_type": "stream",
     "text": [
      "351 "
     ]
    },
    {
     "name": "stderr",
     "output_type": "stream",
     "text": [
      "/home/mlopez/dev/python-projects/quant-learning/python-for-algorithmic-trading/08-cfd-trading-with-oanda/MomentumTrader.py:31: FutureWarning: The frame.append method is deprecated and will be removed from pandas in a future version. Use pandas.concat instead.\n",
      "  self.raw_data = self.raw_data.append(\n"
     ]
    },
    {
     "name": "stdout",
     "output_type": "stream",
     "text": [
      "352 "
     ]
    },
    {
     "name": "stderr",
     "output_type": "stream",
     "text": [
      "/home/mlopez/dev/python-projects/quant-learning/python-for-algorithmic-trading/08-cfd-trading-with-oanda/MomentumTrader.py:31: FutureWarning: The frame.append method is deprecated and will be removed from pandas in a future version. Use pandas.concat instead.\n",
      "  self.raw_data = self.raw_data.append(\n"
     ]
    },
    {
     "name": "stdout",
     "output_type": "stream",
     "text": [
      "353 "
     ]
    },
    {
     "name": "stderr",
     "output_type": "stream",
     "text": [
      "/home/mlopez/dev/python-projects/quant-learning/python-for-algorithmic-trading/08-cfd-trading-with-oanda/MomentumTrader.py:31: FutureWarning: The frame.append method is deprecated and will be removed from pandas in a future version. Use pandas.concat instead.\n",
      "  self.raw_data = self.raw_data.append(\n"
     ]
    },
    {
     "name": "stdout",
     "output_type": "stream",
     "text": [
      "354 "
     ]
    },
    {
     "name": "stderr",
     "output_type": "stream",
     "text": [
      "/home/mlopez/dev/python-projects/quant-learning/python-for-algorithmic-trading/08-cfd-trading-with-oanda/MomentumTrader.py:31: FutureWarning: The frame.append method is deprecated and will be removed from pandas in a future version. Use pandas.concat instead.\n",
      "  self.raw_data = self.raw_data.append(\n"
     ]
    },
    {
     "name": "stdout",
     "output_type": "stream",
     "text": [
      "355 "
     ]
    },
    {
     "name": "stderr",
     "output_type": "stream",
     "text": [
      "/home/mlopez/dev/python-projects/quant-learning/python-for-algorithmic-trading/08-cfd-trading-with-oanda/MomentumTrader.py:31: FutureWarning: The frame.append method is deprecated and will be removed from pandas in a future version. Use pandas.concat instead.\n",
      "  self.raw_data = self.raw_data.append(\n"
     ]
    },
    {
     "name": "stdout",
     "output_type": "stream",
     "text": [
      "356 "
     ]
    },
    {
     "name": "stderr",
     "output_type": "stream",
     "text": [
      "/home/mlopez/dev/python-projects/quant-learning/python-for-algorithmic-trading/08-cfd-trading-with-oanda/MomentumTrader.py:31: FutureWarning: The frame.append method is deprecated and will be removed from pandas in a future version. Use pandas.concat instead.\n",
      "  self.raw_data = self.raw_data.append(\n"
     ]
    },
    {
     "name": "stdout",
     "output_type": "stream",
     "text": [
      "357 "
     ]
    },
    {
     "name": "stderr",
     "output_type": "stream",
     "text": [
      "/home/mlopez/dev/python-projects/quant-learning/python-for-algorithmic-trading/08-cfd-trading-with-oanda/MomentumTrader.py:31: FutureWarning: The frame.append method is deprecated and will be removed from pandas in a future version. Use pandas.concat instead.\n",
      "  self.raw_data = self.raw_data.append(\n"
     ]
    },
    {
     "name": "stdout",
     "output_type": "stream",
     "text": [
      "358 "
     ]
    },
    {
     "name": "stderr",
     "output_type": "stream",
     "text": [
      "/home/mlopez/dev/python-projects/quant-learning/python-for-algorithmic-trading/08-cfd-trading-with-oanda/MomentumTrader.py:31: FutureWarning: The frame.append method is deprecated and will be removed from pandas in a future version. Use pandas.concat instead.\n",
      "  self.raw_data = self.raw_data.append(\n"
     ]
    },
    {
     "name": "stdout",
     "output_type": "stream",
     "text": [
      "359 "
     ]
    },
    {
     "name": "stderr",
     "output_type": "stream",
     "text": [
      "/home/mlopez/dev/python-projects/quant-learning/python-for-algorithmic-trading/08-cfd-trading-with-oanda/MomentumTrader.py:31: FutureWarning: The frame.append method is deprecated and will be removed from pandas in a future version. Use pandas.concat instead.\n",
      "  self.raw_data = self.raw_data.append(\n"
     ]
    },
    {
     "name": "stdout",
     "output_type": "stream",
     "text": [
      "360 "
     ]
    },
    {
     "name": "stderr",
     "output_type": "stream",
     "text": [
      "/home/mlopez/dev/python-projects/quant-learning/python-for-algorithmic-trading/08-cfd-trading-with-oanda/MomentumTrader.py:31: FutureWarning: The frame.append method is deprecated and will be removed from pandas in a future version. Use pandas.concat instead.\n",
      "  self.raw_data = self.raw_data.append(\n"
     ]
    },
    {
     "name": "stdout",
     "output_type": "stream",
     "text": [
      "361 "
     ]
    },
    {
     "name": "stderr",
     "output_type": "stream",
     "text": [
      "/home/mlopez/dev/python-projects/quant-learning/python-for-algorithmic-trading/08-cfd-trading-with-oanda/MomentumTrader.py:31: FutureWarning: The frame.append method is deprecated and will be removed from pandas in a future version. Use pandas.concat instead.\n",
      "  self.raw_data = self.raw_data.append(\n"
     ]
    },
    {
     "name": "stdout",
     "output_type": "stream",
     "text": [
      "362 "
     ]
    },
    {
     "name": "stderr",
     "output_type": "stream",
     "text": [
      "/home/mlopez/dev/python-projects/quant-learning/python-for-algorithmic-trading/08-cfd-trading-with-oanda/MomentumTrader.py:31: FutureWarning: The frame.append method is deprecated and will be removed from pandas in a future version. Use pandas.concat instead.\n",
      "  self.raw_data = self.raw_data.append(\n"
     ]
    },
    {
     "name": "stdout",
     "output_type": "stream",
     "text": [
      "363 "
     ]
    },
    {
     "name": "stderr",
     "output_type": "stream",
     "text": [
      "/home/mlopez/dev/python-projects/quant-learning/python-for-algorithmic-trading/08-cfd-trading-with-oanda/MomentumTrader.py:31: FutureWarning: The frame.append method is deprecated and will be removed from pandas in a future version. Use pandas.concat instead.\n",
      "  self.raw_data = self.raw_data.append(\n"
     ]
    },
    {
     "name": "stdout",
     "output_type": "stream",
     "text": [
      "364 "
     ]
    },
    {
     "name": "stderr",
     "output_type": "stream",
     "text": [
      "/home/mlopez/dev/python-projects/quant-learning/python-for-algorithmic-trading/08-cfd-trading-with-oanda/MomentumTrader.py:31: FutureWarning: The frame.append method is deprecated and will be removed from pandas in a future version. Use pandas.concat instead.\n",
      "  self.raw_data = self.raw_data.append(\n"
     ]
    },
    {
     "name": "stdout",
     "output_type": "stream",
     "text": [
      "365 \n",
      "\n",
      " {'id': '15', 'time': '2023-11-01T14:02:40.602121979Z', 'userID': 27068029, 'accountID': '101-004-27068029-001', 'batchID': '14', 'requestID': '25139880790043769', 'type': 'ORDER_FILL', 'orderID': '14', 'instrument': 'EUR_USD', 'units': '-20000.0', 'gainQuoteHomeConversionFactor': '0.82057457329', 'lossQuoteHomeConversionFactor': '0.828821553926', 'price': 1.05427, 'fullVWAP': 1.05427, 'fullPrice': {'type': 'PRICE', 'bids': [{'price': 1.05427, 'liquidity': '1000000'}, {'price': 1.05425, 'liquidity': '2000000'}, {'price': 1.05424, 'liquidity': '2000000'}, {'price': 1.05422, 'liquidity': '5000000'}], 'asks': [{'price': 1.05436, 'liquidity': '1000000'}, {'price': 1.05439, 'liquidity': '2000000'}, {'price': 1.0544, 'liquidity': '2000000'}, {'price': 1.05441, 'liquidity': '5000000'}], 'closeoutBid': 1.05422, 'closeoutAsk': 1.05441}, 'reason': 'MARKET_ORDER', 'pl': '-2.3207', 'financing': '0.0', 'commission': '0.0', 'guaranteedExecutionFee': '0.0', 'accountBalance': '99995.1657', 'tradeOpened': {'tradeID': '15', 'units': '-10000.0', 'price': 1.05427, 'guaranteedExecutionFee': '0.0', 'halfSpreadCost': '0.3711', 'initialMarginRequired': '289.8333'}, 'tradesClosed': [{'tradeID': '13', 'units': '-10000.0', 'price': 1.05427, 'realizedPL': '-2.3207', 'financing': '0.0', 'guaranteedExecutionFee': '0.0', 'halfSpreadCost': '0.3711'}], 'halfSpreadCost': '0.7422'} \n",
      "\n"
     ]
    },
    {
     "name": "stderr",
     "output_type": "stream",
     "text": [
      "/home/mlopez/dev/python-projects/quant-learning/python-for-algorithmic-trading/08-cfd-trading-with-oanda/MomentumTrader.py:31: FutureWarning: The frame.append method is deprecated and will be removed from pandas in a future version. Use pandas.concat instead.\n",
      "  self.raw_data = self.raw_data.append(\n"
     ]
    },
    {
     "name": "stdout",
     "output_type": "stream",
     "text": [
      "366 "
     ]
    },
    {
     "name": "stderr",
     "output_type": "stream",
     "text": [
      "/home/mlopez/dev/python-projects/quant-learning/python-for-algorithmic-trading/08-cfd-trading-with-oanda/MomentumTrader.py:31: FutureWarning: The frame.append method is deprecated and will be removed from pandas in a future version. Use pandas.concat instead.\n",
      "  self.raw_data = self.raw_data.append(\n"
     ]
    },
    {
     "name": "stdout",
     "output_type": "stream",
     "text": [
      "367 "
     ]
    },
    {
     "name": "stderr",
     "output_type": "stream",
     "text": [
      "/home/mlopez/dev/python-projects/quant-learning/python-for-algorithmic-trading/08-cfd-trading-with-oanda/MomentumTrader.py:31: FutureWarning: The frame.append method is deprecated and will be removed from pandas in a future version. Use pandas.concat instead.\n",
      "  self.raw_data = self.raw_data.append(\n"
     ]
    },
    {
     "name": "stdout",
     "output_type": "stream",
     "text": [
      "368 "
     ]
    },
    {
     "name": "stderr",
     "output_type": "stream",
     "text": [
      "/home/mlopez/dev/python-projects/quant-learning/python-for-algorithmic-trading/08-cfd-trading-with-oanda/MomentumTrader.py:31: FutureWarning: The frame.append method is deprecated and will be removed from pandas in a future version. Use pandas.concat instead.\n",
      "  self.raw_data = self.raw_data.append(\n"
     ]
    },
    {
     "name": "stdout",
     "output_type": "stream",
     "text": [
      "369 "
     ]
    },
    {
     "name": "stderr",
     "output_type": "stream",
     "text": [
      "/home/mlopez/dev/python-projects/quant-learning/python-for-algorithmic-trading/08-cfd-trading-with-oanda/MomentumTrader.py:31: FutureWarning: The frame.append method is deprecated and will be removed from pandas in a future version. Use pandas.concat instead.\n",
      "  self.raw_data = self.raw_data.append(\n"
     ]
    },
    {
     "name": "stdout",
     "output_type": "stream",
     "text": [
      "370 "
     ]
    },
    {
     "name": "stderr",
     "output_type": "stream",
     "text": [
      "/home/mlopez/dev/python-projects/quant-learning/python-for-algorithmic-trading/08-cfd-trading-with-oanda/MomentumTrader.py:31: FutureWarning: The frame.append method is deprecated and will be removed from pandas in a future version. Use pandas.concat instead.\n",
      "  self.raw_data = self.raw_data.append(\n"
     ]
    },
    {
     "name": "stdout",
     "output_type": "stream",
     "text": [
      "371 "
     ]
    },
    {
     "name": "stderr",
     "output_type": "stream",
     "text": [
      "/home/mlopez/dev/python-projects/quant-learning/python-for-algorithmic-trading/08-cfd-trading-with-oanda/MomentumTrader.py:31: FutureWarning: The frame.append method is deprecated and will be removed from pandas in a future version. Use pandas.concat instead.\n",
      "  self.raw_data = self.raw_data.append(\n"
     ]
    },
    {
     "name": "stdout",
     "output_type": "stream",
     "text": [
      "372 "
     ]
    },
    {
     "name": "stderr",
     "output_type": "stream",
     "text": [
      "/home/mlopez/dev/python-projects/quant-learning/python-for-algorithmic-trading/08-cfd-trading-with-oanda/MomentumTrader.py:31: FutureWarning: The frame.append method is deprecated and will be removed from pandas in a future version. Use pandas.concat instead.\n",
      "  self.raw_data = self.raw_data.append(\n"
     ]
    },
    {
     "name": "stdout",
     "output_type": "stream",
     "text": [
      "373 "
     ]
    },
    {
     "name": "stderr",
     "output_type": "stream",
     "text": [
      "/home/mlopez/dev/python-projects/quant-learning/python-for-algorithmic-trading/08-cfd-trading-with-oanda/MomentumTrader.py:31: FutureWarning: The frame.append method is deprecated and will be removed from pandas in a future version. Use pandas.concat instead.\n",
      "  self.raw_data = self.raw_data.append(\n"
     ]
    },
    {
     "name": "stdout",
     "output_type": "stream",
     "text": [
      "374 "
     ]
    },
    {
     "name": "stderr",
     "output_type": "stream",
     "text": [
      "/home/mlopez/dev/python-projects/quant-learning/python-for-algorithmic-trading/08-cfd-trading-with-oanda/MomentumTrader.py:31: FutureWarning: The frame.append method is deprecated and will be removed from pandas in a future version. Use pandas.concat instead.\n",
      "  self.raw_data = self.raw_data.append(\n"
     ]
    },
    {
     "name": "stdout",
     "output_type": "stream",
     "text": [
      "375 "
     ]
    },
    {
     "name": "stderr",
     "output_type": "stream",
     "text": [
      "/home/mlopez/dev/python-projects/quant-learning/python-for-algorithmic-trading/08-cfd-trading-with-oanda/MomentumTrader.py:31: FutureWarning: The frame.append method is deprecated and will be removed from pandas in a future version. Use pandas.concat instead.\n",
      "  self.raw_data = self.raw_data.append(\n"
     ]
    },
    {
     "name": "stdout",
     "output_type": "stream",
     "text": [
      "376 "
     ]
    },
    {
     "name": "stderr",
     "output_type": "stream",
     "text": [
      "/home/mlopez/dev/python-projects/quant-learning/python-for-algorithmic-trading/08-cfd-trading-with-oanda/MomentumTrader.py:31: FutureWarning: The frame.append method is deprecated and will be removed from pandas in a future version. Use pandas.concat instead.\n",
      "  self.raw_data = self.raw_data.append(\n"
     ]
    },
    {
     "name": "stdout",
     "output_type": "stream",
     "text": [
      "377 "
     ]
    },
    {
     "name": "stderr",
     "output_type": "stream",
     "text": [
      "/home/mlopez/dev/python-projects/quant-learning/python-for-algorithmic-trading/08-cfd-trading-with-oanda/MomentumTrader.py:31: FutureWarning: The frame.append method is deprecated and will be removed from pandas in a future version. Use pandas.concat instead.\n",
      "  self.raw_data = self.raw_data.append(\n"
     ]
    },
    {
     "name": "stdout",
     "output_type": "stream",
     "text": [
      "378 "
     ]
    },
    {
     "name": "stderr",
     "output_type": "stream",
     "text": [
      "/home/mlopez/dev/python-projects/quant-learning/python-for-algorithmic-trading/08-cfd-trading-with-oanda/MomentumTrader.py:31: FutureWarning: The frame.append method is deprecated and will be removed from pandas in a future version. Use pandas.concat instead.\n",
      "  self.raw_data = self.raw_data.append(\n"
     ]
    },
    {
     "name": "stdout",
     "output_type": "stream",
     "text": [
      "379 "
     ]
    },
    {
     "name": "stderr",
     "output_type": "stream",
     "text": [
      "/home/mlopez/dev/python-projects/quant-learning/python-for-algorithmic-trading/08-cfd-trading-with-oanda/MomentumTrader.py:31: FutureWarning: The frame.append method is deprecated and will be removed from pandas in a future version. Use pandas.concat instead.\n",
      "  self.raw_data = self.raw_data.append(\n"
     ]
    },
    {
     "name": "stdout",
     "output_type": "stream",
     "text": [
      "380 "
     ]
    },
    {
     "name": "stderr",
     "output_type": "stream",
     "text": [
      "/home/mlopez/dev/python-projects/quant-learning/python-for-algorithmic-trading/08-cfd-trading-with-oanda/MomentumTrader.py:31: FutureWarning: The frame.append method is deprecated and will be removed from pandas in a future version. Use pandas.concat instead.\n",
      "  self.raw_data = self.raw_data.append(\n"
     ]
    },
    {
     "name": "stdout",
     "output_type": "stream",
     "text": [
      "381 "
     ]
    },
    {
     "name": "stderr",
     "output_type": "stream",
     "text": [
      "/home/mlopez/dev/python-projects/quant-learning/python-for-algorithmic-trading/08-cfd-trading-with-oanda/MomentumTrader.py:31: FutureWarning: The frame.append method is deprecated and will be removed from pandas in a future version. Use pandas.concat instead.\n",
      "  self.raw_data = self.raw_data.append(\n"
     ]
    },
    {
     "name": "stdout",
     "output_type": "stream",
     "text": [
      "382 "
     ]
    },
    {
     "name": "stderr",
     "output_type": "stream",
     "text": [
      "/home/mlopez/dev/python-projects/quant-learning/python-for-algorithmic-trading/08-cfd-trading-with-oanda/MomentumTrader.py:31: FutureWarning: The frame.append method is deprecated and will be removed from pandas in a future version. Use pandas.concat instead.\n",
      "  self.raw_data = self.raw_data.append(\n"
     ]
    },
    {
     "name": "stdout",
     "output_type": "stream",
     "text": [
      "383 "
     ]
    },
    {
     "name": "stderr",
     "output_type": "stream",
     "text": [
      "/home/mlopez/dev/python-projects/quant-learning/python-for-algorithmic-trading/08-cfd-trading-with-oanda/MomentumTrader.py:31: FutureWarning: The frame.append method is deprecated and will be removed from pandas in a future version. Use pandas.concat instead.\n",
      "  self.raw_data = self.raw_data.append(\n"
     ]
    },
    {
     "name": "stdout",
     "output_type": "stream",
     "text": [
      "384 "
     ]
    },
    {
     "name": "stderr",
     "output_type": "stream",
     "text": [
      "/home/mlopez/dev/python-projects/quant-learning/python-for-algorithmic-trading/08-cfd-trading-with-oanda/MomentumTrader.py:31: FutureWarning: The frame.append method is deprecated and will be removed from pandas in a future version. Use pandas.concat instead.\n",
      "  self.raw_data = self.raw_data.append(\n"
     ]
    },
    {
     "name": "stdout",
     "output_type": "stream",
     "text": [
      "385 "
     ]
    },
    {
     "name": "stderr",
     "output_type": "stream",
     "text": [
      "/home/mlopez/dev/python-projects/quant-learning/python-for-algorithmic-trading/08-cfd-trading-with-oanda/MomentumTrader.py:31: FutureWarning: The frame.append method is deprecated and will be removed from pandas in a future version. Use pandas.concat instead.\n",
      "  self.raw_data = self.raw_data.append(\n"
     ]
    },
    {
     "name": "stdout",
     "output_type": "stream",
     "text": [
      "386 "
     ]
    },
    {
     "name": "stderr",
     "output_type": "stream",
     "text": [
      "/home/mlopez/dev/python-projects/quant-learning/python-for-algorithmic-trading/08-cfd-trading-with-oanda/MomentumTrader.py:31: FutureWarning: The frame.append method is deprecated and will be removed from pandas in a future version. Use pandas.concat instead.\n",
      "  self.raw_data = self.raw_data.append(\n"
     ]
    },
    {
     "name": "stdout",
     "output_type": "stream",
     "text": [
      "387 "
     ]
    },
    {
     "name": "stderr",
     "output_type": "stream",
     "text": [
      "/home/mlopez/dev/python-projects/quant-learning/python-for-algorithmic-trading/08-cfd-trading-with-oanda/MomentumTrader.py:31: FutureWarning: The frame.append method is deprecated and will be removed from pandas in a future version. Use pandas.concat instead.\n",
      "  self.raw_data = self.raw_data.append(\n"
     ]
    },
    {
     "name": "stdout",
     "output_type": "stream",
     "text": [
      "388 "
     ]
    },
    {
     "name": "stderr",
     "output_type": "stream",
     "text": [
      "/home/mlopez/dev/python-projects/quant-learning/python-for-algorithmic-trading/08-cfd-trading-with-oanda/MomentumTrader.py:31: FutureWarning: The frame.append method is deprecated and will be removed from pandas in a future version. Use pandas.concat instead.\n",
      "  self.raw_data = self.raw_data.append(\n"
     ]
    },
    {
     "name": "stdout",
     "output_type": "stream",
     "text": [
      "389 "
     ]
    },
    {
     "name": "stderr",
     "output_type": "stream",
     "text": [
      "/home/mlopez/dev/python-projects/quant-learning/python-for-algorithmic-trading/08-cfd-trading-with-oanda/MomentumTrader.py:31: FutureWarning: The frame.append method is deprecated and will be removed from pandas in a future version. Use pandas.concat instead.\n",
      "  self.raw_data = self.raw_data.append(\n"
     ]
    },
    {
     "name": "stdout",
     "output_type": "stream",
     "text": [
      "390 "
     ]
    },
    {
     "name": "stderr",
     "output_type": "stream",
     "text": [
      "/home/mlopez/dev/python-projects/quant-learning/python-for-algorithmic-trading/08-cfd-trading-with-oanda/MomentumTrader.py:31: FutureWarning: The frame.append method is deprecated and will be removed from pandas in a future version. Use pandas.concat instead.\n",
      "  self.raw_data = self.raw_data.append(\n"
     ]
    },
    {
     "name": "stdout",
     "output_type": "stream",
     "text": [
      "391 "
     ]
    },
    {
     "name": "stderr",
     "output_type": "stream",
     "text": [
      "/home/mlopez/dev/python-projects/quant-learning/python-for-algorithmic-trading/08-cfd-trading-with-oanda/MomentumTrader.py:31: FutureWarning: The frame.append method is deprecated and will be removed from pandas in a future version. Use pandas.concat instead.\n",
      "  self.raw_data = self.raw_data.append(\n"
     ]
    },
    {
     "name": "stdout",
     "output_type": "stream",
     "text": [
      "392 "
     ]
    },
    {
     "name": "stderr",
     "output_type": "stream",
     "text": [
      "/home/mlopez/dev/python-projects/quant-learning/python-for-algorithmic-trading/08-cfd-trading-with-oanda/MomentumTrader.py:31: FutureWarning: The frame.append method is deprecated and will be removed from pandas in a future version. Use pandas.concat instead.\n",
      "  self.raw_data = self.raw_data.append(\n"
     ]
    },
    {
     "name": "stdout",
     "output_type": "stream",
     "text": [
      "393 "
     ]
    },
    {
     "name": "stderr",
     "output_type": "stream",
     "text": [
      "/home/mlopez/dev/python-projects/quant-learning/python-for-algorithmic-trading/08-cfd-trading-with-oanda/MomentumTrader.py:31: FutureWarning: The frame.append method is deprecated and will be removed from pandas in a future version. Use pandas.concat instead.\n",
      "  self.raw_data = self.raw_data.append(\n"
     ]
    },
    {
     "name": "stdout",
     "output_type": "stream",
     "text": [
      "394 "
     ]
    },
    {
     "name": "stderr",
     "output_type": "stream",
     "text": [
      "/home/mlopez/dev/python-projects/quant-learning/python-for-algorithmic-trading/08-cfd-trading-with-oanda/MomentumTrader.py:31: FutureWarning: The frame.append method is deprecated and will be removed from pandas in a future version. Use pandas.concat instead.\n",
      "  self.raw_data = self.raw_data.append(\n"
     ]
    },
    {
     "name": "stdout",
     "output_type": "stream",
     "text": [
      "395 "
     ]
    },
    {
     "name": "stderr",
     "output_type": "stream",
     "text": [
      "/home/mlopez/dev/python-projects/quant-learning/python-for-algorithmic-trading/08-cfd-trading-with-oanda/MomentumTrader.py:31: FutureWarning: The frame.append method is deprecated and will be removed from pandas in a future version. Use pandas.concat instead.\n",
      "  self.raw_data = self.raw_data.append(\n"
     ]
    },
    {
     "name": "stdout",
     "output_type": "stream",
     "text": [
      "396 "
     ]
    },
    {
     "name": "stderr",
     "output_type": "stream",
     "text": [
      "/home/mlopez/dev/python-projects/quant-learning/python-for-algorithmic-trading/08-cfd-trading-with-oanda/MomentumTrader.py:31: FutureWarning: The frame.append method is deprecated and will be removed from pandas in a future version. Use pandas.concat instead.\n",
      "  self.raw_data = self.raw_data.append(\n"
     ]
    },
    {
     "name": "stdout",
     "output_type": "stream",
     "text": [
      "397 "
     ]
    },
    {
     "name": "stderr",
     "output_type": "stream",
     "text": [
      "/home/mlopez/dev/python-projects/quant-learning/python-for-algorithmic-trading/08-cfd-trading-with-oanda/MomentumTrader.py:31: FutureWarning: The frame.append method is deprecated and will be removed from pandas in a future version. Use pandas.concat instead.\n",
      "  self.raw_data = self.raw_data.append(\n"
     ]
    },
    {
     "name": "stdout",
     "output_type": "stream",
     "text": [
      "398 "
     ]
    },
    {
     "name": "stderr",
     "output_type": "stream",
     "text": [
      "/home/mlopez/dev/python-projects/quant-learning/python-for-algorithmic-trading/08-cfd-trading-with-oanda/MomentumTrader.py:31: FutureWarning: The frame.append method is deprecated and will be removed from pandas in a future version. Use pandas.concat instead.\n",
      "  self.raw_data = self.raw_data.append(\n"
     ]
    },
    {
     "name": "stdout",
     "output_type": "stream",
     "text": [
      "399 "
     ]
    },
    {
     "name": "stderr",
     "output_type": "stream",
     "text": [
      "/home/mlopez/dev/python-projects/quant-learning/python-for-algorithmic-trading/08-cfd-trading-with-oanda/MomentumTrader.py:31: FutureWarning: The frame.append method is deprecated and will be removed from pandas in a future version. Use pandas.concat instead.\n",
      "  self.raw_data = self.raw_data.append(\n"
     ]
    },
    {
     "name": "stdout",
     "output_type": "stream",
     "text": [
      "400 "
     ]
    },
    {
     "name": "stderr",
     "output_type": "stream",
     "text": [
      "/home/mlopez/dev/python-projects/quant-learning/python-for-algorithmic-trading/08-cfd-trading-with-oanda/MomentumTrader.py:31: FutureWarning: The frame.append method is deprecated and will be removed from pandas in a future version. Use pandas.concat instead.\n",
      "  self.raw_data = self.raw_data.append(\n"
     ]
    },
    {
     "name": "stdout",
     "output_type": "stream",
     "text": [
      "401 "
     ]
    },
    {
     "name": "stderr",
     "output_type": "stream",
     "text": [
      "/home/mlopez/dev/python-projects/quant-learning/python-for-algorithmic-trading/08-cfd-trading-with-oanda/MomentumTrader.py:31: FutureWarning: The frame.append method is deprecated and will be removed from pandas in a future version. Use pandas.concat instead.\n",
      "  self.raw_data = self.raw_data.append(\n"
     ]
    },
    {
     "name": "stdout",
     "output_type": "stream",
     "text": [
      "402 "
     ]
    },
    {
     "name": "stderr",
     "output_type": "stream",
     "text": [
      "/home/mlopez/dev/python-projects/quant-learning/python-for-algorithmic-trading/08-cfd-trading-with-oanda/MomentumTrader.py:31: FutureWarning: The frame.append method is deprecated and will be removed from pandas in a future version. Use pandas.concat instead.\n",
      "  self.raw_data = self.raw_data.append(\n"
     ]
    },
    {
     "name": "stdout",
     "output_type": "stream",
     "text": [
      "403 "
     ]
    },
    {
     "name": "stderr",
     "output_type": "stream",
     "text": [
      "/home/mlopez/dev/python-projects/quant-learning/python-for-algorithmic-trading/08-cfd-trading-with-oanda/MomentumTrader.py:31: FutureWarning: The frame.append method is deprecated and will be removed from pandas in a future version. Use pandas.concat instead.\n",
      "  self.raw_data = self.raw_data.append(\n"
     ]
    },
    {
     "name": "stdout",
     "output_type": "stream",
     "text": [
      "404 "
     ]
    },
    {
     "name": "stderr",
     "output_type": "stream",
     "text": [
      "/home/mlopez/dev/python-projects/quant-learning/python-for-algorithmic-trading/08-cfd-trading-with-oanda/MomentumTrader.py:31: FutureWarning: The frame.append method is deprecated and will be removed from pandas in a future version. Use pandas.concat instead.\n",
      "  self.raw_data = self.raw_data.append(\n"
     ]
    },
    {
     "name": "stdout",
     "output_type": "stream",
     "text": [
      "405 "
     ]
    },
    {
     "name": "stderr",
     "output_type": "stream",
     "text": [
      "/home/mlopez/dev/python-projects/quant-learning/python-for-algorithmic-trading/08-cfd-trading-with-oanda/MomentumTrader.py:31: FutureWarning: The frame.append method is deprecated and will be removed from pandas in a future version. Use pandas.concat instead.\n",
      "  self.raw_data = self.raw_data.append(\n"
     ]
    },
    {
     "name": "stdout",
     "output_type": "stream",
     "text": [
      "406 "
     ]
    },
    {
     "name": "stderr",
     "output_type": "stream",
     "text": [
      "/home/mlopez/dev/python-projects/quant-learning/python-for-algorithmic-trading/08-cfd-trading-with-oanda/MomentumTrader.py:31: FutureWarning: The frame.append method is deprecated and will be removed from pandas in a future version. Use pandas.concat instead.\n",
      "  self.raw_data = self.raw_data.append(\n"
     ]
    },
    {
     "name": "stdout",
     "output_type": "stream",
     "text": [
      "407 "
     ]
    },
    {
     "name": "stderr",
     "output_type": "stream",
     "text": [
      "/home/mlopez/dev/python-projects/quant-learning/python-for-algorithmic-trading/08-cfd-trading-with-oanda/MomentumTrader.py:31: FutureWarning: The frame.append method is deprecated and will be removed from pandas in a future version. Use pandas.concat instead.\n",
      "  self.raw_data = self.raw_data.append(\n"
     ]
    },
    {
     "name": "stdout",
     "output_type": "stream",
     "text": [
      "408 "
     ]
    },
    {
     "name": "stderr",
     "output_type": "stream",
     "text": [
      "/home/mlopez/dev/python-projects/quant-learning/python-for-algorithmic-trading/08-cfd-trading-with-oanda/MomentumTrader.py:31: FutureWarning: The frame.append method is deprecated and will be removed from pandas in a future version. Use pandas.concat instead.\n",
      "  self.raw_data = self.raw_data.append(\n"
     ]
    },
    {
     "name": "stdout",
     "output_type": "stream",
     "text": [
      "409 "
     ]
    },
    {
     "name": "stderr",
     "output_type": "stream",
     "text": [
      "/home/mlopez/dev/python-projects/quant-learning/python-for-algorithmic-trading/08-cfd-trading-with-oanda/MomentumTrader.py:31: FutureWarning: The frame.append method is deprecated and will be removed from pandas in a future version. Use pandas.concat instead.\n",
      "  self.raw_data = self.raw_data.append(\n"
     ]
    },
    {
     "name": "stdout",
     "output_type": "stream",
     "text": [
      "410 "
     ]
    },
    {
     "name": "stderr",
     "output_type": "stream",
     "text": [
      "/home/mlopez/dev/python-projects/quant-learning/python-for-algorithmic-trading/08-cfd-trading-with-oanda/MomentumTrader.py:31: FutureWarning: The frame.append method is deprecated and will be removed from pandas in a future version. Use pandas.concat instead.\n",
      "  self.raw_data = self.raw_data.append(\n"
     ]
    },
    {
     "name": "stdout",
     "output_type": "stream",
     "text": [
      "411 "
     ]
    },
    {
     "name": "stderr",
     "output_type": "stream",
     "text": [
      "/home/mlopez/dev/python-projects/quant-learning/python-for-algorithmic-trading/08-cfd-trading-with-oanda/MomentumTrader.py:31: FutureWarning: The frame.append method is deprecated and will be removed from pandas in a future version. Use pandas.concat instead.\n",
      "  self.raw_data = self.raw_data.append(\n"
     ]
    },
    {
     "name": "stdout",
     "output_type": "stream",
     "text": [
      "412 "
     ]
    },
    {
     "name": "stderr",
     "output_type": "stream",
     "text": [
      "/home/mlopez/dev/python-projects/quant-learning/python-for-algorithmic-trading/08-cfd-trading-with-oanda/MomentumTrader.py:31: FutureWarning: The frame.append method is deprecated and will be removed from pandas in a future version. Use pandas.concat instead.\n",
      "  self.raw_data = self.raw_data.append(\n"
     ]
    },
    {
     "name": "stdout",
     "output_type": "stream",
     "text": [
      "413 "
     ]
    },
    {
     "name": "stderr",
     "output_type": "stream",
     "text": [
      "/home/mlopez/dev/python-projects/quant-learning/python-for-algorithmic-trading/08-cfd-trading-with-oanda/MomentumTrader.py:31: FutureWarning: The frame.append method is deprecated and will be removed from pandas in a future version. Use pandas.concat instead.\n",
      "  self.raw_data = self.raw_data.append(\n"
     ]
    },
    {
     "name": "stdout",
     "output_type": "stream",
     "text": [
      "414 "
     ]
    },
    {
     "name": "stderr",
     "output_type": "stream",
     "text": [
      "/home/mlopez/dev/python-projects/quant-learning/python-for-algorithmic-trading/08-cfd-trading-with-oanda/MomentumTrader.py:31: FutureWarning: The frame.append method is deprecated and will be removed from pandas in a future version. Use pandas.concat instead.\n",
      "  self.raw_data = self.raw_data.append(\n"
     ]
    },
    {
     "name": "stdout",
     "output_type": "stream",
     "text": [
      "415 "
     ]
    },
    {
     "name": "stderr",
     "output_type": "stream",
     "text": [
      "/home/mlopez/dev/python-projects/quant-learning/python-for-algorithmic-trading/08-cfd-trading-with-oanda/MomentumTrader.py:31: FutureWarning: The frame.append method is deprecated and will be removed from pandas in a future version. Use pandas.concat instead.\n",
      "  self.raw_data = self.raw_data.append(\n"
     ]
    },
    {
     "name": "stdout",
     "output_type": "stream",
     "text": [
      "416 "
     ]
    },
    {
     "name": "stderr",
     "output_type": "stream",
     "text": [
      "/home/mlopez/dev/python-projects/quant-learning/python-for-algorithmic-trading/08-cfd-trading-with-oanda/MomentumTrader.py:31: FutureWarning: The frame.append method is deprecated and will be removed from pandas in a future version. Use pandas.concat instead.\n",
      "  self.raw_data = self.raw_data.append(\n"
     ]
    },
    {
     "name": "stdout",
     "output_type": "stream",
     "text": [
      "417 "
     ]
    },
    {
     "name": "stderr",
     "output_type": "stream",
     "text": [
      "/home/mlopez/dev/python-projects/quant-learning/python-for-algorithmic-trading/08-cfd-trading-with-oanda/MomentumTrader.py:31: FutureWarning: The frame.append method is deprecated and will be removed from pandas in a future version. Use pandas.concat instead.\n",
      "  self.raw_data = self.raw_data.append(\n"
     ]
    },
    {
     "name": "stdout",
     "output_type": "stream",
     "text": [
      "418 "
     ]
    },
    {
     "name": "stderr",
     "output_type": "stream",
     "text": [
      "/home/mlopez/dev/python-projects/quant-learning/python-for-algorithmic-trading/08-cfd-trading-with-oanda/MomentumTrader.py:31: FutureWarning: The frame.append method is deprecated and will be removed from pandas in a future version. Use pandas.concat instead.\n",
      "  self.raw_data = self.raw_data.append(\n"
     ]
    },
    {
     "name": "stdout",
     "output_type": "stream",
     "text": [
      "419 "
     ]
    },
    {
     "name": "stderr",
     "output_type": "stream",
     "text": [
      "/home/mlopez/dev/python-projects/quant-learning/python-for-algorithmic-trading/08-cfd-trading-with-oanda/MomentumTrader.py:31: FutureWarning: The frame.append method is deprecated and will be removed from pandas in a future version. Use pandas.concat instead.\n",
      "  self.raw_data = self.raw_data.append(\n"
     ]
    },
    {
     "name": "stdout",
     "output_type": "stream",
     "text": [
      "420 "
     ]
    },
    {
     "name": "stderr",
     "output_type": "stream",
     "text": [
      "/home/mlopez/dev/python-projects/quant-learning/python-for-algorithmic-trading/08-cfd-trading-with-oanda/MomentumTrader.py:31: FutureWarning: The frame.append method is deprecated and will be removed from pandas in a future version. Use pandas.concat instead.\n",
      "  self.raw_data = self.raw_data.append(\n"
     ]
    },
    {
     "name": "stdout",
     "output_type": "stream",
     "text": [
      "421 "
     ]
    },
    {
     "name": "stderr",
     "output_type": "stream",
     "text": [
      "/home/mlopez/dev/python-projects/quant-learning/python-for-algorithmic-trading/08-cfd-trading-with-oanda/MomentumTrader.py:31: FutureWarning: The frame.append method is deprecated and will be removed from pandas in a future version. Use pandas.concat instead.\n",
      "  self.raw_data = self.raw_data.append(\n"
     ]
    },
    {
     "name": "stdout",
     "output_type": "stream",
     "text": [
      "422 "
     ]
    },
    {
     "name": "stderr",
     "output_type": "stream",
     "text": [
      "/home/mlopez/dev/python-projects/quant-learning/python-for-algorithmic-trading/08-cfd-trading-with-oanda/MomentumTrader.py:31: FutureWarning: The frame.append method is deprecated and will be removed from pandas in a future version. Use pandas.concat instead.\n",
      "  self.raw_data = self.raw_data.append(\n"
     ]
    },
    {
     "name": "stdout",
     "output_type": "stream",
     "text": [
      "423 "
     ]
    },
    {
     "name": "stderr",
     "output_type": "stream",
     "text": [
      "/home/mlopez/dev/python-projects/quant-learning/python-for-algorithmic-trading/08-cfd-trading-with-oanda/MomentumTrader.py:31: FutureWarning: The frame.append method is deprecated and will be removed from pandas in a future version. Use pandas.concat instead.\n",
      "  self.raw_data = self.raw_data.append(\n"
     ]
    },
    {
     "name": "stdout",
     "output_type": "stream",
     "text": [
      "424 "
     ]
    },
    {
     "name": "stderr",
     "output_type": "stream",
     "text": [
      "/home/mlopez/dev/python-projects/quant-learning/python-for-algorithmic-trading/08-cfd-trading-with-oanda/MomentumTrader.py:31: FutureWarning: The frame.append method is deprecated and will be removed from pandas in a future version. Use pandas.concat instead.\n",
      "  self.raw_data = self.raw_data.append(\n"
     ]
    },
    {
     "name": "stdout",
     "output_type": "stream",
     "text": [
      "425 "
     ]
    },
    {
     "name": "stderr",
     "output_type": "stream",
     "text": [
      "/home/mlopez/dev/python-projects/quant-learning/python-for-algorithmic-trading/08-cfd-trading-with-oanda/MomentumTrader.py:31: FutureWarning: The frame.append method is deprecated and will be removed from pandas in a future version. Use pandas.concat instead.\n",
      "  self.raw_data = self.raw_data.append(\n"
     ]
    },
    {
     "name": "stdout",
     "output_type": "stream",
     "text": [
      "426 "
     ]
    },
    {
     "name": "stderr",
     "output_type": "stream",
     "text": [
      "/home/mlopez/dev/python-projects/quant-learning/python-for-algorithmic-trading/08-cfd-trading-with-oanda/MomentumTrader.py:31: FutureWarning: The frame.append method is deprecated and will be removed from pandas in a future version. Use pandas.concat instead.\n",
      "  self.raw_data = self.raw_data.append(\n"
     ]
    },
    {
     "name": "stdout",
     "output_type": "stream",
     "text": [
      "427 "
     ]
    },
    {
     "name": "stderr",
     "output_type": "stream",
     "text": [
      "/home/mlopez/dev/python-projects/quant-learning/python-for-algorithmic-trading/08-cfd-trading-with-oanda/MomentumTrader.py:31: FutureWarning: The frame.append method is deprecated and will be removed from pandas in a future version. Use pandas.concat instead.\n",
      "  self.raw_data = self.raw_data.append(\n"
     ]
    },
    {
     "name": "stdout",
     "output_type": "stream",
     "text": [
      "428 "
     ]
    },
    {
     "name": "stderr",
     "output_type": "stream",
     "text": [
      "/home/mlopez/dev/python-projects/quant-learning/python-for-algorithmic-trading/08-cfd-trading-with-oanda/MomentumTrader.py:31: FutureWarning: The frame.append method is deprecated and will be removed from pandas in a future version. Use pandas.concat instead.\n",
      "  self.raw_data = self.raw_data.append(\n"
     ]
    },
    {
     "name": "stdout",
     "output_type": "stream",
     "text": [
      "429 "
     ]
    },
    {
     "name": "stderr",
     "output_type": "stream",
     "text": [
      "/home/mlopez/dev/python-projects/quant-learning/python-for-algorithmic-trading/08-cfd-trading-with-oanda/MomentumTrader.py:31: FutureWarning: The frame.append method is deprecated and will be removed from pandas in a future version. Use pandas.concat instead.\n",
      "  self.raw_data = self.raw_data.append(\n"
     ]
    },
    {
     "name": "stdout",
     "output_type": "stream",
     "text": [
      "430 "
     ]
    },
    {
     "name": "stderr",
     "output_type": "stream",
     "text": [
      "/home/mlopez/dev/python-projects/quant-learning/python-for-algorithmic-trading/08-cfd-trading-with-oanda/MomentumTrader.py:31: FutureWarning: The frame.append method is deprecated and will be removed from pandas in a future version. Use pandas.concat instead.\n",
      "  self.raw_data = self.raw_data.append(\n"
     ]
    },
    {
     "name": "stdout",
     "output_type": "stream",
     "text": [
      "431 "
     ]
    },
    {
     "name": "stderr",
     "output_type": "stream",
     "text": [
      "/home/mlopez/dev/python-projects/quant-learning/python-for-algorithmic-trading/08-cfd-trading-with-oanda/MomentumTrader.py:31: FutureWarning: The frame.append method is deprecated and will be removed from pandas in a future version. Use pandas.concat instead.\n",
      "  self.raw_data = self.raw_data.append(\n"
     ]
    },
    {
     "name": "stdout",
     "output_type": "stream",
     "text": [
      "432 "
     ]
    },
    {
     "name": "stderr",
     "output_type": "stream",
     "text": [
      "/home/mlopez/dev/python-projects/quant-learning/python-for-algorithmic-trading/08-cfd-trading-with-oanda/MomentumTrader.py:31: FutureWarning: The frame.append method is deprecated and will be removed from pandas in a future version. Use pandas.concat instead.\n",
      "  self.raw_data = self.raw_data.append(\n"
     ]
    },
    {
     "name": "stdout",
     "output_type": "stream",
     "text": [
      "433 "
     ]
    },
    {
     "name": "stderr",
     "output_type": "stream",
     "text": [
      "/home/mlopez/dev/python-projects/quant-learning/python-for-algorithmic-trading/08-cfd-trading-with-oanda/MomentumTrader.py:31: FutureWarning: The frame.append method is deprecated and will be removed from pandas in a future version. Use pandas.concat instead.\n",
      "  self.raw_data = self.raw_data.append(\n"
     ]
    },
    {
     "name": "stdout",
     "output_type": "stream",
     "text": [
      "434 "
     ]
    },
    {
     "name": "stderr",
     "output_type": "stream",
     "text": [
      "/home/mlopez/dev/python-projects/quant-learning/python-for-algorithmic-trading/08-cfd-trading-with-oanda/MomentumTrader.py:31: FutureWarning: The frame.append method is deprecated and will be removed from pandas in a future version. Use pandas.concat instead.\n",
      "  self.raw_data = self.raw_data.append(\n"
     ]
    },
    {
     "name": "stdout",
     "output_type": "stream",
     "text": [
      "435 "
     ]
    },
    {
     "name": "stderr",
     "output_type": "stream",
     "text": [
      "/home/mlopez/dev/python-projects/quant-learning/python-for-algorithmic-trading/08-cfd-trading-with-oanda/MomentumTrader.py:31: FutureWarning: The frame.append method is deprecated and will be removed from pandas in a future version. Use pandas.concat instead.\n",
      "  self.raw_data = self.raw_data.append(\n"
     ]
    },
    {
     "name": "stdout",
     "output_type": "stream",
     "text": [
      "436 "
     ]
    },
    {
     "name": "stderr",
     "output_type": "stream",
     "text": [
      "/home/mlopez/dev/python-projects/quant-learning/python-for-algorithmic-trading/08-cfd-trading-with-oanda/MomentumTrader.py:31: FutureWarning: The frame.append method is deprecated and will be removed from pandas in a future version. Use pandas.concat instead.\n",
      "  self.raw_data = self.raw_data.append(\n"
     ]
    },
    {
     "name": "stdout",
     "output_type": "stream",
     "text": [
      "437 "
     ]
    },
    {
     "name": "stderr",
     "output_type": "stream",
     "text": [
      "/home/mlopez/dev/python-projects/quant-learning/python-for-algorithmic-trading/08-cfd-trading-with-oanda/MomentumTrader.py:31: FutureWarning: The frame.append method is deprecated and will be removed from pandas in a future version. Use pandas.concat instead.\n",
      "  self.raw_data = self.raw_data.append(\n"
     ]
    },
    {
     "name": "stdout",
     "output_type": "stream",
     "text": [
      "438 \n",
      "\n",
      " {'id': '17', 'time': '2023-11-01T14:03:10.455316585Z', 'userID': 27068029, 'accountID': '101-004-27068029-001', 'batchID': '16', 'requestID': '25139880915927466', 'type': 'ORDER_FILL', 'orderID': '16', 'instrument': 'EUR_USD', 'units': '20000.0', 'gainQuoteHomeConversionFactor': '0.820314115803', 'lossQuoteHomeConversionFactor': '0.828558478776', 'price': 1.05456, 'fullVWAP': 1.05456, 'fullPrice': {'type': 'PRICE', 'bids': [{'price': 1.05446, 'liquidity': '1000000'}, {'price': 1.05444, 'liquidity': '2000000'}, {'price': 1.05443, 'liquidity': '2000000'}, {'price': 1.05441, 'liquidity': '5000000'}], 'asks': [{'price': 1.05456, 'liquidity': '1000000'}, {'price': 1.05459, 'liquidity': '2000000'}, {'price': 1.0546, 'liquidity': '2000000'}, {'price': 1.05461, 'liquidity': '5000000'}], 'closeoutBid': 1.05441, 'closeoutAsk': 1.05461}, 'reason': 'MARKET_ORDER', 'pl': '-2.4028', 'financing': '0.0', 'commission': '0.0', 'guaranteedExecutionFee': '0.0', 'accountBalance': '99992.7629', 'tradeOpened': {'tradeID': '17', 'units': '10000.0', 'price': 1.05456, 'guaranteedExecutionFee': '0.0', 'halfSpreadCost': '0.4122', 'initialMarginRequired': '289.8'}, 'tradesClosed': [{'tradeID': '15', 'units': '10000.0', 'price': 1.05456, 'realizedPL': '-2.4028', 'financing': '0.0', 'guaranteedExecutionFee': '0.0', 'halfSpreadCost': '0.4122'}], 'halfSpreadCost': '0.8244'} \n",
      "\n"
     ]
    },
    {
     "name": "stderr",
     "output_type": "stream",
     "text": [
      "/home/mlopez/dev/python-projects/quant-learning/python-for-algorithmic-trading/08-cfd-trading-with-oanda/MomentumTrader.py:31: FutureWarning: The frame.append method is deprecated and will be removed from pandas in a future version. Use pandas.concat instead.\n",
      "  self.raw_data = self.raw_data.append(\n"
     ]
    },
    {
     "name": "stdout",
     "output_type": "stream",
     "text": [
      "439 "
     ]
    },
    {
     "name": "stderr",
     "output_type": "stream",
     "text": [
      "/home/mlopez/dev/python-projects/quant-learning/python-for-algorithmic-trading/08-cfd-trading-with-oanda/MomentumTrader.py:31: FutureWarning: The frame.append method is deprecated and will be removed from pandas in a future version. Use pandas.concat instead.\n",
      "  self.raw_data = self.raw_data.append(\n"
     ]
    },
    {
     "name": "stdout",
     "output_type": "stream",
     "text": [
      "440 "
     ]
    },
    {
     "name": "stderr",
     "output_type": "stream",
     "text": [
      "/home/mlopez/dev/python-projects/quant-learning/python-for-algorithmic-trading/08-cfd-trading-with-oanda/MomentumTrader.py:31: FutureWarning: The frame.append method is deprecated and will be removed from pandas in a future version. Use pandas.concat instead.\n",
      "  self.raw_data = self.raw_data.append(\n"
     ]
    },
    {
     "name": "stdout",
     "output_type": "stream",
     "text": [
      "441 "
     ]
    },
    {
     "name": "stderr",
     "output_type": "stream",
     "text": [
      "/home/mlopez/dev/python-projects/quant-learning/python-for-algorithmic-trading/08-cfd-trading-with-oanda/MomentumTrader.py:31: FutureWarning: The frame.append method is deprecated and will be removed from pandas in a future version. Use pandas.concat instead.\n",
      "  self.raw_data = self.raw_data.append(\n"
     ]
    },
    {
     "name": "stdout",
     "output_type": "stream",
     "text": [
      "442 "
     ]
    },
    {
     "name": "stderr",
     "output_type": "stream",
     "text": [
      "/home/mlopez/dev/python-projects/quant-learning/python-for-algorithmic-trading/08-cfd-trading-with-oanda/MomentumTrader.py:31: FutureWarning: The frame.append method is deprecated and will be removed from pandas in a future version. Use pandas.concat instead.\n",
      "  self.raw_data = self.raw_data.append(\n"
     ]
    },
    {
     "name": "stdout",
     "output_type": "stream",
     "text": [
      "443 "
     ]
    },
    {
     "name": "stderr",
     "output_type": "stream",
     "text": [
      "/home/mlopez/dev/python-projects/quant-learning/python-for-algorithmic-trading/08-cfd-trading-with-oanda/MomentumTrader.py:31: FutureWarning: The frame.append method is deprecated and will be removed from pandas in a future version. Use pandas.concat instead.\n",
      "  self.raw_data = self.raw_data.append(\n"
     ]
    },
    {
     "name": "stdout",
     "output_type": "stream",
     "text": [
      "444 "
     ]
    },
    {
     "name": "stderr",
     "output_type": "stream",
     "text": [
      "/home/mlopez/dev/python-projects/quant-learning/python-for-algorithmic-trading/08-cfd-trading-with-oanda/MomentumTrader.py:31: FutureWarning: The frame.append method is deprecated and will be removed from pandas in a future version. Use pandas.concat instead.\n",
      "  self.raw_data = self.raw_data.append(\n"
     ]
    },
    {
     "name": "stdout",
     "output_type": "stream",
     "text": [
      "445 "
     ]
    },
    {
     "name": "stderr",
     "output_type": "stream",
     "text": [
      "/home/mlopez/dev/python-projects/quant-learning/python-for-algorithmic-trading/08-cfd-trading-with-oanda/MomentumTrader.py:31: FutureWarning: The frame.append method is deprecated and will be removed from pandas in a future version. Use pandas.concat instead.\n",
      "  self.raw_data = self.raw_data.append(\n"
     ]
    },
    {
     "name": "stdout",
     "output_type": "stream",
     "text": [
      "446 "
     ]
    },
    {
     "name": "stderr",
     "output_type": "stream",
     "text": [
      "/home/mlopez/dev/python-projects/quant-learning/python-for-algorithmic-trading/08-cfd-trading-with-oanda/MomentumTrader.py:31: FutureWarning: The frame.append method is deprecated and will be removed from pandas in a future version. Use pandas.concat instead.\n",
      "  self.raw_data = self.raw_data.append(\n"
     ]
    },
    {
     "name": "stdout",
     "output_type": "stream",
     "text": [
      "447 "
     ]
    },
    {
     "name": "stderr",
     "output_type": "stream",
     "text": [
      "/home/mlopez/dev/python-projects/quant-learning/python-for-algorithmic-trading/08-cfd-trading-with-oanda/MomentumTrader.py:31: FutureWarning: The frame.append method is deprecated and will be removed from pandas in a future version. Use pandas.concat instead.\n",
      "  self.raw_data = self.raw_data.append(\n"
     ]
    },
    {
     "name": "stdout",
     "output_type": "stream",
     "text": [
      "448 "
     ]
    },
    {
     "name": "stderr",
     "output_type": "stream",
     "text": [
      "/home/mlopez/dev/python-projects/quant-learning/python-for-algorithmic-trading/08-cfd-trading-with-oanda/MomentumTrader.py:31: FutureWarning: The frame.append method is deprecated and will be removed from pandas in a future version. Use pandas.concat instead.\n",
      "  self.raw_data = self.raw_data.append(\n"
     ]
    },
    {
     "name": "stdout",
     "output_type": "stream",
     "text": [
      "449 "
     ]
    },
    {
     "name": "stderr",
     "output_type": "stream",
     "text": [
      "/home/mlopez/dev/python-projects/quant-learning/python-for-algorithmic-trading/08-cfd-trading-with-oanda/MomentumTrader.py:31: FutureWarning: The frame.append method is deprecated and will be removed from pandas in a future version. Use pandas.concat instead.\n",
      "  self.raw_data = self.raw_data.append(\n"
     ]
    },
    {
     "name": "stdout",
     "output_type": "stream",
     "text": [
      "450 "
     ]
    },
    {
     "name": "stderr",
     "output_type": "stream",
     "text": [
      "/home/mlopez/dev/python-projects/quant-learning/python-for-algorithmic-trading/08-cfd-trading-with-oanda/MomentumTrader.py:31: FutureWarning: The frame.append method is deprecated and will be removed from pandas in a future version. Use pandas.concat instead.\n",
      "  self.raw_data = self.raw_data.append(\n"
     ]
    },
    {
     "name": "stdout",
     "output_type": "stream",
     "text": [
      "451 "
     ]
    },
    {
     "name": "stderr",
     "output_type": "stream",
     "text": [
      "/home/mlopez/dev/python-projects/quant-learning/python-for-algorithmic-trading/08-cfd-trading-with-oanda/MomentumTrader.py:31: FutureWarning: The frame.append method is deprecated and will be removed from pandas in a future version. Use pandas.concat instead.\n",
      "  self.raw_data = self.raw_data.append(\n"
     ]
    },
    {
     "name": "stdout",
     "output_type": "stream",
     "text": [
      "452 "
     ]
    },
    {
     "name": "stderr",
     "output_type": "stream",
     "text": [
      "/home/mlopez/dev/python-projects/quant-learning/python-for-algorithmic-trading/08-cfd-trading-with-oanda/MomentumTrader.py:31: FutureWarning: The frame.append method is deprecated and will be removed from pandas in a future version. Use pandas.concat instead.\n",
      "  self.raw_data = self.raw_data.append(\n"
     ]
    },
    {
     "name": "stdout",
     "output_type": "stream",
     "text": [
      "453 "
     ]
    },
    {
     "name": "stderr",
     "output_type": "stream",
     "text": [
      "/home/mlopez/dev/python-projects/quant-learning/python-for-algorithmic-trading/08-cfd-trading-with-oanda/MomentumTrader.py:31: FutureWarning: The frame.append method is deprecated and will be removed from pandas in a future version. Use pandas.concat instead.\n",
      "  self.raw_data = self.raw_data.append(\n"
     ]
    },
    {
     "name": "stdout",
     "output_type": "stream",
     "text": [
      "454 "
     ]
    },
    {
     "name": "stderr",
     "output_type": "stream",
     "text": [
      "/home/mlopez/dev/python-projects/quant-learning/python-for-algorithmic-trading/08-cfd-trading-with-oanda/MomentumTrader.py:31: FutureWarning: The frame.append method is deprecated and will be removed from pandas in a future version. Use pandas.concat instead.\n",
      "  self.raw_data = self.raw_data.append(\n"
     ]
    },
    {
     "name": "stdout",
     "output_type": "stream",
     "text": [
      "455 "
     ]
    },
    {
     "name": "stderr",
     "output_type": "stream",
     "text": [
      "/home/mlopez/dev/python-projects/quant-learning/python-for-algorithmic-trading/08-cfd-trading-with-oanda/MomentumTrader.py:31: FutureWarning: The frame.append method is deprecated and will be removed from pandas in a future version. Use pandas.concat instead.\n",
      "  self.raw_data = self.raw_data.append(\n"
     ]
    },
    {
     "name": "stdout",
     "output_type": "stream",
     "text": [
      "456 "
     ]
    },
    {
     "name": "stderr",
     "output_type": "stream",
     "text": [
      "/home/mlopez/dev/python-projects/quant-learning/python-for-algorithmic-trading/08-cfd-trading-with-oanda/MomentumTrader.py:31: FutureWarning: The frame.append method is deprecated and will be removed from pandas in a future version. Use pandas.concat instead.\n",
      "  self.raw_data = self.raw_data.append(\n"
     ]
    },
    {
     "name": "stdout",
     "output_type": "stream",
     "text": [
      "457 "
     ]
    },
    {
     "name": "stderr",
     "output_type": "stream",
     "text": [
      "/home/mlopez/dev/python-projects/quant-learning/python-for-algorithmic-trading/08-cfd-trading-with-oanda/MomentumTrader.py:31: FutureWarning: The frame.append method is deprecated and will be removed from pandas in a future version. Use pandas.concat instead.\n",
      "  self.raw_data = self.raw_data.append(\n"
     ]
    },
    {
     "name": "stdout",
     "output_type": "stream",
     "text": [
      "458 "
     ]
    },
    {
     "name": "stderr",
     "output_type": "stream",
     "text": [
      "/home/mlopez/dev/python-projects/quant-learning/python-for-algorithmic-trading/08-cfd-trading-with-oanda/MomentumTrader.py:31: FutureWarning: The frame.append method is deprecated and will be removed from pandas in a future version. Use pandas.concat instead.\n",
      "  self.raw_data = self.raw_data.append(\n"
     ]
    },
    {
     "name": "stdout",
     "output_type": "stream",
     "text": [
      "459 "
     ]
    },
    {
     "name": "stderr",
     "output_type": "stream",
     "text": [
      "/home/mlopez/dev/python-projects/quant-learning/python-for-algorithmic-trading/08-cfd-trading-with-oanda/MomentumTrader.py:31: FutureWarning: The frame.append method is deprecated and will be removed from pandas in a future version. Use pandas.concat instead.\n",
      "  self.raw_data = self.raw_data.append(\n"
     ]
    },
    {
     "name": "stdout",
     "output_type": "stream",
     "text": [
      "460 "
     ]
    },
    {
     "name": "stderr",
     "output_type": "stream",
     "text": [
      "/home/mlopez/dev/python-projects/quant-learning/python-for-algorithmic-trading/08-cfd-trading-with-oanda/MomentumTrader.py:31: FutureWarning: The frame.append method is deprecated and will be removed from pandas in a future version. Use pandas.concat instead.\n",
      "  self.raw_data = self.raw_data.append(\n"
     ]
    },
    {
     "name": "stdout",
     "output_type": "stream",
     "text": [
      "461 "
     ]
    },
    {
     "name": "stderr",
     "output_type": "stream",
     "text": [
      "/home/mlopez/dev/python-projects/quant-learning/python-for-algorithmic-trading/08-cfd-trading-with-oanda/MomentumTrader.py:31: FutureWarning: The frame.append method is deprecated and will be removed from pandas in a future version. Use pandas.concat instead.\n",
      "  self.raw_data = self.raw_data.append(\n"
     ]
    },
    {
     "name": "stdout",
     "output_type": "stream",
     "text": [
      "462 "
     ]
    },
    {
     "name": "stderr",
     "output_type": "stream",
     "text": [
      "/home/mlopez/dev/python-projects/quant-learning/python-for-algorithmic-trading/08-cfd-trading-with-oanda/MomentumTrader.py:31: FutureWarning: The frame.append method is deprecated and will be removed from pandas in a future version. Use pandas.concat instead.\n",
      "  self.raw_data = self.raw_data.append(\n"
     ]
    },
    {
     "name": "stdout",
     "output_type": "stream",
     "text": [
      "463 "
     ]
    },
    {
     "name": "stderr",
     "output_type": "stream",
     "text": [
      "/home/mlopez/dev/python-projects/quant-learning/python-for-algorithmic-trading/08-cfd-trading-with-oanda/MomentumTrader.py:31: FutureWarning: The frame.append method is deprecated and will be removed from pandas in a future version. Use pandas.concat instead.\n",
      "  self.raw_data = self.raw_data.append(\n"
     ]
    },
    {
     "name": "stdout",
     "output_type": "stream",
     "text": [
      "464 "
     ]
    },
    {
     "name": "stderr",
     "output_type": "stream",
     "text": [
      "/home/mlopez/dev/python-projects/quant-learning/python-for-algorithmic-trading/08-cfd-trading-with-oanda/MomentumTrader.py:31: FutureWarning: The frame.append method is deprecated and will be removed from pandas in a future version. Use pandas.concat instead.\n",
      "  self.raw_data = self.raw_data.append(\n"
     ]
    },
    {
     "name": "stdout",
     "output_type": "stream",
     "text": [
      "465 "
     ]
    },
    {
     "name": "stderr",
     "output_type": "stream",
     "text": [
      "/home/mlopez/dev/python-projects/quant-learning/python-for-algorithmic-trading/08-cfd-trading-with-oanda/MomentumTrader.py:31: FutureWarning: The frame.append method is deprecated and will be removed from pandas in a future version. Use pandas.concat instead.\n",
      "  self.raw_data = self.raw_data.append(\n"
     ]
    },
    {
     "name": "stdout",
     "output_type": "stream",
     "text": [
      "466 "
     ]
    },
    {
     "name": "stderr",
     "output_type": "stream",
     "text": [
      "/home/mlopez/dev/python-projects/quant-learning/python-for-algorithmic-trading/08-cfd-trading-with-oanda/MomentumTrader.py:31: FutureWarning: The frame.append method is deprecated and will be removed from pandas in a future version. Use pandas.concat instead.\n",
      "  self.raw_data = self.raw_data.append(\n"
     ]
    },
    {
     "name": "stdout",
     "output_type": "stream",
     "text": [
      "467 "
     ]
    },
    {
     "name": "stderr",
     "output_type": "stream",
     "text": [
      "/home/mlopez/dev/python-projects/quant-learning/python-for-algorithmic-trading/08-cfd-trading-with-oanda/MomentumTrader.py:31: FutureWarning: The frame.append method is deprecated and will be removed from pandas in a future version. Use pandas.concat instead.\n",
      "  self.raw_data = self.raw_data.append(\n"
     ]
    },
    {
     "name": "stdout",
     "output_type": "stream",
     "text": [
      "468 "
     ]
    },
    {
     "name": "stderr",
     "output_type": "stream",
     "text": [
      "/home/mlopez/dev/python-projects/quant-learning/python-for-algorithmic-trading/08-cfd-trading-with-oanda/MomentumTrader.py:31: FutureWarning: The frame.append method is deprecated and will be removed from pandas in a future version. Use pandas.concat instead.\n",
      "  self.raw_data = self.raw_data.append(\n"
     ]
    },
    {
     "name": "stdout",
     "output_type": "stream",
     "text": [
      "469 "
     ]
    },
    {
     "name": "stderr",
     "output_type": "stream",
     "text": [
      "/home/mlopez/dev/python-projects/quant-learning/python-for-algorithmic-trading/08-cfd-trading-with-oanda/MomentumTrader.py:31: FutureWarning: The frame.append method is deprecated and will be removed from pandas in a future version. Use pandas.concat instead.\n",
      "  self.raw_data = self.raw_data.append(\n"
     ]
    },
    {
     "name": "stdout",
     "output_type": "stream",
     "text": [
      "470 "
     ]
    },
    {
     "name": "stderr",
     "output_type": "stream",
     "text": [
      "/home/mlopez/dev/python-projects/quant-learning/python-for-algorithmic-trading/08-cfd-trading-with-oanda/MomentumTrader.py:31: FutureWarning: The frame.append method is deprecated and will be removed from pandas in a future version. Use pandas.concat instead.\n",
      "  self.raw_data = self.raw_data.append(\n"
     ]
    },
    {
     "name": "stdout",
     "output_type": "stream",
     "text": [
      "471 "
     ]
    },
    {
     "name": "stderr",
     "output_type": "stream",
     "text": [
      "/home/mlopez/dev/python-projects/quant-learning/python-for-algorithmic-trading/08-cfd-trading-with-oanda/MomentumTrader.py:31: FutureWarning: The frame.append method is deprecated and will be removed from pandas in a future version. Use pandas.concat instead.\n",
      "  self.raw_data = self.raw_data.append(\n"
     ]
    },
    {
     "name": "stdout",
     "output_type": "stream",
     "text": [
      "472 "
     ]
    },
    {
     "name": "stderr",
     "output_type": "stream",
     "text": [
      "/home/mlopez/dev/python-projects/quant-learning/python-for-algorithmic-trading/08-cfd-trading-with-oanda/MomentumTrader.py:31: FutureWarning: The frame.append method is deprecated and will be removed from pandas in a future version. Use pandas.concat instead.\n",
      "  self.raw_data = self.raw_data.append(\n"
     ]
    },
    {
     "name": "stdout",
     "output_type": "stream",
     "text": [
      "473 "
     ]
    },
    {
     "name": "stderr",
     "output_type": "stream",
     "text": [
      "/home/mlopez/dev/python-projects/quant-learning/python-for-algorithmic-trading/08-cfd-trading-with-oanda/MomentumTrader.py:31: FutureWarning: The frame.append method is deprecated and will be removed from pandas in a future version. Use pandas.concat instead.\n",
      "  self.raw_data = self.raw_data.append(\n"
     ]
    },
    {
     "name": "stdout",
     "output_type": "stream",
     "text": [
      "474 "
     ]
    },
    {
     "name": "stderr",
     "output_type": "stream",
     "text": [
      "/home/mlopez/dev/python-projects/quant-learning/python-for-algorithmic-trading/08-cfd-trading-with-oanda/MomentumTrader.py:31: FutureWarning: The frame.append method is deprecated and will be removed from pandas in a future version. Use pandas.concat instead.\n",
      "  self.raw_data = self.raw_data.append(\n"
     ]
    },
    {
     "name": "stdout",
     "output_type": "stream",
     "text": [
      "475 "
     ]
    },
    {
     "name": "stderr",
     "output_type": "stream",
     "text": [
      "/home/mlopez/dev/python-projects/quant-learning/python-for-algorithmic-trading/08-cfd-trading-with-oanda/MomentumTrader.py:31: FutureWarning: The frame.append method is deprecated and will be removed from pandas in a future version. Use pandas.concat instead.\n",
      "  self.raw_data = self.raw_data.append(\n"
     ]
    },
    {
     "name": "stdout",
     "output_type": "stream",
     "text": [
      "476 "
     ]
    },
    {
     "name": "stderr",
     "output_type": "stream",
     "text": [
      "/home/mlopez/dev/python-projects/quant-learning/python-for-algorithmic-trading/08-cfd-trading-with-oanda/MomentumTrader.py:31: FutureWarning: The frame.append method is deprecated and will be removed from pandas in a future version. Use pandas.concat instead.\n",
      "  self.raw_data = self.raw_data.append(\n"
     ]
    },
    {
     "name": "stdout",
     "output_type": "stream",
     "text": [
      "477 "
     ]
    },
    {
     "name": "stderr",
     "output_type": "stream",
     "text": [
      "/home/mlopez/dev/python-projects/quant-learning/python-for-algorithmic-trading/08-cfd-trading-with-oanda/MomentumTrader.py:31: FutureWarning: The frame.append method is deprecated and will be removed from pandas in a future version. Use pandas.concat instead.\n",
      "  self.raw_data = self.raw_data.append(\n"
     ]
    },
    {
     "name": "stdout",
     "output_type": "stream",
     "text": [
      "478 "
     ]
    },
    {
     "name": "stderr",
     "output_type": "stream",
     "text": [
      "/home/mlopez/dev/python-projects/quant-learning/python-for-algorithmic-trading/08-cfd-trading-with-oanda/MomentumTrader.py:31: FutureWarning: The frame.append method is deprecated and will be removed from pandas in a future version. Use pandas.concat instead.\n",
      "  self.raw_data = self.raw_data.append(\n"
     ]
    },
    {
     "name": "stdout",
     "output_type": "stream",
     "text": [
      "479 "
     ]
    },
    {
     "name": "stderr",
     "output_type": "stream",
     "text": [
      "/home/mlopez/dev/python-projects/quant-learning/python-for-algorithmic-trading/08-cfd-trading-with-oanda/MomentumTrader.py:31: FutureWarning: The frame.append method is deprecated and will be removed from pandas in a future version. Use pandas.concat instead.\n",
      "  self.raw_data = self.raw_data.append(\n"
     ]
    },
    {
     "name": "stdout",
     "output_type": "stream",
     "text": [
      "480 "
     ]
    },
    {
     "name": "stderr",
     "output_type": "stream",
     "text": [
      "/home/mlopez/dev/python-projects/quant-learning/python-for-algorithmic-trading/08-cfd-trading-with-oanda/MomentumTrader.py:31: FutureWarning: The frame.append method is deprecated and will be removed from pandas in a future version. Use pandas.concat instead.\n",
      "  self.raw_data = self.raw_data.append(\n"
     ]
    },
    {
     "name": "stdout",
     "output_type": "stream",
     "text": [
      "481 "
     ]
    },
    {
     "name": "stderr",
     "output_type": "stream",
     "text": [
      "/home/mlopez/dev/python-projects/quant-learning/python-for-algorithmic-trading/08-cfd-trading-with-oanda/MomentumTrader.py:31: FutureWarning: The frame.append method is deprecated and will be removed from pandas in a future version. Use pandas.concat instead.\n",
      "  self.raw_data = self.raw_data.append(\n"
     ]
    },
    {
     "name": "stdout",
     "output_type": "stream",
     "text": [
      "482 "
     ]
    },
    {
     "name": "stderr",
     "output_type": "stream",
     "text": [
      "/home/mlopez/dev/python-projects/quant-learning/python-for-algorithmic-trading/08-cfd-trading-with-oanda/MomentumTrader.py:31: FutureWarning: The frame.append method is deprecated and will be removed from pandas in a future version. Use pandas.concat instead.\n",
      "  self.raw_data = self.raw_data.append(\n"
     ]
    },
    {
     "name": "stdout",
     "output_type": "stream",
     "text": [
      "483 "
     ]
    },
    {
     "name": "stderr",
     "output_type": "stream",
     "text": [
      "/home/mlopez/dev/python-projects/quant-learning/python-for-algorithmic-trading/08-cfd-trading-with-oanda/MomentumTrader.py:31: FutureWarning: The frame.append method is deprecated and will be removed from pandas in a future version. Use pandas.concat instead.\n",
      "  self.raw_data = self.raw_data.append(\n"
     ]
    },
    {
     "name": "stdout",
     "output_type": "stream",
     "text": [
      "484 "
     ]
    },
    {
     "name": "stderr",
     "output_type": "stream",
     "text": [
      "/home/mlopez/dev/python-projects/quant-learning/python-for-algorithmic-trading/08-cfd-trading-with-oanda/MomentumTrader.py:31: FutureWarning: The frame.append method is deprecated and will be removed from pandas in a future version. Use pandas.concat instead.\n",
      "  self.raw_data = self.raw_data.append(\n"
     ]
    },
    {
     "name": "stdout",
     "output_type": "stream",
     "text": [
      "485 "
     ]
    },
    {
     "name": "stderr",
     "output_type": "stream",
     "text": [
      "/home/mlopez/dev/python-projects/quant-learning/python-for-algorithmic-trading/08-cfd-trading-with-oanda/MomentumTrader.py:31: FutureWarning: The frame.append method is deprecated and will be removed from pandas in a future version. Use pandas.concat instead.\n",
      "  self.raw_data = self.raw_data.append(\n"
     ]
    },
    {
     "name": "stdout",
     "output_type": "stream",
     "text": [
      "486 "
     ]
    },
    {
     "name": "stderr",
     "output_type": "stream",
     "text": [
      "/home/mlopez/dev/python-projects/quant-learning/python-for-algorithmic-trading/08-cfd-trading-with-oanda/MomentumTrader.py:31: FutureWarning: The frame.append method is deprecated and will be removed from pandas in a future version. Use pandas.concat instead.\n",
      "  self.raw_data = self.raw_data.append(\n"
     ]
    },
    {
     "name": "stdout",
     "output_type": "stream",
     "text": [
      "487 "
     ]
    },
    {
     "name": "stderr",
     "output_type": "stream",
     "text": [
      "/home/mlopez/dev/python-projects/quant-learning/python-for-algorithmic-trading/08-cfd-trading-with-oanda/MomentumTrader.py:31: FutureWarning: The frame.append method is deprecated and will be removed from pandas in a future version. Use pandas.concat instead.\n",
      "  self.raw_data = self.raw_data.append(\n"
     ]
    },
    {
     "name": "stdout",
     "output_type": "stream",
     "text": [
      "488 "
     ]
    },
    {
     "name": "stderr",
     "output_type": "stream",
     "text": [
      "/home/mlopez/dev/python-projects/quant-learning/python-for-algorithmic-trading/08-cfd-trading-with-oanda/MomentumTrader.py:31: FutureWarning: The frame.append method is deprecated and will be removed from pandas in a future version. Use pandas.concat instead.\n",
      "  self.raw_data = self.raw_data.append(\n"
     ]
    },
    {
     "name": "stdout",
     "output_type": "stream",
     "text": [
      "489 "
     ]
    },
    {
     "name": "stderr",
     "output_type": "stream",
     "text": [
      "/home/mlopez/dev/python-projects/quant-learning/python-for-algorithmic-trading/08-cfd-trading-with-oanda/MomentumTrader.py:31: FutureWarning: The frame.append method is deprecated and will be removed from pandas in a future version. Use pandas.concat instead.\n",
      "  self.raw_data = self.raw_data.append(\n"
     ]
    },
    {
     "name": "stdout",
     "output_type": "stream",
     "text": [
      "490 \n",
      "\n",
      " {'id': '19', 'time': '2023-11-01T14:03:30.444813085Z', 'userID': 27068029, 'accountID': '101-004-27068029-001', 'batchID': '18', 'requestID': '25139880999849996', 'type': 'ORDER_FILL', 'orderID': '18', 'instrument': 'EUR_USD', 'units': '-20000.0', 'gainQuoteHomeConversionFactor': '0.820496755517', 'lossQuoteHomeConversionFactor': '0.828742954065', 'price': 1.05445, 'fullVWAP': 1.05445, 'fullPrice': {'type': 'PRICE', 'bids': [{'price': 1.05445, 'liquidity': '1000000'}, {'price': 1.05443, 'liquidity': '2000000'}, {'price': 1.05442, 'liquidity': '2000000'}, {'price': 1.0544, 'liquidity': '5000000'}], 'asks': [{'price': 1.05453, 'liquidity': '1000000'}, {'price': 1.05456, 'liquidity': '2000000'}, {'price': 1.05457, 'liquidity': '2000000'}, {'price': 1.05458, 'liquidity': '5000000'}], 'closeoutBid': 1.0544, 'closeoutAsk': 1.05458}, 'reason': 'MARKET_ORDER', 'pl': '-0.9116', 'financing': '0.0', 'commission': '0.0', 'guaranteedExecutionFee': '0.0', 'accountBalance': '99991.8513', 'tradeOpened': {'tradeID': '19', 'units': '-10000.0', 'price': 1.05445, 'guaranteedExecutionFee': '0.0', 'halfSpreadCost': '0.3298', 'initialMarginRequired': '289.8467'}, 'tradesClosed': [{'tradeID': '17', 'units': '-10000.0', 'price': 1.05445, 'realizedPL': '-0.9116', 'financing': '0.0', 'guaranteedExecutionFee': '0.0', 'halfSpreadCost': '0.3298'}], 'halfSpreadCost': '0.6596'} \n",
      "\n"
     ]
    },
    {
     "name": "stderr",
     "output_type": "stream",
     "text": [
      "/home/mlopez/dev/python-projects/quant-learning/python-for-algorithmic-trading/08-cfd-trading-with-oanda/MomentumTrader.py:31: FutureWarning: The frame.append method is deprecated and will be removed from pandas in a future version. Use pandas.concat instead.\n",
      "  self.raw_data = self.raw_data.append(\n"
     ]
    },
    {
     "name": "stdout",
     "output_type": "stream",
     "text": [
      "491 "
     ]
    },
    {
     "name": "stderr",
     "output_type": "stream",
     "text": [
      "/home/mlopez/dev/python-projects/quant-learning/python-for-algorithmic-trading/08-cfd-trading-with-oanda/MomentumTrader.py:31: FutureWarning: The frame.append method is deprecated and will be removed from pandas in a future version. Use pandas.concat instead.\n",
      "  self.raw_data = self.raw_data.append(\n"
     ]
    },
    {
     "name": "stdout",
     "output_type": "stream",
     "text": [
      "492 "
     ]
    },
    {
     "name": "stderr",
     "output_type": "stream",
     "text": [
      "/home/mlopez/dev/python-projects/quant-learning/python-for-algorithmic-trading/08-cfd-trading-with-oanda/MomentumTrader.py:31: FutureWarning: The frame.append method is deprecated and will be removed from pandas in a future version. Use pandas.concat instead.\n",
      "  self.raw_data = self.raw_data.append(\n"
     ]
    },
    {
     "name": "stdout",
     "output_type": "stream",
     "text": [
      "493 "
     ]
    },
    {
     "name": "stderr",
     "output_type": "stream",
     "text": [
      "/home/mlopez/dev/python-projects/quant-learning/python-for-algorithmic-trading/08-cfd-trading-with-oanda/MomentumTrader.py:31: FutureWarning: The frame.append method is deprecated and will be removed from pandas in a future version. Use pandas.concat instead.\n",
      "  self.raw_data = self.raw_data.append(\n"
     ]
    },
    {
     "name": "stdout",
     "output_type": "stream",
     "text": [
      "494 "
     ]
    },
    {
     "name": "stderr",
     "output_type": "stream",
     "text": [
      "/home/mlopez/dev/python-projects/quant-learning/python-for-algorithmic-trading/08-cfd-trading-with-oanda/MomentumTrader.py:31: FutureWarning: The frame.append method is deprecated and will be removed from pandas in a future version. Use pandas.concat instead.\n",
      "  self.raw_data = self.raw_data.append(\n"
     ]
    },
    {
     "name": "stdout",
     "output_type": "stream",
     "text": [
      "495 "
     ]
    },
    {
     "name": "stderr",
     "output_type": "stream",
     "text": [
      "/home/mlopez/dev/python-projects/quant-learning/python-for-algorithmic-trading/08-cfd-trading-with-oanda/MomentumTrader.py:31: FutureWarning: The frame.append method is deprecated and will be removed from pandas in a future version. Use pandas.concat instead.\n",
      "  self.raw_data = self.raw_data.append(\n"
     ]
    },
    {
     "name": "stdout",
     "output_type": "stream",
     "text": [
      "496 "
     ]
    },
    {
     "name": "stderr",
     "output_type": "stream",
     "text": [
      "/home/mlopez/dev/python-projects/quant-learning/python-for-algorithmic-trading/08-cfd-trading-with-oanda/MomentumTrader.py:31: FutureWarning: The frame.append method is deprecated and will be removed from pandas in a future version. Use pandas.concat instead.\n",
      "  self.raw_data = self.raw_data.append(\n"
     ]
    },
    {
     "name": "stdout",
     "output_type": "stream",
     "text": [
      "497 "
     ]
    },
    {
     "name": "stderr",
     "output_type": "stream",
     "text": [
      "/home/mlopez/dev/python-projects/quant-learning/python-for-algorithmic-trading/08-cfd-trading-with-oanda/MomentumTrader.py:31: FutureWarning: The frame.append method is deprecated and will be removed from pandas in a future version. Use pandas.concat instead.\n",
      "  self.raw_data = self.raw_data.append(\n"
     ]
    },
    {
     "name": "stdout",
     "output_type": "stream",
     "text": [
      "498 "
     ]
    },
    {
     "name": "stderr",
     "output_type": "stream",
     "text": [
      "/home/mlopez/dev/python-projects/quant-learning/python-for-algorithmic-trading/08-cfd-trading-with-oanda/MomentumTrader.py:31: FutureWarning: The frame.append method is deprecated and will be removed from pandas in a future version. Use pandas.concat instead.\n",
      "  self.raw_data = self.raw_data.append(\n"
     ]
    },
    {
     "name": "stdout",
     "output_type": "stream",
     "text": [
      "499 "
     ]
    },
    {
     "name": "stderr",
     "output_type": "stream",
     "text": [
      "/home/mlopez/dev/python-projects/quant-learning/python-for-algorithmic-trading/08-cfd-trading-with-oanda/MomentumTrader.py:31: FutureWarning: The frame.append method is deprecated and will be removed from pandas in a future version. Use pandas.concat instead.\n",
      "  self.raw_data = self.raw_data.append(\n"
     ]
    },
    {
     "name": "stdout",
     "output_type": "stream",
     "text": [
      "500 "
     ]
    },
    {
     "name": "stderr",
     "output_type": "stream",
     "text": [
      "/home/mlopez/dev/python-projects/quant-learning/python-for-algorithmic-trading/08-cfd-trading-with-oanda/MomentumTrader.py:31: FutureWarning: The frame.append method is deprecated and will be removed from pandas in a future version. Use pandas.concat instead.\n",
      "  self.raw_data = self.raw_data.append(\n"
     ]
    }
   ],
   "source": [
    "mt.stream_data(mt.instrument, stop=500)"
   ]
  },
  {
   "cell_type": "code",
   "execution_count": 31,
   "metadata": {},
   "outputs": [],
   "source": [
    "# close out the final position\n",
    "oo = mt.create_order(instrument, units=-mt.position * mt.units,\n",
    "                              ret=True, suppress=True)"
   ]
  },
  {
   "cell_type": "markdown",
   "metadata": {},
   "source": [
    "## Retrieving Account Information "
   ]
  },
  {
   "cell_type": "code",
   "execution_count": 32,
   "metadata": {},
   "outputs": [
    {
     "data": {
      "text/plain": [
       "{'id': '101-004-27068029-001',\n",
       " 'alias': 'Primary',\n",
       " 'currency': 'GBP',\n",
       " 'balance': '99993.4926',\n",
       " 'createdByUserID': 27068029,\n",
       " 'createdTime': '2023-10-07T22:17:16.949066248Z',\n",
       " 'guaranteedStopLossOrderMode': 'ALLOWED',\n",
       " 'pl': '-6.5074',\n",
       " 'resettablePL': '-6.5074',\n",
       " 'resettablePLTime': '0',\n",
       " 'financing': '0.0',\n",
       " 'commission': '0.0',\n",
       " 'guaranteedExecutionFees': '0.0',\n",
       " 'marginRate': '0.03333333333333',\n",
       " 'openTradeCount': 0,\n",
       " 'openPositionCount': 0,\n",
       " 'pendingOrderCount': 0,\n",
       " 'hedgingEnabled': False,\n",
       " 'unrealizedPL': '0.0',\n",
       " 'NAV': '99993.4926',\n",
       " 'marginUsed': '0.0',\n",
       " 'marginAvailable': '99993.4926',\n",
       " 'positionValue': '0.0',\n",
       " 'marginCloseoutUnrealizedPL': '0.0',\n",
       " 'marginCloseoutNAV': '99993.4926',\n",
       " 'marginCloseoutMarginUsed': '0.0',\n",
       " 'marginCloseoutPercent': '0.0',\n",
       " 'marginCloseoutPositionValue': '0.0',\n",
       " 'withdrawalLimit': '99993.4926',\n",
       " 'marginCallMarginUsed': '0.0',\n",
       " 'marginCallPercent': '0.0',\n",
       " 'lastTransactionID': '21'}"
      ]
     },
     "execution_count": 32,
     "metadata": {},
     "output_type": "execute_result"
    }
   ],
   "source": [
    "api.get_account_summary()"
   ]
  },
  {
   "cell_type": "code",
   "execution_count": 33,
   "metadata": {},
   "outputs": [
    {
     "data": {
      "text/plain": [
       "[{'id': '20',\n",
       "  'time': '2023-11-01T14:03:33.897254551Z',\n",
       "  'userID': 27068029,\n",
       "  'accountID': '101-004-27068029-001',\n",
       "  'batchID': '20',\n",
       "  'requestID': '25139881012439307',\n",
       "  'type': 'MARKET_ORDER',\n",
       "  'instrument': 'EUR_USD',\n",
       "  'units': '10000.0',\n",
       "  'timeInForce': 'FOK',\n",
       "  'positionFill': 'DEFAULT',\n",
       "  'reason': 'CLIENT_ORDER'},\n",
       " {'id': '21',\n",
       "  'time': '2023-11-01T14:03:33.897254551Z',\n",
       "  'userID': 27068029,\n",
       "  'accountID': '101-004-27068029-001',\n",
       "  'batchID': '20',\n",
       "  'requestID': '25139881012439307',\n",
       "  'type': 'ORDER_FILL',\n",
       "  'orderID': '20',\n",
       "  'instrument': 'EUR_USD',\n",
       "  'units': '10000.0',\n",
       "  'gainQuoteHomeConversionFactor': '0.820665939875',\n",
       "  'lossQuoteHomeConversionFactor': '0.828913838768',\n",
       "  'price': 1.05425,\n",
       "  'fullVWAP': 1.05425,\n",
       "  'fullPrice': {'type': 'PRICE',\n",
       "   'bids': [{'price': 1.05416, 'liquidity': '980000'},\n",
       "    {'price': 1.05414, 'liquidity': '2000000'},\n",
       "    {'price': 1.05413, 'liquidity': '2000000'},\n",
       "    {'price': 1.05411, 'liquidity': '5000000'}],\n",
       "   'asks': [{'price': 1.05425, 'liquidity': '1000000'},\n",
       "    {'price': 1.05428, 'liquidity': '2000000'},\n",
       "    {'price': 1.05429, 'liquidity': '2000000'},\n",
       "    {'price': 1.0543, 'liquidity': '5000000'}],\n",
       "   'closeoutBid': 1.05411,\n",
       "   'closeoutAsk': 1.0543},\n",
       "  'reason': 'MARKET_ORDER',\n",
       "  'pl': '1.6413',\n",
       "  'financing': '0.0',\n",
       "  'commission': '0.0',\n",
       "  'guaranteedExecutionFee': '0.0',\n",
       "  'accountBalance': '99993.4926',\n",
       "  'tradesClosed': [{'tradeID': '19',\n",
       "    'units': '10000.0',\n",
       "    'price': 1.05425,\n",
       "    'realizedPL': '1.6413',\n",
       "    'financing': '0.0',\n",
       "    'guaranteedExecutionFee': '0.0',\n",
       "    'halfSpreadCost': '0.3712'}],\n",
       "  'halfSpreadCost': '0.3712'}]"
      ]
     },
     "execution_count": 33,
     "metadata": {},
     "output_type": "execute_result"
    }
   ],
   "source": [
    "api.get_transactions(tid=int(oo['id']) - 2)"
   ]
  },
  {
   "cell_type": "code",
   "execution_count": 34,
   "metadata": {},
   "outputs": [
    {
     "data": {
      "text/plain": [
       "[{'id': '1',\n",
       "  'time': '2023-10-07T22:17:16.949066248Z',\n",
       "  'userID': 27068029,\n",
       "  'accountID': '101-004-27068029-001',\n",
       "  'batchID': '1',\n",
       "  'requestID': '1772527600983438485',\n",
       "  'type': 'CREATE',\n",
       "  'divisionID': 4,\n",
       "  'siteID': 101,\n",
       "  'accountUserID': 27068029,\n",
       "  'accountNumber': 1,\n",
       "  'homeCurrency': 'GBP'},\n",
       " {'id': '2',\n",
       "  'time': '2023-10-07T22:17:16.949066248Z',\n",
       "  'userID': 27068029,\n",
       "  'accountID': '101-004-27068029-001',\n",
       "  'batchID': '1',\n",
       "  'requestID': '1772527600983438485',\n",
       "  'type': 'CLIENT_CONFIGURE',\n",
       "  'alias': 'Primary',\n",
       "  'marginRate': '0.03333333333333'},\n",
       " {'id': '3',\n",
       "  'time': '2023-10-07T22:17:20.114036360Z',\n",
       "  'userID': 27068029,\n",
       "  'accountID': '101-004-27068029-001',\n",
       "  'batchID': '3',\n",
       "  'requestID': '1790541999509706562',\n",
       "  'type': 'TRANSFER_FUNDS',\n",
       "  'amount': '100000.0',\n",
       "  'fundingReason': 'CLIENT_FUNDING',\n",
       "  'accountBalance': '100000.0'},\n",
       " {'id': '4',\n",
       "  'time': '2023-11-01T14:00:11.305389207Z',\n",
       "  'userID': 27068029,\n",
       "  'accountID': '101-004-27068029-001',\n",
       "  'batchID': '4',\n",
       "  'requestID': '79183075691217905',\n",
       "  'type': 'MARKET_ORDER',\n",
       "  'instrument': 'EUR_USD',\n",
       "  'units': '1000.0',\n",
       "  'timeInForce': 'FOK',\n",
       "  'positionFill': 'DEFAULT',\n",
       "  'reason': 'CLIENT_ORDER'},\n",
       " {'id': '5',\n",
       "  'time': '2023-11-01T14:00:11.305389207Z',\n",
       "  'userID': 27068029,\n",
       "  'accountID': '101-004-27068029-001',\n",
       "  'batchID': '4',\n",
       "  'requestID': '79183075691217905',\n",
       "  'type': 'ORDER_FILL',\n",
       "  'orderID': '4',\n",
       "  'instrument': 'EUR_USD',\n",
       "  'units': '1000.0',\n",
       "  'gainQuoteHomeConversionFactor': '0.82041895465',\n",
       "  'lossQuoteHomeConversionFactor': '0.82866437128',\n",
       "  'price': 1.05446,\n",
       "  'fullVWAP': 1.05446,\n",
       "  'fullPrice': {'type': 'PRICE',\n",
       "   'bids': [{'price': 1.05438, 'liquidity': '1000000'},\n",
       "    {'price': 1.05436, 'liquidity': '2000000'},\n",
       "    {'price': 1.05435, 'liquidity': '2000000'},\n",
       "    {'price': 1.05433, 'liquidity': '5000000'}],\n",
       "   'asks': [{'price': 1.05446, 'liquidity': '1000000'},\n",
       "    {'price': 1.05449, 'liquidity': '2000000'},\n",
       "    {'price': 1.0545, 'liquidity': '2000000'},\n",
       "    {'price': 1.05451, 'liquidity': '5000000'}],\n",
       "   'closeoutBid': 1.05433,\n",
       "   'closeoutAsk': 1.05451},\n",
       "  'reason': 'MARKET_ORDER',\n",
       "  'pl': '0.0',\n",
       "  'financing': '0.0',\n",
       "  'commission': '0.0',\n",
       "  'guaranteedExecutionFee': '0.0',\n",
       "  'accountBalance': '100000.0',\n",
       "  'tradeOpened': {'tradeID': '5',\n",
       "   'units': '1000.0',\n",
       "   'price': 1.05446,\n",
       "   'guaranteedExecutionFee': '0.0',\n",
       "   'halfSpreadCost': '0.033',\n",
       "   'initialMarginRequired': '28.9773'},\n",
       "  'halfSpreadCost': '0.033'},\n",
       " {'id': '6',\n",
       "  'time': '2023-11-01T14:00:11.456374511Z',\n",
       "  'userID': 27068029,\n",
       "  'accountID': '101-004-27068029-001',\n",
       "  'batchID': '6',\n",
       "  'requestID': '79183075691218141',\n",
       "  'type': 'MARKET_ORDER',\n",
       "  'instrument': 'EUR_USD',\n",
       "  'units': '-1500.0',\n",
       "  'timeInForce': 'FOK',\n",
       "  'positionFill': 'DEFAULT',\n",
       "  'reason': 'CLIENT_ORDER'},\n",
       " {'id': '7',\n",
       "  'time': '2023-11-01T14:00:11.456374511Z',\n",
       "  'userID': 27068029,\n",
       "  'accountID': '101-004-27068029-001',\n",
       "  'batchID': '6',\n",
       "  'requestID': '79183075691218141',\n",
       "  'type': 'ORDER_FILL',\n",
       "  'orderID': '6',\n",
       "  'instrument': 'EUR_USD',\n",
       "  'units': '-1500.0',\n",
       "  'gainQuoteHomeConversionFactor': '0.820222823465',\n",
       "  'lossQuoteHomeConversionFactor': '0.828466268927',\n",
       "  'price': 1.05479,\n",
       "  'fullVWAP': 1.05479,\n",
       "  'fullPrice': {'type': 'PRICE',\n",
       "   'bids': [{'price': 1.05479, 'liquidity': '1000000'},\n",
       "    {'price': 1.05477, 'liquidity': '2000000'},\n",
       "    {'price': 1.05476, 'liquidity': '2000000'},\n",
       "    {'price': 1.05474, 'liquidity': '5000000'}],\n",
       "   'asks': [{'price': 1.05494, 'liquidity': '999000'},\n",
       "    {'price': 1.05497, 'liquidity': '2000000'},\n",
       "    {'price': 1.05498, 'liquidity': '2000000'},\n",
       "    {'price': 1.05499, 'liquidity': '5000000'}],\n",
       "   'closeoutBid': 1.05474,\n",
       "   'closeoutAsk': 1.05499},\n",
       "  'reason': 'MARKET_ORDER',\n",
       "  'pl': '0.2707',\n",
       "  'financing': '0.0',\n",
       "  'commission': '0.0',\n",
       "  'guaranteedExecutionFee': '0.0',\n",
       "  'accountBalance': '100000.2707',\n",
       "  'tradeOpened': {'tradeID': '7',\n",
       "   'units': '-500.0',\n",
       "   'price': 1.05479,\n",
       "   'guaranteedExecutionFee': '0.0',\n",
       "   'halfSpreadCost': '0.0309',\n",
       "   'initialMarginRequired': '14.49'},\n",
       "  'tradesClosed': [{'tradeID': '5',\n",
       "    'units': '-1000.0',\n",
       "    'price': 1.05479,\n",
       "    'realizedPL': '0.2707',\n",
       "    'financing': '0.0',\n",
       "    'guaranteedExecutionFee': '0.0',\n",
       "    'halfSpreadCost': '0.0618'}],\n",
       "  'halfSpreadCost': '0.0927'},\n",
       " {'id': '8',\n",
       "  'time': '2023-11-01T14:00:11.588466330Z',\n",
       "  'userID': 27068029,\n",
       "  'accountID': '101-004-27068029-001',\n",
       "  'batchID': '8',\n",
       "  'requestID': '79183075691218365',\n",
       "  'type': 'MARKET_ORDER',\n",
       "  'instrument': 'EUR_USD',\n",
       "  'units': '500.0',\n",
       "  'timeInForce': 'FOK',\n",
       "  'positionFill': 'DEFAULT',\n",
       "  'reason': 'CLIENT_ORDER'},\n",
       " {'id': '9',\n",
       "  'time': '2023-11-01T14:00:11.588466330Z',\n",
       "  'userID': 27068029,\n",
       "  'accountID': '101-004-27068029-001',\n",
       "  'batchID': '8',\n",
       "  'requestID': '79183075691218365',\n",
       "  'type': 'ORDER_FILL',\n",
       "  'orderID': '8',\n",
       "  'instrument': 'EUR_USD',\n",
       "  'units': '500.0',\n",
       "  'gainQuoteHomeConversionFactor': '0.819817338186',\n",
       "  'lossQuoteHomeConversionFactor': '0.828056708419',\n",
       "  'price': 1.05531,\n",
       "  'fullVWAP': 1.05531,\n",
       "  'fullPrice': {'type': 'PRICE',\n",
       "   'bids': [{'price': 1.05509, 'liquidity': '998500'},\n",
       "    {'price': 1.05507, 'liquidity': '2000000'},\n",
       "    {'price': 1.05506, 'liquidity': '2000000'},\n",
       "    {'price': 1.05504, 'liquidity': '5000000'}],\n",
       "   'asks': [{'price': 1.05531, 'liquidity': '999000'},\n",
       "    {'price': 1.05534, 'liquidity': '2000000'},\n",
       "    {'price': 1.05535, 'liquidity': '2000000'},\n",
       "    {'price': 1.05536, 'liquidity': '5000000'}],\n",
       "   'closeoutBid': 1.05504,\n",
       "   'closeoutAsk': 1.05536},\n",
       "  'reason': 'MARKET_ORDER',\n",
       "  'pl': '-0.2153',\n",
       "  'financing': '0.0',\n",
       "  'commission': '0.0',\n",
       "  'guaranteedExecutionFee': '0.0',\n",
       "  'accountBalance': '100000.0554',\n",
       "  'tradesClosed': [{'tradeID': '7',\n",
       "    'units': '500.0',\n",
       "    'price': 1.05531,\n",
       "    'realizedPL': '-0.2153',\n",
       "    'financing': '0.0',\n",
       "    'guaranteedExecutionFee': '0.0',\n",
       "    'halfSpreadCost': '0.0453'}],\n",
       "  'halfSpreadCost': '0.0453'},\n",
       " {'id': '10',\n",
       "  'time': '2023-11-01T14:01:30.690980077Z',\n",
       "  'userID': 27068029,\n",
       "  'accountID': '101-004-27068029-001',\n",
       "  'batchID': '10',\n",
       "  'requestID': '25139880496318393',\n",
       "  'type': 'MARKET_ORDER',\n",
       "  'instrument': 'EUR_USD',\n",
       "  'units': '-10000.0',\n",
       "  'timeInForce': 'FOK',\n",
       "  'positionFill': 'DEFAULT',\n",
       "  'reason': 'CLIENT_ORDER'},\n",
       " {'id': '11',\n",
       "  'time': '2023-11-01T14:01:30.690980077Z',\n",
       "  'userID': 27068029,\n",
       "  'accountID': '101-004-27068029-001',\n",
       "  'batchID': '10',\n",
       "  'requestID': '25139880496318393',\n",
       "  'type': 'ORDER_FILL',\n",
       "  'orderID': '10',\n",
       "  'instrument': 'EUR_USD',\n",
       "  'units': '-10000.0',\n",
       "  'gainQuoteHomeConversionFactor': '0.820723478968',\n",
       "  'lossQuoteHomeConversionFactor': '0.828971956144',\n",
       "  'price': 1.05424,\n",
       "  'fullVWAP': 1.05424,\n",
       "  'fullPrice': {'type': 'PRICE',\n",
       "   'bids': [{'price': 1.05424, 'liquidity': '1000000'},\n",
       "    {'price': 1.05422, 'liquidity': '2000000'},\n",
       "    {'price': 1.05421, 'liquidity': '2000000'},\n",
       "    {'price': 1.05419, 'liquidity': '5000000'}],\n",
       "   'asks': [{'price': 1.05435, 'liquidity': '1000000'},\n",
       "    {'price': 1.05438, 'liquidity': '2000000'},\n",
       "    {'price': 1.05439, 'liquidity': '2000000'},\n",
       "    {'price': 1.0544, 'liquidity': '5000000'}],\n",
       "   'closeoutBid': 1.05419,\n",
       "   'closeoutAsk': 1.0544},\n",
       "  'reason': 'MARKET_ORDER',\n",
       "  'pl': '0.0',\n",
       "  'financing': '0.0',\n",
       "  'commission': '0.0',\n",
       "  'guaranteedExecutionFee': '0.0',\n",
       "  'accountBalance': '100000.0554',\n",
       "  'tradeOpened': {'tradeID': '11',\n",
       "   'units': '-10000.0',\n",
       "   'price': 1.05424,\n",
       "   'guaranteedExecutionFee': '0.0',\n",
       "   'halfSpreadCost': '0.4537',\n",
       "   'initialMarginRequired': '289.8833'},\n",
       "  'halfSpreadCost': '0.4537'},\n",
       " {'id': '12',\n",
       "  'time': '2023-11-01T14:02:30.481943380Z',\n",
       "  'userID': 27068029,\n",
       "  'accountID': '101-004-27068029-001',\n",
       "  'batchID': '12',\n",
       "  'requestID': '25139880748082784',\n",
       "  'type': 'MARKET_ORDER',\n",
       "  'instrument': 'EUR_USD',\n",
       "  'units': '20000.0',\n",
       "  'timeInForce': 'FOK',\n",
       "  'positionFill': 'DEFAULT',\n",
       "  'reason': 'CLIENT_ORDER'},\n",
       " {'id': '13',\n",
       "  'time': '2023-11-01T14:02:30.481943380Z',\n",
       "  'userID': 27068029,\n",
       "  'accountID': '101-004-27068029-001',\n",
       "  'batchID': '12',\n",
       "  'requestID': '25139880748082784',\n",
       "  'type': 'ORDER_FILL',\n",
       "  'orderID': '12',\n",
       "  'instrument': 'EUR_USD',\n",
       "  'units': '20000.0',\n",
       "  'gainQuoteHomeConversionFactor': '0.820459544835',\n",
       "  'lossQuoteHomeConversionFactor': '0.828705369406',\n",
       "  'price': 1.05455,\n",
       "  'fullVWAP': 1.05455,\n",
       "  'fullPrice': {'type': 'PRICE',\n",
       "   'bids': [{'price': 1.05445, 'liquidity': '1000000'},\n",
       "    {'price': 1.05443, 'liquidity': '2000000'},\n",
       "    {'price': 1.05442, 'liquidity': '2000000'},\n",
       "    {'price': 1.0544, 'liquidity': '5000000'}],\n",
       "   'asks': [{'price': 1.05455, 'liquidity': '1000000'},\n",
       "    {'price': 1.05458, 'liquidity': '2000000'},\n",
       "    {'price': 1.05459, 'liquidity': '2000000'},\n",
       "    {'price': 1.0546, 'liquidity': '5000000'}],\n",
       "   'closeoutBid': 1.0544,\n",
       "   'closeoutAsk': 1.0546},\n",
       "  'reason': 'MARKET_ORDER',\n",
       "  'pl': '-2.569',\n",
       "  'financing': '0.0',\n",
       "  'commission': '0.0',\n",
       "  'guaranteedExecutionFee': '0.0',\n",
       "  'accountBalance': '99997.4864',\n",
       "  'tradeOpened': {'tradeID': '13',\n",
       "   'units': '10000.0',\n",
       "   'price': 1.05455,\n",
       "   'guaranteedExecutionFee': '0.0',\n",
       "   'halfSpreadCost': '0.4123',\n",
       "   'initialMarginRequired': '289.8467'},\n",
       "  'tradesClosed': [{'tradeID': '11',\n",
       "    'units': '10000.0',\n",
       "    'price': 1.05455,\n",
       "    'realizedPL': '-2.569',\n",
       "    'financing': '0.0',\n",
       "    'guaranteedExecutionFee': '0.0',\n",
       "    'halfSpreadCost': '0.4123'}],\n",
       "  'halfSpreadCost': '0.8246'},\n",
       " {'id': '14',\n",
       "  'time': '2023-11-01T14:02:40.602121979Z',\n",
       "  'userID': 27068029,\n",
       "  'accountID': '101-004-27068029-001',\n",
       "  'batchID': '14',\n",
       "  'requestID': '25139880790043769',\n",
       "  'type': 'MARKET_ORDER',\n",
       "  'instrument': 'EUR_USD',\n",
       "  'units': '-20000.0',\n",
       "  'timeInForce': 'FOK',\n",
       "  'positionFill': 'DEFAULT',\n",
       "  'reason': 'CLIENT_ORDER'},\n",
       " {'id': '15',\n",
       "  'time': '2023-11-01T14:02:40.602121979Z',\n",
       "  'userID': 27068029,\n",
       "  'accountID': '101-004-27068029-001',\n",
       "  'batchID': '14',\n",
       "  'requestID': '25139880790043769',\n",
       "  'type': 'ORDER_FILL',\n",
       "  'orderID': '14',\n",
       "  'instrument': 'EUR_USD',\n",
       "  'units': '-20000.0',\n",
       "  'gainQuoteHomeConversionFactor': '0.82057457329',\n",
       "  'lossQuoteHomeConversionFactor': '0.828821553926',\n",
       "  'price': 1.05427,\n",
       "  'fullVWAP': 1.05427,\n",
       "  'fullPrice': {'type': 'PRICE',\n",
       "   'bids': [{'price': 1.05427, 'liquidity': '1000000'},\n",
       "    {'price': 1.05425, 'liquidity': '2000000'},\n",
       "    {'price': 1.05424, 'liquidity': '2000000'},\n",
       "    {'price': 1.05422, 'liquidity': '5000000'}],\n",
       "   'asks': [{'price': 1.05436, 'liquidity': '1000000'},\n",
       "    {'price': 1.05439, 'liquidity': '2000000'},\n",
       "    {'price': 1.0544, 'liquidity': '2000000'},\n",
       "    {'price': 1.05441, 'liquidity': '5000000'}],\n",
       "   'closeoutBid': 1.05422,\n",
       "   'closeoutAsk': 1.05441},\n",
       "  'reason': 'MARKET_ORDER',\n",
       "  'pl': '-2.3207',\n",
       "  'financing': '0.0',\n",
       "  'commission': '0.0',\n",
       "  'guaranteedExecutionFee': '0.0',\n",
       "  'accountBalance': '99995.1657',\n",
       "  'tradeOpened': {'tradeID': '15',\n",
       "   'units': '-10000.0',\n",
       "   'price': 1.05427,\n",
       "   'guaranteedExecutionFee': '0.0',\n",
       "   'halfSpreadCost': '0.3711',\n",
       "   'initialMarginRequired': '289.8333'},\n",
       "  'tradesClosed': [{'tradeID': '13',\n",
       "    'units': '-10000.0',\n",
       "    'price': 1.05427,\n",
       "    'realizedPL': '-2.3207',\n",
       "    'financing': '0.0',\n",
       "    'guaranteedExecutionFee': '0.0',\n",
       "    'halfSpreadCost': '0.3711'}],\n",
       "  'halfSpreadCost': '0.7422'},\n",
       " {'id': '16',\n",
       "  'time': '2023-11-01T14:03:10.455316585Z',\n",
       "  'userID': 27068029,\n",
       "  'accountID': '101-004-27068029-001',\n",
       "  'batchID': '16',\n",
       "  'requestID': '25139880915927466',\n",
       "  'type': 'MARKET_ORDER',\n",
       "  'instrument': 'EUR_USD',\n",
       "  'units': '20000.0',\n",
       "  'timeInForce': 'FOK',\n",
       "  'positionFill': 'DEFAULT',\n",
       "  'reason': 'CLIENT_ORDER'},\n",
       " {'id': '17',\n",
       "  'time': '2023-11-01T14:03:10.455316585Z',\n",
       "  'userID': 27068029,\n",
       "  'accountID': '101-004-27068029-001',\n",
       "  'batchID': '16',\n",
       "  'requestID': '25139880915927466',\n",
       "  'type': 'ORDER_FILL',\n",
       "  'orderID': '16',\n",
       "  'instrument': 'EUR_USD',\n",
       "  'units': '20000.0',\n",
       "  'gainQuoteHomeConversionFactor': '0.820314115803',\n",
       "  'lossQuoteHomeConversionFactor': '0.828558478776',\n",
       "  'price': 1.05456,\n",
       "  'fullVWAP': 1.05456,\n",
       "  'fullPrice': {'type': 'PRICE',\n",
       "   'bids': [{'price': 1.05446, 'liquidity': '1000000'},\n",
       "    {'price': 1.05444, 'liquidity': '2000000'},\n",
       "    {'price': 1.05443, 'liquidity': '2000000'},\n",
       "    {'price': 1.05441, 'liquidity': '5000000'}],\n",
       "   'asks': [{'price': 1.05456, 'liquidity': '1000000'},\n",
       "    {'price': 1.05459, 'liquidity': '2000000'},\n",
       "    {'price': 1.0546, 'liquidity': '2000000'},\n",
       "    {'price': 1.05461, 'liquidity': '5000000'}],\n",
       "   'closeoutBid': 1.05441,\n",
       "   'closeoutAsk': 1.05461},\n",
       "  'reason': 'MARKET_ORDER',\n",
       "  'pl': '-2.4028',\n",
       "  'financing': '0.0',\n",
       "  'commission': '0.0',\n",
       "  'guaranteedExecutionFee': '0.0',\n",
       "  'accountBalance': '99992.7629',\n",
       "  'tradeOpened': {'tradeID': '17',\n",
       "   'units': '10000.0',\n",
       "   'price': 1.05456,\n",
       "   'guaranteedExecutionFee': '0.0',\n",
       "   'halfSpreadCost': '0.4122',\n",
       "   'initialMarginRequired': '289.8'},\n",
       "  'tradesClosed': [{'tradeID': '15',\n",
       "    'units': '10000.0',\n",
       "    'price': 1.05456,\n",
       "    'realizedPL': '-2.4028',\n",
       "    'financing': '0.0',\n",
       "    'guaranteedExecutionFee': '0.0',\n",
       "    'halfSpreadCost': '0.4122'}],\n",
       "  'halfSpreadCost': '0.8244'},\n",
       " {'id': '18',\n",
       "  'time': '2023-11-01T14:03:30.444813085Z',\n",
       "  'userID': 27068029,\n",
       "  'accountID': '101-004-27068029-001',\n",
       "  'batchID': '18',\n",
       "  'requestID': '25139880999849996',\n",
       "  'type': 'MARKET_ORDER',\n",
       "  'instrument': 'EUR_USD',\n",
       "  'units': '-20000.0',\n",
       "  'timeInForce': 'FOK',\n",
       "  'positionFill': 'DEFAULT',\n",
       "  'reason': 'CLIENT_ORDER'},\n",
       " {'id': '19',\n",
       "  'time': '2023-11-01T14:03:30.444813085Z',\n",
       "  'userID': 27068029,\n",
       "  'accountID': '101-004-27068029-001',\n",
       "  'batchID': '18',\n",
       "  'requestID': '25139880999849996',\n",
       "  'type': 'ORDER_FILL',\n",
       "  'orderID': '18',\n",
       "  'instrument': 'EUR_USD',\n",
       "  'units': '-20000.0',\n",
       "  'gainQuoteHomeConversionFactor': '0.820496755517',\n",
       "  'lossQuoteHomeConversionFactor': '0.828742954065',\n",
       "  'price': 1.05445,\n",
       "  'fullVWAP': 1.05445,\n",
       "  'fullPrice': {'type': 'PRICE',\n",
       "   'bids': [{'price': 1.05445, 'liquidity': '1000000'},\n",
       "    {'price': 1.05443, 'liquidity': '2000000'},\n",
       "    {'price': 1.05442, 'liquidity': '2000000'},\n",
       "    {'price': 1.0544, 'liquidity': '5000000'}],\n",
       "   'asks': [{'price': 1.05453, 'liquidity': '1000000'},\n",
       "    {'price': 1.05456, 'liquidity': '2000000'},\n",
       "    {'price': 1.05457, 'liquidity': '2000000'},\n",
       "    {'price': 1.05458, 'liquidity': '5000000'}],\n",
       "   'closeoutBid': 1.0544,\n",
       "   'closeoutAsk': 1.05458},\n",
       "  'reason': 'MARKET_ORDER',\n",
       "  'pl': '-0.9116',\n",
       "  'financing': '0.0',\n",
       "  'commission': '0.0',\n",
       "  'guaranteedExecutionFee': '0.0',\n",
       "  'accountBalance': '99991.8513',\n",
       "  'tradeOpened': {'tradeID': '19',\n",
       "   'units': '-10000.0',\n",
       "   'price': 1.05445,\n",
       "   'guaranteedExecutionFee': '0.0',\n",
       "   'halfSpreadCost': '0.3298',\n",
       "   'initialMarginRequired': '289.8467'},\n",
       "  'tradesClosed': [{'tradeID': '17',\n",
       "    'units': '-10000.0',\n",
       "    'price': 1.05445,\n",
       "    'realizedPL': '-0.9116',\n",
       "    'financing': '0.0',\n",
       "    'guaranteedExecutionFee': '0.0',\n",
       "    'halfSpreadCost': '0.3298'}],\n",
       "  'halfSpreadCost': '0.6596'},\n",
       " {'id': '20',\n",
       "  'time': '2023-11-01T14:03:33.897254551Z',\n",
       "  'userID': 27068029,\n",
       "  'accountID': '101-004-27068029-001',\n",
       "  'batchID': '20',\n",
       "  'requestID': '25139881012439307',\n",
       "  'type': 'MARKET_ORDER',\n",
       "  'instrument': 'EUR_USD',\n",
       "  'units': '10000.0',\n",
       "  'timeInForce': 'FOK',\n",
       "  'positionFill': 'DEFAULT',\n",
       "  'reason': 'CLIENT_ORDER'},\n",
       " {'id': '21',\n",
       "  'time': '2023-11-01T14:03:33.897254551Z',\n",
       "  'userID': 27068029,\n",
       "  'accountID': '101-004-27068029-001',\n",
       "  'batchID': '20',\n",
       "  'requestID': '25139881012439307',\n",
       "  'type': 'ORDER_FILL',\n",
       "  'orderID': '20',\n",
       "  'instrument': 'EUR_USD',\n",
       "  'units': '10000.0',\n",
       "  'gainQuoteHomeConversionFactor': '0.820665939875',\n",
       "  'lossQuoteHomeConversionFactor': '0.828913838768',\n",
       "  'price': 1.05425,\n",
       "  'fullVWAP': 1.05425,\n",
       "  'fullPrice': {'type': 'PRICE',\n",
       "   'bids': [{'price': 1.05416, 'liquidity': '980000'},\n",
       "    {'price': 1.05414, 'liquidity': '2000000'},\n",
       "    {'price': 1.05413, 'liquidity': '2000000'},\n",
       "    {'price': 1.05411, 'liquidity': '5000000'}],\n",
       "   'asks': [{'price': 1.05425, 'liquidity': '1000000'},\n",
       "    {'price': 1.05428, 'liquidity': '2000000'},\n",
       "    {'price': 1.05429, 'liquidity': '2000000'},\n",
       "    {'price': 1.0543, 'liquidity': '5000000'}],\n",
       "   'closeoutBid': 1.05411,\n",
       "   'closeoutAsk': 1.0543},\n",
       "  'reason': 'MARKET_ORDER',\n",
       "  'pl': '1.6413',\n",
       "  'financing': '0.0',\n",
       "  'commission': '0.0',\n",
       "  'guaranteedExecutionFee': '0.0',\n",
       "  'accountBalance': '99993.4926',\n",
       "  'tradesClosed': [{'tradeID': '19',\n",
       "    'units': '10000.0',\n",
       "    'price': 1.05425,\n",
       "    'realizedPL': '1.6413',\n",
       "    'financing': '0.0',\n",
       "    'guaranteedExecutionFee': '0.0',\n",
       "    'halfSpreadCost': '0.3712'}],\n",
       "  'halfSpreadCost': '0.3712'}]"
      ]
     },
     "execution_count": 34,
     "metadata": {},
     "output_type": "execute_result"
    }
   ],
   "source": [
    "api.get_transactions()"
   ]
  }
 ],
 "metadata": {
  "kernelspec": {
   "display_name": "Python 3 (ipykernel)",
   "language": "python",
   "name": "python3"
  }
 },
 "nbformat": 4,
 "nbformat_minor": 2
}
