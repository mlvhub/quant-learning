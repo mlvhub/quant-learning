{
 "cells": [
  {
   "cell_type": "markdown",
   "metadata": {},
   "source": [
    "When it comes to vectorized backtesting, potential shortcomings of the approach are the following:\n",
    "\n",
    "- Look-ahead bias: vectorized backtesting is based on the complete data set available and does not take into account that new data arrives incrementally\n",
    "- Simplification: for example, fixed transaction costs cannot be modeled by vectorization, which is mainly based on relative returns. Also, fixed amounts per trade or the non-divisibility of single financial instruments (for example, a share of a stock) cannot be modeled properly\n",
    "- Non-recursiveness: algorithms, embodying trading strategies, might take recurse to state variables over time, like profit and loss up to a certain point in time or similar path-dependent statistics. Vectorization cannot cope with such features"
   ]
  }
 ],
 "metadata": {
  "language_info": {
   "name": "python"
  },
  "orig_nbformat": 4
 },
 "nbformat": 4,
 "nbformat_minor": 2
}
