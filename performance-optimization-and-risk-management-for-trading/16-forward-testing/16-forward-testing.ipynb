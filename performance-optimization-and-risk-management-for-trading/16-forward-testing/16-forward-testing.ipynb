{
 "cells": [
  {
   "cell_type": "markdown",
   "metadata": {},
   "source": [
    "# Forward Testing"
   ]
  },
  {
   "cell_type": "code",
   "execution_count": null,
   "metadata": {},
   "outputs": [],
   "source": [
    "import pandas as pd\n",
    "import numpy as np\n",
    "import matplotlib.pyplot as plt\n",
    "from itertools import product\n",
    "import seaborn as sns\n",
    "plt.style.use(\"seaborn-v0_8\")"
   ]
  },
  {
   "cell_type": "code",
   "execution_count": null,
   "metadata": {},
   "outputs": [],
   "source": [
    "# Version 6.0 (Leverage)\n",
    "\n",
    "class ConBacktester():\n",
    "    ''' Class for the vectorized backtesting of simple contrarian trading strategies.\n",
    "    \n",
    "    Attributes\n",
    "    ============\n",
    "    filepath: str\n",
    "        local filepath of the dataset (csv-file)\n",
    "    symbol: str\n",
    "        ticker symbol (instrument) to be backtested\n",
    "    start: str\n",
    "        start date for data import\n",
    "    end: str\n",
    "        end date for data import\n",
    "    tc: float\n",
    "        proportional trading costs per trade\n",
    "    \n",
    "    \n",
    "    Methods\n",
    "    =======\n",
    "    get_data:\n",
    "        imports the data.\n",
    "        \n",
    "    test_strategy:\n",
    "        prepares the data and backtests the trading strategy incl. reporting (wrapper).\n",
    "        \n",
    "    prepare_data:\n",
    "        prepares the data for backtesting.\n",
    "    \n",
    "    run_backtest:\n",
    "        runs the strategy backtest.\n",
    "        \n",
    "    upsample:\n",
    "        upsamples/copies trading positions back to higher frequency.\n",
    "        \n",
    "    plot_results:\n",
    "        plots the cumulative performance of the trading strategy compared to buy-and-hold.\n",
    "        \n",
    "    optimize_strategy:\n",
    "        backtests strategy for different parameter values incl. optimization and reporting (wrapper).\n",
    "    \n",
    "    find_best_strategy:\n",
    "        finds the optimal strategy (global maximum) given the parameter ranges.\n",
    "        \n",
    "    visualize_many:\n",
    "        plots parameter values vs. performance. \n",
    "        \n",
    "    add_sessions:\n",
    "        adds/labels trading sessions and their compound returns.\n",
    "    \n",
    "    add_stop_loss:\n",
    "        adds stop loss to the strategy.\n",
    "    \n",
    "    add_take_profit: \n",
    "        adds take profit to the strategy.\n",
    "        \n",
    "    add_leverage:\n",
    "        adds leverage to the strategy.\n",
    "        \n",
    "    print_performance:\n",
    "        calculates and prints various performance metrics.\n",
    "        \n",
    "    '''    \n",
    "    \n",
    "    def __init__(self, filepath, symbol, start, end, tc):\n",
    "        \n",
    "        self.filepath = filepath\n",
    "        self.symbol = symbol\n",
    "        self.start = start\n",
    "        self.end = end\n",
    "        self.tc = tc\n",
    "        self.results = None\n",
    "        self.get_data()\n",
    "        self.tp_year = (self.data.price.count() / ((self.data.index[-1] - self.data.index[0]).days / 365.25))\n",
    "        \n",
    "    def __repr__(self):\n",
    "        return \"ConBacktester(symbol = {}, start = {}, end = {})\".format(self.symbol, self.start, self.end)\n",
    "        \n",
    "    def get_data(self):\n",
    "        ''' Imports the data.\n",
    "        '''\n",
    "        raw = pd.read_csv(self.filepath, parse_dates = [\"time\"], index_col = \"time\")\n",
    "        raw = raw[self.symbol].to_frame().fillna(method = \"ffill\")\n",
    "        raw = raw.loc[self.start:self.end].copy()\n",
    "        raw.rename(columns={self.symbol: \"price\"}, inplace=True)\n",
    "        raw[\"returns\"] = np.log(raw.price / raw.price.shift(1))\n",
    "        self.data = raw\n",
    "        \n",
    "    def test_strategy(self, freq = 60, window = 1): \n",
    "        '''\n",
    "        Prepares the data and backtests the trading strategy incl. reporting (Wrapper).\n",
    "         \n",
    "        Parameters\n",
    "        ============\n",
    "        freq: int\n",
    "            data frequency/granularity to work with (in minutes)\n",
    "        \n",
    "        window: int\n",
    "            time window (number of bars) to be considered for the strategy.\n",
    "        '''\n",
    "        self.freq = \"{}min\".format(freq) \n",
    "        self.window = window\n",
    "                                \n",
    "        self.prepare_data(freq, window) \n",
    "        self.upsample() \n",
    "        self.run_backtest()\n",
    "        \n",
    "        data = self.results.copy()\n",
    "        data[\"creturns\"] = data[\"returns\"].cumsum().apply(np.exp)\n",
    "        data[\"cstrategy\"] = data[\"strategy\"].cumsum().apply(np.exp)\n",
    "        self.results = data\n",
    "        \n",
    "        self.print_performance()\n",
    "    \n",
    "    def prepare_data(self, freq, window): \n",
    "        ''' Prepares the Data for Backtesting.\n",
    "        '''\n",
    "        data = self.data.price.to_frame().copy()\n",
    "        freq = \"{}min\".format(freq)\n",
    "        resamp = data.resample(freq).last().dropna().iloc[:-1]\n",
    "        resamp[\"returns\"] = np.log(resamp / resamp.shift(1))\n",
    "        resamp[\"roll_return\"] = resamp[\"returns\"].rolling(window).mean()\n",
    "        resamp[\"position\"] = -np.sign(resamp[\"roll_return\"])\n",
    "        resamp.dropna(inplace = True)\n",
    "        self.results = resamp\n",
    "        return resamp \n",
    "    \n",
    "    def run_backtest(self):\n",
    "        ''' Runs the strategy backtest.\n",
    "        '''\n",
    "        \n",
    "        data = self.results.copy()\n",
    "        data[\"strategy\"] = data[\"position\"].shift(1) * data[\"returns\"]\n",
    "        \n",
    "        # determine the number of trades in each bar\n",
    "        data[\"trades\"] = data.position.diff().fillna(0).abs()\n",
    "        \n",
    "        # subtract transaction/trading costs from pre-cost return\n",
    "        data.strategy = data.strategy - data.trades * self.tc\n",
    "        \n",
    "        self.results = data\n",
    "        \n",
    "    def upsample(self):\n",
    "        '''  Upsamples/copies trading positions back to higher frequency.\n",
    "        '''\n",
    "        \n",
    "        data = self.data.copy()\n",
    "        resamp = self.results.copy()\n",
    "               \n",
    "        data[\"position\"] = resamp.position.shift()\n",
    "        data = data.loc[resamp.index[0]:].copy()\n",
    "        data.position = data.position.shift(-1).ffill()\n",
    "        data.dropna(inplace=True)\n",
    "        self.results = data\n",
    "            \n",
    "    def plot_results(self, leverage = False):\n",
    "        ''' Plots the performance of the trading strategy and compares to \"buy and hold\".\n",
    "        '''\n",
    "        if self.results is None:\n",
    "            print(\"Run test_strategy() first.\")\n",
    "        elif leverage:\n",
    "            title = \"{} | Window = {} | Frequency = {} | TC = {} | Leverage = {}\".format(self.symbol, self.window, self.freq, self.tc, self.leverage)\n",
    "            self.results[[\"creturns\", \"cstrategy\", \"cstrategy_levered\"]].plot(title=title, figsize=(12, 8))\n",
    "        else:\n",
    "            title = \"{} | Window = {} | Frequency = {} | TC = {}\".format(self.symbol, self.window, self.freq, self.tc)\n",
    "            self.results[[\"creturns\", \"cstrategy\"]].plot(title=title, figsize=(12, 8))\n",
    "            \n",
    "    def optimize_strategy(self, freq_range, window_range, metric = \"Multiple\"): \n",
    "        '''\n",
    "        Backtests strategy for different parameter values incl. Optimization and Reporting (Wrapper).\n",
    "         \n",
    "        Parameters\n",
    "        ============\n",
    "        freq_range: tuple\n",
    "            tuples of the form (start, end, step size).\n",
    "        \n",
    "        window_range: tuple\n",
    "            tuples of the form (start, end, step size).\n",
    "        \n",
    "        metric: str\n",
    "            performance metric to be optimized (can be: \"Multiple\", \"Sharpe\", \"Sortino\", \"Calmar\", \"Kelly\")\n",
    "        '''\n",
    "        \n",
    "        self.metric = metric\n",
    "        \n",
    "        if metric == \"Multiple\":\n",
    "            performance_function = self.calculate_multiple\n",
    "        elif metric == \"Sharpe\":\n",
    "            performance_function = self.calculate_sharpe\n",
    "        elif metric == \"Sortino\":\n",
    "            performance_function = self.calculate_sortino\n",
    "        elif metric == \"Calmar\": \n",
    "            performance_function = self.calculate_calmar\n",
    "        elif metric == \"Kelly\": \n",
    "            performance_function = self.calculate_kelly_criterion\n",
    "        \n",
    "        freqs = range(*freq_range)  \n",
    "        windows = range(*window_range)\n",
    "        \n",
    "        combinations = list(product(freqs, windows)) \n",
    "        \n",
    "        performance = []\n",
    "        for comb in combinations: \n",
    "            self.prepare_data(comb[0], comb[1])\n",
    "            self.upsample()\n",
    "            self.run_backtest()\n",
    "            performance.append(performance_function(self.results.strategy))\n",
    "    \n",
    "        self.results_overview =  pd.DataFrame(data = np.array(combinations), columns = [\"Freq\", \"Windows\"])\n",
    "        self.results_overview[\"Performance\"] = performance\n",
    "        self.find_best_strategy()\n",
    "        \n",
    "    def find_best_strategy(self):\n",
    "        ''' Finds the optimal strategy (global maximum) given the parameter ranges.\n",
    "        '''\n",
    "        best = self.results_overview.nlargest(1, \"Performance\")\n",
    "        freq = best.Freq.iloc[0] \n",
    "        window = best.Windows.iloc[0]\n",
    "        perf = best.Performance.iloc[0]\n",
    "        print(\"Frequency: {} | Windows: {} | {}: {}\".format(freq, window, self.metric, round(perf, 6))) \n",
    "        self.test_strategy(freq, window) \n",
    "        \n",
    "    def visualize_many(self):\n",
    "        ''' Plots parameter values vs. Performance.\n",
    "        '''\n",
    "\n",
    "        if self.results_overview is None:\n",
    "            print(\"Run optimize_strategy() first.\")\n",
    "        else: \n",
    "            matrix = self.results_overview.pivot(index = \"Freq\", columns = \"Windows\", values = \"Performance\")\n",
    "            \n",
    "            plt.figure(figsize=(12,8))\n",
    "            sns.set_theme(font_scale=1.5)\n",
    "            sns.heatmap(matrix, cmap = \"RdYlGn\", robust = True, cbar_kws = {\"label\": \"{}\".format(self.metric)})\n",
    "            plt.show()\n",
    "            \n",
    "    def add_sessions(self, visualize = False):\n",
    "        ''' \n",
    "        Adds/Labels Trading Sessions and their compound returns.\n",
    "        \n",
    "        Parameter\n",
    "        ============\n",
    "        visualize: bool, default False\n",
    "            if True, visualize compound session returns over time\n",
    "        '''\n",
    "        \n",
    "        if self.results is None:\n",
    "            print(\"Run test_strategy() first.\")\n",
    "            \n",
    "        data = self.results.copy()\n",
    "        data[\"session\"] = np.sign(data.trades).cumsum().shift().fillna(0)\n",
    "        data[\"session_compound\"] = data.groupby(\"session\").strategy.cumsum().apply(np.exp) - 1\n",
    "        self.results = data\n",
    "        if visualize:\n",
    "            data[\"session_compound\"].plot(figsize = (12, 8))\n",
    "            plt.show()\n",
    "    \n",
    "    def add_stop_loss(self, sl_thresh, report = True): \n",
    "        ''' \n",
    "        Adds Stop Loss to the Strategy.\n",
    "        \n",
    "        Parameter\n",
    "        ============\n",
    "        sl_thresh: float (negative)\n",
    "            maximum loss level in % (e.g. -0.02 for -2%)\n",
    "        \n",
    "        report: bool, default True\n",
    "            if True, print Performance Report incl. Stop Loss. \n",
    "        '''\n",
    "        \n",
    "        self.sl_thresh = sl_thresh\n",
    "        \n",
    "        if self.results is None:\n",
    "            print(\"Run test_strategy() first.\")\n",
    "        \n",
    "        self.add_sessions()\n",
    "        self.results = self.results.groupby(\"session\", group_keys = False).apply(self.define_sl_pos)\n",
    "        self.run_backtest()\n",
    "        data = self.results.copy()\n",
    "        data[\"creturns\"] = data[\"returns\"].cumsum().apply(np.exp)\n",
    "        data[\"cstrategy\"] = data[\"strategy\"].cumsum().apply(np.exp)\n",
    "        self.results = data\n",
    "        self.add_sessions()\n",
    "        \n",
    "        if report:\n",
    "            self.print_performance()\n",
    "            \n",
    "            \n",
    "    def add_take_profit(self, tp_thresh, report = True):\n",
    "        ''' \n",
    "        Adds Take Profit to the Strategy.\n",
    "        \n",
    "        Parameter\n",
    "        ============\n",
    "        tp_thresh: float (positive)\n",
    "            maximum profit level in % (e.g. 0.02 for 2%)\n",
    "        \n",
    "        report: bool, default True\n",
    "            if True, print Performance Report incl. Take Profit. \n",
    "        '''\n",
    "        self.tp_thresh = tp_thresh\n",
    "        \n",
    "        if self.results is None:\n",
    "            print(\"Run test_strategy() first.\")\n",
    "        \n",
    "        self.add_sessions()\n",
    "        self.results = self.results.groupby(\"session\", group_keys = False).apply(self.define_tp_pos)\n",
    "        self.run_backtest()\n",
    "        data = self.results.copy()\n",
    "        data[\"creturns\"] = data[\"returns\"].cumsum().apply(np.exp)\n",
    "        data[\"cstrategy\"] = data[\"strategy\"].cumsum().apply(np.exp)\n",
    "        self.results = data\n",
    "        self.add_sessions()\n",
    "        \n",
    "        if report:\n",
    "            self.print_performance()\n",
    "        \n",
    "    def define_sl_pos(self, group):\n",
    "        if (group.session_compound <= self.sl_thresh).any():\n",
    "            start = group[group.session_compound <= self.sl_thresh].index[0]\n",
    "            stop = group.index[-2]\n",
    "            group.loc[start:stop, \"position\"] = 0\n",
    "            return group\n",
    "        else:\n",
    "            return group \n",
    "        \n",
    "    def define_tp_pos(self, group):\n",
    "        if (group.session_compound >= self.tp_thresh).any():\n",
    "            start = group[group.session_compound >= self.tp_thresh].index[0]\n",
    "            stop = group.index[-2]\n",
    "            group.loc[start:stop, \"position\"] = 0\n",
    "            return group\n",
    "        else:\n",
    "            return group\n",
    "        \n",
    "    def add_leverage(self, leverage, sl = -0.5, report = True):\n",
    "        ''' \n",
    "        Adds Leverage to the Strategy.\n",
    "        \n",
    "        Parameter\n",
    "        ============\n",
    "        leverage: float (positive)\n",
    "            degree of leverage.\n",
    "        \n",
    "        sl: float (negative), default -50% (regulatory)\n",
    "            maximum margin loss level in % (e.g. -0.2 for -20%).\n",
    "        \n",
    "        report: bool, default True\n",
    "            if True, print Performance Report incl. Leverage.\n",
    "        '''\n",
    "        \n",
    "        self.leverage = leverage\n",
    "        sl_thresh = sl / leverage\n",
    "        self.add_stop_loss(sl_thresh, report = False)\n",
    "        \n",
    "        data = self.results.copy()\n",
    "        data[\"simple_ret\"] = np.exp(data.strategy) - 1\n",
    "        data[\"eff_lev\"] = leverage * (1 + data.session_compound) / (1 + data.session_compound * leverage)\n",
    "        data.eff_lev.fillna(leverage, inplace = True)\n",
    "        data.loc[data.trades !=0, \"eff_lev\"] = leverage\n",
    "        levered_returns = data.eff_lev.shift() * data.simple_ret\n",
    "        levered_returns = np.where(levered_returns < -1, -1, levered_returns)\n",
    "        data[\"strategy_levered\"] = levered_returns\n",
    "        data[\"cstrategy_levered\"] = data.strategy_levered.add(1).cumprod()\n",
    "        \n",
    "        self.results = data\n",
    "            \n",
    "        if report:\n",
    "            self.print_performance(leverage = True)\n",
    "    ############################## Performance ######################################\n",
    "    \n",
    "    def print_performance(self, leverage = False):\n",
    "        ''' Calculates and prints various Performance Metrics.\n",
    "        '''\n",
    "        \n",
    "        data = self.results.copy()\n",
    "        \n",
    "        if leverage:\n",
    "            to_analyze = np.log(data.strategy_levered.add(1))\n",
    "        else: \n",
    "            to_analyze = data.strategy\n",
    "        \n",
    "        strategy_multiple = round(self.calculate_multiple(to_analyze), 6)\n",
    "        bh_multiple =       round(self.calculate_multiple(data.returns), 6)\n",
    "        outperf =           round(strategy_multiple - bh_multiple, 6)\n",
    "        cagr =              round(self.calculate_cagr(to_analyze), 6)\n",
    "        ann_mean =          round(self.calculate_annualized_mean(to_analyze), 6)\n",
    "        ann_std =           round(self.calculate_annualized_std(to_analyze), 6)\n",
    "        sharpe =            round(self.calculate_sharpe(to_analyze), 6)\n",
    "        sortino =           round(self.calculate_sortino(to_analyze), 6)\n",
    "        max_drawdown =      round(self.calculate_max_drawdown(to_analyze), 6)\n",
    "        calmar =            round(self.calculate_calmar(to_analyze), 6)\n",
    "        max_dd_duration =   round(self.calculate_max_dd_duration(to_analyze), 6)\n",
    "        kelly_criterion =   round(self.calculate_kelly_criterion(to_analyze), 6)\n",
    "        \n",
    "        print(100 * \"=\")\n",
    "        print(\"SIMPLE CONTRARIAN STRATEGY | INSTRUMENT = {} | Freq: {} | WINDOW = {}\".format(self.symbol, self.freq, self.window))\n",
    "        print(100 * \"-\")\n",
    "        #print(\"\\n\")\n",
    "        print(\"PERFORMANCE MEASURES:\")\n",
    "        print(\"\\n\")\n",
    "        print(\"Multiple (Strategy):         {}\".format(strategy_multiple))\n",
    "        print(\"Multiple (Buy-and-Hold):     {}\".format(bh_multiple))\n",
    "        print(38 * \"-\")\n",
    "        print(\"Out-/Underperformance:       {}\".format(outperf))\n",
    "        print(\"\\n\")\n",
    "        print(\"CAGR:                        {}\".format(cagr))\n",
    "        print(\"Annualized Mean:             {}\".format(ann_mean))\n",
    "        print(\"Annualized Std:              {}\".format(ann_std))\n",
    "        print(\"Sharpe Ratio:                {}\".format(sharpe))\n",
    "        print(\"Sortino Ratio:               {}\".format(sortino))\n",
    "        print(\"Maximum Drawdown:            {}\".format(max_drawdown))\n",
    "        print(\"Calmar Ratio:                {}\".format(calmar))\n",
    "        print(\"Max Drawdown Duration:       {} Days\".format(max_dd_duration))\n",
    "        print(\"Kelly Criterion:             {}\".format(kelly_criterion))\n",
    "        \n",
    "        print(100 * \"=\")\n",
    "        \n",
    "    def calculate_multiple(self, series):\n",
    "        return np.exp(series.sum())\n",
    "    \n",
    "    def calculate_cagr(self, series):\n",
    "        return np.exp(series.sum())**(1/((series.index[-1] - series.index[0]).days / 365.25)) - 1\n",
    "    \n",
    "    def calculate_annualized_mean(self, series):\n",
    "        return series.mean() * self.tp_year\n",
    "    \n",
    "    def calculate_annualized_std(self, series):\n",
    "        return series.std() * np.sqrt(self.tp_year)\n",
    "    \n",
    "    def calculate_sharpe(self, series):\n",
    "        if series.std() == 0:\n",
    "            return np.nan\n",
    "        else:\n",
    "            return series.mean() / series.std() * np.sqrt(self.tp_year)\n",
    "    \n",
    "    def calculate_sortino(self, series):\n",
    "        excess_returns = (series - 0)\n",
    "        downside_deviation = np.sqrt(np.mean(np.where(excess_returns < 0, excess_returns, 0)**2))\n",
    "        if downside_deviation == 0:\n",
    "            return np.nan\n",
    "        else:\n",
    "            sortino = (series.mean() - 0) / downside_deviation * np.sqrt(self.tp_year)\n",
    "            return sortino \n",
    "    \n",
    "    def calculate_max_drawdown(self, series):\n",
    "        creturns = series.cumsum().apply(np.exp)\n",
    "        cummax = creturns.cummax()\n",
    "        drawdown = (cummax - creturns)/cummax\n",
    "        max_dd = drawdown.max()\n",
    "        return max_dd\n",
    "    \n",
    "    def calculate_calmar(self, series):\n",
    "        max_dd = self.calculate_max_drawdown(series)\n",
    "        if max_dd == 0:\n",
    "            return np.nan\n",
    "        else:\n",
    "            cagr = self.calculate_cagr(series)\n",
    "            calmar = cagr / max_dd\n",
    "            return calmar\n",
    "    \n",
    "    def calculate_max_dd_duration(self, series):\n",
    "        creturns = series.cumsum().apply(np.exp)\n",
    "        cummax = creturns.cummax()\n",
    "        drawdown = (cummax - creturns)/cummax\n",
    "    \n",
    "        begin = drawdown[drawdown == 0].index\n",
    "        end = begin[1:]\n",
    "        end = end.append(pd.DatetimeIndex([drawdown.index[-1]]))\n",
    "        periods = end - begin\n",
    "        max_ddd = periods.max()\n",
    "        return max_ddd.days\n",
    "    \n",
    "    def calculate_kelly_criterion(self, series):\n",
    "        series = np.exp(series) - 1\n",
    "        if series.var() == 0:\n",
    "            return np.nan\n",
    "        else:\n",
    "            return series.mean() / series.var()\n",
    "    \n",
    "    ############################## Performance ######################################"
   ]
  },
  {
   "cell_type": "markdown",
   "metadata": {},
   "source": [
    "__Scenario__: <br>\n",
    "It´s the __end of 2018__. __Define and optimize__ a simple Contrarian Strategy for EUR/USD __based on 2018__ data. <br>\n",
    "__Forward Test the Strategy on 2019 data__."
   ]
  },
  {
   "cell_type": "markdown",
   "metadata": {},
   "source": [
    "## Backtesting / Forward Testing  - a simple (too simple?) approach"
   ]
  },
  {
   "cell_type": "markdown",
   "metadata": {},
   "source": [
    "### Backtesting 2018"
   ]
  },
  {
   "cell_type": "code",
   "execution_count": null,
   "metadata": {},
   "outputs": [],
   "source": [
    "filepath = \"one_minute.csv\"\n",
    "symbol = \"EURUSD\"\n",
    "start = \"2018-01-01\"\n",
    "end = \"2018-12-31\"\n",
    "ptc = 0.00007"
   ]
  },
  {
   "cell_type": "code",
   "execution_count": null,
   "metadata": {},
   "outputs": [],
   "source": [
    "tester = ConBacktester(filepath = filepath, symbol = symbol, start = start, end = end, tc = ptc)\n",
    "tester"
   ]
  },
  {
   "cell_type": "code",
   "execution_count": 61,
   "metadata": {},
   "outputs": [
    {
     "ename": "KeyboardInterrupt",
     "evalue": "",
     "output_type": "error",
     "traceback": [
      "\u001b[0;31m---------------------------------------------------------------------------\u001b[0m",
      "\u001b[0;31mKeyboardInterrupt\u001b[0m                         Traceback (most recent call last)",
      "\u001b[1;32m/home/mlopez/dev/python-projects/quant-learning/performance-optimization-and-risk-management-for-trading/16-forward-testing/16-forward-testing.ipynb Cell 9\u001b[0m line \u001b[0;36m1\n\u001b[0;32m----> <a href='vscode-notebook-cell://wsl%2Bubuntu/home/mlopez/dev/python-projects/quant-learning/performance-optimization-and-risk-management-for-trading/16-forward-testing/16-forward-testing.ipynb#X20sdnNjb2RlLXJlbW90ZQ%3D%3D?line=0'>1</a>\u001b[0m tester\u001b[39m.\u001b[39;49moptimize_strategy((\u001b[39m51\u001b[39;49m, \u001b[39m301\u001b[39;49m, \u001b[39m5\u001b[39;49m), (\u001b[39m51\u001b[39;49m, \u001b[39m301\u001b[39;49m, \u001b[39m5\u001b[39;49m), metric \u001b[39m=\u001b[39;49m \u001b[39m\"\u001b[39;49m\u001b[39mMultiple\u001b[39;49m\u001b[39m\"\u001b[39;49m)\n",
      "\u001b[1;32m/home/mlopez/dev/python-projects/quant-learning/performance-optimization-and-risk-management-for-trading/16-forward-testing/16-forward-testing.ipynb Cell 9\u001b[0m line \u001b[0;36m2\n\u001b[1;32m    <a href='vscode-notebook-cell://wsl%2Bubuntu/home/mlopez/dev/python-projects/quant-learning/performance-optimization-and-risk-management-for-trading/16-forward-testing/16-forward-testing.ipynb#X20sdnNjb2RlLXJlbW90ZQ%3D%3D?line=203'>204</a>\u001b[0m \u001b[39mfor\u001b[39;00m comb \u001b[39min\u001b[39;00m combinations: \n\u001b[1;32m    <a href='vscode-notebook-cell://wsl%2Bubuntu/home/mlopez/dev/python-projects/quant-learning/performance-optimization-and-risk-management-for-trading/16-forward-testing/16-forward-testing.ipynb#X20sdnNjb2RlLXJlbW90ZQ%3D%3D?line=204'>205</a>\u001b[0m     \u001b[39mself\u001b[39m\u001b[39m.\u001b[39mprepare_data(comb[\u001b[39m0\u001b[39m], comb[\u001b[39m1\u001b[39m])\n\u001b[0;32m--> <a href='vscode-notebook-cell://wsl%2Bubuntu/home/mlopez/dev/python-projects/quant-learning/performance-optimization-and-risk-management-for-trading/16-forward-testing/16-forward-testing.ipynb#X20sdnNjb2RlLXJlbW90ZQ%3D%3D?line=205'>206</a>\u001b[0m     \u001b[39mself\u001b[39;49m\u001b[39m.\u001b[39;49mupsample()\n\u001b[1;32m    <a href='vscode-notebook-cell://wsl%2Bubuntu/home/mlopez/dev/python-projects/quant-learning/performance-optimization-and-risk-management-for-trading/16-forward-testing/16-forward-testing.ipynb#X20sdnNjb2RlLXJlbW90ZQ%3D%3D?line=206'>207</a>\u001b[0m     \u001b[39mself\u001b[39m\u001b[39m.\u001b[39mrun_backtest()\n\u001b[1;32m    <a href='vscode-notebook-cell://wsl%2Bubuntu/home/mlopez/dev/python-projects/quant-learning/performance-optimization-and-risk-management-for-trading/16-forward-testing/16-forward-testing.ipynb#X20sdnNjb2RlLXJlbW90ZQ%3D%3D?line=207'>208</a>\u001b[0m     performance\u001b[39m.\u001b[39mappend(performance_function(\u001b[39mself\u001b[39m\u001b[39m.\u001b[39mresults\u001b[39m.\u001b[39mstrategy))\n",
      "\u001b[1;32m/home/mlopez/dev/python-projects/quant-learning/performance-optimization-and-risk-management-for-trading/16-forward-testing/16-forward-testing.ipynb Cell 9\u001b[0m line \u001b[0;36m1\n\u001b[1;32m    <a href='vscode-notebook-cell://wsl%2Bubuntu/home/mlopez/dev/python-projects/quant-learning/performance-optimization-and-risk-management-for-trading/16-forward-testing/16-forward-testing.ipynb#X20sdnNjb2RlLXJlbW90ZQ%3D%3D?line=151'>152</a>\u001b[0m data \u001b[39m=\u001b[39m data\u001b[39m.\u001b[39mloc[resamp\u001b[39m.\u001b[39mindex[\u001b[39m0\u001b[39m]:]\u001b[39m.\u001b[39mcopy()\n\u001b[1;32m    <a href='vscode-notebook-cell://wsl%2Bubuntu/home/mlopez/dev/python-projects/quant-learning/performance-optimization-and-risk-management-for-trading/16-forward-testing/16-forward-testing.ipynb#X20sdnNjb2RlLXJlbW90ZQ%3D%3D?line=152'>153</a>\u001b[0m data\u001b[39m.\u001b[39mposition \u001b[39m=\u001b[39m data\u001b[39m.\u001b[39mposition\u001b[39m.\u001b[39mshift(\u001b[39m-\u001b[39m\u001b[39m1\u001b[39m)\u001b[39m.\u001b[39mffill()\n\u001b[0;32m--> <a href='vscode-notebook-cell://wsl%2Bubuntu/home/mlopez/dev/python-projects/quant-learning/performance-optimization-and-risk-management-for-trading/16-forward-testing/16-forward-testing.ipynb#X20sdnNjb2RlLXJlbW90ZQ%3D%3D?line=153'>154</a>\u001b[0m data\u001b[39m.\u001b[39;49mdropna(inplace\u001b[39m=\u001b[39;49m\u001b[39mTrue\u001b[39;49;00m)\n\u001b[1;32m    <a href='vscode-notebook-cell://wsl%2Bubuntu/home/mlopez/dev/python-projects/quant-learning/performance-optimization-and-risk-management-for-trading/16-forward-testing/16-forward-testing.ipynb#X20sdnNjb2RlLXJlbW90ZQ%3D%3D?line=154'>155</a>\u001b[0m \u001b[39mself\u001b[39m\u001b[39m.\u001b[39mresults \u001b[39m=\u001b[39m data\n",
      "File \u001b[0;32m~/anaconda3/lib/python3.10/site-packages/pandas/util/_decorators.py:331\u001b[0m, in \u001b[0;36mdeprecate_nonkeyword_arguments.<locals>.decorate.<locals>.wrapper\u001b[0;34m(*args, **kwargs)\u001b[0m\n\u001b[1;32m    325\u001b[0m \u001b[39mif\u001b[39;00m \u001b[39mlen\u001b[39m(args) \u001b[39m>\u001b[39m num_allow_args:\n\u001b[1;32m    326\u001b[0m     warnings\u001b[39m.\u001b[39mwarn(\n\u001b[1;32m    327\u001b[0m         msg\u001b[39m.\u001b[39mformat(arguments\u001b[39m=\u001b[39m_format_argument_list(allow_args)),\n\u001b[1;32m    328\u001b[0m         \u001b[39mFutureWarning\u001b[39;00m,\n\u001b[1;32m    329\u001b[0m         stacklevel\u001b[39m=\u001b[39mfind_stack_level(),\n\u001b[1;32m    330\u001b[0m     )\n\u001b[0;32m--> 331\u001b[0m \u001b[39mreturn\u001b[39;00m func(\u001b[39m*\u001b[39;49margs, \u001b[39m*\u001b[39;49m\u001b[39m*\u001b[39;49mkwargs)\n",
      "File \u001b[0;32m~/anaconda3/lib/python3.10/site-packages/pandas/core/frame.py:6579\u001b[0m, in \u001b[0;36mDataFrame.dropna\u001b[0;34m(self, axis, how, thresh, subset, inplace)\u001b[0m\n\u001b[1;32m   6577\u001b[0m     result \u001b[39m=\u001b[39m \u001b[39mself\u001b[39m\u001b[39m.\u001b[39mcopy()\n\u001b[1;32m   6578\u001b[0m \u001b[39melse\u001b[39;00m:\n\u001b[0;32m-> 6579\u001b[0m     result \u001b[39m=\u001b[39m \u001b[39mself\u001b[39;49m\u001b[39m.\u001b[39;49mloc(axis\u001b[39m=\u001b[39;49maxis)[mask]\n\u001b[1;32m   6581\u001b[0m \u001b[39mif\u001b[39;00m \u001b[39mnot\u001b[39;00m inplace:\n\u001b[1;32m   6582\u001b[0m     \u001b[39mreturn\u001b[39;00m result\n",
      "File \u001b[0;32m~/anaconda3/lib/python3.10/site-packages/pandas/core/indexing.py:1073\u001b[0m, in \u001b[0;36m_LocationIndexer.__getitem__\u001b[0;34m(self, key)\u001b[0m\n\u001b[1;32m   1070\u001b[0m axis \u001b[39m=\u001b[39m \u001b[39mself\u001b[39m\u001b[39m.\u001b[39maxis \u001b[39mor\u001b[39;00m \u001b[39m0\u001b[39m\n\u001b[1;32m   1072\u001b[0m maybe_callable \u001b[39m=\u001b[39m com\u001b[39m.\u001b[39mapply_if_callable(key, \u001b[39mself\u001b[39m\u001b[39m.\u001b[39mobj)\n\u001b[0;32m-> 1073\u001b[0m \u001b[39mreturn\u001b[39;00m \u001b[39mself\u001b[39;49m\u001b[39m.\u001b[39;49m_getitem_axis(maybe_callable, axis\u001b[39m=\u001b[39;49maxis)\n",
      "File \u001b[0;32m~/anaconda3/lib/python3.10/site-packages/pandas/core/indexing.py:1292\u001b[0m, in \u001b[0;36m_LocIndexer._getitem_axis\u001b[0;34m(self, key, axis)\u001b[0m\n\u001b[1;32m   1290\u001b[0m     \u001b[39mreturn\u001b[39;00m \u001b[39mself\u001b[39m\u001b[39m.\u001b[39m_get_slice_axis(key, axis\u001b[39m=\u001b[39maxis)\n\u001b[1;32m   1291\u001b[0m \u001b[39melif\u001b[39;00m com\u001b[39m.\u001b[39mis_bool_indexer(key):\n\u001b[0;32m-> 1292\u001b[0m     \u001b[39mreturn\u001b[39;00m \u001b[39mself\u001b[39;49m\u001b[39m.\u001b[39;49m_getbool_axis(key, axis\u001b[39m=\u001b[39;49maxis)\n\u001b[1;32m   1293\u001b[0m \u001b[39melif\u001b[39;00m is_list_like_indexer(key):\n\u001b[1;32m   1294\u001b[0m \n\u001b[1;32m   1295\u001b[0m     \u001b[39m# an iterable multi-selection\u001b[39;00m\n\u001b[1;32m   1296\u001b[0m     \u001b[39mif\u001b[39;00m \u001b[39mnot\u001b[39;00m (\u001b[39misinstance\u001b[39m(key, \u001b[39mtuple\u001b[39m) \u001b[39mand\u001b[39;00m \u001b[39misinstance\u001b[39m(labels, MultiIndex)):\n",
      "File \u001b[0;32m~/anaconda3/lib/python3.10/site-packages/pandas/core/indexing.py:1093\u001b[0m, in \u001b[0;36m_LocationIndexer._getbool_axis\u001b[0;34m(self, key, axis)\u001b[0m\n\u001b[1;32m   1091\u001b[0m key \u001b[39m=\u001b[39m check_bool_indexer(labels, key)\n\u001b[1;32m   1092\u001b[0m inds \u001b[39m=\u001b[39m key\u001b[39m.\u001b[39mnonzero()[\u001b[39m0\u001b[39m]\n\u001b[0;32m-> 1093\u001b[0m \u001b[39mreturn\u001b[39;00m \u001b[39mself\u001b[39;49m\u001b[39m.\u001b[39;49mobj\u001b[39m.\u001b[39;49m_take_with_is_copy(inds, axis\u001b[39m=\u001b[39;49maxis)\n",
      "File \u001b[0;32m~/anaconda3/lib/python3.10/site-packages/pandas/core/generic.py:3902\u001b[0m, in \u001b[0;36mNDFrame._take_with_is_copy\u001b[0;34m(self, indices, axis)\u001b[0m\n\u001b[1;32m   3894\u001b[0m \u001b[39mdef\u001b[39;00m \u001b[39m_take_with_is_copy\u001b[39m(\u001b[39mself\u001b[39m: NDFrameT, indices, axis\u001b[39m=\u001b[39m\u001b[39m0\u001b[39m) \u001b[39m-\u001b[39m\u001b[39m>\u001b[39m NDFrameT:\n\u001b[1;32m   3895\u001b[0m     \u001b[39m\"\"\"\u001b[39;00m\n\u001b[1;32m   3896\u001b[0m \u001b[39m    Internal version of the `take` method that sets the `_is_copy`\u001b[39;00m\n\u001b[1;32m   3897\u001b[0m \u001b[39m    attribute to keep track of the parent dataframe (using in indexing\u001b[39;00m\n\u001b[0;32m   (...)\u001b[0m\n\u001b[1;32m   3900\u001b[0m \u001b[39m    See the docstring of `take` for full explanation of the parameters.\u001b[39;00m\n\u001b[1;32m   3901\u001b[0m \u001b[39m    \"\"\"\u001b[39;00m\n\u001b[0;32m-> 3902\u001b[0m     result \u001b[39m=\u001b[39m \u001b[39mself\u001b[39;49m\u001b[39m.\u001b[39;49m_take(indices\u001b[39m=\u001b[39;49mindices, axis\u001b[39m=\u001b[39;49maxis)\n\u001b[1;32m   3903\u001b[0m     \u001b[39m# Maybe set copy if we didn't actually change the index.\u001b[39;00m\n\u001b[1;32m   3904\u001b[0m     \u001b[39mif\u001b[39;00m \u001b[39mnot\u001b[39;00m result\u001b[39m.\u001b[39m_get_axis(axis)\u001b[39m.\u001b[39mequals(\u001b[39mself\u001b[39m\u001b[39m.\u001b[39m_get_axis(axis)):\n",
      "File \u001b[0;32m~/anaconda3/lib/python3.10/site-packages/pandas/core/generic.py:3884\u001b[0m, in \u001b[0;36mNDFrame._take\u001b[0;34m(self, indices, axis, convert_indices)\u001b[0m\n\u001b[1;32m   3873\u001b[0m \u001b[39mdef\u001b[39;00m \u001b[39m_take\u001b[39m(\n\u001b[1;32m   3874\u001b[0m     \u001b[39mself\u001b[39m: NDFrameT,\n\u001b[1;32m   3875\u001b[0m     indices,\n\u001b[1;32m   3876\u001b[0m     axis\u001b[39m=\u001b[39m\u001b[39m0\u001b[39m,\n\u001b[1;32m   3877\u001b[0m     convert_indices: bool_t \u001b[39m=\u001b[39m \u001b[39mTrue\u001b[39;00m,\n\u001b[1;32m   3878\u001b[0m ) \u001b[39m-\u001b[39m\u001b[39m>\u001b[39m NDFrameT:\n\u001b[1;32m   3879\u001b[0m     \u001b[39m\"\"\"\u001b[39;00m\n\u001b[1;32m   3880\u001b[0m \u001b[39m    Internal version of the `take` allowing specification of additional args.\u001b[39;00m\n\u001b[1;32m   3881\u001b[0m \n\u001b[1;32m   3882\u001b[0m \u001b[39m    See the docstring of `take` for full explanation of the parameters.\u001b[39;00m\n\u001b[1;32m   3883\u001b[0m \u001b[39m    \"\"\"\u001b[39;00m\n\u001b[0;32m-> 3884\u001b[0m     \u001b[39mself\u001b[39;49m\u001b[39m.\u001b[39;49m_consolidate_inplace()\n\u001b[1;32m   3886\u001b[0m     new_data \u001b[39m=\u001b[39m \u001b[39mself\u001b[39m\u001b[39m.\u001b[39m_mgr\u001b[39m.\u001b[39mtake(\n\u001b[1;32m   3887\u001b[0m         indices,\n\u001b[1;32m   3888\u001b[0m         axis\u001b[39m=\u001b[39m\u001b[39mself\u001b[39m\u001b[39m.\u001b[39m_get_block_manager_axis(axis),\n\u001b[1;32m   3889\u001b[0m         verify\u001b[39m=\u001b[39m\u001b[39mTrue\u001b[39;00m,\n\u001b[1;32m   3890\u001b[0m         convert_indices\u001b[39m=\u001b[39mconvert_indices,\n\u001b[1;32m   3891\u001b[0m     )\n\u001b[1;32m   3892\u001b[0m     \u001b[39mreturn\u001b[39;00m \u001b[39mself\u001b[39m\u001b[39m.\u001b[39m_constructor(new_data)\u001b[39m.\u001b[39m__finalize__(\u001b[39mself\u001b[39m, method\u001b[39m=\u001b[39m\u001b[39m\"\u001b[39m\u001b[39mtake\u001b[39m\u001b[39m\"\u001b[39m)\n",
      "File \u001b[0;32m~/anaconda3/lib/python3.10/site-packages/pandas/core/generic.py:5980\u001b[0m, in \u001b[0;36mNDFrame._consolidate_inplace\u001b[0;34m(self)\u001b[0m\n\u001b[1;32m   5977\u001b[0m \u001b[39mdef\u001b[39;00m \u001b[39mf\u001b[39m():\n\u001b[1;32m   5978\u001b[0m     \u001b[39mself\u001b[39m\u001b[39m.\u001b[39m_mgr \u001b[39m=\u001b[39m \u001b[39mself\u001b[39m\u001b[39m.\u001b[39m_mgr\u001b[39m.\u001b[39mconsolidate()\n\u001b[0;32m-> 5980\u001b[0m \u001b[39mself\u001b[39;49m\u001b[39m.\u001b[39;49m_protect_consolidate(f)\n",
      "File \u001b[0;32m~/anaconda3/lib/python3.10/site-packages/pandas/core/generic.py:5968\u001b[0m, in \u001b[0;36mNDFrame._protect_consolidate\u001b[0;34m(self, f)\u001b[0m\n\u001b[1;32m   5966\u001b[0m     \u001b[39mreturn\u001b[39;00m f()\n\u001b[1;32m   5967\u001b[0m blocks_before \u001b[39m=\u001b[39m \u001b[39mlen\u001b[39m(\u001b[39mself\u001b[39m\u001b[39m.\u001b[39m_mgr\u001b[39m.\u001b[39mblocks)\n\u001b[0;32m-> 5968\u001b[0m result \u001b[39m=\u001b[39m f()\n\u001b[1;32m   5969\u001b[0m \u001b[39mif\u001b[39;00m \u001b[39mlen\u001b[39m(\u001b[39mself\u001b[39m\u001b[39m.\u001b[39m_mgr\u001b[39m.\u001b[39mblocks) \u001b[39m!=\u001b[39m blocks_before:\n\u001b[1;32m   5970\u001b[0m     \u001b[39mself\u001b[39m\u001b[39m.\u001b[39m_clear_item_cache()\n",
      "File \u001b[0;32m~/anaconda3/lib/python3.10/site-packages/pandas/core/generic.py:5978\u001b[0m, in \u001b[0;36mNDFrame._consolidate_inplace.<locals>.f\u001b[0;34m()\u001b[0m\n\u001b[1;32m   5977\u001b[0m \u001b[39mdef\u001b[39;00m \u001b[39mf\u001b[39m():\n\u001b[0;32m-> 5978\u001b[0m     \u001b[39mself\u001b[39m\u001b[39m.\u001b[39m_mgr \u001b[39m=\u001b[39m \u001b[39mself\u001b[39;49m\u001b[39m.\u001b[39;49m_mgr\u001b[39m.\u001b[39;49mconsolidate()\n",
      "File \u001b[0;32m~/anaconda3/lib/python3.10/site-packages/pandas/core/internals/managers.py:686\u001b[0m, in \u001b[0;36mBaseBlockManager.consolidate\u001b[0;34m(self)\u001b[0m\n\u001b[1;32m    684\u001b[0m bm \u001b[39m=\u001b[39m \u001b[39mtype\u001b[39m(\u001b[39mself\u001b[39m)(\u001b[39mself\u001b[39m\u001b[39m.\u001b[39mblocks, \u001b[39mself\u001b[39m\u001b[39m.\u001b[39maxes, \u001b[39mself\u001b[39m\u001b[39m.\u001b[39mrefs, verify_integrity\u001b[39m=\u001b[39m\u001b[39mFalse\u001b[39;00m)\n\u001b[1;32m    685\u001b[0m bm\u001b[39m.\u001b[39m_is_consolidated \u001b[39m=\u001b[39m \u001b[39mFalse\u001b[39;00m\n\u001b[0;32m--> 686\u001b[0m bm\u001b[39m.\u001b[39;49m_consolidate_inplace()\n\u001b[1;32m    687\u001b[0m \u001b[39mreturn\u001b[39;00m bm\n",
      "File \u001b[0;32m~/anaconda3/lib/python3.10/site-packages/pandas/core/internals/managers.py:1871\u001b[0m, in \u001b[0;36mBlockManager._consolidate_inplace\u001b[0;34m(self)\u001b[0m\n\u001b[1;32m   1869\u001b[0m \u001b[39mif\u001b[39;00m \u001b[39mnot\u001b[39;00m \u001b[39mself\u001b[39m\u001b[39m.\u001b[39mis_consolidated():\n\u001b[1;32m   1870\u001b[0m     \u001b[39mif\u001b[39;00m \u001b[39mself\u001b[39m\u001b[39m.\u001b[39mrefs \u001b[39mis\u001b[39;00m \u001b[39mNone\u001b[39;00m:\n\u001b[0;32m-> 1871\u001b[0m         \u001b[39mself\u001b[39m\u001b[39m.\u001b[39mblocks \u001b[39m=\u001b[39m _consolidate(\u001b[39mself\u001b[39;49m\u001b[39m.\u001b[39;49mblocks)\n\u001b[1;32m   1872\u001b[0m     \u001b[39melse\u001b[39;00m:\n\u001b[1;32m   1873\u001b[0m         \u001b[39mself\u001b[39m\u001b[39m.\u001b[39mblocks, \u001b[39mself\u001b[39m\u001b[39m.\u001b[39mrefs \u001b[39m=\u001b[39m _consolidate_with_refs(\u001b[39mself\u001b[39m\u001b[39m.\u001b[39mblocks, \u001b[39mself\u001b[39m\u001b[39m.\u001b[39mrefs)\n",
      "File \u001b[0;32m~/anaconda3/lib/python3.10/site-packages/pandas/core/internals/managers.py:2329\u001b[0m, in \u001b[0;36m_consolidate\u001b[0;34m(blocks)\u001b[0m\n\u001b[1;32m   2327\u001b[0m new_blocks: \u001b[39mlist\u001b[39m[Block] \u001b[39m=\u001b[39m []\n\u001b[1;32m   2328\u001b[0m \u001b[39mfor\u001b[39;00m (_can_consolidate, dtype), group_blocks \u001b[39min\u001b[39;00m grouper:\n\u001b[0;32m-> 2329\u001b[0m     merged_blocks, _ \u001b[39m=\u001b[39m _merge_blocks(\n\u001b[1;32m   2330\u001b[0m         \u001b[39mlist\u001b[39;49m(group_blocks), dtype\u001b[39m=\u001b[39;49mdtype, can_consolidate\u001b[39m=\u001b[39;49m_can_consolidate\n\u001b[1;32m   2331\u001b[0m     )\n\u001b[1;32m   2332\u001b[0m     new_blocks \u001b[39m=\u001b[39m extend_blocks(merged_blocks, new_blocks)\n\u001b[1;32m   2333\u001b[0m \u001b[39mreturn\u001b[39;00m \u001b[39mtuple\u001b[39m(new_blocks)\n",
      "File \u001b[0;32m~/anaconda3/lib/python3.10/site-packages/pandas/core/internals/managers.py:2391\u001b[0m, in \u001b[0;36m_merge_blocks\u001b[0;34m(blocks, dtype, can_consolidate)\u001b[0m\n\u001b[1;32m   2388\u001b[0m     new_values \u001b[39m=\u001b[39m new_values[argsort]\n\u001b[1;32m   2389\u001b[0m     new_mgr_locs \u001b[39m=\u001b[39m new_mgr_locs[argsort]\n\u001b[0;32m-> 2391\u001b[0m     bp \u001b[39m=\u001b[39m BlockPlacement(new_mgr_locs)\n\u001b[1;32m   2392\u001b[0m     \u001b[39mreturn\u001b[39;00m [new_block_2d(new_values, placement\u001b[39m=\u001b[39mbp)], \u001b[39mTrue\u001b[39;00m\n\u001b[1;32m   2394\u001b[0m \u001b[39m# can't consolidate --> no merge\u001b[39;00m\n",
      "\u001b[0;31mKeyboardInterrupt\u001b[0m: "
     ]
    }
   ],
   "source": [
    "tester.optimize_strategy((51, 301, 5), (51, 301, 5), metric = \"Multiple\") # finding the best combination freq/windows "
   ]
  },
  {
   "cell_type": "code",
   "execution_count": null,
   "metadata": {},
   "outputs": [],
   "source": [
    "tester.visualize_many()"
   ]
  },
  {
   "cell_type": "code",
   "execution_count": null,
   "metadata": {},
   "outputs": [],
   "source": [
    "leverage = np.arange(1, 30, 1)\n",
    "leverage"
   ]
  },
  {
   "cell_type": "code",
   "execution_count": null,
   "metadata": {},
   "outputs": [],
   "source": [
    "multiple = []\n",
    "for lever in leverage:\n",
    "    tester.add_leverage(leverage = lever, sl = -0.4, report = False)\n",
    "    multiple.append(tester.results.cstrategy_levered[-1])\n",
    "results = pd.DataFrame(data = {\"Leverage\": leverage, \"Multiple\":multiple}) "
   ]
  },
  {
   "cell_type": "code",
   "execution_count": null,
   "metadata": {},
   "outputs": [],
   "source": [
    "results.set_index(\"Leverage\", inplace = True)\n",
    "results"
   ]
  },
  {
   "cell_type": "code",
   "execution_count": null,
   "metadata": {},
   "outputs": [],
   "source": [
    "results.plot(figsize = (12, 8));\n",
    "plt.show()"
   ]
  },
  {
   "cell_type": "code",
   "execution_count": null,
   "metadata": {},
   "outputs": [],
   "source": [
    "tester.test_strategy(201, 101)"
   ]
  },
  {
   "cell_type": "code",
   "execution_count": null,
   "metadata": {},
   "outputs": [],
   "source": [
    "tester.plot_results()"
   ]
  },
  {
   "cell_type": "code",
   "execution_count": null,
   "metadata": {},
   "outputs": [],
   "source": [
    "tester.add_leverage(leverage = 27, sl = -0.4)"
   ]
  },
  {
   "cell_type": "code",
   "execution_count": null,
   "metadata": {},
   "outputs": [],
   "source": [
    "tester.plot_results(leverage = True)"
   ]
  },
  {
   "cell_type": "markdown",
   "metadata": {},
   "source": [
    "### Forward Testing 2019"
   ]
  },
  {
   "cell_type": "code",
   "execution_count": null,
   "metadata": {},
   "outputs": [],
   "source": [
    "filepath = \"one_minute.csv\"\n",
    "symbol = \"EURUSD\"\n",
    "start = \"2019-01-01\"\n",
    "end = \"2019-12-31\"\n",
    "ptc = 0.00007"
   ]
  },
  {
   "cell_type": "code",
   "execution_count": null,
   "metadata": {},
   "outputs": [],
   "source": [
    "tester = ConBacktester(filepath = filepath, symbol = symbol, start = start, end = end, tc = ptc)\n",
    "tester"
   ]
  },
  {
   "cell_type": "code",
   "execution_count": null,
   "metadata": {},
   "outputs": [],
   "source": [
    "tester.test_strategy(201, 101)"
   ]
  },
  {
   "cell_type": "code",
   "execution_count": null,
   "metadata": {},
   "outputs": [],
   "source": [
    "tester.plot_results()"
   ]
  },
  {
   "cell_type": "code",
   "execution_count": null,
   "metadata": {},
   "outputs": [],
   "source": [
    "tester.add_leverage(leverage = 13, sl = -0.4)"
   ]
  },
  {
   "cell_type": "code",
   "execution_count": null,
   "metadata": {},
   "outputs": [],
   "source": [
    "tester.plot_results(leverage = True)"
   ]
  },
  {
   "cell_type": "markdown",
   "metadata": {},
   "source": [
    "> Leverage should not exceed \"Half Kelly\" of Backtesting."
   ]
  },
  {
   "cell_type": "markdown",
   "metadata": {},
   "source": [
    "## The Performance of Strategies over multiple Time Periods"
   ]
  },
  {
   "cell_type": "markdown",
   "metadata": {},
   "source": [
    "Problem: Single Period Backtest has lots of random noise. \n",
    "\n",
    "Desired Property of a good strategy: it __performs stable and well over multiple periods__. \n",
    "\n",
    "-> Split 2018 into subperiods (quarters) and run __separate backtests__ for subperiods.\n",
    "(remove/lower impact of random noise)"
   ]
  },
  {
   "cell_type": "markdown",
   "metadata": {},
   "source": [
    "### Backtesting Period 2018"
   ]
  },
  {
   "cell_type": "code",
   "execution_count": null,
   "metadata": {},
   "outputs": [],
   "source": [
    "filepath = \"one_minute.csv\"\n",
    "symbol = \"EURUSD\"\n",
    "\n",
    "start1 = \"2018-01-01\"\n",
    "end1 = \"2018-03-31\"\n",
    "start2 = \"2018-04-01\"\n",
    "end2 = \"2018-06-30\"\n",
    "start3 = \"2018-07-01\"\n",
    "end3 = \"2018-09-30\"\n",
    "start4 = \"2018-10-01\"\n",
    "end4 = \"2018-12-31\"\n",
    "\n",
    "ptc = 0.00007"
   ]
  },
  {
   "cell_type": "markdown",
   "metadata": {},
   "source": [
    "__1. Quarter 2018__"
   ]
  },
  {
   "cell_type": "code",
   "execution_count": null,
   "metadata": {},
   "outputs": [],
   "source": [
    "tester = ConBacktester(filepath = filepath, symbol = symbol, start = start1, end = end1, tc = ptc)\n",
    "tester"
   ]
  },
  {
   "cell_type": "code",
   "execution_count": null,
   "metadata": {},
   "outputs": [],
   "source": [
    "tester.optimize_strategy(freq_range = (51, 301, 5), window_range = (51, 301, 5), metric = \"Multiple\") # finding the best combination freq/windows "
   ]
  },
  {
   "cell_type": "code",
   "execution_count": null,
   "metadata": {},
   "outputs": [],
   "source": [
    "tester.visualize_many()"
   ]
  },
  {
   "cell_type": "code",
   "execution_count": null,
   "metadata": {},
   "outputs": [],
   "source": [
    "q1 = tester.results_overview\n",
    "q1"
   ]
  },
  {
   "cell_type": "markdown",
   "metadata": {},
   "source": [
    "__2. Quarter 2018__"
   ]
  },
  {
   "cell_type": "code",
   "execution_count": null,
   "metadata": {},
   "outputs": [],
   "source": [
    "tester = ConBacktester(filepath = filepath, symbol = symbol, start = start2, end = end2, tc = ptc)\n",
    "tester"
   ]
  },
  {
   "cell_type": "code",
   "execution_count": null,
   "metadata": {},
   "outputs": [],
   "source": [
    "tester.optimize_strategy(freq_range = (51, 301, 5), window_range = (51, 301, 5), metric = \"Multiple\") # finding the best combination freq/windows "
   ]
  },
  {
   "cell_type": "code",
   "execution_count": null,
   "metadata": {},
   "outputs": [],
   "source": [
    "tester.visualize_many()"
   ]
  },
  {
   "cell_type": "code",
   "execution_count": null,
   "metadata": {},
   "outputs": [],
   "source": [
    "q2 = tester.results_overview\n",
    "q2"
   ]
  },
  {
   "cell_type": "markdown",
   "metadata": {},
   "source": [
    "__3. Quarter 2018__"
   ]
  },
  {
   "cell_type": "code",
   "execution_count": null,
   "metadata": {},
   "outputs": [],
   "source": [
    "tester = ConBacktester(filepath = filepath, symbol = symbol, start = start3, end = end3, tc = ptc)\n",
    "tester"
   ]
  },
  {
   "cell_type": "code",
   "execution_count": null,
   "metadata": {},
   "outputs": [],
   "source": [
    "tester.optimize_strategy(freq_range = (51, 301, 5), window_range = (51, 301, 5), metric = \"Multiple\") # finding the best combination freq/windows "
   ]
  },
  {
   "cell_type": "code",
   "execution_count": null,
   "metadata": {},
   "outputs": [],
   "source": [
    "tester.visualize_many()"
   ]
  },
  {
   "cell_type": "code",
   "execution_count": null,
   "metadata": {},
   "outputs": [],
   "source": [
    "q3 = tester.results_overview\n",
    "q3"
   ]
  },
  {
   "cell_type": "markdown",
   "metadata": {},
   "source": [
    "__4. Quarter 2018__"
   ]
  },
  {
   "cell_type": "code",
   "execution_count": null,
   "metadata": {},
   "outputs": [],
   "source": [
    "tester = ConBacktester(filepath = filepath, symbol = symbol, start = start4, end = end4, tc = ptc)\n",
    "tester"
   ]
  },
  {
   "cell_type": "code",
   "execution_count": null,
   "metadata": {},
   "outputs": [],
   "source": [
    "tester.optimize_strategy(freq_range = (51, 301, 5), window_range = (51, 301, 5), metric = \"Multiple\") # finding the best combination freq/windows "
   ]
  },
  {
   "cell_type": "code",
   "execution_count": null,
   "metadata": {},
   "outputs": [],
   "source": [
    "tester.visualize_many()"
   ]
  },
  {
   "cell_type": "code",
   "execution_count": null,
   "metadata": {},
   "outputs": [],
   "source": [
    "q4 = tester.results_overview\n",
    "q4"
   ]
  },
  {
   "cell_type": "markdown",
   "metadata": {},
   "source": [
    "__Comparing all four quarters__"
   ]
  },
  {
   "cell_type": "code",
   "execution_count": null,
   "metadata": {},
   "outputs": [],
   "source": [
    "comp = pd.concat([q1, q2, q3, q4], axis = 1).iloc[:, [0, 1, 2, 5, 8, 11 ]]\n",
    "comp"
   ]
  },
  {
   "cell_type": "code",
   "execution_count": null,
   "metadata": {},
   "outputs": [],
   "source": [
    "comp[\"Score1\"] = comp.iloc[:,2:].mean(axis = 1) # mean of multiples\n",
    "comp"
   ]
  },
  {
   "cell_type": "code",
   "execution_count": null,
   "metadata": {},
   "outputs": [],
   "source": [
    "comp.iloc[:, 2:6].rank(ascending = False)"
   ]
  },
  {
   "cell_type": "code",
   "execution_count": null,
   "metadata": {},
   "outputs": [],
   "source": [
    "comp[\"Score2\"] = (comp.iloc[:, 2:6].rank(ascending = False)**2).mean(axis = 1) # mean rank\n",
    "comp"
   ]
  },
  {
   "cell_type": "code",
   "execution_count": null,
   "metadata": {},
   "outputs": [],
   "source": [
    "comp.sort_values(by = \"Score1\", ascending = False).head(20)"
   ]
  },
  {
   "cell_type": "code",
   "execution_count": null,
   "metadata": {},
   "outputs": [],
   "source": [
    "comp.sort_values(by = \"Score2\", ascending = True).head(20)"
   ]
  },
  {
   "cell_type": "markdown",
   "metadata": {},
   "source": [
    "## Backtesting / Forward Testing a stable Strategy"
   ]
  },
  {
   "cell_type": "code",
   "execution_count": 62,
   "metadata": {},
   "outputs": [
    {
     "data": {
      "text/plain": [
       "ConBacktester(symbol = EURUSD, start = 2018-01-01, end = 2018-12-31)"
      ]
     },
     "execution_count": 62,
     "metadata": {},
     "output_type": "execute_result"
    }
   ],
   "source": [
    "tester = ConBacktester(filepath = filepath, symbol = symbol, start = \"2018-01-01\", end = \"2018-12-31\", tc = ptc)\n",
    "tester"
   ]
  },
  {
   "cell_type": "code",
   "execution_count": 63,
   "metadata": {},
   "outputs": [
    {
     "name": "stdout",
     "output_type": "stream",
     "text": [
      "====================================================================================================\n",
      "SIMPLE CONTRARIAN STRATEGY | INSTRUMENT = EURUSD | Freq: 181min | WINDOW = 106\n",
      "----------------------------------------------------------------------------------------------------\n",
      "PERFORMANCE MEASURES:\n",
      "\n",
      "\n",
      "Multiple (Strategy):         1.160187\n",
      "Multiple (Buy-and-Hold):     0.935635\n",
      "--------------------------------------\n",
      "Out-/Underperformance:       0.224552\n",
      "\n",
      "\n",
      "CAGR:                        0.169817\n",
      "Annualized Mean:             0.157523\n",
      "Annualized Std:              0.07865\n",
      "Sharpe Ratio:                2.002824\n",
      "Sortino Ratio:               2.86007\n",
      "Maximum Drawdown:            0.062707\n",
      "Calmar Ratio:                2.708091\n",
      "Max Drawdown Duration:       96 Days\n",
      "Kelly Criterion:             25.964675\n",
      "====================================================================================================\n"
     ]
    }
   ],
   "source": [
    "tester.test_strategy(181, 106)"
   ]
  },
  {
   "cell_type": "code",
   "execution_count": 64,
   "metadata": {},
   "outputs": [
    {
     "data": {
      "text/plain": [
       "array([ 1,  2,  3,  4,  5,  6,  7,  8,  9, 10, 11, 12, 13, 14, 15, 16, 17,\n",
       "       18, 19, 20, 21, 22, 23, 24, 25, 26, 27, 28, 29, 30, 31, 32, 33, 34,\n",
       "       35, 36, 37, 38, 39, 40, 41, 42, 43, 44, 45, 46, 47, 48, 49])"
      ]
     },
     "execution_count": 64,
     "metadata": {},
     "output_type": "execute_result"
    }
   ],
   "source": [
    "leverage = np.arange(1, 50, 1)\n",
    "leverage"
   ]
  },
  {
   "cell_type": "code",
   "execution_count": 65,
   "metadata": {},
   "outputs": [],
   "source": [
    "multiple = []\n",
    "for lever in leverage:\n",
    "    tester.add_leverage(leverage = lever, sl = -0.4, report = False)\n",
    "    multiple.append(tester.results.cstrategy_levered[-1])\n",
    "results = pd.DataFrame(data = {\"Leverage\": leverage, \"Multiple\":multiple})   "
   ]
  },
  {
   "cell_type": "code",
   "execution_count": 66,
   "metadata": {},
   "outputs": [
    {
     "data": {
      "text/html": [
       "<div>\n",
       "<style scoped>\n",
       "    .dataframe tbody tr th:only-of-type {\n",
       "        vertical-align: middle;\n",
       "    }\n",
       "\n",
       "    .dataframe tbody tr th {\n",
       "        vertical-align: top;\n",
       "    }\n",
       "\n",
       "    .dataframe thead th {\n",
       "        text-align: right;\n",
       "    }\n",
       "</style>\n",
       "<table border=\"1\" class=\"dataframe\">\n",
       "  <thead>\n",
       "    <tr style=\"text-align: right;\">\n",
       "      <th></th>\n",
       "      <th>Multiple</th>\n",
       "    </tr>\n",
       "    <tr>\n",
       "      <th>Leverage</th>\n",
       "      <th></th>\n",
       "    </tr>\n",
       "  </thead>\n",
       "  <tbody>\n",
       "    <tr>\n",
       "      <th>1</th>\n",
       "      <td>1.160187</td>\n",
       "    </tr>\n",
       "    <tr>\n",
       "      <th>2</th>\n",
       "      <td>1.341072</td>\n",
       "    </tr>\n",
       "    <tr>\n",
       "      <th>3</th>\n",
       "      <td>1.544299</td>\n",
       "    </tr>\n",
       "    <tr>\n",
       "      <th>4</th>\n",
       "      <td>1.771404</td>\n",
       "    </tr>\n",
       "    <tr>\n",
       "      <th>5</th>\n",
       "      <td>2.023733</td>\n",
       "    </tr>\n",
       "    <tr>\n",
       "      <th>6</th>\n",
       "      <td>2.302348</td>\n",
       "    </tr>\n",
       "    <tr>\n",
       "      <th>7</th>\n",
       "      <td>2.106881</td>\n",
       "    </tr>\n",
       "    <tr>\n",
       "      <th>8</th>\n",
       "      <td>2.505106</td>\n",
       "    </tr>\n",
       "    <tr>\n",
       "      <th>9</th>\n",
       "      <td>2.966130</td>\n",
       "    </tr>\n",
       "    <tr>\n",
       "      <th>10</th>\n",
       "      <td>3.509410</td>\n",
       "    </tr>\n",
       "    <tr>\n",
       "      <th>11</th>\n",
       "      <td>4.141507</td>\n",
       "    </tr>\n",
       "    <tr>\n",
       "      <th>12</th>\n",
       "      <td>4.876543</td>\n",
       "    </tr>\n",
       "    <tr>\n",
       "      <th>13</th>\n",
       "      <td>5.730776</td>\n",
       "    </tr>\n",
       "    <tr>\n",
       "      <th>14</th>\n",
       "      <td>6.721250</td>\n",
       "    </tr>\n",
       "    <tr>\n",
       "      <th>15</th>\n",
       "      <td>7.859266</td>\n",
       "    </tr>\n",
       "    <tr>\n",
       "      <th>16</th>\n",
       "      <td>4.160857</td>\n",
       "    </tr>\n",
       "    <tr>\n",
       "      <th>17</th>\n",
       "      <td>4.949235</td>\n",
       "    </tr>\n",
       "    <tr>\n",
       "      <th>18</th>\n",
       "      <td>3.316258</td>\n",
       "    </tr>\n",
       "    <tr>\n",
       "      <th>19</th>\n",
       "      <td>2.601281</td>\n",
       "    </tr>\n",
       "    <tr>\n",
       "      <th>20</th>\n",
       "      <td>3.111438</td>\n",
       "    </tr>\n",
       "    <tr>\n",
       "      <th>21</th>\n",
       "      <td>3.635912</td>\n",
       "    </tr>\n",
       "    <tr>\n",
       "      <th>22</th>\n",
       "      <td>4.260053</td>\n",
       "    </tr>\n",
       "    <tr>\n",
       "      <th>23</th>\n",
       "      <td>5.229906</td>\n",
       "    </tr>\n",
       "    <tr>\n",
       "      <th>24</th>\n",
       "      <td>6.129926</td>\n",
       "    </tr>\n",
       "    <tr>\n",
       "      <th>25</th>\n",
       "      <td>7.064017</td>\n",
       "    </tr>\n",
       "    <tr>\n",
       "      <th>26</th>\n",
       "      <td>8.337190</td>\n",
       "    </tr>\n",
       "    <tr>\n",
       "      <th>27</th>\n",
       "      <td>9.690716</td>\n",
       "    </tr>\n",
       "    <tr>\n",
       "      <th>28</th>\n",
       "      <td>10.732583</td>\n",
       "    </tr>\n",
       "    <tr>\n",
       "      <th>29</th>\n",
       "      <td>13.695045</td>\n",
       "    </tr>\n",
       "    <tr>\n",
       "      <th>30</th>\n",
       "      <td>15.942992</td>\n",
       "    </tr>\n",
       "    <tr>\n",
       "      <th>31</th>\n",
       "      <td>18.167910</td>\n",
       "    </tr>\n",
       "    <tr>\n",
       "      <th>32</th>\n",
       "      <td>20.614934</td>\n",
       "    </tr>\n",
       "    <tr>\n",
       "      <th>33</th>\n",
       "      <td>24.900373</td>\n",
       "    </tr>\n",
       "    <tr>\n",
       "      <th>34</th>\n",
       "      <td>23.149648</td>\n",
       "    </tr>\n",
       "    <tr>\n",
       "      <th>35</th>\n",
       "      <td>27.788323</td>\n",
       "    </tr>\n",
       "    <tr>\n",
       "      <th>36</th>\n",
       "      <td>23.016886</td>\n",
       "    </tr>\n",
       "    <tr>\n",
       "      <th>37</th>\n",
       "      <td>17.780286</td>\n",
       "    </tr>\n",
       "    <tr>\n",
       "      <th>38</th>\n",
       "      <td>20.369889</td>\n",
       "    </tr>\n",
       "    <tr>\n",
       "      <th>39</th>\n",
       "      <td>11.596507</td>\n",
       "    </tr>\n",
       "    <tr>\n",
       "      <th>40</th>\n",
       "      <td>10.646268</td>\n",
       "    </tr>\n",
       "    <tr>\n",
       "      <th>41</th>\n",
       "      <td>11.859829</td>\n",
       "    </tr>\n",
       "    <tr>\n",
       "      <th>42</th>\n",
       "      <td>14.135180</td>\n",
       "    </tr>\n",
       "    <tr>\n",
       "      <th>43</th>\n",
       "      <td>15.629006</td>\n",
       "    </tr>\n",
       "    <tr>\n",
       "      <th>44</th>\n",
       "      <td>7.844964</td>\n",
       "    </tr>\n",
       "    <tr>\n",
       "      <th>45</th>\n",
       "      <td>5.533894</td>\n",
       "    </tr>\n",
       "    <tr>\n",
       "      <th>46</th>\n",
       "      <td>6.356766</td>\n",
       "    </tr>\n",
       "    <tr>\n",
       "      <th>47</th>\n",
       "      <td>7.039773</td>\n",
       "    </tr>\n",
       "    <tr>\n",
       "      <th>48</th>\n",
       "      <td>8.007684</td>\n",
       "    </tr>\n",
       "    <tr>\n",
       "      <th>49</th>\n",
       "      <td>8.038340</td>\n",
       "    </tr>\n",
       "  </tbody>\n",
       "</table>\n",
       "</div>"
      ],
      "text/plain": [
       "           Multiple\n",
       "Leverage           \n",
       "1          1.160187\n",
       "2          1.341072\n",
       "3          1.544299\n",
       "4          1.771404\n",
       "5          2.023733\n",
       "6          2.302348\n",
       "7          2.106881\n",
       "8          2.505106\n",
       "9          2.966130\n",
       "10         3.509410\n",
       "11         4.141507\n",
       "12         4.876543\n",
       "13         5.730776\n",
       "14         6.721250\n",
       "15         7.859266\n",
       "16         4.160857\n",
       "17         4.949235\n",
       "18         3.316258\n",
       "19         2.601281\n",
       "20         3.111438\n",
       "21         3.635912\n",
       "22         4.260053\n",
       "23         5.229906\n",
       "24         6.129926\n",
       "25         7.064017\n",
       "26         8.337190\n",
       "27         9.690716\n",
       "28        10.732583\n",
       "29        13.695045\n",
       "30        15.942992\n",
       "31        18.167910\n",
       "32        20.614934\n",
       "33        24.900373\n",
       "34        23.149648\n",
       "35        27.788323\n",
       "36        23.016886\n",
       "37        17.780286\n",
       "38        20.369889\n",
       "39        11.596507\n",
       "40        10.646268\n",
       "41        11.859829\n",
       "42        14.135180\n",
       "43        15.629006\n",
       "44         7.844964\n",
       "45         5.533894\n",
       "46         6.356766\n",
       "47         7.039773\n",
       "48         8.007684\n",
       "49         8.038340"
      ]
     },
     "execution_count": 66,
     "metadata": {},
     "output_type": "execute_result"
    }
   ],
   "source": [
    "results.set_index(\"Leverage\", inplace = True)\n",
    "results"
   ]
  },
  {
   "cell_type": "code",
   "execution_count": 67,
   "metadata": {},
   "outputs": [
    {
     "data": {
      "image/png": "[encoded data removed]",
      "text/plain": [
       "<Figure size 1200x800 with 1 Axes>"
      ]
     },
     "metadata": {},
     "output_type": "display_data"
    }
   ],
   "source": [
    "results.plot(figsize = (12, 8));\n",
    "plt.show()"
   ]
  },
  {
   "cell_type": "code",
   "execution_count": 71,
   "metadata": {},
   "outputs": [
    {
     "name": "stdout",
     "output_type": "stream",
     "text": [
      "====================================================================================================\n",
      "SIMPLE CONTRARIAN STRATEGY | INSTRUMENT = EURUSD | Freq: 181min | WINDOW = 106\n",
      "----------------------------------------------------------------------------------------------------\n",
      "PERFORMANCE MEASURES:\n",
      "\n",
      "\n",
      "Multiple (Strategy):         1.160187\n",
      "Multiple (Buy-and-Hold):     0.935635\n",
      "--------------------------------------\n",
      "Out-/Underperformance:       0.224552\n",
      "\n",
      "\n",
      "CAGR:                        0.169817\n",
      "Annualized Mean:             0.157523\n",
      "Annualized Std:              0.07865\n",
      "Sharpe Ratio:                2.002824\n",
      "Sortino Ratio:               2.86007\n",
      "Maximum Drawdown:            0.062707\n",
      "Calmar Ratio:                2.708091\n",
      "Max Drawdown Duration:       96 Days\n",
      "Kelly Criterion:             25.964675\n",
      "====================================================================================================\n"
     ]
    }
   ],
   "source": [
    "tester.test_strategy(181, 106)"
   ]
  },
  {
   "cell_type": "code",
   "execution_count": 72,
   "metadata": {},
   "outputs": [
    {
     "name": "stdout",
     "output_type": "stream",
     "text": [
      "====================================================================================================\n",
      "SIMPLE CONTRARIAN STRATEGY | INSTRUMENT = EURUSD | Freq: 181min | WINDOW = 106\n",
      "----------------------------------------------------------------------------------------------------\n",
      "PERFORMANCE MEASURES:\n",
      "\n",
      "\n",
      "Multiple (Strategy):         4.876543\n",
      "Multiple (Buy-and-Hold):     0.935635\n",
      "--------------------------------------\n",
      "Out-/Underperformance:       3.940908\n",
      "\n",
      "\n",
      "CAGR:                        4.325933\n",
      "Annualized Mean:             1.679788\n",
      "Annualized Std:              0.955181\n",
      "Sharpe Ratio:                1.758607\n",
      "Sortino Ratio:               2.503302\n",
      "Maximum Drawdown:            0.464383\n",
      "Calmar Ratio:                9.315442\n",
      "Max Drawdown Duration:       143 Days\n",
      "Kelly Criterion:             2.341017\n",
      "====================================================================================================\n"
     ]
    }
   ],
   "source": [
    "tester.add_leverage(12, sl = -0.4)"
   ]
  },
  {
   "cell_type": "code",
   "execution_count": 73,
   "metadata": {},
   "outputs": [
    {
     "data": {
      "image/png": "[encoded data removed]",
      "text/plain": [
       "<Figure size 1200x800 with 1 Axes>"
      ]
     },
     "metadata": {},
     "output_type": "display_data"
    }
   ],
   "source": [
    "tester.plot_results(leverage=True)"
   ]
  },
  {
   "cell_type": "markdown",
   "metadata": {},
   "source": [
    "__Forward Testing__"
   ]
  },
  {
   "cell_type": "code",
   "execution_count": 74,
   "metadata": {},
   "outputs": [
    {
     "data": {
      "text/plain": [
       "ConBacktester(symbol = EURUSD, start = 2019-01-01, end = 2019-12-31)"
      ]
     },
     "execution_count": 74,
     "metadata": {},
     "output_type": "execute_result"
    }
   ],
   "source": [
    "tester = ConBacktester(filepath = filepath, symbol = symbol, start = \"2019-01-01\", end = \"2019-12-31\", tc = ptc)\n",
    "tester"
   ]
  },
  {
   "cell_type": "code",
   "execution_count": 75,
   "metadata": {},
   "outputs": [
    {
     "name": "stdout",
     "output_type": "stream",
     "text": [
      "====================================================================================================\n",
      "SIMPLE CONTRARIAN STRATEGY | INSTRUMENT = EURUSD | Freq: 181min | WINDOW = 106\n",
      "----------------------------------------------------------------------------------------------------\n",
      "PERFORMANCE MEASURES:\n",
      "\n",
      "\n",
      "Multiple (Strategy):         1.094609\n",
      "Multiple (Buy-and-Hold):     0.985544\n",
      "--------------------------------------\n",
      "Out-/Underperformance:       0.109065\n",
      "\n",
      "\n",
      "CAGR:                        0.100738\n",
      "Annualized Mean:             0.095877\n",
      "Annualized Std:              0.054168\n",
      "Sharpe Ratio:                1.769984\n",
      "Sortino Ratio:               2.522276\n",
      "Maximum Drawdown:            0.030563\n",
      "Calmar Ratio:                3.296115\n",
      "Max Drawdown Duration:       76 Days\n",
      "Kelly Criterion:             33.175533\n",
      "====================================================================================================\n"
     ]
    }
   ],
   "source": [
    "tester.test_strategy(181, 106)"
   ]
  },
  {
   "cell_type": "code",
   "execution_count": 76,
   "metadata": {},
   "outputs": [
    {
     "name": "stdout",
     "output_type": "stream",
     "text": [
      "====================================================================================================\n",
      "SIMPLE CONTRARIAN STRATEGY | INSTRUMENT = EURUSD | Freq: 181min | WINDOW = 106\n",
      "----------------------------------------------------------------------------------------------------\n",
      "PERFORMANCE MEASURES:\n",
      "\n",
      "\n",
      "Multiple (Strategy):         2.687348\n",
      "Multiple (Buy-and-Hold):     0.985544\n",
      "--------------------------------------\n",
      "Out-/Underperformance:       1.701804\n",
      "\n",
      "\n",
      "CAGR:                        1.856568\n",
      "Annualized Mean:             1.048478\n",
      "Annualized Std:              0.670937\n",
      "Sharpe Ratio:                1.562707\n",
      "Sortino Ratio:               2.219991\n",
      "Maximum Drawdown:            0.325229\n",
      "Calmar Ratio:                5.7085\n",
      "Max Drawdown Duration:       76 Days\n",
      "Kelly Criterion:             2.829305\n",
      "====================================================================================================\n"
     ]
    }
   ],
   "source": [
    "tester.add_leverage(12, sl = -0.4)"
   ]
  },
  {
   "cell_type": "code",
   "execution_count": 77,
   "metadata": {},
   "outputs": [
    {
     "data": {
      "image/png": "[encoded data removed]",
      "text/plain": [
       "<Figure size 1200x800 with 1 Axes>"
      ]
     },
     "metadata": {},
     "output_type": "display_data"
    }
   ],
   "source": [
    "tester.plot_results(leverage=True)"
   ]
  },
  {
   "cell_type": "code",
   "execution_count": null,
   "metadata": {},
   "outputs": [],
   "source": []
  }
 ],
 "metadata": {
  "kernelspec": {
   "display_name": "Python 3 (ipykernel)",
   "language": "python",
   "name": "python3"
  },
  "language_info": {
   "codemirror_mode": {
    "name": "ipython",
    "version": 3
   },
   "file_extension": ".py",
   "mimetype": "text/x-python",
   "name": "python",
   "nbconvert_exporter": "python",
   "pygments_lexer": "ipython3",
   "version": "3.10.9"
  },
  "orig_nbformat": 4
 },
 "nbformat": 4,
 "nbformat_minor": 2
}
