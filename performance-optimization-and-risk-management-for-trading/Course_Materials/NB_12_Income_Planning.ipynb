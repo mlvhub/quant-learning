{
 "cells": [
  {
   "cell_type": "markdown",
   "id": "85c138ea",
   "metadata": {},
   "source": [
    "# Sustainable Income Planning"
   ]
  },
  {
   "cell_type": "markdown",
   "id": "5d64426a",
   "metadata": {},
   "source": [
    "## Simple Income Calculation (too simple)"
   ]
  },
  {
   "cell_type": "markdown",
   "id": "b4bf5726",
   "metadata": {},
   "source": [
    "A Trader has created a levered trading strategy that (on average) generates an __annualized mean return of 105%__ (log) with a __standard deviation of 67%__. <br>\n",
    "The applicable (flat) __tax rate is 25%__ and the __inflation__ protection shall be __3% p.a.__<br>\n",
    "Calculate the Trader´s __sustainable income__ if the trader starts with __USD 10,000__ (available funds for trading)."
   ]
  },
  {
   "cell_type": "code",
   "execution_count": 1,
   "id": "a2539bf8",
   "metadata": {},
   "outputs": [],
   "source": [
    "import numpy as np"
   ]
  },
  {
   "cell_type": "code",
   "execution_count": 2,
   "id": "0e197238",
   "metadata": {},
   "outputs": [],
   "source": [
    "ann_mean = 1.05\n",
    "ann_std = 0.67"
   ]
  },
  {
   "cell_type": "code",
   "execution_count": 3,
   "id": "68426a0d",
   "metadata": {},
   "outputs": [
    {
     "data": {
      "text/plain": [
       "1.8576511180631639"
      ]
     },
     "execution_count": 3,
     "metadata": {},
     "output_type": "execute_result"
    }
   ],
   "source": [
    "cagr = np.exp(ann_mean) - 1\n",
    "cagr"
   ]
  },
  {
   "cell_type": "code",
   "execution_count": 4,
   "id": "fbe70775",
   "metadata": {},
   "outputs": [],
   "source": [
    "I0 = 10000\n",
    "tax_rate = 0.25\n",
    "infl = 0.03"
   ]
  },
  {
   "cell_type": "code",
   "execution_count": 5,
   "id": "571cdc2a",
   "metadata": {},
   "outputs": [
    {
     "data": {
      "text/plain": [
       "13632.38338547373"
      ]
     },
     "execution_count": 5,
     "metadata": {},
     "output_type": "execute_result"
    }
   ],
   "source": [
    "ann_income = I0 * (cagr * (1-tax_rate) - infl)\n",
    "ann_income"
   ]
  },
  {
   "cell_type": "code",
   "execution_count": 6,
   "id": "85ec33a6",
   "metadata": {},
   "outputs": [
    {
     "data": {
      "text/plain": [
       "1136.0319487894774"
      ]
     },
     "execution_count": 6,
     "metadata": {},
     "output_type": "execute_result"
    }
   ],
   "source": [
    "monthly_income = ann_income / 12\n",
    "monthly_income"
   ]
  },
  {
   "cell_type": "markdown",
   "id": "07e31788",
   "metadata": {},
   "source": [
    "Is that realistic? __No!__ It assumes __zero risk__ and __annual year-end distributions__."
   ]
  },
  {
   "cell_type": "code",
   "execution_count": null,
   "id": "7d5ee79e",
   "metadata": {},
   "outputs": [],
   "source": []
  },
  {
   "cell_type": "markdown",
   "id": "7c3c7248",
   "metadata": {},
   "source": [
    "## Introduction to Simulations (Part 1)"
   ]
  },
  {
   "cell_type": "code",
   "execution_count": 7,
   "id": "56f0c423",
   "metadata": {},
   "outputs": [],
   "source": [
    "import pandas as pd\n",
    "import numpy as np\n",
    "import matplotlib.pyplot as plt\n",
    "plt.style.use(\"seaborn-v0_8\")"
   ]
  },
  {
   "cell_type": "code",
   "execution_count": 8,
   "id": "e7288fc9",
   "metadata": {},
   "outputs": [],
   "source": [
    "ann_mean = 1.05\n",
    "ann_std = 0.67"
   ]
  },
  {
   "cell_type": "code",
   "execution_count": 9,
   "id": "7850d99d",
   "metadata": {},
   "outputs": [
    {
     "data": {
      "text/plain": [
       "259"
      ]
     },
     "execution_count": 9,
     "metadata": {},
     "output_type": "execute_result"
    }
   ],
   "source": [
    "td_per_year = 259\n",
    "td_per_year"
   ]
  },
  {
   "cell_type": "code",
   "execution_count": 10,
   "id": "2fca59b9",
   "metadata": {},
   "outputs": [
    {
     "data": {
      "text/plain": [
       "0.004054054054054054"
      ]
     },
     "execution_count": 10,
     "metadata": {},
     "output_type": "execute_result"
    }
   ],
   "source": [
    "daily_mean = ann_mean / td_per_year\n",
    "daily_mean"
   ]
  },
  {
   "cell_type": "code",
   "execution_count": 11,
   "id": "a32df5d7",
   "metadata": {},
   "outputs": [
    {
     "data": {
      "text/plain": [
       "0.04163177432208041"
      ]
     },
     "execution_count": 11,
     "metadata": {},
     "output_type": "execute_result"
    }
   ],
   "source": [
    "daily_std = ann_std / np.sqrt(td_per_year)\n",
    "daily_std"
   ]
  },
  {
   "cell_type": "markdown",
   "id": "de9b2038",
   "metadata": {},
   "source": [
    "__Returns follow a random process__. It can get better/worse than the average/expected performance (random noise). "
   ]
  },
  {
   "cell_type": "markdown",
   "id": "d4b5beec",
   "metadata": {},
   "source": [
    "__One Simulation (over a 1-year period)__"
   ]
  },
  {
   "cell_type": "code",
   "execution_count": 12,
   "id": "5406b8ce",
   "metadata": {},
   "outputs": [],
   "source": [
    "days = 259"
   ]
  },
  {
   "cell_type": "code",
   "execution_count": 13,
   "id": "494a9d27",
   "metadata": {},
   "outputs": [],
   "source": [
    "np.random.seed(123)\n",
    "returns = np.random.normal(loc = daily_mean, scale = daily_std,\n",
    "                           size = days) # normal distribution (simplified)"
   ]
  },
  {
   "cell_type": "code",
   "execution_count": 14,
   "id": "84684d9f",
   "metadata": {},
   "outputs": [],
   "source": [
    "returns = np.insert(returns, 0, 0)"
   ]
  },
  {
   "cell_type": "code",
   "execution_count": 15,
   "id": "3adc53f7",
   "metadata": {},
   "outputs": [
    {
     "data": {
      "text/plain": [
       "array([ 0.00000000e+00, -4.11426742e-02,  4.55753146e-02,  1.58349510e-02,\n",
       "       -5.86556675e-02, -2.00341011e-02,  7.28062873e-02, -9.69729086e-02,\n",
       "       -1.38023397e-02,  5.67572267e-02, -3.20298868e-02, -2.42091810e-02,\n",
       "        1.11151633e-04,  6.61432504e-02, -2.25445697e-02, -1.44297027e-02,\n",
       "       -1.40287602e-02,  9.58908374e-02,  9.50938390e-02,  4.58545993e-02,\n",
       "        2.01316791e-02,  3.47520162e-02,  6.61158734e-02, -3.49063704e-02,\n",
       "        5.30059035e-02, -4.81472229e-02, -2.24966726e-02,  4.18184529e-02,\n",
       "       -5.54244584e-02, -1.77725529e-03, -3.18223313e-02, -6.58783389e-03,\n",
       "       -1.12456176e-01, -6.96980124e-02, -2.50830770e-02,  4.26659607e-02,\n",
       "       -3.17470751e-03,  4.17253458e-03,  3.27059866e-02, -3.25626045e-02,\n",
       "        1.58619628e-02, -2.94747831e-02, -6.78718924e-02, -1.22197979e-02,\n",
       "        2.79426102e-02,  1.81501170e-02,  3.56152958e-03,  1.03652465e-01,\n",
       "        2.12443199e-02,  4.48005706e-02,  9.72319324e-02, -4.98210141e-02,\n",
       "       -3.91925423e-02,  7.66478879e-02, -2.91707136e-02,  5.28981960e-03,\n",
       "        4.85715752e-02,  4.11357415e-02,  7.71130795e-02,  6.63203732e-02,\n",
       "        4.85747683e-02, -2.81151808e-02,  3.71455973e-02,  1.71377548e-02,\n",
       "       -5.11607303e-02,  6.30587281e-02,  3.76607433e-02,  5.94788682e-03,\n",
       "       -5.64998203e-03, -4.58333488e-02,  1.23605953e-02,  2.35560058e-02,\n",
       "       -3.05484027e-02,  5.24386707e-02, -4.16244556e-02, -8.43343806e-02,\n",
       "        4.73397377e-02, -1.27387898e-02, -1.19278120e-03, -3.08132531e-02,\n",
       "       -6.28050252e-02,  5.63118132e-02, -2.46247840e-02,  7.32024532e-02,\n",
       "        3.76637263e-02, -9.04988608e-03, -4.11539896e-02, -2.64396381e-02,\n",
       "       -4.64254353e-02,  9.09442864e-02,  1.09000342e-02,  5.19391516e-02,\n",
       "       -4.87080604e-02,  1.15908677e-02,  5.30905365e-02, -9.89303838e-03,\n",
       "        4.69811785e-02, -4.10984325e-02, -5.27096856e-02,  1.98491747e-02,\n",
       "       -1.17317337e-02,  3.07839300e-02, -7.82889299e-02,  3.37068946e-02,\n",
       "        1.12226057e-01,  3.02883075e-03,  5.47545146e-03,  1.15290177e-02,\n",
       "       -7.34632985e-02,  2.17952948e-02, -6.27820021e-02, -1.37510065e-02,\n",
       "        5.57969187e-02, -2.65543323e-02,  2.49219389e-02,  4.62161778e-02,\n",
       "        1.56585305e-02, -5.30209633e-02, -9.78748158e-03,  8.56278249e-02,\n",
       "       -8.02521941e-02, -7.42740704e-03, -1.89311846e-02,  9.08098102e-03,\n",
       "        3.52035978e-02,  7.10267134e-02, -7.19619990e-03,  3.78732650e-02,\n",
       "        2.48591230e-02,  2.38019737e-02, -1.94230998e-02, -3.74662083e-02,\n",
       "       -4.17426926e-02, -2.74377691e-02,  1.74464370e-02,  3.57337275e-02,\n",
       "        1.75206361e-02, -1.87999206e-02,  7.92397941e-02,  6.72871249e-02,\n",
       "       -1.06835987e-02, -3.02268564e-02,  9.47513364e-03,  5.68139452e-02,\n",
       "        1.79076505e-02,  2.72241641e-02, -4.77521773e-03,  2.30494210e-02,\n",
       "        6.83561801e-02, -5.92378257e-03,  1.00202092e-02,  1.46208843e-02,\n",
       "        1.58660440e-02, -5.47253850e-02, -7.40833183e-02, -3.83959957e-02,\n",
       "        1.10457898e-02,  2.71120690e-02, -1.80388695e-02,  6.13917268e-02,\n",
       "       -1.90661580e-03,  4.89984511e-03, -4.02100603e-03,  9.63382724e-03,\n",
       "        3.33825597e-02,  3.17663878e-02, -3.33488871e-02,  6.74868805e-02,\n",
       "       -4.15338403e-02,  7.35241522e-03, -7.36956217e-03, -3.96173307e-02,\n",
       "        9.26650689e-04, -2.67873378e-02,  7.08931195e-03,  2.08352378e-02,\n",
       "        6.53330854e-02,  1.68510045e-02, -2.13923414e-02, -1.22497735e-02,\n",
       "        9.88159098e-03,  7.94499421e-03,  6.48193451e-02,  6.21450723e-02,\n",
       "       -1.08890854e-02, -1.87868912e-02, -1.02400666e-01, -1.87984767e-02,\n",
       "       -3.66642236e-02, -1.07179177e-02,  2.03564009e-02,  1.14308851e-02,\n",
       "        2.80643275e-03,  1.23630115e-02, -1.19645262e-03,  1.22563018e-02,\n",
       "       -1.30460499e-01, -7.15711174e-03, -5.60858148e-04, -1.01532767e-02,\n",
       "       -5.01943554e-03,  3.33341022e-02, -2.08461321e-02,  9.56731872e-02,\n",
       "        3.27090765e-02,  3.79147201e-03, -4.54966431e-03,  4.51977754e-04,\n",
       "       -3.40518033e-02,  9.06034248e-05,  1.56561433e-02,  2.81813998e-02,\n",
       "        2.81875681e-02, -7.38958593e-03, -5.48999627e-02, -2.38018755e-02,\n",
       "        7.11725110e-02,  4.13585515e-02,  1.94419733e-02, -2.76399761e-02,\n",
       "        4.20580832e-03, -4.82216613e-02, -1.89240574e-02, -6.15419613e-03,\n",
       "       -1.10016580e-02,  4.38790898e-02, -5.50100230e-02, -3.19754270e-02,\n",
       "       -5.31766453e-02, -4.74591557e-02,  9.21872114e-03, -6.25751250e-02,\n",
       "        3.54389489e-02, -6.22132467e-03,  6.91783439e-03,  1.74834960e-02,\n",
       "       -1.40210685e-02,  4.70380166e-02, -4.03677849e-03,  2.87862529e-02,\n",
       "       -4.23534773e-03,  1.61636709e-02,  1.56969072e-02,  1.44607462e-02,\n",
       "       -3.65081105e-02,  2.22003358e-02, -9.22469133e-03,  3.03023895e-02,\n",
       "       -8.55580673e-02, -5.69413339e-02,  1.91849377e-02,  8.16110349e-02,\n",
       "        3.88190313e-02, -2.43575892e-02, -6.63890902e-02,  3.49733992e-02,\n",
       "        6.99231540e-04,  2.86461187e-02,  8.85414444e-03,  5.28814162e-03])"
      ]
     },
     "execution_count": 15,
     "metadata": {},
     "output_type": "execute_result"
    }
   ],
   "source": [
    "returns"
   ]
  },
  {
   "cell_type": "code",
   "execution_count": 16,
   "id": "11f32e06",
   "metadata": {},
   "outputs": [
    {
     "data": {
      "text/plain": [
       "260"
      ]
     },
     "execution_count": 16,
     "metadata": {},
     "output_type": "execute_result"
    }
   ],
   "source": [
    "len(returns)"
   ]
  },
  {
   "cell_type": "code",
   "execution_count": 17,
   "id": "53270e53",
   "metadata": {},
   "outputs": [
    {
     "data": {
      "text/plain": [
       "array([1.        , 0.9596922 , 1.00444248, 1.02047437, 0.96233941,\n",
       "       0.94325164, 1.01448806, 0.92072967, 0.90810875, 0.96114124,\n",
       "       0.93084379, 0.90857942, 0.90868041, 0.97081575, 0.949174  ,\n",
       "       0.93557604, 0.92254271, 1.0153864 , 1.11668343, 1.16908064,\n",
       "       1.1928547 , 1.23503753, 1.31945297, 1.27419023, 1.34355189,\n",
       "       1.28039618, 1.25191311, 1.30537627, 1.23499493, 1.23280198,\n",
       "       1.19418898, 1.18634772, 1.06016364, 0.98878858, 0.96429519,\n",
       "       1.00632808, 1.00313835, 1.00733272, 1.04082322, 1.00747717,\n",
       "       1.02358515, 0.99385549, 0.92863885, 0.91736013, 0.94335506,\n",
       "       0.96063339, 0.96406081, 1.06935061, 1.09231127, 1.14236018,\n",
       "       1.25901338, 1.19782495, 1.15178721, 1.2435407 , 1.20778971,\n",
       "       1.21419563, 1.27462676, 1.32815285, 1.43462317, 1.53299386,\n",
       "       1.60929688, 1.56468133, 1.62389531, 1.65196507, 1.56957487,\n",
       "       1.67173754, 1.73589698, 1.74625267, 1.73641419, 1.65862481,\n",
       "       1.67925362, 1.71927971, 1.66755257, 1.75733015, 1.68568371,\n",
       "       1.54935213, 1.62446186, 1.60389943, 1.60198747, 1.55337778,\n",
       "       1.45881834, 1.54332405, 1.50578413, 1.62014594, 1.68233037,\n",
       "       1.66717416, 1.59995593, 1.558208  , 1.48752105, 1.62914493,\n",
       "       1.6469998 , 1.73480407, 1.65233001, 1.67159338, 1.76273719,\n",
       "       1.74538435, 1.82934132, 1.75568226, 1.66553742, 1.69892725,\n",
       "       1.67911235, 1.73160586, 1.60121111, 1.65610289, 1.85279116,\n",
       "       1.85841146, 1.86861501, 1.89028297, 1.7563947 , 1.79509606,\n",
       "       1.6858612 , 1.66283758, 1.75825607, 1.7121812 , 1.75538824,\n",
       "       1.83841949, 1.867433  , 1.77099901, 1.75374994, 1.91053659,\n",
       "       1.76320283, 1.75015532, 1.71733446, 1.73300056, 1.79509498,\n",
       "       1.92723175, 1.91341279, 1.98726975, 2.0372907 , 2.08636394,\n",
       "       2.0462313 , 1.97098516, 1.89040446, 1.8392411 , 1.87161085,\n",
       "       1.93969977, 1.97398401, 1.93721993, 2.09697056, 2.24292505,\n",
       "       2.21909008, 2.15301758, 2.17351466, 2.30057585, 2.34214485,\n",
       "       2.40678366, 2.39531814, 2.45117004, 2.62458204, 2.60908054,\n",
       "       2.6353555 , 2.67416978, 2.71693665, 2.57224647, 2.38857347,\n",
       "       2.29860017, 2.32413077, 2.38800473, 2.34531402, 2.49380843,\n",
       "       2.48905823, 2.50128415, 2.49124667, 2.51536289, 2.60074942,\n",
       "       2.68469205, 2.59663699, 2.77792438, 2.66490973, 2.68457546,\n",
       "       2.66486403, 2.56135318, 2.56372776, 2.49596398, 2.51372152,\n",
       "       2.56664492, 2.73993077, 2.78649256, 2.72751603, 2.69430839,\n",
       "       2.72106442, 2.74276937, 2.92644236, 3.11407621, 3.08035072,\n",
       "       3.02302072, 2.72878349, 2.67796567, 2.58155828, 2.5540371 ,\n",
       "       2.60656089, 2.63652713, 2.64393676, 2.67682667, 2.67362589,\n",
       "       2.70659629, 2.37555564, 2.35861422, 2.35729175, 2.33347861,\n",
       "       2.32179521, 2.40049457, 2.35097151, 2.5870076 , 2.67302534,\n",
       "       2.68317928, 2.67099944, 2.67220695, 2.58274529, 2.58297931,\n",
       "       2.62373702, 2.69872934, 2.77588222, 2.7554452 , 2.60824887,\n",
       "       2.54690065, 2.73477646, 2.8502544 , 2.90621116, 2.82698352,\n",
       "       2.83889831, 2.70525018, 2.65453723, 2.63825086, 2.6093848 ,\n",
       "       2.7264314 , 2.58050096, 2.49929358, 2.36986142, 2.26001697,\n",
       "       2.28094777, 2.14259116, 2.21988384, 2.20611609, 2.22143055,\n",
       "       2.26061042, 2.22913542, 2.33649472, 2.32708182, 2.39504327,\n",
       "       2.38492088, 2.42378319, 2.46212926, 2.49799216, 2.40843983,\n",
       "       2.46250592, 2.43989452, 2.51496075, 2.30873356, 2.18094397,\n",
       "       2.22318918, 2.41223516, 2.50771706, 2.44737301, 2.29017016,\n",
       "       2.37168226, 2.3733412 , 2.44231136, 2.46403195, 2.47709662])"
      ]
     },
     "execution_count": 17,
     "metadata": {},
     "output_type": "execute_result"
    }
   ],
   "source": [
    "creturns = np.exp(returns.cumsum())\n",
    "creturns"
   ]
  },
  {
   "cell_type": "code",
   "execution_count": 18,
   "id": "15771f24",
   "metadata": {},
   "outputs": [
    {
     "data": {
      "image/png": "[encoded data removed]",
      "text/plain": [
       "<Figure size 1200x800 with 1 Axes>"
      ]
     },
     "metadata": {},
     "output_type": "display_data"
    }
   ],
   "source": [
    "plt.figure(figsize = (12, 8))\n",
    "plt.plot(creturns)\n",
    "plt.xlabel(\"Time (Days)\", fontsize = 12)\n",
    "plt.ylabel(\"Multiple\",  fontsize = 12)\n",
    "plt.show()"
   ]
  },
  {
   "cell_type": "code",
   "execution_count": 19,
   "id": "d26710d1",
   "metadata": {},
   "outputs": [
    {
     "data": {
      "text/plain": [
       "0.9035983589568952"
      ]
     },
     "execution_count": 19,
     "metadata": {},
     "output_type": "execute_result"
    }
   ],
   "source": [
    "np.mean(returns) * td_per_year"
   ]
  },
  {
   "cell_type": "code",
   "execution_count": 20,
   "id": "5383cc89",
   "metadata": {},
   "outputs": [
    {
     "data": {
      "text/plain": [
       "0.6793305254863935"
      ]
     },
     "execution_count": 20,
     "metadata": {},
     "output_type": "execute_result"
    }
   ],
   "source": [
    "np.std(returns) * np.sqrt(td_per_year)"
   ]
  },
  {
   "cell_type": "markdown",
   "id": "17247c2d",
   "metadata": {},
   "source": [
    "__How good/bad can it get? -> Many Simulations__"
   ]
  },
  {
   "cell_type": "code",
   "execution_count": null,
   "id": "896620a9",
   "metadata": {},
   "outputs": [],
   "source": []
  },
  {
   "cell_type": "markdown",
   "id": "7975a552",
   "metadata": {},
   "source": [
    "## Introduction to Simulations (Part 2)"
   ]
  },
  {
   "cell_type": "markdown",
   "id": "6e19df8d",
   "metadata": {},
   "source": [
    "__Many Simulations (each over 1-year period)__"
   ]
  },
  {
   "cell_type": "code",
   "execution_count": 21,
   "id": "843fffd9",
   "metadata": {},
   "outputs": [
    {
     "data": {
      "text/plain": [
       "1000"
      ]
     },
     "execution_count": 21,
     "metadata": {},
     "output_type": "execute_result"
    }
   ],
   "source": [
    "sims = 1000\n",
    "sims"
   ]
  },
  {
   "cell_type": "code",
   "execution_count": 22,
   "id": "66a4effb",
   "metadata": {},
   "outputs": [
    {
     "data": {
      "text/plain": [
       "259"
      ]
     },
     "execution_count": 22,
     "metadata": {},
     "output_type": "execute_result"
    }
   ],
   "source": [
    "days"
   ]
  },
  {
   "cell_type": "code",
   "execution_count": 23,
   "id": "838771d2",
   "metadata": {},
   "outputs": [
    {
     "data": {
      "text/plain": [
       "(259, 1000)"
      ]
     },
     "execution_count": 23,
     "metadata": {},
     "output_type": "execute_result"
    }
   ],
   "source": [
    "np.random.seed(123)\n",
    "returns = np.random.normal(loc = daily_mean, scale = daily_std, size = days * sims).reshape(days, sims)\n",
    "returns.shape"
   ]
  },
  {
   "cell_type": "code",
   "execution_count": 24,
   "id": "8d1679b8",
   "metadata": {},
   "outputs": [
    {
     "data": {
      "text/plain": [
       "array([[-0.04114267,  0.04557531,  0.01583495, ..., -0.03380284,\n",
       "         0.02363197, -0.04221677],\n",
       "       [-0.02712096,  0.02768403,  0.03395194, ..., -0.01090411,\n",
       "        -0.06296041,  0.004619  ],\n",
       "       [-0.06981002, -0.04596141,  0.04969317, ...,  0.08900086,\n",
       "         0.04634848, -0.06396345],\n",
       "       ...,\n",
       "       [ 0.03950395,  0.03534108,  0.0702441 , ..., -0.03464241,\n",
       "        -0.02268064, -0.06339479],\n",
       "       [-0.1057529 ,  0.02532939,  0.01398934, ..., -0.01974085,\n",
       "         0.04955439, -0.02298456],\n",
       "       [ 0.04087776, -0.05421596, -0.02584539, ..., -0.01003307,\n",
       "        -0.01759928,  0.05507618]])"
      ]
     },
     "execution_count": 24,
     "metadata": {},
     "output_type": "execute_result"
    }
   ],
   "source": [
    "returns"
   ]
  },
  {
   "cell_type": "code",
   "execution_count": 25,
   "id": "c0abe9fd",
   "metadata": {},
   "outputs": [
    {
     "data": {
      "text/plain": [
       "array([[ 0.        ,  0.        ,  0.        , ...,  0.        ,\n",
       "         0.        ,  0.        ],\n",
       "       [-0.04114267,  0.04557531,  0.01583495, ..., -0.03380284,\n",
       "         0.02363197, -0.04221677],\n",
       "       [-0.02712096,  0.02768403,  0.03395194, ..., -0.01090411,\n",
       "        -0.06296041,  0.004619  ],\n",
       "       ...,\n",
       "       [ 0.03950395,  0.03534108,  0.0702441 , ..., -0.03464241,\n",
       "        -0.02268064, -0.06339479],\n",
       "       [-0.1057529 ,  0.02532939,  0.01398934, ..., -0.01974085,\n",
       "         0.04955439, -0.02298456],\n",
       "       [ 0.04087776, -0.05421596, -0.02584539, ..., -0.01003307,\n",
       "        -0.01759928,  0.05507618]])"
      ]
     },
     "execution_count": 25,
     "metadata": {},
     "output_type": "execute_result"
    }
   ],
   "source": [
    "returns = np.insert(returns, 0, 0, axis = 0)\n",
    "returns"
   ]
  },
  {
   "cell_type": "code",
   "execution_count": 26,
   "id": "32421fd8",
   "metadata": {},
   "outputs": [
    {
     "data": {
      "text/html": [
       "<div>\n",
       "<style scoped>\n",
       "    .dataframe tbody tr th:only-of-type {\n",
       "        vertical-align: middle;\n",
       "    }\n",
       "\n",
       "    .dataframe tbody tr th {\n",
       "        vertical-align: top;\n",
       "    }\n",
       "\n",
       "    .dataframe thead th {\n",
       "        text-align: right;\n",
       "    }\n",
       "</style>\n",
       "<table border=\"1\" class=\"dataframe\">\n",
       "  <thead>\n",
       "    <tr style=\"text-align: right;\">\n",
       "      <th></th>\n",
       "      <th>0</th>\n",
       "      <th>1</th>\n",
       "      <th>2</th>\n",
       "      <th>3</th>\n",
       "      <th>4</th>\n",
       "      <th>5</th>\n",
       "      <th>6</th>\n",
       "      <th>7</th>\n",
       "      <th>8</th>\n",
       "      <th>9</th>\n",
       "      <th>...</th>\n",
       "      <th>990</th>\n",
       "      <th>991</th>\n",
       "      <th>992</th>\n",
       "      <th>993</th>\n",
       "      <th>994</th>\n",
       "      <th>995</th>\n",
       "      <th>996</th>\n",
       "      <th>997</th>\n",
       "      <th>998</th>\n",
       "      <th>999</th>\n",
       "    </tr>\n",
       "  </thead>\n",
       "  <tbody>\n",
       "    <tr>\n",
       "      <th>0</th>\n",
       "      <td>0.000000</td>\n",
       "      <td>0.000000</td>\n",
       "      <td>0.000000</td>\n",
       "      <td>0.000000</td>\n",
       "      <td>0.000000</td>\n",
       "      <td>0.000000</td>\n",
       "      <td>0.000000</td>\n",
       "      <td>0.000000</td>\n",
       "      <td>0.000000</td>\n",
       "      <td>0.000000</td>\n",
       "      <td>...</td>\n",
       "      <td>0.000000</td>\n",
       "      <td>0.000000</td>\n",
       "      <td>0.000000</td>\n",
       "      <td>0.000000</td>\n",
       "      <td>0.000000</td>\n",
       "      <td>0.000000</td>\n",
       "      <td>0.000000</td>\n",
       "      <td>0.000000</td>\n",
       "      <td>0.000000</td>\n",
       "      <td>0.000000</td>\n",
       "    </tr>\n",
       "    <tr>\n",
       "      <th>1</th>\n",
       "      <td>-0.041143</td>\n",
       "      <td>0.045575</td>\n",
       "      <td>0.015835</td>\n",
       "      <td>-0.058656</td>\n",
       "      <td>-0.020034</td>\n",
       "      <td>0.072806</td>\n",
       "      <td>-0.096973</td>\n",
       "      <td>-0.013802</td>\n",
       "      <td>0.056757</td>\n",
       "      <td>-0.032030</td>\n",
       "      <td>...</td>\n",
       "      <td>-0.014829</td>\n",
       "      <td>0.045655</td>\n",
       "      <td>-0.050818</td>\n",
       "      <td>-0.076369</td>\n",
       "      <td>-0.013416</td>\n",
       "      <td>0.030480</td>\n",
       "      <td>0.048597</td>\n",
       "      <td>-0.033803</td>\n",
       "      <td>0.023632</td>\n",
       "      <td>-0.042217</td>\n",
       "    </tr>\n",
       "    <tr>\n",
       "      <th>2</th>\n",
       "      <td>-0.027121</td>\n",
       "      <td>0.027684</td>\n",
       "      <td>0.033952</td>\n",
       "      <td>-0.037552</td>\n",
       "      <td>0.023825</td>\n",
       "      <td>-0.073735</td>\n",
       "      <td>-0.004383</td>\n",
       "      <td>-0.043167</td>\n",
       "      <td>-0.029572</td>\n",
       "      <td>-0.049071</td>\n",
       "      <td>...</td>\n",
       "      <td>-0.040925</td>\n",
       "      <td>0.010752</td>\n",
       "      <td>-0.021032</td>\n",
       "      <td>0.033168</td>\n",
       "      <td>0.080967</td>\n",
       "      <td>0.039262</td>\n",
       "      <td>-0.042570</td>\n",
       "      <td>-0.010904</td>\n",
       "      <td>-0.062960</td>\n",
       "      <td>0.004619</td>\n",
       "    </tr>\n",
       "    <tr>\n",
       "      <th>3</th>\n",
       "      <td>-0.069810</td>\n",
       "      <td>-0.045961</td>\n",
       "      <td>0.049693</td>\n",
       "      <td>0.039901</td>\n",
       "      <td>-0.059242</td>\n",
       "      <td>-0.014574</td>\n",
       "      <td>0.023350</td>\n",
       "      <td>0.020394</td>\n",
       "      <td>-0.063688</td>\n",
       "      <td>0.014879</td>\n",
       "      <td>...</td>\n",
       "      <td>0.050816</td>\n",
       "      <td>-0.033785</td>\n",
       "      <td>0.018054</td>\n",
       "      <td>0.005800</td>\n",
       "      <td>-0.038970</td>\n",
       "      <td>0.000918</td>\n",
       "      <td>-0.035338</td>\n",
       "      <td>0.089001</td>\n",
       "      <td>0.046348</td>\n",
       "      <td>-0.063963</td>\n",
       "    </tr>\n",
       "    <tr>\n",
       "      <th>4</th>\n",
       "      <td>-0.014705</td>\n",
       "      <td>0.029432</td>\n",
       "      <td>0.052919</td>\n",
       "      <td>0.040349</td>\n",
       "      <td>0.083351</td>\n",
       "      <td>0.009612</td>\n",
       "      <td>0.057419</td>\n",
       "      <td>-0.044205</td>\n",
       "      <td>0.040295</td>\n",
       "      <td>-0.004673</td>\n",
       "      <td>...</td>\n",
       "      <td>-0.000240</td>\n",
       "      <td>-0.069273</td>\n",
       "      <td>-0.003655</td>\n",
       "      <td>0.025040</td>\n",
       "      <td>0.060447</td>\n",
       "      <td>-0.033746</td>\n",
       "      <td>-0.071634</td>\n",
       "      <td>-0.001056</td>\n",
       "      <td>0.078762</td>\n",
       "      <td>-0.009289</td>\n",
       "    </tr>\n",
       "    <tr>\n",
       "      <th>...</th>\n",
       "      <td>...</td>\n",
       "      <td>...</td>\n",
       "      <td>...</td>\n",
       "      <td>...</td>\n",
       "      <td>...</td>\n",
       "      <td>...</td>\n",
       "      <td>...</td>\n",
       "      <td>...</td>\n",
       "      <td>...</td>\n",
       "      <td>...</td>\n",
       "      <td>...</td>\n",
       "      <td>...</td>\n",
       "      <td>...</td>\n",
       "      <td>...</td>\n",
       "      <td>...</td>\n",
       "      <td>...</td>\n",
       "      <td>...</td>\n",
       "      <td>...</td>\n",
       "      <td>...</td>\n",
       "      <td>...</td>\n",
       "      <td>...</td>\n",
       "    </tr>\n",
       "    <tr>\n",
       "      <th>255</th>\n",
       "      <td>0.051937</td>\n",
       "      <td>-0.018990</td>\n",
       "      <td>-0.052896</td>\n",
       "      <td>0.034635</td>\n",
       "      <td>0.031233</td>\n",
       "      <td>-0.068361</td>\n",
       "      <td>0.024687</td>\n",
       "      <td>-0.070243</td>\n",
       "      <td>-0.069933</td>\n",
       "      <td>-0.050282</td>\n",
       "      <td>...</td>\n",
       "      <td>-0.050380</td>\n",
       "      <td>-0.078665</td>\n",
       "      <td>-0.020635</td>\n",
       "      <td>-0.011015</td>\n",
       "      <td>-0.024401</td>\n",
       "      <td>0.049737</td>\n",
       "      <td>0.025631</td>\n",
       "      <td>0.042642</td>\n",
       "      <td>-0.005112</td>\n",
       "      <td>0.011817</td>\n",
       "    </tr>\n",
       "    <tr>\n",
       "      <th>256</th>\n",
       "      <td>-0.055444</td>\n",
       "      <td>0.053043</td>\n",
       "      <td>-0.014038</td>\n",
       "      <td>0.022591</td>\n",
       "      <td>-0.065461</td>\n",
       "      <td>0.056945</td>\n",
       "      <td>-0.022807</td>\n",
       "      <td>-0.017407</td>\n",
       "      <td>0.037245</td>\n",
       "      <td>-0.040969</td>\n",
       "      <td>...</td>\n",
       "      <td>0.026566</td>\n",
       "      <td>0.032949</td>\n",
       "      <td>0.005559</td>\n",
       "      <td>0.004621</td>\n",
       "      <td>-0.028069</td>\n",
       "      <td>0.050835</td>\n",
       "      <td>0.008423</td>\n",
       "      <td>-0.002940</td>\n",
       "      <td>-0.047304</td>\n",
       "      <td>-0.026624</td>\n",
       "    </tr>\n",
       "    <tr>\n",
       "      <th>257</th>\n",
       "      <td>0.039504</td>\n",
       "      <td>0.035341</td>\n",
       "      <td>0.070244</td>\n",
       "      <td>0.019747</td>\n",
       "      <td>0.052718</td>\n",
       "      <td>-0.014777</td>\n",
       "      <td>-0.045915</td>\n",
       "      <td>0.055573</td>\n",
       "      <td>-0.068645</td>\n",
       "      <td>0.024780</td>\n",
       "      <td>...</td>\n",
       "      <td>-0.006354</td>\n",
       "      <td>0.079942</td>\n",
       "      <td>-0.032088</td>\n",
       "      <td>0.027214</td>\n",
       "      <td>-0.059273</td>\n",
       "      <td>-0.011992</td>\n",
       "      <td>-0.017676</td>\n",
       "      <td>-0.034642</td>\n",
       "      <td>-0.022681</td>\n",
       "      <td>-0.063395</td>\n",
       "    </tr>\n",
       "    <tr>\n",
       "      <th>258</th>\n",
       "      <td>-0.105753</td>\n",
       "      <td>0.025329</td>\n",
       "      <td>0.013989</td>\n",
       "      <td>0.040557</td>\n",
       "      <td>-0.011787</td>\n",
       "      <td>-0.034180</td>\n",
       "      <td>-0.089196</td>\n",
       "      <td>-0.042372</td>\n",
       "      <td>0.005505</td>\n",
       "      <td>0.002658</td>\n",
       "      <td>...</td>\n",
       "      <td>0.052763</td>\n",
       "      <td>-0.043537</td>\n",
       "      <td>0.001255</td>\n",
       "      <td>0.053566</td>\n",
       "      <td>0.007309</td>\n",
       "      <td>-0.046991</td>\n",
       "      <td>-0.007563</td>\n",
       "      <td>-0.019741</td>\n",
       "      <td>0.049554</td>\n",
       "      <td>-0.022985</td>\n",
       "    </tr>\n",
       "    <tr>\n",
       "      <th>259</th>\n",
       "      <td>0.040878</td>\n",
       "      <td>-0.054216</td>\n",
       "      <td>-0.025845</td>\n",
       "      <td>0.024832</td>\n",
       "      <td>0.038868</td>\n",
       "      <td>0.054735</td>\n",
       "      <td>0.024045</td>\n",
       "      <td>0.090183</td>\n",
       "      <td>0.040860</td>\n",
       "      <td>0.008484</td>\n",
       "      <td>...</td>\n",
       "      <td>-0.046964</td>\n",
       "      <td>0.052724</td>\n",
       "      <td>-0.010891</td>\n",
       "      <td>0.024885</td>\n",
       "      <td>-0.007070</td>\n",
       "      <td>-0.078577</td>\n",
       "      <td>0.023441</td>\n",
       "      <td>-0.010033</td>\n",
       "      <td>-0.017599</td>\n",
       "      <td>0.055076</td>\n",
       "    </tr>\n",
       "  </tbody>\n",
       "</table>\n",
       "<p>260 rows × 1000 columns</p>\n",
       "</div>"
      ],
      "text/plain": [
       "          0         1         2         3         4         5         6    \\\n",
       "0    0.000000  0.000000  0.000000  0.000000  0.000000  0.000000  0.000000   \n",
       "1   -0.041143  0.045575  0.015835 -0.058656 -0.020034  0.072806 -0.096973   \n",
       "2   -0.027121  0.027684  0.033952 -0.037552  0.023825 -0.073735 -0.004383   \n",
       "3   -0.069810 -0.045961  0.049693  0.039901 -0.059242 -0.014574  0.023350   \n",
       "4   -0.014705  0.029432  0.052919  0.040349  0.083351  0.009612  0.057419   \n",
       "..        ...       ...       ...       ...       ...       ...       ...   \n",
       "255  0.051937 -0.018990 -0.052896  0.034635  0.031233 -0.068361  0.024687   \n",
       "256 -0.055444  0.053043 -0.014038  0.022591 -0.065461  0.056945 -0.022807   \n",
       "257  0.039504  0.035341  0.070244  0.019747  0.052718 -0.014777 -0.045915   \n",
       "258 -0.105753  0.025329  0.013989  0.040557 -0.011787 -0.034180 -0.089196   \n",
       "259  0.040878 -0.054216 -0.025845  0.024832  0.038868  0.054735  0.024045   \n",
       "\n",
       "          7         8         9    ...       990       991       992  \\\n",
       "0    0.000000  0.000000  0.000000  ...  0.000000  0.000000  0.000000   \n",
       "1   -0.013802  0.056757 -0.032030  ... -0.014829  0.045655 -0.050818   \n",
       "2   -0.043167 -0.029572 -0.049071  ... -0.040925  0.010752 -0.021032   \n",
       "3    0.020394 -0.063688  0.014879  ...  0.050816 -0.033785  0.018054   \n",
       "4   -0.044205  0.040295 -0.004673  ... -0.000240 -0.069273 -0.003655   \n",
       "..        ...       ...       ...  ...       ...       ...       ...   \n",
       "255 -0.070243 -0.069933 -0.050282  ... -0.050380 -0.078665 -0.020635   \n",
       "256 -0.017407  0.037245 -0.040969  ...  0.026566  0.032949  0.005559   \n",
       "257  0.055573 -0.068645  0.024780  ... -0.006354  0.079942 -0.032088   \n",
       "258 -0.042372  0.005505  0.002658  ...  0.052763 -0.043537  0.001255   \n",
       "259  0.090183  0.040860  0.008484  ... -0.046964  0.052724 -0.010891   \n",
       "\n",
       "          993       994       995       996       997       998       999  \n",
       "0    0.000000  0.000000  0.000000  0.000000  0.000000  0.000000  0.000000  \n",
       "1   -0.076369 -0.013416  0.030480  0.048597 -0.033803  0.023632 -0.042217  \n",
       "2    0.033168  0.080967  0.039262 -0.042570 -0.010904 -0.062960  0.004619  \n",
       "3    0.005800 -0.038970  0.000918 -0.035338  0.089001  0.046348 -0.063963  \n",
       "4    0.025040  0.060447 -0.033746 -0.071634 -0.001056  0.078762 -0.009289  \n",
       "..        ...       ...       ...       ...       ...       ...       ...  \n",
       "255 -0.011015 -0.024401  0.049737  0.025631  0.042642 -0.005112  0.011817  \n",
       "256  0.004621 -0.028069  0.050835  0.008423 -0.002940 -0.047304 -0.026624  \n",
       "257  0.027214 -0.059273 -0.011992 -0.017676 -0.034642 -0.022681 -0.063395  \n",
       "258  0.053566  0.007309 -0.046991 -0.007563 -0.019741  0.049554 -0.022985  \n",
       "259  0.024885 -0.007070 -0.078577  0.023441 -0.010033 -0.017599  0.055076  \n",
       "\n",
       "[260 rows x 1000 columns]"
      ]
     },
     "execution_count": 26,
     "metadata": {},
     "output_type": "execute_result"
    }
   ],
   "source": [
    "df = pd.DataFrame(data = returns)\n",
    "df"
   ]
  },
  {
   "cell_type": "code",
   "execution_count": null,
   "id": "592cf1a3",
   "metadata": {},
   "outputs": [],
   "source": [
    "df = df.cumsum().apply(np.exp)\n",
    "df"
   ]
  },
  {
   "cell_type": "code",
   "execution_count": null,
   "id": "b6c55848",
   "metadata": {
    "scrolled": false
   },
   "outputs": [],
   "source": [
    "plt.figure(figsize = (12 ,8))\n",
    "plt.plot(df.values)\n",
    "plt.xlabel(\"Days\", fontsize = 12)\n",
    "plt.ylabel(\"Normalized Price\", fontsize = 12)\n",
    "plt.show()"
   ]
  },
  {
   "cell_type": "code",
   "execution_count": null,
   "id": "7e54d072",
   "metadata": {},
   "outputs": [],
   "source": [
    "df.iloc[-1].plot(kind = \"hist\", bins = 100, figsize = (12, 8)) # final multiple after 1 year\n",
    "plt.show()"
   ]
  },
  {
   "cell_type": "code",
   "execution_count": null,
   "id": "08914bec",
   "metadata": {},
   "outputs": [],
   "source": [
    "df.iloc[-1].describe()"
   ]
  },
  {
   "cell_type": "code",
   "execution_count": null,
   "id": "5f1f09fc",
   "metadata": {},
   "outputs": [],
   "source": [
    "np.percentile(df.iloc[-1], [10, 90])"
   ]
  },
  {
   "cell_type": "markdown",
   "id": "718fd655",
   "metadata": {},
   "source": [
    "Keep in mind: This assumes normally distributed returns -> In reality, there is (a bit) more weight in the tails."
   ]
  },
  {
   "cell_type": "markdown",
   "id": "45f859df",
   "metadata": {},
   "source": [
    "So far, we ignored annual __Taxes__ and monthly __Income Distributions__ -> Next Step: __path-dependent Simulation__"
   ]
  },
  {
   "cell_type": "code",
   "execution_count": null,
   "id": "a73eb163",
   "metadata": {},
   "outputs": [],
   "source": []
  },
  {
   "cell_type": "markdown",
   "id": "cc4c27f4",
   "metadata": {},
   "source": [
    "## A path-dependent Simulation with Taxes and Income - Introduction"
   ]
  },
  {
   "cell_type": "markdown",
   "id": "9d06c319",
   "metadata": {},
   "source": [
    "__Tax Payments__"
   ]
  },
  {
   "cell_type": "markdown",
   "id": "bdff9bfb",
   "metadata": {},
   "source": [
    "Assumptions: \n",
    "- annual, year-end payments.\n",
    "- Full Trading Profit in a calender year is taxable @ x% flat tax rate (no loss carryforward) <br>\n",
    "__++++ This is not Tax Advice. Please consult your local tax advisor!!! ++++__"
   ]
  },
  {
   "cell_type": "markdown",
   "id": "db1873a9",
   "metadata": {},
   "source": [
    "__Income Distributions__"
   ]
  },
  {
   "cell_type": "markdown",
   "id": "ba0e23c0",
   "metadata": {},
   "source": [
    "Assumptions: \n",
    "- monthly, in arrears\n",
    "- increase on a monthly basis @ inflation rate"
   ]
  },
  {
   "cell_type": "markdown",
   "id": "f0f575e5",
   "metadata": {},
   "source": [
    "Tax Payments and Income Distributions are limited to Trading Profits and the Trading Capital (can´t get negative). <br> (no additional/subsequent funding)"
   ]
  },
  {
   "cell_type": "code",
   "execution_count": null,
   "id": "29e836a3",
   "metadata": {},
   "outputs": [],
   "source": [
    "import pandas as pd\n",
    "import numpy as np\n",
    "import matplotlib.pyplot as plt\n",
    "pd.set_option('display.float_format', lambda x: f'{x:,.3f}')\n",
    "plt.style.use(\"seaborn-v0_8\")"
   ]
  },
  {
   "cell_type": "code",
   "execution_count": null,
   "id": "b6e6bd75",
   "metadata": {},
   "outputs": [],
   "source": [
    "class Trade_Income():\n",
    "    \n",
    "    def __init__(self, start, end, I0, dist, infl, tax):\n",
    "        \n",
    "        self.start = start\n",
    "        self.end = end\n",
    "        self.I0 = I0\n",
    "        self.dist = dist\n",
    "        self.infl = infl\n",
    "        self.tax_rate = tax\n",
    "        self.prepare_data()\n",
    "    \n",
    "    def prepare_data(self):\n",
    "        \n",
    "        self.index = pd.date_range(start = self.start, end = self.end, freq= \"D\")\n",
    "        self.td_index = pd.date_range(start = self.start, end = self.end, freq= \"B\")\n",
    "        self.days = len(self.td_index) \n",
    "        self.td_per_year = (self.days / ((self.td_index[-1] - self.td_index[0]).days / 365.25))\n",
    "        self.tax_index = pd.date_range(start = self.start, end = self.end, freq= \"BA-DEC\")\n",
    "        self.dist_index = pd.date_range(start = self.start, end = self.end, freq= \"BM\")\n",
    "        \n",
    "        dist = [self.dist * (1 + self.infl)**(i/12) for i in range(len(self.dist_index))]\n",
    "        dist = pd.Series(dist, index = self.dist_index)\n",
    "        tax = pd.Series(True, index = self.tax_index)\n",
    "        df = pd.DataFrame(data = {\"Dist\":dist, \"Tax\":tax}, index = self.index)\n",
    "        df.Dist.fillna(0, inplace = True)\n",
    "        df.Tax.fillna(False, inplace = True)\n",
    "        self.raw_data = df\n",
    "        \n",
    "    def simulate_one(self, ann_mean, ann_std, seed = 123):\n",
    "        \n",
    "        daily_mean = ann_mean / self.td_per_year\n",
    "        daily_std = ann_std / np.sqrt(self.td_per_year)\n",
    "        \n",
    "        np.random.seed(seed)\n",
    "        returns = np.random.normal(loc = daily_mean, scale = daily_std, size = self.days)\n",
    "        returns = pd.Series(np.exp(returns) - 1, index = self.td_index)\n",
    "        data = self.raw_data.copy()\n",
    "        data[\"returns\"] = returns\n",
    "        data.returns.fillna(0, inplace = True)\n",
    "        self.data = data\n",
    "        \n",
    "        self.path_dependent()\n",
    "        \n",
    "    def simulate_many(self, ann_mean, ann_std, seed = 123, sims = 1000):\n",
    "        \n",
    "        daily_mean = ann_mean / self.td_per_year\n",
    "        daily_std = ann_std / np.sqrt(self.td_per_year)\n",
    "        \n",
    "        np.random.seed(seed)\n",
    "        matrix = np.random.normal(loc = daily_mean, scale = daily_std, size = sims * self.days).reshape(sims, self.days)\n",
    "        \n",
    "        results = []\n",
    "        for sim in range(sims):\n",
    "            returns = matrix[sim, :]\n",
    "            returns = pd.Series(np.exp(returns) - 1, index = self.td_index)\n",
    "            data = self.raw_data.copy()\n",
    "            data[\"returns\"] = returns\n",
    "            data.returns.fillna(0, inplace = True)\n",
    "            self.data = data\n",
    "            self.path_dependent()\n",
    "            \n",
    "            results.append(round(self.data.Equity[-1], 0))\n",
    "        return results\n",
    "                                                                            \n",
    "    def path_dependent(self):\n",
    "        \n",
    "        Equity = [I0]\n",
    "        Year_Begin = I0\n",
    "        Year_Distr = 0\n",
    "        dist_list = []\n",
    "        tax_list = []\n",
    "        \n",
    "        df = self.data.copy()\n",
    "\n",
    "        for i in range(len(self.index)):\n",
    "            equity_bd = Equity[i] * (1 + df.returns[i])\n",
    "            distribution = min(df.Dist[i], equity_bd)\n",
    "            dist_list.append(distribution)\n",
    "    \n",
    "            equity_bt = equity_bd - distribution\n",
    "            Year_Distr += distribution\n",
    "    \n",
    "            if df.Tax[i]:\n",
    "                taxable_income = max(0, Year_Distr + equity_bt - Year_Begin)\n",
    "                tax_pay = self.tax_rate * taxable_income\n",
    "                tax_list.append(tax_pay)\n",
    "                equity_at = max(0, equity_bt - tax_pay)\n",
    "                Year_Begin = equity_at\n",
    "                Year_Distr = 0\n",
    "    \n",
    "            else:\n",
    "                equity_at = equity_bt\n",
    "    \n",
    "            Equity.append(equity_at)\n",
    "        \n",
    "        df[\"Equity\"] = Equity[1:]\n",
    "        df[\"Dist\"] = dist_list\n",
    "        df[\"Tax\"] = pd.Series(tax_list, index = self.tax_index)\n",
    "        df.Tax.fillna(0, inplace = True)\n",
    "        \n",
    "        self.data = df   "
   ]
  },
  {
   "cell_type": "code",
   "execution_count": null,
   "id": "12139c2c",
   "metadata": {},
   "outputs": [],
   "source": [
    "start = \"2020-01-01\"\n",
    "end = \"2029-12-31\" # 10 years\n",
    "I0 = 10000 # initial trading capital\n",
    "dist = 545.7 # (initial) monthly distribution\n",
    "infl = 0.03 # inflation rate\n",
    "tax = 0.25 # flat tax rate"
   ]
  },
  {
   "cell_type": "code",
   "execution_count": null,
   "id": "7ea619ff",
   "metadata": {},
   "outputs": [],
   "source": [
    "TI = Trade_Income(start, end, I0, dist, infl, tax)\n",
    "TI"
   ]
  },
  {
   "cell_type": "markdown",
   "id": "72110932",
   "metadata": {},
   "source": [
    "__One Simulation__"
   ]
  },
  {
   "cell_type": "code",
   "execution_count": null,
   "id": "8cd9e500",
   "metadata": {},
   "outputs": [],
   "source": [
    "ann_mean = 1.05\n",
    "ann_std = 0.67 "
   ]
  },
  {
   "cell_type": "code",
   "execution_count": null,
   "id": "3f00e09f",
   "metadata": {},
   "outputs": [],
   "source": [
    "TI.simulate_one(ann_mean, ann_std, seed = 123)"
   ]
  },
  {
   "cell_type": "code",
   "execution_count": null,
   "id": "8fd6c379",
   "metadata": {},
   "outputs": [],
   "source": [
    "TI.data"
   ]
  },
  {
   "cell_type": "code",
   "execution_count": null,
   "id": "931fffe5",
   "metadata": {},
   "outputs": [],
   "source": [
    "TI.data.Dist.plot(figsize = (12, 8)) # income distributions\n",
    "plt.show()"
   ]
  },
  {
   "cell_type": "code",
   "execution_count": null,
   "id": "5955d865",
   "metadata": {},
   "outputs": [],
   "source": [
    "TI.data.Tax.plot(figsize = (12, 8)) # tax payments\n",
    "plt.show()"
   ]
  },
  {
   "cell_type": "code",
   "execution_count": null,
   "id": "5d983458",
   "metadata": {},
   "outputs": [],
   "source": [
    "TI.data.Equity.plot(figsize = (12, 8)) # Equity (Trading Capital)\n",
    "plt.show()"
   ]
  },
  {
   "cell_type": "code",
   "execution_count": null,
   "id": "01504ea8",
   "metadata": {},
   "outputs": [],
   "source": [
    "required_end_value = I0 * (1+infl)**10 # capital shall increase @ 3% p.a.\n",
    "required_end_value"
   ]
  },
  {
   "cell_type": "code",
   "execution_count": null,
   "id": "0f7f22c9",
   "metadata": {},
   "outputs": [],
   "source": [
    "TI.data.Equity[-1] > required_end_value"
   ]
  },
  {
   "cell_type": "code",
   "execution_count": null,
   "id": "ab84e3c8",
   "metadata": {},
   "outputs": [],
   "source": []
  },
  {
   "cell_type": "markdown",
   "id": "de2c456a",
   "metadata": {},
   "source": [
    "## A path-dependent Simulation with Taxes and Income - many Simulations"
   ]
  },
  {
   "cell_type": "code",
   "execution_count": null,
   "id": "0f37fc27",
   "metadata": {},
   "outputs": [],
   "source": [
    "start = \"2020-01-01\"\n",
    "end = \"2029-12-31\"\n",
    "I0 = 10000\n",
    "distr = 545.7 # monthly distribution\n",
    "infl = 0.03\n",
    "tax = 0.25"
   ]
  },
  {
   "cell_type": "code",
   "execution_count": null,
   "id": "78e2be2d",
   "metadata": {},
   "outputs": [],
   "source": [
    "ann_mean = 1.05\n",
    "ann_std = 0.67 "
   ]
  },
  {
   "cell_type": "code",
   "execution_count": null,
   "id": "841b1bac",
   "metadata": {},
   "outputs": [],
   "source": [
    "TI = Trade_Income(start, end, I0, distr, infl, tax)\n",
    "TI"
   ]
  },
  {
   "cell_type": "code",
   "execution_count": null,
   "id": "7429df9f",
   "metadata": {},
   "outputs": [],
   "source": [
    "results = TI.simulate_many(ann_mean, ann_std, seed = 123, sims = 1000)"
   ]
  },
  {
   "cell_type": "code",
   "execution_count": null,
   "id": "5d8ea180",
   "metadata": {},
   "outputs": [],
   "source": [
    "results"
   ]
  },
  {
   "cell_type": "code",
   "execution_count": null,
   "id": "c0ac5d30",
   "metadata": {},
   "outputs": [],
   "source": [
    "required_end_value"
   ]
  },
  {
   "cell_type": "code",
   "execution_count": null,
   "id": "580f3ab3",
   "metadata": {},
   "outputs": [],
   "source": [
    "(np.array(results) < required_end_value).mean() # shortfall probabilty over the next 10 years"
   ]
  },
  {
   "cell_type": "markdown",
   "id": "5917e7bb",
   "metadata": {},
   "source": [
    "-> With an initial Income Distribution of USD 545.7, the shortfall probability over the next 10 years is 31.7% <br>\n",
    "-> Level of Income is not sustainable."
   ]
  },
  {
   "cell_type": "code",
   "execution_count": null,
   "id": "87a35602",
   "metadata": {},
   "outputs": [],
   "source": []
  },
  {
   "cell_type": "markdown",
   "id": "aaa4020e",
   "metadata": {},
   "source": [
    "## Shortfall Risk and a Sustainable Income Level"
   ]
  },
  {
   "cell_type": "markdown",
   "id": "3e0e0921",
   "metadata": {},
   "source": [
    "__Determine a sustainable income distribution level with a shortfall probability of approx. 5%.__"
   ]
  },
  {
   "cell_type": "markdown",
   "id": "50a387d8",
   "metadata": {},
   "source": [
    "(Acceptable Shortfall Probability depends on the Individual´s Risk Tolerance)"
   ]
  },
  {
   "cell_type": "markdown",
   "id": "c56d0b30",
   "metadata": {},
   "source": [
    "A Trader has created a levered trading strategy that (on average) generates an __annualized mean return of 105%__ (log) with a __standard deviation of 67%__. <br>\n",
    "The applicable (flat) __tax rate is 25%__ and the __inflation__ protection shall be __3% p.a.__<br>\n",
    "Calculate the Trader´s __sustainable income__ if the trader starts with __USD 10,000__ (available funds for trading)."
   ]
  },
  {
   "cell_type": "code",
   "execution_count": null,
   "id": "c0600817",
   "metadata": {},
   "outputs": [],
   "source": [
    "simple_sol = 1136\n",
    "simple_sol"
   ]
  },
  {
   "cell_type": "markdown",
   "id": "36ef8fd5",
   "metadata": {},
   "source": [
    "__Rule of Thumb: Adjustment Factor between 20% and 50%__"
   ]
  },
  {
   "cell_type": "code",
   "execution_count": null,
   "id": "d4023e9e",
   "metadata": {},
   "outputs": [],
   "source": [
    "adj_factor = 0.25 # 25%"
   ]
  },
  {
   "cell_type": "code",
   "execution_count": null,
   "id": "95514423",
   "metadata": {},
   "outputs": [],
   "source": [
    "distr = simple_sol * adj_factor\n",
    "distr"
   ]
  },
  {
   "cell_type": "code",
   "execution_count": null,
   "id": "8ffa615e",
   "metadata": {},
   "outputs": [],
   "source": [
    "TI = Trade_Income(start, end, I0, distr, infl, tax)\n",
    "TI"
   ]
  },
  {
   "cell_type": "code",
   "execution_count": null,
   "id": "922ffae1",
   "metadata": {},
   "outputs": [],
   "source": [
    "results = TI.simulate_many(ann_mean, ann_std, seed = 123, sims = 1000)"
   ]
  },
  {
   "cell_type": "code",
   "execution_count": null,
   "id": "30947af2",
   "metadata": {},
   "outputs": [],
   "source": [
    "results"
   ]
  },
  {
   "cell_type": "code",
   "execution_count": null,
   "id": "d2979c7b",
   "metadata": {},
   "outputs": [],
   "source": [
    "required_end_value"
   ]
  },
  {
   "cell_type": "code",
   "execution_count": null,
   "id": "fe4fdc5b",
   "metadata": {},
   "outputs": [],
   "source": [
    "(np.array(results) < required_end_value).mean() # shortfall probabilty after 10 years"
   ]
  },
  {
   "cell_type": "markdown",
   "id": "162e0276",
   "metadata": {},
   "source": [
    "__-> 25% of simple Solution Income!__"
   ]
  },
  {
   "cell_type": "code",
   "execution_count": null,
   "id": "0a654b26",
   "metadata": {},
   "outputs": [],
   "source": []
  },
  {
   "cell_type": "markdown",
   "id": "9e9209c8",
   "metadata": {},
   "source": [
    "## Final Remarks"
   ]
  },
  {
   "cell_type": "markdown",
   "id": "5a93655a",
   "metadata": {},
   "source": [
    "__Final Remarks__"
   ]
  },
  {
   "cell_type": "markdown",
   "id": "9fb8eb1b",
   "metadata": {},
   "source": [
    "- (Trying to) simulate the Future is not an exact science\n",
    "- It is based on various assumptions and uncertainties\n",
    "- there are more complex/accurate models\n",
    "- very effective additional feature: making dynamic (path-dependent) adjustments to income distributions"
   ]
  },
  {
   "cell_type": "markdown",
   "id": "91f0ed8c",
   "metadata": {},
   "source": [
    "Key message: If Income Distributions are too high, Risk of running out of trading capital is high as well.\n",
    "Approx. __20% to 50%__ of simple solution Income!"
   ]
  },
  {
   "cell_type": "code",
   "execution_count": null,
   "id": "46da3e49",
   "metadata": {},
   "outputs": [],
   "source": []
  },
  {
   "cell_type": "markdown",
   "id": "5c58022f",
   "metadata": {},
   "source": [
    "__Excursus: Advanced Performance Attribution__"
   ]
  },
  {
   "cell_type": "markdown",
   "id": "d27c4922",
   "metadata": {},
   "source": [
    "Simple Solution Income: __USD 1136__ <br>\n",
    "Actual (sustainable) Income: __USD 284__"
   ]
  },
  {
   "cell_type": "markdown",
   "id": "afe9efdf",
   "metadata": {},
   "source": [
    "-> The Difference is attributable to __Timing__ and __Risk__. What´s the sustainable Income if we assume __zero Risk__?"
   ]
  },
  {
   "cell_type": "code",
   "execution_count": null,
   "id": "6ac1cdb3",
   "metadata": {},
   "outputs": [],
   "source": [
    "start = \"2020-01-01\"\n",
    "end = \"2029-12-31\"\n",
    "I0 = 10000\n",
    "distr = 739.08 # sustainable monthly income assuming zero risk\n",
    "infl = 0.03\n",
    "tax = 0.25"
   ]
  },
  {
   "cell_type": "code",
   "execution_count": null,
   "id": "3dcf0b83",
   "metadata": {},
   "outputs": [],
   "source": [
    "ann_mean = 1.05\n",
    "ann_std = 0 # zero risk"
   ]
  },
  {
   "cell_type": "code",
   "execution_count": null,
   "id": "0067cb95",
   "metadata": {},
   "outputs": [],
   "source": [
    "TI = Trade_Income(start, end, I0, distr, infl, tax)\n",
    "TI"
   ]
  },
  {
   "cell_type": "code",
   "execution_count": null,
   "id": "5f8ecd19",
   "metadata": {},
   "outputs": [],
   "source": [
    "TI.simulate_one(ann_mean, ann_std, seed = 123)"
   ]
  },
  {
   "cell_type": "code",
   "execution_count": null,
   "id": "65ab5904",
   "metadata": {},
   "outputs": [],
   "source": [
    "TI.data"
   ]
  },
  {
   "cell_type": "code",
   "execution_count": null,
   "id": "c5bc238e",
   "metadata": {},
   "outputs": [],
   "source": [
    "TI.data.Dist.plot(figsize = (12, 8))\n",
    "plt.show()"
   ]
  },
  {
   "cell_type": "code",
   "execution_count": null,
   "id": "5d2e6074",
   "metadata": {},
   "outputs": [],
   "source": [
    "TI.data.Tax.plot(figsize = (12, 8))\n",
    "plt.show()"
   ]
  },
  {
   "cell_type": "code",
   "execution_count": null,
   "id": "7acc7575",
   "metadata": {},
   "outputs": [],
   "source": [
    "TI.data.Equity.plot(figsize = (12, 8))\n",
    "plt.show()"
   ]
  },
  {
   "cell_type": "markdown",
   "id": "9358410e",
   "metadata": {},
   "source": [
    "- 284 -> 739 attributable to Risk\n",
    "- 739 -> 1136 attributable to Timing"
   ]
  },
  {
   "cell_type": "code",
   "execution_count": null,
   "id": "1525a9d1",
   "metadata": {},
   "outputs": [],
   "source": []
  }
 ],
 "metadata": {
  "kernelspec": {
   "display_name": "Python 3 (ipykernel)",
   "language": "python",
   "name": "python3"
  },
  "language_info": {
   "codemirror_mode": {
    "name": "ipython",
    "version": 3
   },
   "file_extension": ".py",
   "mimetype": "text/x-python",
   "name": "python",
   "nbconvert_exporter": "python",
   "pygments_lexer": "ipython3",
   "version": "3.10.9"
  }
 },
 "nbformat": 4,
 "nbformat_minor": 5
}
