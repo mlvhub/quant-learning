{
 "cells": [
  {
   "cell_type": "markdown",
   "id": "8ab5b35a",
   "metadata": {},
   "source": [
    "# Annualising Mean Return and Std of Returns"
   ]
  },
  {
   "cell_type": "code",
   "execution_count": 14,
   "id": "b163e191",
   "metadata": {},
   "outputs": [],
   "source": [
    "import pandas as pd\n",
    "import numpy as np\n",
    "import matplotlib.pyplot as plt\n",
    "pd.options.display.float_format = '{:.4f}'.format"
   ]
  },
  {
   "cell_type": "code",
   "execution_count": 2,
   "id": "a4ed7cdc",
   "metadata": {},
   "outputs": [
    {
     "data": {
      "text/html": [
       "<div>\n",
       "<style scoped>\n",
       "    .dataframe tbody tr th:only-of-type {\n",
       "        vertical-align: middle;\n",
       "    }\n",
       "\n",
       "    .dataframe tbody tr th {\n",
       "        vertical-align: top;\n",
       "    }\n",
       "\n",
       "    .dataframe thead th {\n",
       "        text-align: right;\n",
       "    }\n",
       "</style>\n",
       "<table border=\"1\" class=\"dataframe\">\n",
       "  <thead>\n",
       "    <tr style=\"text-align: right;\">\n",
       "      <th></th>\n",
       "      <th>Price</th>\n",
       "      <th>Returns</th>\n",
       "    </tr>\n",
       "    <tr>\n",
       "      <th>Date</th>\n",
       "      <th></th>\n",
       "      <th></th>\n",
       "    </tr>\n",
       "  </thead>\n",
       "  <tbody>\n",
       "    <tr>\n",
       "      <th>2014-10-01</th>\n",
       "      <td>45.9000</td>\n",
       "      <td>NaN</td>\n",
       "    </tr>\n",
       "    <tr>\n",
       "      <th>2014-10-02</th>\n",
       "      <td>45.7600</td>\n",
       "      <td>-0.0031</td>\n",
       "    </tr>\n",
       "    <tr>\n",
       "      <th>2014-10-03</th>\n",
       "      <td>46.0900</td>\n",
       "      <td>0.0072</td>\n",
       "    </tr>\n",
       "    <tr>\n",
       "      <th>2014-10-06</th>\n",
       "      <td>46.0900</td>\n",
       "      <td>0.0000</td>\n",
       "    </tr>\n",
       "    <tr>\n",
       "      <th>2014-10-07</th>\n",
       "      <td>45.5300</td>\n",
       "      <td>-0.0122</td>\n",
       "    </tr>\n",
       "    <tr>\n",
       "      <th>...</th>\n",
       "      <td>...</td>\n",
       "      <td>...</td>\n",
       "    </tr>\n",
       "    <tr>\n",
       "      <th>2021-05-24</th>\n",
       "      <td>250.7800</td>\n",
       "      <td>0.0229</td>\n",
       "    </tr>\n",
       "    <tr>\n",
       "      <th>2021-05-25</th>\n",
       "      <td>251.7200</td>\n",
       "      <td>0.0037</td>\n",
       "    </tr>\n",
       "    <tr>\n",
       "      <th>2021-05-26</th>\n",
       "      <td>251.4900</td>\n",
       "      <td>-0.0009</td>\n",
       "    </tr>\n",
       "    <tr>\n",
       "      <th>2021-05-27</th>\n",
       "      <td>249.3100</td>\n",
       "      <td>-0.0087</td>\n",
       "    </tr>\n",
       "    <tr>\n",
       "      <th>2021-05-28</th>\n",
       "      <td>249.6800</td>\n",
       "      <td>0.0015</td>\n",
       "    </tr>\n",
       "  </tbody>\n",
       "</table>\n",
       "<p>1677 rows × 2 columns</p>\n",
       "</div>"
      ],
      "text/plain": [
       "              Price  Returns\n",
       "Date                        \n",
       "2014-10-01  45.9000      NaN\n",
       "2014-10-02  45.7600  -0.0031\n",
       "2014-10-03  46.0900   0.0072\n",
       "2014-10-06  46.0900   0.0000\n",
       "2014-10-07  45.5300  -0.0122\n",
       "...             ...      ...\n",
       "2021-05-24 250.7800   0.0229\n",
       "2021-05-25 251.7200   0.0037\n",
       "2021-05-26 251.4900  -0.0009\n",
       "2021-05-27 249.3100  -0.0087\n",
       "2021-05-28 249.6800   0.0015\n",
       "\n",
       "[1677 rows x 2 columns]"
      ]
     },
     "execution_count": 2,
     "metadata": {},
     "output_type": "execute_result"
    }
   ],
   "source": [
    "msft = pd.read_csv(\"msft.csv\", index_col = \"Date\", parse_dates = [\"Date\"])\n",
    "msft"
   ]
  },
  {
   "cell_type": "code",
   "execution_count": 3,
   "id": "8d5be2e1",
   "metadata": {},
   "outputs": [
    {
     "data": {
      "text/html": [
       "<div>\n",
       "<style scoped>\n",
       "    .dataframe tbody tr th:only-of-type {\n",
       "        vertical-align: middle;\n",
       "    }\n",
       "\n",
       "    .dataframe tbody tr th {\n",
       "        vertical-align: top;\n",
       "    }\n",
       "\n",
       "    .dataframe thead th {\n",
       "        text-align: right;\n",
       "    }\n",
       "</style>\n",
       "<table border=\"1\" class=\"dataframe\">\n",
       "  <thead>\n",
       "    <tr style=\"text-align: right;\">\n",
       "      <th></th>\n",
       "      <th>Price</th>\n",
       "      <th>Returns</th>\n",
       "      <th>log_return</th>\n",
       "    </tr>\n",
       "    <tr>\n",
       "      <th>Date</th>\n",
       "      <th></th>\n",
       "      <th></th>\n",
       "      <th></th>\n",
       "    </tr>\n",
       "  </thead>\n",
       "  <tbody>\n",
       "    <tr>\n",
       "      <th>2014-10-01</th>\n",
       "      <td>45.9000</td>\n",
       "      <td>NaN</td>\n",
       "      <td>NaN</td>\n",
       "    </tr>\n",
       "    <tr>\n",
       "      <th>2014-10-02</th>\n",
       "      <td>45.7600</td>\n",
       "      <td>-0.0031</td>\n",
       "      <td>-0.0031</td>\n",
       "    </tr>\n",
       "    <tr>\n",
       "      <th>2014-10-03</th>\n",
       "      <td>46.0900</td>\n",
       "      <td>0.0072</td>\n",
       "      <td>0.0072</td>\n",
       "    </tr>\n",
       "    <tr>\n",
       "      <th>2014-10-06</th>\n",
       "      <td>46.0900</td>\n",
       "      <td>0.0000</td>\n",
       "      <td>0.0000</td>\n",
       "    </tr>\n",
       "    <tr>\n",
       "      <th>2014-10-07</th>\n",
       "      <td>45.5300</td>\n",
       "      <td>-0.0122</td>\n",
       "      <td>-0.0122</td>\n",
       "    </tr>\n",
       "    <tr>\n",
       "      <th>...</th>\n",
       "      <td>...</td>\n",
       "      <td>...</td>\n",
       "      <td>...</td>\n",
       "    </tr>\n",
       "    <tr>\n",
       "      <th>2021-05-24</th>\n",
       "      <td>250.7800</td>\n",
       "      <td>0.0229</td>\n",
       "      <td>0.0226</td>\n",
       "    </tr>\n",
       "    <tr>\n",
       "      <th>2021-05-25</th>\n",
       "      <td>251.7200</td>\n",
       "      <td>0.0037</td>\n",
       "      <td>0.0037</td>\n",
       "    </tr>\n",
       "    <tr>\n",
       "      <th>2021-05-26</th>\n",
       "      <td>251.4900</td>\n",
       "      <td>-0.0009</td>\n",
       "      <td>-0.0009</td>\n",
       "    </tr>\n",
       "    <tr>\n",
       "      <th>2021-05-27</th>\n",
       "      <td>249.3100</td>\n",
       "      <td>-0.0087</td>\n",
       "      <td>-0.0087</td>\n",
       "    </tr>\n",
       "    <tr>\n",
       "      <th>2021-05-28</th>\n",
       "      <td>249.6800</td>\n",
       "      <td>0.0015</td>\n",
       "      <td>0.0015</td>\n",
       "    </tr>\n",
       "  </tbody>\n",
       "</table>\n",
       "<p>1677 rows × 3 columns</p>\n",
       "</div>"
      ],
      "text/plain": [
       "              Price  Returns  log_return\n",
       "Date                                    \n",
       "2014-10-01  45.9000      NaN         NaN\n",
       "2014-10-02  45.7600  -0.0031     -0.0031\n",
       "2014-10-03  46.0900   0.0072      0.0072\n",
       "2014-10-06  46.0900   0.0000      0.0000\n",
       "2014-10-07  45.5300  -0.0122     -0.0122\n",
       "...             ...      ...         ...\n",
       "2021-05-24 250.7800   0.0229      0.0226\n",
       "2021-05-25 251.7200   0.0037      0.0037\n",
       "2021-05-26 251.4900  -0.0009     -0.0009\n",
       "2021-05-27 249.3100  -0.0087     -0.0087\n",
       "2021-05-28 249.6800   0.0015      0.0015\n",
       "\n",
       "[1677 rows x 3 columns]"
      ]
     },
     "execution_count": 3,
     "metadata": {},
     "output_type": "execute_result"
    }
   ],
   "source": [
    "msft[\"log_return\"] = np.log(msft.Price / msft.Price.shift()) # daily log returns (log of current price divided by the previous price)\n",
    "msft"
   ]
  },
  {
   "cell_type": "code",
   "execution_count": 5,
   "id": "1d19660a",
   "metadata": {},
   "outputs": [
    {
     "data": {
      "text/plain": [
       "mean   0.0010\n",
       "std    0.0172\n",
       "Name: log_return, dtype: float64"
      ]
     },
     "execution_count": 5,
     "metadata": {},
     "output_type": "execute_result"
    }
   ],
   "source": [
    "msft.log_return.agg([\"mean\", \"std\"]) # mean and std based on daily returns"
   ]
  },
  {
   "cell_type": "code",
   "execution_count": 6,
   "id": "161d5f3e",
   "metadata": {},
   "outputs": [
    {
     "data": {
      "text/plain": [
       "0.25466357960390723"
      ]
     },
     "execution_count": 6,
     "metadata": {},
     "output_type": "execute_result"
    }
   ],
   "source": [
    "ann_mu = msft.log_return.mean() * 252 # annualised mean return\n",
    "ann_mu"
   ]
  },
  {
   "cell_type": "code",
   "execution_count": 13,
   "id": "2e4d79eb",
   "metadata": {},
   "outputs": [
    {
     "data": {
      "text/plain": [
       "1.290027556281438"
      ]
     },
     "execution_count": 13,
     "metadata": {},
     "output_type": "execute_result"
    }
   ],
   "source": [
    "cagr = np.exp(ann_mu) # don't mix up with cagr\n",
    "cagr"
   ]
  },
  {
   "cell_type": "code",
   "execution_count": 10,
   "id": "030c638e",
   "metadata": {},
   "outputs": [
    {
     "data": {
      "text/plain": [
       "0.27381663717464577"
      ]
     },
     "execution_count": 10,
     "metadata": {},
     "output_type": "execute_result"
    }
   ],
   "source": [
    "ann_std = msft.log_return.std() * np.sqrt(252) # annualised std of returns\n",
    "ann_std"
   ]
  },
  {
   "cell_type": "code",
   "execution_count": 12,
   "id": "b24ff0e2",
   "metadata": {},
   "outputs": [
    {
     "data": {
      "text/plain": [
       "0.27381663717464577"
      ]
     },
     "execution_count": 12,
     "metadata": {},
     "output_type": "execute_result"
    }
   ],
   "source": [
    "ann_std = np.sqrt(msft.log_return.var() * 252) # annualised std of returns\n",
    "ann_std"
   ]
  },
  {
   "cell_type": "markdown",
   "id": "7ea3e718",
   "metadata": {},
   "source": [
    "## Resampling/Smoothing"
   ]
  },
  {
   "cell_type": "code",
   "execution_count": 15,
   "id": "b0ef651c",
   "metadata": {},
   "outputs": [
    {
     "data": {
      "text/html": [
       "<div>\n",
       "<style scoped>\n",
       "    .dataframe tbody tr th:only-of-type {\n",
       "        vertical-align: middle;\n",
       "    }\n",
       "\n",
       "    .dataframe tbody tr th {\n",
       "        vertical-align: top;\n",
       "    }\n",
       "\n",
       "    .dataframe thead th {\n",
       "        text-align: right;\n",
       "    }\n",
       "</style>\n",
       "<table border=\"1\" class=\"dataframe\">\n",
       "  <thead>\n",
       "    <tr style=\"text-align: right;\">\n",
       "      <th></th>\n",
       "      <th>Price</th>\n",
       "      <th>Returns</th>\n",
       "      <th>log_return</th>\n",
       "    </tr>\n",
       "    <tr>\n",
       "      <th>Date</th>\n",
       "      <th></th>\n",
       "      <th></th>\n",
       "      <th></th>\n",
       "    </tr>\n",
       "  </thead>\n",
       "  <tbody>\n",
       "    <tr>\n",
       "      <th>2014-10-01</th>\n",
       "      <td>45.9000</td>\n",
       "      <td>NaN</td>\n",
       "      <td>NaN</td>\n",
       "    </tr>\n",
       "    <tr>\n",
       "      <th>2014-10-02</th>\n",
       "      <td>45.7600</td>\n",
       "      <td>-0.0031</td>\n",
       "      <td>-0.0031</td>\n",
       "    </tr>\n",
       "    <tr>\n",
       "      <th>2014-10-03</th>\n",
       "      <td>46.0900</td>\n",
       "      <td>0.0072</td>\n",
       "      <td>0.0072</td>\n",
       "    </tr>\n",
       "    <tr>\n",
       "      <th>2014-10-06</th>\n",
       "      <td>46.0900</td>\n",
       "      <td>0.0000</td>\n",
       "      <td>0.0000</td>\n",
       "    </tr>\n",
       "    <tr>\n",
       "      <th>2014-10-07</th>\n",
       "      <td>45.5300</td>\n",
       "      <td>-0.0122</td>\n",
       "      <td>-0.0122</td>\n",
       "    </tr>\n",
       "    <tr>\n",
       "      <th>2014-10-08</th>\n",
       "      <td>46.7800</td>\n",
       "      <td>0.0275</td>\n",
       "      <td>0.0271</td>\n",
       "    </tr>\n",
       "    <tr>\n",
       "      <th>2014-10-09</th>\n",
       "      <td>45.8500</td>\n",
       "      <td>-0.0199</td>\n",
       "      <td>-0.0201</td>\n",
       "    </tr>\n",
       "    <tr>\n",
       "      <th>2014-10-10</th>\n",
       "      <td>44.0300</td>\n",
       "      <td>-0.0397</td>\n",
       "      <td>-0.0405</td>\n",
       "    </tr>\n",
       "    <tr>\n",
       "      <th>2014-10-13</th>\n",
       "      <td>43.6500</td>\n",
       "      <td>-0.0086</td>\n",
       "      <td>-0.0087</td>\n",
       "    </tr>\n",
       "    <tr>\n",
       "      <th>2014-10-14</th>\n",
       "      <td>43.7300</td>\n",
       "      <td>0.0018</td>\n",
       "      <td>0.0018</td>\n",
       "    </tr>\n",
       "    <tr>\n",
       "      <th>2014-10-15</th>\n",
       "      <td>43.2200</td>\n",
       "      <td>-0.0117</td>\n",
       "      <td>-0.0117</td>\n",
       "    </tr>\n",
       "    <tr>\n",
       "      <th>2014-10-16</th>\n",
       "      <td>42.7400</td>\n",
       "      <td>-0.0111</td>\n",
       "      <td>-0.0112</td>\n",
       "    </tr>\n",
       "    <tr>\n",
       "      <th>2014-10-17</th>\n",
       "      <td>43.6300</td>\n",
       "      <td>0.0208</td>\n",
       "      <td>0.0206</td>\n",
       "    </tr>\n",
       "    <tr>\n",
       "      <th>2014-10-20</th>\n",
       "      <td>44.0800</td>\n",
       "      <td>0.0103</td>\n",
       "      <td>0.0103</td>\n",
       "    </tr>\n",
       "    <tr>\n",
       "      <th>2014-10-21</th>\n",
       "      <td>44.8800</td>\n",
       "      <td>0.0181</td>\n",
       "      <td>0.0180</td>\n",
       "    </tr>\n",
       "    <tr>\n",
       "      <th>2014-10-22</th>\n",
       "      <td>44.3800</td>\n",
       "      <td>-0.0111</td>\n",
       "      <td>-0.0112</td>\n",
       "    </tr>\n",
       "    <tr>\n",
       "      <th>2014-10-23</th>\n",
       "      <td>45.0200</td>\n",
       "      <td>0.0144</td>\n",
       "      <td>0.0143</td>\n",
       "    </tr>\n",
       "    <tr>\n",
       "      <th>2014-10-24</th>\n",
       "      <td>46.1300</td>\n",
       "      <td>0.0247</td>\n",
       "      <td>0.0244</td>\n",
       "    </tr>\n",
       "    <tr>\n",
       "      <th>2014-10-27</th>\n",
       "      <td>45.9100</td>\n",
       "      <td>-0.0048</td>\n",
       "      <td>-0.0048</td>\n",
       "    </tr>\n",
       "    <tr>\n",
       "      <th>2014-10-28</th>\n",
       "      <td>46.4900</td>\n",
       "      <td>0.0126</td>\n",
       "      <td>0.0126</td>\n",
       "    </tr>\n",
       "    <tr>\n",
       "      <th>2014-10-29</th>\n",
       "      <td>46.6200</td>\n",
       "      <td>0.0028</td>\n",
       "      <td>0.0028</td>\n",
       "    </tr>\n",
       "    <tr>\n",
       "      <th>2014-10-30</th>\n",
       "      <td>46.0500</td>\n",
       "      <td>-0.0122</td>\n",
       "      <td>-0.0123</td>\n",
       "    </tr>\n",
       "    <tr>\n",
       "      <th>2014-10-31</th>\n",
       "      <td>46.9500</td>\n",
       "      <td>0.0195</td>\n",
       "      <td>0.0194</td>\n",
       "    </tr>\n",
       "    <tr>\n",
       "      <th>2014-11-03</th>\n",
       "      <td>47.4400</td>\n",
       "      <td>0.0104</td>\n",
       "      <td>0.0104</td>\n",
       "    </tr>\n",
       "    <tr>\n",
       "      <th>2014-11-04</th>\n",
       "      <td>47.5700</td>\n",
       "      <td>0.0027</td>\n",
       "      <td>0.0027</td>\n",
       "    </tr>\n",
       "  </tbody>\n",
       "</table>\n",
       "</div>"
      ],
      "text/plain": [
       "             Price  Returns  log_return\n",
       "Date                                   \n",
       "2014-10-01 45.9000      NaN         NaN\n",
       "2014-10-02 45.7600  -0.0031     -0.0031\n",
       "2014-10-03 46.0900   0.0072      0.0072\n",
       "2014-10-06 46.0900   0.0000      0.0000\n",
       "2014-10-07 45.5300  -0.0122     -0.0122\n",
       "2014-10-08 46.7800   0.0275      0.0271\n",
       "2014-10-09 45.8500  -0.0199     -0.0201\n",
       "2014-10-10 44.0300  -0.0397     -0.0405\n",
       "2014-10-13 43.6500  -0.0086     -0.0087\n",
       "2014-10-14 43.7300   0.0018      0.0018\n",
       "2014-10-15 43.2200  -0.0117     -0.0117\n",
       "2014-10-16 42.7400  -0.0111     -0.0112\n",
       "2014-10-17 43.6300   0.0208      0.0206\n",
       "2014-10-20 44.0800   0.0103      0.0103\n",
       "2014-10-21 44.8800   0.0181      0.0180\n",
       "2014-10-22 44.3800  -0.0111     -0.0112\n",
       "2014-10-23 45.0200   0.0144      0.0143\n",
       "2014-10-24 46.1300   0.0247      0.0244\n",
       "2014-10-27 45.9100  -0.0048     -0.0048\n",
       "2014-10-28 46.4900   0.0126      0.0126\n",
       "2014-10-29 46.6200   0.0028      0.0028\n",
       "2014-10-30 46.0500  -0.0122     -0.0123\n",
       "2014-10-31 46.9500   0.0195      0.0194\n",
       "2014-11-03 47.4400   0.0104      0.0104\n",
       "2014-11-04 47.5700   0.0027      0.0027"
      ]
     },
     "execution_count": 15,
     "metadata": {},
     "output_type": "execute_result"
    }
   ],
   "source": [
    "msft.head(25)"
   ]
  },
  {
   "cell_type": "code",
   "execution_count": 16,
   "id": "71dccbcd",
   "metadata": {},
   "outputs": [
    {
     "data": {
      "text/plain": [
       "<matplotlib.legend.Legend at 0x7ff761733d30>"
      ]
     },
     "execution_count": 16,
     "metadata": {},
     "output_type": "execute_result"
    },
    {
     "data": {
      "image/png": "[encoded data removed]",
      "text/plain": [
       "<Figure size 1200x800 with 1 Axes>"
      ]
     },
     "metadata": {},
     "output_type": "display_data"
    }
   ],
   "source": [
    "msft.Price.plot(figsize = (12, 8))\n",
    "plt.legend()"
   ]
  },
  {
   "cell_type": "code",
   "execution_count": 17,
   "id": "47e5ed5d",
   "metadata": {},
   "outputs": [
    {
     "data": {
      "text/plain": [
       "Date\n",
       "2014-10-31    46.9500\n",
       "2014-11-30    47.8100\n",
       "2014-12-31    46.4500\n",
       "2015-01-31    40.4000\n",
       "2015-02-28    43.8500\n",
       "               ...   \n",
       "2021-01-31   231.9600\n",
       "2021-02-28   232.3800\n",
       "2021-03-31   235.7700\n",
       "2021-04-30   252.1800\n",
       "2021-05-31   249.6800\n",
       "Freq: M, Name: Price, Length: 80, dtype: float64"
      ]
     },
     "execution_count": 17,
     "metadata": {},
     "output_type": "execute_result"
    }
   ],
   "source": [
    "monthly = msft.Price.resample(\"M\").last() # resample to monthly (month end)\n",
    "monthly"
   ]
  },
  {
   "cell_type": "code",
   "execution_count": 18,
   "id": "9278139f",
   "metadata": {},
   "outputs": [
    {
     "data": {
      "text/plain": [
       "<matplotlib.legend.Legend at 0x7ff761733940>"
      ]
     },
     "execution_count": 18,
     "metadata": {},
     "output_type": "execute_result"
    },
    {
     "data": {
      "image/png": "[encoded data removed]",
      "text/plain": [
       "<Figure size 1200x800 with 1 Axes>"
      ]
     },
     "metadata": {},
     "output_type": "display_data"
    }
   ],
   "source": [
    "monthly.plot(figsize = (12, 8))\n",
    "plt.legend()"
   ]
  },
  {
   "cell_type": "markdown",
   "id": "c893b882",
   "metadata": {},
   "source": [
    "### How will the Mean-Variance analysis change with smoothed data?"
   ]
  },
  {
   "cell_type": "code",
   "execution_count": 21,
   "id": "874d1c9d",
   "metadata": {},
   "outputs": [],
   "source": [
    "freqs = [\"A\", \"Q\", \"M\", \"W-Fri\", \"D\"]\n",
    "periods = [1, 4, 12, 52, 252]\n",
    "ann_mean = []\n",
    "ann_std = []"
   ]
  },
  {
   "cell_type": "code",
   "execution_count": 25,
   "id": "49f74603",
   "metadata": {},
   "outputs": [],
   "source": [
    "for i in range(5):\n",
    "    resample = msft.Price.resample(freqs[i]).last()\n",
    "    ann_mean.append(np.log(resample / resample.shift()).mean() * periods[i]) # annualised mean return\n",
    "    ann_std.append(np.log(resample / resample.shift()).std() * np.sqrt(periods[i])) # annualised std of returns"
   ]
  },
  {
   "cell_type": "code",
   "execution_count": 26,
   "id": "0a512942",
   "metadata": {},
   "outputs": [
    {
     "data": {
      "text/plain": [
       "[0.24025765527761314,\n",
       " 0.258739013375891,\n",
       " 0.253837495704879,\n",
       " 0.253194152871532,\n",
       " 0.25289038013157555]"
      ]
     },
     "execution_count": 26,
     "metadata": {},
     "output_type": "execute_result"
    }
   ],
   "source": [
    "ann_mean"
   ]
  },
  {
   "cell_type": "code",
   "execution_count": 27,
   "id": "f0331429",
   "metadata": {},
   "outputs": [
    {
     "data": {
      "text/plain": [
       "[0.12724981752067244,\n",
       " 0.17931392782427705,\n",
       " 0.20496983822390324,\n",
       " 0.2308593150008498,\n",
       " 0.26737210972009995]"
      ]
     },
     "execution_count": 27,
     "metadata": {},
     "output_type": "execute_result"
    }
   ],
   "source": [
    "ann_std"
   ]
  },
  {
   "cell_type": "code",
   "execution_count": 28,
   "id": "6d8cd2a3",
   "metadata": {},
   "outputs": [
    {
     "data": {
      "text/html": [
       "<div>\n",
       "<style scoped>\n",
       "    .dataframe tbody tr th:only-of-type {\n",
       "        vertical-align: middle;\n",
       "    }\n",
       "\n",
       "    .dataframe tbody tr th {\n",
       "        vertical-align: top;\n",
       "    }\n",
       "\n",
       "    .dataframe thead th {\n",
       "        text-align: right;\n",
       "    }\n",
       "</style>\n",
       "<table border=\"1\" class=\"dataframe\">\n",
       "  <thead>\n",
       "    <tr style=\"text-align: right;\">\n",
       "      <th></th>\n",
       "      <th>ann_std</th>\n",
       "      <th>ann_mean</th>\n",
       "    </tr>\n",
       "  </thead>\n",
       "  <tbody>\n",
       "    <tr>\n",
       "      <th>A</th>\n",
       "      <td>0.1272</td>\n",
       "      <td>0.2403</td>\n",
       "    </tr>\n",
       "    <tr>\n",
       "      <th>Q</th>\n",
       "      <td>0.1793</td>\n",
       "      <td>0.2587</td>\n",
       "    </tr>\n",
       "    <tr>\n",
       "      <th>M</th>\n",
       "      <td>0.2050</td>\n",
       "      <td>0.2538</td>\n",
       "    </tr>\n",
       "    <tr>\n",
       "      <th>W-Fri</th>\n",
       "      <td>0.2309</td>\n",
       "      <td>0.2532</td>\n",
       "    </tr>\n",
       "    <tr>\n",
       "      <th>D</th>\n",
       "      <td>0.2674</td>\n",
       "      <td>0.2529</td>\n",
       "    </tr>\n",
       "  </tbody>\n",
       "</table>\n",
       "</div>"
      ],
      "text/plain": [
       "       ann_std  ann_mean\n",
       "A       0.1272    0.2403\n",
       "Q       0.1793    0.2587\n",
       "M       0.2050    0.2538\n",
       "W-Fri   0.2309    0.2532\n",
       "D       0.2674    0.2529"
      ]
     },
     "execution_count": 28,
     "metadata": {},
     "output_type": "execute_result"
    }
   ],
   "source": [
    "summary = pd.DataFrame(data = {\"ann_std\": ann_std, \"ann_mean\": ann_mean}, index = freqs)\n",
    "summary"
   ]
  },
  {
   "cell_type": "code",
   "execution_count": 30,
   "id": "07c54dbd",
   "metadata": {},
   "outputs": [
    {
     "data": {
      "text/plain": [
       "Text(0.5, 1.0, 'Risk/Return')"
      ]
     },
     "execution_count": 30,
     "metadata": {},
     "output_type": "execute_result"
    },
    {
     "data": {
      "image/png": "[encoded data removed]",
      "text/plain": [
       "<Figure size 1500x1200 with 1 Axes>"
      ]
     },
     "metadata": {},
     "output_type": "display_data"
    }
   ],
   "source": [
    "summary.plot(kind = \"scatter\", x = \"ann_std\", y = \"ann_mean\", figsize = (15, 12), s = 50, fontsize = 15)\n",
    "for i in summary.index:\n",
    "    plt.annotate(i, xy=(summary.loc[i, \"ann_std\"]+0.001, summary.loc[i, \"ann_mean\"]+0.001), size = 15)\n",
    "plt.ylim(0, 0.3)\n",
    "plt.xlabel(\"Ann Risk (std)\", fontsize = 15)\n",
    "plt.ylabel(\"Ann Return\", fontsize = 15)\n",
    "plt.title(\"Risk/Return\", fontsize = 20)"
   ]
  },
  {
   "cell_type": "markdown",
   "id": "5eda45c5",
   "metadata": {},
   "source": [
    "**Smoothing reduces (observed) risk.**"
   ]
  },
  {
   "cell_type": "markdown",
   "id": "852fe17c",
   "metadata": {},
   "source": [
    "Dubious practices:\n",
    "- managing (manipulating) performance in reportings.\n",
    "- adjusting frequency to investor's (average) holding period: volatility is still there.\n",
    "- comparing assets with different pricing frequency and pricing mechanisms: e.g. real estate with quarterly valuation vs. listed stocks (minutely/hourly/daily prices)"
   ]
  },
  {
   "cell_type": "markdown",
   "id": "2d06149a",
   "metadata": {},
   "source": [
    "**Take home**: when comparing instruments the frequency of underlying data must be the same! Don't compare apples and oranges."
   ]
  }
 ],
 "metadata": {
  "kernelspec": {
   "display_name": "Python 3 (ipykernel)",
   "language": "python",
   "name": "python3"
  },
  "language_info": {
   "codemirror_mode": {
    "name": "ipython",
    "version": 3
   },
   "file_extension": ".py",
   "mimetype": "text/x-python",
   "name": "python",
   "nbconvert_exporter": "python",
   "pygments_lexer": "ipython3",
   "version": "3.10.9"
  }
 },
 "nbformat": 4,
 "nbformat_minor": 5
}
