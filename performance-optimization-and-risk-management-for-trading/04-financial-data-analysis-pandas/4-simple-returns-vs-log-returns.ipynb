{
 "cells": [
  {
   "cell_type": "markdown",
   "id": "58711cc5",
   "metadata": {},
   "source": [
    "# Simple Returns vs Logarithmic Returns (log returns)"
   ]
  },
  {
   "cell_type": "markdown",
   "id": "d4ef4fa3",
   "metadata": {},
   "source": [
    "Logarithmic returns have favourable characteristics, and simple returns have drawbacks."
   ]
  },
  {
   "cell_type": "markdown",
   "id": "21721892",
   "metadata": {},
   "source": [
    "## Discrete Compounding"
   ]
  },
  {
   "cell_type": "markdown",
   "id": "e97c5f28",
   "metadata": {},
   "source": [
    "**Annual compounding**: interests accrue once a year, at the end of the year."
   ]
  },
  {
   "cell_type": "markdown",
   "id": "2431a8fc",
   "metadata": {},
   "source": [
    "**8% p.a.** with annual compounding on savings ($100) after one year."
   ]
  },
  {
   "cell_type": "code",
   "execution_count": 1,
   "id": "af82ee39",
   "metadata": {},
   "outputs": [],
   "source": [
    "PV = 100\n",
    "r = 0.08\n",
    "n = 1"
   ]
  },
  {
   "cell_type": "code",
   "execution_count": 2,
   "id": "d34ed65f",
   "metadata": {},
   "outputs": [
    {
     "data": {
      "text/plain": [
       "108.0"
      ]
     },
     "execution_count": 2,
     "metadata": {},
     "output_type": "execute_result"
    }
   ],
   "source": [
    "100 * 1.08"
   ]
  },
  {
   "cell_type": "code",
   "execution_count": 4,
   "id": "c13b926a",
   "metadata": {},
   "outputs": [
    {
     "data": {
      "text/plain": [
       "108.0"
      ]
     },
     "execution_count": 4,
     "metadata": {},
     "output_type": "execute_result"
    }
   ],
   "source": [
    "FV = PV * (1 + r) ** n\n",
    "FV"
   ]
  },
  {
   "cell_type": "code",
   "execution_count": 5,
   "id": "1b0605a5",
   "metadata": {},
   "outputs": [
    {
     "data": {
      "text/plain": [
       "0.08000000000000007"
      ]
     },
     "execution_count": 5,
     "metadata": {},
     "output_type": "execute_result"
    }
   ],
   "source": [
    "effective_annual_rate = (FV / PV) ** (1 / n) - 1\n",
    "effective_annual_rate"
   ]
  },
  {
   "cell_type": "markdown",
   "id": "5615f40f",
   "metadata": {},
   "source": [
    "**Quarterly compounding**: interests accrue once a quarter, at the end of the quarter."
   ]
  },
  {
   "cell_type": "markdown",
   "id": "a5494db0",
   "metadata": {},
   "source": [
    "**8% p.a.** with quarterly compounding on savings ($100) after one year."
   ]
  },
  {
   "cell_type": "code",
   "execution_count": 6,
   "id": "88ea2371",
   "metadata": {},
   "outputs": [],
   "source": [
    "PV = 100\n",
    "r = 0.08\n",
    "n = 1\n",
    "m = 4"
   ]
  },
  {
   "cell_type": "code",
   "execution_count": 7,
   "id": "82a3ae13",
   "metadata": {},
   "outputs": [
    {
     "data": {
      "text/plain": [
       "108.243216"
      ]
     },
     "execution_count": 7,
     "metadata": {},
     "output_type": "execute_result"
    }
   ],
   "source": [
    "100 * 1.02 * 1.02 * 1.02 * 1.02"
   ]
  },
  {
   "cell_type": "code",
   "execution_count": 8,
   "id": "1d91b86b",
   "metadata": {},
   "outputs": [
    {
     "data": {
      "text/plain": [
       "108.243216"
      ]
     },
     "execution_count": 8,
     "metadata": {},
     "output_type": "execute_result"
    }
   ],
   "source": [
    "FV = PV * (1 + r / m) ** (n * m)\n",
    "FV"
   ]
  },
  {
   "cell_type": "code",
   "execution_count": 9,
   "id": "cbfa49d8",
   "metadata": {},
   "outputs": [
    {
     "data": {
      "text/plain": [
       "0.08243215999999998"
      ]
     },
     "execution_count": 9,
     "metadata": {},
     "output_type": "execute_result"
    }
   ],
   "source": [
    "effective_annual_rate = (FV / PV) ** (1 / n) - 1\n",
    "effective_annual_rate"
   ]
  },
  {
   "cell_type": "markdown",
   "id": "b907c925",
   "metadata": {},
   "source": [
    "**Take home**: the more frequent the compounding happens the better."
   ]
  },
  {
   "cell_type": "markdown",
   "id": "39ddd28f",
   "metadata": {},
   "source": [
    "**Monthly compounding**: interests accrue once a month, at the end of the month."
   ]
  },
  {
   "cell_type": "code",
   "execution_count": null,
   "id": "9abe065c",
   "metadata": {},
   "outputs": [],
   "source": [
    "**8% p.a.** with monthly compounding on savings ($100) after one year."
   ]
  },
  {
   "cell_type": "code",
   "execution_count": 12,
   "id": "671f25ea",
   "metadata": {},
   "outputs": [],
   "source": [
    "PV = 100\n",
    "r = 0.08\n",
    "n = 1\n",
    "m = 12"
   ]
  },
  {
   "cell_type": "code",
   "execution_count": 13,
   "id": "ab7f28b7",
   "metadata": {},
   "outputs": [
    {
     "data": {
      "text/plain": [
       "108.29995068075098"
      ]
     },
     "execution_count": 13,
     "metadata": {},
     "output_type": "execute_result"
    }
   ],
   "source": [
    "FV = PV * (1 + r / m) ** (n * m)\n",
    "FV"
   ]
  },
  {
   "cell_type": "code",
   "execution_count": 14,
   "id": "e4e004a1",
   "metadata": {},
   "outputs": [
    {
     "data": {
      "text/plain": [
       "0.08299950680750978"
      ]
     },
     "execution_count": 14,
     "metadata": {},
     "output_type": "execute_result"
    }
   ],
   "source": [
    "effective_annual_rate = (FV / PV) ** (1 / n) - 1\n",
    "effective_annual_rate"
   ]
  },
  {
   "cell_type": "markdown",
   "id": "da319dc9",
   "metadata": {},
   "source": [
    "## Continuous Compounding"
   ]
  },
  {
   "cell_type": "markdown",
   "id": "30159b79",
   "metadata": {},
   "source": [
    "**8% p.a.** with **continuous compounding** on savings ($100)."
   ]
  },
  {
   "cell_type": "code",
   "execution_count": 15,
   "id": "cf4964ea",
   "metadata": {},
   "outputs": [],
   "source": [
    "import numpy as np"
   ]
  },
  {
   "cell_type": "code",
   "execution_count": 16,
   "id": "6dd93b7c",
   "metadata": {},
   "outputs": [],
   "source": [
    "PV = 100\n",
    "r = 0.08\n",
    "n = 1\n",
    "m = 100000 # approx.infinity"
   ]
  },
  {
   "cell_type": "code",
   "execution_count": 17,
   "id": "2467d383",
   "metadata": {},
   "outputs": [
    {
     "data": {
      "text/plain": [
       "108.32870330122834"
      ]
     },
     "execution_count": 17,
     "metadata": {},
     "output_type": "execute_result"
    }
   ],
   "source": [
    "FV = PV * (1 + r / m) ** (n * m)\n",
    "FV"
   ]
  },
  {
   "cell_type": "code",
   "execution_count": 18,
   "id": "04ea4005",
   "metadata": {},
   "outputs": [
    {
     "data": {
      "text/plain": [
       "108.32870676749586"
      ]
     },
     "execution_count": 18,
     "metadata": {},
     "output_type": "execute_result"
    }
   ],
   "source": [
    "FV = PV * np.exp(n * r) # exact math with e (euler number)\n",
    "FV"
   ]
  },
  {
   "cell_type": "code",
   "execution_count": 19,
   "id": "27192e15",
   "metadata": {},
   "outputs": [
    {
     "data": {
      "text/plain": [
       "2.718281828459045"
      ]
     },
     "execution_count": 19,
     "metadata": {},
     "output_type": "execute_result"
    }
   ],
   "source": [
    "euler = np.exp(1)\n",
    "euler"
   ]
  },
  {
   "cell_type": "code",
   "execution_count": 20,
   "id": "b5c9ff9d",
   "metadata": {},
   "outputs": [
    {
     "data": {
      "text/plain": [
       "108.32870676749586"
      ]
     },
     "execution_count": 20,
     "metadata": {},
     "output_type": "execute_result"
    }
   ],
   "source": [
    "PV * euler ** (n * r)"
   ]
  },
  {
   "cell_type": "code",
   "execution_count": 21,
   "id": "016388df",
   "metadata": {},
   "outputs": [
    {
     "data": {
      "text/plain": [
       "0.08328706767495864"
      ]
     },
     "execution_count": 21,
     "metadata": {},
     "output_type": "execute_result"
    }
   ],
   "source": [
    "effective_annual_rate = (FV / PV) ** (1 / n) - 1\n",
    "effective_annual_rate"
   ]
  },
  {
   "cell_type": "code",
   "execution_count": 22,
   "id": "ce0ec443",
   "metadata": {},
   "outputs": [
    {
     "data": {
      "text/plain": [
       "0.08328706767495864"
      ]
     },
     "execution_count": 22,
     "metadata": {},
     "output_type": "execute_result"
    }
   ],
   "source": [
    "effective_annual_rate = np.exp(r) - 1\n",
    "effective_annual_rate"
   ]
  },
  {
   "cell_type": "code",
   "execution_count": 25,
   "id": "cf435f41",
   "metadata": {},
   "outputs": [
    {
     "data": {
      "text/plain": [
       "0.08000000000000007"
      ]
     },
     "execution_count": 25,
     "metadata": {},
     "output_type": "execute_result"
    }
   ],
   "source": [
    "r = np.log(FV / PV) # inverse calculation -> use log\n",
    "r"
   ]
  },
  {
   "cell_type": "markdown",
   "id": "9a90d5cd",
   "metadata": {},
   "source": [
    "**Take home**: prices of traded financial instruments change (approximately) continuously.\n",
    "<br>\n",
    "Intuitively, it makes sense to work with log returns"
   ]
  },
  {
   "cell_type": "markdown",
   "id": "960cca72",
   "metadata": {},
   "source": [
    "## Log Returns"
   ]
  },
  {
   "cell_type": "code",
   "execution_count": 27,
   "id": "546d0524",
   "metadata": {},
   "outputs": [],
   "source": [
    "import pandas as pd\n",
    "import numpy as np\n",
    "pd.options.display.float_format = '{:.6f}'.format"
   ]
  },
  {
   "cell_type": "code",
   "execution_count": 28,
   "id": "89873a31",
   "metadata": {},
   "outputs": [
    {
     "data": {
      "text/html": [
       "<div>\n",
       "<style scoped>\n",
       "    .dataframe tbody tr th:only-of-type {\n",
       "        vertical-align: middle;\n",
       "    }\n",
       "\n",
       "    .dataframe tbody tr th {\n",
       "        vertical-align: top;\n",
       "    }\n",
       "\n",
       "    .dataframe thead th {\n",
       "        text-align: right;\n",
       "    }\n",
       "</style>\n",
       "<table border=\"1\" class=\"dataframe\">\n",
       "  <thead>\n",
       "    <tr style=\"text-align: right;\">\n",
       "      <th></th>\n",
       "      <th>Price</th>\n",
       "      <th>Returns</th>\n",
       "    </tr>\n",
       "    <tr>\n",
       "      <th>Date</th>\n",
       "      <th></th>\n",
       "      <th></th>\n",
       "    </tr>\n",
       "  </thead>\n",
       "  <tbody>\n",
       "    <tr>\n",
       "      <th>2014-10-01</th>\n",
       "      <td>45.900002</td>\n",
       "      <td>NaN</td>\n",
       "    </tr>\n",
       "    <tr>\n",
       "      <th>2014-10-02</th>\n",
       "      <td>45.759998</td>\n",
       "      <td>-0.003050</td>\n",
       "    </tr>\n",
       "    <tr>\n",
       "      <th>2014-10-03</th>\n",
       "      <td>46.090000</td>\n",
       "      <td>0.007212</td>\n",
       "    </tr>\n",
       "    <tr>\n",
       "      <th>2014-10-06</th>\n",
       "      <td>46.090000</td>\n",
       "      <td>0.000000</td>\n",
       "    </tr>\n",
       "    <tr>\n",
       "      <th>2014-10-07</th>\n",
       "      <td>45.529999</td>\n",
       "      <td>-0.012150</td>\n",
       "    </tr>\n",
       "    <tr>\n",
       "      <th>...</th>\n",
       "      <td>...</td>\n",
       "      <td>...</td>\n",
       "    </tr>\n",
       "    <tr>\n",
       "      <th>2021-05-24</th>\n",
       "      <td>250.779999</td>\n",
       "      <td>0.022882</td>\n",
       "    </tr>\n",
       "    <tr>\n",
       "      <th>2021-05-25</th>\n",
       "      <td>251.720001</td>\n",
       "      <td>0.003748</td>\n",
       "    </tr>\n",
       "    <tr>\n",
       "      <th>2021-05-26</th>\n",
       "      <td>251.490005</td>\n",
       "      <td>-0.000914</td>\n",
       "    </tr>\n",
       "    <tr>\n",
       "      <th>2021-05-27</th>\n",
       "      <td>249.309998</td>\n",
       "      <td>-0.008668</td>\n",
       "    </tr>\n",
       "    <tr>\n",
       "      <th>2021-05-28</th>\n",
       "      <td>249.679993</td>\n",
       "      <td>0.001484</td>\n",
       "    </tr>\n",
       "  </tbody>\n",
       "</table>\n",
       "<p>1677 rows × 2 columns</p>\n",
       "</div>"
      ],
      "text/plain": [
       "                Price   Returns\n",
       "Date                           \n",
       "2014-10-01  45.900002       NaN\n",
       "2014-10-02  45.759998 -0.003050\n",
       "2014-10-03  46.090000  0.007212\n",
       "2014-10-06  46.090000  0.000000\n",
       "2014-10-07  45.529999 -0.012150\n",
       "...               ...       ...\n",
       "2021-05-24 250.779999  0.022882\n",
       "2021-05-25 251.720001  0.003748\n",
       "2021-05-26 251.490005 -0.000914\n",
       "2021-05-27 249.309998 -0.008668\n",
       "2021-05-28 249.679993  0.001484\n",
       "\n",
       "[1677 rows x 2 columns]"
      ]
     },
     "execution_count": 28,
     "metadata": {},
     "output_type": "execute_result"
    }
   ],
   "source": [
    "msft = pd.read_csv(\"msft.csv\", index_col = \"Date\", parse_dates = [\"Date\"])\n",
    "msft"
   ]
  },
  {
   "cell_type": "code",
   "execution_count": 30,
   "id": "28bff10c",
   "metadata": {},
   "outputs": [
    {
     "data": {
      "text/html": [
       "<div>\n",
       "<style scoped>\n",
       "    .dataframe tbody tr th:only-of-type {\n",
       "        vertical-align: middle;\n",
       "    }\n",
       "\n",
       "    .dataframe tbody tr th {\n",
       "        vertical-align: top;\n",
       "    }\n",
       "\n",
       "    .dataframe thead th {\n",
       "        text-align: right;\n",
       "    }\n",
       "</style>\n",
       "<table border=\"1\" class=\"dataframe\">\n",
       "  <thead>\n",
       "    <tr style=\"text-align: right;\">\n",
       "      <th></th>\n",
       "      <th>Price</th>\n",
       "      <th>Returns</th>\n",
       "      <th>log_return</th>\n",
       "    </tr>\n",
       "    <tr>\n",
       "      <th>Date</th>\n",
       "      <th></th>\n",
       "      <th></th>\n",
       "      <th></th>\n",
       "    </tr>\n",
       "  </thead>\n",
       "  <tbody>\n",
       "    <tr>\n",
       "      <th>2014-10-01</th>\n",
       "      <td>45.900002</td>\n",
       "      <td>NaN</td>\n",
       "      <td>NaN</td>\n",
       "    </tr>\n",
       "    <tr>\n",
       "      <th>2014-10-02</th>\n",
       "      <td>45.759998</td>\n",
       "      <td>-0.003050</td>\n",
       "      <td>-0.003055</td>\n",
       "    </tr>\n",
       "    <tr>\n",
       "      <th>2014-10-03</th>\n",
       "      <td>46.090000</td>\n",
       "      <td>0.007212</td>\n",
       "      <td>0.007186</td>\n",
       "    </tr>\n",
       "    <tr>\n",
       "      <th>2014-10-06</th>\n",
       "      <td>46.090000</td>\n",
       "      <td>0.000000</td>\n",
       "      <td>0.000000</td>\n",
       "    </tr>\n",
       "    <tr>\n",
       "      <th>2014-10-07</th>\n",
       "      <td>45.529999</td>\n",
       "      <td>-0.012150</td>\n",
       "      <td>-0.012225</td>\n",
       "    </tr>\n",
       "    <tr>\n",
       "      <th>...</th>\n",
       "      <td>...</td>\n",
       "      <td>...</td>\n",
       "      <td>...</td>\n",
       "    </tr>\n",
       "    <tr>\n",
       "      <th>2021-05-24</th>\n",
       "      <td>250.779999</td>\n",
       "      <td>0.022882</td>\n",
       "      <td>0.022624</td>\n",
       "    </tr>\n",
       "    <tr>\n",
       "      <th>2021-05-25</th>\n",
       "      <td>251.720001</td>\n",
       "      <td>0.003748</td>\n",
       "      <td>0.003741</td>\n",
       "    </tr>\n",
       "    <tr>\n",
       "      <th>2021-05-26</th>\n",
       "      <td>251.490005</td>\n",
       "      <td>-0.000914</td>\n",
       "      <td>-0.000914</td>\n",
       "    </tr>\n",
       "    <tr>\n",
       "      <th>2021-05-27</th>\n",
       "      <td>249.309998</td>\n",
       "      <td>-0.008668</td>\n",
       "      <td>-0.008706</td>\n",
       "    </tr>\n",
       "    <tr>\n",
       "      <th>2021-05-28</th>\n",
       "      <td>249.679993</td>\n",
       "      <td>0.001484</td>\n",
       "      <td>0.001483</td>\n",
       "    </tr>\n",
       "  </tbody>\n",
       "</table>\n",
       "<p>1677 rows × 3 columns</p>\n",
       "</div>"
      ],
      "text/plain": [
       "                Price   Returns  log_return\n",
       "Date                                       \n",
       "2014-10-01  45.900002       NaN         NaN\n",
       "2014-10-02  45.759998 -0.003050   -0.003055\n",
       "2014-10-03  46.090000  0.007212    0.007186\n",
       "2014-10-06  46.090000  0.000000    0.000000\n",
       "2014-10-07  45.529999 -0.012150   -0.012225\n",
       "...               ...       ...         ...\n",
       "2021-05-24 250.779999  0.022882    0.022624\n",
       "2021-05-25 251.720001  0.003748    0.003741\n",
       "2021-05-26 251.490005 -0.000914   -0.000914\n",
       "2021-05-27 249.309998 -0.008668   -0.008706\n",
       "2021-05-28 249.679993  0.001484    0.001483\n",
       "\n",
       "[1677 rows x 3 columns]"
      ]
     },
     "execution_count": 30,
     "metadata": {},
     "output_type": "execute_result"
    }
   ],
   "source": [
    "msft[\"log_return\"] = np.log(msft.Price / msft.Price.shift()) # daily log returns (log of current price divided by the previous price)\n",
    "msft"
   ]
  },
  {
   "cell_type": "code",
   "execution_count": 31,
   "id": "7dd90123",
   "metadata": {},
   "outputs": [
    {
     "data": {
      "text/html": [
       "<div>\n",
       "<style scoped>\n",
       "    .dataframe tbody tr th:only-of-type {\n",
       "        vertical-align: middle;\n",
       "    }\n",
       "\n",
       "    .dataframe tbody tr th {\n",
       "        vertical-align: top;\n",
       "    }\n",
       "\n",
       "    .dataframe thead th {\n",
       "        text-align: right;\n",
       "    }\n",
       "</style>\n",
       "<table border=\"1\" class=\"dataframe\">\n",
       "  <thead>\n",
       "    <tr style=\"text-align: right;\">\n",
       "      <th></th>\n",
       "      <th>Price</th>\n",
       "      <th>Returns</th>\n",
       "      <th>log_return</th>\n",
       "    </tr>\n",
       "  </thead>\n",
       "  <tbody>\n",
       "    <tr>\n",
       "      <th>count</th>\n",
       "      <td>1677.000000</td>\n",
       "      <td>1676.000000</td>\n",
       "      <td>1676.000000</td>\n",
       "    </tr>\n",
       "    <tr>\n",
       "      <th>mean</th>\n",
       "      <td>106.314377</td>\n",
       "      <td>0.001160</td>\n",
       "      <td>0.001011</td>\n",
       "    </tr>\n",
       "    <tr>\n",
       "      <th>std</th>\n",
       "      <td>60.772246</td>\n",
       "      <td>0.017256</td>\n",
       "      <td>0.017249</td>\n",
       "    </tr>\n",
       "    <tr>\n",
       "      <th>min</th>\n",
       "      <td>40.290001</td>\n",
       "      <td>-0.147390</td>\n",
       "      <td>-0.159453</td>\n",
       "    </tr>\n",
       "    <tr>\n",
       "      <th>25%</th>\n",
       "      <td>54.830002</td>\n",
       "      <td>-0.006177</td>\n",
       "      <td>-0.006196</td>\n",
       "    </tr>\n",
       "    <tr>\n",
       "      <th>50%</th>\n",
       "      <td>89.709999</td>\n",
       "      <td>0.000918</td>\n",
       "      <td>0.000918</td>\n",
       "    </tr>\n",
       "    <tr>\n",
       "      <th>75%</th>\n",
       "      <td>138.899994</td>\n",
       "      <td>0.009110</td>\n",
       "      <td>0.009069</td>\n",
       "    </tr>\n",
       "    <tr>\n",
       "      <th>max</th>\n",
       "      <td>261.970001</td>\n",
       "      <td>0.142169</td>\n",
       "      <td>0.132929</td>\n",
       "    </tr>\n",
       "  </tbody>\n",
       "</table>\n",
       "</div>"
      ],
      "text/plain": [
       "            Price     Returns  log_return\n",
       "count 1677.000000 1676.000000 1676.000000\n",
       "mean   106.314377    0.001160    0.001011\n",
       "std     60.772246    0.017256    0.017249\n",
       "min     40.290001   -0.147390   -0.159453\n",
       "25%     54.830002   -0.006177   -0.006196\n",
       "50%     89.709999    0.000918    0.000918\n",
       "75%    138.899994    0.009110    0.009069\n",
       "max    261.970001    0.142169    0.132929"
      ]
     },
     "execution_count": 31,
     "metadata": {},
     "output_type": "execute_result"
    }
   ],
   "source": [
    "msft.describe()"
   ]
  },
  {
   "cell_type": "code",
   "execution_count": 33,
   "id": "80889697",
   "metadata": {},
   "outputs": [
    {
     "data": {
      "text/plain": [
       "0.0010105697603329652"
      ]
     },
     "execution_count": 33,
     "metadata": {},
     "output_type": "execute_result"
    }
   ],
   "source": [
    "mu = msft.log_return.mean() # mean log return = Reward\n",
    "mu"
   ]
  },
  {
   "cell_type": "code",
   "execution_count": 34,
   "id": "65599dc8",
   "metadata": {},
   "outputs": [
    {
     "data": {
      "text/plain": [
       "0.01724882682847896"
      ]
     },
     "execution_count": 34,
     "metadata": {},
     "output_type": "execute_result"
    }
   ],
   "source": [
    "sigma = msft.log_return.std() # standard deviation of lug returns = Risk/Volatility\n",
    "sigma"
   ]
  },
  {
   "cell_type": "markdown",
   "id": "84f4740f",
   "metadata": {},
   "source": [
    "**Investment Multiple**"
   ]
  },
  {
   "cell_type": "code",
   "execution_count": 35,
   "id": "242004d0",
   "metadata": {},
   "outputs": [
    {
     "data": {
      "text/plain": [
       "5.4396510757198575"
      ]
     },
     "execution_count": 35,
     "metadata": {},
     "output_type": "execute_result"
    }
   ],
   "source": [
    "msft.Returns.add(1).prod() # compounding simple returns (\"compound returns\")"
   ]
  },
  {
   "cell_type": "code",
   "execution_count": 36,
   "id": "9b8c9aec",
   "metadata": {},
   "outputs": [
    {
     "data": {
      "text/plain": [
       "5.439651075719645"
      ]
     },
     "execution_count": 36,
     "metadata": {},
     "output_type": "execute_result"
    }
   ],
   "source": [
    "np.exp(msft.log_return.sum()) # adding log returns (\"cumulative returns\")"
   ]
  },
  {
   "cell_type": "markdown",
   "id": "079287ed",
   "metadata": {},
   "source": [
    "**Normalised Prices with Base 1**"
   ]
  },
  {
   "cell_type": "code",
   "execution_count": 37,
   "id": "e06996bc",
   "metadata": {},
   "outputs": [
    {
     "data": {
      "text/plain": [
       "Date\n",
       "2014-10-01        NaN\n",
       "2014-10-02   0.996950\n",
       "2014-10-03   1.004139\n",
       "2014-10-06   1.004139\n",
       "2014-10-07   0.991939\n",
       "               ...   \n",
       "2021-05-24   5.463616\n",
       "2021-05-25   5.484096\n",
       "2021-05-26   5.479085\n",
       "2021-05-27   5.431590\n",
       "2021-05-28   5.439651\n",
       "Name: Returns, Length: 1677, dtype: float64"
      ]
     },
     "execution_count": 37,
     "metadata": {},
     "output_type": "execute_result"
    }
   ],
   "source": [
    "msft.Returns.add(1).cumprod() # compounding simple returns (\"compound returns\")"
   ]
  },
  {
   "cell_type": "code",
   "execution_count": 38,
   "id": "ffaa9380",
   "metadata": {},
   "outputs": [
    {
     "data": {
      "text/plain": [
       "Date\n",
       "2014-10-01        NaN\n",
       "2014-10-02   0.996950\n",
       "2014-10-03   1.004139\n",
       "2014-10-06   1.004139\n",
       "2014-10-07   0.991939\n",
       "               ...   \n",
       "2021-05-24   5.463616\n",
       "2021-05-25   5.484096\n",
       "2021-05-26   5.479085\n",
       "2021-05-27   5.431590\n",
       "2021-05-28   5.439651\n",
       "Name: log_return, Length: 1677, dtype: float64"
      ]
     },
     "execution_count": 38,
     "metadata": {},
     "output_type": "execute_result"
    }
   ],
   "source": [
    "np.exp(msft.log_return.cumsum()) # adding log returns (\"cumulative returns\")"
   ]
  },
  {
   "cell_type": "code",
   "execution_count": 39,
   "id": "e8db3e85",
   "metadata": {},
   "outputs": [
    {
     "data": {
      "text/plain": [
       "Date\n",
       "2014-10-01        NaN\n",
       "2014-10-02   0.996950\n",
       "2014-10-03   1.004139\n",
       "2014-10-06   1.004139\n",
       "2014-10-07   0.991939\n",
       "               ...   \n",
       "2021-05-24   5.463616\n",
       "2021-05-25   5.484096\n",
       "2021-05-26   5.479085\n",
       "2021-05-27   5.431590\n",
       "2021-05-28   5.439651\n",
       "Name: log_return, Length: 1677, dtype: float64"
      ]
     },
     "execution_count": 39,
     "metadata": {},
     "output_type": "execute_result"
    }
   ],
   "source": [
    "msft.log_return.cumsum().apply(np.exp) # adding log returns (\"cumulative returns\")"
   ]
  },
  {
   "cell_type": "markdown",
   "id": "13f2522a",
   "metadata": {},
   "source": [
    "**CAGR**"
   ]
  },
  {
   "cell_type": "code",
   "execution_count": 40,
   "id": "db6dfcdc",
   "metadata": {},
   "outputs": [
    {
     "data": {
      "text/plain": [
       "0.2897846506194157"
      ]
     },
     "execution_count": 40,
     "metadata": {},
     "output_type": "execute_result"
    }
   ],
   "source": [
    "(msft.Price[-1] / msft.Price[0]) ** (1 / ((msft.index[-1] - msft.index[0]).days / 365.25)) - 1"
   ]
  },
  {
   "cell_type": "code",
   "execution_count": 41,
   "id": "b9a4c8f2",
   "metadata": {},
   "outputs": [
    {
     "data": {
      "text/plain": [
       "251.81365693130397"
      ]
     },
     "execution_count": 41,
     "metadata": {},
     "output_type": "execute_result"
    }
   ],
   "source": [
    "trading_days_year = msft.Returns.count() / ((msft.index[-1] - msft.index[0]).days / 365.25)\n",
    "trading_days_year"
   ]
  },
  {
   "cell_type": "code",
   "execution_count": 42,
   "id": "10b4370f",
   "metadata": {},
   "outputs": [
    {
     "data": {
      "text/plain": [
       "0.2897846506194153"
      ]
     },
     "execution_count": 42,
     "metadata": {},
     "output_type": "execute_result"
    }
   ],
   "source": [
    "np.exp(msft.log_return.mean() * trading_days_year) - 1 # correct with mean of daily log returns"
   ]
  },
  {
   "cell_type": "code",
   "execution_count": 43,
   "id": "9f510c4c",
   "metadata": {},
   "outputs": [
    {
     "data": {
      "text/plain": [
       "0.2920488958487915"
      ]
     },
     "execution_count": 43,
     "metadata": {},
     "output_type": "execute_result"
    }
   ],
   "source": [
    "msft.Returns.mean() * trading_days_year # incorrect with mean of daily simple returns"
   ]
  },
  {
   "cell_type": "code",
   "execution_count": 44,
   "id": "596bb526",
   "metadata": {},
   "outputs": [
    {
     "data": {
      "text/plain": [
       "0.29002755628143806"
      ]
     },
     "execution_count": 44,
     "metadata": {},
     "output_type": "execute_result"
    }
   ],
   "source": [
    "np.exp(msft.log_return.mean() * 252) - 1 # good approximation (for US stocks)"
   ]
  },
  {
   "cell_type": "code",
   "execution_count": null,
   "id": "4f6806dd",
   "metadata": {},
   "outputs": [],
   "source": []
  }
 ],
 "metadata": {
  "kernelspec": {
   "display_name": "Python 3 (ipykernel)",
   "language": "python",
   "name": "python3"
  },
  "language_info": {
   "codemirror_mode": {
    "name": "ipython",
    "version": 3
   },
   "file_extension": ".py",
   "mimetype": "text/x-python",
   "name": "python",
   "nbconvert_exporter": "python",
   "pygments_lexer": "ipython3",
   "version": "3.10.9"
  }
 },
 "nbformat": 4,
 "nbformat_minor": 5
}
