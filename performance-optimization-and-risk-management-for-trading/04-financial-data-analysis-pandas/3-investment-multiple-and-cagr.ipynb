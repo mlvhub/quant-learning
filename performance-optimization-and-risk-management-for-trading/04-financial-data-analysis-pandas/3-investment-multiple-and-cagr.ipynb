{
 "cells": [
  {
   "cell_type": "markdown",
   "id": "e0bf6094",
   "metadata": {},
   "source": [
    "# Investment Multiple and CAGR"
   ]
  },
  {
   "cell_type": "code",
   "execution_count": 1,
   "id": "22ef56d0",
   "metadata": {},
   "outputs": [],
   "source": [
    "import pandas as pd\n",
    "import numpy as np\n",
    "import matplotlib.pyplot as plt\n",
    "pd.options.display.float_format = '{:.4f}'.format"
   ]
  },
  {
   "cell_type": "code",
   "execution_count": 2,
   "id": "6de4a69a",
   "metadata": {},
   "outputs": [
    {
     "data": {
      "text/html": [
       "<div>\n",
       "<style scoped>\n",
       "    .dataframe tbody tr th:only-of-type {\n",
       "        vertical-align: middle;\n",
       "    }\n",
       "\n",
       "    .dataframe tbody tr th {\n",
       "        vertical-align: top;\n",
       "    }\n",
       "\n",
       "    .dataframe thead th {\n",
       "        text-align: right;\n",
       "    }\n",
       "</style>\n",
       "<table border=\"1\" class=\"dataframe\">\n",
       "  <thead>\n",
       "    <tr style=\"text-align: right;\">\n",
       "      <th></th>\n",
       "      <th>Price</th>\n",
       "      <th>Returns</th>\n",
       "    </tr>\n",
       "    <tr>\n",
       "      <th>Date</th>\n",
       "      <th></th>\n",
       "      <th></th>\n",
       "    </tr>\n",
       "  </thead>\n",
       "  <tbody>\n",
       "    <tr>\n",
       "      <th>2014-10-01</th>\n",
       "      <td>45.9000</td>\n",
       "      <td>NaN</td>\n",
       "    </tr>\n",
       "    <tr>\n",
       "      <th>2014-10-02</th>\n",
       "      <td>45.7600</td>\n",
       "      <td>-0.0031</td>\n",
       "    </tr>\n",
       "    <tr>\n",
       "      <th>2014-10-03</th>\n",
       "      <td>46.0900</td>\n",
       "      <td>0.0072</td>\n",
       "    </tr>\n",
       "    <tr>\n",
       "      <th>2014-10-06</th>\n",
       "      <td>46.0900</td>\n",
       "      <td>0.0000</td>\n",
       "    </tr>\n",
       "    <tr>\n",
       "      <th>2014-10-07</th>\n",
       "      <td>45.5300</td>\n",
       "      <td>-0.0122</td>\n",
       "    </tr>\n",
       "    <tr>\n",
       "      <th>...</th>\n",
       "      <td>...</td>\n",
       "      <td>...</td>\n",
       "    </tr>\n",
       "    <tr>\n",
       "      <th>2021-05-24</th>\n",
       "      <td>250.7800</td>\n",
       "      <td>0.0229</td>\n",
       "    </tr>\n",
       "    <tr>\n",
       "      <th>2021-05-25</th>\n",
       "      <td>251.7200</td>\n",
       "      <td>0.0037</td>\n",
       "    </tr>\n",
       "    <tr>\n",
       "      <th>2021-05-26</th>\n",
       "      <td>251.4900</td>\n",
       "      <td>-0.0009</td>\n",
       "    </tr>\n",
       "    <tr>\n",
       "      <th>2021-05-27</th>\n",
       "      <td>249.3100</td>\n",
       "      <td>-0.0087</td>\n",
       "    </tr>\n",
       "    <tr>\n",
       "      <th>2021-05-28</th>\n",
       "      <td>249.6800</td>\n",
       "      <td>0.0015</td>\n",
       "    </tr>\n",
       "  </tbody>\n",
       "</table>\n",
       "<p>1677 rows × 2 columns</p>\n",
       "</div>"
      ],
      "text/plain": [
       "              Price  Returns\n",
       "Date                        \n",
       "2014-10-01  45.9000      NaN\n",
       "2014-10-02  45.7600  -0.0031\n",
       "2014-10-03  46.0900   0.0072\n",
       "2014-10-06  46.0900   0.0000\n",
       "2014-10-07  45.5300  -0.0122\n",
       "...             ...      ...\n",
       "2021-05-24 250.7800   0.0229\n",
       "2021-05-25 251.7200   0.0037\n",
       "2021-05-26 251.4900  -0.0009\n",
       "2021-05-27 249.3100  -0.0087\n",
       "2021-05-28 249.6800   0.0015\n",
       "\n",
       "[1677 rows x 2 columns]"
      ]
     },
     "execution_count": 2,
     "metadata": {},
     "output_type": "execute_result"
    }
   ],
   "source": [
    "msft = pd.read_csv('msft.csv', index_col = 'Date', parse_dates = ['Date'])\n",
    "msft"
   ]
  },
  {
   "cell_type": "markdown",
   "id": "f76e3eec",
   "metadata": {},
   "source": [
    "**Investment Multiple**: ending value of 1 [dollar] initially invested\n",
    "<br>\n",
    "Multiple = Ending value / Initial investment"
   ]
  },
  {
   "cell_type": "code",
   "execution_count": 3,
   "id": "1912638b",
   "metadata": {},
   "outputs": [
    {
     "data": {
      "text/plain": [
       "5.43965107571966"
      ]
     },
     "execution_count": 3,
     "metadata": {},
     "output_type": "execute_result"
    }
   ],
   "source": [
    "multiple = (msft.Price[-1] / msft.Price[0])\n",
    "multiple"
   ]
  },
  {
   "cell_type": "markdown",
   "id": "53aed4df",
   "metadata": {},
   "source": [
    "**Price increase (in %)**"
   ]
  },
  {
   "cell_type": "code",
   "execution_count": 4,
   "id": "26a7251d",
   "metadata": {},
   "outputs": [
    {
     "data": {
      "text/plain": [
       "443.96510757196603"
      ]
     },
     "execution_count": 4,
     "metadata": {},
     "output_type": "execute_result"
    }
   ],
   "source": [
    "(multiple - 1) * 100"
   ]
  },
  {
   "cell_type": "code",
   "execution_count": 5,
   "id": "5ae6e3af",
   "metadata": {},
   "outputs": [
    {
     "data": {
      "text/plain": [
       "Date\n",
       "2014-10-01   1.0000\n",
       "2014-10-02   0.9969\n",
       "2014-10-03   1.0041\n",
       "2014-10-06   1.0041\n",
       "2014-10-07   0.9919\n",
       "              ...  \n",
       "2021-05-24   5.4636\n",
       "2021-05-25   5.4841\n",
       "2021-05-26   5.4791\n",
       "2021-05-27   5.4316\n",
       "2021-05-28   5.4397\n",
       "Name: Price, Length: 1677, dtype: float64"
      ]
     },
     "execution_count": 5,
     "metadata": {},
     "output_type": "execute_result"
    }
   ],
   "source": [
    "msft.Price / msft.Price[0] # similar/identical concept: normalised price with base value 1"
   ]
  },
  {
   "cell_type": "markdown",
   "id": "09f8c1b9",
   "metadata": {},
   "source": [
    "**Drawback of Investment Multiple**: doesn't take into account the investment period. I'ts only meaningul paired with the investment period."
   ]
  },
  {
   "cell_type": "markdown",
   "id": "ecbe17b5",
   "metadata": {},
   "source": [
    "**Compound Annual Growth Rate (CAGR)**: the (constant annual) rate of return that would be required for an investment to grow from its beginning balance to its ending balance, assuming the profits were reinvested at the end of each year of the investment's lifespan. (Wikipedia)"
   ]
  },
  {
   "cell_type": "code",
   "execution_count": 6,
   "id": "1456daa6",
   "metadata": {},
   "outputs": [
    {
     "data": {
      "text/plain": [
       "Timestamp('2014-10-01 00:00:00')"
      ]
     },
     "execution_count": 6,
     "metadata": {},
     "output_type": "execute_result"
    }
   ],
   "source": [
    "start = msft.index[0]\n",
    "start"
   ]
  },
  {
   "cell_type": "code",
   "execution_count": 7,
   "id": "2628d7aa",
   "metadata": {},
   "outputs": [
    {
     "data": {
      "text/plain": [
       "Timestamp('2021-05-28 00:00:00')"
      ]
     },
     "execution_count": 7,
     "metadata": {},
     "output_type": "execute_result"
    }
   ],
   "source": [
    "end = msft.index[-1]\n",
    "end"
   ]
  },
  {
   "cell_type": "code",
   "execution_count": 8,
   "id": "9a0f33a7",
   "metadata": {},
   "outputs": [
    {
     "data": {
      "text/plain": [
       "Timedelta('2431 days 00:00:00')"
      ]
     },
     "execution_count": 8,
     "metadata": {},
     "output_type": "execute_result"
    }
   ],
   "source": [
    "td = end - start\n",
    "td"
   ]
  },
  {
   "cell_type": "code",
   "execution_count": 9,
   "id": "55e6767f",
   "metadata": {},
   "outputs": [
    {
     "data": {
      "text/plain": [
       "6.655715263518139"
      ]
     },
     "execution_count": 9,
     "metadata": {},
     "output_type": "execute_result"
    }
   ],
   "source": [
    "td_years = td.days / 365.25\n",
    "td_years"
   ]
  },
  {
   "cell_type": "code",
   "execution_count": 11,
   "id": "684ac11a",
   "metadata": {},
   "outputs": [
    {
     "data": {
      "text/plain": [
       "0.2897846506194157"
      ]
     },
     "execution_count": 11,
     "metadata": {},
     "output_type": "execute_result"
    }
   ],
   "source": [
    "cagr = multiple ** (1 / td_years) - 1\n",
    "cagr"
   ]
  },
  {
   "cell_type": "code",
   "execution_count": 12,
   "id": "637893ab",
   "metadata": {},
   "outputs": [
    {
     "data": {
      "text/plain": [
       "0.2897846506194157"
      ]
     },
     "execution_count": 12,
     "metadata": {},
     "output_type": "execute_result"
    }
   ],
   "source": [
    "cagr = (msft.Price[-1] / msft.Price[0]) ** (1 / ((msft.index[-1] - msft.index[0]).days / 365.25)) -1\n",
    "cagr"
   ]
  },
  {
   "cell_type": "code",
   "execution_count": 14,
   "id": "54b0c7ca",
   "metadata": {},
   "outputs": [
    {
     "data": {
      "text/plain": [
       "5.439651075719659"
      ]
     },
     "execution_count": 14,
     "metadata": {},
     "output_type": "execute_result"
    }
   ],
   "source": [
    "(1 + cagr) ** td_years # alternative to calculate the multiple with CAGR"
   ]
  },
  {
   "cell_type": "markdown",
   "id": "6416e244",
   "metadata": {},
   "source": [
    "**CAGR can be used to compare investments with different investment horizons.**"
   ]
  },
  {
   "cell_type": "code",
   "execution_count": 19,
   "id": "238cfb5f",
   "metadata": {},
   "outputs": [
    {
     "data": {
      "text/plain": [
       "5.4396510757198575"
      ]
     },
     "execution_count": 19,
     "metadata": {},
     "output_type": "execute_result"
    }
   ],
   "source": [
    "multiple = (1 + msft.Returns).prod() # another alternative to calculate the multiple\n",
    "multiple"
   ]
  },
  {
   "cell_type": "code",
   "execution_count": 20,
   "id": "3c94dd22",
   "metadata": {},
   "outputs": [
    {
     "data": {
      "text/plain": [
       "1676"
      ]
     },
     "execution_count": 20,
     "metadata": {},
     "output_type": "execute_result"
    }
   ],
   "source": [
    "n = msft.Returns.count()\n",
    "n"
   ]
  },
  {
   "cell_type": "code",
   "execution_count": 21,
   "id": "746396ee",
   "metadata": {},
   "outputs": [
    {
     "data": {
      "text/plain": [
       "0.0010110805580043625"
      ]
     },
     "execution_count": 21,
     "metadata": {},
     "output_type": "execute_result"
    }
   ],
   "source": [
    "geo_mean = multiple ** (1 / n) - 1 # geometric mean return (daily)\n",
    "geo_mean"
   ]
  },
  {
   "cell_type": "code",
   "execution_count": 22,
   "id": "d53280ae",
   "metadata": {},
   "outputs": [
    {
     "data": {
      "text/plain": [
       "5.439651075720363"
      ]
     },
     "execution_count": 22,
     "metadata": {},
     "output_type": "execute_result"
    }
   ],
   "source": [
    "(1 + geo_mean) ** n # yet another alternative to calculate the multiple (geometric mean)"
   ]
  },
  {
   "cell_type": "markdown",
   "id": "fb8c525e",
   "metadata": {},
   "source": [
    "**Compound returns, CAGR and geometric mean return are closely related concepts.**"
   ]
  },
  {
   "cell_type": "code",
   "execution_count": 23,
   "id": "327e34a2",
   "metadata": {},
   "outputs": [
    {
     "data": {
      "text/plain": [
       "0.001159781798206695"
      ]
     },
     "execution_count": 23,
     "metadata": {},
     "output_type": "execute_result"
    }
   ],
   "source": [
    "mu = msft.Returns.mean() # arithmetic mean return\n",
    "mu"
   ]
  },
  {
   "cell_type": "markdown",
   "id": "9648377b",
   "metadata": {},
   "source": [
    "**The arithmetic mean returns is always greater than the geometric mean return and less useful.**"
   ]
  },
  {
   "cell_type": "code",
   "execution_count": 24,
   "id": "41c100dd",
   "metadata": {},
   "outputs": [
    {
     "data": {
      "text/plain": [
       "6.977341539401793"
      ]
     },
     "execution_count": 24,
     "metadata": {},
     "output_type": "execute_result"
    }
   ],
   "source": [
    "(1 + mu) ** n # NOT possible to calculate the multiple with the arithmetic mean"
   ]
  },
  {
   "cell_type": "code",
   "execution_count": null,
   "id": "cdc9ccf8",
   "metadata": {},
   "outputs": [],
   "source": []
  }
 ],
 "metadata": {
  "kernelspec": {
   "display_name": "Python 3 (ipykernel)",
   "language": "python",
   "name": "python3"
  },
  "language_info": {
   "codemirror_mode": {
    "name": "ipython",
    "version": 3
   },
   "file_extension": ".py",
   "mimetype": "text/x-python",
   "name": "python",
   "nbconvert_exporter": "python",
   "pygments_lexer": "ipython3",
   "version": "3.10.9"
  }
 },
 "nbformat": 4,
 "nbformat_minor": 5
}
