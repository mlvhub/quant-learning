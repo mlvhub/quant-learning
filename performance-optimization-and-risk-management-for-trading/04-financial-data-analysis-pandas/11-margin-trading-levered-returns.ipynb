{
 "cells": [
  {
   "cell_type": "markdown",
   "id": "0bc479ce",
   "metadata": {},
   "source": [
    "# Margin Trading & Levered Returns"
   ]
  },
  {
   "cell_type": "markdown",
   "id": "1f308486",
   "metadata": {},
   "source": [
    "Definition: \"Margin trading refers to the practice of using borrowed funds from a broker to trade a financial asset, which forms the collateral for the loan from the broker.\" (Investopedia.com)\n",
    "\n",
    "In simple words: investors don't pay the full price but they get the full benefit (minus borrowing costs)\n",
    "\n",
    "It's a two edged sword: **leverage amplifies both gains and losses.**\n",
    "<br>\n",
    "In the event of a loss, the collateral gets reduced and the investor either posts additional margin or the broker closes the position (margin call).\n",
    "\n",
    "**Example**\n",
    "\n",
    "A trader buys a stock (\\\\$100) on margin (50%). After one day the price increases to \\\\$110.\n",
    "<br>\n",
    "Calculate the unlevered return and levered return."
   ]
  },
  {
   "cell_type": "code",
   "execution_count": 7,
   "id": "a247d3ff",
   "metadata": {},
   "outputs": [],
   "source": [
    "import numpy as np"
   ]
  },
  {
   "cell_type": "code",
   "execution_count": 1,
   "id": "3546fdff",
   "metadata": {},
   "outputs": [],
   "source": [
    "p0 = 100\n",
    "p1 = 110\n",
    "leverage = 2\n",
    "margin = p0 / 2"
   ]
  },
  {
   "cell_type": "code",
   "execution_count": 2,
   "id": "e7bb8cb4",
   "metadata": {},
   "outputs": [
    {
     "data": {
      "text/plain": [
       "50.0"
      ]
     },
     "execution_count": 2,
     "metadata": {},
     "output_type": "execute_result"
    }
   ],
   "source": [
    "margin"
   ]
  },
  {
   "cell_type": "code",
   "execution_count": 3,
   "id": "7a323b9b",
   "metadata": {},
   "outputs": [
    {
     "data": {
      "text/plain": [
       "0.1"
      ]
     },
     "execution_count": 3,
     "metadata": {},
     "output_type": "execute_result"
    }
   ],
   "source": [
    "unlev_return = (p1 - p0) / p0 # simple return\n",
    "unlev_return"
   ]
  },
  {
   "cell_type": "code",
   "execution_count": 4,
   "id": "97d4e0d0",
   "metadata": {},
   "outputs": [
    {
     "data": {
      "text/plain": [
       "0.2"
      ]
     },
     "execution_count": 4,
     "metadata": {},
     "output_type": "execute_result"
    }
   ],
   "source": [
    "lev_return = (p1 - p0) / margin # simple return\n",
    "lev_return"
   ]
  },
  {
   "cell_type": "code",
   "execution_count": 5,
   "id": "38bd2276",
   "metadata": {},
   "outputs": [
    {
     "data": {
      "text/plain": [
       "True"
      ]
     },
     "execution_count": 5,
     "metadata": {},
     "output_type": "execute_result"
    }
   ],
   "source": [
    "lev_return == unlev_return * leverage # this relationship is true for simple returns"
   ]
  },
  {
   "cell_type": "code",
   "execution_count": 10,
   "id": "e46598d7",
   "metadata": {},
   "outputs": [
    {
     "data": {
      "text/plain": [
       "0.09531017980432493"
      ]
     },
     "execution_count": 10,
     "metadata": {},
     "output_type": "execute_result"
    }
   ],
   "source": [
    "unlev_return = np.log((p1 - p0) / p0 + 1) # log returns\n",
    "unlev_return"
   ]
  },
  {
   "cell_type": "code",
   "execution_count": 11,
   "id": "2b43ade5",
   "metadata": {},
   "outputs": [
    {
     "data": {
      "text/plain": [
       "0.1823215567939546"
      ]
     },
     "execution_count": 11,
     "metadata": {},
     "output_type": "execute_result"
    }
   ],
   "source": [
    "lev_return = np.log((p1 - p0) / margin + 1) # log returns\n",
    "lev_return"
   ]
  },
  {
   "cell_type": "code",
   "execution_count": 9,
   "id": "618ffeef",
   "metadata": {},
   "outputs": [
    {
     "data": {
      "text/plain": [
       "False"
      ]
     },
     "execution_count": 9,
     "metadata": {},
     "output_type": "execute_result"
    }
   ],
   "source": [
    "lev_return == unlev_return * leverage # this relationship is NOT true for log returns"
   ]
  },
  {
   "cell_type": "markdown",
   "id": "67aa0d3a",
   "metadata": {},
   "source": [
    "**Take home: to calculate levered returns, don't multiply leverage with log returns.**"
   ]
  },
  {
   "cell_type": "markdown",
   "id": "77ee71f1",
   "metadata": {},
   "source": [
    "## Levered Returns"
   ]
  },
  {
   "cell_type": "markdown",
   "id": "398e2b61",
   "metadata": {},
   "source": [
    "**Hypothesis: for (highly) profitable investment, the more leverage the better.**"
   ]
  },
  {
   "cell_type": "code",
   "execution_count": 12,
   "id": "45d2fea0",
   "metadata": {},
   "outputs": [],
   "source": [
    "import pandas as pd\n",
    "import numpy as np\n",
    "import matplotlib.pyplot as plt\n",
    "pd.options.display.float_format = '{:.6f}'.format\n",
    "plt.style.use(\"seaborn-v0_8\")"
   ]
  },
  {
   "cell_type": "code",
   "execution_count": 13,
   "id": "49772b16",
   "metadata": {},
   "outputs": [
    {
     "data": {
      "text/html": [
       "<div>\n",
       "<style scoped>\n",
       "    .dataframe tbody tr th:only-of-type {\n",
       "        vertical-align: middle;\n",
       "    }\n",
       "\n",
       "    .dataframe tbody tr th {\n",
       "        vertical-align: top;\n",
       "    }\n",
       "\n",
       "    .dataframe thead th {\n",
       "        text-align: right;\n",
       "    }\n",
       "</style>\n",
       "<table border=\"1\" class=\"dataframe\">\n",
       "  <thead>\n",
       "    <tr style=\"text-align: right;\">\n",
       "      <th></th>\n",
       "      <th>Price</th>\n",
       "      <th>Returns</th>\n",
       "    </tr>\n",
       "    <tr>\n",
       "      <th>Date</th>\n",
       "      <th></th>\n",
       "      <th></th>\n",
       "    </tr>\n",
       "  </thead>\n",
       "  <tbody>\n",
       "    <tr>\n",
       "      <th>2014-10-01</th>\n",
       "      <td>45.900002</td>\n",
       "      <td>NaN</td>\n",
       "    </tr>\n",
       "    <tr>\n",
       "      <th>2014-10-02</th>\n",
       "      <td>45.759998</td>\n",
       "      <td>-0.003050</td>\n",
       "    </tr>\n",
       "    <tr>\n",
       "      <th>2014-10-03</th>\n",
       "      <td>46.090000</td>\n",
       "      <td>0.007212</td>\n",
       "    </tr>\n",
       "    <tr>\n",
       "      <th>2014-10-06</th>\n",
       "      <td>46.090000</td>\n",
       "      <td>0.000000</td>\n",
       "    </tr>\n",
       "    <tr>\n",
       "      <th>2014-10-07</th>\n",
       "      <td>45.529999</td>\n",
       "      <td>-0.012150</td>\n",
       "    </tr>\n",
       "    <tr>\n",
       "      <th>...</th>\n",
       "      <td>...</td>\n",
       "      <td>...</td>\n",
       "    </tr>\n",
       "    <tr>\n",
       "      <th>2021-05-24</th>\n",
       "      <td>250.779999</td>\n",
       "      <td>0.022882</td>\n",
       "    </tr>\n",
       "    <tr>\n",
       "      <th>2021-05-25</th>\n",
       "      <td>251.720001</td>\n",
       "      <td>0.003748</td>\n",
       "    </tr>\n",
       "    <tr>\n",
       "      <th>2021-05-26</th>\n",
       "      <td>251.490005</td>\n",
       "      <td>-0.000914</td>\n",
       "    </tr>\n",
       "    <tr>\n",
       "      <th>2021-05-27</th>\n",
       "      <td>249.309998</td>\n",
       "      <td>-0.008668</td>\n",
       "    </tr>\n",
       "    <tr>\n",
       "      <th>2021-05-28</th>\n",
       "      <td>249.679993</td>\n",
       "      <td>0.001484</td>\n",
       "    </tr>\n",
       "  </tbody>\n",
       "</table>\n",
       "<p>1677 rows × 2 columns</p>\n",
       "</div>"
      ],
      "text/plain": [
       "                Price   Returns\n",
       "Date                           \n",
       "2014-10-01  45.900002       NaN\n",
       "2014-10-02  45.759998 -0.003050\n",
       "2014-10-03  46.090000  0.007212\n",
       "2014-10-06  46.090000  0.000000\n",
       "2014-10-07  45.529999 -0.012150\n",
       "...               ...       ...\n",
       "2021-05-24 250.779999  0.022882\n",
       "2021-05-25 251.720001  0.003748\n",
       "2021-05-26 251.490005 -0.000914\n",
       "2021-05-27 249.309998 -0.008668\n",
       "2021-05-28 249.679993  0.001484\n",
       "\n",
       "[1677 rows x 2 columns]"
      ]
     },
     "execution_count": 13,
     "metadata": {},
     "output_type": "execute_result"
    }
   ],
   "source": [
    "msft = pd.read_csv(\"msft.csv\", index_col = \"Date\", parse_dates = [\"Date\"])\n",
    "msft"
   ]
  },
  {
   "cell_type": "code",
   "execution_count": 14,
   "id": "4c64530d",
   "metadata": {},
   "outputs": [
    {
     "data": {
      "text/html": [
       "<div>\n",
       "<style scoped>\n",
       "    .dataframe tbody tr th:only-of-type {\n",
       "        vertical-align: middle;\n",
       "    }\n",
       "\n",
       "    .dataframe tbody tr th {\n",
       "        vertical-align: top;\n",
       "    }\n",
       "\n",
       "    .dataframe thead th {\n",
       "        text-align: right;\n",
       "    }\n",
       "</style>\n",
       "<table border=\"1\" class=\"dataframe\">\n",
       "  <thead>\n",
       "    <tr style=\"text-align: right;\">\n",
       "      <th></th>\n",
       "      <th>Price</th>\n",
       "      <th>Returns</th>\n",
       "      <th>Simple_Ret</th>\n",
       "    </tr>\n",
       "    <tr>\n",
       "      <th>Date</th>\n",
       "      <th></th>\n",
       "      <th></th>\n",
       "      <th></th>\n",
       "    </tr>\n",
       "  </thead>\n",
       "  <tbody>\n",
       "    <tr>\n",
       "      <th>2014-10-01</th>\n",
       "      <td>45.900002</td>\n",
       "      <td>NaN</td>\n",
       "      <td>NaN</td>\n",
       "    </tr>\n",
       "    <tr>\n",
       "      <th>2014-10-02</th>\n",
       "      <td>45.759998</td>\n",
       "      <td>-0.003050</td>\n",
       "      <td>-0.003050</td>\n",
       "    </tr>\n",
       "    <tr>\n",
       "      <th>2014-10-03</th>\n",
       "      <td>46.090000</td>\n",
       "      <td>0.007212</td>\n",
       "      <td>0.007212</td>\n",
       "    </tr>\n",
       "    <tr>\n",
       "      <th>2014-10-06</th>\n",
       "      <td>46.090000</td>\n",
       "      <td>0.000000</td>\n",
       "      <td>0.000000</td>\n",
       "    </tr>\n",
       "    <tr>\n",
       "      <th>2014-10-07</th>\n",
       "      <td>45.529999</td>\n",
       "      <td>-0.012150</td>\n",
       "      <td>-0.012150</td>\n",
       "    </tr>\n",
       "    <tr>\n",
       "      <th>...</th>\n",
       "      <td>...</td>\n",
       "      <td>...</td>\n",
       "      <td>...</td>\n",
       "    </tr>\n",
       "    <tr>\n",
       "      <th>2021-05-24</th>\n",
       "      <td>250.779999</td>\n",
       "      <td>0.022882</td>\n",
       "      <td>0.022882</td>\n",
       "    </tr>\n",
       "    <tr>\n",
       "      <th>2021-05-25</th>\n",
       "      <td>251.720001</td>\n",
       "      <td>0.003748</td>\n",
       "      <td>0.003748</td>\n",
       "    </tr>\n",
       "    <tr>\n",
       "      <th>2021-05-26</th>\n",
       "      <td>251.490005</td>\n",
       "      <td>-0.000914</td>\n",
       "      <td>-0.000914</td>\n",
       "    </tr>\n",
       "    <tr>\n",
       "      <th>2021-05-27</th>\n",
       "      <td>249.309998</td>\n",
       "      <td>-0.008668</td>\n",
       "      <td>-0.008668</td>\n",
       "    </tr>\n",
       "    <tr>\n",
       "      <th>2021-05-28</th>\n",
       "      <td>249.679993</td>\n",
       "      <td>0.001484</td>\n",
       "      <td>0.001484</td>\n",
       "    </tr>\n",
       "  </tbody>\n",
       "</table>\n",
       "<p>1677 rows × 3 columns</p>\n",
       "</div>"
      ],
      "text/plain": [
       "                Price   Returns  Simple_Ret\n",
       "Date                                       \n",
       "2014-10-01  45.900002       NaN         NaN\n",
       "2014-10-02  45.759998 -0.003050   -0.003050\n",
       "2014-10-03  46.090000  0.007212    0.007212\n",
       "2014-10-06  46.090000  0.000000    0.000000\n",
       "2014-10-07  45.529999 -0.012150   -0.012150\n",
       "...               ...       ...         ...\n",
       "2021-05-24 250.779999  0.022882    0.022882\n",
       "2021-05-25 251.720001  0.003748    0.003748\n",
       "2021-05-26 251.490005 -0.000914   -0.000914\n",
       "2021-05-27 249.309998 -0.008668   -0.008668\n",
       "2021-05-28 249.679993  0.001484    0.001484\n",
       "\n",
       "[1677 rows x 3 columns]"
      ]
     },
     "execution_count": 14,
     "metadata": {},
     "output_type": "execute_result"
    }
   ],
   "source": [
    "msft[\"Simple_Ret\"] = msft.Price.pct_change() # simple returns\n",
    "msft"
   ]
  },
  {
   "cell_type": "code",
   "execution_count": 25,
   "id": "026dea32",
   "metadata": {},
   "outputs": [],
   "source": [
    "leverage = 7"
   ]
  },
  {
   "cell_type": "markdown",
   "id": "599a2666",
   "metadata": {},
   "source": [
    "(Simplified) Assumptions:\n",
    "- restore leverage on a daily basis (by buying/selling shares)\n",
    "- no trading costs\n",
    "- no borrowing costs"
   ]
  },
  {
   "cell_type": "code",
   "execution_count": 32,
   "id": "f7ffed60",
   "metadata": {},
   "outputs": [
    {
     "data": {
      "text/html": [
       "<div>\n",
       "<style scoped>\n",
       "    .dataframe tbody tr th:only-of-type {\n",
       "        vertical-align: middle;\n",
       "    }\n",
       "\n",
       "    .dataframe tbody tr th {\n",
       "        vertical-align: top;\n",
       "    }\n",
       "\n",
       "    .dataframe thead th {\n",
       "        text-align: right;\n",
       "    }\n",
       "</style>\n",
       "<table border=\"1\" class=\"dataframe\">\n",
       "  <thead>\n",
       "    <tr style=\"text-align: right;\">\n",
       "      <th></th>\n",
       "      <th>Price</th>\n",
       "      <th>Returns</th>\n",
       "      <th>Simple_Ret</th>\n",
       "      <th>Lev_Returns</th>\n",
       "    </tr>\n",
       "    <tr>\n",
       "      <th>Date</th>\n",
       "      <th></th>\n",
       "      <th></th>\n",
       "      <th></th>\n",
       "      <th></th>\n",
       "    </tr>\n",
       "  </thead>\n",
       "  <tbody>\n",
       "    <tr>\n",
       "      <th>2014-10-01</th>\n",
       "      <td>45.900002</td>\n",
       "      <td>NaN</td>\n",
       "      <td>NaN</td>\n",
       "      <td>NaN</td>\n",
       "    </tr>\n",
       "    <tr>\n",
       "      <th>2014-10-02</th>\n",
       "      <td>45.759998</td>\n",
       "      <td>-0.003050</td>\n",
       "      <td>-0.003050</td>\n",
       "      <td>-0.021351</td>\n",
       "    </tr>\n",
       "    <tr>\n",
       "      <th>2014-10-03</th>\n",
       "      <td>46.090000</td>\n",
       "      <td>0.007212</td>\n",
       "      <td>0.007212</td>\n",
       "      <td>0.050481</td>\n",
       "    </tr>\n",
       "    <tr>\n",
       "      <th>2014-10-06</th>\n",
       "      <td>46.090000</td>\n",
       "      <td>0.000000</td>\n",
       "      <td>0.000000</td>\n",
       "      <td>0.000000</td>\n",
       "    </tr>\n",
       "    <tr>\n",
       "      <th>2014-10-07</th>\n",
       "      <td>45.529999</td>\n",
       "      <td>-0.012150</td>\n",
       "      <td>-0.012150</td>\n",
       "      <td>-0.085051</td>\n",
       "    </tr>\n",
       "    <tr>\n",
       "      <th>...</th>\n",
       "      <td>...</td>\n",
       "      <td>...</td>\n",
       "      <td>...</td>\n",
       "      <td>...</td>\n",
       "    </tr>\n",
       "    <tr>\n",
       "      <th>2021-05-24</th>\n",
       "      <td>250.779999</td>\n",
       "      <td>0.022882</td>\n",
       "      <td>0.022882</td>\n",
       "      <td>0.160175</td>\n",
       "    </tr>\n",
       "    <tr>\n",
       "      <th>2021-05-25</th>\n",
       "      <td>251.720001</td>\n",
       "      <td>0.003748</td>\n",
       "      <td>0.003748</td>\n",
       "      <td>0.026238</td>\n",
       "    </tr>\n",
       "    <tr>\n",
       "      <th>2021-05-26</th>\n",
       "      <td>251.490005</td>\n",
       "      <td>-0.000914</td>\n",
       "      <td>-0.000914</td>\n",
       "      <td>-0.006396</td>\n",
       "    </tr>\n",
       "    <tr>\n",
       "      <th>2021-05-27</th>\n",
       "      <td>249.309998</td>\n",
       "      <td>-0.008668</td>\n",
       "      <td>-0.008668</td>\n",
       "      <td>-0.060679</td>\n",
       "    </tr>\n",
       "    <tr>\n",
       "      <th>2021-05-28</th>\n",
       "      <td>249.679993</td>\n",
       "      <td>0.001484</td>\n",
       "      <td>0.001484</td>\n",
       "      <td>0.010389</td>\n",
       "    </tr>\n",
       "  </tbody>\n",
       "</table>\n",
       "<p>1677 rows × 4 columns</p>\n",
       "</div>"
      ],
      "text/plain": [
       "                Price   Returns  Simple_Ret  Lev_Returns\n",
       "Date                                                    \n",
       "2014-10-01  45.900002       NaN         NaN          NaN\n",
       "2014-10-02  45.759998 -0.003050   -0.003050    -0.021351\n",
       "2014-10-03  46.090000  0.007212    0.007212     0.050481\n",
       "2014-10-06  46.090000  0.000000    0.000000     0.000000\n",
       "2014-10-07  45.529999 -0.012150   -0.012150    -0.085051\n",
       "...               ...       ...         ...          ...\n",
       "2021-05-24 250.779999  0.022882    0.022882     0.160175\n",
       "2021-05-25 251.720001  0.003748    0.003748     0.026238\n",
       "2021-05-26 251.490005 -0.000914   -0.000914    -0.006396\n",
       "2021-05-27 249.309998 -0.008668   -0.008668    -0.060679\n",
       "2021-05-28 249.679993  0.001484    0.001484     0.010389\n",
       "\n",
       "[1677 rows x 4 columns]"
      ]
     },
     "execution_count": 32,
     "metadata": {},
     "output_type": "execute_result"
    }
   ],
   "source": [
    "msft[\"Lev_Returns\"] = msft.Simple_Ret.mul(leverage) # levered simple returns\n",
    "msft"
   ]
  },
  {
   "cell_type": "code",
   "execution_count": 33,
   "id": "ac913da5",
   "metadata": {},
   "outputs": [],
   "source": [
    "msft[\"Lev_Returns\"] = np.where(msft[\"Lev_Returns\"] < -1, -1, msft[\"Lev_Returns\"]) # limit loss to 100%"
   ]
  },
  {
   "cell_type": "code",
   "execution_count": 34,
   "id": "8640a185",
   "metadata": {},
   "outputs": [
    {
     "data": {
      "text/plain": [
       "<Axes: xlabel='Date'>"
      ]
     },
     "execution_count": 34,
     "metadata": {},
     "output_type": "execute_result"
    },
    {
     "data": {
      "image/png": "[encoded data removed]",
      "text/plain": [
       "<Figure size 800x550 with 1 Axes>"
      ]
     },
     "metadata": {},
     "output_type": "display_data"
    }
   ],
   "source": [
    "msft[[\"Returns\", \"Lev_Returns\"]].add(1).cumprod().plot()"
   ]
  },
  {
   "cell_type": "code",
   "execution_count": 35,
   "id": "647b9ab6",
   "metadata": {},
   "outputs": [
    {
     "data": {
      "text/plain": [
       "0.14216888119914373"
      ]
     },
     "execution_count": 35,
     "metadata": {},
     "output_type": "execute_result"
    }
   ],
   "source": [
    "msft.Simple_Ret.max()"
   ]
  },
  {
   "cell_type": "code",
   "execution_count": 36,
   "id": "b17587b2",
   "metadata": {},
   "outputs": [
    {
     "data": {
      "text/plain": [
       "0.9951821683940061"
      ]
     },
     "execution_count": 36,
     "metadata": {},
     "output_type": "execute_result"
    }
   ],
   "source": [
    "msft.Lev_Returns.max()"
   ]
  },
  {
   "cell_type": "code",
   "execution_count": 37,
   "id": "bebb79db",
   "metadata": {},
   "outputs": [
    {
     "data": {
      "text/plain": [
       "-0.1473903128642552"
      ]
     },
     "execution_count": 37,
     "metadata": {},
     "output_type": "execute_result"
    }
   ],
   "source": [
    "msft.Simple_Ret.min()"
   ]
  },
  {
   "cell_type": "code",
   "execution_count": 38,
   "id": "74a30191",
   "metadata": {},
   "outputs": [
    {
     "data": {
      "text/plain": [
       "-1.0"
      ]
     },
     "execution_count": 38,
     "metadata": {},
     "output_type": "execute_result"
    }
   ],
   "source": [
    "msft.Lev_Returns.min()"
   ]
  },
  {
   "cell_type": "markdown",
   "id": "7c30af9e",
   "metadata": {},
   "source": [
    "**What happens when leverage greater than ...?**"
   ]
  },
  {
   "cell_type": "code",
   "execution_count": 24,
   "id": "6a1824b6",
   "metadata": {},
   "outputs": [
    {
     "data": {
      "text/plain": [
       "6.784706406865346"
      ]
     },
     "execution_count": 24,
     "metadata": {},
     "output_type": "execute_result"
    }
   ],
   "source": [
    "-1 / msft.Simple_Ret.min()"
   ]
  },
  {
   "cell_type": "markdown",
   "id": "c90448b7",
   "metadata": {},
   "source": [
    "**Take home:**\n",
    "1. with leverage you can (theoretically) lose more than the initial margin (in practice: margin call/margin closeout before)\n",
    "2. even for (highly) profitable instruments the hypothesis **\"the more leverage the better**\" does not hold\n",
    "3. it's a two edged (**non-symmetrical**) sword: leverage amplifies losses more than it amplifies gains"
   ]
  }
 ],
 "metadata": {
  "kernelspec": {
   "display_name": "Python 3 (ipykernel)",
   "language": "python",
   "name": "python3"
  },
  "language_info": {
   "codemirror_mode": {
    "name": "ipython",
    "version": 3
   },
   "file_extension": ".py",
   "mimetype": "text/x-python",
   "name": "python",
   "nbconvert_exporter": "python",
   "pygments_lexer": "ipython3",
   "version": "3.10.9"
  }
 },
 "nbformat": 4,
 "nbformat_minor": 5
}
