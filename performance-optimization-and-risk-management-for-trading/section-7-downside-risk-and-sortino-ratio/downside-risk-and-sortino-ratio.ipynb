{
 "cells": [
  {
   "cell_type": "markdown",
   "id": "ece8e328",
   "metadata": {},
   "source": [
    "# Downside Risk and Sortino Ratio"
   ]
  },
  {
   "cell_type": "code",
   "execution_count": 11,
   "id": "d801020e",
   "metadata": {},
   "outputs": [],
   "source": [
    "import pandas as pd\n",
    "import numpy as np\n",
    "import matplotlib.pyplot as plt"
   ]
  },
  {
   "cell_type": "code",
   "execution_count": 3,
   "id": "9a520dc3",
   "metadata": {},
   "outputs": [
    {
     "data": {
      "text/html": [
       "<div>\n",
       "<style scoped>\n",
       "    .dataframe tbody tr th:only-of-type {\n",
       "        vertical-align: middle;\n",
       "    }\n",
       "\n",
       "    .dataframe tbody tr th {\n",
       "        vertical-align: top;\n",
       "    }\n",
       "\n",
       "    .dataframe thead th {\n",
       "        text-align: right;\n",
       "    }\n",
       "</style>\n",
       "<table border=\"1\" class=\"dataframe\">\n",
       "  <thead>\n",
       "    <tr style=\"text-align: right;\">\n",
       "      <th></th>\n",
       "      <th>GBP_USD</th>\n",
       "      <th>USD_GBP</th>\n",
       "      <th>Levered</th>\n",
       "      <th>Low_Vol</th>\n",
       "      <th>Random</th>\n",
       "      <th>Neutral</th>\n",
       "    </tr>\n",
       "    <tr>\n",
       "      <th>Date</th>\n",
       "      <th></th>\n",
       "      <th></th>\n",
       "      <th></th>\n",
       "      <th></th>\n",
       "      <th></th>\n",
       "      <th></th>\n",
       "    </tr>\n",
       "  </thead>\n",
       "  <tbody>\n",
       "    <tr>\n",
       "      <th>2010-01-02</th>\n",
       "      <td>-0.002733</td>\n",
       "      <td>0.002733</td>\n",
       "      <td>0.006275</td>\n",
       "      <td>0.0</td>\n",
       "      <td>0.002733</td>\n",
       "      <td>0</td>\n",
       "    </tr>\n",
       "    <tr>\n",
       "      <th>2010-01-03</th>\n",
       "      <td>-0.001727</td>\n",
       "      <td>0.001727</td>\n",
       "      <td>0.003967</td>\n",
       "      <td>0.0</td>\n",
       "      <td>0.000000</td>\n",
       "      <td>0</td>\n",
       "    </tr>\n",
       "    <tr>\n",
       "      <th>2010-01-04</th>\n",
       "      <td>-0.005786</td>\n",
       "      <td>0.005786</td>\n",
       "      <td>0.013259</td>\n",
       "      <td>0.0</td>\n",
       "      <td>0.005786</td>\n",
       "      <td>0</td>\n",
       "    </tr>\n",
       "    <tr>\n",
       "      <th>2010-01-05</th>\n",
       "      <td>0.001687</td>\n",
       "      <td>-0.001687</td>\n",
       "      <td>-0.003884</td>\n",
       "      <td>0.0</td>\n",
       "      <td>0.001687</td>\n",
       "      <td>0</td>\n",
       "    </tr>\n",
       "    <tr>\n",
       "      <th>2010-01-06</th>\n",
       "      <td>-0.005446</td>\n",
       "      <td>0.005446</td>\n",
       "      <td>0.012482</td>\n",
       "      <td>0.0</td>\n",
       "      <td>0.005446</td>\n",
       "      <td>0</td>\n",
       "    </tr>\n",
       "    <tr>\n",
       "      <th>...</th>\n",
       "      <td>...</td>\n",
       "      <td>...</td>\n",
       "      <td>...</td>\n",
       "      <td>...</td>\n",
       "      <td>...</td>\n",
       "      <td>...</td>\n",
       "    </tr>\n",
       "    <tr>\n",
       "      <th>2020-12-23</th>\n",
       "      <td>0.005004</td>\n",
       "      <td>-0.005004</td>\n",
       "      <td>-0.011548</td>\n",
       "      <td>0.0</td>\n",
       "      <td>-0.005004</td>\n",
       "      <td>0</td>\n",
       "    </tr>\n",
       "    <tr>\n",
       "      <th>2020-12-27</th>\n",
       "      <td>-0.008278</td>\n",
       "      <td>0.008278</td>\n",
       "      <td>0.018937</td>\n",
       "      <td>0.0</td>\n",
       "      <td>-0.008278</td>\n",
       "      <td>0</td>\n",
       "    </tr>\n",
       "    <tr>\n",
       "      <th>2020-12-28</th>\n",
       "      <td>0.003799</td>\n",
       "      <td>-0.003799</td>\n",
       "      <td>-0.008760</td>\n",
       "      <td>0.0</td>\n",
       "      <td>-0.003799</td>\n",
       "      <td>0</td>\n",
       "    </tr>\n",
       "    <tr>\n",
       "      <th>2020-12-29</th>\n",
       "      <td>0.009054</td>\n",
       "      <td>-0.009054</td>\n",
       "      <td>-0.020948</td>\n",
       "      <td>0.0</td>\n",
       "      <td>-0.000000</td>\n",
       "      <td>0</td>\n",
       "    </tr>\n",
       "    <tr>\n",
       "      <th>2020-12-30</th>\n",
       "      <td>0.003012</td>\n",
       "      <td>-0.003012</td>\n",
       "      <td>-0.006941</td>\n",
       "      <td>0.0</td>\n",
       "      <td>-0.003012</td>\n",
       "      <td>0</td>\n",
       "    </tr>\n",
       "  </tbody>\n",
       "</table>\n",
       "<p>3139 rows × 6 columns</p>\n",
       "</div>"
      ],
      "text/plain": [
       "             GBP_USD   USD_GBP   Levered  Low_Vol    Random  Neutral\n",
       "Date                                                                \n",
       "2010-01-02 -0.002733  0.002733  0.006275      0.0  0.002733        0\n",
       "2010-01-03 -0.001727  0.001727  0.003967      0.0  0.000000        0\n",
       "2010-01-04 -0.005786  0.005786  0.013259      0.0  0.005786        0\n",
       "2010-01-05  0.001687 -0.001687 -0.003884      0.0  0.001687        0\n",
       "2010-01-06 -0.005446  0.005446  0.012482      0.0  0.005446        0\n",
       "...              ...       ...       ...      ...       ...      ...\n",
       "2020-12-23  0.005004 -0.005004 -0.011548      0.0 -0.005004        0\n",
       "2020-12-27 -0.008278  0.008278  0.018937      0.0 -0.008278        0\n",
       "2020-12-28  0.003799 -0.003799 -0.008760      0.0 -0.003799        0\n",
       "2020-12-29  0.009054 -0.009054 -0.020948      0.0 -0.000000        0\n",
       "2020-12-30  0.003012 -0.003012 -0.006941      0.0 -0.003012        0\n",
       "\n",
       "[3139 rows x 6 columns]"
      ]
     },
     "execution_count": 3,
     "metadata": {},
     "output_type": "execute_result"
    }
   ],
   "source": [
    "returns = pd.read_csv(\"returns.csv\", index_col = \"Date\", parse_dates = [\"Date\"])\n",
    "returns"
   ]
  },
  {
   "cell_type": "code",
   "execution_count": 4,
   "id": "bf5dceef",
   "metadata": {},
   "outputs": [
    {
     "data": {
      "text/plain": [
       "<Axes: xlabel='Date'>"
      ]
     },
     "execution_count": 4,
     "metadata": {},
     "output_type": "execute_result"
    },
    {
     "data": {
      "image/png": "[encoded data removed]",
      "text/plain": [
       "<Figure size 640x480 with 1 Axes>"
      ]
     },
     "metadata": {},
     "output_type": "display_data"
    }
   ],
   "source": [
    "returns.cumsum().apply(np.exp).plot()"
   ]
  },
  {
   "cell_type": "code",
   "execution_count": 5,
   "id": "0a474ba5",
   "metadata": {},
   "outputs": [
    {
     "data": {
      "text/plain": [
       "GBP_USD    285.559091\n",
       "USD_GBP    285.559091\n",
       "Levered    285.559091\n",
       "Low_Vol    285.559091\n",
       "Random     285.559091\n",
       "Neutral    285.559091\n",
       "dtype: float64"
      ]
     },
     "execution_count": 5,
     "metadata": {},
     "output_type": "execute_result"
    }
   ],
   "source": [
    "td_year = returns.count() / ((returns.index[-1] - returns.index[0]).days / 365.25)\n",
    "td_year"
   ]
  },
  {
   "cell_type": "markdown",
   "id": "af1f0af7",
   "metadata": {},
   "source": [
    "## Downside Deviation (Semi-Deviation)"
   ]
  },
  {
   "cell_type": "code",
   "execution_count": 6,
   "id": "ab7aac0b",
   "metadata": {},
   "outputs": [],
   "source": [
    "symbol = \"USD_GBP\""
   ]
  },
  {
   "cell_type": "code",
   "execution_count": 7,
   "id": "fd1f99c0",
   "metadata": {},
   "outputs": [],
   "source": [
    "TMR = 0 # target minimum return"
   ]
  },
  {
   "cell_type": "code",
   "execution_count": 8,
   "id": "673827fd",
   "metadata": {},
   "outputs": [
    {
     "data": {
      "text/plain": [
       "Date\n",
       "2010-01-02    0.002733\n",
       "2010-01-03    0.001727\n",
       "2010-01-04    0.005786\n",
       "2010-01-05   -0.001687\n",
       "2010-01-06    0.005446\n",
       "                ...   \n",
       "2020-12-23   -0.005004\n",
       "2020-12-27    0.008278\n",
       "2020-12-28   -0.003799\n",
       "2020-12-29   -0.009054\n",
       "2020-12-30   -0.003012\n",
       "Name: USD_GBP, Length: 3139, dtype: float64"
      ]
     },
     "execution_count": 8,
     "metadata": {},
     "output_type": "execute_result"
    }
   ],
   "source": [
    "excess_returns = returns[symbol] - TMR # excess return over TMR\n",
    "excess_returns"
   ]
  },
  {
   "cell_type": "code",
   "execution_count": 9,
   "id": "cf002d8a",
   "metadata": {},
   "outputs": [
    {
     "data": {
      "text/plain": [
       "array([ 0.        ,  0.        ,  0.        , ..., -0.00379932,\n",
       "       -0.00905404, -0.00301208])"
      ]
     },
     "execution_count": 9,
     "metadata": {},
     "output_type": "execute_result"
    }
   ],
   "source": [
    "excess_returns = np.where(excess_returns < 0, excess_returns, 0) # setting positive excess return to zero\n",
    "excess_returns"
   ]
  },
  {
   "cell_type": "code",
   "execution_count": 10,
   "id": "e9218c20",
   "metadata": {},
   "outputs": [
    {
     "data": {
      "text/plain": [
       "0.0036313265134239915"
      ]
     },
     "execution_count": 10,
     "metadata": {},
     "output_type": "execute_result"
    }
   ],
   "source": [
    "downside_deviation = np.sqrt(np.mean(excess_returns**2)) # daily downside deviation\n",
    "downside_deviation"
   ]
  },
  {
   "cell_type": "code",
   "execution_count": 13,
   "id": "bf783220",
   "metadata": {},
   "outputs": [
    {
     "data": {
      "text/plain": [
       "0.06136394837951806"
      ]
     },
     "execution_count": 13,
     "metadata": {},
     "output_type": "execute_result"
    }
   ],
   "source": [
    "# TODO: calculate by me, is it right?\n",
    "ann_downside_deviation = downside_deviation * np.sqrt(td_year.iloc[0]) # anual downside deviation\n",
    "ann_downside_deviation"
   ]
  },
  {
   "cell_type": "markdown",
   "id": "2fc2b0c7",
   "metadata": {},
   "source": [
    "## Sortino Ratio"
   ]
  },
  {
   "cell_type": "code",
   "execution_count": 14,
   "id": "aa54af13",
   "metadata": {},
   "outputs": [
    {
     "data": {
      "text/plain": [
       "5.333811413562378e-05"
      ]
     },
     "execution_count": 14,
     "metadata": {},
     "output_type": "execute_result"
    }
   ],
   "source": [
    "mean = returns[symbol].mean()\n",
    "mean"
   ]
  },
  {
   "cell_type": "code",
   "execution_count": 17,
   "id": "b2175ee6",
   "metadata": {},
   "outputs": [
    {
     "data": {
      "text/plain": [
       "GBP_USD    0.248211\n",
       "USD_GBP    0.248211\n",
       "Levered    0.248211\n",
       "Low_Vol    0.248211\n",
       "Random     0.248211\n",
       "Neutral    0.248211\n",
       "dtype: float64"
      ]
     },
     "execution_count": 17,
     "metadata": {},
     "output_type": "execute_result"
    }
   ],
   "source": [
    "sortino = (mean - TMR) / downside_deviation * np.sqrt(td_year)\n",
    "sortino"
   ]
  },
  {
   "cell_type": "markdown",
   "id": "f1cf56b0",
   "metadata": {},
   "source": [
    "## Putting everything together"
   ]
  },
  {
   "cell_type": "code",
   "execution_count": 18,
   "id": "741d9611",
   "metadata": {},
   "outputs": [],
   "source": [
    "def sortino(series, TMR = 0):\n",
    "    excess_returns = (series - TMR)\n",
    "    downside_deviation = np.sqrt(np.mean(np.where(excess_returns < 0, excess_returns, 0) ** 2))\n",
    "    \n",
    "    if downside_deviation == 0:\n",
    "        return np.nan\n",
    "    else:\n",
    "        sortino = (series.mean() - TMR) / downside_deviation * np.sqrt(series.count() / ((series.index[-1] - series.index[0]).days / 365.25))\n",
    "        return sortino"
   ]
  },
  {
   "cell_type": "code",
   "execution_count": 20,
   "id": "5186b0c3",
   "metadata": {},
   "outputs": [
    {
     "data": {
      "text/plain": [
       "Low_Vol    0.396547\n",
       "USD_GBP    0.248211\n",
       "Random     0.182185\n",
       "Levered    0.159784\n",
       "GBP_USD   -0.225971\n",
       "Neutral         NaN\n",
       "dtype: float64"
      ]
     },
     "execution_count": 20,
     "metadata": {},
     "output_type": "execute_result"
    }
   ],
   "source": [
    "returns.apply(sortino).sort_values(ascending = False)"
   ]
  },
  {
   "cell_type": "code",
   "execution_count": 21,
   "id": "784cc69c",
   "metadata": {},
   "outputs": [
    {
     "data": {
      "text/plain": [
       "0.24821061528136432"
      ]
     },
     "execution_count": 21,
     "metadata": {},
     "output_type": "execute_result"
    }
   ],
   "source": [
    "sortino(series = returns.USD_GBP, TMR = 0)"
   ]
  }
 ],
 "metadata": {
  "kernelspec": {
   "display_name": "Python 3 (ipykernel)",
   "language": "python",
   "name": "python3"
  },
  "language_info": {
   "codemirror_mode": {
    "name": "ipython",
    "version": 3
   },
   "file_extension": ".py",
   "mimetype": "text/x-python",
   "name": "python",
   "nbconvert_exporter": "python",
   "pygments_lexer": "ipython3",
   "version": "3.10.9"
  }
 },
 "nbformat": 4,
 "nbformat_minor": 5
}
