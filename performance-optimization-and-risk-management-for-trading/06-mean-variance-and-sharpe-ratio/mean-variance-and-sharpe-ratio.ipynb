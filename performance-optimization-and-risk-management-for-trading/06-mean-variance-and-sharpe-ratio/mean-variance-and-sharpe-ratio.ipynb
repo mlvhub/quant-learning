{
 "cells": [
  {
   "cell_type": "code",
   "execution_count": 1,
   "id": "d9666009",
   "metadata": {},
   "outputs": [],
   "source": [
    "import pandas as pd\n",
    "import numpy as np\n",
    "import matplotlib.pyplot as plt"
   ]
  },
  {
   "cell_type": "code",
   "execution_count": 2,
   "id": "9d622805",
   "metadata": {},
   "outputs": [
    {
     "data": {
      "text/html": [
       "<div>\n",
       "<style scoped>\n",
       "    .dataframe tbody tr th:only-of-type {\n",
       "        vertical-align: middle;\n",
       "    }\n",
       "\n",
       "    .dataframe tbody tr th {\n",
       "        vertical-align: top;\n",
       "    }\n",
       "\n",
       "    .dataframe thead th {\n",
       "        text-align: right;\n",
       "    }\n",
       "</style>\n",
       "<table border=\"1\" class=\"dataframe\">\n",
       "  <thead>\n",
       "    <tr style=\"text-align: right;\">\n",
       "      <th></th>\n",
       "      <th>GBP_USD</th>\n",
       "      <th>USD_GBP</th>\n",
       "      <th>Levered</th>\n",
       "      <th>Low_Vol</th>\n",
       "      <th>Random</th>\n",
       "      <th>Neutral</th>\n",
       "    </tr>\n",
       "    <tr>\n",
       "      <th>Date</th>\n",
       "      <th></th>\n",
       "      <th></th>\n",
       "      <th></th>\n",
       "      <th></th>\n",
       "      <th></th>\n",
       "      <th></th>\n",
       "    </tr>\n",
       "  </thead>\n",
       "  <tbody>\n",
       "    <tr>\n",
       "      <th>2010-01-02</th>\n",
       "      <td>-0.002733</td>\n",
       "      <td>0.002733</td>\n",
       "      <td>0.006275</td>\n",
       "      <td>0.000000</td>\n",
       "      <td>0.002733</td>\n",
       "      <td>0</td>\n",
       "    </tr>\n",
       "    <tr>\n",
       "      <th>2010-01-03</th>\n",
       "      <td>-0.001727</td>\n",
       "      <td>0.001727</td>\n",
       "      <td>0.003967</td>\n",
       "      <td>0.000000</td>\n",
       "      <td>0.000000</td>\n",
       "      <td>0</td>\n",
       "    </tr>\n",
       "    <tr>\n",
       "      <th>2010-01-04</th>\n",
       "      <td>-0.005786</td>\n",
       "      <td>0.005786</td>\n",
       "      <td>0.013259</td>\n",
       "      <td>0.000000</td>\n",
       "      <td>0.005786</td>\n",
       "      <td>0</td>\n",
       "    </tr>\n",
       "    <tr>\n",
       "      <th>2010-01-05</th>\n",
       "      <td>0.001687</td>\n",
       "      <td>-0.001687</td>\n",
       "      <td>-0.003884</td>\n",
       "      <td>0.000000</td>\n",
       "      <td>0.001687</td>\n",
       "      <td>0</td>\n",
       "    </tr>\n",
       "    <tr>\n",
       "      <th>2010-01-06</th>\n",
       "      <td>-0.005446</td>\n",
       "      <td>0.005446</td>\n",
       "      <td>0.012482</td>\n",
       "      <td>0.000000</td>\n",
       "      <td>0.005446</td>\n",
       "      <td>0</td>\n",
       "    </tr>\n",
       "    <tr>\n",
       "      <th>...</th>\n",
       "      <td>...</td>\n",
       "      <td>...</td>\n",
       "      <td>...</td>\n",
       "      <td>...</td>\n",
       "      <td>...</td>\n",
       "      <td>...</td>\n",
       "    </tr>\n",
       "    <tr>\n",
       "      <th>2020-12-23</th>\n",
       "      <td>0.005004</td>\n",
       "      <td>-0.005004</td>\n",
       "      <td>-0.011548</td>\n",
       "      <td>0.000000</td>\n",
       "      <td>-0.005004</td>\n",
       "      <td>0</td>\n",
       "    </tr>\n",
       "    <tr>\n",
       "      <th>2020-12-27</th>\n",
       "      <td>-0.008278</td>\n",
       "      <td>0.008278</td>\n",
       "      <td>0.018937</td>\n",
       "      <td>0.000000</td>\n",
       "      <td>-0.008278</td>\n",
       "      <td>0</td>\n",
       "    </tr>\n",
       "    <tr>\n",
       "      <th>2020-12-28</th>\n",
       "      <td>0.003799</td>\n",
       "      <td>-0.003799</td>\n",
       "      <td>-0.008760</td>\n",
       "      <td>0.000000</td>\n",
       "      <td>-0.003799</td>\n",
       "      <td>0</td>\n",
       "    </tr>\n",
       "    <tr>\n",
       "      <th>2020-12-29</th>\n",
       "      <td>0.009054</td>\n",
       "      <td>-0.009054</td>\n",
       "      <td>-0.020948</td>\n",
       "      <td>0.000000</td>\n",
       "      <td>-0.000000</td>\n",
       "      <td>0</td>\n",
       "    </tr>\n",
       "    <tr>\n",
       "      <th>2020-12-30</th>\n",
       "      <td>0.003012</td>\n",
       "      <td>-0.003012</td>\n",
       "      <td>-0.006941</td>\n",
       "      <td>0.000000</td>\n",
       "      <td>-0.003012</td>\n",
       "      <td>0</td>\n",
       "    </tr>\n",
       "  </tbody>\n",
       "</table>\n",
       "<p>3139 rows × 6 columns</p>\n",
       "</div>"
      ],
      "text/plain": [
       "             GBP_USD   USD_GBP   Levered  Low_Vol    Random  Neutral\n",
       "Date                                                                \n",
       "2010-01-02 -0.002733  0.002733  0.006275 0.000000  0.002733        0\n",
       "2010-01-03 -0.001727  0.001727  0.003967 0.000000  0.000000        0\n",
       "2010-01-04 -0.005786  0.005786  0.013259 0.000000  0.005786        0\n",
       "2010-01-05  0.001687 -0.001687 -0.003884 0.000000  0.001687        0\n",
       "2010-01-06 -0.005446  0.005446  0.012482 0.000000  0.005446        0\n",
       "...              ...       ...       ...      ...       ...      ...\n",
       "2020-12-23  0.005004 -0.005004 -0.011548 0.000000 -0.005004        0\n",
       "2020-12-27 -0.008278  0.008278  0.018937 0.000000 -0.008278        0\n",
       "2020-12-28  0.003799 -0.003799 -0.008760 0.000000 -0.003799        0\n",
       "2020-12-29  0.009054 -0.009054 -0.020948 0.000000 -0.000000        0\n",
       "2020-12-30  0.003012 -0.003012 -0.006941 0.000000 -0.003012        0\n",
       "\n",
       "[3139 rows x 6 columns]"
      ]
     },
     "execution_count": 2,
     "metadata": {},
     "output_type": "execute_result"
    }
   ],
   "source": [
    "returns = pd.read_csv(\"returns.csv\", index_col = \"Date\", parse_dates = [\"Date\"])\n",
    "returns"
   ]
  },
  {
   "cell_type": "markdown",
   "id": "f8b13aeb",
   "metadata": {},
   "source": [
    "**GBP_USD**: Long Position in GBP (denominated in USD) <br>\n",
    "**USD_GBP**: Short Position in GBP (== Long Position in USD; denominated in GBP) <br>\n",
    "**Levered**: USD_GBP with Leverage (\"Trading USD_GBP on Margin\") <br>\n",
    "**Neutral**: Neutral Positions only (no Investments / Trades)  <br>\n",
    "**Low_Vol**: Active Strategy for USD_GBP with Long, Short and Neutral Positions <br>\n",
    "**Random**: Random \"Strategy\" for USD_GBP with random Long, Short and Neutral Positions"
   ]
  },
  {
   "cell_type": "code",
   "execution_count": 3,
   "id": "7ef6530f",
   "metadata": {},
   "outputs": [
    {
     "name": "stdout",
     "output_type": "stream",
     "text": [
      "<class 'pandas.core.frame.DataFrame'>\n",
      "DatetimeIndex: 3139 entries, 2010-01-02 to 2020-12-30\n",
      "Data columns (total 6 columns):\n",
      " #   Column   Non-Null Count  Dtype  \n",
      "---  ------   --------------  -----  \n",
      " 0   GBP_USD  3139 non-null   float64\n",
      " 1   USD_GBP  3139 non-null   float64\n",
      " 2   Levered  3139 non-null   float64\n",
      " 3   Low_Vol  3139 non-null   float64\n",
      " 4   Random   3139 non-null   float64\n",
      " 5   Neutral  3139 non-null   int64  \n",
      "dtypes: float64(5), int64(1)\n",
      "memory usage: 171.7 KB\n"
     ]
    }
   ],
   "source": [
    "returns.info()"
   ]
  },
  {
   "cell_type": "code",
   "execution_count": 4,
   "id": "06542d07",
   "metadata": {},
   "outputs": [
    {
     "data": {
      "text/plain": [
       "<Axes: xlabel='Date'>"
      ]
     },
     "execution_count": 4,
     "metadata": {},
     "output_type": "execute_result"
    },
    {
     "data": {
      "image/png": "[encoded data removed]",
      "text/plain": [
       "<Figure size 640x480 with 1 Axes>"
      ]
     },
     "metadata": {},
     "output_type": "display_data"
    }
   ],
   "source": [
    "returns.cumsum().apply(np.exp).plot()"
   ]
  },
  {
   "cell_type": "code",
   "execution_count": 6,
   "id": "11f6353a",
   "metadata": {},
   "outputs": [
    {
     "data": {
      "text/plain": [
       "<Axes: xlabel='Date'>"
      ]
     },
     "execution_count": 6,
     "metadata": {},
     "output_type": "execute_result"
    },
    {
     "data": {
      "image/png": "[encoded data removed]",
      "text/plain": [
       "<Figure size 640x480 with 1 Axes>"
      ]
     },
     "metadata": {},
     "output_type": "display_data"
    }
   ],
   "source": [
    "returns.Low_Vol.cumsum().apply(np.exp).plot()"
   ]
  },
  {
   "cell_type": "code",
   "execution_count": 7,
   "id": "28e49ef6",
   "metadata": {},
   "outputs": [
    {
     "data": {
      "text/plain": [
       "0.000000     2826\n",
       "-0.001950       1\n",
       "0.001149        1\n",
       "0.011488        1\n",
       "0.001376        1\n",
       "             ... \n",
       "0.002467        1\n",
       "-0.002912       1\n",
       "-0.005013       1\n",
       "0.003929        1\n",
       "0.002567        1\n",
       "Name: Low_Vol, Length: 314, dtype: int64"
      ]
     },
     "execution_count": 7,
     "metadata": {},
     "output_type": "execute_result"
    }
   ],
   "source": [
    "returns.Low_Vol.value_counts()"
   ]
  },
  {
   "cell_type": "code",
   "execution_count": 8,
   "id": "dcebb362",
   "metadata": {},
   "outputs": [
    {
     "data": {
      "text/plain": [
       "<Axes: xlabel='Date'>"
      ]
     },
     "execution_count": 8,
     "metadata": {},
     "output_type": "execute_result"
    },
    {
     "data": {
      "image/png": "[encoded data removed]",
      "text/plain": [
       "<Figure size 640x480 with 1 Axes>"
      ]
     },
     "metadata": {},
     "output_type": "display_data"
    }
   ],
   "source": [
    "returns[[\"Low_Vol\", \"Levered\"]].cumsum().apply(np.exp).plot()"
   ]
  },
  {
   "cell_type": "markdown",
   "id": "78616101",
   "metadata": {},
   "source": [
    "Low_Vol seems preferable, but let's create a risk-adjusted return metric to better analyse the situation."
   ]
  },
  {
   "cell_type": "markdown",
   "id": "aecdf015",
   "metadata": {},
   "source": [
    "## Mean Return (Reward)"
   ]
  },
  {
   "cell_type": "code",
   "execution_count": 9,
   "id": "f58f4555",
   "metadata": {},
   "outputs": [
    {
     "data": {
      "text/html": [
       "<div>\n",
       "<style scoped>\n",
       "    .dataframe tbody tr th:only-of-type {\n",
       "        vertical-align: middle;\n",
       "    }\n",
       "\n",
       "    .dataframe tbody tr th {\n",
       "        vertical-align: top;\n",
       "    }\n",
       "\n",
       "    .dataframe thead th {\n",
       "        text-align: right;\n",
       "    }\n",
       "</style>\n",
       "<table border=\"1\" class=\"dataframe\">\n",
       "  <thead>\n",
       "    <tr style=\"text-align: right;\">\n",
       "      <th></th>\n",
       "      <th>GBP_USD</th>\n",
       "      <th>USD_GBP</th>\n",
       "      <th>Levered</th>\n",
       "      <th>Low_Vol</th>\n",
       "      <th>Random</th>\n",
       "      <th>Neutral</th>\n",
       "    </tr>\n",
       "    <tr>\n",
       "      <th>Date</th>\n",
       "      <th></th>\n",
       "      <th></th>\n",
       "      <th></th>\n",
       "      <th></th>\n",
       "      <th></th>\n",
       "      <th></th>\n",
       "    </tr>\n",
       "  </thead>\n",
       "  <tbody>\n",
       "    <tr>\n",
       "      <th>2010-01-02</th>\n",
       "      <td>-0.002733</td>\n",
       "      <td>0.002733</td>\n",
       "      <td>0.006275</td>\n",
       "      <td>0.000000</td>\n",
       "      <td>0.002733</td>\n",
       "      <td>0</td>\n",
       "    </tr>\n",
       "    <tr>\n",
       "      <th>2010-01-03</th>\n",
       "      <td>-0.001727</td>\n",
       "      <td>0.001727</td>\n",
       "      <td>0.003967</td>\n",
       "      <td>0.000000</td>\n",
       "      <td>0.000000</td>\n",
       "      <td>0</td>\n",
       "    </tr>\n",
       "    <tr>\n",
       "      <th>2010-01-04</th>\n",
       "      <td>-0.005786</td>\n",
       "      <td>0.005786</td>\n",
       "      <td>0.013259</td>\n",
       "      <td>0.000000</td>\n",
       "      <td>0.005786</td>\n",
       "      <td>0</td>\n",
       "    </tr>\n",
       "    <tr>\n",
       "      <th>2010-01-05</th>\n",
       "      <td>0.001687</td>\n",
       "      <td>-0.001687</td>\n",
       "      <td>-0.003884</td>\n",
       "      <td>0.000000</td>\n",
       "      <td>0.001687</td>\n",
       "      <td>0</td>\n",
       "    </tr>\n",
       "    <tr>\n",
       "      <th>2010-01-06</th>\n",
       "      <td>-0.005446</td>\n",
       "      <td>0.005446</td>\n",
       "      <td>0.012482</td>\n",
       "      <td>0.000000</td>\n",
       "      <td>0.005446</td>\n",
       "      <td>0</td>\n",
       "    </tr>\n",
       "    <tr>\n",
       "      <th>...</th>\n",
       "      <td>...</td>\n",
       "      <td>...</td>\n",
       "      <td>...</td>\n",
       "      <td>...</td>\n",
       "      <td>...</td>\n",
       "      <td>...</td>\n",
       "    </tr>\n",
       "    <tr>\n",
       "      <th>2020-12-23</th>\n",
       "      <td>0.005004</td>\n",
       "      <td>-0.005004</td>\n",
       "      <td>-0.011548</td>\n",
       "      <td>0.000000</td>\n",
       "      <td>-0.005004</td>\n",
       "      <td>0</td>\n",
       "    </tr>\n",
       "    <tr>\n",
       "      <th>2020-12-27</th>\n",
       "      <td>-0.008278</td>\n",
       "      <td>0.008278</td>\n",
       "      <td>0.018937</td>\n",
       "      <td>0.000000</td>\n",
       "      <td>-0.008278</td>\n",
       "      <td>0</td>\n",
       "    </tr>\n",
       "    <tr>\n",
       "      <th>2020-12-28</th>\n",
       "      <td>0.003799</td>\n",
       "      <td>-0.003799</td>\n",
       "      <td>-0.008760</td>\n",
       "      <td>0.000000</td>\n",
       "      <td>-0.003799</td>\n",
       "      <td>0</td>\n",
       "    </tr>\n",
       "    <tr>\n",
       "      <th>2020-12-29</th>\n",
       "      <td>0.009054</td>\n",
       "      <td>-0.009054</td>\n",
       "      <td>-0.020948</td>\n",
       "      <td>0.000000</td>\n",
       "      <td>-0.000000</td>\n",
       "      <td>0</td>\n",
       "    </tr>\n",
       "    <tr>\n",
       "      <th>2020-12-30</th>\n",
       "      <td>0.003012</td>\n",
       "      <td>-0.003012</td>\n",
       "      <td>-0.006941</td>\n",
       "      <td>0.000000</td>\n",
       "      <td>-0.003012</td>\n",
       "      <td>0</td>\n",
       "    </tr>\n",
       "  </tbody>\n",
       "</table>\n",
       "<p>3139 rows × 6 columns</p>\n",
       "</div>"
      ],
      "text/plain": [
       "             GBP_USD   USD_GBP   Levered  Low_Vol    Random  Neutral\n",
       "Date                                                                \n",
       "2010-01-02 -0.002733  0.002733  0.006275 0.000000  0.002733        0\n",
       "2010-01-03 -0.001727  0.001727  0.003967 0.000000  0.000000        0\n",
       "2010-01-04 -0.005786  0.005786  0.013259 0.000000  0.005786        0\n",
       "2010-01-05  0.001687 -0.001687 -0.003884 0.000000  0.001687        0\n",
       "2010-01-06 -0.005446  0.005446  0.012482 0.000000  0.005446        0\n",
       "...              ...       ...       ...      ...       ...      ...\n",
       "2020-12-23  0.005004 -0.005004 -0.011548 0.000000 -0.005004        0\n",
       "2020-12-27 -0.008278  0.008278  0.018937 0.000000 -0.008278        0\n",
       "2020-12-28  0.003799 -0.003799 -0.008760 0.000000 -0.003799        0\n",
       "2020-12-29  0.009054 -0.009054 -0.020948 0.000000 -0.000000        0\n",
       "2020-12-30  0.003012 -0.003012 -0.006941 0.000000 -0.003012        0\n",
       "\n",
       "[3139 rows x 6 columns]"
      ]
     },
     "execution_count": 9,
     "metadata": {},
     "output_type": "execute_result"
    }
   ],
   "source": [
    "returns"
   ]
  },
  {
   "cell_type": "code",
   "execution_count": 10,
   "id": "5e173fa8",
   "metadata": {},
   "outputs": [
    {
     "data": {
      "text/plain": [
       "GBP_USD   -0.000053\n",
       "USD_GBP    0.000053\n",
       "Levered    0.000080\n",
       "Low_Vol    0.000046\n",
       "Random     0.000036\n",
       "Neutral    0.000000\n",
       "dtype: float64"
      ]
     },
     "execution_count": 10,
     "metadata": {},
     "output_type": "execute_result"
    }
   ],
   "source": [
    "returns.mean()"
   ]
  },
  {
   "cell_type": "markdown",
   "id": "18793b14",
   "metadata": {},
   "source": [
    "**Annualised mean return**"
   ]
  },
  {
   "cell_type": "code",
   "execution_count": 23,
   "id": "f77ff09f",
   "metadata": {},
   "outputs": [
    {
     "data": {
      "text/plain": [
       "GBP_USD   285.559091\n",
       "USD_GBP   285.559091\n",
       "Levered   285.559091\n",
       "Low_Vol   285.559091\n",
       "Random    285.559091\n",
       "Neutral   285.559091\n",
       "dtype: float64"
      ]
     },
     "execution_count": 23,
     "metadata": {},
     "output_type": "execute_result"
    }
   ],
   "source": [
    "td_year = returns.count() / ((returns.index[-1] - returns.index[0]).days / 365.25)\n",
    "td_year"
   ]
  },
  {
   "cell_type": "code",
   "execution_count": 24,
   "id": "15206397",
   "metadata": {},
   "outputs": [
    {
     "data": {
      "text/plain": [
       "GBP_USD   -0.015231\n",
       "USD_GBP    0.015231\n",
       "Levered    0.022704\n",
       "Low_Vol    0.013213\n",
       "Random     0.010229\n",
       "Neutral    0.000000\n",
       "dtype: float64"
      ]
     },
     "execution_count": 24,
     "metadata": {},
     "output_type": "execute_result"
    }
   ],
   "source": [
    "ann_mean = returns.mean() * td_year\n",
    "ann_mean"
   ]
  },
  {
   "cell_type": "code",
   "execution_count": 25,
   "id": "30817f8a",
   "metadata": {},
   "outputs": [
    {
     "data": {
      "text/plain": [
       "GBP_USD   -0.015116\n",
       "USD_GBP    0.015348\n",
       "Levered    0.022964\n",
       "Low_Vol    0.013300\n",
       "Random     0.010281\n",
       "Neutral    0.000000\n",
       "dtype: float64"
      ]
     },
     "execution_count": 25,
     "metadata": {},
     "output_type": "execute_result"
    }
   ],
   "source": [
    "np.exp(ann_mean) - 1 # CAGR"
   ]
  },
  {
   "cell_type": "code",
   "execution_count": 26,
   "id": "6f1e9c9e",
   "metadata": {},
   "outputs": [
    {
     "data": {
      "text/html": [
       "<div>\n",
       "<style scoped>\n",
       "    .dataframe tbody tr th:only-of-type {\n",
       "        vertical-align: middle;\n",
       "    }\n",
       "\n",
       "    .dataframe tbody tr th {\n",
       "        vertical-align: top;\n",
       "    }\n",
       "\n",
       "    .dataframe thead th {\n",
       "        text-align: right;\n",
       "    }\n",
       "</style>\n",
       "<table border=\"1\" class=\"dataframe\">\n",
       "  <thead>\n",
       "    <tr style=\"text-align: right;\">\n",
       "      <th></th>\n",
       "      <th>ann_mean</th>\n",
       "    </tr>\n",
       "  </thead>\n",
       "  <tbody>\n",
       "    <tr>\n",
       "      <th>GBP_USD</th>\n",
       "      <td>-0.015231</td>\n",
       "    </tr>\n",
       "    <tr>\n",
       "      <th>USD_GBP</th>\n",
       "      <td>0.015231</td>\n",
       "    </tr>\n",
       "    <tr>\n",
       "      <th>Levered</th>\n",
       "      <td>0.022704</td>\n",
       "    </tr>\n",
       "    <tr>\n",
       "      <th>Low_Vol</th>\n",
       "      <td>0.013213</td>\n",
       "    </tr>\n",
       "    <tr>\n",
       "      <th>Random</th>\n",
       "      <td>0.010229</td>\n",
       "    </tr>\n",
       "    <tr>\n",
       "      <th>Neutral</th>\n",
       "      <td>0.000000</td>\n",
       "    </tr>\n",
       "  </tbody>\n",
       "</table>\n",
       "</div>"
      ],
      "text/plain": [
       "         ann_mean\n",
       "GBP_USD -0.015231\n",
       "USD_GBP  0.015231\n",
       "Levered  0.022704\n",
       "Low_Vol  0.013213\n",
       "Random   0.010229\n",
       "Neutral  0.000000"
      ]
     },
     "execution_count": 26,
     "metadata": {},
     "output_type": "execute_result"
    }
   ],
   "source": [
    "summary = pd.DataFrame(data = {\"ann_mean\": ann_mean})\n",
    "summary"
   ]
  },
  {
   "cell_type": "code",
   "execution_count": 27,
   "id": "73cfa857",
   "metadata": {},
   "outputs": [
    {
     "data": {
      "text/html": [
       "<div>\n",
       "<style scoped>\n",
       "    .dataframe tbody tr th:only-of-type {\n",
       "        vertical-align: middle;\n",
       "    }\n",
       "\n",
       "    .dataframe tbody tr th {\n",
       "        vertical-align: top;\n",
       "    }\n",
       "\n",
       "    .dataframe thead th {\n",
       "        text-align: right;\n",
       "    }\n",
       "</style>\n",
       "<table border=\"1\" class=\"dataframe\">\n",
       "  <thead>\n",
       "    <tr style=\"text-align: right;\">\n",
       "      <th></th>\n",
       "      <th>ann_mean</th>\n",
       "    </tr>\n",
       "  </thead>\n",
       "  <tbody>\n",
       "    <tr>\n",
       "      <th>GBP_USD</th>\n",
       "      <td>6.000000</td>\n",
       "    </tr>\n",
       "    <tr>\n",
       "      <th>USD_GBP</th>\n",
       "      <td>2.000000</td>\n",
       "    </tr>\n",
       "    <tr>\n",
       "      <th>Levered</th>\n",
       "      <td>1.000000</td>\n",
       "    </tr>\n",
       "    <tr>\n",
       "      <th>Low_Vol</th>\n",
       "      <td>3.000000</td>\n",
       "    </tr>\n",
       "    <tr>\n",
       "      <th>Random</th>\n",
       "      <td>4.000000</td>\n",
       "    </tr>\n",
       "    <tr>\n",
       "      <th>Neutral</th>\n",
       "      <td>5.000000</td>\n",
       "    </tr>\n",
       "  </tbody>\n",
       "</table>\n",
       "</div>"
      ],
      "text/plain": [
       "         ann_mean\n",
       "GBP_USD  6.000000\n",
       "USD_GBP  2.000000\n",
       "Levered  1.000000\n",
       "Low_Vol  3.000000\n",
       "Random   4.000000\n",
       "Neutral  5.000000"
      ]
     },
     "execution_count": 27,
     "metadata": {},
     "output_type": "execute_result"
    }
   ],
   "source": [
    "summary.rank(ascending = False)"
   ]
  },
  {
   "cell_type": "markdown",
   "id": "2ff4900a",
   "metadata": {},
   "source": [
    "#### Standard Deviation of Returns"
   ]
  },
  {
   "cell_type": "code",
   "execution_count": 28,
   "id": "9b0ffdf6",
   "metadata": {},
   "outputs": [
    {
     "data": {
      "text/plain": [
       "GBP_USD   0.005395\n",
       "USD_GBP   0.005395\n",
       "Levered   0.012358\n",
       "Low_Vol   0.002383\n",
       "Random    0.004614\n",
       "Neutral   0.000000\n",
       "dtype: float64"
      ]
     },
     "execution_count": 28,
     "metadata": {},
     "output_type": "execute_result"
    }
   ],
   "source": [
    "returns.std()"
   ]
  },
  {
   "cell_type": "code",
   "execution_count": 29,
   "id": "aa0da53e",
   "metadata": {},
   "outputs": [],
   "source": [
    "#### Annualised Standard Deviation"
   ]
  },
  {
   "cell_type": "code",
   "execution_count": 30,
   "id": "d14c4441",
   "metadata": {},
   "outputs": [
    {
     "data": {
      "text/plain": [
       "GBP_USD   285.559091\n",
       "USD_GBP   285.559091\n",
       "Levered   285.559091\n",
       "Low_Vol   285.559091\n",
       "Random    285.559091\n",
       "Neutral   285.559091\n",
       "dtype: float64"
      ]
     },
     "execution_count": 30,
     "metadata": {},
     "output_type": "execute_result"
    }
   ],
   "source": [
    "td_year"
   ]
  },
  {
   "cell_type": "code",
   "execution_count": 31,
   "id": "08e4c792",
   "metadata": {},
   "outputs": [
    {
     "data": {
      "text/plain": [
       "GBP_USD   0.091162\n",
       "USD_GBP   0.091162\n",
       "Levered   0.208838\n",
       "Low_Vol   0.040267\n",
       "Random    0.077976\n",
       "Neutral   0.000000\n",
       "dtype: float64"
      ]
     },
     "execution_count": 31,
     "metadata": {},
     "output_type": "execute_result"
    }
   ],
   "source": [
    "ann_std = returns.std() * np.sqrt(td_year)\n",
    "ann_std"
   ]
  },
  {
   "cell_type": "code",
   "execution_count": 32,
   "id": "7bc184f3",
   "metadata": {},
   "outputs": [
    {
     "data": {
      "text/html": [
       "<div>\n",
       "<style scoped>\n",
       "    .dataframe tbody tr th:only-of-type {\n",
       "        vertical-align: middle;\n",
       "    }\n",
       "\n",
       "    .dataframe tbody tr th {\n",
       "        vertical-align: top;\n",
       "    }\n",
       "\n",
       "    .dataframe thead th {\n",
       "        text-align: right;\n",
       "    }\n",
       "</style>\n",
       "<table border=\"1\" class=\"dataframe\">\n",
       "  <thead>\n",
       "    <tr style=\"text-align: right;\">\n",
       "      <th></th>\n",
       "      <th>ann_mean</th>\n",
       "      <th>ann_std</th>\n",
       "    </tr>\n",
       "  </thead>\n",
       "  <tbody>\n",
       "    <tr>\n",
       "      <th>GBP_USD</th>\n",
       "      <td>-0.015231</td>\n",
       "      <td>0.091162</td>\n",
       "    </tr>\n",
       "    <tr>\n",
       "      <th>USD_GBP</th>\n",
       "      <td>0.015231</td>\n",
       "      <td>0.091162</td>\n",
       "    </tr>\n",
       "    <tr>\n",
       "      <th>Levered</th>\n",
       "      <td>0.022704</td>\n",
       "      <td>0.208838</td>\n",
       "    </tr>\n",
       "    <tr>\n",
       "      <th>Low_Vol</th>\n",
       "      <td>0.013213</td>\n",
       "      <td>0.040267</td>\n",
       "    </tr>\n",
       "    <tr>\n",
       "      <th>Random</th>\n",
       "      <td>0.010229</td>\n",
       "      <td>0.077976</td>\n",
       "    </tr>\n",
       "    <tr>\n",
       "      <th>Neutral</th>\n",
       "      <td>0.000000</td>\n",
       "      <td>0.000000</td>\n",
       "    </tr>\n",
       "  </tbody>\n",
       "</table>\n",
       "</div>"
      ],
      "text/plain": [
       "         ann_mean  ann_std\n",
       "GBP_USD -0.015231 0.091162\n",
       "USD_GBP  0.015231 0.091162\n",
       "Levered  0.022704 0.208838\n",
       "Low_Vol  0.013213 0.040267\n",
       "Random   0.010229 0.077976\n",
       "Neutral  0.000000 0.000000"
      ]
     },
     "execution_count": 32,
     "metadata": {},
     "output_type": "execute_result"
    }
   ],
   "source": [
    "summary[\"ann_std\"] = returns.std() * np.sqrt(td_year)\n",
    "summary"
   ]
  },
  {
   "cell_type": "code",
   "execution_count": 33,
   "id": "a80c653f",
   "metadata": {},
   "outputs": [
    {
     "data": {
      "text/html": [
       "<div>\n",
       "<style scoped>\n",
       "    .dataframe tbody tr th:only-of-type {\n",
       "        vertical-align: middle;\n",
       "    }\n",
       "\n",
       "    .dataframe tbody tr th {\n",
       "        vertical-align: top;\n",
       "    }\n",
       "\n",
       "    .dataframe thead th {\n",
       "        text-align: right;\n",
       "    }\n",
       "</style>\n",
       "<table border=\"1\" class=\"dataframe\">\n",
       "  <thead>\n",
       "    <tr style=\"text-align: right;\">\n",
       "      <th></th>\n",
       "      <th>ann_mean</th>\n",
       "      <th>ann_std</th>\n",
       "    </tr>\n",
       "  </thead>\n",
       "  <tbody>\n",
       "    <tr>\n",
       "      <th>Neutral</th>\n",
       "      <td>0.000000</td>\n",
       "      <td>0.000000</td>\n",
       "    </tr>\n",
       "    <tr>\n",
       "      <th>Low_Vol</th>\n",
       "      <td>0.013213</td>\n",
       "      <td>0.040267</td>\n",
       "    </tr>\n",
       "    <tr>\n",
       "      <th>Random</th>\n",
       "      <td>0.010229</td>\n",
       "      <td>0.077976</td>\n",
       "    </tr>\n",
       "    <tr>\n",
       "      <th>GBP_USD</th>\n",
       "      <td>-0.015231</td>\n",
       "      <td>0.091162</td>\n",
       "    </tr>\n",
       "    <tr>\n",
       "      <th>USD_GBP</th>\n",
       "      <td>0.015231</td>\n",
       "      <td>0.091162</td>\n",
       "    </tr>\n",
       "    <tr>\n",
       "      <th>Levered</th>\n",
       "      <td>0.022704</td>\n",
       "      <td>0.208838</td>\n",
       "    </tr>\n",
       "  </tbody>\n",
       "</table>\n",
       "</div>"
      ],
      "text/plain": [
       "         ann_mean  ann_std\n",
       "Neutral  0.000000 0.000000\n",
       "Low_Vol  0.013213 0.040267\n",
       "Random   0.010229 0.077976\n",
       "GBP_USD -0.015231 0.091162\n",
       "USD_GBP  0.015231 0.091162\n",
       "Levered  0.022704 0.208838"
      ]
     },
     "execution_count": 33,
     "metadata": {},
     "output_type": "execute_result"
    }
   ],
   "source": [
    "summary.sort_values(by = \"ann_std\")"
   ]
  },
  {
   "cell_type": "markdown",
   "id": "8c66da14",
   "metadata": {},
   "source": [
    "## Risk-adjusted Return (\"Sharpe Ratio\")"
   ]
  },
  {
   "cell_type": "code",
   "execution_count": 34,
   "id": "870a42fc",
   "metadata": {},
   "outputs": [
    {
     "data": {
      "text/html": [
       "<div>\n",
       "<style scoped>\n",
       "    .dataframe tbody tr th:only-of-type {\n",
       "        vertical-align: middle;\n",
       "    }\n",
       "\n",
       "    .dataframe tbody tr th {\n",
       "        vertical-align: top;\n",
       "    }\n",
       "\n",
       "    .dataframe thead th {\n",
       "        text-align: right;\n",
       "    }\n",
       "</style>\n",
       "<table border=\"1\" class=\"dataframe\">\n",
       "  <thead>\n",
       "    <tr style=\"text-align: right;\">\n",
       "      <th></th>\n",
       "      <th>ann_mean</th>\n",
       "      <th>ann_std</th>\n",
       "    </tr>\n",
       "  </thead>\n",
       "  <tbody>\n",
       "    <tr>\n",
       "      <th>GBP_USD</th>\n",
       "      <td>-0.015231</td>\n",
       "      <td>0.091162</td>\n",
       "    </tr>\n",
       "    <tr>\n",
       "      <th>USD_GBP</th>\n",
       "      <td>0.015231</td>\n",
       "      <td>0.091162</td>\n",
       "    </tr>\n",
       "    <tr>\n",
       "      <th>Levered</th>\n",
       "      <td>0.022704</td>\n",
       "      <td>0.208838</td>\n",
       "    </tr>\n",
       "    <tr>\n",
       "      <th>Low_Vol</th>\n",
       "      <td>0.013213</td>\n",
       "      <td>0.040267</td>\n",
       "    </tr>\n",
       "    <tr>\n",
       "      <th>Random</th>\n",
       "      <td>0.010229</td>\n",
       "      <td>0.077976</td>\n",
       "    </tr>\n",
       "    <tr>\n",
       "      <th>Neutral</th>\n",
       "      <td>0.000000</td>\n",
       "      <td>0.000000</td>\n",
       "    </tr>\n",
       "  </tbody>\n",
       "</table>\n",
       "</div>"
      ],
      "text/plain": [
       "         ann_mean  ann_std\n",
       "GBP_USD -0.015231 0.091162\n",
       "USD_GBP  0.015231 0.091162\n",
       "Levered  0.022704 0.208838\n",
       "Low_Vol  0.013213 0.040267\n",
       "Random   0.010229 0.077976\n",
       "Neutral  0.000000 0.000000"
      ]
     },
     "execution_count": 34,
     "metadata": {},
     "output_type": "execute_result"
    }
   ],
   "source": [
    "summary"
   ]
  },
  {
   "cell_type": "markdown",
   "id": "a4736e50",
   "metadata": {},
   "source": [
    "#### Graphical Solution"
   ]
  },
  {
   "cell_type": "code",
   "execution_count": 35,
   "id": "b890d3d2",
   "metadata": {},
   "outputs": [
    {
     "data": {
      "image/png": "[encoded data removed]",
      "text/plain": [
       "<Figure size 1500x1200 with 1 Axes>"
      ]
     },
     "metadata": {},
     "output_type": "display_data"
    }
   ],
   "source": [
    "summary.plot(kind = \"scatter\", x = \"ann_std\", y = \"ann_mean\", figsize = (15,12), s = 50, fontsize = 15)\n",
    "for i in summary.index:\n",
    "    plt.annotate(i, xy=(summary.loc[i, \"ann_std\"]+0.001, summary.loc[i, \"ann_mean\"]+0.001), size = 15)\n",
    "plt.xlim(-0.01, 0.23)\n",
    "plt.ylim(-0.02, 0.03)\n",
    "plt.xlabel(\"Risk(std)\", fontsize = 15)\n",
    "plt.ylabel(\"Return\", fontsize = 15)\n",
    "plt.title(\"Risk/Return\", fontsize = 20)\n",
    "plt.show()"
   ]
  },
  {
   "cell_type": "markdown",
   "id": "af7e5805",
   "metadata": {},
   "source": [
    "**Risk-adjusted Return Metric** (\"Sharpe Ratio light\")"
   ]
  },
  {
   "cell_type": "code",
   "execution_count": 36,
   "id": "cd7357b6",
   "metadata": {},
   "outputs": [],
   "source": [
    "rf = 0 # simplification, don't use this assumption for portfolio management!"
   ]
  },
  {
   "cell_type": "code",
   "execution_count": 38,
   "id": "0b40b426",
   "metadata": {},
   "outputs": [
    {
     "data": {
      "text/html": [
       "<div>\n",
       "<style scoped>\n",
       "    .dataframe tbody tr th:only-of-type {\n",
       "        vertical-align: middle;\n",
       "    }\n",
       "\n",
       "    .dataframe tbody tr th {\n",
       "        vertical-align: top;\n",
       "    }\n",
       "\n",
       "    .dataframe thead th {\n",
       "        text-align: right;\n",
       "    }\n",
       "</style>\n",
       "<table border=\"1\" class=\"dataframe\">\n",
       "  <thead>\n",
       "    <tr style=\"text-align: right;\">\n",
       "      <th></th>\n",
       "      <th>ann_mean</th>\n",
       "      <th>ann_std</th>\n",
       "      <th>Sharpe</th>\n",
       "    </tr>\n",
       "  </thead>\n",
       "  <tbody>\n",
       "    <tr>\n",
       "      <th>GBP_USD</th>\n",
       "      <td>-0.015231</td>\n",
       "      <td>0.091162</td>\n",
       "      <td>-0.167078</td>\n",
       "    </tr>\n",
       "    <tr>\n",
       "      <th>USD_GBP</th>\n",
       "      <td>0.015231</td>\n",
       "      <td>0.091162</td>\n",
       "      <td>0.167078</td>\n",
       "    </tr>\n",
       "    <tr>\n",
       "      <th>Levered</th>\n",
       "      <td>0.022704</td>\n",
       "      <td>0.208838</td>\n",
       "      <td>0.108715</td>\n",
       "    </tr>\n",
       "    <tr>\n",
       "      <th>Low_Vol</th>\n",
       "      <td>0.013213</td>\n",
       "      <td>0.040267</td>\n",
       "      <td>0.328121</td>\n",
       "    </tr>\n",
       "    <tr>\n",
       "      <th>Random</th>\n",
       "      <td>0.010229</td>\n",
       "      <td>0.077976</td>\n",
       "      <td>0.131181</td>\n",
       "    </tr>\n",
       "    <tr>\n",
       "      <th>Neutral</th>\n",
       "      <td>0.000000</td>\n",
       "      <td>0.000000</td>\n",
       "      <td>NaN</td>\n",
       "    </tr>\n",
       "  </tbody>\n",
       "</table>\n",
       "</div>"
      ],
      "text/plain": [
       "         ann_mean  ann_std    Sharpe\n",
       "GBP_USD -0.015231 0.091162 -0.167078\n",
       "USD_GBP  0.015231 0.091162  0.167078\n",
       "Levered  0.022704 0.208838  0.108715\n",
       "Low_Vol  0.013213 0.040267  0.328121\n",
       "Random   0.010229 0.077976  0.131181\n",
       "Neutral  0.000000 0.000000       NaN"
      ]
     },
     "execution_count": 38,
     "metadata": {},
     "output_type": "execute_result"
    }
   ],
   "source": [
    "summary[\"Sharpe\"] = (summary.ann_mean - rf) / summary.ann_std\n",
    "summary"
   ]
  },
  {
   "cell_type": "code",
   "execution_count": 39,
   "id": "7b811c1c",
   "metadata": {},
   "outputs": [
    {
     "data": {
      "text/html": [
       "<div>\n",
       "<style scoped>\n",
       "    .dataframe tbody tr th:only-of-type {\n",
       "        vertical-align: middle;\n",
       "    }\n",
       "\n",
       "    .dataframe tbody tr th {\n",
       "        vertical-align: top;\n",
       "    }\n",
       "\n",
       "    .dataframe thead th {\n",
       "        text-align: right;\n",
       "    }\n",
       "</style>\n",
       "<table border=\"1\" class=\"dataframe\">\n",
       "  <thead>\n",
       "    <tr style=\"text-align: right;\">\n",
       "      <th></th>\n",
       "      <th>ann_mean</th>\n",
       "      <th>ann_std</th>\n",
       "      <th>Sharpe</th>\n",
       "    </tr>\n",
       "  </thead>\n",
       "  <tbody>\n",
       "    <tr>\n",
       "      <th>Low_Vol</th>\n",
       "      <td>0.013213</td>\n",
       "      <td>0.040267</td>\n",
       "      <td>0.328121</td>\n",
       "    </tr>\n",
       "    <tr>\n",
       "      <th>USD_GBP</th>\n",
       "      <td>0.015231</td>\n",
       "      <td>0.091162</td>\n",
       "      <td>0.167078</td>\n",
       "    </tr>\n",
       "    <tr>\n",
       "      <th>Random</th>\n",
       "      <td>0.010229</td>\n",
       "      <td>0.077976</td>\n",
       "      <td>0.131181</td>\n",
       "    </tr>\n",
       "    <tr>\n",
       "      <th>Levered</th>\n",
       "      <td>0.022704</td>\n",
       "      <td>0.208838</td>\n",
       "      <td>0.108715</td>\n",
       "    </tr>\n",
       "    <tr>\n",
       "      <th>GBP_USD</th>\n",
       "      <td>-0.015231</td>\n",
       "      <td>0.091162</td>\n",
       "      <td>-0.167078</td>\n",
       "    </tr>\n",
       "    <tr>\n",
       "      <th>Neutral</th>\n",
       "      <td>0.000000</td>\n",
       "      <td>0.000000</td>\n",
       "      <td>NaN</td>\n",
       "    </tr>\n",
       "  </tbody>\n",
       "</table>\n",
       "</div>"
      ],
      "text/plain": [
       "         ann_mean  ann_std    Sharpe\n",
       "Low_Vol  0.013213 0.040267  0.328121\n",
       "USD_GBP  0.015231 0.091162  0.167078\n",
       "Random   0.010229 0.077976  0.131181\n",
       "Levered  0.022704 0.208838  0.108715\n",
       "GBP_USD -0.015231 0.091162 -0.167078\n",
       "Neutral  0.000000 0.000000       NaN"
      ]
     },
     "execution_count": 39,
     "metadata": {},
     "output_type": "execute_result"
    }
   ],
   "source": [
    "summary.sort_values(by = \"Sharpe\", ascending=False)"
   ]
  },
  {
   "cell_type": "code",
   "execution_count": 40,
   "id": "8c42e318",
   "metadata": {},
   "outputs": [
    {
     "data": {
      "text/plain": [
       "GBP_USD   285.559091\n",
       "USD_GBP   285.559091\n",
       "Levered   285.559091\n",
       "Low_Vol   285.559091\n",
       "Random    285.559091\n",
       "Neutral   285.559091\n",
       "dtype: float64"
      ]
     },
     "execution_count": 40,
     "metadata": {},
     "output_type": "execute_result"
    }
   ],
   "source": [
    "td_year"
   ]
  },
  {
   "cell_type": "code",
   "execution_count": 42,
   "id": "e5abc148",
   "metadata": {},
   "outputs": [
    {
     "data": {
      "text/plain": [
       "GBP_USD   -0.167078\n",
       "USD_GBP    0.167078\n",
       "Levered    0.108715\n",
       "Low_Vol    0.328121\n",
       "Random     0.131181\n",
       "Neutral         NaN\n",
       "dtype: float64"
      ]
     },
     "execution_count": 42,
     "metadata": {},
     "output_type": "execute_result"
    }
   ],
   "source": [
    "returns.mean() / returns.std() * np.sqrt(td_year) # annualising daily Sharpe"
   ]
  },
  {
   "cell_type": "markdown",
   "id": "0c3154bf",
   "metadata": {},
   "source": [
    "## Putting everything together"
   ]
  },
  {
   "cell_type": "code",
   "execution_count": 43,
   "id": "79cdca2e",
   "metadata": {},
   "outputs": [
    {
     "data": {
      "text/html": [
       "<div>\n",
       "<style scoped>\n",
       "    .dataframe tbody tr th:only-of-type {\n",
       "        vertical-align: middle;\n",
       "    }\n",
       "\n",
       "    .dataframe tbody tr th {\n",
       "        vertical-align: top;\n",
       "    }\n",
       "\n",
       "    .dataframe thead th {\n",
       "        text-align: right;\n",
       "    }\n",
       "</style>\n",
       "<table border=\"1\" class=\"dataframe\">\n",
       "  <thead>\n",
       "    <tr style=\"text-align: right;\">\n",
       "      <th></th>\n",
       "      <th>GBP_USD</th>\n",
       "      <th>USD_GBP</th>\n",
       "      <th>Levered</th>\n",
       "      <th>Low_Vol</th>\n",
       "      <th>Random</th>\n",
       "      <th>Neutral</th>\n",
       "    </tr>\n",
       "    <tr>\n",
       "      <th>Date</th>\n",
       "      <th></th>\n",
       "      <th></th>\n",
       "      <th></th>\n",
       "      <th></th>\n",
       "      <th></th>\n",
       "      <th></th>\n",
       "    </tr>\n",
       "  </thead>\n",
       "  <tbody>\n",
       "    <tr>\n",
       "      <th>2010-01-02</th>\n",
       "      <td>-0.002733</td>\n",
       "      <td>0.002733</td>\n",
       "      <td>0.006275</td>\n",
       "      <td>0.000000</td>\n",
       "      <td>0.002733</td>\n",
       "      <td>0</td>\n",
       "    </tr>\n",
       "    <tr>\n",
       "      <th>2010-01-03</th>\n",
       "      <td>-0.001727</td>\n",
       "      <td>0.001727</td>\n",
       "      <td>0.003967</td>\n",
       "      <td>0.000000</td>\n",
       "      <td>0.000000</td>\n",
       "      <td>0</td>\n",
       "    </tr>\n",
       "    <tr>\n",
       "      <th>2010-01-04</th>\n",
       "      <td>-0.005786</td>\n",
       "      <td>0.005786</td>\n",
       "      <td>0.013259</td>\n",
       "      <td>0.000000</td>\n",
       "      <td>0.005786</td>\n",
       "      <td>0</td>\n",
       "    </tr>\n",
       "    <tr>\n",
       "      <th>2010-01-05</th>\n",
       "      <td>0.001687</td>\n",
       "      <td>-0.001687</td>\n",
       "      <td>-0.003884</td>\n",
       "      <td>0.000000</td>\n",
       "      <td>0.001687</td>\n",
       "      <td>0</td>\n",
       "    </tr>\n",
       "    <tr>\n",
       "      <th>2010-01-06</th>\n",
       "      <td>-0.005446</td>\n",
       "      <td>0.005446</td>\n",
       "      <td>0.012482</td>\n",
       "      <td>0.000000</td>\n",
       "      <td>0.005446</td>\n",
       "      <td>0</td>\n",
       "    </tr>\n",
       "    <tr>\n",
       "      <th>...</th>\n",
       "      <td>...</td>\n",
       "      <td>...</td>\n",
       "      <td>...</td>\n",
       "      <td>...</td>\n",
       "      <td>...</td>\n",
       "      <td>...</td>\n",
       "    </tr>\n",
       "    <tr>\n",
       "      <th>2020-12-23</th>\n",
       "      <td>0.005004</td>\n",
       "      <td>-0.005004</td>\n",
       "      <td>-0.011548</td>\n",
       "      <td>0.000000</td>\n",
       "      <td>-0.005004</td>\n",
       "      <td>0</td>\n",
       "    </tr>\n",
       "    <tr>\n",
       "      <th>2020-12-27</th>\n",
       "      <td>-0.008278</td>\n",
       "      <td>0.008278</td>\n",
       "      <td>0.018937</td>\n",
       "      <td>0.000000</td>\n",
       "      <td>-0.008278</td>\n",
       "      <td>0</td>\n",
       "    </tr>\n",
       "    <tr>\n",
       "      <th>2020-12-28</th>\n",
       "      <td>0.003799</td>\n",
       "      <td>-0.003799</td>\n",
       "      <td>-0.008760</td>\n",
       "      <td>0.000000</td>\n",
       "      <td>-0.003799</td>\n",
       "      <td>0</td>\n",
       "    </tr>\n",
       "    <tr>\n",
       "      <th>2020-12-29</th>\n",
       "      <td>0.009054</td>\n",
       "      <td>-0.009054</td>\n",
       "      <td>-0.020948</td>\n",
       "      <td>0.000000</td>\n",
       "      <td>-0.000000</td>\n",
       "      <td>0</td>\n",
       "    </tr>\n",
       "    <tr>\n",
       "      <th>2020-12-30</th>\n",
       "      <td>0.003012</td>\n",
       "      <td>-0.003012</td>\n",
       "      <td>-0.006941</td>\n",
       "      <td>0.000000</td>\n",
       "      <td>-0.003012</td>\n",
       "      <td>0</td>\n",
       "    </tr>\n",
       "  </tbody>\n",
       "</table>\n",
       "<p>3139 rows × 6 columns</p>\n",
       "</div>"
      ],
      "text/plain": [
       "             GBP_USD   USD_GBP   Levered  Low_Vol    Random  Neutral\n",
       "Date                                                                \n",
       "2010-01-02 -0.002733  0.002733  0.006275 0.000000  0.002733        0\n",
       "2010-01-03 -0.001727  0.001727  0.003967 0.000000  0.000000        0\n",
       "2010-01-04 -0.005786  0.005786  0.013259 0.000000  0.005786        0\n",
       "2010-01-05  0.001687 -0.001687 -0.003884 0.000000  0.001687        0\n",
       "2010-01-06 -0.005446  0.005446  0.012482 0.000000  0.005446        0\n",
       "...              ...       ...       ...      ...       ...      ...\n",
       "2020-12-23  0.005004 -0.005004 -0.011548 0.000000 -0.005004        0\n",
       "2020-12-27 -0.008278  0.008278  0.018937 0.000000 -0.008278        0\n",
       "2020-12-28  0.003799 -0.003799 -0.008760 0.000000 -0.003799        0\n",
       "2020-12-29  0.009054 -0.009054 -0.020948 0.000000 -0.000000        0\n",
       "2020-12-30  0.003012 -0.003012 -0.006941 0.000000 -0.003012        0\n",
       "\n",
       "[3139 rows x 6 columns]"
      ]
     },
     "execution_count": 43,
     "metadata": {},
     "output_type": "execute_result"
    }
   ],
   "source": [
    "returns"
   ]
  },
  {
   "cell_type": "code",
   "execution_count": 48,
   "id": "c8cefc87",
   "metadata": {},
   "outputs": [],
   "source": [
    "def sharpe(series, rf = 0):\n",
    "    if series.std() == 0:\n",
    "        return np.nan\n",
    "    else:\n",
    "        return (series.mean() - rf) / series.std() * np.sqrt(series.count() / ((series.index[-1] - series.index[0]).days / 365.25))"
   ]
  },
  {
   "cell_type": "code",
   "execution_count": 49,
   "id": "ceb5e1d4",
   "metadata": {},
   "outputs": [
    {
     "data": {
      "text/plain": [
       "GBP_USD   -0.167078\n",
       "USD_GBP    0.167078\n",
       "Levered    0.108715\n",
       "Low_Vol    0.328121\n",
       "Random     0.131181\n",
       "Neutral         NaN\n",
       "dtype: float64"
      ]
     },
     "execution_count": 49,
     "metadata": {},
     "output_type": "execute_result"
    }
   ],
   "source": [
    "returns.apply(sharpe, rf = 0)"
   ]
  },
  {
   "cell_type": "code",
   "execution_count": 50,
   "id": "71a7a605",
   "metadata": {},
   "outputs": [
    {
     "data": {
      "text/plain": [
       "0.10871510012958406"
      ]
     },
     "execution_count": 50,
     "metadata": {},
     "output_type": "execute_result"
    }
   ],
   "source": [
    "sharpe(series = returns.Levered, rf = 0)"
   ]
  },
  {
   "cell_type": "markdown",
   "id": "bdbfe1bf",
   "metadata": {},
   "source": [
    "### Limitations of \"Sharpe Ratio\"\n",
    "\n",
    "- only takes into account mean & variance (std)\n",
    "- assumes normally distributed returns\n",
    "- overestimates risk-adjusted returns when fat tails are present\n",
    "- can be manipulated with smoothed data (e.g. monthly returns)\n",
    "- can't compare/rank instruments with negative Sharpe Ratios\n",
    "- penalises upside and downside volatility equally"
   ]
  }
 ],
 "metadata": {
  "kernelspec": {
   "display_name": "Python 3 (ipykernel)",
   "language": "python",
   "name": "python3"
  },
  "language_info": {
   "codemirror_mode": {
    "name": "ipython",
    "version": 3
   },
   "file_extension": ".py",
   "mimetype": "text/x-python",
   "name": "python",
   "nbconvert_exporter": "python",
   "pygments_lexer": "ipython3",
   "version": "3.10.9"
  }
 },
 "nbformat": 4,
 "nbformat_minor": 5
}
