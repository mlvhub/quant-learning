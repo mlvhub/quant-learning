{
 "cells": [
  {
   "cell_type": "markdown",
   "id": "8bd33138",
   "metadata": {},
   "source": [
    "# Coding Challenge #4"
   ]
  },
  {
   "cell_type": "markdown",
   "id": "60a305f8",
   "metadata": {},
   "source": [
    "1. Calculate daily log returns for Boeing.\n",
    "\n",
    "2. Use Boeing´s log returns to calculate\n",
    "\n",
    "    Investment Multiple\n",
    "\n",
    "    CAGR (assuming 252 trading days)\n",
    "\n",
    "    Normalized Prices (Base = 1)"
   ]
  },
  {
   "cell_type": "code",
   "execution_count": 2,
   "id": "3ed54305",
   "metadata": {},
   "outputs": [],
   "source": [
    "import pandas as pd\n",
    "import numpy as np\n",
    "pd.options.display.float_format = '{:.6f}'.format"
   ]
  },
  {
   "cell_type": "code",
   "execution_count": 4,
   "id": "05833c63",
   "metadata": {},
   "outputs": [
    {
     "data": {
      "text/html": [
       "<div>\n",
       "<style scoped>\n",
       "    .dataframe tbody tr th:only-of-type {\n",
       "        vertical-align: middle;\n",
       "    }\n",
       "\n",
       "    .dataframe tbody tr th {\n",
       "        vertical-align: top;\n",
       "    }\n",
       "\n",
       "    .dataframe thead th {\n",
       "        text-align: right;\n",
       "    }\n",
       "</style>\n",
       "<table border=\"1\" class=\"dataframe\">\n",
       "  <thead>\n",
       "    <tr style=\"text-align: right;\">\n",
       "      <th></th>\n",
       "      <th>BA</th>\n",
       "      <th>BTC-USD</th>\n",
       "      <th>EURUSD=X</th>\n",
       "      <th>GC=F</th>\n",
       "      <th>MSFT</th>\n",
       "      <th>^DJI</th>\n",
       "    </tr>\n",
       "    <tr>\n",
       "      <th>Date</th>\n",
       "      <th></th>\n",
       "      <th></th>\n",
       "      <th></th>\n",
       "      <th></th>\n",
       "      <th></th>\n",
       "      <th></th>\n",
       "    </tr>\n",
       "  </thead>\n",
       "  <tbody>\n",
       "    <tr>\n",
       "      <th>2014-10-01</th>\n",
       "      <td>124.669998</td>\n",
       "      <td>383.614990</td>\n",
       "      <td>1.262834</td>\n",
       "      <td>1214.599976</td>\n",
       "      <td>45.900002</td>\n",
       "      <td>16804.710938</td>\n",
       "    </tr>\n",
       "    <tr>\n",
       "      <th>2014-10-02</th>\n",
       "      <td>124.169998</td>\n",
       "      <td>375.071991</td>\n",
       "      <td>1.262419</td>\n",
       "      <td>1214.199951</td>\n",
       "      <td>45.759998</td>\n",
       "      <td>16801.050781</td>\n",
       "    </tr>\n",
       "    <tr>\n",
       "      <th>2014-10-03</th>\n",
       "      <td>126.360001</td>\n",
       "      <td>359.511993</td>\n",
       "      <td>1.267058</td>\n",
       "      <td>1192.199951</td>\n",
       "      <td>46.090000</td>\n",
       "      <td>17009.689453</td>\n",
       "    </tr>\n",
       "    <tr>\n",
       "      <th>2014-10-04</th>\n",
       "      <td>NaN</td>\n",
       "      <td>328.865997</td>\n",
       "      <td>NaN</td>\n",
       "      <td>NaN</td>\n",
       "      <td>NaN</td>\n",
       "      <td>NaN</td>\n",
       "    </tr>\n",
       "    <tr>\n",
       "      <th>2014-10-05</th>\n",
       "      <td>NaN</td>\n",
       "      <td>320.510010</td>\n",
       "      <td>NaN</td>\n",
       "      <td>NaN</td>\n",
       "      <td>NaN</td>\n",
       "      <td>NaN</td>\n",
       "    </tr>\n",
       "    <tr>\n",
       "      <th>...</th>\n",
       "      <td>...</td>\n",
       "      <td>...</td>\n",
       "      <td>...</td>\n",
       "      <td>...</td>\n",
       "      <td>...</td>\n",
       "      <td>...</td>\n",
       "    </tr>\n",
       "    <tr>\n",
       "      <th>2021-05-26</th>\n",
       "      <td>241.369995</td>\n",
       "      <td>39294.199219</td>\n",
       "      <td>1.224909</td>\n",
       "      <td>1901.300049</td>\n",
       "      <td>251.490005</td>\n",
       "      <td>34323.050781</td>\n",
       "    </tr>\n",
       "    <tr>\n",
       "      <th>2021-05-27</th>\n",
       "      <td>250.699997</td>\n",
       "      <td>38436.968750</td>\n",
       "      <td>1.219260</td>\n",
       "      <td>1895.699951</td>\n",
       "      <td>249.309998</td>\n",
       "      <td>34464.640625</td>\n",
       "    </tr>\n",
       "    <tr>\n",
       "      <th>2021-05-28</th>\n",
       "      <td>247.020004</td>\n",
       "      <td>35697.605469</td>\n",
       "      <td>1.219319</td>\n",
       "      <td>1902.500000</td>\n",
       "      <td>249.679993</td>\n",
       "      <td>34529.449219</td>\n",
       "    </tr>\n",
       "    <tr>\n",
       "      <th>2021-05-29</th>\n",
       "      <td>NaN</td>\n",
       "      <td>34616.066406</td>\n",
       "      <td>NaN</td>\n",
       "      <td>NaN</td>\n",
       "      <td>NaN</td>\n",
       "      <td>NaN</td>\n",
       "    </tr>\n",
       "    <tr>\n",
       "      <th>2021-05-30</th>\n",
       "      <td>NaN</td>\n",
       "      <td>35678.128906</td>\n",
       "      <td>NaN</td>\n",
       "      <td>NaN</td>\n",
       "      <td>NaN</td>\n",
       "      <td>NaN</td>\n",
       "    </tr>\n",
       "  </tbody>\n",
       "</table>\n",
       "<p>2434 rows × 6 columns</p>\n",
       "</div>"
      ],
      "text/plain": [
       "                   BA      BTC-USD  EURUSD=X        GC=F       MSFT  \\\n",
       "Date                                                                  \n",
       "2014-10-01 124.669998   383.614990  1.262834 1214.599976  45.900002   \n",
       "2014-10-02 124.169998   375.071991  1.262419 1214.199951  45.759998   \n",
       "2014-10-03 126.360001   359.511993  1.267058 1192.199951  46.090000   \n",
       "2014-10-04        NaN   328.865997       NaN         NaN        NaN   \n",
       "2014-10-05        NaN   320.510010       NaN         NaN        NaN   \n",
       "...               ...          ...       ...         ...        ...   \n",
       "2021-05-26 241.369995 39294.199219  1.224909 1901.300049 251.490005   \n",
       "2021-05-27 250.699997 38436.968750  1.219260 1895.699951 249.309998   \n",
       "2021-05-28 247.020004 35697.605469  1.219319 1902.500000 249.679993   \n",
       "2021-05-29        NaN 34616.066406       NaN         NaN        NaN   \n",
       "2021-05-30        NaN 35678.128906       NaN         NaN        NaN   \n",
       "\n",
       "                   ^DJI  \n",
       "Date                     \n",
       "2014-10-01 16804.710938  \n",
       "2014-10-02 16801.050781  \n",
       "2014-10-03 17009.689453  \n",
       "2014-10-04          NaN  \n",
       "2014-10-05          NaN  \n",
       "...                 ...  \n",
       "2021-05-26 34323.050781  \n",
       "2021-05-27 34464.640625  \n",
       "2021-05-28 34529.449219  \n",
       "2021-05-29          NaN  \n",
       "2021-05-30          NaN  \n",
       "\n",
       "[2434 rows x 6 columns]"
      ]
     },
     "execution_count": 4,
     "metadata": {},
     "output_type": "execute_result"
    }
   ],
   "source": [
    "close = pd.read_csv(\"close.csv\", index_col = \"Date\", parse_dates = [\"Date\"])\n",
    "close"
   ]
  },
  {
   "cell_type": "code",
   "execution_count": 9,
   "id": "d94169e1",
   "metadata": {},
   "outputs": [
    {
     "data": {
      "text/html": [
       "<div>\n",
       "<style scoped>\n",
       "    .dataframe tbody tr th:only-of-type {\n",
       "        vertical-align: middle;\n",
       "    }\n",
       "\n",
       "    .dataframe tbody tr th {\n",
       "        vertical-align: top;\n",
       "    }\n",
       "\n",
       "    .dataframe thead th {\n",
       "        text-align: right;\n",
       "    }\n",
       "</style>\n",
       "<table border=\"1\" class=\"dataframe\">\n",
       "  <thead>\n",
       "    <tr style=\"text-align: right;\">\n",
       "      <th></th>\n",
       "      <th>Price</th>\n",
       "    </tr>\n",
       "    <tr>\n",
       "      <th>Date</th>\n",
       "      <th></th>\n",
       "    </tr>\n",
       "  </thead>\n",
       "  <tbody>\n",
       "    <tr>\n",
       "      <th>2014-10-01</th>\n",
       "      <td>124.669998</td>\n",
       "    </tr>\n",
       "    <tr>\n",
       "      <th>2014-10-02</th>\n",
       "      <td>124.169998</td>\n",
       "    </tr>\n",
       "    <tr>\n",
       "      <th>2014-10-03</th>\n",
       "      <td>126.360001</td>\n",
       "    </tr>\n",
       "    <tr>\n",
       "      <th>2014-10-06</th>\n",
       "      <td>126.260002</td>\n",
       "    </tr>\n",
       "    <tr>\n",
       "      <th>2014-10-07</th>\n",
       "      <td>123.320000</td>\n",
       "    </tr>\n",
       "    <tr>\n",
       "      <th>...</th>\n",
       "      <td>...</td>\n",
       "    </tr>\n",
       "    <tr>\n",
       "      <th>2021-05-24</th>\n",
       "      <td>237.440002</td>\n",
       "    </tr>\n",
       "    <tr>\n",
       "      <th>2021-05-25</th>\n",
       "      <td>240.740005</td>\n",
       "    </tr>\n",
       "    <tr>\n",
       "      <th>2021-05-26</th>\n",
       "      <td>241.369995</td>\n",
       "    </tr>\n",
       "    <tr>\n",
       "      <th>2021-05-27</th>\n",
       "      <td>250.699997</td>\n",
       "    </tr>\n",
       "    <tr>\n",
       "      <th>2021-05-28</th>\n",
       "      <td>247.020004</td>\n",
       "    </tr>\n",
       "  </tbody>\n",
       "</table>\n",
       "<p>1677 rows × 1 columns</p>\n",
       "</div>"
      ],
      "text/plain": [
       "                Price\n",
       "Date                 \n",
       "2014-10-01 124.669998\n",
       "2014-10-02 124.169998\n",
       "2014-10-03 126.360001\n",
       "2014-10-06 126.260002\n",
       "2014-10-07 123.320000\n",
       "...               ...\n",
       "2021-05-24 237.440002\n",
       "2021-05-25 240.740005\n",
       "2021-05-26 241.369995\n",
       "2021-05-27 250.699997\n",
       "2021-05-28 247.020004\n",
       "\n",
       "[1677 rows x 1 columns]"
      ]
     },
     "execution_count": 9,
     "metadata": {},
     "output_type": "execute_result"
    }
   ],
   "source": [
    "ba = close.BA.dropna().copy().to_frame().rename(columns = {\"BA\": \"Price\"})\n",
    "ba"
   ]
  },
  {
   "cell_type": "code",
   "execution_count": 10,
   "id": "6844a2ff",
   "metadata": {},
   "outputs": [
    {
     "data": {
      "text/html": [
       "<div>\n",
       "<style scoped>\n",
       "    .dataframe tbody tr th:only-of-type {\n",
       "        vertical-align: middle;\n",
       "    }\n",
       "\n",
       "    .dataframe tbody tr th {\n",
       "        vertical-align: top;\n",
       "    }\n",
       "\n",
       "    .dataframe thead th {\n",
       "        text-align: right;\n",
       "    }\n",
       "</style>\n",
       "<table border=\"1\" class=\"dataframe\">\n",
       "  <thead>\n",
       "    <tr style=\"text-align: right;\">\n",
       "      <th></th>\n",
       "      <th>Price</th>\n",
       "      <th>log_return</th>\n",
       "    </tr>\n",
       "    <tr>\n",
       "      <th>Date</th>\n",
       "      <th></th>\n",
       "      <th></th>\n",
       "    </tr>\n",
       "  </thead>\n",
       "  <tbody>\n",
       "    <tr>\n",
       "      <th>2014-10-01</th>\n",
       "      <td>124.669998</td>\n",
       "      <td>NaN</td>\n",
       "    </tr>\n",
       "    <tr>\n",
       "      <th>2014-10-02</th>\n",
       "      <td>124.169998</td>\n",
       "      <td>-0.004019</td>\n",
       "    </tr>\n",
       "    <tr>\n",
       "      <th>2014-10-03</th>\n",
       "      <td>126.360001</td>\n",
       "      <td>0.017483</td>\n",
       "    </tr>\n",
       "    <tr>\n",
       "      <th>2014-10-06</th>\n",
       "      <td>126.260002</td>\n",
       "      <td>-0.000792</td>\n",
       "    </tr>\n",
       "    <tr>\n",
       "      <th>2014-10-07</th>\n",
       "      <td>123.320000</td>\n",
       "      <td>-0.023561</td>\n",
       "    </tr>\n",
       "    <tr>\n",
       "      <th>...</th>\n",
       "      <td>...</td>\n",
       "      <td>...</td>\n",
       "    </tr>\n",
       "    <tr>\n",
       "      <th>2021-05-24</th>\n",
       "      <td>237.440002</td>\n",
       "      <td>0.011096</td>\n",
       "    </tr>\n",
       "    <tr>\n",
       "      <th>2021-05-25</th>\n",
       "      <td>240.740005</td>\n",
       "      <td>0.013803</td>\n",
       "    </tr>\n",
       "    <tr>\n",
       "      <th>2021-05-26</th>\n",
       "      <td>241.369995</td>\n",
       "      <td>0.002613</td>\n",
       "    </tr>\n",
       "    <tr>\n",
       "      <th>2021-05-27</th>\n",
       "      <td>250.699997</td>\n",
       "      <td>0.037926</td>\n",
       "    </tr>\n",
       "    <tr>\n",
       "      <th>2021-05-28</th>\n",
       "      <td>247.020004</td>\n",
       "      <td>-0.014788</td>\n",
       "    </tr>\n",
       "  </tbody>\n",
       "</table>\n",
       "<p>1677 rows × 2 columns</p>\n",
       "</div>"
      ],
      "text/plain": [
       "                Price  log_return\n",
       "Date                             \n",
       "2014-10-01 124.669998         NaN\n",
       "2014-10-02 124.169998   -0.004019\n",
       "2014-10-03 126.360001    0.017483\n",
       "2014-10-06 126.260002   -0.000792\n",
       "2014-10-07 123.320000   -0.023561\n",
       "...               ...         ...\n",
       "2021-05-24 237.440002    0.011096\n",
       "2021-05-25 240.740005    0.013803\n",
       "2021-05-26 241.369995    0.002613\n",
       "2021-05-27 250.699997    0.037926\n",
       "2021-05-28 247.020004   -0.014788\n",
       "\n",
       "[1677 rows x 2 columns]"
      ]
     },
     "execution_count": 10,
     "metadata": {},
     "output_type": "execute_result"
    }
   ],
   "source": [
    "ba[\"log_return\"] = np.log(ba.Price / ba.Price.shift()) # daily log returns (log of current price divided by the previous price)\n",
    "ba"
   ]
  },
  {
   "cell_type": "code",
   "execution_count": 12,
   "id": "87dc9d7b",
   "metadata": {},
   "outputs": [
    {
     "data": {
      "text/plain": [
       "1.9813909352730894"
      ]
     },
     "execution_count": 12,
     "metadata": {},
     "output_type": "execute_result"
    }
   ],
   "source": [
    "investment_multiple = np.exp(ba.log_return.sum()) # adding log returns (\"cumulative returns\")\n",
    "investment_multiple "
   ]
  },
  {
   "cell_type": "code",
   "execution_count": 18,
   "id": "94ef73a6",
   "metadata": {},
   "outputs": [
    {
     "data": {
      "text/plain": [
       "0.10820172433101138"
      ]
     },
     "execution_count": 18,
     "metadata": {},
     "output_type": "execute_result"
    }
   ],
   "source": [
    "cagr = (ba.Price[-1] / ba.Price[0]) ** (1 / ((ba.index[-1] - ba.index[0]).days / 365.25)) - 1\n",
    "cagr"
   ]
  },
  {
   "cell_type": "code",
   "execution_count": 24,
   "id": "985545cc",
   "metadata": {},
   "outputs": [
    {
     "data": {
      "text/plain": [
       "0.10828598076579743"
      ]
     },
     "execution_count": 24,
     "metadata": {},
     "output_type": "execute_result"
    }
   ],
   "source": [
    "cagr = np.exp(ba.log_return.mean() * 252) - 1 # good approximation (for US stocks)\n",
    "cagr"
   ]
  },
  {
   "cell_type": "code",
   "execution_count": 26,
   "id": "13930a9c",
   "metadata": {},
   "outputs": [
    {
     "data": {
      "text/plain": [
       "Date\n",
       "2014-10-01        NaN\n",
       "2014-10-02   0.995989\n",
       "2014-10-03   1.013556\n",
       "2014-10-06   1.012754\n",
       "2014-10-07   0.989171\n",
       "               ...   \n",
       "2021-05-24   1.904548\n",
       "2021-05-25   1.931018\n",
       "2021-05-26   1.936071\n",
       "2021-05-27   2.010909\n",
       "2021-05-28   1.981391\n",
       "Name: log_return, Length: 1677, dtype: float64"
      ]
     },
     "execution_count": 26,
     "metadata": {},
     "output_type": "execute_result"
    }
   ],
   "source": [
    "normalised_prices = np.exp(ba.log_return.cumsum()) # adding log returns (\"cumulative returns\")\n",
    "normalised_prices"
   ]
  },
  {
   "cell_type": "code",
   "execution_count": 27,
   "id": "07d1b264",
   "metadata": {},
   "outputs": [
    {
     "data": {
      "text/plain": [
       "2.0022582720500997"
      ]
     },
     "execution_count": 27,
     "metadata": {},
     "output_type": "execute_result"
    }
   ],
   "source": [
    "(60 / 20) ** (1 / (365 / 365.25)) - 1"
   ]
  }
 ],
 "metadata": {
  "kernelspec": {
   "display_name": "Python 3 (ipykernel)",
   "language": "python",
   "name": "python3"
  },
  "language_info": {
   "codemirror_mode": {
    "name": "ipython",
    "version": 3
   },
   "file_extension": ".py",
   "mimetype": "text/x-python",
   "name": "python",
   "nbconvert_exporter": "python",
   "pygments_lexer": "ipython3",
   "version": "3.10.9"
  }
 },
 "nbformat": 4,
 "nbformat_minor": 5
}
