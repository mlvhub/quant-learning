{
 "cells": [
  {
   "cell_type": "markdown",
   "id": "b3259ce9",
   "metadata": {},
   "source": [
    "# Trading with leverage and the Kelly criterion"
   ]
  },
  {
   "cell_type": "code",
   "execution_count": 4,
   "id": "5a5477e0",
   "metadata": {},
   "outputs": [],
   "source": [
    "import pandas as pd\n",
    "import numpy as np\n",
    "import matplotlib.pyplot as plt\n",
    "plt.style.use(\"seaborn-v0_8\")"
   ]
  },
  {
   "cell_type": "code",
   "execution_count": 5,
   "id": "e978d554",
   "metadata": {},
   "outputs": [
    {
     "data": {
      "text/html": [
       "<div>\n",
       "<style scoped>\n",
       "    .dataframe tbody tr th:only-of-type {\n",
       "        vertical-align: middle;\n",
       "    }\n",
       "\n",
       "    .dataframe tbody tr th {\n",
       "        vertical-align: top;\n",
       "    }\n",
       "\n",
       "    .dataframe thead th {\n",
       "        text-align: right;\n",
       "    }\n",
       "</style>\n",
       "<table border=\"1\" class=\"dataframe\">\n",
       "  <thead>\n",
       "    <tr style=\"text-align: right;\">\n",
       "      <th></th>\n",
       "      <th>GBP_USD</th>\n",
       "      <th>USD_GBP</th>\n",
       "      <th>Levered</th>\n",
       "      <th>Low_Vol</th>\n",
       "      <th>Random</th>\n",
       "      <th>Neutral</th>\n",
       "    </tr>\n",
       "    <tr>\n",
       "      <th>Date</th>\n",
       "      <th></th>\n",
       "      <th></th>\n",
       "      <th></th>\n",
       "      <th></th>\n",
       "      <th></th>\n",
       "      <th></th>\n",
       "    </tr>\n",
       "  </thead>\n",
       "  <tbody>\n",
       "    <tr>\n",
       "      <th>2010-01-02</th>\n",
       "      <td>-0.002733</td>\n",
       "      <td>0.002733</td>\n",
       "      <td>0.006275</td>\n",
       "      <td>0.0</td>\n",
       "      <td>0.002733</td>\n",
       "      <td>0</td>\n",
       "    </tr>\n",
       "    <tr>\n",
       "      <th>2010-01-03</th>\n",
       "      <td>-0.001727</td>\n",
       "      <td>0.001727</td>\n",
       "      <td>0.003967</td>\n",
       "      <td>0.0</td>\n",
       "      <td>0.000000</td>\n",
       "      <td>0</td>\n",
       "    </tr>\n",
       "    <tr>\n",
       "      <th>2010-01-04</th>\n",
       "      <td>-0.005786</td>\n",
       "      <td>0.005786</td>\n",
       "      <td>0.013259</td>\n",
       "      <td>0.0</td>\n",
       "      <td>0.005786</td>\n",
       "      <td>0</td>\n",
       "    </tr>\n",
       "    <tr>\n",
       "      <th>2010-01-05</th>\n",
       "      <td>0.001687</td>\n",
       "      <td>-0.001687</td>\n",
       "      <td>-0.003884</td>\n",
       "      <td>0.0</td>\n",
       "      <td>0.001687</td>\n",
       "      <td>0</td>\n",
       "    </tr>\n",
       "    <tr>\n",
       "      <th>2010-01-06</th>\n",
       "      <td>-0.005446</td>\n",
       "      <td>0.005446</td>\n",
       "      <td>0.012482</td>\n",
       "      <td>0.0</td>\n",
       "      <td>0.005446</td>\n",
       "      <td>0</td>\n",
       "    </tr>\n",
       "    <tr>\n",
       "      <th>...</th>\n",
       "      <td>...</td>\n",
       "      <td>...</td>\n",
       "      <td>...</td>\n",
       "      <td>...</td>\n",
       "      <td>...</td>\n",
       "      <td>...</td>\n",
       "    </tr>\n",
       "    <tr>\n",
       "      <th>2020-12-23</th>\n",
       "      <td>0.005004</td>\n",
       "      <td>-0.005004</td>\n",
       "      <td>-0.011548</td>\n",
       "      <td>0.0</td>\n",
       "      <td>-0.005004</td>\n",
       "      <td>0</td>\n",
       "    </tr>\n",
       "    <tr>\n",
       "      <th>2020-12-27</th>\n",
       "      <td>-0.008278</td>\n",
       "      <td>0.008278</td>\n",
       "      <td>0.018937</td>\n",
       "      <td>0.0</td>\n",
       "      <td>-0.008278</td>\n",
       "      <td>0</td>\n",
       "    </tr>\n",
       "    <tr>\n",
       "      <th>2020-12-28</th>\n",
       "      <td>0.003799</td>\n",
       "      <td>-0.003799</td>\n",
       "      <td>-0.008760</td>\n",
       "      <td>0.0</td>\n",
       "      <td>-0.003799</td>\n",
       "      <td>0</td>\n",
       "    </tr>\n",
       "    <tr>\n",
       "      <th>2020-12-29</th>\n",
       "      <td>0.009054</td>\n",
       "      <td>-0.009054</td>\n",
       "      <td>-0.020948</td>\n",
       "      <td>0.0</td>\n",
       "      <td>-0.000000</td>\n",
       "      <td>0</td>\n",
       "    </tr>\n",
       "    <tr>\n",
       "      <th>2020-12-30</th>\n",
       "      <td>0.003012</td>\n",
       "      <td>-0.003012</td>\n",
       "      <td>-0.006941</td>\n",
       "      <td>0.0</td>\n",
       "      <td>-0.003012</td>\n",
       "      <td>0</td>\n",
       "    </tr>\n",
       "  </tbody>\n",
       "</table>\n",
       "<p>3139 rows × 6 columns</p>\n",
       "</div>"
      ],
      "text/plain": [
       "             GBP_USD   USD_GBP   Levered  Low_Vol    Random  Neutral\n",
       "Date                                                                \n",
       "2010-01-02 -0.002733  0.002733  0.006275      0.0  0.002733        0\n",
       "2010-01-03 -0.001727  0.001727  0.003967      0.0  0.000000        0\n",
       "2010-01-04 -0.005786  0.005786  0.013259      0.0  0.005786        0\n",
       "2010-01-05  0.001687 -0.001687 -0.003884      0.0  0.001687        0\n",
       "2010-01-06 -0.005446  0.005446  0.012482      0.0  0.005446        0\n",
       "...              ...       ...       ...      ...       ...      ...\n",
       "2020-12-23  0.005004 -0.005004 -0.011548      0.0 -0.005004        0\n",
       "2020-12-27 -0.008278  0.008278  0.018937      0.0 -0.008278        0\n",
       "2020-12-28  0.003799 -0.003799 -0.008760      0.0 -0.003799        0\n",
       "2020-12-29  0.009054 -0.009054 -0.020948      0.0 -0.000000        0\n",
       "2020-12-30  0.003012 -0.003012 -0.006941      0.0 -0.003012        0\n",
       "\n",
       "[3139 rows x 6 columns]"
      ]
     },
     "execution_count": 5,
     "metadata": {},
     "output_type": "execute_result"
    }
   ],
   "source": [
    "returns = pd.read_csv(\"returns.csv\", index_col = \"Date\", parse_dates = [\"Date\"])\n",
    "returns"
   ]
  },
  {
   "cell_type": "code",
   "execution_count": 6,
   "id": "cf71d094",
   "metadata": {},
   "outputs": [
    {
     "data": {
      "text/plain": [
       "<Axes: xlabel='Date'>"
      ]
     },
     "execution_count": 6,
     "metadata": {},
     "output_type": "execute_result"
    },
    {
     "data": {
      "image/png": "[encoded data removed]",
      "text/plain": [
       "<Figure size 800x550 with 1 Axes>"
      ]
     },
     "metadata": {},
     "output_type": "display_data"
    }
   ],
   "source": [
    "returns.cumsum().apply(np.exp).plot()"
   ]
  },
  {
   "cell_type": "code",
   "execution_count": 7,
   "id": "38428434",
   "metadata": {},
   "outputs": [
    {
     "data": {
      "text/html": [
       "<div>\n",
       "<style scoped>\n",
       "    .dataframe tbody tr th:only-of-type {\n",
       "        vertical-align: middle;\n",
       "    }\n",
       "\n",
       "    .dataframe tbody tr th {\n",
       "        vertical-align: top;\n",
       "    }\n",
       "\n",
       "    .dataframe thead th {\n",
       "        text-align: right;\n",
       "    }\n",
       "</style>\n",
       "<table border=\"1\" class=\"dataframe\">\n",
       "  <thead>\n",
       "    <tr style=\"text-align: right;\">\n",
       "      <th></th>\n",
       "      <th>GBP_USD</th>\n",
       "      <th>USD_GBP</th>\n",
       "      <th>Levered</th>\n",
       "      <th>Low_Vol</th>\n",
       "      <th>Random</th>\n",
       "      <th>Neutral</th>\n",
       "    </tr>\n",
       "    <tr>\n",
       "      <th>Date</th>\n",
       "      <th></th>\n",
       "      <th></th>\n",
       "      <th></th>\n",
       "      <th></th>\n",
       "      <th></th>\n",
       "      <th></th>\n",
       "    </tr>\n",
       "  </thead>\n",
       "  <tbody>\n",
       "    <tr>\n",
       "      <th>2010-01-02</th>\n",
       "      <td>-0.002730</td>\n",
       "      <td>0.002737</td>\n",
       "      <td>0.006295</td>\n",
       "      <td>0.0</td>\n",
       "      <td>0.002737</td>\n",
       "      <td>0.0</td>\n",
       "    </tr>\n",
       "    <tr>\n",
       "      <th>2010-01-03</th>\n",
       "      <td>-0.001725</td>\n",
       "      <td>0.001728</td>\n",
       "      <td>0.003975</td>\n",
       "      <td>0.0</td>\n",
       "      <td>0.000000</td>\n",
       "      <td>0.0</td>\n",
       "    </tr>\n",
       "    <tr>\n",
       "      <th>2010-01-04</th>\n",
       "      <td>-0.005770</td>\n",
       "      <td>0.005803</td>\n",
       "      <td>0.013347</td>\n",
       "      <td>0.0</td>\n",
       "      <td>0.005803</td>\n",
       "      <td>0.0</td>\n",
       "    </tr>\n",
       "    <tr>\n",
       "      <th>2010-01-05</th>\n",
       "      <td>0.001688</td>\n",
       "      <td>-0.001686</td>\n",
       "      <td>-0.003877</td>\n",
       "      <td>0.0</td>\n",
       "      <td>0.001688</td>\n",
       "      <td>0.0</td>\n",
       "    </tr>\n",
       "    <tr>\n",
       "      <th>2010-01-06</th>\n",
       "      <td>-0.005431</td>\n",
       "      <td>0.005461</td>\n",
       "      <td>0.012560</td>\n",
       "      <td>0.0</td>\n",
       "      <td>0.005461</td>\n",
       "      <td>0.0</td>\n",
       "    </tr>\n",
       "    <tr>\n",
       "      <th>...</th>\n",
       "      <td>...</td>\n",
       "      <td>...</td>\n",
       "      <td>...</td>\n",
       "      <td>...</td>\n",
       "      <td>...</td>\n",
       "      <td>...</td>\n",
       "    </tr>\n",
       "    <tr>\n",
       "      <th>2020-12-23</th>\n",
       "      <td>0.005017</td>\n",
       "      <td>-0.004992</td>\n",
       "      <td>-0.011481</td>\n",
       "      <td>0.0</td>\n",
       "      <td>-0.004992</td>\n",
       "      <td>0.0</td>\n",
       "    </tr>\n",
       "    <tr>\n",
       "      <th>2020-12-27</th>\n",
       "      <td>-0.008243</td>\n",
       "      <td>0.008312</td>\n",
       "      <td>0.019118</td>\n",
       "      <td>0.0</td>\n",
       "      <td>-0.008243</td>\n",
       "      <td>0.0</td>\n",
       "    </tr>\n",
       "    <tr>\n",
       "      <th>2020-12-28</th>\n",
       "      <td>0.003807</td>\n",
       "      <td>-0.003792</td>\n",
       "      <td>-0.008722</td>\n",
       "      <td>0.0</td>\n",
       "      <td>-0.003792</td>\n",
       "      <td>0.0</td>\n",
       "    </tr>\n",
       "    <tr>\n",
       "      <th>2020-12-29</th>\n",
       "      <td>0.009095</td>\n",
       "      <td>-0.009013</td>\n",
       "      <td>-0.020730</td>\n",
       "      <td>0.0</td>\n",
       "      <td>0.000000</td>\n",
       "      <td>0.0</td>\n",
       "    </tr>\n",
       "    <tr>\n",
       "      <th>2020-12-30</th>\n",
       "      <td>0.003017</td>\n",
       "      <td>-0.003008</td>\n",
       "      <td>-0.006917</td>\n",
       "      <td>0.0</td>\n",
       "      <td>-0.003008</td>\n",
       "      <td>0.0</td>\n",
       "    </tr>\n",
       "  </tbody>\n",
       "</table>\n",
       "<p>3139 rows × 6 columns</p>\n",
       "</div>"
      ],
      "text/plain": [
       "             GBP_USD   USD_GBP   Levered  Low_Vol    Random  Neutral\n",
       "Date                                                                \n",
       "2010-01-02 -0.002730  0.002737  0.006295      0.0  0.002737      0.0\n",
       "2010-01-03 -0.001725  0.001728  0.003975      0.0  0.000000      0.0\n",
       "2010-01-04 -0.005770  0.005803  0.013347      0.0  0.005803      0.0\n",
       "2010-01-05  0.001688 -0.001686 -0.003877      0.0  0.001688      0.0\n",
       "2010-01-06 -0.005431  0.005461  0.012560      0.0  0.005461      0.0\n",
       "...              ...       ...       ...      ...       ...      ...\n",
       "2020-12-23  0.005017 -0.004992 -0.011481      0.0 -0.004992      0.0\n",
       "2020-12-27 -0.008243  0.008312  0.019118      0.0 -0.008243      0.0\n",
       "2020-12-28  0.003807 -0.003792 -0.008722      0.0 -0.003792      0.0\n",
       "2020-12-29  0.009095 -0.009013 -0.020730      0.0  0.000000      0.0\n",
       "2020-12-30  0.003017 -0.003008 -0.006917      0.0 -0.003008      0.0\n",
       "\n",
       "[3139 rows x 6 columns]"
      ]
     },
     "execution_count": 7,
     "metadata": {},
     "output_type": "execute_result"
    }
   ],
   "source": [
    "simple = np.exp(returns) - 1# simple returns for leverage calculation\n",
    "simple"
   ]
  },
  {
   "cell_type": "markdown",
   "id": "9d128e66",
   "metadata": {},
   "source": [
    "## Leverage & Margin trading"
   ]
  },
  {
   "cell_type": "code",
   "execution_count": 8,
   "id": "bf580ab6",
   "metadata": {},
   "outputs": [],
   "source": [
    "symbol = \"USD_GBP\""
   ]
  },
  {
   "cell_type": "code",
   "execution_count": 9,
   "id": "1ce48e50",
   "metadata": {},
   "outputs": [],
   "source": [
    "leverage = 2 # equivalent to a margin of 50%"
   ]
  },
  {
   "cell_type": "code",
   "execution_count": 10,
   "id": "704ea27d",
   "metadata": {},
   "outputs": [
    {
     "data": {
      "text/html": [
       "<div>\n",
       "<style scoped>\n",
       "    .dataframe tbody tr th:only-of-type {\n",
       "        vertical-align: middle;\n",
       "    }\n",
       "\n",
       "    .dataframe tbody tr th {\n",
       "        vertical-align: top;\n",
       "    }\n",
       "\n",
       "    .dataframe thead th {\n",
       "        text-align: right;\n",
       "    }\n",
       "</style>\n",
       "<table border=\"1\" class=\"dataframe\">\n",
       "  <thead>\n",
       "    <tr style=\"text-align: right;\">\n",
       "      <th></th>\n",
       "      <th>USD_GBP</th>\n",
       "    </tr>\n",
       "    <tr>\n",
       "      <th>Date</th>\n",
       "      <th></th>\n",
       "    </tr>\n",
       "  </thead>\n",
       "  <tbody>\n",
       "    <tr>\n",
       "      <th>2010-01-02</th>\n",
       "      <td>0.002737</td>\n",
       "    </tr>\n",
       "    <tr>\n",
       "      <th>2010-01-03</th>\n",
       "      <td>0.001728</td>\n",
       "    </tr>\n",
       "    <tr>\n",
       "      <th>2010-01-04</th>\n",
       "      <td>0.005803</td>\n",
       "    </tr>\n",
       "    <tr>\n",
       "      <th>2010-01-05</th>\n",
       "      <td>-0.001686</td>\n",
       "    </tr>\n",
       "    <tr>\n",
       "      <th>2010-01-06</th>\n",
       "      <td>0.005461</td>\n",
       "    </tr>\n",
       "    <tr>\n",
       "      <th>...</th>\n",
       "      <td>...</td>\n",
       "    </tr>\n",
       "    <tr>\n",
       "      <th>2020-12-23</th>\n",
       "      <td>-0.004992</td>\n",
       "    </tr>\n",
       "    <tr>\n",
       "      <th>2020-12-27</th>\n",
       "      <td>0.008312</td>\n",
       "    </tr>\n",
       "    <tr>\n",
       "      <th>2020-12-28</th>\n",
       "      <td>-0.003792</td>\n",
       "    </tr>\n",
       "    <tr>\n",
       "      <th>2020-12-29</th>\n",
       "      <td>-0.009013</td>\n",
       "    </tr>\n",
       "    <tr>\n",
       "      <th>2020-12-30</th>\n",
       "      <td>-0.003008</td>\n",
       "    </tr>\n",
       "  </tbody>\n",
       "</table>\n",
       "<p>3139 rows × 1 columns</p>\n",
       "</div>"
      ],
      "text/plain": [
       "             USD_GBP\n",
       "Date                \n",
       "2010-01-02  0.002737\n",
       "2010-01-03  0.001728\n",
       "2010-01-04  0.005803\n",
       "2010-01-05 -0.001686\n",
       "2010-01-06  0.005461\n",
       "...              ...\n",
       "2020-12-23 -0.004992\n",
       "2020-12-27  0.008312\n",
       "2020-12-28 -0.003792\n",
       "2020-12-29 -0.009013\n",
       "2020-12-30 -0.003008\n",
       "\n",
       "[3139 rows x 1 columns]"
      ]
     },
     "execution_count": 10,
     "metadata": {},
     "output_type": "execute_result"
    }
   ],
   "source": [
    "instr = simple[symbol].to_frame().copy()\n",
    "instr"
   ]
  },
  {
   "cell_type": "code",
   "execution_count": 11,
   "id": "3e0bca98",
   "metadata": {},
   "outputs": [
    {
     "data": {
      "text/html": [
       "<div>\n",
       "<style scoped>\n",
       "    .dataframe tbody tr th:only-of-type {\n",
       "        vertical-align: middle;\n",
       "    }\n",
       "\n",
       "    .dataframe tbody tr th {\n",
       "        vertical-align: top;\n",
       "    }\n",
       "\n",
       "    .dataframe thead th {\n",
       "        text-align: right;\n",
       "    }\n",
       "</style>\n",
       "<table border=\"1\" class=\"dataframe\">\n",
       "  <thead>\n",
       "    <tr style=\"text-align: right;\">\n",
       "      <th></th>\n",
       "      <th>USD_GBP</th>\n",
       "      <th>Lev_Returns</th>\n",
       "    </tr>\n",
       "    <tr>\n",
       "      <th>Date</th>\n",
       "      <th></th>\n",
       "      <th></th>\n",
       "    </tr>\n",
       "  </thead>\n",
       "  <tbody>\n",
       "    <tr>\n",
       "      <th>2010-01-02</th>\n",
       "      <td>0.002737</td>\n",
       "      <td>0.005474</td>\n",
       "    </tr>\n",
       "    <tr>\n",
       "      <th>2010-01-03</th>\n",
       "      <td>0.001728</td>\n",
       "      <td>0.003457</td>\n",
       "    </tr>\n",
       "    <tr>\n",
       "      <th>2010-01-04</th>\n",
       "      <td>0.005803</td>\n",
       "      <td>0.011606</td>\n",
       "    </tr>\n",
       "    <tr>\n",
       "      <th>2010-01-05</th>\n",
       "      <td>-0.001686</td>\n",
       "      <td>-0.003371</td>\n",
       "    </tr>\n",
       "    <tr>\n",
       "      <th>2010-01-06</th>\n",
       "      <td>0.005461</td>\n",
       "      <td>0.010922</td>\n",
       "    </tr>\n",
       "    <tr>\n",
       "      <th>...</th>\n",
       "      <td>...</td>\n",
       "      <td>...</td>\n",
       "    </tr>\n",
       "    <tr>\n",
       "      <th>2020-12-23</th>\n",
       "      <td>-0.004992</td>\n",
       "      <td>-0.009984</td>\n",
       "    </tr>\n",
       "    <tr>\n",
       "      <th>2020-12-27</th>\n",
       "      <td>0.008312</td>\n",
       "      <td>0.016624</td>\n",
       "    </tr>\n",
       "    <tr>\n",
       "      <th>2020-12-28</th>\n",
       "      <td>-0.003792</td>\n",
       "      <td>-0.007584</td>\n",
       "    </tr>\n",
       "    <tr>\n",
       "      <th>2020-12-29</th>\n",
       "      <td>-0.009013</td>\n",
       "      <td>-0.018026</td>\n",
       "    </tr>\n",
       "    <tr>\n",
       "      <th>2020-12-30</th>\n",
       "      <td>-0.003008</td>\n",
       "      <td>-0.006015</td>\n",
       "    </tr>\n",
       "  </tbody>\n",
       "</table>\n",
       "<p>3139 rows × 2 columns</p>\n",
       "</div>"
      ],
      "text/plain": [
       "             USD_GBP  Lev_Returns\n",
       "Date                             \n",
       "2010-01-02  0.002737     0.005474\n",
       "2010-01-03  0.001728     0.003457\n",
       "2010-01-04  0.005803     0.011606\n",
       "2010-01-05 -0.001686    -0.003371\n",
       "2010-01-06  0.005461     0.010922\n",
       "...              ...          ...\n",
       "2020-12-23 -0.004992    -0.009984\n",
       "2020-12-27  0.008312     0.016624\n",
       "2020-12-28 -0.003792    -0.007584\n",
       "2020-12-29 -0.009013    -0.018026\n",
       "2020-12-30 -0.003008    -0.006015\n",
       "\n",
       "[3139 rows x 2 columns]"
      ]
     },
     "execution_count": 11,
     "metadata": {},
     "output_type": "execute_result"
    }
   ],
   "source": [
    "instr[\"Lev_Returns\"] = instr[symbol].mul(leverage) # multiply simple returns with leverage\n",
    "instr"
   ]
  },
  {
   "cell_type": "code",
   "execution_count": 12,
   "id": "eddfa65b",
   "metadata": {},
   "outputs": [
    {
     "data": {
      "text/html": [
       "<div>\n",
       "<style scoped>\n",
       "    .dataframe tbody tr th:only-of-type {\n",
       "        vertical-align: middle;\n",
       "    }\n",
       "\n",
       "    .dataframe tbody tr th {\n",
       "        vertical-align: top;\n",
       "    }\n",
       "\n",
       "    .dataframe thead th {\n",
       "        text-align: right;\n",
       "    }\n",
       "</style>\n",
       "<table border=\"1\" class=\"dataframe\">\n",
       "  <thead>\n",
       "    <tr style=\"text-align: right;\">\n",
       "      <th></th>\n",
       "      <th>USD_GBP</th>\n",
       "      <th>Lev_Returns</th>\n",
       "    </tr>\n",
       "    <tr>\n",
       "      <th>Date</th>\n",
       "      <th></th>\n",
       "      <th></th>\n",
       "    </tr>\n",
       "  </thead>\n",
       "  <tbody>\n",
       "    <tr>\n",
       "      <th>2010-01-02</th>\n",
       "      <td>0.002737</td>\n",
       "      <td>0.005474</td>\n",
       "    </tr>\n",
       "    <tr>\n",
       "      <th>2010-01-03</th>\n",
       "      <td>0.001728</td>\n",
       "      <td>0.003457</td>\n",
       "    </tr>\n",
       "    <tr>\n",
       "      <th>2010-01-04</th>\n",
       "      <td>0.005803</td>\n",
       "      <td>0.011606</td>\n",
       "    </tr>\n",
       "    <tr>\n",
       "      <th>2010-01-05</th>\n",
       "      <td>-0.001686</td>\n",
       "      <td>-0.003371</td>\n",
       "    </tr>\n",
       "    <tr>\n",
       "      <th>2010-01-06</th>\n",
       "      <td>0.005461</td>\n",
       "      <td>0.010922</td>\n",
       "    </tr>\n",
       "    <tr>\n",
       "      <th>...</th>\n",
       "      <td>...</td>\n",
       "      <td>...</td>\n",
       "    </tr>\n",
       "    <tr>\n",
       "      <th>2020-12-23</th>\n",
       "      <td>-0.004992</td>\n",
       "      <td>-0.009984</td>\n",
       "    </tr>\n",
       "    <tr>\n",
       "      <th>2020-12-27</th>\n",
       "      <td>0.008312</td>\n",
       "      <td>0.016624</td>\n",
       "    </tr>\n",
       "    <tr>\n",
       "      <th>2020-12-28</th>\n",
       "      <td>-0.003792</td>\n",
       "      <td>-0.007584</td>\n",
       "    </tr>\n",
       "    <tr>\n",
       "      <th>2020-12-29</th>\n",
       "      <td>-0.009013</td>\n",
       "      <td>-0.018026</td>\n",
       "    </tr>\n",
       "    <tr>\n",
       "      <th>2020-12-30</th>\n",
       "      <td>-0.003008</td>\n",
       "      <td>-0.006015</td>\n",
       "    </tr>\n",
       "  </tbody>\n",
       "</table>\n",
       "<p>3139 rows × 2 columns</p>\n",
       "</div>"
      ],
      "text/plain": [
       "             USD_GBP  Lev_Returns\n",
       "Date                             \n",
       "2010-01-02  0.002737     0.005474\n",
       "2010-01-03  0.001728     0.003457\n",
       "2010-01-04  0.005803     0.011606\n",
       "2010-01-05 -0.001686    -0.003371\n",
       "2010-01-06  0.005461     0.010922\n",
       "...              ...          ...\n",
       "2020-12-23 -0.004992    -0.009984\n",
       "2020-12-27  0.008312     0.016624\n",
       "2020-12-28 -0.003792    -0.007584\n",
       "2020-12-29 -0.009013    -0.018026\n",
       "2020-12-30 -0.003008    -0.006015\n",
       "\n",
       "[3139 rows x 2 columns]"
      ]
     },
     "execution_count": 12,
     "metadata": {},
     "output_type": "execute_result"
    }
   ],
   "source": [
    "instr[\"Lev_Returns\"] = np.where(instr[\"Lev_Returns\"] < -1, -1, instr[\"Lev_Returns\"]) # loss limited to 100%\n",
    "instr"
   ]
  },
  {
   "cell_type": "code",
   "execution_count": 13,
   "id": "e279218d",
   "metadata": {},
   "outputs": [
    {
     "data": {
      "text/plain": [
       "<Axes: xlabel='Date'>"
      ]
     },
     "execution_count": 13,
     "metadata": {},
     "output_type": "execute_result"
    },
    {
     "data": {
      "image/png": "[encoded data removed]",
      "text/plain": [
       "<Figure size 800x550 with 1 Axes>"
      ]
     },
     "metadata": {},
     "output_type": "display_data"
    }
   ],
   "source": [
    "instr.add(1).cumprod().plot()"
   ]
  },
  {
   "cell_type": "markdown",
   "id": "fe9f8856",
   "metadata": {},
   "source": [
    "## Finding the optimal degree of leverage"
   ]
  },
  {
   "cell_type": "markdown",
   "id": "4263c3c2",
   "metadata": {},
   "source": [
    "We can either use the kelly criterion or we just run the backtest for many different leverage settings"
   ]
  },
  {
   "cell_type": "code",
   "execution_count": 14,
   "id": "0d62bd1a",
   "metadata": {},
   "outputs": [
    {
     "data": {
      "text/plain": [
       "array([1.  , 1.01, 1.02, 1.03, 1.04, 1.05, 1.06, 1.07, 1.08, 1.09, 1.1 ,\n",
       "       1.11, 1.12, 1.13, 1.14, 1.15, 1.16, 1.17, 1.18, 1.19, 1.2 , 1.21,\n",
       "       1.22, 1.23, 1.24, 1.25, 1.26, 1.27, 1.28, 1.29, 1.3 , 1.31, 1.32,\n",
       "       1.33, 1.34, 1.35, 1.36, 1.37, 1.38, 1.39, 1.4 , 1.41, 1.42, 1.43,\n",
       "       1.44, 1.45, 1.46, 1.47, 1.48, 1.49, 1.5 , 1.51, 1.52, 1.53, 1.54,\n",
       "       1.55, 1.56, 1.57, 1.58, 1.59, 1.6 , 1.61, 1.62, 1.63, 1.64, 1.65,\n",
       "       1.66, 1.67, 1.68, 1.69, 1.7 , 1.71, 1.72, 1.73, 1.74, 1.75, 1.76,\n",
       "       1.77, 1.78, 1.79, 1.8 , 1.81, 1.82, 1.83, 1.84, 1.85, 1.86, 1.87,\n",
       "       1.88, 1.89, 1.9 , 1.91, 1.92, 1.93, 1.94, 1.95, 1.96, 1.97, 1.98,\n",
       "       1.99, 2.  , 2.01, 2.02, 2.03, 2.04, 2.05, 2.06, 2.07, 2.08, 2.09,\n",
       "       2.1 , 2.11, 2.12, 2.13, 2.14, 2.15, 2.16, 2.17, 2.18, 2.19, 2.2 ,\n",
       "       2.21, 2.22, 2.23, 2.24, 2.25, 2.26, 2.27, 2.28, 2.29, 2.3 , 2.31,\n",
       "       2.32, 2.33, 2.34, 2.35, 2.36, 2.37, 2.38, 2.39, 2.4 , 2.41, 2.42,\n",
       "       2.43, 2.44, 2.45, 2.46, 2.47, 2.48, 2.49, 2.5 , 2.51, 2.52, 2.53,\n",
       "       2.54, 2.55, 2.56, 2.57, 2.58, 2.59, 2.6 , 2.61, 2.62, 2.63, 2.64,\n",
       "       2.65, 2.66, 2.67, 2.68, 2.69, 2.7 , 2.71, 2.72, 2.73, 2.74, 2.75,\n",
       "       2.76, 2.77, 2.78, 2.79, 2.8 , 2.81, 2.82, 2.83, 2.84, 2.85, 2.86,\n",
       "       2.87, 2.88, 2.89, 2.9 , 2.91, 2.92, 2.93, 2.94, 2.95, 2.96, 2.97,\n",
       "       2.98, 2.99, 3.  , 3.01, 3.02, 3.03, 3.04, 3.05, 3.06, 3.07, 3.08,\n",
       "       3.09, 3.1 , 3.11, 3.12, 3.13, 3.14, 3.15, 3.16, 3.17, 3.18, 3.19,\n",
       "       3.2 , 3.21, 3.22, 3.23, 3.24, 3.25, 3.26, 3.27, 3.28, 3.29, 3.3 ,\n",
       "       3.31, 3.32, 3.33, 3.34, 3.35, 3.36, 3.37, 3.38, 3.39, 3.4 , 3.41,\n",
       "       3.42, 3.43, 3.44, 3.45, 3.46, 3.47, 3.48, 3.49, 3.5 , 3.51, 3.52,\n",
       "       3.53, 3.54, 3.55, 3.56, 3.57, 3.58, 3.59, 3.6 , 3.61, 3.62, 3.63,\n",
       "       3.64, 3.65, 3.66, 3.67, 3.68, 3.69, 3.7 , 3.71, 3.72, 3.73, 3.74,\n",
       "       3.75, 3.76, 3.77, 3.78, 3.79, 3.8 , 3.81, 3.82, 3.83, 3.84, 3.85,\n",
       "       3.86, 3.87, 3.88, 3.89, 3.9 , 3.91, 3.92, 3.93, 3.94, 3.95, 3.96,\n",
       "       3.97, 3.98, 3.99, 4.  , 4.01, 4.02, 4.03, 4.04, 4.05, 4.06, 4.07,\n",
       "       4.08, 4.09, 4.1 , 4.11, 4.12, 4.13, 4.14, 4.15, 4.16, 4.17, 4.18,\n",
       "       4.19, 4.2 , 4.21, 4.22, 4.23, 4.24, 4.25, 4.26, 4.27, 4.28, 4.29,\n",
       "       4.3 , 4.31, 4.32, 4.33, 4.34, 4.35, 4.36, 4.37, 4.38, 4.39, 4.4 ,\n",
       "       4.41, 4.42, 4.43, 4.44, 4.45, 4.46, 4.47, 4.48, 4.49, 4.5 , 4.51,\n",
       "       4.52, 4.53, 4.54, 4.55, 4.56, 4.57, 4.58, 4.59, 4.6 , 4.61, 4.62,\n",
       "       4.63, 4.64, 4.65, 4.66, 4.67, 4.68, 4.69, 4.7 , 4.71, 4.72, 4.73,\n",
       "       4.74, 4.75, 4.76, 4.77, 4.78, 4.79, 4.8 , 4.81, 4.82, 4.83, 4.84,\n",
       "       4.85, 4.86, 4.87, 4.88, 4.89, 4.9 , 4.91, 4.92, 4.93, 4.94, 4.95,\n",
       "       4.96, 4.97, 4.98, 4.99])"
      ]
     },
     "execution_count": 14,
     "metadata": {},
     "output_type": "execute_result"
    }
   ],
   "source": [
    "leverage = np.arange(1, 5, 0.01)\n",
    "leverage"
   ]
  },
  {
   "cell_type": "code",
   "execution_count": 15,
   "id": "06cc9783",
   "metadata": {},
   "outputs": [],
   "source": [
    "multiple = []\n",
    "for lever in leverage:\n",
    "    levered_returns = simple[symbol].mul(lever)\n",
    "    levered_returns = pd.Series(np.where(levered_returns < -1, -1, levered_returns))\n",
    "    multiple.append(levered_returns.add(1).prod())\n",
    "results = pd.DataFrame(data = {\"Leverage\":list(leverage), \"Multiple\":multiple})"
   ]
  },
  {
   "cell_type": "code",
   "execution_count": 16,
   "id": "fa05ec97",
   "metadata": {},
   "outputs": [
    {
     "data": {
      "text/html": [
       "<div>\n",
       "<style scoped>\n",
       "    .dataframe tbody tr th:only-of-type {\n",
       "        vertical-align: middle;\n",
       "    }\n",
       "\n",
       "    .dataframe tbody tr th {\n",
       "        vertical-align: top;\n",
       "    }\n",
       "\n",
       "    .dataframe thead th {\n",
       "        text-align: right;\n",
       "    }\n",
       "</style>\n",
       "<table border=\"1\" class=\"dataframe\">\n",
       "  <thead>\n",
       "    <tr style=\"text-align: right;\">\n",
       "      <th></th>\n",
       "      <th>Multiple</th>\n",
       "    </tr>\n",
       "    <tr>\n",
       "      <th>Leverage</th>\n",
       "      <th></th>\n",
       "    </tr>\n",
       "  </thead>\n",
       "  <tbody>\n",
       "    <tr>\n",
       "      <th>1.00</th>\n",
       "      <td>1.182261</td>\n",
       "    </tr>\n",
       "    <tr>\n",
       "      <th>1.01</th>\n",
       "      <td>1.183697</td>\n",
       "    </tr>\n",
       "    <tr>\n",
       "      <th>1.02</th>\n",
       "      <td>1.185124</td>\n",
       "    </tr>\n",
       "    <tr>\n",
       "      <th>1.03</th>\n",
       "      <td>1.186542</td>\n",
       "    </tr>\n",
       "    <tr>\n",
       "      <th>1.04</th>\n",
       "      <td>1.187952</td>\n",
       "    </tr>\n",
       "    <tr>\n",
       "      <th>...</th>\n",
       "      <td>...</td>\n",
       "    </tr>\n",
       "    <tr>\n",
       "      <th>4.95</th>\n",
       "      <td>0.950938</td>\n",
       "    </tr>\n",
       "    <tr>\n",
       "      <th>4.96</th>\n",
       "      <td>0.948744</td>\n",
       "    </tr>\n",
       "    <tr>\n",
       "      <th>4.97</th>\n",
       "      <td>0.946546</td>\n",
       "    </tr>\n",
       "    <tr>\n",
       "      <th>4.98</th>\n",
       "      <td>0.944346</td>\n",
       "    </tr>\n",
       "    <tr>\n",
       "      <th>4.99</th>\n",
       "      <td>0.942142</td>\n",
       "    </tr>\n",
       "  </tbody>\n",
       "</table>\n",
       "<p>400 rows × 1 columns</p>\n",
       "</div>"
      ],
      "text/plain": [
       "          Multiple\n",
       "Leverage          \n",
       "1.00      1.182261\n",
       "1.01      1.183697\n",
       "1.02      1.185124\n",
       "1.03      1.186542\n",
       "1.04      1.187952\n",
       "...            ...\n",
       "4.95      0.950938\n",
       "4.96      0.948744\n",
       "4.97      0.946546\n",
       "4.98      0.944346\n",
       "4.99      0.942142\n",
       "\n",
       "[400 rows x 1 columns]"
      ]
     },
     "execution_count": 16,
     "metadata": {},
     "output_type": "execute_result"
    }
   ],
   "source": [
    "results.set_index(\"Leverage\", inplace = True)\n",
    "results"
   ]
  },
  {
   "cell_type": "code",
   "execution_count": 17,
   "id": "67f9e22c",
   "metadata": {},
   "outputs": [
    {
     "data": {
      "text/plain": [
       "Multiple    0.942142\n",
       "dtype: float64"
      ]
     },
     "execution_count": 17,
     "metadata": {},
     "output_type": "execute_result"
    }
   ],
   "source": [
    "results.min()"
   ]
  },
  {
   "cell_type": "code",
   "execution_count": 18,
   "id": "043bd151",
   "metadata": {},
   "outputs": [
    {
     "data": {
      "text/plain": [
       "Multiple    1.283638\n",
       "dtype: float64"
      ]
     },
     "execution_count": 18,
     "metadata": {},
     "output_type": "execute_result"
    }
   ],
   "source": [
    "max_multiple = results.max()\n",
    "max_multiple"
   ]
  },
  {
   "cell_type": "code",
   "execution_count": 19,
   "id": "20dcf01e",
   "metadata": {},
   "outputs": [
    {
     "data": {
      "text/plain": [
       "Multiple    2.35\n",
       "dtype: float64"
      ]
     },
     "execution_count": 19,
     "metadata": {},
     "output_type": "execute_result"
    }
   ],
   "source": [
    "optimal_lev = results.idxmax()\n",
    "optimal_lev"
   ]
  },
  {
   "cell_type": "code",
   "execution_count": 20,
   "id": "a568a4c4",
   "metadata": {},
   "outputs": [
    {
     "data": {
      "text/plain": [
       "Text(0.5, 1.0, 'Optimal degree of leverage')"
      ]
     },
     "execution_count": 20,
     "metadata": {},
     "output_type": "execute_result"
    },
    {
     "data": {
      "image/png": "[encoded data removed]",
      "text/plain": [
       "<Figure size 800x550 with 1 Axes>"
      ]
     },
     "metadata": {},
     "output_type": "display_data"
    }
   ],
   "source": [
    "results.plot()\n",
    "plt.scatter(x = optimal_lev, y = max_multiple, color = \"r\", s= 50)\n",
    "plt.xlabel(\"Leverage\")\n",
    "plt.ylabel(\"Multiple\")\n",
    "plt.title(\"Optimal degree of leverage\")"
   ]
  },
  {
   "cell_type": "markdown",
   "id": "12bb5964",
   "metadata": {},
   "source": [
    "## Kelly Criterion"
   ]
  },
  {
   "cell_type": "markdown",
   "id": "eb77a8b5",
   "metadata": {},
   "source": [
    "The Kelly Criterion closely approaches the true/correct value **if**:\n",
    "- simple returns are used (Yes)\n",
    "- dataset is sufficiently large (OK)"
   ]
  },
  {
   "cell_type": "code",
   "execution_count": 21,
   "id": "06fba5eb",
   "metadata": {},
   "outputs": [
    {
     "data": {
      "text/html": [
       "<div>\n",
       "<style scoped>\n",
       "    .dataframe tbody tr th:only-of-type {\n",
       "        vertical-align: middle;\n",
       "    }\n",
       "\n",
       "    .dataframe tbody tr th {\n",
       "        vertical-align: top;\n",
       "    }\n",
       "\n",
       "    .dataframe thead th {\n",
       "        text-align: right;\n",
       "    }\n",
       "</style>\n",
       "<table border=\"1\" class=\"dataframe\">\n",
       "  <thead>\n",
       "    <tr style=\"text-align: right;\">\n",
       "      <th></th>\n",
       "      <th>USD_GBP</th>\n",
       "    </tr>\n",
       "    <tr>\n",
       "      <th>Date</th>\n",
       "      <th></th>\n",
       "    </tr>\n",
       "  </thead>\n",
       "  <tbody>\n",
       "    <tr>\n",
       "      <th>2010-01-02</th>\n",
       "      <td>0.002737</td>\n",
       "    </tr>\n",
       "    <tr>\n",
       "      <th>2010-01-03</th>\n",
       "      <td>0.001728</td>\n",
       "    </tr>\n",
       "    <tr>\n",
       "      <th>2010-01-04</th>\n",
       "      <td>0.005803</td>\n",
       "    </tr>\n",
       "    <tr>\n",
       "      <th>2010-01-05</th>\n",
       "      <td>-0.001686</td>\n",
       "    </tr>\n",
       "    <tr>\n",
       "      <th>2010-01-06</th>\n",
       "      <td>0.005461</td>\n",
       "    </tr>\n",
       "    <tr>\n",
       "      <th>...</th>\n",
       "      <td>...</td>\n",
       "    </tr>\n",
       "    <tr>\n",
       "      <th>2020-12-23</th>\n",
       "      <td>-0.004992</td>\n",
       "    </tr>\n",
       "    <tr>\n",
       "      <th>2020-12-27</th>\n",
       "      <td>0.008312</td>\n",
       "    </tr>\n",
       "    <tr>\n",
       "      <th>2020-12-28</th>\n",
       "      <td>-0.003792</td>\n",
       "    </tr>\n",
       "    <tr>\n",
       "      <th>2020-12-29</th>\n",
       "      <td>-0.009013</td>\n",
       "    </tr>\n",
       "    <tr>\n",
       "      <th>2020-12-30</th>\n",
       "      <td>-0.003008</td>\n",
       "    </tr>\n",
       "  </tbody>\n",
       "</table>\n",
       "<p>3139 rows × 1 columns</p>\n",
       "</div>"
      ],
      "text/plain": [
       "             USD_GBP\n",
       "Date                \n",
       "2010-01-02  0.002737\n",
       "2010-01-03  0.001728\n",
       "2010-01-04  0.005803\n",
       "2010-01-05 -0.001686\n",
       "2010-01-06  0.005461\n",
       "...              ...\n",
       "2020-12-23 -0.004992\n",
       "2020-12-27  0.008312\n",
       "2020-12-28 -0.003792\n",
       "2020-12-29 -0.009013\n",
       "2020-12-30 -0.003008\n",
       "\n",
       "[3139 rows x 1 columns]"
      ]
     },
     "execution_count": 21,
     "metadata": {},
     "output_type": "execute_result"
    }
   ],
   "source": [
    "instr = simple[symbol].to_frame().copy()\n",
    "instr"
   ]
  },
  {
   "cell_type": "code",
   "execution_count": 22,
   "id": "a4b9d826",
   "metadata": {},
   "outputs": [
    {
     "data": {
      "text/plain": [
       "USD_GBP    0.000068\n",
       "dtype: float64"
      ]
     },
     "execution_count": 22,
     "metadata": {},
     "output_type": "execute_result"
    }
   ],
   "source": [
    "mu = instr.mean() # mean return (simple)\n",
    "mu"
   ]
  },
  {
   "cell_type": "code",
   "execution_count": 23,
   "id": "7837acbe",
   "metadata": {},
   "outputs": [],
   "source": [
    "var = instr.var() # variance of returns (simple)"
   ]
  },
  {
   "cell_type": "code",
   "execution_count": 24,
   "id": "d8776312",
   "metadata": {},
   "outputs": [
    {
     "data": {
      "text/plain": [
       "USD_GBP    2.316484\n",
       "dtype: float64"
      ]
     },
     "execution_count": 24,
     "metadata": {},
     "output_type": "execute_result"
    }
   ],
   "source": [
    "kelly = mu / var\n",
    "kelly"
   ]
  },
  {
   "cell_type": "markdown",
   "id": "fc814d14",
   "metadata": {},
   "source": [
    "Good approximation by **Kelly Criterion**"
   ]
  },
  {
   "cell_type": "markdown",
   "id": "cf84158f",
   "metadata": {},
   "source": [
    "## Impact of Leverage on Reward & Risk"
   ]
  },
  {
   "cell_type": "markdown",
   "id": "880b8449",
   "metadata": {},
   "source": [
    "### Reward 1: Mean of simple returns"
   ]
  },
  {
   "cell_type": "code",
   "execution_count": 31,
   "id": "e7ecb9c9",
   "metadata": {},
   "outputs": [],
   "source": [
    "leverage = np.arange(1, 5, 0.01)"
   ]
  },
  {
   "cell_type": "code",
   "execution_count": 32,
   "id": "3c4a8b49",
   "metadata": {},
   "outputs": [],
   "source": [
    "mu = []\n",
    "sigma = []\n",
    "sharpe = []\n",
    "for lever in leverage:\n",
    "    levered_returns = simple[symbol].mul(lever)\n",
    "    levered_returns = pd.Series(np.where(levered_returns < -1, -1, levered_returns))\n",
    "    mu.append(levered_returns.mean())\n",
    "    sigma.append(levered_returns.std())\n",
    "    sharpe.append(levered_returns.mean() / levered_returns.std())\n",
    "results = pd.DataFrame(data = {\"Leverage\":list(leverage), \"Mean\":mu, \"Std\": sigma,\"Sharpe\": sharpe})"
   ]
  },
  {
   "cell_type": "code",
   "execution_count": 33,
   "id": "6bdf0371",
   "metadata": {
    "scrolled": true
   },
   "outputs": [
    {
     "data": {
      "text/html": [
       "<div>\n",
       "<style scoped>\n",
       "    .dataframe tbody tr th:only-of-type {\n",
       "        vertical-align: middle;\n",
       "    }\n",
       "\n",
       "    .dataframe tbody tr th {\n",
       "        vertical-align: top;\n",
       "    }\n",
       "\n",
       "    .dataframe thead th {\n",
       "        text-align: right;\n",
       "    }\n",
       "</style>\n",
       "<table border=\"1\" class=\"dataframe\">\n",
       "  <thead>\n",
       "    <tr style=\"text-align: right;\">\n",
       "      <th></th>\n",
       "      <th>Mean</th>\n",
       "      <th>Std</th>\n",
       "      <th>Sharpe</th>\n",
       "    </tr>\n",
       "    <tr>\n",
       "      <th>Leverage</th>\n",
       "      <th></th>\n",
       "      <th></th>\n",
       "      <th></th>\n",
       "    </tr>\n",
       "  </thead>\n",
       "  <tbody>\n",
       "    <tr>\n",
       "      <th>1.00</th>\n",
       "      <td>0.000068</td>\n",
       "      <td>0.005415</td>\n",
       "      <td>0.012544</td>\n",
       "    </tr>\n",
       "    <tr>\n",
       "      <th>1.01</th>\n",
       "      <td>0.000069</td>\n",
       "      <td>0.005469</td>\n",
       "      <td>0.012544</td>\n",
       "    </tr>\n",
       "    <tr>\n",
       "      <th>1.02</th>\n",
       "      <td>0.000069</td>\n",
       "      <td>0.005523</td>\n",
       "      <td>0.012544</td>\n",
       "    </tr>\n",
       "    <tr>\n",
       "      <th>1.03</th>\n",
       "      <td>0.000070</td>\n",
       "      <td>0.005577</td>\n",
       "      <td>0.012544</td>\n",
       "    </tr>\n",
       "    <tr>\n",
       "      <th>1.04</th>\n",
       "      <td>0.000071</td>\n",
       "      <td>0.005631</td>\n",
       "      <td>0.012544</td>\n",
       "    </tr>\n",
       "    <tr>\n",
       "      <th>...</th>\n",
       "      <td>...</td>\n",
       "      <td>...</td>\n",
       "      <td>...</td>\n",
       "    </tr>\n",
       "    <tr>\n",
       "      <th>4.95</th>\n",
       "      <td>0.000336</td>\n",
       "      <td>0.026804</td>\n",
       "      <td>0.012544</td>\n",
       "    </tr>\n",
       "    <tr>\n",
       "      <th>4.96</th>\n",
       "      <td>0.000337</td>\n",
       "      <td>0.026858</td>\n",
       "      <td>0.012544</td>\n",
       "    </tr>\n",
       "    <tr>\n",
       "      <th>4.97</th>\n",
       "      <td>0.000338</td>\n",
       "      <td>0.026912</td>\n",
       "      <td>0.012544</td>\n",
       "    </tr>\n",
       "    <tr>\n",
       "      <th>4.98</th>\n",
       "      <td>0.000338</td>\n",
       "      <td>0.026966</td>\n",
       "      <td>0.012544</td>\n",
       "    </tr>\n",
       "    <tr>\n",
       "      <th>4.99</th>\n",
       "      <td>0.000339</td>\n",
       "      <td>0.027020</td>\n",
       "      <td>0.012544</td>\n",
       "    </tr>\n",
       "  </tbody>\n",
       "</table>\n",
       "<p>400 rows × 3 columns</p>\n",
       "</div>"
      ],
      "text/plain": [
       "              Mean       Std    Sharpe\n",
       "Leverage                              \n",
       "1.00      0.000068  0.005415  0.012544\n",
       "1.01      0.000069  0.005469  0.012544\n",
       "1.02      0.000069  0.005523  0.012544\n",
       "1.03      0.000070  0.005577  0.012544\n",
       "1.04      0.000071  0.005631  0.012544\n",
       "...            ...       ...       ...\n",
       "4.95      0.000336  0.026804  0.012544\n",
       "4.96      0.000337  0.026858  0.012544\n",
       "4.97      0.000338  0.026912  0.012544\n",
       "4.98      0.000338  0.026966  0.012544\n",
       "4.99      0.000339  0.027020  0.012544\n",
       "\n",
       "[400 rows x 3 columns]"
      ]
     },
     "execution_count": 33,
     "metadata": {},
     "output_type": "execute_result"
    }
   ],
   "source": [
    "results.set_index(\"Leverage\", inplace = True)\n",
    "results"
   ]
  },
  {
   "cell_type": "code",
   "execution_count": 36,
   "id": "6f820155",
   "metadata": {
    "scrolled": true
   },
   "outputs": [
    {
     "data": {
      "text/plain": [
       "array([<Axes: xlabel='Leverage'>, <Axes: xlabel='Leverage'>,\n",
       "       <Axes: xlabel='Leverage'>], dtype=object)"
      ]
     },
     "execution_count": 36,
     "metadata": {},
     "output_type": "execute_result"
    },
    {
     "data": {
      "image/png": "[encoded data removed]",
      "text/plain": [
       "<Figure size 800x550 with 3 Axes>"
      ]
     },
     "metadata": {},
     "output_type": "display_data"
    }
   ],
   "source": [
    "results.plot(subplots = True)"
   ]
  },
  {
   "cell_type": "markdown",
   "id": "c46f0d42",
   "metadata": {},
   "source": [
    "#### Mean of simple returns is steadily increasing with higher leverage (misleading)\n",
    "#### Sharpe Ratio remains constant (misleading)"
   ]
  },
  {
   "cell_type": "markdown",
   "id": "58220683",
   "metadata": {},
   "source": [
    "### Reard 2: Mean of log returns"
   ]
  },
  {
   "cell_type": "code",
   "execution_count": 37,
   "id": "c9433b1a",
   "metadata": {},
   "outputs": [],
   "source": [
    "leverage = np.arange(1, 5, 0.01)"
   ]
  },
  {
   "cell_type": "code",
   "execution_count": 38,
   "id": "e07b9bd8",
   "metadata": {},
   "outputs": [],
   "source": [
    "mu = []\n",
    "sigma = []\n",
    "sharpe = []\n",
    "for lever in leverage:\n",
    "    levered_returns = simple[symbol].mul(lever)\n",
    "    levered_returns = pd.Series(np.where(levered_returns < -1, -1, levered_returns))\n",
    "    levered_returns = np.log(levered_returns + 1) # convert to log returns\n",
    "    mu.append(levered_returns.mean())\n",
    "    sigma.append(levered_returns.std())\n",
    "    sharpe.append(levered_returns.mean() / levered_returns.std())\n",
    "results = pd.DataFrame(data = {\"Leverage\":list(leverage), \"Mean\":mu, \"Std\": sigma,\"Sharpe\": sharpe})"
   ]
  },
  {
   "cell_type": "code",
   "execution_count": 39,
   "id": "efecc53a",
   "metadata": {},
   "outputs": [
    {
     "data": {
      "text/html": [
       "<div>\n",
       "<style scoped>\n",
       "    .dataframe tbody tr th:only-of-type {\n",
       "        vertical-align: middle;\n",
       "    }\n",
       "\n",
       "    .dataframe tbody tr th {\n",
       "        vertical-align: top;\n",
       "    }\n",
       "\n",
       "    .dataframe thead th {\n",
       "        text-align: right;\n",
       "    }\n",
       "</style>\n",
       "<table border=\"1\" class=\"dataframe\">\n",
       "  <thead>\n",
       "    <tr style=\"text-align: right;\">\n",
       "      <th></th>\n",
       "      <th>Mean</th>\n",
       "      <th>Std</th>\n",
       "      <th>Sharpe</th>\n",
       "    </tr>\n",
       "    <tr>\n",
       "      <th>Leverage</th>\n",
       "      <th></th>\n",
       "      <th></th>\n",
       "      <th></th>\n",
       "    </tr>\n",
       "  </thead>\n",
       "  <tbody>\n",
       "    <tr>\n",
       "      <th>1.00</th>\n",
       "      <td>0.000053</td>\n",
       "      <td>0.005395</td>\n",
       "      <td>0.009887</td>\n",
       "    </tr>\n",
       "    <tr>\n",
       "      <th>1.01</th>\n",
       "      <td>0.000054</td>\n",
       "      <td>0.005448</td>\n",
       "      <td>0.009861</td>\n",
       "    </tr>\n",
       "    <tr>\n",
       "      <th>1.02</th>\n",
       "      <td>0.000054</td>\n",
       "      <td>0.005502</td>\n",
       "      <td>0.009834</td>\n",
       "    </tr>\n",
       "    <tr>\n",
       "      <th>1.03</th>\n",
       "      <td>0.000054</td>\n",
       "      <td>0.005556</td>\n",
       "      <td>0.009807</td>\n",
       "    </tr>\n",
       "    <tr>\n",
       "      <th>1.04</th>\n",
       "      <td>0.000055</td>\n",
       "      <td>0.005610</td>\n",
       "      <td>0.009781</td>\n",
       "    </tr>\n",
       "    <tr>\n",
       "      <th>...</th>\n",
       "      <td>...</td>\n",
       "      <td>...</td>\n",
       "      <td>...</td>\n",
       "    </tr>\n",
       "    <tr>\n",
       "      <th>4.95</th>\n",
       "      <td>-0.000016</td>\n",
       "      <td>0.026445</td>\n",
       "      <td>-0.000606</td>\n",
       "    </tr>\n",
       "    <tr>\n",
       "      <th>4.96</th>\n",
       "      <td>-0.000017</td>\n",
       "      <td>0.026498</td>\n",
       "      <td>-0.000633</td>\n",
       "    </tr>\n",
       "    <tr>\n",
       "      <th>4.97</th>\n",
       "      <td>-0.000018</td>\n",
       "      <td>0.026551</td>\n",
       "      <td>-0.000659</td>\n",
       "    </tr>\n",
       "    <tr>\n",
       "      <th>4.98</th>\n",
       "      <td>-0.000018</td>\n",
       "      <td>0.026604</td>\n",
       "      <td>-0.000686</td>\n",
       "    </tr>\n",
       "    <tr>\n",
       "      <th>4.99</th>\n",
       "      <td>-0.000019</td>\n",
       "      <td>0.026657</td>\n",
       "      <td>-0.000712</td>\n",
       "    </tr>\n",
       "  </tbody>\n",
       "</table>\n",
       "<p>400 rows × 3 columns</p>\n",
       "</div>"
      ],
      "text/plain": [
       "              Mean       Std    Sharpe\n",
       "Leverage                              \n",
       "1.00      0.000053  0.005395  0.009887\n",
       "1.01      0.000054  0.005448  0.009861\n",
       "1.02      0.000054  0.005502  0.009834\n",
       "1.03      0.000054  0.005556  0.009807\n",
       "1.04      0.000055  0.005610  0.009781\n",
       "...            ...       ...       ...\n",
       "4.95     -0.000016  0.026445 -0.000606\n",
       "4.96     -0.000017  0.026498 -0.000633\n",
       "4.97     -0.000018  0.026551 -0.000659\n",
       "4.98     -0.000018  0.026604 -0.000686\n",
       "4.99     -0.000019  0.026657 -0.000712\n",
       "\n",
       "[400 rows x 3 columns]"
      ]
     },
     "execution_count": 39,
     "metadata": {},
     "output_type": "execute_result"
    }
   ],
   "source": [
    "results.set_index(\"Leverage\", inplace = True)\n",
    "results"
   ]
  },
  {
   "cell_type": "code",
   "execution_count": 41,
   "id": "bf75bda0",
   "metadata": {},
   "outputs": [
    {
     "data": {
      "text/plain": [
       "array([<Axes: xlabel='Leverage'>, <Axes: xlabel='Leverage'>,\n",
       "       <Axes: xlabel='Leverage'>], dtype=object)"
      ]
     },
     "execution_count": 41,
     "metadata": {},
     "output_type": "execute_result"
    },
    {
     "data": {
      "image/png": "[encoded data removed]",
      "text/plain": [
       "<Figure size 800x550 with 3 Axes>"
      ]
     },
     "metadata": {},
     "output_type": "display_data"
    }
   ],
   "source": [
    "results.plot(subplots = True)"
   ]
  },
  {
   "cell_type": "markdown",
   "id": "813d26ef",
   "metadata": {},
   "source": [
    "- Maximum Return @ Kelly\n",
    "- Sharpe Ratio steadily decreasing with higher leverage\n",
    "- Leverage amplifies losses more than it amplifies gains\n",
    "- Don't use leverage if your goal is to maximise risk-adjusted returns\n",
    "- If you want to increase return/income with leverage it has trade offs\n",
    "**Rule of thumb: leverage shouldn't be higher than Half Kelly.**"
   ]
  },
  {
   "cell_type": "markdown",
   "id": "00b28ac6",
   "metadata": {},
   "source": [
    "## Putting everything together"
   ]
  },
  {
   "cell_type": "code",
   "execution_count": 43,
   "id": "7c0635ec",
   "metadata": {},
   "outputs": [],
   "source": [
    "def kelly_criterion(series): # assuming log returns\n",
    "    series = np.exp(series) - 1\n",
    "    if series.var() == 0:\n",
    "        return np.nan\n",
    "    else:\n",
    "        return series.mean() / series.var()"
   ]
  },
  {
   "cell_type": "code",
   "execution_count": 44,
   "id": "a4d36d79",
   "metadata": {},
   "outputs": [
    {
     "data": {
      "text/plain": [
       "Low_Vol    8.949907\n",
       "USD_GBP    2.316484\n",
       "Random     2.195337\n",
       "Levered    1.007167\n",
       "GBP_USD   -1.343006\n",
       "Neutral         NaN\n",
       "dtype: float64"
      ]
     },
     "execution_count": 44,
     "metadata": {},
     "output_type": "execute_result"
    }
   ],
   "source": [
    "returns.apply(kelly_criterion).sort_values(ascending=False)"
   ]
  },
  {
   "cell_type": "code",
   "execution_count": 45,
   "id": "d3b7fcc3",
   "metadata": {},
   "outputs": [
    {
     "data": {
      "text/plain": [
       "8.949907321352432"
      ]
     },
     "execution_count": 45,
     "metadata": {},
     "output_type": "execute_result"
    }
   ],
   "source": [
    "kelly_criterion(returns.Low_Vol)"
   ]
  },
  {
   "cell_type": "markdown",
   "id": "8cb818dc",
   "metadata": {},
   "source": [
    "Side note: for \"Low_Vol\" it's not a good aproximation because:\n",
    "- majority of daily returns is zero (neutral)\n",
    "- only very few \"real\" observations (non-normal)"
   ]
  },
  {
   "cell_type": "code",
   "execution_count": 47,
   "id": "dc1eb1dd",
   "metadata": {},
   "outputs": [
    {
     "data": {
      "text/plain": [
       " 0.000000    2826\n",
       "-0.001950       1\n",
       " 0.001149       1\n",
       " 0.011488       1\n",
       " 0.001376       1\n",
       "             ... \n",
       " 0.002467       1\n",
       "-0.002912       1\n",
       "-0.005013       1\n",
       " 0.003929       1\n",
       " 0.002567       1\n",
       "Name: Low_Vol, Length: 314, dtype: int64"
      ]
     },
     "execution_count": 47,
     "metadata": {},
     "output_type": "execute_result"
    }
   ],
   "source": [
    "returns.Low_Vol.value_counts()"
   ]
  },
  {
   "cell_type": "code",
   "execution_count": null,
   "id": "48a8bf12",
   "metadata": {},
   "outputs": [],
   "source": []
  }
 ],
 "metadata": {
  "kernelspec": {
   "display_name": "Python 3 (ipykernel)",
   "language": "python",
   "name": "python3"
  },
  "language_info": {
   "codemirror_mode": {
    "name": "ipython",
    "version": 3
   },
   "file_extension": ".py",
   "mimetype": "text/x-python",
   "name": "python",
   "nbconvert_exporter": "python",
   "pygments_lexer": "ipython3",
   "version": "3.10.9"
  }
 },
 "nbformat": 4,
 "nbformat_minor": 5
}
