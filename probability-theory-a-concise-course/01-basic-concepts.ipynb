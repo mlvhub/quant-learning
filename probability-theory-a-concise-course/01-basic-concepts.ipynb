{
 "cells": [
  {
   "cell_type": "markdown",
   "metadata": {},
   "source": [
    "# 1. Basic Concepts"
   ]
  },
  {
   "cell_type": "markdown",
   "metadata": {},
   "source": [
    "## 1.1 Probability and Relative Frequency\n",
    "\n",
    "The event of tossing an unbiased coin is is said to be \"equiprobable\", that is its outcomes are equally likely to happen.\n",
    "\n",
    "The probably of getting heads or getting tails is the same, $\\frac{1}{2}$.\n",
    "\n",
    "But what really is *probability*?\n",
    "\n",
    "Let $A$ denote some event associated with the possible outcomes of the experiment. Then the *probability* $P(A)$ of the event $A$ is defined as the fraction of outcomes in which $A$ occurs:\n",
    "\n",
    "$$\n",
    "P(A) = \\frac{N(A)}{N}\n",
    "\\tag{1.1}\n",
    "$$\n",
    "\n",
    "Where $N$ is the **total** number of outcomes of the experiment and $N(A)$ is the number of outcomes leading to the occurrence of the event $A$.\n"
   ]
  },
  {
   "cell_type": "markdown",
   "metadata": {},
   "source": [
    "**Example 1: well-balanced coin toss**\n",
    "\n",
    "$$\n",
    "A = \\text{Getting heads or tails}\n",
    "\\\\\n",
    "N = 2 \\space \\text{(All outcomes, heads AND tails)}\n",
    "\\\\\n",
    "N(A) = 1 \\space \\text{(Heads OR tails)}\n",
    "\\\\\n",
    "P(A) = \\frac{1}{2}\n",
    "$$"
   ]
  },
  {
   "cell_type": "markdown",
   "metadata": {},
   "source": [
    "**Example 2: a single unbiased die**\n",
    "\n",
    "$$\n",
    "A = \\text{An even number of spots}\n",
    "\\\\\n",
    "N = 6 \\space \\text{(All the die's faces)}\n",
    "\\\\\n",
    "N(A) = 3 \\space \\text{Faces with even number of spots}\n",
    "\\\\\n",
    "P(A) = \\frac{3}{6} = \\frac{1}{2}\n",
    "$$"
   ]
  },
  {
   "cell_type": "markdown",
   "metadata": {},
   "source": [
    "**Example 3: throwing a pair of dice**\n",
    "\n",
    "$$\n",
    "A = \\text{Both dice show the same number of spots}\n",
    "\\\\\n",
    "N = 6 * 6 = 36 \\space \\text{(The combination of both dice's faces)}\n",
    "\\\\\n",
    "N(A) = 6 \\space \\text{The combination of both dice's having the same spots}\n",
    "\\\\\n",
    "P(A) = \\frac{6}{36} = \\frac{1}{6}\n",
    "$$"
   ]
  },
  {
   "cell_type": "markdown",
   "metadata": {},
   "source": [
    "Relative frequency of event $A$ (in a given series of trials):\n",
    "\n",
    "$$\n",
    "\\frac{n(A)}{n}\n",
    "$$\n",
    "\n",
    "Where:\n",
    "\n",
    "$$\n",
    "n: \\text{total number of experiments}\n",
    "\\\\\n",
    "n(A): \\text{number of experiments in which }A\\text{ occurs}\n",
    "$$"
   ]
  },
  {
   "cell_type": "markdown",
   "metadata": {},
   "source": [
    "Probability of event A:\n",
    "\n",
    "$$\n",
    "P(A) = \\lim\\limits_{n\\rightarrow\\infty} \\frac{n(A)}{n}\n",
    "\\tag{1.3}\n",
    "$$\n",
    "\n",
    "Meaning, for a large series of trials (large $n$) the probability of event A is the same as the fraction of experiments leading to the occurence of $A$."
   ]
  },
  {
   "cell_type": "markdown",
   "metadata": {
    "vscode": {
     "languageId": "plaintext"
    }
   },
   "source": [
    "## 1.2 Rudiments of Combinatorial Analysis \n"
   ]
  },
  {
   "cell_type": "markdown",
   "metadata": {},
   "source": [
    "**Theorem 1.1**\n",
    "\n",
    "Given $n_1$ elements $a_1, a_2, \\dots, a_{n_1}$ and $n_2$ elements $b_1, b_2, \\dots, b_{n_2}$, there are precisely $n_1n_2$ distinct ordered pairs $(a_i, b_j)$ containing one element of each kind."
   ]
  },
  {
   "cell_type": "code",
   "execution_count": 3,
   "metadata": {},
   "outputs": [
    {
     "data": {
      "text/plain": [
       "True"
      ]
     },
     "execution_count": 3,
     "metadata": {},
     "output_type": "execute_result"
    }
   ],
   "source": [
    "import numpy as np\n",
    "\n",
    "n1 = 3\n",
    "n2 = 6\n",
    "\n",
    "a = np.random.randn(n1)\n",
    "b = np.random.randn(n2)\n",
    "\n",
    "pairs = []\n",
    "for a_i in a:\n",
    "    for b_j in b:\n",
    "        pairs.append((a_i, b_j))\n",
    "\n",
    "len(pairs) == n1*n2"
   ]
  },
  {
   "cell_type": "markdown",
   "metadata": {},
   "source": [
    "**Theorem 1.2**\n",
    "\n",
    "More generally, given $n_1$ elements $a_1, a_2, \\dots, a_{n_1}$, $n_2$ elements $b_1, b_2, \\dots, b_{n_2}$, up to $n_r$ elements $x_1, x_2, \\dots, x_{n_r}$, there are precisely $n_1 n_2 \\dots n_r$ distinct ordered r-tuples $(a_i, b_j, \\dots, x_{i_r})$ containing one element of each kind."
   ]
  },
  {
   "cell_type": "markdown",
   "metadata": {},
   "source": [
    "**Example 1: what is the probability of getting three sixes in a throw of three dice?**\n",
    "\n",
    "$$\n",
    "A = \\text{Three sixes}\n",
    "\\\\\n",
    "N = 6 * 6 * 6 = 216 \\space \\text{(The combination of all the dice's faces)}\n",
    "\\\\\n",
    "N(A) = 1 \\space \\text{(A combination of three sixes)}\n",
    "\\\\\n",
    "P(A) = \\frac{1}{216} = 0.462962962\\%\n",
    "$$"
   ]
  },
  {
   "cell_type": "markdown",
   "metadata": {},
   "source": [
    "**Example 2: sampling with replacement**\n",
    "\n",
    "Suppose we choose $r$ objects in succession from a \"population\" (i.e. \"set\") of $n$ distinct objects $a_1, a_2, \\dots, a_n$, in such a way that after choosing each object and recording the choice, we return the object to the population before making the next choice.\n",
    "\n",
    "This gives us an ordered sample of the form:\n",
    "\n",
    "$$\n",
    "(a_{i_1}, a_{i_2}, \\dots, a_{i_r})\n",
    "\\tag{1.4}\n",
    "$$\n",
    "\n",
    "Setting $n_1 = n_2 = \\dots = n_r = n$ in Theorem 1.2 we find that there are precisely\n",
    "\n",
    "$$\n",
    "N = n^r\n",
    "\\tag{1.5}\n",
    "$$\n",
    "\n",
    "distinct ordered samples of the form:\n",
    "\n",
    "$$\n",
    "(a_{i_1}, a_{i_2}, \\dots, a_{i_r})\n",
    "$$"
   ]
  },
  {
   "cell_type": "markdown",
   "metadata": {},
   "source": [
    "**Example 3: sampling without replacement**\n",
    "\n",
    "Next, suppose we choose $r$ objects in succession from a population of $n$ distinct objects $a_1, a_2, \\dots, a_n$, in such a way that an object once chosen is removed from the population.\n",
    "\n",
    "Then, we again get an ordered sample of the form\n",
    "\n",
    "$$\n",
    "(a_{i_1}, a_{i_2}, \\dots, a_{i_r})\n",
    "$$\n",
    "\n",
    "but now there are $n - 1$ objects left after the first choice, $n - 2$ objects left after the second choice, and so on. Clearlu this corresponds to setting:\n",
    "\n",
    "$$\n",
    "n_1 = n, n_2 = n - 1, \\dots, n_r = n - r + 1\n",
    "$$\n",
    "\n",
    "in Theorem 1.2.\n",
    "\n",
    "Hence, instead of $n^r$ distinct samples as in the case of sampling with replacement, there are now only\n",
    "\n",
    "$$\n",
    "N = n(n - 1) \\dots (n - r + 1)\n",
    "\\tag{1.6}\n",
    "$$\n",
    "\n",
    "distinct samples.\n",
    "\n",
    "If $r = n$ then the above reduces to\n",
    "\n",
    "$$\n",
    "N = n(n - 1) \\dots 2 \\cdot 1 = n!\n",
    "\\tag{1.7}\n",
    "$$\n",
    "\n",
    "being the total number of permutations of $n$ objects."
   ]
  },
  {
   "cell_type": "markdown",
   "metadata": {},
   "source": [
    "**Example 4**\n",
    "\n",
    "[See page 6]"
   ]
  },
  {
   "cell_type": "markdown",
   "metadata": {},
   "source": [
    "**Example 5**\n",
    "\n",
    "A subway train made up of $n$ cars is boarded by $r$ passengers $(r \\leq n)$, each entering a car completely at random. \n",
    "\n",
    "What is the probability of the passengers all ending up in different cars?\n",
    "\n",
    "---\n",
    "Every car has the same probability of being entered by a passenger.\n",
    "\n",
    "Every choice for a passenger includes all cars (sampling with replacement), therefore:\n",
    "\n",
    "$$\n",
    "N = n^r\n",
    "$$\n",
    "\n",
    "However, for $A$ to happen, every passenger loses the option of entering the previous passenger's car (sampling without replacement), therefore:\n",
    "\n",
    "$$\n",
    "N(A) = n(n - 1) \\cdots (n - 1 + 1)\n",
    "$$\n",
    "\n",
    "Therefore,the probability of $A$ occurring is given by:\n",
    "\n",
    "$$\n",
    "P(A) = \\frac{n(n - 1) \\cdots (n - 1 + 1)}{n^r}\n",
    "$$"
   ]
  },
  {
   "cell_type": "markdown",
   "metadata": {},
   "source": [
    "**Theorem 1.3**\n",
    "\n",
    "A population of $n$ elements has precisely\n",
    "\n",
    "$$\n",
    "C_r^n = \\frac{n!}{r!(n - r)!}\n",
    "\\tag{1.8}\n",
    "$$\n",
    "\n",
    "subpopulations of size $r \\leq n$.\n",
    "\n",
    "> An expression of the form (1.8) is called a *binomial coefficient*, often denoted by $\\begin{pmatrix}n\\\\r\\end{pmatrix}$ instead of $C_r^n$.\n",
    "\n",
    "The number $C_r^n$ is sometimes called the *number of combinations of $n$ things taken $r$ at a time* (without regard for order)."
   ]
  },
  {
   "cell_type": "markdown",
   "metadata": {},
   "source": [
    "**Theorem 1.4**\n",
    "\n",
    "A generalisation of Theorem 1.3:\n",
    "\n",
    "Given a population of $n$ elements, let $n_1, n_2, \\cdots, n_k$ be positive integers such that\n",
    "\n",
    "$$\n",
    "n_1 + n_2 + \\cdots + n_k = n\n",
    "$$\n",
    "\n",
    "Then there are precisely\n",
    "\n",
    "$$\n",
    "N = \\frac{n!}{n_1! \\space n_2! \\cdots n_k!}\n",
    "\\tag{1.9}\n",
    "$$\n",
    "\n",
    "ways of partitioning the population into $k$ subpopulations, of sizes $n_1, n_2, \\cdots, n_k$, respectively.\n",
    "\n"
   ]
  },
  {
   "cell_type": "markdown",
   "metadata": {},
   "source": [
    "**Example 6: quality control**\n",
    "\n",
    "A batch of 100 manufactured items is checked by an inspector, who examines 10 items selected at random. If none of the 10 items is defective, he accepts the whole batch. Otherwise,  the batch is subjected to further inspection.\n",
    "\n",
    "What is the probability that a batch containing 10 defective items will be accepted?\n",
    "\n",
    "---\n",
    "\n",
    "The number of ways of selecting 10 items out of a batch of 100 items equals the number of combinations of 100 things taken 10 at a time, which is given by (1.8):\n",
    "\n",
    "$$\n",
    "N = C_{10}^{100} = \\frac{100!}{10! \\space 90!}\n",
    "$$\n",
    "\n",
    "By hypothesis, these combinations are all equiprobable.\n",
    "\n",
    "Let $A$ be the event that \"the batch of items accepted by the inspector\". Then $A$ occurs whenever all 10 items belong to the set of 90 items of acceptable quality. Hence the number of combinations favorable to $A$ is\n",
    "\n",
    "$$\n",
    "N(A) = C_{10}^{90} = \\frac{90!}{10! \\space 80!}\n",
    "$$\n",
    "\n",
    "Then, from (1.1) the probability of event $A$, i.e. a batch containing 10 defective items will be accepted, equals\n",
    "\n",
    "$$\n",
    "P(A) = \\frac{N(A)}{N} = \\frac{90!}{80!} \\frac{90!}{100!} = \\frac{81 \\cdot 82 \\cdots 90}{91 \\cdot 92 \\cdots 100} \\approx (1 - \\frac{1}{10})^{10} \\approx \\frac{1}{e}\n",
    "$$"
   ]
  },
  {
   "cell_type": "markdown",
   "metadata": {},
   "source": [
    "**Example 7**\n",
    "\n",
    "What is the probability that two playing cards picked at random from a full deck are both aces?\n",
    "\n",
    "---\n",
    "My solution:\n",
    "\n",
    "$$\n",
    "N = C_2^{52} = \\frac{52!}{2! \\space 50!}\n",
    "$$\n",
    "\n",
    "$$\n",
    "N(A) = C_2^{4} = \\frac{4!}{2! \\space 2!}\n",
    "$$\n",
    "\n",
    "$$\n",
    "P(A) = \\frac{N(A)}{N} = \\frac{\\frac{4!}{2! \\space 2!}}{\\frac{52!}{2! \\space 50!}} = \\frac{4! \\space 2! \\space 50!}{2! \\space 2! \\space 52!} = \\frac{1}{221} \\approx 0.452\\%\n",
    "$$"
   ]
  },
  {
   "cell_type": "markdown",
   "metadata": {},
   "source": []
  }
 ],
 "metadata": {
  "kernelspec": {
   "display_name": "Python 3 (ipykernel)",
   "language": "python",
   "name": "python3"
  }
 },
 "nbformat": 4,
 "nbformat_minor": 2
}
