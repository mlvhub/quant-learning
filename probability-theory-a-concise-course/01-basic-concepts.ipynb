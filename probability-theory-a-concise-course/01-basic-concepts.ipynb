{
 "cells": [
  {
   "cell_type": "markdown",
   "metadata": {},
   "source": [
    "# 1. Basic Concepts"
   ]
  },
  {
   "cell_type": "markdown",
   "metadata": {},
   "source": [
    "## 1.1 Probability and Relative Frequency\n",
    "\n",
    "The event of tossing an unbiased coin is is said to be \"equiprobable\", that is its outcomes are equally likely to happen.\n",
    "\n",
    "The probably of getting heads or getting tails is the same, $\\frac{1}{2}$.\n",
    "\n",
    "But what really is *probability*?\n",
    "\n",
    "Let $A$ denote some event associated with the possible outcomes of the experiment. Then the *probability* $P(A)$ of the event $A$ is defined as the fraction of outcomes in which $A$ occurs:\n",
    "\n",
    "$$\n",
    "P(A) = \\frac{N(A)}{N}\n",
    "$$\n",
    "\n",
    "Where $N$ is the **total** number of outcomes of the experiment and $N(A)$ is the number of outcomes leading to the occurrence of the event $A$.\n"
   ]
  },
  {
   "cell_type": "markdown",
   "metadata": {},
   "source": [
    "**Example 1: well-balanced coin toss**\n",
    "\n",
    "$$\n",
    "A = \\text{Getting heads or tails}\n",
    "\\\\\n",
    "N = 2 \\space \\text{(All outcomes, heads AND tails)}\n",
    "\\\\\n",
    "N(A) = 1 \\space \\text{(Heads OR tails)}\n",
    "\\\\\n",
    "P(A) = \\frac{1}{2}\n",
    "$$"
   ]
  },
  {
   "cell_type": "markdown",
   "metadata": {},
   "source": [
    "**Example 2: a single unbiased die**\n",
    "\n",
    "$$\n",
    "A = \\text{An even number of spots}\n",
    "\\\\\n",
    "N = 6 \\space \\text{(All the die's faces)}\n",
    "\\\\\n",
    "N(A) = 3 \\space \\text{Faces with even number of spots}\n",
    "\\\\\n",
    "P(A) = \\frac{3}{6} = \\frac{1}{2}\n",
    "$$"
   ]
  },
  {
   "cell_type": "markdown",
   "metadata": {},
   "source": [
    "**Example 3: throwing a pair of dice**\n",
    "\n",
    "$$\n",
    "A = \\text{Both dice show the same number of spots}\n",
    "\\\\\n",
    "N = 6 * 6 = 36 \\space \\text{(The combination of both dice's faces)}\n",
    "\\\\\n",
    "N(A) = 6 \\space \\text{The combination of both dice's having the same spots}\n",
    "\\\\\n",
    "P(A) = \\frac{6}{36} = \\frac{1}{6}\n",
    "$$"
   ]
  },
  {
   "cell_type": "markdown",
   "metadata": {},
   "source": [
    "Relative frequency of event $A$ (in a given series of trials):\n",
    "\n",
    "$$\n",
    "\\frac{n(A)}{n}\n",
    "$$\n",
    "\n",
    "Where:\n",
    "\n",
    "$$\n",
    "n: \\text{total number of experiments}\n",
    "\\\\\n",
    "n(A): \\text{number of experiments in which }A\\text{ occurs}\n",
    "$$"
   ]
  },
  {
   "cell_type": "markdown",
   "metadata": {},
   "source": [
    "Probability of event A:\n",
    "\n",
    "$$\n",
    "P(A) = \\lim\\limits_{n\\rightarrow\\infty} \\frac{n(A)}{n}\n",
    "$$\n",
    "\n",
    "Meaning, for a large series of trials (large $n$) the probability of event A is the same as the fraction of experiments leading to the occurence of $A$."
   ]
  },
  {
   "cell_type": "markdown",
   "metadata": {
    "vscode": {
     "languageId": "plaintext"
    }
   },
   "source": [
    "## 1.2 Rudiments of Combinatorial Analysis \n",
    "\n",
    "### Theorem 1.1\n",
    "\n",
    "Given $n_1$ elements $a_1, a_2, \\dots, a_{n_1}$ and $n_2$ elements $b_1, b_2, \\dots, b_{n_2}$, there are precisely $n_1n_2$ distinct ordered pairs $(a_i, b_j)$ containing one element of each kind."
   ]
  },
  {
   "cell_type": "code",
   "execution_count": 3,
   "metadata": {},
   "outputs": [
    {
     "data": {
      "text/plain": [
       "True"
      ]
     },
     "execution_count": 3,
     "metadata": {},
     "output_type": "execute_result"
    }
   ],
   "source": [
    "import numpy as np\n",
    "\n",
    "n1 = 3\n",
    "n2 = 6\n",
    "\n",
    "a = np.random.randn(n1)\n",
    "b = np.random.randn(n2)\n",
    "\n",
    "pairs = []\n",
    "for a_i in a:\n",
    "    for b_j in b:\n",
    "        pairs.append((a_i, b_j))\n",
    "\n",
    "len(pairs) == n1*n2"
   ]
  },
  {
   "cell_type": "markdown",
   "metadata": {},
   "source": [
    "### Theorem 1.2\n",
    "\n",
    "More generally, given $n_1$ elements $a_1, a_2, \\dots, a_{n_1}$, $n_2$ elements $b_1, b_2, \\dots, b_{n_2}$, up to $n_r$ elements $x_1, x_2, \\dots, x_{n_r}$, there are precisely $n_1 n_2 \\dots n_r$ distinct ordered r-tuples $(a_i, b_j, \\dots, x_{i_r})$ containing one element of each kind."
   ]
  },
  {
   "cell_type": "markdown",
   "metadata": {},
   "source": [
    "**Example 1: what is the probability of getting three sixes in a throw of three dice?**\n",
    "\n",
    "$$\n",
    "A = \\text{Three sixes}\n",
    "\\\\\n",
    "N = 6 * 6 * 6 = 216 \\space \\text{(The combination of all the dice's faces)}\n",
    "\\\\\n",
    "N(A) = 1 \\space \\text{(A combination of three sixes)}\n",
    "\\\\\n",
    "P(A) = \\frac{1}{216} = 0.462962962\\%\n",
    "$$"
   ]
  },
  {
   "cell_type": "markdown",
   "metadata": {},
   "source": [
    "**Example 2: sampling with replacement**\n",
    "\n",
    "Suppose we choose $r$ objects in succession from a \"population\" (i.e. \"set\") of $n$ distinct objects $a_1, a_2, \\dots, a_n$, in such a way that after choosing each object and recording the choice, we return the object to the population before making the next choice.\n",
    "\n",
    "This gives us an ordered sample of the form:\n",
    "\n",
    "$$\n",
    "(a_{i_1}, a_{i_2}, \\dots, a_{i_r})\n",
    "$$\n",
    "\n",
    "Setting $n_1 = n_2 = \\dots = n_r = n$ in Theorem 1.2 we find that there are precisely\n",
    "\n",
    "$$\n",
    "N = n^r\n",
    "$$\n",
    "\n",
    "distinct ordered samples of the form:\n",
    "\n",
    "$$\n",
    "(a_{i_1}, a_{i_2}, \\dots, a_{i_r})\n",
    "$$"
   ]
  },
  {
   "cell_type": "markdown",
   "metadata": {},
   "source": [
    "**Example 3: sampling without replacement**\n",
    "\n",
    "Next, suppose we choose $r$ objects in succession from a population of $n$ distinct objects $a_1, a_2, \\dots, a_n$, in such a way that an object once chosen is removed from the population.\n",
    "\n",
    "Then, we again get an ordered sample of the form\n",
    "\n",
    "$$\n",
    "(a_{i_1}, a_{i_2}, \\dots, a_{i_r})\n",
    "$$\n",
    "\n",
    "but now there are $n - 1$ objects left after the first choice, $n - 2$ objects left after the second choice, and so on. Clearlu this corresponds to setting:\n",
    "\n",
    "$$\n",
    "n_1 = n, n_2 = n - 1, \\dots, n_r = n - r + 1\n",
    "$$\n",
    "\n",
    "in Theorem 1.2.\n",
    "\n",
    "Hence, instead of $n^r$ distinct samples as in the case of sampling with replacement, there are now only\n",
    "\n",
    "$$\n",
    "N = n(n - 1) \\dots (n - r + 1)\n",
    "$$\n",
    "\n",
    "distinct samples.\n",
    "\n",
    "If $r = n$ then the above reduces to\n",
    "\n",
    "$$\n",
    "N = n(n - 1) \\dots 2 \\cdot 1 = n!\n",
    "$$\n",
    "\n",
    "being the total number of permutations of $n$ objects."
   ]
  },
  {
   "cell_type": "markdown",
   "metadata": {},
   "source": [
    "**Example 4**\n",
    "\n",
    "[See page 6]"
   ]
  },
  {
   "cell_type": "markdown",
   "metadata": {},
   "source": [
    "**Example 5**\n",
    "\n",
    "A subway train made up of $n$ cars is boarded by $r$ passengers $(r \\leq n)$, each entering a car completely at random. \n",
    "\n",
    "What is the probability of the passengers all ending up in different cars?\n",
    "\n",
    "---\n",
    "Every car has the same probability of being entered by a passenger.\n",
    "\n",
    "Every choice for a passenger includes all cars (sampling with replacement), therefore:\n",
    "\n",
    "$$\n",
    "N = n^r\n",
    "$$\n",
    "\n",
    "However, for $A$ to happen, every passenger loses the option of entering the previous passenger's car (sampling without replacement), therefore:\n",
    "\n",
    "$$\n",
    "N(A) = n(n - 1) \\cdots (n - 1 + 1)\n",
    "$$\n",
    "\n",
    "Therefore,the probability of $A$ occurring is given by:\n",
    "\n",
    "$$\n",
    "P(A) = \\frac{n(n - 1) \\cdots (n - 1 + 1)}{n^r}\n",
    "$$"
   ]
  },
  {
   "cell_type": "markdown",
   "metadata": {},
   "source": [
    "### Theorem 1.3\n",
    "\n"
   ]
  },
  {
   "cell_type": "markdown",
   "metadata": {},
   "source": []
  }
 ],
 "metadata": {
  "kernelspec": {
   "display_name": "Python 3 (ipykernel)",
   "language": "python",
   "name": "python3"
  }
 },
 "nbformat": 4,
 "nbformat_minor": 2
}
