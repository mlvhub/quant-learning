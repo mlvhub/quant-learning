{
 "cells": [
  {
   "cell_type": "markdown",
   "metadata": {},
   "source": [
    "# 1. Basic Concepts"
   ]
  },
  {
   "cell_type": "markdown",
   "metadata": {},
   "source": [
    "## 1.1 Probability and Relative Frequency\n",
    "\n",
    "The event of tossing an unbiased coin is is said to be \"equiprobable\", that is its outcomes are equally likely to happen.\n",
    "\n",
    "The probably of getting heads or getting tails is the same, $\\frac{1}{2}$.\n",
    "\n",
    "But what really is *probability*?\n",
    "\n",
    "Let $A$ denote some event associated with the possible outcomes of the experiment. Then the *probability* $P(A)$ of the event $A$ is defined as the fraction of outcomes in which $A$ occurs:\n",
    "\n",
    "$$\n",
    "P(A) = \\frac{N(A)}{N}\n",
    "$$\n",
    "\n",
    "Where $N$ is the **total** number of outcomes of the experiment and $N(A)$ is the number of outcomes leading to the occurrence of the event $A$.\n"
   ]
  },
  {
   "cell_type": "markdown",
   "metadata": {},
   "source": [
    "**Example 1: well-balanced coin toss**\n",
    "\n",
    "$$\n",
    "A = \\text{Getting heads or tails}\n",
    "\\\\\n",
    "N = 2 \\space \\text{(All outcomes, heads AND tails)}\n",
    "\\\\\n",
    "N(A) = 1 \\space \\text{(Heads OR tails)}\n",
    "\\\\\n",
    "P(A) = \\frac{1}{2}\n",
    "$$"
   ]
  },
  {
   "cell_type": "markdown",
   "metadata": {},
   "source": [
    "**Example 2: a single unbiased die**\n",
    "\n",
    "$$\n",
    "A = \\text{An even number of spots}\n",
    "\\\\\n",
    "N = 6 \\space \\text{(All the die's faces)}\n",
    "\\\\\n",
    "N(A) = 3 \\space \\text{Faces with even number of spots}\n",
    "\\\\\n",
    "P(A) = \\frac{3}{6} = \\frac{1}{2}\n",
    "$$"
   ]
  },
  {
   "cell_type": "markdown",
   "metadata": {},
   "source": [
    "**Example 3: throwing a pair of dice**\n",
    "\n",
    "$$\n",
    "A = \\text{Both dice show the same number of spots}\n",
    "\\\\\n",
    "N = 6 * 6 = 36 \\space \\text{(The combination of both dice's faces)}\n",
    "\\\\\n",
    "N(A) = 6 \\space \\text{The combination of both dice's having the same spots}\n",
    "\\\\\n",
    "P(A) = \\frac{6}{36} = \\frac{1}{6}\n",
    "$$"
   ]
  },
  {
   "cell_type": "markdown",
   "metadata": {},
   "source": [
    "Relative frequency of event $A$ (in a given series of trials):\n",
    "\n",
    "$$\n",
    "\\frac{n(A)}{n}\n",
    "$$\n",
    "\n",
    "Where:\n",
    "\n",
    "$$\n",
    "n: \\text{total number of experiments}\n",
    "\\\\\n",
    "n(A): \\text{number of experiments in which }A\\text{ occurs}\n",
    "$$"
   ]
  },
  {
   "cell_type": "markdown",
   "metadata": {},
   "source": [
    "Probability of event A:\n",
    "\n",
    "$$\n",
    "P(A) = \\lim\\limits_{n\\rightarrow\\infty} \\frac{n(A)}{n}\n",
    "$$\n",
    "\n",
    "Meaning, for a large series of trials (large $n$) the probability of event A is the same as the fraction of experiments leading to the occurence of $A$."
   ]
  },
  {
   "cell_type": "code",
   "execution_count": null,
   "metadata": {
    "vscode": {
     "languageId": "plaintext"
    }
   },
   "outputs": [],
   "source": [
    "## 1.2 Rudiments of Combinatorial Analysis "
   ]
  },
  {
   "cell_type": "code",
   "execution_count": null,
   "metadata": {
    "vscode": {
     "languageId": "plaintext"
    }
   },
   "outputs": [],
   "source": []
  }
 ],
 "metadata": {
  "kernelspec": {
   "display_name": "Python 3 (ipykernel)",
   "language": "python",
   "name": "python3"
  },
  "language_info": {
   "codemirror_mode": {
    "name": "ipython",
    "version": 3
   },
   "file_extension": ".py",
   "mimetype": "text/x-python",
   "name": "python",
   "nbconvert_exporter": "python",
   "pygments_lexer": "ipython3",
   "version": "3.10.9"
  }
 },
 "nbformat": 4,
 "nbformat_minor": 2
}
