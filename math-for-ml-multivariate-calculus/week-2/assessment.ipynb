{
 "cells": [
  {
   "cell_type": "code",
   "execution_count": 2,
   "metadata": {},
   "outputs": [],
   "source": [
    "from sympy import *"
   ]
  },
  {
   "cell_type": "markdown",
   "metadata": {},
   "source": [
    "## 1."
   ]
  },
  {
   "cell_type": "code",
   "execution_count": 3,
   "metadata": {},
   "outputs": [
    {
     "data": {
      "text/latex": [
       "$\\displaystyle \\left[\\begin{matrix}2 x \\cos{\\left(y \\right)} & - x^{2} \\sin{\\left(y \\right)} + e^{z} \\cos{\\left(y \\right)} & e^{z} \\sin{\\left(y \\right)}\\end{matrix}\\right]$"
      ],
      "text/plain": [
       "Matrix([[2*x*cos(y), -x**2*sin(y) + exp(z)*cos(y), exp(z)*sin(y)]])"
      ]
     },
     "execution_count": 3,
     "metadata": {},
     "output_type": "execute_result"
    }
   ],
   "source": [
    "x, y, z = symbols('x, y, z')\n",
    "\n",
    "X = Matrix([x**2 * cos(y) + exp(z)*sin(y)])\n",
    "Y = Matrix([x, y, z])\n",
    "J = X.jacobian(Y)\n",
    "J"
   ]
  },
  {
   "cell_type": "code",
   "execution_count": 4,
   "metadata": {},
   "outputs": [
    {
     "data": {
      "text/latex": [
       "$\\displaystyle \\left[\\begin{matrix}- 2 \\pi & - e & 0\\end{matrix}\\right]$"
      ],
      "text/plain": [
       "Matrix([[-2*pi, -E, 0]])"
      ]
     },
     "execution_count": 4,
     "metadata": {},
     "output_type": "execute_result"
    }
   ],
   "source": [
    "J.subs({x: pi, y: pi, z: 1})"
   ]
  },
  {
   "cell_type": "markdown",
   "metadata": {},
   "source": [
    "## 2."
   ]
  },
  {
   "cell_type": "code",
   "execution_count": 5,
   "metadata": {},
   "outputs": [
    {
     "data": {
      "text/latex": [
       "$\\displaystyle \\left[\\begin{matrix}2 x y + \\sin{\\left(x \\right)} \\sin{\\left(y \\right)} & x^{2} - \\cos{\\left(x \\right)} \\cos{\\left(y \\right)}\\\\e^{x + y} & e^{x + y}\\end{matrix}\\right]$"
      ],
      "text/plain": [
       "Matrix([\n",
       "[2*x*y + sin(x)*sin(y), x**2 - cos(x)*cos(y)],\n",
       "[           exp(x + y),           exp(x + y)]])"
      ]
     },
     "execution_count": 5,
     "metadata": {},
     "output_type": "execute_result"
    }
   ],
   "source": [
    "x, y, z = symbols('x, y, z')\n",
    "\n",
    "X = Matrix([x**2 * y - cos(x)*sin(y), exp(x+y)])\n",
    "Y = Matrix([x, y])\n",
    "J = X.jacobian(Y)\n",
    "J"
   ]
  },
  {
   "cell_type": "code",
   "execution_count": 6,
   "metadata": {},
   "outputs": [
    {
     "data": {
      "text/latex": [
       "$\\displaystyle \\left[\\begin{matrix}0 & 1\\\\e^{\\pi} & e^{\\pi}\\end{matrix}\\right]$"
      ],
      "text/plain": [
       "Matrix([\n",
       "[      0,       1],\n",
       "[exp(pi), exp(pi)]])"
      ]
     },
     "execution_count": 6,
     "metadata": {},
     "output_type": "execute_result"
    }
   ],
   "source": [
    "J.subs({x: 0, y: pi})"
   ]
  },
  {
   "cell_type": "markdown",
   "metadata": {},
   "source": [
    "## 3."
   ]
  },
  {
   "cell_type": "code",
   "execution_count": 8,
   "metadata": {},
   "outputs": [
    {
     "data": {
      "text/latex": [
       "$\\displaystyle \\left[\\begin{matrix}6 x \\cos{\\left(y \\right)} & - 3 x^{2} \\sin{\\left(y \\right)} - \\cos{\\left(y \\right)}\\\\- 3 x^{2} \\sin{\\left(y \\right)} - \\cos{\\left(y \\right)} & - x^{3} \\cos{\\left(y \\right)} + x \\sin{\\left(y \\right)}\\end{matrix}\\right]$"
      ],
      "text/plain": [
       "Matrix([\n",
       "[             6*x*cos(y), -3*x**2*sin(y) - cos(y)],\n",
       "[-3*x**2*sin(y) - cos(y), -x**3*cos(y) + x*sin(y)]])"
      ]
     },
     "execution_count": 8,
     "metadata": {},
     "output_type": "execute_result"
    }
   ],
   "source": [
    "x, y, z = symbols('x, y, z')\n",
    "\n",
    "X = Matrix([x**3*cos(y) - x*sin(y)])\n",
    "Y = Matrix([x, y])\n",
    "H = X.jacobian(Y).jacobian(Y)\n",
    "H"
   ]
  },
  {
   "cell_type": "markdown",
   "metadata": {},
   "source": [
    "## 4."
   ]
  },
  {
   "cell_type": "code",
   "execution_count": 9,
   "metadata": {},
   "outputs": [
    {
     "data": {
      "text/latex": [
       "$\\displaystyle \\left[\\begin{matrix}z^{3} e^{x} & 1 & 3 z^{2} e^{x}\\\\1 & - \\sin{\\left(y \\right)} \\sin{\\left(z \\right)} & \\cos{\\left(y \\right)} \\cos{\\left(z \\right)}\\\\3 z^{2} e^{x} & \\cos{\\left(y \\right)} \\cos{\\left(z \\right)} & 6 z e^{x} - \\sin{\\left(y \\right)} \\sin{\\left(z \\right)}\\end{matrix}\\right]$"
      ],
      "text/plain": [
       "Matrix([\n",
       "[  z**3*exp(x),              1,              3*z**2*exp(x)],\n",
       "[            1, -sin(y)*sin(z),              cos(y)*cos(z)],\n",
       "[3*z**2*exp(x),  cos(y)*cos(z), 6*z*exp(x) - sin(y)*sin(z)]])"
      ]
     },
     "execution_count": 9,
     "metadata": {},
     "output_type": "execute_result"
    }
   ],
   "source": [
    "x, y, z = symbols('x, y, z')\n",
    "\n",
    "X = Matrix([x*y + sin(y)*sin(z) + z**3*exp(x)])\n",
    "Y = Matrix([x, y, z])\n",
    "H = X.jacobian(Y).jacobian(Y)\n",
    "H"
   ]
  },
  {
   "cell_type": "markdown",
   "metadata": {},
   "source": [
    "## 5."
   ]
  },
  {
   "cell_type": "code",
   "execution_count": 10,
   "metadata": {},
   "outputs": [
    {
     "data": {
      "text/latex": [
       "$\\displaystyle \\left[\\begin{matrix}x z^{3} e^{y} \\sin{\\left(x \\right)} - 2 z^{3} e^{y} \\cos{\\left(x \\right)} & - x z^{3} e^{y} \\cos{\\left(x \\right)} - z^{3} e^{y} \\sin{\\left(x \\right)} + \\cos{\\left(z \\right)} & - 3 x z^{2} e^{y} \\cos{\\left(x \\right)} - y \\sin{\\left(z \\right)} - 3 z^{2} e^{y} \\sin{\\left(x \\right)}\\\\- x z^{3} e^{y} \\cos{\\left(x \\right)} - z^{3} e^{y} \\sin{\\left(x \\right)} + \\cos{\\left(z \\right)} & - x z^{3} e^{y} \\sin{\\left(x \\right)} & - 3 x z^{2} e^{y} \\sin{\\left(x \\right)} - x \\sin{\\left(z \\right)}\\\\- 3 x z^{2} e^{y} \\cos{\\left(x \\right)} - y \\sin{\\left(z \\right)} - 3 z^{2} e^{y} \\sin{\\left(x \\right)} & - 3 x z^{2} e^{y} \\sin{\\left(x \\right)} - x \\sin{\\left(z \\right)} & - x y \\cos{\\left(z \\right)} - 6 x z e^{y} \\sin{\\left(x \\right)}\\end{matrix}\\right]$"
      ],
      "text/plain": [
       "Matrix([\n",
       "[              x*z**3*exp(y)*sin(x) - 2*z**3*exp(y)*cos(x), -x*z**3*exp(y)*cos(x) - z**3*exp(y)*sin(x) + cos(z), -3*x*z**2*exp(y)*cos(x) - y*sin(z) - 3*z**2*exp(y)*sin(x)],\n",
       "[      -x*z**3*exp(y)*cos(x) - z**3*exp(y)*sin(x) + cos(z),                               -x*z**3*exp(y)*sin(x),                        -3*x*z**2*exp(y)*sin(x) - x*sin(z)],\n",
       "[-3*x*z**2*exp(y)*cos(x) - y*sin(z) - 3*z**2*exp(y)*sin(x),                  -3*x*z**2*exp(y)*sin(x) - x*sin(z),                         -x*y*cos(z) - 6*x*z*exp(y)*sin(x)]])"
      ]
     },
     "execution_count": 10,
     "metadata": {},
     "output_type": "execute_result"
    }
   ],
   "source": [
    "x, y, z = symbols('x, y, z')\n",
    "\n",
    "X = Matrix([x*y*cos(z) - sin(x)*exp(y)*x*z**3])\n",
    "Y = Matrix([x, y, z])\n",
    "H = X.jacobian(Y).jacobian(Y)\n",
    "H"
   ]
  },
  {
   "cell_type": "code",
   "execution_count": 11,
   "metadata": {},
   "outputs": [
    {
     "data": {
      "text/latex": [
       "$\\displaystyle \\left[\\begin{matrix}0 & 1 & 0\\\\1 & 0 & 0\\\\0 & 0 & 0\\end{matrix}\\right]$"
      ],
      "text/plain": [
       "Matrix([\n",
       "[0, 1, 0],\n",
       "[1, 0, 0],\n",
       "[0, 0, 0]])"
      ]
     },
     "execution_count": 11,
     "metadata": {},
     "output_type": "execute_result"
    }
   ],
   "source": [
    "H.subs({x: 0, y: 0, z: 0})"
   ]
  },
  {
   "cell_type": "code",
   "execution_count": null,
   "metadata": {},
   "outputs": [],
   "source": []
  }
 ],
 "metadata": {
  "kernelspec": {
   "display_name": "Python 3 (ipykernel)",
   "language": "python",
   "name": "python3"
  },
  "language_info": {
   "codemirror_mode": {
    "name": "ipython",
    "version": 3
   },
   "file_extension": ".py",
   "mimetype": "text/x-python",
   "name": "python",
   "nbconvert_exporter": "python",
   "pygments_lexer": "ipython3",
   "version": "3.10.9"
  }
 },
 "nbformat": 4,
 "nbformat_minor": 2
}
