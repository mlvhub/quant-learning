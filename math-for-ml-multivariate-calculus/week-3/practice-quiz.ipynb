{
 "cells": [
  {
   "cell_type": "code",
   "execution_count": 1,
   "metadata": {},
   "outputs": [],
   "source": [
    "from sympy import *"
   ]
  },
  {
   "cell_type": "markdown",
   "metadata": {},
   "source": [
    "## 1."
   ]
  },
  {
   "cell_type": "code",
   "execution_count": 8,
   "metadata": {},
   "outputs": [
    {
     "data": {
      "text/latex": [
       "$\\displaystyle \\left[\\begin{matrix}2 x_{1} x_{2}^{2} + x_{2} & 2 x_{1}^{2} x_{2} + x_{1}\\end{matrix}\\right]$"
      ],
      "text/plain": [
       "Matrix([[2*x1*x2**2 + x2, 2*x1**2*x2 + x1]])"
      ]
     },
     "execution_count": 8,
     "metadata": {},
     "output_type": "execute_result"
    }
   ],
   "source": [
    "x1, x2 = symbols('x1, x2')\n",
    "\n",
    "fx = x1**2*x2**2 + x1*x2\n",
    "\n",
    "\n",
    "X = Matrix([fx])\n",
    "Y = Matrix([x1, x2])\n",
    "J = X.jacobian(Y)\n",
    "J"
   ]
  },
  {
   "cell_type": "code",
   "execution_count": 9,
   "metadata": {},
   "outputs": [
    {
     "data": {
      "text/latex": [
       "$\\displaystyle \\left[\\begin{matrix}- 2 t\\\\2 t\\end{matrix}\\right]$"
      ],
      "text/plain": [
       "Matrix([\n",
       "[-2*t],\n",
       "[ 2*t]])"
      ]
     },
     "execution_count": 9,
     "metadata": {},
     "output_type": "execute_result"
    }
   ],
   "source": [
    "t = symbols('t')\n",
    "\n",
    "x1 = 1 - t**2\n",
    "x2 = 1 + t**2\n",
    "\n",
    "X = Matrix([x1, x2])\n",
    "Y = Matrix([t])\n",
    "J = X.jacobian(Y)\n",
    "J"
   ]
  },
  {
   "cell_type": "markdown",
   "metadata": {},
   "source": [
    "## 2."
   ]
  },
  {
   "cell_type": "code",
   "execution_count": 12,
   "metadata": {},
   "outputs": [
    {
     "data": {
      "text/latex": [
       "$\\displaystyle \\left[\\begin{matrix}3 x_{1}^{2} e^{x_{3}} \\cos{\\left(x_{2} \\right)} & - x_{1}^{3} e^{x_{3}} \\sin{\\left(x_{2} \\right)} & x_{1}^{3} e^{x_{3}} \\cos{\\left(x_{2} \\right)}\\end{matrix}\\right]$"
      ],
      "text/plain": [
       "Matrix([[3*x1**2*exp(x3)*cos(x2), -x1**3*exp(x3)*sin(x2), x1**3*exp(x3)*cos(x2)]])"
      ]
     },
     "execution_count": 12,
     "metadata": {},
     "output_type": "execute_result"
    }
   ],
   "source": [
    "x1, x2, x3 = symbols('x1, x2, x3')\n",
    "\n",
    "fx = x1**3*cos(x2)*exp(x3)\n",
    "\n",
    "\n",
    "X = Matrix([fx])\n",
    "Y = Matrix([x1, x2, x3])\n",
    "J = X.jacobian(Y)\n",
    "J"
   ]
  },
  {
   "cell_type": "code",
   "execution_count": 13,
   "metadata": {},
   "outputs": [
    {
     "data": {
      "text/latex": [
       "$\\displaystyle \\left[\\begin{matrix}2\\\\- 2 t\\\\e^{t}\\end{matrix}\\right]$"
      ],
      "text/plain": [
       "Matrix([\n",
       "[     2],\n",
       "[  -2*t],\n",
       "[exp(t)]])"
      ]
     },
     "execution_count": 13,
     "metadata": {},
     "output_type": "execute_result"
    }
   ],
   "source": [
    "t = symbols('t')\n",
    "\n",
    "x1 = 2*t\n",
    "x2 = 1 - t**2\n",
    "x3 = exp(t)\n",
    "\n",
    "X = Matrix([x1, x2, x3])\n",
    "Y = Matrix([t])\n",
    "J = X.jacobian(Y)\n",
    "J"
   ]
  },
  {
   "cell_type": "markdown",
   "metadata": {},
   "source": [
    "## 3."
   ]
  },
  {
   "cell_type": "code",
   "execution_count": 14,
   "metadata": {},
   "outputs": [
    {
     "data": {
      "text/latex": [
       "$\\displaystyle \\left[\\begin{matrix}2 x_{1} & - 2 x_{2}\\end{matrix}\\right]$"
      ],
      "text/plain": [
       "Matrix([[2*x1, -2*x2]])"
      ]
     },
     "execution_count": 14,
     "metadata": {},
     "output_type": "execute_result"
    }
   ],
   "source": [
    "x1, x2 = symbols('x1, x2')\n",
    "\n",
    "fx = x1**2 - x2**2\n",
    "\n",
    "\n",
    "X = Matrix([fx])\n",
    "Y = Matrix([x1, x2])\n",
    "J = X.jacobian(Y)\n",
    "J"
   ]
  },
  {
   "cell_type": "code",
   "execution_count": 15,
   "metadata": {},
   "outputs": [
    {
     "data": {
      "text/latex": [
       "$\\displaystyle \\left[\\begin{matrix}4 u_{1} & 6 u_{2} - 1\\\\2 & - 15 u_{2}^{2}\\end{matrix}\\right]$"
      ],
      "text/plain": [
       "Matrix([\n",
       "[4*u1,  6*u2 - 1],\n",
       "[   2, -15*u2**2]])"
      ]
     },
     "execution_count": 15,
     "metadata": {},
     "output_type": "execute_result"
    }
   ],
   "source": [
    "u1, u2 = symbols('u1, u2')\n",
    "\n",
    "x1 = 2*u1**2 + 3*u2**2 - u2\n",
    "x2 = 2*u1 - 5*u2**3\n",
    "\n",
    "X = Matrix([x1, x2])\n",
    "Y = Matrix([u1, u2])\n",
    "J = X.jacobian(Y)\n",
    "J"
   ]
  },
  {
   "cell_type": "code",
   "execution_count": 19,
   "metadata": {},
   "outputs": [
    {
     "data": {
      "text/latex": [
       "$\\displaystyle \\left[\\begin{matrix}\\frac{e^{\\frac{t}{2}}}{2}\\\\- 2 e^{- 2 t}\\end{matrix}\\right]$"
      ],
      "text/plain": [
       "Matrix([\n",
       "[  exp(t/2)/2],\n",
       "[-2*exp(-2*t)]])"
      ]
     },
     "execution_count": 19,
     "metadata": {},
     "output_type": "execute_result"
    }
   ],
   "source": [
    "t = symbols('t')\n",
    "\n",
    "u1 = exp(t/2)\n",
    "u2 = exp(-2*t)\n",
    "\n",
    "X = Matrix([u1, u2])\n",
    "Y = Matrix([t])\n",
    "J = X.jacobian(Y)\n",
    "J"
   ]
  },
  {
   "cell_type": "markdown",
   "metadata": {},
   "source": [
    "## 5."
   ]
  },
  {
   "cell_type": "code",
   "execution_count": 17,
   "metadata": {},
   "outputs": [
    {
     "data": {
      "text/latex": [
       "$\\displaystyle \\left[\\begin{matrix}e^{x_{3}} \\cos{\\left(x_{1} \\right)} \\cos{\\left(x_{2} \\right)} & - e^{x_{3}} \\sin{\\left(x_{1} \\right)} \\sin{\\left(x_{2} \\right)} & e^{x_{3}} \\sin{\\left(x_{1} \\right)} \\cos{\\left(x_{2} \\right)}\\end{matrix}\\right]$"
      ],
      "text/plain": [
       "Matrix([[exp(x3)*cos(x1)*cos(x2), -exp(x3)*sin(x1)*sin(x2), exp(x3)*sin(x1)*cos(x2)]])"
      ]
     },
     "execution_count": 17,
     "metadata": {},
     "output_type": "execute_result"
    }
   ],
   "source": [
    "x1, x2, x3 = symbols('x1, x2, x3')\n",
    "\n",
    "fx = sin(x1)*cos(x2)*exp(x3)\n",
    "\n",
    "\n",
    "X = Matrix([fx])\n",
    "Y = Matrix([x1, x2, x3])\n",
    "J = X.jacobian(Y)\n",
    "J"
   ]
  },
  {
   "cell_type": "code",
   "execution_count": 18,
   "metadata": {},
   "outputs": [
    {
     "data": {
      "text/latex": [
       "$\\displaystyle \\left[\\begin{matrix}\\cos{\\left(u_{1} \\right)} & - \\sin{\\left(u_{2} \\right)}\\\\- \\sin{\\left(u_{1} \\right)} & - \\cos{\\left(u_{2} \\right)}\\\\e^{u_{1} + u_{2}} & e^{u_{1} + u_{2}}\\end{matrix}\\right]$"
      ],
      "text/plain": [
       "Matrix([\n",
       "[     cos(u1),     -sin(u2)],\n",
       "[    -sin(u1),     -cos(u2)],\n",
       "[exp(u1 + u2), exp(u1 + u2)]])"
      ]
     },
     "execution_count": 18,
     "metadata": {},
     "output_type": "execute_result"
    }
   ],
   "source": [
    "u1, u2 = symbols('u1, u2')\n",
    "\n",
    "x1 = sin(u1) + cos(u2)\n",
    "x2 = cos(u1) - sin(u2)\n",
    "x3 = exp(u1 + u2)\n",
    "\n",
    "X = Matrix([x1, x2, x3])\n",
    "Y = Matrix([u1, u2])\n",
    "J = X.jacobian(Y)\n",
    "J"
   ]
  },
  {
   "cell_type": "code",
   "execution_count": 20,
   "metadata": {},
   "outputs": [
    {
     "data": {
      "text/latex": [
       "$\\displaystyle \\left[\\begin{matrix}\\frac{1}{2}\\\\- \\frac{1}{2}\\end{matrix}\\right]$"
      ],
      "text/plain": [
       "Matrix([\n",
       "[ 1/2],\n",
       "[-1/2]])"
      ]
     },
     "execution_count": 20,
     "metadata": {},
     "output_type": "execute_result"
    }
   ],
   "source": [
    "t = symbols('t')\n",
    "\n",
    "u1 = 1+t/2\n",
    "u2 = 1-t/2\n",
    "\n",
    "X = Matrix([u1, u2])\n",
    "Y = Matrix([t])\n",
    "J = X.jacobian(Y)\n",
    "J"
   ]
  }
 ],
 "metadata": {
  "kernelspec": {
   "display_name": "Python 3 (ipykernel)",
   "language": "python",
   "name": "python3"
  },
  "language_info": {
   "codemirror_mode": {
    "name": "ipython",
    "version": 3
   },
   "file_extension": ".py",
   "mimetype": "text/x-python",
   "name": "python",
   "nbconvert_exporter": "python",
   "pygments_lexer": "ipython3",
   "version": "3.10.9"
  }
 },
 "nbformat": 4,
 "nbformat_minor": 2
}
