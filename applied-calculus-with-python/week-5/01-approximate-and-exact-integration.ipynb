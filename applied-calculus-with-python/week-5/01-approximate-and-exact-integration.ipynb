{
 "cells": [
  {
   "cell_type": "code",
   "execution_count": 2,
   "metadata": {},
   "outputs": [],
   "source": [
    "from sympy import *\n",
    "from sympy.parsing.sympy_parser import parse_expr"
   ]
  },
  {
   "cell_type": "markdown",
   "metadata": {},
   "source": [
    "## Left Riemann Sum Calculator"
   ]
  },
  {
   "cell_type": "code",
   "execution_count": 9,
   "metadata": {},
   "outputs": [],
   "source": [
    "def left_riemann_sum(f, n):\n",
    "    x = Symbol('x')\n",
    "\n",
    "    # define the limits\n",
    "    a = 0\n",
    "    b = 1\n",
    "    width = (b-a)/n\n",
    "    height = []\n",
    "\n",
    "    for i in range(n):\n",
    "        height.append(float(parse_expr(f).subs({x: a+width*i}).evalf()))\n",
    "    \n",
    "    # find the individual areas of each rectangle\n",
    "    area = [(width*height[i]) for i in range(n)]\n",
    "\n",
    "    # add the areas together\n",
    "    print(f'The Left Riemann Sum is {sum(area)}')\n",
    "\n",
    "    # compute the actual integral\n",
    "    print(f'The actual integral is {Integral(f, (x,a,b)).doit()}')"
   ]
  },
  {
   "cell_type": "code",
   "execution_count": 10,
   "metadata": {},
   "outputs": [
    {
     "name": "stdout",
     "output_type": "stream",
     "text": [
      "The Left Riemann Sum is 0.2850000000000001\n",
      "The actual integral is 1/3\n"
     ]
    }
   ],
   "source": [
    "left_riemann_sum('x**2', 10)"
   ]
  },
  {
   "cell_type": "code",
   "execution_count": 11,
   "metadata": {},
   "outputs": [
    {
     "name": "stdout",
     "output_type": "stream",
     "text": [
      "The Left Riemann Sum is 0.33328333499999957\n",
      "The actual integral is 1/3\n"
     ]
    }
   ],
   "source": [
    "left_riemann_sum('x**2', 10000)"
   ]
  },
  {
   "cell_type": "code",
   "execution_count": 12,
   "metadata": {},
   "outputs": [
    {
     "name": "stdout",
     "output_type": "stream",
     "text": [
      "The Left Riemann Sum is 0.24900099999999994\n",
      "The actual integral is 1/4\n"
     ]
    }
   ],
   "source": [
    "left_riemann_sum('x**3', 500)"
   ]
  },
  {
   "cell_type": "code",
   "execution_count": 16,
   "metadata": {},
   "outputs": [
    {
     "data": {
      "text/latex": [
       "$\\displaystyle \\frac{x^{4}}{4}$"
      ],
      "text/plain": [
       "x**4/4"
      ]
     },
     "execution_count": 16,
     "metadata": {},
     "output_type": "execute_result"
    }
   ],
   "source": [
    "# example of an indefinite integral\n",
    "x = Symbol('x')\n",
    "integrate(x**3)"
   ]
  },
  {
   "cell_type": "markdown",
   "metadata": {},
   "source": [
    "## Riemann Sum from table"
   ]
  },
  {
   "cell_type": "code",
   "execution_count": 17,
   "metadata": {},
   "outputs": [
    {
     "name": "stdout",
     "output_type": "stream",
     "text": [
      "The left-hand sum is 54.2 and the right-hand sum is 74.0\n"
     ]
    }
   ],
   "source": [
    "x = [ 0, 2, 5, 6, 10 ]\n",
    "f = [ 1.5, 4, 7.2, 8, 9.1 ]\n",
    "n = 4\n",
    "left_rect = [f[i]*(x[i+1]-x[i]) for i in range(0,n)]\n",
    "right_rect = [f[i+1]*(x[i+1]-x[i]) for i in range(0,n)]\n",
    "LHS = sum(left_rect)\n",
    "RHS = sum(right_rect)\n",
    "print(f'The left-hand sum is {LHS} and the right-hand sum is {RHS}')"
   ]
  },
  {
   "cell_type": "code",
   "execution_count": null,
   "metadata": {},
   "outputs": [],
   "source": []
  }
 ],
 "metadata": {
  "kernelspec": {
   "display_name": "Python 3 (ipykernel)",
   "language": "python",
   "name": "python3"
  },
  "language_info": {
   "codemirror_mode": {
    "name": "ipython",
    "version": 3
   },
   "file_extension": ".py",
   "mimetype": "text/x-python",
   "name": "python",
   "nbconvert_exporter": "python",
   "pygments_lexer": "ipython3",
   "version": "3.10.9"
  }
 },
 "nbformat": 4,
 "nbformat_minor": 2
}
