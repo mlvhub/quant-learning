{
 "cells": [
  {
   "cell_type": "code",
   "execution_count": 1,
   "metadata": {},
   "outputs": [],
   "source": [
    "from sympy import *"
   ]
  },
  {
   "cell_type": "markdown",
   "metadata": {},
   "source": [
    "## Finding Local Extrema With SymPy\n",
    "\n",
    "### Steps\n",
    "\n",
    "1. Find the derivative $f′(x)$.\n",
    "\n",
    "2. Find critical points: Locate all points (if any) where $f′(x)$ is undefined, then set $f′(x)=0$ and solve for $x$.\n",
    "\n",
    "3. Divide the domain of $f(x)$ into subintervals using the critical points. \n",
    "\n",
    "4. Choose a sample point in each subinterval and test the value of $f′(x)$ at that point. The sign of $f′(x)$ at the sample point (positive or negative) is the sign of $f′(x)$ on the entire subinterval.\n",
    "\n",
    "5. List the critical points where $f′(x)$ changes from positive to negative (local maxima) and the critical points where $f′(x)$ changes from negative to positive (local minima)."
   ]
  },
  {
   "cell_type": "markdown",
   "metadata": {},
   "source": [
    "### Example\n",
    "\n",
    "Find the local extrema of the function $f(x)=x3+x2−x$.\n",
    "\n",
    "> Note that for this function, there are no points where the derivative is undefined. Therefore, we find all critical points by solving $f′(x)=0$. "
   ]
  },
  {
   "cell_type": "code",
   "execution_count": 2,
   "metadata": {},
   "outputs": [
    {
     "data": {
      "text/latex": [
       "$\\displaystyle x^{3} + x^{2} - x$"
      ],
      "text/plain": [
       "x**3 + x**2 - x"
      ]
     },
     "execution_count": 2,
     "metadata": {},
     "output_type": "execute_result"
    }
   ],
   "source": [
    "x = symbols('x')\n",
    "\n",
    "f = x**3 + x**2 - x\n",
    "f"
   ]
  },
  {
   "cell_type": "code",
   "execution_count": 3,
   "metadata": {},
   "outputs": [
    {
     "data": {
      "text/latex": [
       "$\\displaystyle 3 x^{2} + 2 x - 1$"
      ],
      "text/plain": [
       "3*x**2 + 2*x - 1"
      ]
     },
     "execution_count": 3,
     "metadata": {},
     "output_type": "execute_result"
    }
   ],
   "source": [
    "f_prime = diff(f, x)\n",
    "f_prime"
   ]
  },
  {
   "cell_type": "code",
   "execution_count": 4,
   "metadata": {},
   "outputs": [
    {
     "data": {
      "text/latex": [
       "$\\displaystyle \\left\\{-1, \\frac{1}{3}\\right\\}$"
      ],
      "text/plain": [
       "{-1, 1/3}"
      ]
     },
     "execution_count": 4,
     "metadata": {},
     "output_type": "execute_result"
    }
   ],
   "source": [
    "solveset(f_prime, x)"
   ]
  },
  {
   "cell_type": "code",
   "execution_count": 6,
   "metadata": {},
   "outputs": [
    {
     "data": {
      "text/plain": [
       "[7, -1, 4]"
      ]
     },
     "execution_count": 6,
     "metadata": {},
     "output_type": "execute_result"
    }
   ],
   "source": [
    "sample = [-2, 0, 1]\n",
    "sample_values = [f_prime.subs(x, i) for i in sample]\n",
    "sample_values"
   ]
  },
  {
   "cell_type": "markdown",
   "metadata": {},
   "source": [
    "We conclude that:\n",
    "\n",
    "- Since $f′$ changes from positive to negative at $x=−1$, this is the location of a local maximum.\n",
    "- Since $f′$ changes from negative to positive at $x=\\frac{1}{3}$​, this is the location of a local minimum."
   ]
  },
  {
   "cell_type": "markdown",
   "metadata": {},
   "source": [
    "## Finding Global Extrema With SymPy\n",
    "\n",
    "### The Closed Interval Method\n",
    "\n",
    "1. Find critical points. Identify points where $f′$ does not exist to find critical points. Then solve $f′(x)=0$ for $x$ to find more critical points.\n",
    "\n",
    "2. Find function values at critical points. Evaluate the function value $f(x)$ at each of the critical points you found.\n",
    "\n",
    "3. Find function values at endpoints. Evaluate the function values at the endpoints of the interval, $f(a)$ and $f(b)$.\n",
    "\n",
    "4. Compare values. Compare the values computed in the previous steps. The highest value is the absolute maximum, and the lowest value is the absolute minimum.\n",
    "\n",
    "### Example\n",
    "\n",
    "Find the global maximum and minimum values of the function $f(x)=x3+x2−x$ on the interval $[−2,1]$."
   ]
  },
  {
   "cell_type": "code",
   "execution_count": 7,
   "metadata": {},
   "outputs": [
    {
     "data": {
      "text/latex": [
       "$\\displaystyle x^{3} + x^{2} - x$"
      ],
      "text/plain": [
       "x**3 + x**2 - x"
      ]
     },
     "execution_count": 7,
     "metadata": {},
     "output_type": "execute_result"
    }
   ],
   "source": [
    "x = symbols('x')\n",
    "\n",
    "f = x**3 + x**2 - x\n",
    "f"
   ]
  },
  {
   "cell_type": "code",
   "execution_count": 11,
   "metadata": {},
   "outputs": [
    {
     "data": {
      "text/plain": [
       "[-2, 1, -0.185185185185185, 1]"
      ]
     },
     "execution_count": 11,
     "metadata": {},
     "output_type": "execute_result"
    }
   ],
   "source": [
    "x_values = [-2, -1, 1/3, 1]\n",
    "f_values = [f.subs(x, i) for i in x_values]\n",
    "f_values"
   ]
  },
  {
   "cell_type": "code",
   "execution_count": 12,
   "metadata": {},
   "outputs": [
    {
     "data": {
      "text/latex": [
       "$\\displaystyle 1$"
      ],
      "text/plain": [
       "1"
      ]
     },
     "execution_count": 12,
     "metadata": {},
     "output_type": "execute_result"
    }
   ],
   "source": [
    "max(f_values)"
   ]
  },
  {
   "cell_type": "code",
   "execution_count": 13,
   "metadata": {},
   "outputs": [
    {
     "data": {
      "text/latex": [
       "$\\displaystyle -2$"
      ],
      "text/plain": [
       "-2"
      ]
     },
     "execution_count": 13,
     "metadata": {},
     "output_type": "execute_result"
    }
   ],
   "source": [
    "min(f_values)"
   ]
  },
  {
   "cell_type": "markdown",
   "metadata": {},
   "source": [
    "Comparing the values in the list f_values, we determine that the maximum value achieved by $f$ on $[−2,1]$ is $1$, and the minimum value is $−2$."
   ]
  },
  {
   "cell_type": "markdown",
   "metadata": {},
   "source": [
    "## Increase, Decrease, and Concavity\n",
    "\n",
    "### Increasing and Decreasing\n",
    "\n",
    "1. Use the `diff()` function to take the derivative.\n",
    "2. Use `solveset()` to solve for critical points.\n",
    "3. Divide the domain into subintervals at the critical points.\n",
    "4. Use the `subs()` function with a list comprehension to compute derivative values at sample points taken from each subinterval.\n",
    "\n",
    "### Concavity\n",
    "\n",
    "We use the same method as for increase/decrease, but with the second derivative instead of the first.\n",
    "\n",
    "1. Use `diff(f, x, 2)` to take the second derivative of $f$.\n",
    "2. Use `solveset()` to solve for possible inflection points.\n",
    "3. Divide the domain into subintervals at the possible inflection points.\n",
    "4. Use the `subs()` function with a list comprehension to compute second derivative values at sample points taken from each subinterval."
   ]
  },
  {
   "cell_type": "markdown",
   "metadata": {},
   "source": []
  }
 ],
 "metadata": {
  "kernelspec": {
   "display_name": "Python 3 (ipykernel)",
   "language": "python",
   "name": "python3"
  },
  "language_info": {
   "codemirror_mode": {
    "name": "ipython",
    "version": 3
   },
   "file_extension": ".py",
   "mimetype": "text/x-python",
   "name": "python",
   "nbconvert_exporter": "python",
   "pygments_lexer": "ipython3",
   "version": "3.10.9"
  }
 },
 "nbformat": 4,
 "nbformat_minor": 2
}
