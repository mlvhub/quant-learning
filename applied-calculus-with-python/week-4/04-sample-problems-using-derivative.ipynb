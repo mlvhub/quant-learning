{
 "cells": [
  {
   "cell_type": "code",
   "execution_count": 1,
   "metadata": {},
   "outputs": [],
   "source": [
    "from sympy import *"
   ]
  },
  {
   "cell_type": "markdown",
   "metadata": {},
   "source": [
    "# Sample Problems"
   ]
  },
  {
   "cell_type": "markdown",
   "metadata": {},
   "source": [
    "### Sample Problem 1 - First and Second Derivative Tests. \n",
    "\n",
    "Let $f(x)=ln⁡(x^2+x+1)$"
   ]
  },
  {
   "cell_type": "code",
   "execution_count": 3,
   "metadata": {},
   "outputs": [
    {
     "data": {
      "text/latex": [
       "$\\displaystyle \\log{\\left(x^{2} + x + 1 \\right)}$"
      ],
      "text/plain": [
       "log(x**2 + x + 1)"
      ]
     },
     "execution_count": 3,
     "metadata": {},
     "output_type": "execute_result"
    }
   ],
   "source": [
    "x = symbols('x')\n",
    "\n",
    "f = ln(x**2 + x + 1)\n",
    "f"
   ]
  },
  {
   "cell_type": "code",
   "execution_count": 4,
   "metadata": {},
   "outputs": [
    {
     "data": {
      "text/latex": [
       "$\\displaystyle \\frac{2 x + 1}{x^{2} + x + 1}$"
      ],
      "text/plain": [
       "(2*x + 1)/(x**2 + x + 1)"
      ]
     },
     "execution_count": 4,
     "metadata": {},
     "output_type": "execute_result"
    }
   ],
   "source": [
    "# a)\n",
    "\n",
    "f_prime = diff(f, x)\n",
    "f_prime"
   ]
  },
  {
   "cell_type": "code",
   "execution_count": 5,
   "metadata": {},
   "outputs": [
    {
     "data": {
      "text/latex": [
       "$\\displaystyle \\left\\{- \\frac{1}{2}\\right\\}$"
      ],
      "text/plain": [
       "{-1/2}"
      ]
     },
     "execution_count": 5,
     "metadata": {},
     "output_type": "execute_result"
    }
   ],
   "source": [
    "solveset(f_prime, x)"
   ]
  },
  {
   "cell_type": "code",
   "execution_count": 12,
   "metadata": {},
   "outputs": [
    {
     "data": {
      "text/plain": [
       "[-1, 1]"
      ]
     },
     "execution_count": 12,
     "metadata": {},
     "output_type": "execute_result"
    }
   ],
   "source": [
    "# b)\n",
    "\n",
    "sample = [-1, 0]\n",
    "sample_values = [f_prime.subs(x, i) for i in sample]\n",
    "sample_values"
   ]
  },
  {
   "cell_type": "markdown",
   "metadata": {},
   "source": [
    "The function is decreasing on $(−∞,−\\frac{1}{2})$ and increasing on $(-\\frac{1}{2},∞)$."
   ]
  },
  {
   "cell_type": "code",
   "execution_count": 13,
   "metadata": {},
   "outputs": [
    {
     "data": {
      "text/latex": [
       "$\\displaystyle \\frac{- \\frac{\\left(2 x + 1\\right)^{2}}{x^{2} + x + 1} + 2}{x^{2} + x + 1}$"
      ],
      "text/plain": [
       "(-(2*x + 1)**2/(x**2 + x + 1) + 2)/(x**2 + x + 1)"
      ]
     },
     "execution_count": 13,
     "metadata": {},
     "output_type": "execute_result"
    }
   ],
   "source": [
    "# c)\n",
    "\n",
    "f_prime2 = diff(f, x, 2)\n",
    "f_prime2"
   ]
  },
  {
   "cell_type": "code",
   "execution_count": 17,
   "metadata": {},
   "outputs": [
    {
     "name": "stdout",
     "output_type": "stream",
     "text": [
      "0.366025403784439\n",
      "-1.36602540378444\n"
     ]
    },
    {
     "data": {
      "text/plain": [
       "[-1/2 + sqrt(3)/2, -sqrt(3)/2 - 1/2]"
      ]
     },
     "execution_count": 17,
     "metadata": {},
     "output_type": "execute_result"
    }
   ],
   "source": [
    "critical_points = solve(f_prime2, x)\n",
    "for p in critical_points:\n",
    "    print(p.evalf())\n",
    "critical_points"
   ]
  },
  {
   "cell_type": "code",
   "execution_count": 16,
   "metadata": {},
   "outputs": [
    {
     "data": {
      "text/plain": [
       "[-13/147, 1, -59/961]"
      ]
     },
     "execution_count": 16,
     "metadata": {},
     "output_type": "execute_result"
    }
   ],
   "source": [
    "sample = [-5, 0, 5]\n",
    "sample_values = [f_prime2.subs(x, i) for i in sample]\n",
    "sample_values"
   ]
  },
  {
   "cell_type": "markdown",
   "metadata": {},
   "source": [
    "The graph of the function is concave up $(-\\frac{1}{2}-\\frac{\\sqrt{3}}{2}, -\\frac{1}{2}+\\frac{\\sqrt{3}}{2})$ and $f$ is concave down on $(−∞,-\\frac{1}{2}-\\frac{\\sqrt{3}}{2})$ and $(-\\frac{1}{2}+\\frac{\\sqrt{3}}{2},∞)$."
   ]
  },
  {
   "cell_type": "markdown",
   "metadata": {},
   "source": [
    "**d)**\n",
    "\n",
    "From **b)**, we see the function changes from decreasing to increasing at $x=−\\frac{1}{2}$, making it a **local minimum**."
   ]
  },
  {
   "cell_type": "markdown",
   "metadata": {},
   "source": [
    "## Sample Problem 2 - Critical Points vs. Inflection Points\n",
    "\n",
    "N(7)' > 0\n",
    "N(7)'' > 0\n",
    "\n",
    "N(9)' > 0\n",
    "N(9)'' < 0\n",
    "\n",
    "N(11)' < 0\n",
    "N(11)'' = 0\n",
    "\n",
    "Since the first derivative changes sign after 9, $t = 9$ is a **critical point**.\n",
    "\n",
    "Since the second derivative changes sign after 7, $t = 7$ is an **inflection point**."
   ]
  },
  {
   "cell_type": "markdown",
   "metadata": {},
   "source": [
    "## Sample Problem 3 - Profit, Revenue, and Cost\n",
    "\n",
    "A company’s revenue from selling $x$ items is given by the function $R(x)=360x−x**2$. The cost associated with selling $x$ items is given by $C(x)=12x+64$. "
   ]
  },
  {
   "cell_type": "code",
   "execution_count": 9,
   "metadata": {},
   "outputs": [
    {
     "data": {
      "text/latex": [
       "$\\displaystyle - x^{2} + 360 x$"
      ],
      "text/plain": [
       "-x**2 + 360*x"
      ]
     },
     "execution_count": 9,
     "metadata": {},
     "output_type": "execute_result"
    }
   ],
   "source": [
    "x = symbols('x')\n",
    "\n",
    "R = 360*x - x**2\n",
    "R"
   ]
  },
  {
   "cell_type": "code",
   "execution_count": 10,
   "metadata": {},
   "outputs": [
    {
     "data": {
      "text/latex": [
       "$\\displaystyle 12 x + 64$"
      ],
      "text/plain": [
       "12*x + 64"
      ]
     },
     "execution_count": 10,
     "metadata": {},
     "output_type": "execute_result"
    }
   ],
   "source": [
    "C = 12*x + 64\n",
    "C"
   ]
  },
  {
   "cell_type": "code",
   "execution_count": 11,
   "metadata": {},
   "outputs": [
    {
     "data": {
      "text/latex": [
       "$\\displaystyle - x^{2} + 348 x - 64$"
      ],
      "text/plain": [
       "-x**2 + 348*x - 64"
      ]
     },
     "execution_count": 11,
     "metadata": {},
     "output_type": "execute_result"
    }
   ],
   "source": [
    "P = R - C\n",
    "P"
   ]
  },
  {
   "cell_type": "code",
   "execution_count": 12,
   "metadata": {},
   "outputs": [
    {
     "data": {
      "text/latex": [
       "$\\displaystyle 348 - 2 x$"
      ],
      "text/plain": [
       "348 - 2*x"
      ]
     },
     "execution_count": 12,
     "metadata": {},
     "output_type": "execute_result"
    }
   ],
   "source": [
    "P_prime = diff(P, x)\n",
    "P_prime"
   ]
  },
  {
   "cell_type": "code",
   "execution_count": 13,
   "metadata": {},
   "outputs": [
    {
     "data": {
      "text/latex": [
       "$\\displaystyle \\left\\{174\\right\\}$"
      ],
      "text/plain": [
       "{174}"
      ]
     },
     "execution_count": 13,
     "metadata": {},
     "output_type": "execute_result"
    }
   ],
   "source": [
    "solveset(P_prime, x)"
   ]
  },
  {
   "cell_type": "code",
   "execution_count": 15,
   "metadata": {},
   "outputs": [
    {
     "data": {
      "text/plain": [
       "[2, 0, -2]"
      ]
     },
     "execution_count": 15,
     "metadata": {},
     "output_type": "execute_result"
    }
   ],
   "source": [
    "sample = [173, 174, 175]\n",
    "sample_values = [P_prime.subs(x, i) for i in sample]\n",
    "sample_values"
   ]
  },
  {
   "cell_type": "markdown",
   "metadata": {},
   "source": [
    "To maximise profits, they need to sell 174 items."
   ]
  }
 ],
 "metadata": {
  "kernelspec": {
   "display_name": "Python 3 (ipykernel)",
   "language": "python",
   "name": "python3"
  },
  "language_info": {
   "codemirror_mode": {
    "name": "ipython",
    "version": 3
   },
   "file_extension": ".py",
   "mimetype": "text/x-python",
   "name": "python",
   "nbconvert_exporter": "python",
   "pygments_lexer": "ipython3",
   "version": "3.10.9"
  }
 },
 "nbformat": 4,
 "nbformat_minor": 2
}
