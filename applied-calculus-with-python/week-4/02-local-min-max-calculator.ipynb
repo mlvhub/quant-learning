{
 "cells": [
  {
   "cell_type": "code",
   "execution_count": 27,
   "metadata": {},
   "outputs": [],
   "source": [
    "from sympy import *\n",
    "from sympy.parsing.sympy_parser import parse_expr"
   ]
  },
  {
   "cell_type": "code",
   "execution_count": 29,
   "metadata": {},
   "outputs": [],
   "source": [
    "def local_extrema_calculator(f, x):\n",
    "    x = Symbol(\"x\")\n",
    "    j = 0\n",
    "\n",
    "    min_list = []\n",
    "    max_list = []\n",
    "\n",
    "    # find f'\n",
    "    dy = Derivative(f, x).doit()\n",
    "    print(f'First derivative: {dy}')\n",
    "\n",
    "    # find critical values\n",
    "    critical_points = solve(dy, x)\n",
    "    print(f'Critical points: {critical_points}')\n",
    "\n",
    "    # check if min/max using second derivative test\n",
    "    d2f = Derivative(dy, x).doit()\n",
    "    print(f'Second derivative: {d2f}')\n",
    "\n",
    "    # review second derivative test\n",
    "    for i in critical_points:\n",
    "        cp = d2f.subs({x: critical_points[j]}).evalf()\n",
    "        if cp > 0:\n",
    "            print(f'x = {critical_points[j].evalf(3)} is a local minimum')\n",
    "            y = float(parse_expr(f).subs({x: critical_points[j]}).evalf())\n",
    "            min_list.append(y)\n",
    "        elif cp < 0:\n",
    "            print(f'x = {critical_points[j].evalf(3)} is a local minimum')\n",
    "            y = float(parse_expr(f).subs({x: critical_points[j]}).evalf())\n",
    "            max_list.append(y)\n",
    "        else:\n",
    "            print(f'Unable to determine if {cp} is min or max')\n",
    "        j = j + 1\n",
    "\n",
    "    # find local min/max\n",
    "    print(f'Local mins of f(x) = {f}: {min_list}')\n",
    "    print(f'Local maxes of f(x) = {f}: {max_list}')\n"
   ]
  },
  {
   "cell_type": "code",
   "execution_count": 30,
   "metadata": {},
   "outputs": [
    {
     "name": "stdout",
     "output_type": "stream",
     "text": [
      "First derivative: 12*x**3 - 48*x**2 + 36*x\n",
      "Critical points: [0, 1, 3]\n",
      "Second derivative: 36*x**2 - 96*x + 36\n",
      "x = 0 is a local minimum\n",
      "x = 1.00 is a local minimum\n",
      "x = 3.00 is a local minimum\n",
      "Local mins of f(x) = 3*x**4-16*x**3+18*x**2: [0.0, -27.0]\n",
      "Local maxes of f(x) = 3*x**4-16*x**3+18*x**2: [5.0]\n"
     ]
    }
   ],
   "source": [
    "local_extrema_calculator(\"3*x**4-16*x**3+18*x**2\", \"x\")"
   ]
  },
  {
   "cell_type": "code",
   "execution_count": null,
   "metadata": {},
   "outputs": [],
   "source": []
  }
 ],
 "metadata": {
  "kernelspec": {
   "display_name": "Python 3 (ipykernel)",
   "language": "python",
   "name": "python3"
  }
 },
 "nbformat": 4,
 "nbformat_minor": 2
}
