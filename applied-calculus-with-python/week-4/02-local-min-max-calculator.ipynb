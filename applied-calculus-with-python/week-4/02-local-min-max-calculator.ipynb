{
 "cells": [
  {
   "cell_type": "code",
   "execution_count": 27,
   "metadata": {},
   "outputs": [],
   "source": [
    "from sympy import *\n",
    "from sympy.parsing.sympy_parser import parse_expr"
   ]
  },
  {
   "cell_type": "code",
   "execution_count": 28,
   "metadata": {},
   "outputs": [],
   "source": [
    "def local_extrema_calculator(f, x):\n",
    "    x = Symbol(\"x\")\n",
    "    j = 0\n",
    "\n",
    "    min_list = []\n",
    "    max_list = []\n",
    "\n",
    "    # find f'\n",
    "    dy = Derivative(f, x).doit()\n",
    "    print(f'First derivative: {dy}')\n",
    "\n",
    "    # find critical values\n",
    "    critical_points = solve(dy, x)\n",
    "    print(f'Critical points: {critical_points}')\n",
    "\n",
    "    # check if min/max using second derivative test\n",
    "    d2f = Derivative(dy, x).doit()\n",
    "    print(f'Second derivative: {d2f}')\n",
    "\n",
    "    # review second derivative test\n",
    "    for i in critical_points:\n",
    "        cp = d2f.subs({x: critical_points[j]}).evalf()\n",
    "        if cp > 0:\n",
    "            print(f'x = {critical_points[j].evalf(3)} is a local minimum')\n",
    "            y = float(parse_expr(f).subs({x: critical_points[j]}).evalf())\n",
    "            min_list.append(y)\n",
    "        elif cp < 0:\n",
    "            print(f'x = {critical_points[j].evalf(3)} is a local minimum')\n",
    "            y = float(parse_expr(f).subs({x: critical_points[j]}).evalf())\n",
    "            max_list.append(y)\n",
    "        else:\n",
    "            print(f'Unable to determine if {cp} is min or max')\n",
    "        j = j + 1\n",
    "\n",
    "    # find local min/max\n",
    "    print(f'Local mins of f(x) = {f}: {min_list}')\n",
    "    print(f'Local maxes of f(x) = {f}: {max_list}')\n"
   ]
  },
  {
   "cell_type": "code",
   "execution_count": null,
   "metadata": {},
   "outputs": [],
   "source": []
  }
 ],
 "metadata": {
  "kernelspec": {
   "display_name": "Python 3 (ipykernel)",
   "language": "python",
   "name": "python3"
  },
  "language_info": {
   "codemirror_mode": {
    "name": "ipython",
    "version": 3
   },
   "file_extension": ".py",
   "mimetype": "text/x-python",
   "name": "python",
   "nbconvert_exporter": "python",
   "pygments_lexer": "ipython3",
   "version": "3.11.3"
  }
 },
 "nbformat": 4,
 "nbformat_minor": 2
}
