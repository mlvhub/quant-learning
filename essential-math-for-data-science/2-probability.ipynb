{
 "cells": [
  {
   "cell_type": "markdown",
   "id": "12b92121",
   "metadata": {},
   "source": [
    "## Probability"
   ]
  },
  {
   "cell_type": "markdown",
   "id": "a2382b5a",
   "metadata": {},
   "source": [
    "### Odds to Probability\n",
    "\n",
    "$P(X) = \\frac{O(X)}{1+O(X)}$\n",
    "\n",
    "### Probability to Odds\n",
    "\n",
    "$O(X) = \\frac{P(X)}{1 - P(X)}$"
   ]
  },
  {
   "cell_type": "markdown",
   "id": "42e9fe9f",
   "metadata": {},
   "source": [
    "## Probability Math\n",
    "\n",
    "### Joint Probabilities\n",
    "\n",
    "$P(\\text{A AND B}) = P(A) * P(B)$\n",
    "\n",
    "Example: there are two sides on a coin and six sides on the die, so the probability of heads is 1/2 and the probability of six is 1/6.\n",
    "\n",
    "$P(\\text{heads AND 6}) = \\frac{1}{2} * \\frac{1}{6} = \\frac{1}{12} = 0.08\\overline{333}$\n",
    "\n",
    "#### Why?\n",
    "\n",
    "H1  H2  H3  H4  H5  **H6**  T1  T2  T3  T4  T5  T6\n",
    "\n",
    "### Union Probabilities\n",
    "\n",
    "#### Mutually exclusive events\n",
    "\n",
    "$P(\\text{A OR B}) = P(A) + P(B)$\n",
    "\n",
    "$P(\\text{4 OR 6}) = \\frac{1}{6} + \\frac{1}{6} = \\frac{1}{3}$\n",
    "\n",
    "#### Nonmutually exclusive events\n",
    "\n",
    "$P(\\text{heads OR 6}) = \\frac{7}{12} = 0.58\\overline{333}$\n",
    "\n",
    "##### Why?\n",
    "\n",
    "**H1  H2  H3  H4  H5  H6**  T1  T2  T3  T4  T5  **T6**\n",
    "\n",
    "**NOTE**: adding both probabilites would be wrong as we would be double counting the probability of getting a 6 (H6 and T6).\n",
    "\n",
    "**Wrong**: $P(\\text{heads OR 6}) = \\frac{1}{2} + \\frac{1}{6} = \\frac{4}{6} = 0.\\overline{666}$\n",
    "\n",
    "The logical way to remove double-counting in a union probability is to subtract the joint probability. This is known as the sum rule of probability and ensures every joint event is counted only once:\n",
    "\n",
    "$P(\\text{A OR B}) = P(A) + P(B) - P(\\text{A AND B})$\n",
    "\n",
    "$P(\\text{A OR B}) = P(A) + P(B) - P(A) * P(B)$\n",
    "\n",
    "$P(\\text{heads OR 6}) = \\frac{1}{2} + \\frac{1}{6} - (\\frac{1}{2} * \\frac{1}{6}) = 0.58\\overline{333}$"
   ]
  },
  {
   "cell_type": "markdown",
   "id": "5041f1a4",
   "metadata": {},
   "source": [
    "### Conditional Probability and Bayes’ Theorem\n",
    "\n",
    "$P(\\text{A GIVEN B})$ or $P(A|B)$\n",
    "\n",
    "Example:\n",
    "\n",
    "$P(\\text{Coffee GIVEN Cancer})$ or $P(\\text{Coffee|Cancer})$: This represents a probability of people who drink coffee given they have cancer.\n",
    "\n",
    "$P(\\text{Coffee}) = 0.65$\n",
    "\n",
    "$P(\\text{Cancer}) = 0.005$\n",
    "\n",
    "$P(\\text{Coffee|Cancer}) = 0.85$\n",
    "\n",
    "The direction of the condition matters. The “probability of having cancer given you are a coffee drinker” is different from the “probability of being a coffee drinker given you have cancer.”\n",
    "\n",
    "How do we flip the condition?\n",
    "\n",
    "#### Bayes’ Theorem\n",
    "\n",
    "$P(\\text{A|B}) = \\frac{P(\\text{B|A}) * P(A)}{P(B)}$\n",
    "\n",
    "$P(\\text{Cancer|Coffee}) = \\frac{P(\\text{Coffee|Cancer}) * P(Coffee)}{P(Cancer)}$\n",
    "\n",
    "$P(\\text{Cancer|Coffee}) = \\frac{0.85 * 0.005}{0.65} = 0.0065$"
   ]
  },
  {
   "cell_type": "code",
   "execution_count": 3,
   "id": "6252f8fd",
   "metadata": {},
   "outputs": [
    {
     "data": {
      "text/plain": [
       "0.006538461538461539"
      ]
     },
     "execution_count": 3,
     "metadata": {},
     "output_type": "execute_result"
    }
   ],
   "source": [
    "# Using Bayes’ Theorem in Python\n",
    "\n",
    "p_coffee_drinker = .65\n",
    "p_cancer = .005\n",
    "p_coffee_drinker_given_cancer = .85\n",
    "\n",
    "p_cancer_given_coffee_drinker = p_coffee_drinker_given_cancer * p_cancer / p_coffee_drinker\n",
    "\n",
    "p_cancer_given_coffee_drinker"
   ]
  },
  {
   "cell_type": "markdown",
   "id": "597385b6",
   "metadata": {},
   "source": [
    "### Joint and Union Conditional Probabilities\n",
    "\n"
   ]
  }
 ],
 "metadata": {
  "kernelspec": {
   "display_name": "Python 3 (ipykernel)",
   "language": "python",
   "name": "python3"
  },
  "language_info": {
   "codemirror_mode": {
    "name": "ipython",
    "version": 3
   },
   "file_extension": ".py",
   "mimetype": "text/x-python",
   "name": "python",
   "nbconvert_exporter": "python",
   "pygments_lexer": "ipython3",
   "version": "3.10.9"
  }
 },
 "nbformat": 4,
 "nbformat_minor": 5
}
