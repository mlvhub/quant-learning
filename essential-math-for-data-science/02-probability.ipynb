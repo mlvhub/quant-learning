{
 "cells": [
  {
   "cell_type": "markdown",
   "id": "12b92121",
   "metadata": {},
   "source": [
    "## Probability"
   ]
  },
  {
   "cell_type": "markdown",
   "id": "a2382b5a",
   "metadata": {},
   "source": [
    "### Odds to Probability\n",
    "\n",
    "$P(X) = \\frac{O(X)}{1+O(X)}$\n",
    "\n",
    "### Probability to Odds\n",
    "\n",
    "$O(X) = \\frac{P(X)}{1 - P(X)}$"
   ]
  },
  {
   "cell_type": "markdown",
   "id": "42e9fe9f",
   "metadata": {},
   "source": [
    "## Probability Math\n",
    "\n",
    "### Joint Probabilities\n",
    "\n",
    "$P(\\text{A AND B}) = P(A) * P(B)$\n",
    "\n",
    "Example: there are two sides on a coin and six sides on the die, so the probability of heads is 1/2 and the probability of six is 1/6.\n",
    "\n",
    "$P(\\text{heads AND 6}) = \\frac{1}{2} * \\frac{1}{6} = \\frac{1}{12} = 0.08\\overline{333}$\n",
    "\n",
    "#### Why?\n",
    "\n",
    "H1  H2  H3  H4  H5  **H6**  T1  T2  T3  T4  T5  T6\n",
    "\n",
    "### Union Probabilities\n",
    "\n",
    "#### Mutually exclusive events\n",
    "\n",
    "$P(\\text{A OR B}) = P(A) + P(B)$\n",
    "\n",
    "$P(\\text{4 OR 6}) = \\frac{1}{6} + \\frac{1}{6} = \\frac{1}{3}$\n",
    "\n",
    "#### Nonmutually exclusive events\n",
    "\n",
    "$P(\\text{heads OR 6}) = \\frac{7}{12} = 0.58\\overline{333}$\n",
    "\n",
    "##### Why?\n",
    "\n",
    "**H1  H2  H3  H4  H5  H6**  T1  T2  T3  T4  T5  **T6**\n",
    "\n",
    "**NOTE**: adding both probabilites would be wrong as we would be double counting the probability of getting a 6 (H6 and T6).\n",
    "\n",
    "**Wrong**: $P(\\text{heads OR 6}) = \\frac{1}{2} + \\frac{1}{6} = \\frac{4}{6} = 0.\\overline{666}$\n",
    "\n",
    "The logical way to remove double-counting in a union probability is to subtract the joint probability. This is known as the sum rule of probability and ensures every joint event is counted only once:\n",
    "\n",
    "$P(\\text{A OR B}) = P(A) + P(B) - P(\\text{A AND B})$\n",
    "\n",
    "$P(\\text{A OR B}) = P(A) + P(B) - P(A) * P(B)$\n",
    "\n",
    "$P(\\text{heads OR 6}) = \\frac{1}{2} + \\frac{1}{6} - (\\frac{1}{2} * \\frac{1}{6}) = 0.58\\overline{333}$"
   ]
  },
  {
   "cell_type": "markdown",
   "id": "5041f1a4",
   "metadata": {},
   "source": [
    "### Conditional Probability and Bayes’ Theorem\n",
    "\n",
    "$P(\\text{A GIVEN B})$ or $P(A|B)$\n",
    "\n",
    "Example:\n",
    "\n",
    "$P(\\text{Coffee GIVEN Cancer})$ or $P(\\text{Coffee|Cancer})$: This represents a probability of people who drink coffee given they have cancer.\n",
    "\n",
    "$P(\\text{Coffee}) = 0.65$\n",
    "\n",
    "$P(\\text{Cancer}) = 0.005$\n",
    "\n",
    "$P(\\text{Coffee|Cancer}) = 0.85$\n",
    "\n",
    "The direction of the condition matters. The “probability of having cancer given you are a coffee drinker” is different from the “probability of being a coffee drinker given you have cancer.”\n",
    "\n",
    "How do we flip the condition?\n",
    "\n",
    "#### Bayes’ Theorem\n",
    "\n",
    "$P(\\text{A|B}) = \\frac{P(\\text{B|A}) * P(A)}{P(B)}$\n",
    "\n",
    "$P(\\text{Cancer|Coffee}) = \\frac{P(\\text{Coffee|Cancer}) * P(Coffee)}{P(Cancer)}$\n",
    "\n",
    "$P(\\text{Cancer|Coffee}) = \\frac{0.85 * 0.005}{0.65} = 0.0065$"
   ]
  },
  {
   "cell_type": "code",
   "execution_count": 3,
   "id": "6252f8fd",
   "metadata": {},
   "outputs": [
    {
     "data": {
      "text/plain": [
       "0.006538461538461539"
      ]
     },
     "execution_count": 3,
     "metadata": {},
     "output_type": "execute_result"
    }
   ],
   "source": [
    "# Using Bayes’ Theorem in Python\n",
    "\n",
    "p_coffee_drinker = .65\n",
    "p_cancer = .005\n",
    "p_coffee_drinker_given_cancer = .85\n",
    "\n",
    "p_cancer_given_coffee_drinker = p_coffee_drinker_given_cancer * p_cancer / p_coffee_drinker\n",
    "\n",
    "p_cancer_given_coffee_drinker"
   ]
  },
  {
   "cell_type": "markdown",
   "id": "597385b6",
   "metadata": {},
   "source": [
    "### Joint and Union Conditional Probabilities\n",
    "\n"
   ]
  },
  {
   "cell_type": "markdown",
   "id": "df02c10f",
   "metadata": {},
   "source": [
    "The probability somebody is a coffee drinker AND they have cancer:\n",
    "\n",
    "$P(\\text{Cancer|Coffee}) * P(\\text{Cancer}) = 0.85 * 0.005 = 0.00425$\n",
    "\n",
    "This means the probability of someone having cancer and being a coffee drinker is 0.425%:\n",
    "\n",
    "$P(\\text{Cancer AND Coffee}) = P(\\text{Cancer|Coffee}) * P(\\text{Cancer}) = 0.85 * 0.005 = 0.00425$\n",
    "\n",
    "> If we did not have any conditional probabilities available, then the best we can do is multiply $P(\\text{Coffee Drinker})$ and as shown here: $P(\\text{Coffee}) * P(\\text{Cancer}) = 0.65 * 0.005 = 0.00325$\n",
    "\n",
    "If event A has no impact on event B, then what does that mean for conditional probability P(B|A)? That means P(B|A) = P(B), therefore:\n",
    "\n",
    "$P(\\text{A AND B}) = P(\\text{B}) * P(\\text{A|B})$\n",
    "\n",
    "To calculate the probability of A or B occurring, but A may affect the probability of B, we update our sum rule like this:\n",
    "\n",
    "$P(\\text{A OR B}) = P(\\text{A}) + P(\\text{B}) - P(\\text{A|B}) * P(\\text{B})$"
   ]
  },
  {
   "cell_type": "markdown",
   "id": "164de9ee",
   "metadata": {},
   "source": [
    "## Binomial Distribution\n",
    "\n"
   ]
  },
  {
   "cell_type": "code",
   "execution_count": 3,
   "id": "2555283f",
   "metadata": {},
   "outputs": [
    {
     "name": "stdout",
     "output_type": "stream",
     "text": [
      "0 - 9.999999999999978e-11\n",
      "1 - 8.999999999999978e-09\n",
      "2 - 3.6449999999999943e-07\n",
      "3 - 8.747999999999991e-06\n",
      "4 - 0.00013778099999999974\n",
      "5 - 0.0014880347999999982\n",
      "6 - 0.011160260999999996\n",
      "7 - 0.05739562799999997\n",
      "8 - 0.1937102444999998\n",
      "9 - 0.38742048899999976\n",
      "10 - 0.3486784401000001\n"
     ]
    }
   ],
   "source": [
    "from scipy.stats import binom\n",
    "\n",
    "n = 10\n",
    "p = 0.9\n",
    "binoms = []\n",
    "\n",
    "for k in range(n + 1):\n",
    "    probability = binom.pmf(k, n, p)\n",
    "    binoms.append(probability)\n",
    "    print(\"{0} - {1}\".format(k, probability))\n"
   ]
  },
  {
   "cell_type": "code",
   "execution_count": 8,
   "id": "263fb5bd",
   "metadata": {},
   "outputs": [
    {
     "data": {
      "text/plain": [
       "<BarContainer object of 11 artists>"
      ]
     },
     "execution_count": 8,
     "metadata": {},
     "output_type": "execute_result"
    },
    {
     "data": {
      "image/png": "[encoded data removed]",
      "text/plain": [
       "<Figure size 800x550 with 1 Axes>"
      ]
     },
     "metadata": {},
     "output_type": "display_data"
    }
   ],
   "source": [
    "import matplotlib.pyplot as plt\n",
    "plt.style.use(\"seaborn-v0_8\")\n",
    "\n",
    "plt.bar(range(0, 11), binoms)"
   ]
  },
  {
   "cell_type": "markdown",
   "id": "2574f5f0",
   "metadata": {},
   "source": [
    "## Beta Distribution"
   ]
  },
  {
   "cell_type": "code",
   "execution_count": 17,
   "id": "71d7057c",
   "metadata": {},
   "outputs": [
    {
     "data": {
      "text/plain": [
       "0.7748409780000002"
      ]
     },
     "execution_count": 17,
     "metadata": {},
     "output_type": "execute_result"
    }
   ],
   "source": [
    "# Beta distribution using SciPy\n",
    "\n",
    "from scipy.stats import beta\n",
    "\n",
    "successes = 8\n",
    "failures = 2\n",
    "\n",
    "left_area = beta.cdf(.90, successes, failures)\n",
    "left_area"
   ]
  },
  {
   "cell_type": "code",
   "execution_count": 18,
   "id": "6e49e5d8",
   "metadata": {},
   "outputs": [
    {
     "data": {
      "text/plain": [
       "0.22515902199999982"
      ]
     },
     "execution_count": 18,
     "metadata": {},
     "output_type": "execute_result"
    }
   ],
   "source": [
    "# Subtracting to get a right area in a beta distribution\n",
    "\n",
    "right_area = 1 - left_area\n",
    "right_area"
   ]
  },
  {
   "cell_type": "code",
   "execution_count": 20,
   "id": "17aa1e8d",
   "metadata": {},
   "outputs": [
    {
     "data": {
      "text/plain": [
       "0.13163577484183697"
      ]
     },
     "execution_count": 20,
     "metadata": {},
     "output_type": "execute_result"
    }
   ],
   "source": [
    "# A beta distribution with more trials\n",
    "\n",
    "from scipy.stats import beta\n",
    "\n",
    "successes = 30\n",
    "failures = 6\n",
    "\n",
    "1.0 - beta.cdf(.90, successes, failures)"
   ]
  },
  {
   "cell_type": "code",
   "execution_count": 21,
   "id": "4fc54951",
   "metadata": {},
   "outputs": [
    {
     "data": {
      "text/plain": [
       "0.33863336199999994"
      ]
     },
     "execution_count": 21,
     "metadata": {},
     "output_type": "execute_result"
    }
   ],
   "source": [
    "# Beta distribution middle area using SciPy\n",
    "\n",
    "from scipy.stats import beta\n",
    "\n",
    "successes = 8\n",
    "failures = 2\n",
    "\n",
    "beta.cdf(.90, successes, failures) - beta.cdf(.80, successes, failures)"
   ]
  },
  {
   "cell_type": "markdown",
   "id": "6c5be935",
   "metadata": {},
   "source": [
    "## Exercises\n",
    "\n",
    "\n",
    "\n"
   ]
  },
  {
   "cell_type": "markdown",
   "id": "3b0a723e",
   "metadata": {},
   "source": [
    "1. There is a 30% chance of rain today, and a 40% chance your umbrella order will arrive on time. You are eager to walk in the rain today and cannot do so without either!\n",
    "\n",
    "**What is the probability it will rain AND your umbrella will arrive?**\n",
    "\n",
    "> $0.3 * 0.4 = 0.12$"
   ]
  },
  {
   "cell_type": "markdown",
   "id": "d9a89a40",
   "metadata": {},
   "source": [
    "2. There is a 30% chance of rain today, and a 40% chance your umbrella order will arrive on time. You will be able to run errands only if it does not rain or your umbrella arrives.\n",
    "\n",
    "**What is the probability it will not rain OR your umbrella arrives?**\n",
    "\n",
    "> $(1 - 0.3) + 0.4 - (0.3 * 0.4) = 0.98$"
   ]
  },
  {
   "cell_type": "markdown",
   "id": "c5b5191d",
   "metadata": {},
   "source": [
    "3. There is a 30% chance of rain today, and a 40% chance your umbrella order will arrive on time. However, you found out if it rains there is only a 20% chance your umbrella will arrive on time.\n",
    "\n",
    "**What is the probability it will rain AND your umbrella will arrive on time?**\n",
    "\n",
    ">$P(\\text{Umbrella AND Rain}) = P(\\text{Rain}) * P(\\text{Umbrella|Rain})$<br>\n",
    ">$P(\\text{Umbrella AND Rain}) = 0.3 * 0.2 = 0.06$\n",
    "\n"
   ]
  },
  {
   "cell_type": "markdown",
   "id": "2c0b7f8c",
   "metadata": {},
   "source": [
    "4. You have 137 passengers booked on a flight from Las Vegas to Dallas. However, it is Las Vegas on a Sunday morning and you estimate each passenger is 40% likely to not show up. You are trying to figure out how many seats to overbook so the plane does not fly empty.\n",
    "\n",
    "**How likely is it at least 50 passengers will not show up?**"
   ]
  },
  {
   "cell_type": "code",
   "execution_count": 24,
   "id": "bccea0d4",
   "metadata": {},
   "outputs": [
    {
     "data": {
      "text/plain": [
       "0.04958507128101913"
      ]
     },
     "execution_count": 24,
     "metadata": {},
     "output_type": "execute_result"
    }
   ],
   "source": [
    "# WRONG\n",
    "\n",
    "from scipy.stats import binom\n",
    "\n",
    "n = 137\n",
    "p = 0.4\n",
    "k = 50\n",
    "\n",
    "binom.pmf(k, n, p)"
   ]
  },
  {
   "cell_type": "code",
   "execution_count": 26,
   "id": "19fb956b",
   "metadata": {},
   "outputs": [
    {
     "data": {
      "text/plain": [
       "0.8220955881474253"
      ]
     },
     "execution_count": 26,
     "metadata": {},
     "output_type": "execute_result"
    }
   ],
   "source": [
    "# Correct\n",
    "\n",
    "from scipy.stats import binom\n",
    "\n",
    "n = 137\n",
    "p = .40\n",
    "\n",
    "p_50_or_more_noshows = 0.0\n",
    "\n",
    "for x in range(50,138):\n",
    "    p_50_or_more_noshows += binom.pmf(x, n, p)\n",
    "\n",
    "p_50_or_more_noshows"
   ]
  },
  {
   "cell_type": "markdown",
   "id": "260ed8e4",
   "metadata": {},
   "source": [
    "5. You flipped a coin 19 times and got heads 15 times and tails 4 times.\n",
    "\n",
    "**Do you think this coin has any good probability of being fair? Why or why not?**\n"
   ]
  },
  {
   "cell_type": "code",
   "execution_count": 32,
   "id": "0d42cf98",
   "metadata": {},
   "outputs": [
    {
     "data": {
      "text/plain": [
       "0.9962310791015625"
      ]
     },
     "execution_count": 32,
     "metadata": {},
     "output_type": "execute_result"
    }
   ],
   "source": [
    "from scipy.stats import beta\n",
    "\n",
    "successes = 15\n",
    "failures = 4\n",
    "\n",
    "1 - beta.cdf(.50, successes, failures)"
   ]
  },
  {
   "cell_type": "markdown",
   "id": "00462411",
   "metadata": {},
   "source": [
    "> No, the chance of the coin being between 50% and 100% is 99.6%."
   ]
  }
 ],
 "metadata": {
  "kernelspec": {
   "display_name": "Python 3 (ipykernel)",
   "language": "python",
   "name": "python3"
  },
  "language_info": {
   "codemirror_mode": {
    "name": "ipython",
    "version": 3
   },
   "file_extension": ".py",
   "mimetype": "text/x-python",
   "name": "python",
   "nbconvert_exporter": "python",
   "pygments_lexer": "ipython3",
   "version": "3.10.9"
  }
 },
 "nbformat": 4,
 "nbformat_minor": 5
}
