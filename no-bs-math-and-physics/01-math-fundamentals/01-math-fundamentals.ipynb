{
 "cells": [
  {
   "cell_type": "markdown",
   "id": "45d3c933",
   "metadata": {},
   "source": [
    "## 1.17 Circles and polar coordinates"
   ]
  },
  {
   "cell_type": "markdown",
   "id": "33a1ba09",
   "metadata": {},
   "source": [
    "### Exercises"
   ]
  },
  {
   "cell_type": "markdown",
   "id": "809453ad",
   "metadata": {},
   "source": [
    "#### E1.31"
   ]
  },
  {
   "cell_type": "markdown",
   "id": "973546a7",
   "metadata": {},
   "source": [
    "a) (3,1)"
   ]
  },
  {
   "cell_type": "code",
   "execution_count": 22,
   "id": "6791e231",
   "metadata": {},
   "outputs": [],
   "source": [
    "from sympy import *\n",
    "from mpmath import *\n",
    "\n",
    "def r(x, y):\n",
    "    return (x**2 + y**2) ** (1/2)\n",
    "\n",
    "def theta(x, y):\n",
    "    return degrees(atan2(y, x))"
   ]
  },
  {
   "cell_type": "code",
   "execution_count": 23,
   "id": "c334dcba",
   "metadata": {},
   "outputs": [
    {
     "data": {
      "text/plain": [
       "3.1622776601683795"
      ]
     },
     "execution_count": 23,
     "metadata": {},
     "output_type": "execute_result"
    }
   ],
   "source": [
    "r(3, 1)"
   ]
  },
  {
   "cell_type": "code",
   "execution_count": 24,
   "id": "3fa7046e",
   "metadata": {},
   "outputs": [
    {
     "data": {
      "text/plain": [
       "mpf('18.43494882292201')"
      ]
     },
     "execution_count": 24,
     "metadata": {},
     "output_type": "execute_result"
    }
   ],
   "source": [
    "theta(3, 1)"
   ]
  },
  {
   "cell_type": "markdown",
   "id": "b2495c08",
   "metadata": {},
   "source": [
    "$$\n",
    "3.16\\angle{18.43}^\\circ\n",
    "$$"
   ]
  },
  {
   "cell_type": "markdown",
   "id": "b6664370",
   "metadata": {},
   "source": [
    "b) (-1, -2)"
   ]
  },
  {
   "cell_type": "code",
   "execution_count": 25,
   "id": "ba376d4d",
   "metadata": {},
   "outputs": [
    {
     "data": {
      "text/plain": [
       "2.23606797749979"
      ]
     },
     "execution_count": 25,
     "metadata": {},
     "output_type": "execute_result"
    }
   ],
   "source": [
    "r(-1, -2)"
   ]
  },
  {
   "cell_type": "code",
   "execution_count": 28,
   "id": "8db3a01a",
   "metadata": {},
   "outputs": [
    {
     "data": {
      "text/plain": [
       "mpf('243.43494882292202')"
      ]
     },
     "execution_count": 28,
     "metadata": {},
     "output_type": "execute_result"
    }
   ],
   "source": [
    "360+theta(-1, -2)"
   ]
  },
  {
   "cell_type": "markdown",
   "id": "6b4c51d7",
   "metadata": {},
   "source": [
    "$$\n",
    "2.24\\angle{243.44}^\\circ\n",
    "$$"
   ]
  },
  {
   "cell_type": "markdown",
   "id": "14ed2ab4",
   "metadata": {},
   "source": [
    "c) (0, -6)"
   ]
  },
  {
   "cell_type": "code",
   "execution_count": 29,
   "id": "ac15b8ae",
   "metadata": {},
   "outputs": [
    {
     "data": {
      "text/plain": [
       "6.0"
      ]
     },
     "execution_count": 29,
     "metadata": {},
     "output_type": "execute_result"
    }
   ],
   "source": [
    "r(0,-6)"
   ]
  },
  {
   "cell_type": "code",
   "execution_count": 31,
   "id": "02b0762b",
   "metadata": {},
   "outputs": [
    {
     "data": {
      "text/plain": [
       "mpf('270.0')"
      ]
     },
     "execution_count": 31,
     "metadata": {},
     "output_type": "execute_result"
    }
   ],
   "source": [
    "360+theta(0,-6)"
   ]
  },
  {
   "cell_type": "markdown",
   "id": "9a76e94e",
   "metadata": {},
   "source": [
    "$$\n",
    "6\\angle{270}^\\circ\n",
    "$$"
   ]
  },
  {
   "cell_type": "markdown",
   "id": "458f25c0",
   "metadata": {},
   "source": [
    "## 1.22 Compound interest\n",
    "\n",
    "### Exercises"
   ]
  },
  {
   "cell_type": "markdown",
   "id": "03d8fc39",
   "metadata": {},
   "source": [
    "#### E1.39\n",
    "\n",
    "a)"
   ]
  },
  {
   "cell_type": "code",
   "execution_count": 33,
   "id": "ce05c3bf",
   "metadata": {},
   "outputs": [],
   "source": [
    "def monthly(apr, n, capital):\n",
    "    monthly_rate = (1 + (apr/12)/100)**n\n",
    "    return monthly_rate * capital"
   ]
  },
  {
   "cell_type": "code",
   "execution_count": 35,
   "id": "068a7f97",
   "metadata": {},
   "outputs": [
    {
     "data": {
      "text/plain": [
       "53974.141887632984"
      ]
     },
     "execution_count": 35,
     "metadata": {},
     "output_type": "execute_result"
    }
   ],
   "source": [
    "monthly(3, 120, 40000)"
   ]
  },
  {
   "cell_type": "markdown",
   "id": "d75ef0d5",
   "metadata": {},
   "source": [
    "b)"
   ]
  },
  {
   "cell_type": "code",
   "execution_count": 46,
   "id": "a165582b",
   "metadata": {},
   "outputs": [
    {
     "data": {
      "text/plain": [
       "59209.77139673378"
      ]
     },
     "execution_count": 46,
     "metadata": {},
     "output_type": "execute_result"
    }
   ],
   "source": [
    "40000*(1.04)**10"
   ]
  },
  {
   "cell_type": "markdown",
   "id": "f9c96404",
   "metadata": {},
   "source": [
    "c)"
   ]
  },
  {
   "cell_type": "code",
   "execution_count": 50,
   "id": "e1bc7dd7",
   "metadata": {},
   "outputs": [
    {
     "data": {
      "text/plain": [
       "65948.85082800518"
      ]
     },
     "execution_count": 50,
     "metadata": {},
     "output_type": "execute_result"
    }
   ],
   "source": [
    "import math\n",
    "\n",
    "math.exp(5/100)**10 *40000"
   ]
  },
  {
   "cell_type": "markdown",
   "id": "b31f18f3",
   "metadata": {},
   "source": [
    "#### E.140"
   ]
  },
  {
   "cell_type": "code",
   "execution_count": 53,
   "id": "4dd4f2f0",
   "metadata": {},
   "outputs": [
    {
     "data": {
      "text/plain": [
       "32563.12066105914"
      ]
     },
     "execution_count": 53,
     "metadata": {},
     "output_type": "execute_result"
    }
   ],
   "source": [
    "first_apr=20000*(1.06)**5\n",
    "second_apr=first_apr*(1.04)**5\n",
    "second_apr"
   ]
  },
  {
   "cell_type": "code",
   "execution_count": null,
   "id": "9c771020",
   "metadata": {},
   "outputs": [],
   "source": []
  }
 ],
 "metadata": {
  "kernelspec": {
   "display_name": "Python 3 (ipykernel)",
   "language": "python",
   "name": "python3"
  },
  "language_info": {
   "codemirror_mode": {
    "name": "ipython",
    "version": 3
   },
   "file_extension": ".py",
   "mimetype": "text/x-python",
   "name": "python",
   "nbconvert_exporter": "python",
   "pygments_lexer": "ipython3",
   "version": "3.11.3"
  }
 },
 "nbformat": 4,
 "nbformat_minor": 5
}
