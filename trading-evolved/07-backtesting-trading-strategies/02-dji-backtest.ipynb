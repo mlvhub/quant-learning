{
 "cells": [
  {
   "cell_type": "code",
   "execution_count": 6,
   "metadata": {},
   "outputs": [],
   "source": [
    "from zipline import run_algorithm\n",
    "from zipline.api import order_target_percent, symbol\n",
    "import pandas as pd\n",
    "import matplotlib.pyplot as plt"
   ]
  },
  {
   "cell_type": "code",
   "execution_count": 7,
   "id": "af01583c",
   "metadata": {},
   "outputs": [],
   "source": [
    "# If using UTC, we get the following error: `AttributeError: ‘datetime.timezone’ object has no attribute ‘key’`\n",
    "start_date = pd.Timestamp('2003-01-01')\n",
    "end_date = pd.Timestamp(\"2017-12-31\")"
   ]
  },
  {
   "cell_type": "code",
   "execution_count": 8,
   "id": "08f70e13",
   "metadata": {},
   "outputs": [],
   "source": [
    "def initialize(context):\n",
    "    dji = [\n",
    "        \"AAPL\",\n",
    "        \"AXP\",\n",
    "        \"BA\",\n",
    "        \"CAT\",\n",
    "        \"CSCO\",\n",
    "        \"CVX\",\n",
    "        \"DD\",\n",
    "        \"DIS\",\n",
    "        \"GE\",\n",
    "        \"GS\",\n",
    "        \"HD\",\n",
    "        \"IBM\",\n",
    "        \"INTC\",\n",
    "        \"JNJ\",\n",
    "        \"JPM\",\n",
    "        \"KO\",\n",
    "        \"MCD\",\n",
    "        \"MMM\",\n",
    "        \"MRK\",\n",
    "        \"MSFT\",\n",
    "        \"NKE\",\n",
    "        \"PFE\",\n",
    "        \"PG\",\n",
    "        \"TRV\",\n",
    "        \"UNH\",\n",
    "        \"UTX\",\n",
    "        \"VZ\",\n",
    "        \"WMT\",\n",
    "        \"XOM\"\n",
    "    ]\n",
    "    context.dji_symbols = [symbol(s) for s in dji]\n",
    "    context.index_average_window = 100"
   ]
  },
  {
   "cell_type": "code",
   "execution_count": 9,
   "id": "658440ed",
   "metadata": {},
   "outputs": [],
   "source": [
    "def handle_data(context, data):\n",
    "    stock_hist = data.history(context.dji_symbols, 'close', context.index_average_window, '1d')\n",
    "\n",
    "    stock_analytics = pd.DataFrame()\n",
    "\n",
    "    # add column for above or below average\n",
    "    stock_analytics['above_mean'] = stock_hist.iloc[-1] > stock_hist.mean()\n",
    "\n",
    "    # set weight for stocks to buy\n",
    "    stock_analytics.loc[stock_analytics['above_mean'] == True, 'weight'] = 1 / len(context.dji_symbols)\n",
    "    # set weight to 0 for the rest\n",
    "    stock_analytics.loc[stock_analytics['above_mean'] == False, 'weight'] = 0.0\n",
    "\n",
    "    for stock, analytics in stock_analytics.iterrows():\n",
    "        order_target_percent(stock, analytics['weight'])\n",
    "        if data.can_trade(stock):\n",
    "            order_target_percent(stock, analytics['weight'])"
   ]
  },
  {
   "cell_type": "code",
   "execution_count": 10,
   "id": "a37ecce1",
   "metadata": {},
   "outputs": [],
   "source": [
    "def analyze(context, perf):\n",
    "    fig = plt.figure(figsize=(12, 8))\n",
    "\n",
    "    # First chart\n",
    "    ax = fig.add_subplot(311)\n",
    "    ax.set_title(\"Strategy Results\")\n",
    "    ax.semilogy(\n",
    "        perf[\"portfolio_value\"], linestyle=\"-\", label=\"Equity Curve\", linewidth=3.0\n",
    "    )\n",
    "    ax.legend()\n",
    "    ax.grid(False)\n",
    "\n",
    "    # Second chart\n",
    "    ax = fig.add_subplot(312)\n",
    "    ax.plot(perf[\"gross_leverage\"], label=\"Exposure\", linestyle=\"-\", linewidth=1.0)\n",
    "    ax.legend()\n",
    "    ax.grid(True)\n",
    "\n",
    "    # Third chart\n",
    "    ax = fig.add_subplot(313)\n",
    "    ax.plot(perf[\"returns\"], label=\"Returns\", linestyle=\"-.\", linewidth=1.0)\n",
    "    ax.legend()\n",
    "    ax.grid(True)"
   ]
  },
  {
   "cell_type": "code",
   "execution_count": 11,
   "id": "1563d0eb",
   "metadata": {},
   "outputs": [],
   "source": [
    "result = run_algorithm(\n",
    "    start=start_date,\n",
    "    end=end_date,\n",
    "    initialize=initialize,\n",
    "    handle_data=handle_data,\n",
    "    analyze=analyze,\n",
    "    capital_base=10000,\n",
    "    data_frequency='daily',\n",
    "    bundle='quandl'\n",
    ")"
   ]
  },
  {
   "cell_type": "markdown",
   "id": "a7fe0a52",
   "metadata": {},
   "source": [
    "There is a major issue with the backtest. We're using the current (at the time the book was written) constituents of the DJI, and the index did not have the same constituents back in 2003 when this simulation starts.\n",
    "\n",
    "Stocks end up in an index when they perform well in the past, therefore we already know the strategy will perform well in the past."
   ]
  }
 ],
 "metadata": {
  "jupytext": {
   "cell_metadata_filter": "-all",
   "notebook_metadata_filter": "-all"
  },
  "kernelspec": {
   "display_name": "Python 3 (ipykernel)",
   "language": "python",
   "name": "python3"
  },
  "language_info": {
   "codemirror_mode": {
    "name": "ipython",
    "version": 3
   },
   "file_extension": ".py",
   "mimetype": "text/x-python",
   "name": "python",
   "nbconvert_exporter": "python",
   "pygments_lexer": "ipython3",
   "version": "3.10.12"
  }
 },
 "nbformat": 4,
 "nbformat_minor": 5
}
