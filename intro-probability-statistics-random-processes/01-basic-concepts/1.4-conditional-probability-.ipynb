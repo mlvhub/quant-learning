{
 "cells": [
  {
   "cell_type": "code",
   "execution_count": 31,
   "metadata": {},
   "outputs": [],
   "source": [
    "import itertools\n",
    "from sympy import *\n",
    "import matplotlib.pyplot as plt"
   ]
  },
  {
   "cell_type": "code",
   "execution_count": 32,
   "metadata": {},
   "outputs": [],
   "source": [
    "import base64\n",
    "from IPython.display import Image, display\n",
    "import matplotlib.pyplot as plt\n",
    "\n",
    "def mm(graph):\n",
    "    graphbytes = graph.encode(\"utf8\")\n",
    "    base64_bytes = base64.b64encode(graphbytes)\n",
    "    base64_string = base64_bytes.decode(\"ascii\")\n",
    "    display(Image(url=\"https://mermaid.ink/img/\" + base64_string))"
   ]
  },
  {
   "cell_type": "markdown",
   "metadata": {},
   "source": [
    "## 1.4.0 Conditional Probability\n",
    "\n",
    "Notation:\n",
    "\n",
    "_What is the probability that it rains **given** that it is cloudy?_\n",
    "\n",
    "$$\n",
    "\\begin{aligned}\n",
    "R&: \\text{rainy} \\\\\n",
    "C&: \\text{cloudy} \\\\\n",
    "P&(R|C)\n",
    "\\end{aligned}\n",
    "$$"
   ]
  },
  {
   "cell_type": "markdown",
   "metadata": {},
   "source": [
    "## Example 1.15\n",
    "\n",
    "$$\n",
    "\\begin{aligned}\n",
    "A &= \\{1, 3, 5\\} \\\\\n",
    "B &= \\{1, 2, 3\\} \\\\\n",
    "P(A) &= \\frac{1}{3} \\\\ \n",
    "P(A|B) &= \\frac{P(A \\cap B)}{|B|} \\\\ \n",
    "P(A|B) &= \\frac{2}{3} \\\\ \n",
    "\\end{aligned}\n",
    "\n",
    "$$"
   ]
  },
  {
   "cell_type": "markdown",
   "metadata": {},
   "source": [
    "### Example 1.17"
   ]
  },
  {
   "cell_type": "code",
   "execution_count": 2,
   "metadata": {},
   "outputs": [
    {
     "data": {
      "text/plain": [
       "36"
      ]
     },
     "execution_count": 2,
     "metadata": {},
     "output_type": "execute_result"
    }
   ],
   "source": [
    "trials = list(itertools.product([1,2,3,4,5,6], repeat=2))\n",
    "len(trials)"
   ]
  },
  {
   "cell_type": "code",
   "execution_count": 3,
   "metadata": {},
   "outputs": [
    {
     "data": {
      "text/plain": [
       "0.3333333333333333"
      ]
     },
     "execution_count": 3,
     "metadata": {},
     "output_type": "execute_result"
    }
   ],
   "source": [
    "s = [(x1, x2) for (x1, x2) in trials if x1 + x2 == 7]\n",
    "a = [(x1, x2) for (x1, x2) in s if x1 == 4 or x2 == 4]\n",
    "\n",
    "len(a)/len(s)"
   ]
  },
  {
   "cell_type": "code",
   "execution_count": 4,
   "metadata": {},
   "outputs": [
    {
     "data": {
      "text/plain": [
       "0.8559987631416203"
      ]
     },
     "execution_count": 4,
     "metadata": {},
     "output_type": "execute_result"
    }
   ],
   "source": [
    "(95/100) * (94/99) * (93/98)"
   ]
  },
  {
   "cell_type": "markdown",
   "metadata": {},
   "source": [
    "**Chain rule for conditional probability:**\n",
    "\n",
    "Two events: \n",
    "$$\n",
    "\\begin{aligned}\n",
    "P(A \\cap B) &= P(A)P(B|A) \\\\\n",
    "&= P(B)P(A|B)\n",
    "\\end{aligned}\n",
    "$$\n",
    "\n",
    "$n$ events:\n",
    "\n",
    "$$\n",
    "\\begin{aligned}\n",
    "P(A_1 \\cap A_2 \\cap \\cdots \\cap A_n) &= P(A_1)P(A_2|A_1)P(A_3|A_2,A_1) \\cdots P(A_n|A_{n-1}A_{n-2}\\cdots A_1)\n",
    "\\end{aligned}\n",
    "$$"
   ]
  },
  {
   "cell_type": "markdown",
   "metadata": {},
   "source": [
    "### Example 1.19\n",
    "\n",
    "$$\n",
    "\\begin{aligned}\n",
    "P(A_1) &= \\frac{95}{100} \\\\\n",
    "P(A_2|A_1) &= \\frac{94}{99} \\\\\n",
    "P(A_3|A_1, A_2) &= \\frac{93}{98} \\\\\n",
    "P(A_1 \\cap A_2 \\cap A_3) &= P(A_1)P(A_2|A_1)P(A_3|A_2,A_1) \\\\\n",
    "&= \\frac{95}{100}\\frac{94}{99}\\frac{93}{98} \\\\\n",
    "\\end{aligned}\n",
    "$$"
   ]
  },
  {
   "cell_type": "code",
   "execution_count": 1,
   "metadata": {},
   "outputs": [
    {
     "data": {
      "text/plain": [
       "0.8559987631416203"
      ]
     },
     "execution_count": 1,
     "metadata": {},
     "output_type": "execute_result"
    }
   ],
   "source": [
    "(95/100)*(94/99)*(93/98)"
   ]
  },
  {
   "cell_type": "markdown",
   "metadata": {},
   "source": [
    "## 1.4.1 Independence\n",
    "\n"
   ]
  },
  {
   "cell_type": "markdown",
   "metadata": {},
   "source": [
    "## 1.4.3 Bayes' Rule"
   ]
  },
  {
   "cell_type": "markdown",
   "metadata": {},
   "source": [
    "### Example 1.25"
   ]
  },
  {
   "cell_type": "code",
   "execution_count": 5,
   "metadata": {},
   "outputs": [],
   "source": [
    "p_r_b1 = 0.75\n",
    "\n",
    "p_b1 = 1/3\n",
    "\n",
    "p_r = 0.6"
   ]
  },
  {
   "cell_type": "code",
   "execution_count": 6,
   "metadata": {},
   "outputs": [
    {
     "data": {
      "text/plain": [
       "0.4166666666666667"
      ]
     },
     "execution_count": 6,
     "metadata": {},
     "output_type": "execute_result"
    }
   ],
   "source": [
    "p_b1_r = (p_r_b1 * p_b1) / p_r\n",
    "p_b1_r"
   ]
  },
  {
   "cell_type": "markdown",
   "metadata": {},
   "source": [
    "## 1.4.4 Conditional Independence"
   ]
  },
  {
   "cell_type": "markdown",
   "metadata": {},
   "source": [
    "### Example 1.27"
   ]
  },
  {
   "cell_type": "code",
   "execution_count": 7,
   "metadata": {},
   "outputs": [
    {
     "name": "stdout",
     "output_type": "stream",
     "text": [
      "0.5\n",
      "0.5\n",
      "0.25\n",
      "0.75\n",
      "0.75\n"
     ]
    }
   ],
   "source": [
    "p_a_c = 1/2\n",
    "print(p_a_c)\n",
    "p_b_c = 1/2\n",
    "print(p_b_c)\n",
    "p_a_u_b_c = (1/2) * (1/2)\n",
    "print(p_a_u_b_c)\n",
    "p_a = ((1/2) * (1/2)) + (1 * (1/2))\n",
    "print(p_a)\n",
    "p_b = ((1/2) * (1/2)) + (1 * (1/2))\n",
    "print(p_b)\n",
    "# not sure about this last one\n",
    "p_a_i_b = 0"
   ]
  },
  {
   "cell_type": "markdown",
   "metadata": {},
   "source": [
    "## 1.4.5 Solved Problems: Conditional Probability"
   ]
  },
  {
   "cell_type": "markdown",
   "metadata": {},
   "source": [
    "### Problem 1"
   ]
  },
  {
   "cell_type": "code",
   "execution_count": 8,
   "metadata": {},
   "outputs": [
    {
     "data": {
      "text/latex": [
       "$\\displaystyle e^{- \\frac{t}{5}}$"
      ],
      "text/plain": [
       "exp(-t/5)"
      ]
     },
     "execution_count": 8,
     "metadata": {},
     "output_type": "execute_result"
    }
   ],
   "source": [
    "t = symbols('t')\n",
    "\n",
    "f = exp(-t/5)\n",
    "f"
   ]
  },
  {
   "cell_type": "code",
   "execution_count": 9,
   "metadata": {},
   "outputs": [
    {
     "data": {
      "text/latex": [
       "$\\displaystyle 0.121508409941613$"
      ],
      "text/plain": [
       "0.121508409941613"
      ]
     },
     "execution_count": 9,
     "metadata": {},
     "output_type": "execute_result"
    }
   ],
   "source": [
    "p_a = (f.subs(t, 2) - f.subs(t, 3)).evalf()\n",
    "p_a"
   ]
  },
  {
   "cell_type": "code",
   "execution_count": 10,
   "metadata": {},
   "outputs": [
    {
     "data": {
      "text/latex": [
       "$\\displaystyle 0.670320046035639$"
      ],
      "text/plain": [
       "0.670320046035639"
      ]
     },
     "execution_count": 10,
     "metadata": {},
     "output_type": "execute_result"
    }
   ],
   "source": [
    "p_b = f.subs(t, 2).evalf()\n",
    "p_b"
   ]
  },
  {
   "cell_type": "markdown",
   "metadata": {},
   "source": [
    "Since $A \\subset B$, we have $A \\cap B = A$:"
   ]
  },
  {
   "cell_type": "code",
   "execution_count": 11,
   "metadata": {},
   "outputs": [
    {
     "data": {
      "text/latex": [
       "$\\displaystyle 0.181269246922018$"
      ],
      "text/plain": [
       "0.181269246922018"
      ]
     },
     "execution_count": 11,
     "metadata": {},
     "output_type": "execute_result"
    }
   ],
   "source": [
    "p_a_b = p_a / p_b\n",
    "p_a_b"
   ]
  },
  {
   "cell_type": "markdown",
   "metadata": {},
   "source": [
    "### Problem 2"
   ]
  },
  {
   "cell_type": "code",
   "execution_count": 12,
   "metadata": {},
   "outputs": [
    {
     "data": {
      "text/plain": [
       "0.125"
      ]
     },
     "execution_count": 12,
     "metadata": {},
     "output_type": "execute_result"
    }
   ],
   "source": [
    "# a.\n",
    "\n",
    "(1/2)**3"
   ]
  },
  {
   "cell_type": "code",
   "execution_count": 13,
   "metadata": {},
   "outputs": [
    {
     "name": "stdout",
     "output_type": "stream",
     "text": [
      "8\n"
     ]
    },
    {
     "data": {
      "text/plain": [
       "[(1, 1, 1),\n",
       " (1, 1, 2),\n",
       " (1, 2, 1),\n",
       " (1, 2, 2),\n",
       " (2, 1, 1),\n",
       " (2, 1, 2),\n",
       " (2, 2, 1),\n",
       " (2, 2, 2)]"
      ]
     },
     "execution_count": 13,
     "metadata": {},
     "output_type": "execute_result"
    }
   ],
   "source": [
    "# b.\n",
    "trials = list(itertools.product([1,2], repeat=3))\n",
    "print(len(trials))\n",
    "trials"
   ]
  },
  {
   "cell_type": "code",
   "execution_count": 14,
   "metadata": {},
   "outputs": [
    {
     "data": {
      "text/plain": [
       "0.375"
      ]
     },
     "execution_count": 14,
     "metadata": {},
     "output_type": "execute_result"
    }
   ],
   "source": [
    "3/len(trials)"
   ]
  },
  {
   "cell_type": "code",
   "execution_count": 15,
   "metadata": {},
   "outputs": [
    {
     "data": {
      "text/plain": [
       "0.5714285714285714"
      ]
     },
     "execution_count": 15,
     "metadata": {},
     "output_type": "execute_result"
    }
   ],
   "source": [
    "# c.\n",
    "4/(len(trials) - 1)"
   ]
  },
  {
   "cell_type": "markdown",
   "metadata": {},
   "source": [
    "### Problem 3"
   ]
  },
  {
   "cell_type": "markdown",
   "metadata": {},
   "source": [
    "See https://www.probabilitycourse.com/chapter1/1_4_5_solved3.php"
   ]
  },
  {
   "cell_type": "markdown",
   "metadata": {},
   "source": [
    "### Problem 4\n",
    "\n",
    "See https://www.probabilitycourse.com/chapter1/1_4_5_solved3.php"
   ]
  },
  {
   "cell_type": "markdown",
   "metadata": {},
   "source": [
    "### Problem 5"
   ]
  },
  {
   "cell_type": "code",
   "execution_count": 21,
   "metadata": {},
   "outputs": [
    {
     "data": {
      "text/html": [
       "<img src=\"https://mermaid.ink/img/CmZsb3djaGFydCBMUgogICAgbWFya2Rvd25bImBUaGlzICoqaXMqKiBfTWFya2Rvd25fYCJdCiAgICBuZXdMaW5lc1siYExpbmUxCiAgICBMaW5lIDIKICAgIExpbmUgM2AiXQogICAgbWFya2Rvd24gLS0+IG5ld0xpbmVzCg==\"/>"
      ],
      "text/plain": [
       "<IPython.core.display.Image object>"
      ]
     },
     "metadata": {},
     "output_type": "display_data"
    }
   ],
   "source": [
    "# TODO: move decision tree from handwritten notes to here\n",
    "\n",
    "mm(\"\"\"\n",
    "flowchart LR\n",
    "    markdown[\"`This **is** _Markdown_`\"]\n",
    "    newLines[\"`Line1\n",
    "    Line 2\n",
    "    Line 3`\"]\n",
    "    markdown --> newLines\n",
    "\"\"\")"
   ]
  },
  {
   "cell_type": "code",
   "execution_count": 22,
   "metadata": {},
   "outputs": [
    {
     "data": {
      "text/plain": [
       "0.125"
      ]
     },
     "execution_count": 22,
     "metadata": {},
     "output_type": "execute_result"
    }
   ],
   "source": [
    "# a.\n",
    "1/8"
   ]
  },
  {
   "cell_type": "code",
   "execution_count": 28,
   "metadata": {},
   "outputs": [
    {
     "name": "stdout",
     "output_type": "stream",
     "text": [
      "0.22916666666666666\n"
     ]
    },
    {
     "data": {
      "text/plain": [
       "0.22916666666666666"
      ]
     },
     "execution_count": 28,
     "metadata": {},
     "output_type": "execute_result"
    }
   ],
   "source": [
    "# b.\n",
    "print(11/48)\n",
    "p_l = (1/12)+(1/24)+(1/24)+(1/16)\n",
    "p_l"
   ]
  },
  {
   "cell_type": "code",
   "execution_count": 27,
   "metadata": {},
   "outputs": [
    {
     "name": "stdout",
     "output_type": "stream",
     "text": [
      "0.125\n"
     ]
    },
    {
     "data": {
      "text/plain": [
       "0.125"
      ]
     },
     "execution_count": 27,
     "metadata": {},
     "output_type": "execute_result"
    }
   ],
   "source": [
    "# c.\n",
    "print(1/8)\n",
    "p_r_i_l = (1/12)+(1/24)\n",
    "p_r_i_l"
   ]
  },
  {
   "cell_type": "code",
   "execution_count": 30,
   "metadata": {},
   "outputs": [
    {
     "name": "stdout",
     "output_type": "stream",
     "text": [
      "0.5454545454545454\n"
     ]
    },
    {
     "data": {
      "text/plain": [
       "0.5454545454545455"
      ]
     },
     "execution_count": 30,
     "metadata": {},
     "output_type": "execute_result"
    }
   ],
   "source": [
    "print(6/11)\n",
    "p_r_l = p_r_i_l / p_l\n",
    "p_r_l"
   ]
  },
  {
   "cell_type": "markdown",
   "metadata": {},
   "source": [
    "### Problem 6"
   ]
  },
  {
   "cell_type": "code",
   "execution_count": 41,
   "metadata": {},
   "outputs": [
    {
     "data": {
      "text/html": [
       "<img src=\"https://mermaid.ink/img/CmZsb3djaGFydCBUQgogICAgZmlyc3RbImAxYCJdCiAgICByYzFbImBQKFJDMSkgPSAxLzNgIl0KICAgIHJjMWhbImBQKFJDMUgpID0gMS8zICogMS8yID0gMS82YCJdCiAgICByYzF0WyJgUChSQzFUKSA9IDEvMyAqIDEvMiA9IDEvNmAiXQogICAgcmMyWyJgUChSQzIpID0gMS8zYCJdCiAgICByYzJoWyJgUChSQzJIKSA9IDEvMyAqIDEvMiA9IDEvNmAiXQogICAgcmMydFsiYFAoUkMyVCkgPSAxLzMgKiAxLzIgPSAxLzZgIl0KICAgIGZjWyJgUChGQykgPSAxLzNgIl0KICAgIGZjaFsiYFAoRkNIKSA9IDEvMyAqIDEgPSAxLzNgIl0KICAgIGZjdFsiYFAoUkNUKSA9IDEvMyAqIDAgPSAwYCJdCiAgICBmaXJzdCAtLT4gcmMxCiAgICBmaXJzdCAtLT4gcmMyCiAgICBmaXJzdCAtLT4gZmMKICAgIHJjMSAtLT4gcmMxaAogICAgcmMxIC0tPiByYzF0CiAgICByYzIgLS0+IHJjMmgKICAgIHJjMiAtLT4gcmMydAogICAgZmMgLS0+IGZjaAogICAgZmMgLS0+IGZjdAo=\"/>"
      ],
      "text/plain": [
       "<IPython.core.display.Image object>"
      ]
     },
     "metadata": {},
     "output_type": "display_data"
    }
   ],
   "source": [
    "mm(\"\"\"\n",
    "flowchart TB\n",
    "    first[\"`1`\"]\n",
    "    rc1[\"`P(RC1) = 1/3`\"]\n",
    "    rc1h[\"`P(RC1H) = 1/3 * 1/2 = 1/6`\"]\n",
    "    rc1t[\"`P(RC1T) = 1/3 * 1/2 = 1/6`\"]\n",
    "    rc2[\"`P(RC2) = 1/3`\"]\n",
    "    rc2h[\"`P(RC2H) = 1/3 * 1/2 = 1/6`\"]\n",
    "    rc2t[\"`P(RC2T) = 1/3 * 1/2 = 1/6`\"]\n",
    "    fc[\"`P(FC) = 1/3`\"]\n",
    "    fch[\"`P(FCH) = 1/3 * 1 = 1/3`\"]\n",
    "    fct[\"`P(RCT) = 1/3 * 0 = 0`\"]\n",
    "    first --> rc1\n",
    "    first --> rc2\n",
    "    first --> fc\n",
    "    rc1 --> rc1h\n",
    "    rc1 --> rc1t\n",
    "    rc2 --> rc2h\n",
    "    rc2 --> rc2t\n",
    "    fc --> fch\n",
    "    fc --> fct\n",
    "\"\"\")"
   ]
  },
  {
   "cell_type": "code",
   "execution_count": 44,
   "metadata": {},
   "outputs": [
    {
     "name": "stdout",
     "output_type": "stream",
     "text": [
      "0.6666666666666666\n"
     ]
    },
    {
     "data": {
      "text/plain": [
       "0.6666666666666666"
      ]
     },
     "execution_count": 44,
     "metadata": {},
     "output_type": "execute_result"
    }
   ],
   "source": [
    "# You pick a coin at random and toss it. What is the probability that it lands heads up?\n",
    "print(2/3)\n",
    "p_h = (1/6) + (1/6) + (1/3)\n",
    "p_h"
   ]
  },
  {
   "cell_type": "code",
   "execution_count": 52,
   "metadata": {},
   "outputs": [
    {
     "data": {
      "text/plain": [
       "0.5"
      ]
     },
     "execution_count": 52,
     "metadata": {},
     "output_type": "execute_result"
    }
   ],
   "source": [
    "# You pick a coin at random and toss it, and get heads. What is the probability that it is the two-headed coin?\n",
    "p_h_fc = 1\n",
    "p_fc_h = (1 * 1/3)/p_h\n",
    "p_fc_h"
   ]
  },
  {
   "cell_type": "code",
   "execution_count": null,
   "metadata": {},
   "outputs": [],
   "source": []
  }
 ],
 "metadata": {
  "kernelspec": {
   "display_name": "Python 3 (ipykernel)",
   "language": "python",
   "name": "python3"
  },
  "language_info": {
   "codemirror_mode": {
    "name": "ipython",
    "version": 3
   },
   "file_extension": ".py",
   "mimetype": "text/x-python",
   "name": "python",
   "nbconvert_exporter": "python",
   "pygments_lexer": "ipython3",
   "version": "3.10.9"
  }
 },
 "nbformat": 4,
 "nbformat_minor": 2
}
