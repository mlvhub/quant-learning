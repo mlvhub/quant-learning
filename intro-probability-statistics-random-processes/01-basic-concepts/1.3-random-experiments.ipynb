{
 "cells": [
  {
   "cell_type": "code",
   "execution_count": 13,
   "metadata": {},
   "outputs": [],
   "source": [
    "from sympy import *\n",
    "import numpy as np\n",
    "import itertools"
   ]
  },
  {
   "cell_type": "markdown",
   "metadata": {},
   "source": [
    "## 1.3.1 Random Experiments\n",
    "\n",
    "**Outcome:** A result of a random experiment.<br>\n",
    "**Sample** Space: The set of all possible outcomes.<br>\n",
    "**Event:** A subset of the sample space.\n"
   ]
  },
  {
   "cell_type": "markdown",
   "metadata": {},
   "source": [
    "## 1.3.2 Probability"
   ]
  },
  {
   "cell_type": "markdown",
   "metadata": {},
   "source": [
    "Axioms of probability:\n",
    "\n",
    "- Axiom 1: for any event $A$, $P(A) \\geq 0$\n",
    "- Axiom 2: probability of the sample $S$ is $P(S) = 1$\n",
    "- Axiom 3: if $A_1, A_2, A_3 \\cdots$ are disjoint events, then $P(A_1 \\cup A_2 \\cup A_3 \\cdots) = P(A_1) + P(A_2) + P(A_3) + \\cdots$"
   ]
  },
  {
   "cell_type": "markdown",
   "metadata": {},
   "source": [
    "Notation:\n",
    "\n",
    "$$\n",
    "P(A \\cap B) = P(A \\text{ and } B) = P(A, B)\n",
    "\\\\\n",
    "P(A \\cup B) = P(A \\text{ or } B)\n",
    "$$"
   ]
  },
  {
   "cell_type": "markdown",
   "metadata": {},
   "source": [
    "## 1.3.3 Finding Probabilities"
   ]
  },
  {
   "cell_type": "markdown",
   "metadata": {},
   "source": [
    "Using the axioms of probability we can prove (see example 1.10 for proofs):\n",
    "- for any event $A$, $P(A^c) = 1 - P(A)$\n",
    "- the probability of the empty set is zero, i.e. $P(\\empty) = 0$\n",
    "- for any event $A$, $P(A) \\leq 1$\n",
    "- $P(A - B) = P(A) - P(A \\cap B)$\n",
    "- $P(A \\cup B) = P(A) + P(B) - P(A \\cap B)$ (inclusion-exclusion principle for $n=2$)\n",
    "- if $A \\subset B$ then $P(A) \\leq P(B)$\n"
   ]
  },
  {
   "cell_type": "markdown",
   "metadata": {},
   "source": [
    "**Example 1.11**\n",
    "\n",
    "$A$: rain today<br>\n",
    "$B$: rain tomorrow<br>\n",
    "$P(A^c \\cap B^c)$: no rain either day\n",
    "\n",
    "$$\n",
    "P(A) = 0.6\n",
    "\\\\\n",
    "P(B) = 0.5\n",
    "\\\\\n",
    "P(A^c \\cap B^c) = 0.3\n",
    "$$"
   ]
  },
  {
   "cell_type": "markdown",
   "metadata": {},
   "source": [
    "**a.** The probability that it will rain today or tomorrow:\n",
    "\n",
    "$$\n",
    "\\begin{aligned}\n",
    "P(A \\cup B) &= 1 - P(A \\cup B)^c \\\\\n",
    "&= 1 - P(A^c \\cap B^c) && \\text{by DeMorgan's Law} \\\\\n",
    "&= 1 - 0.3 \\\\\n",
    "&= 0.7\n",
    "\\end{aligned}\n",
    "$$"
   ]
  },
  {
   "cell_type": "markdown",
   "metadata": {},
   "source": [
    "**b.** The probability that it will rain today and tomorrow.\n",
    "\n",
    "$$\n",
    "\\begin{aligned}\n",
    "P(A \\cap B) &= P(A) + P(B) - P(A \\cup B) \\\\\n",
    "&= 0.6 + 0.5 - 0.7 \\\\\n",
    "&= 0.4 \\\\\n",
    "\\end{aligned}\n",
    "$$"
   ]
  },
  {
   "cell_type": "markdown",
   "metadata": {},
   "source": [
    "**c.** The probability that it will rain today but not tomorrow.\n",
    "\n",
    "$$\n",
    "\\begin{aligned}\n",
    "P(A \\cap B^c) &= P(A - B) \\\\\n",
    "&= P(A) - P(A \\cap B) \\\\\n",
    "&= 0.6 - 0.4 \\\\\n",
    "&= 0.2\n",
    "\\end{aligned}\n",
    "$$"
   ]
  },
  {
   "cell_type": "markdown",
   "metadata": {},
   "source": [
    "**d.** The probability that it either will rain today or tomorrow, but not both.\n",
    "\n",
    "$$\n",
    "\\begin{aligned}\n",
    "P(A - B) + P(B - A) &= 0.2 + P(B) - P(B \\cap A) \\\\\n",
    "&= 0.2 + 0.5 - 0.4  \\\\\n",
    "&= 0.3\n",
    "\\end{aligned}\n",
    "$$"
   ]
  },
  {
   "cell_type": "markdown",
   "metadata": {},
   "source": [
    "**Inclusion-Exclusion Principle:**\n",
    "\n",
    "$$\n",
    "P(A \\cup B \\cup C) = P(A) + P(B) + P(C) - P(A \\cap B) - P(A \\cap C) - P(B \\cap C) - P(A \\cap B \\cap C)\n",
    "$$"
   ]
  },
  {
   "cell_type": "markdown",
   "metadata": {},
   "source": [
    "## 1.3.4 Discrete Probability Models\n",
    "\n",
    "If a sample space $S$ is a countable set, this refers to a **discrete** probability model. \n",
    "\n",
    "In a countable sample space, to find probability of an event, all we need to do is sum the probability of individual elements in that set.\n",
    "\n",
    "**Finite Sample Spaces with Equally Likely Outcomes:**\n",
    "\n",
    "$$\n",
    "P(A) = \\frac{|A|}{|S|}\n",
    "$$\n",
    "\n",
    "Thus, finding probability of $A$ reduces to a counting problem in which we need to count how many elements are in $A$ and $S$."
   ]
  },
  {
   "cell_type": "markdown",
   "metadata": {},
   "source": [
    "## 1.3.5 Continuous Probability Models"
   ]
  },
  {
   "cell_type": "markdown",
   "metadata": {},
   "source": [
    "## 1.3.6 Solved Problems: Random Experiments and Probabilities"
   ]
  },
  {
   "cell_type": "markdown",
   "metadata": {},
   "source": [
    "## 4"
   ]
  },
  {
   "cell_type": "code",
   "execution_count": 1,
   "metadata": {},
   "outputs": [
    {
     "data": {
      "text/plain": [
       "[(1, 1),\n",
       " (1, 2),\n",
       " (1, 3),\n",
       " (1, 4),\n",
       " (1, 5),\n",
       " (1, 6),\n",
       " (2, 1),\n",
       " (2, 2),\n",
       " (2, 3),\n",
       " (2, 4),\n",
       " (2, 5),\n",
       " (2, 6),\n",
       " (3, 1),\n",
       " (3, 2),\n",
       " (3, 3),\n",
       " (3, 4),\n",
       " (3, 5),\n",
       " (3, 6),\n",
       " (4, 1),\n",
       " (4, 2),\n",
       " (4, 3),\n",
       " (4, 4),\n",
       " (4, 5),\n",
       " (4, 6),\n",
       " (5, 1),\n",
       " (5, 2),\n",
       " (5, 3),\n",
       " (5, 4),\n",
       " (5, 5),\n",
       " (5, 6),\n",
       " (6, 1),\n",
       " (6, 2),\n",
       " (6, 3),\n",
       " (6, 4),\n",
       " (6, 5),\n",
       " (6, 6)]"
      ]
     },
     "execution_count": 1,
     "metadata": {},
     "output_type": "execute_result"
    }
   ],
   "source": [
    "trials = list(itertools.product([1,2,3,4,5,6], repeat=2))\n",
    "trials"
   ]
  },
  {
   "cell_type": "code",
   "execution_count": 2,
   "metadata": {},
   "outputs": [
    {
     "name": "stdout",
     "output_type": "stream",
     "text": [
      "0.4166666666666667\n"
     ]
    },
    {
     "data": {
      "text/plain": [
       "0.4166666666666667"
      ]
     },
     "execution_count": 2,
     "metadata": {},
     "output_type": "execute_result"
    }
   ],
   "source": [
    "print(5/12)\n",
    "len([(x1, x2) for (x1, x2) in trials if x1 < x2])/len(trials)"
   ]
  },
  {
   "cell_type": "code",
   "execution_count": 3,
   "metadata": {},
   "outputs": [
    {
     "name": "stdout",
     "output_type": "stream",
     "text": [
      "0.3055555555555556\n"
     ]
    },
    {
     "data": {
      "text/plain": [
       "0.3055555555555556"
      ]
     },
     "execution_count": 3,
     "metadata": {},
     "output_type": "execute_result"
    }
   ],
   "source": [
    "print(11/36)    \n",
    "len([(x1, x2) for (x1, x2) in trials if x1 == 6 or x2 == 6])/len(trials)"
   ]
  },
  {
   "cell_type": "markdown",
   "metadata": {},
   "source": [
    "## 5"
   ]
  },
  {
   "cell_type": "code",
   "execution_count": 9,
   "metadata": {},
   "outputs": [
    {
     "data": {
      "text/latex": [
       "$\\displaystyle e^{- \\frac{t}{5}}$"
      ],
      "text/plain": [
       "exp(-t/5)"
      ]
     },
     "execution_count": 9,
     "metadata": {},
     "output_type": "execute_result"
    }
   ],
   "source": [
    "t = symbols('t')\n",
    "\n",
    "f = exp(-t/5)\n",
    "f"
   ]
  },
  {
   "cell_type": "code",
   "execution_count": 10,
   "metadata": {},
   "outputs": [
    {
     "data": {
      "text/latex": [
       "$\\displaystyle 1$"
      ],
      "text/plain": [
       "1"
      ]
     },
     "execution_count": 10,
     "metadata": {},
     "output_type": "execute_result"
    }
   ],
   "source": [
    "f.subs(t, 0)"
   ]
  },
  {
   "cell_type": "code",
   "execution_count": 11,
   "metadata": {},
   "outputs": [
    {
     "data": {
      "text/latex": [
       "$\\displaystyle 0$"
      ],
      "text/plain": [
       "0"
      ]
     },
     "execution_count": 11,
     "metadata": {},
     "output_type": "execute_result"
    }
   ],
   "source": [
    "limit(f, t, S.Infinity)"
   ]
  },
  {
   "cell_type": "code",
   "execution_count": 19,
   "metadata": {},
   "outputs": [],
   "source": [
    "for t1 in range(1, 10000):\n",
    "    t2 = t1 + np.random.randint(1, 100)\n",
    "    if f.subs(t, t2) > f.subs(t, t1):\n",
    "        print(\"FAILED: \", t1, t2)"
   ]
  },
  {
   "cell_type": "code",
   "execution_count": 21,
   "metadata": {},
   "outputs": [
    {
     "data": {
      "text/latex": [
       "$\\displaystyle 0.451188363905974$"
      ],
      "text/plain": [
       "0.451188363905974"
      ]
     },
     "execution_count": 21,
     "metadata": {},
     "output_type": "execute_result"
    }
   ],
   "source": [
    "(1 - f.subs(t, 3)).evalf()"
   ]
  },
  {
   "cell_type": "code",
   "execution_count": 24,
   "metadata": {},
   "outputs": [
    {
     "data": {
      "text/latex": [
       "$\\displaystyle 0.148410707042343$"
      ],
      "text/plain": [
       "0.148410707042343"
      ]
     },
     "execution_count": 24,
     "metadata": {},
     "output_type": "execute_result"
    }
   ],
   "source": [
    "(f.subs(t, 1) - f.subs(t, 2)).evalf()"
   ]
  },
  {
   "cell_type": "markdown",
   "metadata": {},
   "source": [
    "## 6"
   ]
  },
  {
   "cell_type": "code",
   "execution_count": null,
   "metadata": {},
   "outputs": [],
   "source": []
  }
 ],
 "metadata": {
  "kernelspec": {
   "display_name": "Python 3 (ipykernel)",
   "language": "python",
   "name": "python3"
  },
  "language_info": {
   "codemirror_mode": {
    "name": "ipython",
    "version": 3
   },
   "file_extension": ".py",
   "mimetype": "text/x-python",
   "name": "python",
   "nbconvert_exporter": "python",
   "pygments_lexer": "ipython3",
   "version": "3.10.9"
  }
 },
 "nbformat": 4,
 "nbformat_minor": 2
}
