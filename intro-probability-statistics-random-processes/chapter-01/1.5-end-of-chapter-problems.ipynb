{
 "cells": [
  {
   "cell_type": "code",
   "execution_count": 1,
   "metadata": {},
   "outputs": [],
   "source": [
    "import itertools\n",
    "from sympy import *\n",
    "import matplotlib.pyplot as plt\n",
    "import numpy as np"
   ]
  },
  {
   "cell_type": "code",
   "execution_count": 2,
   "metadata": {},
   "outputs": [],
   "source": [
    "import base64\n",
    "from IPython.display import Image, display\n",
    "\n",
    "def mm(graph):\n",
    "    graphbytes = graph.encode(\"utf8\")\n",
    "    base64_bytes = base64.b64encode(graphbytes)\n",
    "    base64_string = base64_bytes.decode(\"ascii\")\n",
    "    display(Image(url=\"https://mermaid.ink/img/\" + base64_string))"
   ]
  },
  {
   "cell_type": "markdown",
   "metadata": {},
   "source": [
    "# 1.5 End of Chapter Problems"
   ]
  },
  {
   "cell_type": "markdown",
   "metadata": {},
   "source": [
    "## 13"
   ]
  },
  {
   "cell_type": "code",
   "execution_count": 3,
   "metadata": {},
   "outputs": [],
   "source": [
    "p_a = 0.5\n",
    "p_d = 0.25"
   ]
  },
  {
   "cell_type": "code",
   "execution_count": 4,
   "metadata": {},
   "outputs": [
    {
     "data": {
      "text/plain": [
       "0.25"
      ]
     },
     "execution_count": 4,
     "metadata": {},
     "output_type": "execute_result"
    }
   ],
   "source": [
    "# a\n",
    "p_b = 1 - (p_a + p_d)\n",
    "p_b"
   ]
  },
  {
   "cell_type": "code",
   "execution_count": 5,
   "metadata": {},
   "outputs": [
    {
     "data": {
      "text/plain": [
       "0.5"
      ]
     },
     "execution_count": 5,
     "metadata": {},
     "output_type": "execute_result"
    }
   ],
   "source": [
    "# b\n",
    "p_b_d = p_b + p_d\n",
    "p_b_d"
   ]
  },
  {
   "cell_type": "markdown",
   "metadata": {},
   "source": [
    "## 14"
   ]
  },
  {
   "cell_type": "code",
   "execution_count": 6,
   "metadata": {},
   "outputs": [],
   "source": [
    "p_a = 0.4\n",
    "p_b = 0.7\n",
    "p_a_u_b = 0.9"
   ]
  },
  {
   "cell_type": "code",
   "execution_count": 7,
   "metadata": {},
   "outputs": [
    {
     "data": {
      "text/plain": [
       "0.20000000000000007"
      ]
     },
     "execution_count": 7,
     "metadata": {},
     "output_type": "execute_result"
    }
   ],
   "source": [
    "# a\n",
    "p_a_i_b = p_a + p_b - p_a_u_b\n",
    "p_a_i_b"
   ]
  },
  {
   "cell_type": "code",
   "execution_count": 8,
   "metadata": {},
   "outputs": [
    {
     "data": {
      "text/plain": [
       "0.4999999999999999"
      ]
     },
     "execution_count": 8,
     "metadata": {},
     "output_type": "execute_result"
    }
   ],
   "source": [
    "# b\n",
    "p_ac_i_b = p_b - p_a_i_b\n",
    "p_ac_i_b"
   ]
  },
  {
   "cell_type": "code",
   "execution_count": 9,
   "metadata": {},
   "outputs": [
    {
     "data": {
      "text/plain": [
       "0.19999999999999996"
      ]
     },
     "execution_count": 9,
     "metadata": {},
     "output_type": "execute_result"
    }
   ],
   "source": [
    "# c\n",
    "p_a_m_b = p_a - p_a_i_b\n",
    "p_a_m_b"
   ]
  },
  {
   "cell_type": "code",
   "execution_count": 10,
   "metadata": {},
   "outputs": [
    {
     "data": {
      "text/plain": [
       "0.09999999999999998"
      ]
     },
     "execution_count": 10,
     "metadata": {},
     "output_type": "execute_result"
    }
   ],
   "source": [
    "# d\n",
    "p_ac_m_b = 1 - p_a_u_b\n",
    "p_ac_m_b"
   ]
  },
  {
   "cell_type": "code",
   "execution_count": 11,
   "metadata": {},
   "outputs": [
    {
     "data": {
      "text/plain": [
       "0.7999999999999999"
      ]
     },
     "execution_count": 11,
     "metadata": {},
     "output_type": "execute_result"
    }
   ],
   "source": [
    "# e\n",
    "p_ac_u_b = p_ac_m_b + p_b\n",
    "p_ac_u_b"
   ]
  },
  {
   "cell_type": "code",
   "execution_count": 12,
   "metadata": {},
   "outputs": [
    {
     "data": {
      "text/plain": [
       "0.20000000000000007"
      ]
     },
     "execution_count": 12,
     "metadata": {},
     "output_type": "execute_result"
    }
   ],
   "source": [
    "# f\n",
    "# there is no intersection between $a$ and $a^c$\n",
    "p_a_i_b"
   ]
  },
  {
   "cell_type": "markdown",
   "metadata": {},
   "source": [
    "## 15"
   ]
  },
  {
   "cell_type": "code",
   "execution_count": 13,
   "metadata": {},
   "outputs": [
    {
     "data": {
      "text/plain": [
       "0.16666666666666666"
      ]
     },
     "execution_count": 13,
     "metadata": {},
     "output_type": "execute_result"
    }
   ],
   "source": [
    "# a\n",
    "1/6"
   ]
  },
  {
   "cell_type": "code",
   "execution_count": 14,
   "metadata": {},
   "outputs": [
    {
     "name": "stdout",
     "output_type": "stream",
     "text": [
      "36\n"
     ]
    }
   ],
   "source": [
    "trials = list(itertools.product(range(1, 7), repeat=2))\n",
    "print(len(trials))\n",
    "#trials"
   ]
  },
  {
   "cell_type": "code",
   "execution_count": 15,
   "metadata": {},
   "outputs": [
    {
     "data": {
      "text/plain": [
       "[(1, 6), (2, 5), (3, 4), (4, 3), (5, 2), (6, 1)]"
      ]
     },
     "execution_count": 15,
     "metadata": {},
     "output_type": "execute_result"
    }
   ],
   "source": [
    "[(x, y) for (x, y) in trials if x + y == 7]"
   ]
  },
  {
   "cell_type": "code",
   "execution_count": 16,
   "metadata": {},
   "outputs": [
    {
     "data": {
      "text/plain": [
       "0.16666666666666666"
      ]
     },
     "execution_count": 16,
     "metadata": {},
     "output_type": "execute_result"
    }
   ],
   "source": [
    "# b\n",
    "6 / 36"
   ]
  },
  {
   "cell_type": "code",
   "execution_count": 17,
   "metadata": {},
   "outputs": [
    {
     "data": {
      "text/plain": [
       "0.4166666666666667"
      ]
     },
     "execution_count": 17,
     "metadata": {},
     "output_type": "execute_result"
    }
   ],
   "source": [
    "# c\n",
    "(5/6) * (3/6)"
   ]
  },
  {
   "cell_type": "markdown",
   "metadata": {},
   "source": [
    "## 17"
   ]
  },
  {
   "cell_type": "code",
   "execution_count": 18,
   "metadata": {},
   "outputs": [],
   "source": [
    "# p_a = p_b\n",
    "# p_c = 2 * p_d\n",
    "# p_a_u_c = p_a + p_c\n",
    "# p_a + p_b + p_c + p_d = 1\n",
    "p_a_u_c = 0.6\n",
    "p_a = 0.2\n",
    "p_b = 0.2\n",
    "p_c = 0.4\n",
    "p_d = 0.2"
   ]
  },
  {
   "cell_type": "code",
   "execution_count": 19,
   "metadata": {},
   "outputs": [
    {
     "data": {
      "text/plain": [
       "array([0.2, 0.2, 0.4, 0.2])"
      ]
     },
     "execution_count": 19,
     "metadata": {},
     "output_type": "execute_result"
    }
   ],
   "source": [
    "# 1a - 1b = 0\n",
    "# 1c - 2d = 0\n",
    "# 1a + 1c = 0.6\n",
    "# 1a + 1b + 1c + 1d = 1 \n",
    "A = np.array([[1, -1, 0, 0], [0, 0, 1, -2], [1, 0, 1, 0], [1, 1, 1, 1]])\n",
    "b = np.array([0, 0, 0.6, 1])\n",
    "x = np.linalg.solve(A, b)\n",
    "x"
   ]
  },
  {
   "cell_type": "markdown",
   "metadata": {},
   "source": [
    "## 18"
   ]
  },
  {
   "cell_type": "code",
   "execution_count": 20,
   "metadata": {},
   "outputs": [
    {
     "data": {
      "text/plain": [
       "0.0625"
      ]
     },
     "execution_count": 20,
     "metadata": {},
     "output_type": "execute_result"
    }
   ],
   "source": [
    "# a\n",
    "1/16"
   ]
  },
  {
   "cell_type": "code",
   "execution_count": 21,
   "metadata": {},
   "outputs": [
    {
     "data": {
      "text/plain": [
       "0.75"
      ]
     },
     "execution_count": 21,
     "metadata": {},
     "output_type": "execute_result"
    }
   ],
   "source": [
    "# b\n",
    "1 - (1/16)*2**2"
   ]
  },
  {
   "cell_type": "code",
   "execution_count": 22,
   "metadata": {},
   "outputs": [
    {
     "data": {
      "text/plain": [
       "0.5"
      ]
     },
     "execution_count": 22,
     "metadata": {},
     "output_type": "execute_result"
    }
   ],
   "source": [
    "(1/16)*3**2 - (1/16)*1**2"
   ]
  },
  {
   "cell_type": "markdown",
   "metadata": {},
   "source": [
    "## 22"
   ]
  },
  {
   "cell_type": "code",
   "execution_count": 23,
   "metadata": {},
   "outputs": [
    {
     "data": {
      "text/plain": [
       "0.5"
      ]
     },
     "execution_count": 23,
     "metadata": {},
     "output_type": "execute_result"
    }
   ],
   "source": [
    "p_coffee = 0.7\n",
    "p_cake = 0.4\n",
    "p_both = 0.2\n",
    "\n",
    "p_coffee_given_cake = p_both / p_cake\n",
    "p_coffee_given_cake"
   ]
  },
  {
   "cell_type": "markdown",
   "metadata": {},
   "source": [
    "# 23"
   ]
  },
  {
   "cell_type": "code",
   "execution_count": 24,
   "metadata": {},
   "outputs": [],
   "source": [
    "p_a = 0.5\n",
    "p_b = 0.35\n",
    "p_c = 0.4"
   ]
  },
  {
   "cell_type": "code",
   "execution_count": 25,
   "metadata": {},
   "outputs": [
    {
     "data": {
      "text/plain": [
       "0.5714285714285715"
      ]
     },
     "execution_count": 25,
     "metadata": {},
     "output_type": "execute_result"
    }
   ],
   "source": [
    "# a\n",
    "p_a_i_b = 0.2\n",
    "\n",
    "p_a_given_b = p_a_i_b / p_b\n",
    "p_a_given_b"
   ]
  },
  {
   "cell_type": "code",
   "execution_count": 26,
   "metadata": {},
   "outputs": [
    {
     "data": {
      "text/plain": [
       "0.4285714285714286"
      ]
     },
     "execution_count": 26,
     "metadata": {},
     "output_type": "execute_result"
    }
   ],
   "source": [
    "# b\n",
    "p_c_i_b = 0.15\n",
    "\n",
    "p_c_given_b =  p_c_i_b / p_b\n",
    "p_c_given_b"
   ]
  },
  {
   "cell_type": "code",
   "execution_count": 27,
   "metadata": {},
   "outputs": [
    {
     "data": {
      "text/plain": [
       "0.35714285714285715"
      ]
     },
     "execution_count": 27,
     "metadata": {},
     "output_type": "execute_result"
    }
   ],
   "source": [
    "# c\n",
    "p_a_i_c = 0.2\n",
    "p_a_u_c = p_a + p_c - p_a_i_c\n",
    "p_b_i_a_u_c = 0.25\n",
    "\n",
    "p_b_given_a_u_c = p_b_i_a_u_c / p_a_u_c\n",
    "p_b_given_a_u_c"
   ]
  },
  {
   "cell_type": "code",
   "execution_count": 28,
   "metadata": {},
   "outputs": [
    {
     "data": {
      "text/plain": [
       "0.5"
      ]
     },
     "execution_count": 28,
     "metadata": {},
     "output_type": "execute_result"
    }
   ],
   "source": [
    "# d\n",
    "p_b_i_a_i_c = 0.1\n",
    "p_b_given_a_i_c = p_b_i_a_i_c / p_a_i_c\n",
    "p_b_given_a_i_c"
   ]
  },
  {
   "cell_type": "markdown",
   "metadata": {},
   "source": [
    "## 24"
   ]
  },
  {
   "cell_type": "code",
   "execution_count": 29,
   "metadata": {},
   "outputs": [
    {
     "data": {
      "text/plain": [
       "0.3"
      ]
     },
     "execution_count": 29,
     "metadata": {},
     "output_type": "execute_result"
    }
   ],
   "source": [
    "# a\n",
    "3/10"
   ]
  },
  {
   "cell_type": "code",
   "execution_count": 30,
   "metadata": {},
   "outputs": [
    {
     "data": {
      "text/plain": [
       "0.4"
      ]
     },
     "execution_count": 30,
     "metadata": {},
     "output_type": "execute_result"
    }
   ],
   "source": [
    "# b\n",
    "2/5"
   ]
  },
  {
   "cell_type": "code",
   "execution_count": 31,
   "metadata": {},
   "outputs": [
    {
     "data": {
      "text/plain": [
       "0.6666666666666666"
      ]
     },
     "execution_count": 31,
     "metadata": {},
     "output_type": "execute_result"
    }
   ],
   "source": [
    "4/6"
   ]
  },
  {
   "cell_type": "markdown",
   "metadata": {},
   "source": [
    "## 25\n",
    "\n",
    "120/600 got As.\n",
    "200/600 lived on campus.\n",
    "80/120 lived off campus given they got an A.\n",
    "\n",
    "More students lived off campus that got an A.\n",
    "\n",
    "A. Independent "
   ]
  },
  {
   "cell_type": "markdown",
   "metadata": {},
   "source": [
    "## 27"
   ]
  },
  {
   "cell_type": "code",
   "execution_count": 45,
   "metadata": {},
   "outputs": [
    {
     "data": {
      "text/html": [
       "<img src=\"https://mermaid.ink/img/CmZsb3djaGFydCBUQgogICAgZmlyc3RbImAxYCJdCiAgICBnWyJgUChHKSA9IDAuOGAiXQogICAgZWdbImBQKEcg4ouCIEUpID0gMC4wOGAiXQogICAgZWNnWyJgUChHIOKLgiBFXmMpID0gMC43MmAiXQogICAgZ2NbImBQKEdeYykgPSAwLjJgIl0KICAgIGVnY1siYFAoR15jIOKLgiBFKSA9IDAuMDZgIl0KICAgIGVjZ2NbImBQKEdeYyDii4IgRV5jKSA9IDAuMTRgIl0KICAgIGZpcnN0IC0tPnwwLjh8IGcKICAgIGZpcnN0IC0tPnwwLjJ8IGdjCiAgICBnIC0tPnwiUChFfEcpID0gMC4xInwgZWcKICAgIGcgLS0+fCJQKEVeY3xHKSA9IDAuOSJ8IGVjZwogICAgZ2MgLS0+fCJQKEV8R15jKSA9IDAuMyJ8IGVnYwogICAgZ2MgLS0+fCJQKEVeY3xHXmMpID0gMC43InwgZWNnYwo=\"/>"
      ],
      "text/plain": [
       "<IPython.core.display.Image object>"
      ]
     },
     "metadata": {},
     "output_type": "display_data"
    }
   ],
   "source": [
    "# a\n",
    "\n",
    "mm(\"\"\"\n",
    "flowchart TB\n",
    "    first[\"`1`\"]\n",
    "    g[\"`P(G) = 0.8`\"]\n",
    "    eg[\"`P(G ⋂ E) = 0.08`\"]\n",
    "    ecg[\"`P(G ⋂ E^c) = 0.72`\"]\n",
    "    gc[\"`P(G^c) = 0.2`\"]\n",
    "    egc[\"`P(G^c ⋂ E) = 0.06`\"]\n",
    "    ecgc[\"`P(G^c ⋂ E^c) = 0.14`\"]\n",
    "    first -->|0.8| g\n",
    "    first -->|0.2| gc\n",
    "    g -->|\"P(E|G) = 0.1\"| eg\n",
    "    g -->|\"P(E^c|G) = 0.9\"| ecg\n",
    "    gc -->|\"P(E|G^c) = 0.3\"| egc\n",
    "    gc -->|\"P(E^c|G^c) = 0.7\"| ecgc\n",
    "\"\"\")"
   ]
  },
  {
   "cell_type": "code",
   "execution_count": 46,
   "metadata": {},
   "outputs": [
    {
     "data": {
      "text/plain": [
       "0.14"
      ]
     },
     "execution_count": 46,
     "metadata": {},
     "output_type": "execute_result"
    }
   ],
   "source": [
    "# b\n",
    "\n",
    "p_e = 0.08 + 0.06\n",
    "p_e"
   ]
  },
  {
   "cell_type": "code",
   "execution_count": 47,
   "metadata": {},
   "outputs": [
    {
     "data": {
      "text/plain": [
       "0.8372093023255813"
      ]
     },
     "execution_count": 47,
     "metadata": {},
     "output_type": "execute_result"
    }
   ],
   "source": [
    "# c\n",
    "p_g_ec = 0.72 / (1 - p_e)\n",
    "p_g_ec"
   ]
  },
  {
   "cell_type": "markdown",
   "metadata": {},
   "source": [
    "## 28"
   ]
  },
  {
   "cell_type": "code",
   "execution_count": 51,
   "metadata": {},
   "outputs": [
    {
     "data": {
      "text/plain": [
       "0.1380643166357452"
      ]
     },
     "execution_count": 51,
     "metadata": {},
     "output_type": "execute_result"
    }
   ],
   "source": [
    "p_a1 = (5/100) * (95/99) * (94/98)\n",
    "p_a2 = (95/100) * (5/99) * (94/98)\n",
    "p_a3 = (95/100) * (94/99) * (5/98)\n",
    "\n",
    "p_a1 + p_a2 + p_a3"
   ]
  },
  {
   "cell_type": "markdown",
   "metadata": {},
   "source": [
    "## 29"
   ]
  },
  {
   "cell_type": "markdown",
   "metadata": {},
   "source": [
    "**a**\n",
    "\n",
    "$$\n",
    "P(f) = P_{c1} \\cdot P_{c2} \\cdot P_{c3}\n",
    "$$"
   ]
  },
  {
   "cell_type": "markdown",
   "metadata": {},
   "source": [
    "**b**\n",
    "\n",
    "$$\n",
    "P(f) = P_{c1} + P_{c2} + P_{c3} + P_{c1}P_{c2} + P_{c1}P_{c3} + P_{c2}P_{c3} + P_{c1}P_{c2}P_{c3}\n",
    "\\\\\n",
    "P(f) = 1 - P_{c1}^cP_{c2}^cP_{c3}^c\n",
    "$$"
   ]
  },
  {
   "cell_type": "markdown",
   "metadata": {},
   "source": [
    "**c**\n",
    "\n",
    "$$\n",
    "P(C_1, C_2) = P_{C_1} + P_{C_2} + P_{C_1}P_{C_2}\n",
    "\\\\\n",
    "P(C_1, C_2) = 1 - P_{C_1}^cP_{C_2}^c\n",
    "\\\\\n",
    "P(f) = P(C_1, C_2)P_{C_3}\n",
    "\\\\\n",
    "P(f) = (1 - P_{C_1}^cP_{C_2}^c)P_{C_3}\n",
    "\\\\\n",
    "P(f) = (1 - (1 - P_{C_1})(1 - P_{C_2}))P_{C_3}\n",
    "$$"
   ]
  },
  {
   "cell_type": "markdown",
   "metadata": {},
   "source": [
    "**d**\n",
    "\n",
    "$$\n",
    "P(C_1, C_2) = P_{C_1}P_{C_2}\n",
    "\\\\\n",
    "P(f) = P(C_1, C_2) + P_{C_3} + P(C_1, C_2)P_{C_3}\n",
    "\\\\\n",
    "P(f) = (1 - P(C_1, C_2)^c)(1 - P_{C_3}^c)\n",
    "\\\\\n",
    "P(f) = 1 - (1 - P(C_1, C_2))(1 - P_{C_3})\n",
    "$$"
   ]
  },
  {
   "cell_type": "markdown",
   "metadata": {},
   "source": [
    "**e**\n",
    "\n",
    "$$\n",
    "P(C_1, C_2) = P_{C_1}P_{C_2}\n",
    "\\\\\n",
    "P(C_3, C_4) = P_{C_3}P_{C_4}\n",
    "\\\\\n",
    "P(C_1, C_2, C_3, C_4) = (1 - P_{C_1}P_{C_2}^c)(1 - P_{C_3}P_{C_4}^c)\n",
    "\\\\\n",
    "P(C_1, C_2, C_3, C_4) = 1 - (1 - P_{C_1}P_{C_2})(1 - P_{C_3}P_{C_4})\n",
    "\\\\\n",
    "P(f) = P(C_1, C_2, C_3, C_4)P_{C_5}\n",
    "\\\\\n",
    "P(f) = (1 - (1 - P_{C_1}P_{C_2})(1 - P_{C_3}P_{C_4}))P_{C_5}\n",
    "$$"
   ]
  },
  {
   "cell_type": "markdown",
   "metadata": {},
   "source": [
    "## 31"
   ]
  },
  {
   "cell_type": "code",
   "execution_count": 54,
   "metadata": {},
   "outputs": [
    {
     "data": {
      "text/plain": [
       "0.999000999000999"
      ]
     },
     "execution_count": 54,
     "metadata": {},
     "output_type": "execute_result"
    }
   ],
   "source": [
    "p_s = 0.5\n",
    "p_r_g_s = 0.01\n",
    "p_r_g_sc = 0.00001\n",
    "p_r = p_r_g_s*p_s + p_r_g_sc*(1-p_s)\n",
    "\n",
    "p_s_g_r = (p_r_g_s * p_s) / p_r\n",
    "p_s_g_r"
   ]
  },
  {
   "cell_type": "code",
   "execution_count": null,
   "metadata": {},
   "outputs": [],
   "source": []
  }
 ],
 "metadata": {
  "kernelspec": {
   "display_name": "Python 3 (ipykernel)",
   "language": "python",
   "name": "python3"
  },
  "language_info": {
   "codemirror_mode": {
    "name": "ipython",
    "version": 3
   },
   "file_extension": ".py",
   "mimetype": "text/x-python",
   "name": "python",
   "nbconvert_exporter": "python",
   "pygments_lexer": "ipython3",
   "version": "3.10.9"
  }
 },
 "nbformat": 4,
 "nbformat_minor": 2
}
